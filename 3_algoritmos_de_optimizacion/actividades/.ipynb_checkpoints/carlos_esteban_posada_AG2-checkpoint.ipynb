{
 "cells": [
  {
   "cell_type": "markdown",
   "metadata": {
    "id": "imL3GPdguTjq"
   },
   "source": [
    "Actividad Guiada 2 del curso: Algoritmos de optimización"
   ]
  },
  {
   "cell_type": "markdown",
   "metadata": {
    "id": "5m4dwIjguEhI"
   },
   "source": [
    "**Nombre**: Carlos Esteban Posada  \n",
    "**URL**: https://colab.research.google.com/drive/1hESA5X-TeFVtTEO9NyGfugsqYg_Ujs-I?usp=sharing\n",
    "\n",
    "\n",
    "**URL GIT**: https://github.com/cposada8/03MAIR-Algoritmos-de-Optimizacion-CEPM/blob/main/carlos_esteban_posada_AG2.ipynb"
   ]
  },
  {
   "cell_type": "code",
   "execution_count": null,
   "metadata": {
    "id": "BFuO8mUjr_cO"
   },
   "outputs": [],
   "source": [
    "import math\n",
    "import numpy as np\n",
    "import itertools\n",
    "from time import time\n",
    "import matplotlib.pyplot as plt"
   ]
  },
  {
   "cell_type": "markdown",
   "metadata": {
    "id": "FrnpafibsN9R"
   },
   "source": [
    "## Viaje por el río"
   ]
  },
  {
   "cell_type": "code",
   "execution_count": null,
   "metadata": {
    "id": "mPqcjtn5r_eo"
   },
   "outputs": [],
   "source": [
    "tarifas = [\n",
    "[0,5,4,3,999,999,999],   #desde nodo 0\n",
    "[999,0,999,2,3,999,11],  #desde nodo 1\n",
    "[999,999, 0,1,999,4,10], #desde nodo 2\n",
    "[999,999,999, 0,5,6,9],\n",
    "[999,999, 999,999,0,999,4],\n",
    "[999,999, 999,999,999,0,3],\n",
    "[999,999,999,999,999,999,0]\n",
    "]"
   ]
  },
  {
   "cell_type": "code",
   "execution_count": null,
   "metadata": {
    "id": "VXxDGcDEJUEv"
   },
   "outputs": [],
   "source": [
    "hijos = [\n",
    "[1, 2, 3], # hijos del nodo 0\n",
    "[3, 4, 6], # hijos del nodo 1\n",
    "[3, 5, 6], # hijos del nodo 2\n",
    "[4, 5, 6],\n",
    "[6],\n",
    "[6],\n",
    "[]\n",
    "]"
   ]
  },
  {
   "cell_type": "code",
   "execution_count": null,
   "metadata": {
    "id": "njpG29Xzr_gv"
   },
   "outputs": [],
   "source": [
    "# función para generar el grafo inverso. \n",
    "# se recorre el grafo original y se buscan los padres\n",
    "def padres_de(grafo):\n",
    "  # se inicializa el grafo de padres (el inverso de hijos) todo con listas vacías\n",
    "  # es decir por ahora nadie tiene padre\n",
    "  padres = [[] for i in range(len(hijos))]\n",
    "\n",
    "  for padre in range(len(grafo)): # cada línea es un nodo\n",
    "    for hijo in grafo[padre]:\n",
    "      padres[hijo].append(padre)\n",
    "  return padres"
   ]
  },
  {
   "cell_type": "code",
   "execution_count": null,
   "metadata": {
    "colab": {
     "base_uri": "https://localhost:8080/"
    },
    "id": "RQRfrfnkr_jD",
    "outputId": "ea90f5bd-11ad-4f8d-d7c2-2e96cee7f3c8"
   },
   "outputs": [
    {
     "data": {
      "text/plain": [
       "[[], [0], [0], [0, 1, 2], [1, 3], [2, 3], [1, 2, 3, 4, 5]]"
      ]
     },
     "execution_count": 25,
     "metadata": {
      "tags": []
     },
     "output_type": "execute_result"
    }
   ],
   "source": [
    "# generación del grafo de padres (grafo inverso)\n",
    "padres = padres_de(hijos)\n",
    "padres"
   ]
  },
  {
   "cell_type": "code",
   "execution_count": null,
   "metadata": {
    "id": "A18FnE8ar_lN"
   },
   "outputs": [],
   "source": [
    "origen = 0\n",
    "objetivo = 6"
   ]
  },
  {
   "cell_type": "code",
   "execution_count": null,
   "metadata": {
    "colab": {
     "base_uri": "https://localhost:8080/"
    },
    "id": "ewMeONnTr_ny",
    "outputId": "74895193-dec7-4f4e-c48f-6acf68f8e092"
   },
   "outputs": [
    {
     "name": "stdout",
     "output_type": "stream",
     "text": [
      "[inf, inf, inf, inf, inf, inf, inf]\n",
      "set()\n",
      "[[], [], [], [], [], [], []]\n"
     ]
    }
   ],
   "source": [
    "# se inicializan los vectores que se usarán durantes las iteraciones del algoritmo\n",
    "distancias = [np.inf for x in range(len(hijos))] # vector de distancias desde cada nodo hasta el nodo objetivo\n",
    "visitados = set() # todos nodos que están perfectamente visitados\n",
    "rutas = [[] for x in range(len(hijos))] # representa el nodo óptimo al que se puede viajar desde el nodo dado\n",
    "print(distancias)\n",
    "print(visitados)\n",
    "print(rutas)"
   ]
  },
  {
   "cell_type": "code",
   "execution_count": null,
   "metadata": {
    "id": "RDhL4ziFr_pv"
   },
   "outputs": [],
   "source": [
    "# inicio visitando al nodo objetivo\n",
    "distancias[objetivo] = 0\n",
    "visitados.add(objetivo)"
   ]
  },
  {
   "cell_type": "code",
   "execution_count": null,
   "metadata": {
    "id": "Tengzks_r_uB"
   },
   "outputs": [],
   "source": [
    "# algoritmo de atrás hacia adelante\n",
    "queue = [] # cola para ir recorriendo los nodos desde el final\n",
    "\n",
    "# agregar los padres del objetivo\n",
    "for padre in padres[objetivo]:\n",
    "  queue.append(padre)\n",
    "\n",
    "# inicio del llenado de las distancias:\n",
    "while (queue) and (origen not in visitados):\n",
    "  # print(\"cola actual:\",queue)\n",
    "  elemento = queue.pop(0)\n",
    "  # print(\"elemento\", elemento)\n",
    "\n",
    "  # primero se verifica que el elemento no haya sido visitado ya:\n",
    "  if elemento in visitados:\n",
    "    continue\n",
    "\n",
    "  # verificar que el elemento no tenga hijos sin visitar\n",
    "  # si los tiene, se manda el elemento para el final de la lista\n",
    "  hijos_visitados = set(hijos[elemento]).intersection(visitados)\n",
    "  # print(\"hijos visitados\", hijos_visitados)\n",
    "  if len(hijos[elemento]) != len(hijos_visitados):\n",
    "    # print(elemento, hijos[elemento], \"tiene sin visitar\")\n",
    "    queue.append(elemento)\n",
    "    pass\n",
    "  else: # todos sus hijos están visitados\n",
    "\n",
    "    # se encuentra la distancia del elemento al objetivo pasando por cada hijo  \n",
    "    distancias_nodo = {}\n",
    "    for hijo in hijos[elemento]:\n",
    "      distancias_nodo[hijo] = distancias[hijo] + tarifas[elemento][hijo]\n",
    "    min_distancia = min(distancias_nodo.values())\n",
    "    # print(\"mindistancia\", min_distancia)\n",
    "\n",
    "    # se agregan la distancia del elemento al nodo objetivo, los visitados a la \n",
    "    # lista de visitados y se agregan las rutas óptimas desde el elemento\n",
    "    # hasta el objetivo\n",
    "    distancias[elemento] = min_distancia\n",
    "    visitados.add(elemento)\n",
    "    # enlistar todos los elementos de distancia minima\n",
    "    posibles_rutas = [key for key, val in distancias_nodo.items() if val == min_distancia]\n",
    "    # print(\"posibles_rutas\", posibles_rutas)\n",
    "    rutas[elemento] = posibles_rutas\n",
    "\n",
    "    # finalmente se agregan los padres del elemento a la cola\n",
    "    for padre in padres[elemento]:\n",
    "      queue.append(padre)\n",
    "\n",
    "  # print()"
   ]
  },
  {
   "cell_type": "code",
   "execution_count": null,
   "metadata": {
    "colab": {
     "base_uri": "https://localhost:8080/"
    },
    "id": "LScp_ovXr_wG",
    "outputId": "7c2082c0-f46d-4e03-907f-cd5ef9d28913"
   },
   "outputs": [
    {
     "name": "stdout",
     "output_type": "stream",
     "text": [
      "posibles rutas óptimas: [2]\n"
     ]
    }
   ],
   "source": [
    "print(\"posibles rutas óptimas:\", posibles_rutas)"
   ]
  },
  {
   "cell_type": "code",
   "execution_count": null,
   "metadata": {
    "colab": {
     "base_uri": "https://localhost:8080/"
    },
    "id": "Qh8eveNwr_0G",
    "outputId": "95092316-6548-447b-cbea-0611c773875f"
   },
   "outputs": [
    {
     "name": "stdout",
     "output_type": "stream",
     "text": [
      "Una ruta óptima es: [0, 2, 5, 6]\n",
      "con un costo total de: 11\n"
     ]
    }
   ],
   "source": [
    "# imprimir una ruta óptima\n",
    "ruta_optima = [origen]\n",
    "visitado = origen\n",
    "while (visitado != objetivo):\n",
    "  siguiente = rutas[visitado][0]\n",
    "  ruta_optima.append(siguiente)\n",
    "  visitado = siguiente\n",
    "print(\"Una ruta óptima es:\", ruta_optima)\n",
    "print(\"con un costo total de:\", distancias[origen])"
   ]
  },
  {
   "cell_type": "code",
   "execution_count": null,
   "metadata": {
    "id": "bX8oYdrhU0A0"
   },
   "outputs": [],
   "source": []
  },
  {
   "cell_type": "code",
   "execution_count": null,
   "metadata": {
    "id": "wlikp1trU0HL"
   },
   "outputs": [],
   "source": []
  },
  {
   "cell_type": "markdown",
   "metadata": {
    "id": "HPfKYr5BiWth"
   },
   "source": [
    "##Problema de Asignacion de tarea"
   ]
  },
  {
   "cell_type": "code",
   "execution_count": null,
   "metadata": {
    "id": "Z7ot-cc653A5"
   },
   "outputs": [],
   "source": [
    "COSTES=[[11,12,18,40],\n",
    "        [14,15,13,22],\n",
    "        [11,17,19,23],\n",
    "        [17,14,20,28]]"
   ]
  },
  {
   "cell_type": "code",
   "execution_count": null,
   "metadata": {
    "id": "bSZgdR1chDaZ"
   },
   "outputs": [],
   "source": []
  },
  {
   "cell_type": "code",
   "execution_count": null,
   "metadata": {
    "colab": {
     "base_uri": "https://localhost:8080/"
    },
    "id": "GLrebA2z64WP",
    "outputId": "9102e0fa-e840-4972-918c-9d834d99d84e"
   },
   "outputs": [
    {
     "data": {
      "text/plain": [
       "77"
      ]
     },
     "execution_count": 88,
     "metadata": {
      "tags": []
     },
     "output_type": "execute_result"
    }
   ],
   "source": [
    "def valor(S,COSTES):\n",
    "  VALOR = 0\n",
    "  for i in range(len(S)):\n",
    "    VALOR += COSTES[S[i]][i] \n",
    "  return VALOR\n",
    "valor((1, 2, 0, 3),COSTES)"
   ]
  },
  {
   "cell_type": "code",
   "execution_count": null,
   "metadata": {
    "id": "fXG2CAq87Csv"
   },
   "outputs": [],
   "source": [
    "#Coste inferior para soluciones parciales\n",
    "#  (1,3,) Se asigna la tarea 1 al agente 0 y la tarea 3 al agente 1\n",
    "\n",
    "def CI(S,COSTES):\n",
    "  VALOR = 0\n",
    "  #Valores establecidos\n",
    "  for i in range(len(S)):\n",
    "    VALOR += COSTES[i][S[i]]\n",
    "\n",
    "  #Estimacion\n",
    "  for i in range( len(S), len(COSTES)   ):\n",
    "    VALOR += min( [ COSTES[j][i] for j in range(len(S), len(COSTES))  ])\n",
    "  return VALOR\n",
    "\n",
    "def CS(S,COSTES):\n",
    "  VALOR = 0\n",
    "  #Valores establecidos\n",
    "  for i in range(len(S)):\n",
    "    VALOR += COSTES[i][S[i]]\n",
    "\n",
    "  #Estimacion\n",
    "  for i in range( len(S), len(COSTES)   ):\n",
    "    VALOR += max( [ COSTES[j][i] for j in range(len(S), len(COSTES))  ])\n",
    "  return VALOR\n"
   ]
  },
  {
   "cell_type": "code",
   "execution_count": null,
   "metadata": {
    "id": "5m_aD0CH8mmZ"
   },
   "outputs": [],
   "source": [
    "#Genera tantos hijos como como posibilidades haya para la siguiente elemento de la tupla\n",
    "#(0,) -> (0,1), (0,2), (0,3)\n",
    "def crear_hijos(NODO, N):\n",
    "  HIJOS = []\n",
    "  for i in range(N ):\n",
    "    if i not in NODO:\n",
    "      HIJOS.append({'s':NODO +(i,)    })\n",
    "  return HIJOS"
   ]
  },
  {
   "cell_type": "code",
   "execution_count": null,
   "metadata": {
    "colab": {
     "base_uri": "https://localhost:8080/"
    },
    "id": "CmWryVOl8wQy",
    "outputId": "c6954160-049e-4b04-8e16-5b1da28d4b75"
   },
   "outputs": [
    {
     "name": "stdout",
     "output_type": "stream",
     "text": [
      "La solucion final es: [{'s': (1, 2, 0, 3), 'ci': 64}]  en  10  iteraciones  para dimension:  4\n"
     ]
    }
   ],
   "source": [
    "def ramificacion_y_poda(COSTES):\n",
    "#Construccion iterativa de soluciones(arbol). En cada etapa asignamos un agente(ramas).\n",
    "#Nodos del grafo  { s:(1,2),CI:3,CS:5  }\n",
    "  #print(COSTES)\n",
    "  DIMENSION = len(COSTES)  \n",
    "  MEJOR_SOLUCION=tuple( i for i in range(len(COSTES)) )\n",
    "  CotaSup = valor(MEJOR_SOLUCION,COSTES)\n",
    "  #print(\"Cota Superior:\", CotaSup)\n",
    "\n",
    "  NODOS=[]\n",
    "  NODOS.append({'s':(), 'ci':CI((),COSTES)    } )\n",
    "\n",
    "  iteracion = 0\n",
    "\n",
    "  while( len(NODOS) > 0):\n",
    "    iteracion +=1\n",
    "    nodo_prometedor = [ min(NODOS, key=lambda x:x['ci']) ][0]['s']\n",
    "    #print(\"Nodo prometedor:\", nodo_prometedor)\n",
    "    #Ramificacion\n",
    "    #Se generan los hijos\n",
    "    HIJOS =[ {'s':x['s'], 'ci':CI(x['s'], COSTES)   } for x in crear_hijos(nodo_prometedor, DIMENSION) ]\n",
    "\n",
    "    #Revisamos la cota superior y nos quedamos con la mejor solucion si llegamos a una solucion final\n",
    "    NODO_FINAL = [x for x in HIJOS if len(x['s']) == DIMENSION  ]\n",
    "    if len(NODO_FINAL ) >0: \n",
    "      #print(\"\\n********Soluciones:\",  [x for x in HIJOS if len(x['s']) == DIMENSION  ] )\n",
    "      if NODO_FINAL[0]['ci'] < CotaSup:\n",
    "        CotaSup = NODO_FINAL[0]['ci']\n",
    "        MEJOR_SOLUCION = NODO_FINAL\n",
    " \n",
    "    #Poda\n",
    "    HIJOS = [x for x in HIJOS if x['ci'] < CotaSup   ]\n",
    "\n",
    "    #Añadimos los hijos \n",
    "    NODOS.extend(HIJOS) \n",
    "\n",
    "    #Eliminamos el nodo ramificado\n",
    "    NODOS =  [  x for x in NODOS if x['s'] != nodo_prometedor    ]\n",
    "   \n",
    "  print(\"La solucion final es:\" ,MEJOR_SOLUCION , \" en \" , iteracion , \" iteraciones\" , \" para dimension: \" ,DIMENSION  )\n",
    "      \n",
    "\n",
    "\n",
    "ramificacion_y_poda(COSTES)"
   ]
  },
  {
   "cell_type": "code",
   "execution_count": null,
   "metadata": {
    "id": "DaeqtaP5LkmU"
   },
   "outputs": [],
   "source": []
  },
  {
   "cell_type": "markdown",
   "metadata": {
    "id": "laTaaBVwLomJ"
   },
   "source": [
    "### Análisis adicional (Mejorar nota)\n",
    "* ¿Qué complejidad tiene el algoritmo por fuerza bruta?\n",
    "* Generar matrices con valores aleatorios de mayores dimensiones (5, 6, 7, ...) y ejecutar ambos algoritmos.\n",
    "  * ¿A partir de qué dimensión el algoritmo por fuerza bruta deja de ser una opción?\n",
    "  * ¿Hay algún valor de la dimensión a partir de la cual el algoritmo de ramificación y poda deja de ser una opción válida?"
   ]
  },
  {
   "cell_type": "markdown",
   "metadata": {
    "id": "pu0qHrK_MWr3"
   },
   "source": [
    "El algoritmo por fuerza bruta tendrá un orden de complejidad n! pues deberá comprobar todas las posibles permutaciones de los índices de un array de tamaño n.\n"
   ]
  },
  {
   "cell_type": "markdown",
   "metadata": {
    "id": "YJ-nEPQNjIl_"
   },
   "source": [
    "#### Implementación del método por fuerza bruta"
   ]
  },
  {
   "cell_type": "code",
   "execution_count": null,
   "metadata": {
    "id": "dTxNKj6iMNxf"
   },
   "outputs": [],
   "source": [
    "def costo_solucion(S,COSTES):\n",
    "  VALOR = 0\n",
    "  #Valores establecidos\n",
    "  for i in range(len(S)):\n",
    "    VALOR += COSTES[S[i]][i]\n",
    "  return VALOR\n",
    "\n",
    "def asignacion_tareas_fuerza_bruta(costes):\n",
    "  n = len(costes)\n",
    "  min_cost = np.inf\n",
    "  sol_opt = None\n",
    "  # obtengo todas las permutaciones posibles\n",
    "  permutations = itertools.permutations(range(n))\n",
    "  for option in permutations:\n",
    "    costo_actual = costo_solucion(option, costes)\n",
    "    if costo_actual < min_cost:\n",
    "      min_cost = costo_actual\n",
    "      sol_opt = option\n",
    "  return sol_opt"
   ]
  },
  {
   "cell_type": "code",
   "execution_count": null,
   "metadata": {
    "colab": {
     "base_uri": "https://localhost:8080/"
    },
    "id": "61HVdV1yNqeE",
    "outputId": "3735b8eb-5b36-43f8-f153-953746b16f8d"
   },
   "outputs": [
    {
     "name": "stdout",
     "output_type": "stream",
     "text": [
      "(0, 3, 1, 2)\n"
     ]
    },
    {
     "data": {
      "text/plain": [
       "61"
      ]
     },
     "execution_count": 118,
     "metadata": {
      "tags": []
     },
     "output_type": "execute_result"
    }
   ],
   "source": [
    "print(asignacion_tareas_fuerza_bruta(COSTES))\n",
    "costo_solucion(asignacion_tareas_fuerza_bruta(COSTES), COSTES)"
   ]
  },
  {
   "cell_type": "code",
   "execution_count": null,
   "metadata": {
    "id": "dg34iRP9jTY7"
   },
   "outputs": [],
   "source": []
  },
  {
   "cell_type": "markdown",
   "metadata": {
    "id": "oRfFTH1_jUyA"
   },
   "source": [
    "#### Comparación ramificación y poda vs fuerza bruta"
   ]
  },
  {
   "cell_type": "code",
   "execution_count": null,
   "metadata": {
    "id": "q5eNtY_pgejp"
   },
   "outputs": [],
   "source": [
    "max_coste =50\n",
    "dimensiones = [2, 3, 4, 5, 6, 7, 8, 9, 10]\n",
    "matrices_aleatorias = {dimension:np.random.randint(max_coste, size=(dimension, dimension)) for dimension in dimensiones}"
   ]
  },
  {
   "cell_type": "code",
   "execution_count": null,
   "metadata": {
    "colab": {
     "base_uri": "https://localhost:8080/"
    },
    "id": "QB0kh5Mce9Dx",
    "outputId": "c9f0e899-92a9-463e-e7e8-89ae4830d879"
   },
   "outputs": [
    {
     "name": "stdout",
     "output_type": "stream",
     "text": [
      "dimension: 2\n",
      "La solucion final es: (0, 1)  en  1  iteraciones  para dimension:  2\n",
      "0.001697540283203125\n",
      "dimension: 3\n",
      "La solucion final es: [{'s': (0, 2, 1), 'ci': 15}]  en  4  iteraciones  para dimension:  3\n",
      "0.0014483928680419922\n",
      "dimension: 4\n",
      "La solucion final es: (0, 1, 2, 3)  en  5  iteraciones  para dimension:  4\n",
      "0.00037169456481933594\n",
      "dimension: 5\n",
      "La solucion final es: [{'s': (2, 4, 3, 0, 1), 'ci': 84}]  en  37  iteraciones  para dimension:  5\n",
      "0.0016393661499023438\n",
      "dimension: 6\n",
      "La solucion final es: [{'s': (3, 0, 2, 5, 4, 1), 'ci': 31}]  en  114  iteraciones  para dimension:  6\n",
      "0.0046536922454833984\n",
      "dimension: 7\n",
      "La solucion final es: [{'s': (2, 3, 1, 5, 0, 4, 6), 'ci': 74}]  en  145  iteraciones  para dimension:  7\n",
      "0.009642601013183594\n",
      "dimension: 8\n",
      "La solucion final es: [{'s': (7, 3, 1, 0, 2, 6, 4, 5), 'ci': 42}]  en  5404  iteraciones  para dimension:  8\n",
      "2.681424140930176\n",
      "dimension: 9\n",
      "La solucion final es: [{'s': (4, 5, 3, 8, 6, 0, 7, 1, 2), 'ci': 64}]  en  1836  iteraciones  para dimension:  9\n",
      "0.3778538703918457\n",
      "dimension: 10\n",
      "La solucion final es: [{'s': (3, 4, 5, 9, 6, 8, 2, 7, 1, 0), 'ci': 77}]  en  18693  iteraciones  para dimension:  10\n",
      "39.892725706100464\n"
     ]
    }
   ],
   "source": [
    "# ejecutando método de ramificación y poda\n",
    "tiempos_ramif_poda = []\n",
    "for dimension in dimensiones:\n",
    "  print(\"dimension:\", dimension)\n",
    "  # ejecutar el algoritmo de ramificación y poda\n",
    "  t_start = time()\n",
    "  ramificacion_y_poda(matrices_aleatorias[dimension])\n",
    "  t_end = time()-t_start\n",
    "  print(t_end)\n",
    "  tiempos_ramif_poda.append(t_end)"
   ]
  },
  {
   "cell_type": "code",
   "execution_count": null,
   "metadata": {
    "colab": {
     "base_uri": "https://localhost:8080/"
    },
    "id": "QxrOeQzfQibU",
    "outputId": "d1653c57-79e8-4128-fe18-4eff9534ae7e"
   },
   "outputs": [
    {
     "name": "stdout",
     "output_type": "stream",
     "text": [
      "dimension: 2\n",
      "8.749961853027344e-05\n",
      "dimension: 3\n",
      "6.747245788574219e-05\n",
      "dimension: 4\n",
      "0.00013399124145507812\n",
      "dimension: 5\n",
      "0.0006535053253173828\n",
      "dimension: 6\n",
      "0.002458333969116211\n",
      "dimension: 7\n",
      "0.02022695541381836\n",
      "dimension: 8\n",
      "0.18480420112609863\n",
      "dimension: 9\n",
      "1.7972385883331299\n",
      "dimension: 10\n",
      "19.158466815948486\n"
     ]
    }
   ],
   "source": [
    "# ejecutando método de fuerza bruta\n",
    "tiempos_fuerza_bruta = []\n",
    "for dimension in dimensiones:\n",
    "  print(\"dimension:\", dimension)\n",
    "  # ejecutar el algoritmo de ramificación y poda\n",
    "  t_start = time()\n",
    "  asignacion_tareas_fuerza_bruta(matrices_aleatorias[dimension])\n",
    "  t_end = time()-t_start\n",
    "  print(t_end)\n",
    "  tiempos_fuerza_bruta.append(t_end)"
   ]
  },
  {
   "cell_type": "code",
   "execution_count": null,
   "metadata": {
    "colab": {
     "base_uri": "https://localhost:8080/",
     "height": 295
    },
    "id": "y00mazM7iasY",
    "outputId": "3c2fb601-e570-42dc-fce4-48b37e6ab8d6"
   },
   "outputs": [
    {
     "data": {
      "image/png": "[encoded data removed]",
      "text/plain": [
       "<Figure size 432x288 with 1 Axes>"
      ]
     },
     "metadata": {
      "needs_background": "light",
      "tags": []
     },
     "output_type": "display_data"
    }
   ],
   "source": [
    "# comparación tiempos\n",
    "plt.plot(dimensiones, tiempos_fuerza_bruta, label=\"fuerza bruta\")\n",
    "plt.plot(dimensiones, tiempos_ramif_poda, label=\"ramificacion y poda\")\n",
    "plt.legend()\n",
    "plt.title(\"tiempos ramif_poda vs fuerza bruta\")\n",
    "plt.xlabel(\"dimensiones (entero)\")\n",
    "plt.ylabel(\"tiempo (segundos)\")\n",
    "plt.show()"
   ]
  },
  {
   "cell_type": "markdown",
   "metadata": {
    "id": "Mh2ApHLVjtMF"
   },
   "source": [
    "Como se puede observar, el método de ramificación y poda tiene una eficiencia muy superior al de fuerza bruta. Esto debido a los órdenes de complejidadad de ambos algoritmos pues el de fuerza bruta es **O(n^2)** mientras que el de ramificación y poda es exponencial.\n",
    "Por este motivo, tampoco el algoritmo de ramificación y poda será útil en casos de n grande como comprobaremos en la siguiente sección"
   ]
  },
  {
   "cell_type": "code",
   "execution_count": null,
   "metadata": {
    "id": "WuV75eqNkFe4"
   },
   "outputs": [],
   "source": []
  },
  {
   "cell_type": "markdown",
   "metadata": {
    "id": "e2oJlOsFkE01"
   },
   "source": [
    "#### ¿Hay alguna dimensión para la cual el algoritmo de ramificación y poda deja de ser opción?"
   ]
  },
  {
   "cell_type": "code",
   "execution_count": null,
   "metadata": {
    "colab": {
     "base_uri": "https://localhost:8080/"
    },
    "id": "K56FvoTdkEZy",
    "outputId": "d08c6d25-f18b-4979-a9f0-de063fbdca23"
   },
   "outputs": [
    {
     "name": "stdout",
     "output_type": "stream",
     "text": [
      "dimension: 2\n",
      "La solucion final es: (0, 1)  en  1  iteraciones  para dimension:  2\n",
      "0.00028133392333984375\n",
      "dimension: 3\n",
      "La solucion final es: (0, 1, 2)  en  1  iteraciones  para dimension:  3\n",
      "0.0002751350402832031\n",
      "dimension: 4\n",
      "La solucion final es: [{'s': (0, 1, 3, 2), 'ci': 87}]  en  17  iteraciones  para dimension:  4\n",
      "0.0009584426879882812\n",
      "dimension: 5\n",
      "La solucion final es: [{'s': (0, 2, 3, 1, 4), 'ci': 68}]  en  43  iteraciones  para dimension:  5\n",
      "0.0013470649719238281\n",
      "dimension: 6\n",
      "La solucion final es: [{'s': (3, 2, 4, 5, 0, 1), 'ci': 29}]  en  151  iteraciones  para dimension:  6\n",
      "0.01044464111328125\n",
      "dimension: 7\n",
      "La solucion final es: [{'s': (3, 4, 6, 0, 5, 2, 1), 'ci': 78}]  en  720  iteraciones  para dimension:  7\n",
      "0.07729005813598633\n",
      "dimension: 8\n",
      "La solucion final es: [{'s': (3, 5, 4, 7, 0, 1, 2, 6), 'ci': 69}]  en  174  iteraciones  para dimension:  8\n",
      "0.0184938907623291\n",
      "dimension: 9\n",
      "La solucion final es: [{'s': (1, 5, 6, 2, 4, 0, 7, 3, 8), 'ci': 57}]  en  367  iteraciones  para dimension:  9\n",
      "0.050852060317993164\n",
      "dimension: 10\n",
      "La solucion final es: [{'s': (6, 2, 4, 9, 0, 5, 8, 3, 1, 7), 'ci': 62}]  en  6390  iteraciones  para dimension:  10\n",
      "4.448698282241821\n",
      "dimension: 11\n",
      "La solucion final es: [{'s': (6, 5, 2, 7, 3, 4, 0, 10, 1, 9, 8), 'ci': 51}]  en  24863  iteraciones  para dimension:  11\n",
      "87.59654641151428\n"
     ]
    }
   ],
   "source": [
    "max_coste =50\n",
    "dimensiones = [2, 3, 4, 5, 6, 7, 8, 9, 10, 11]\n",
    "matrices_aleatorias = {dimension:np.random.randint(max_coste, size=(dimension, dimension)) for dimension in dimensiones}\n",
    "# ejecutando método de ramificación y poda\n",
    "tiempos_ramif_poda = []\n",
    "for dimension in dimensiones:\n",
    "  print(\"dimension:\", dimension)\n",
    "  # ejecutar el algoritmo de ramificación y poda\n",
    "  t_start = time()\n",
    "  ramificacion_y_poda(matrices_aleatorias[dimension])\n",
    "  t_end = time()-t_start\n",
    "  print(t_end)\n",
    "  tiempos_ramif_poda.append(t_end)\n"
   ]
  },
  {
   "cell_type": "code",
   "execution_count": null,
   "metadata": {
    "colab": {
     "base_uri": "https://localhost:8080/",
     "height": 295
    },
    "id": "S1tX2oiekEV3",
    "outputId": "f933a7bf-474f-46d4-a646-f170a8a26f7c"
   },
   "outputs": [
    {
     "data": {
      "image/png": "[encoded data removed]",
      "text/plain": [
       "<Figure size 432x288 with 1 Axes>"
      ]
     },
     "metadata": {
      "needs_background": "light",
      "tags": []
     },
     "output_type": "display_data"
    }
   ],
   "source": [
    "# gráfica tiempos\n",
    "plt.plot(dimensiones, tiempos_ramif_poda, label=\"ramificación y poda\")\n",
    "plt.legend()\n",
    "plt.title(\"tiempos ramificación y poda\")\n",
    "plt.xlabel(\"dimensiones (entero)\")\n",
    "plt.ylabel(\"tiempo (segundos)\")\n",
    "plt.show()"
   ]
  },
  {
   "cell_type": "markdown",
   "metadata": {
    "id": "itZPOzetobq6"
   },
   "source": [
    "Como se puede observar, desde la dimensión 11 en adelante el algoritmo empezará a ser inviable. Su naturaleza al ser exponencial dicta que habrá puntos donde ya no será una opción revisar este tipo de algoritmos."
   ]
  },
  {
   "cell_type": "code",
   "execution_count": null,
   "metadata": {
    "id": "KVGdpVlbiagC"
   },
   "outputs": [],
   "source": []
  },
  {
   "cell_type": "markdown",
   "metadata": {
    "id": "I8xMb1PMi9J5"
   },
   "source": [
    "##Descenso del gradiente"
   ]
  },
  {
   "cell_type": "code",
   "execution_count": null,
   "metadata": {
    "id": "U6F7vFJoi9nR"
   },
   "outputs": [],
   "source": [
    "import math                      #Funciones matematicas\n",
    "import matplotlib.pyplot as plt  #Generacion de gráficos (otra opcion seaborn)\n",
    "import numpy as np               #Tratamiento matriz N-dimensionales y otras (fundamental!) \n",
    "#import scipy as sc\n",
    "\n",
    "import random"
   ]
  },
  {
   "cell_type": "code",
   "execution_count": null,
   "metadata": {
    "id": "IYK3cEQuhasu"
   },
   "outputs": [],
   "source": [
    "def funobj_1(X):\n",
    "  # x^2 + y^2\n",
    "  return X[0]**2 + X[1]**2\n",
    "\n",
    "def d_funobj_1(X):\n",
    "  return np.array([\n",
    "                   2*X[0],\n",
    "                   2*X[1]\n",
    "  ])\n"
   ]
  },
  {
   "cell_type": "code",
   "execution_count": null,
   "metadata": {
    "id": "ZE9fdvPohave"
   },
   "outputs": [],
   "source": [
    "w = np.array([random.uniform(-2,2), random.uniform(-2,2)]) # vector solución inicial"
   ]
  },
  {
   "cell_type": "code",
   "execution_count": null,
   "metadata": {
    "id": "NY0_hZbWhax8"
   },
   "outputs": [],
   "source": [
    "def step_gradiente_descendiente(df, w, alpha = 0.05):\n",
    "    w = w - alpha*df(w)\n",
    "    return w\n",
    "\n",
    "def gradiente_descendiente(f, df, w, max_iter = 100, alpha = 0.05):\n",
    "  # esta función ejecuta varios pasos del algoritmo de gradiente descendiente\n",
    "  # y retornará:\n",
    "  # w: el vector de solución luego de ejecutar los steps de gradiente descendiente\n",
    "  # ws: un vector con todas las w que encontró en cada step (incluida la solución original)\n",
    "  ws = [w]\n",
    "  for i in range(max_iter):\n",
    "    w = step_gradiente_descendiente(df, w, alpha)\n",
    "    ws.append(w)\n",
    "  return w, ws"
   ]
  },
  {
   "cell_type": "code",
   "execution_count": null,
   "metadata": {
    "colab": {
     "base_uri": "https://localhost:8080/"
    },
    "id": "fFJhbOtakKFP",
    "outputId": "9e1c272c-eb86-4d15-905d-b37dff881858"
   },
   "outputs": [
    {
     "data": {
      "text/plain": [
       "array([ 4.96715392e-39, -2.21531246e-38])"
      ]
     },
     "execution_count": 269,
     "metadata": {
      "tags": []
     },
     "output_type": "execute_result"
    }
   ],
   "source": [
    "w_opt, ws = gradiente_descendiente(d_funobj_1, d_funobj_1, w ,500, 0.08)\n",
    "w_opt"
   ]
  },
  {
   "cell_type": "code",
   "execution_count": null,
   "metadata": {
    "colab": {
     "base_uri": "https://localhost:8080/",
     "height": 287
    },
    "id": "RNRjqV5VmFdu",
    "outputId": "89eb9b92-7f9b-45c6-eddf-b231feda1d42"
   },
   "outputs": [
    {
     "data": {
      "text/plain": [
       "[<matplotlib.lines.Line2D at 0x7f8bb0e6a208>]"
      ]
     },
     "execution_count": 270,
     "metadata": {
      "tags": []
     },
     "output_type": "execute_result"
    },
    {
     "data": {
      "image/png": "[encoded data removed]",
      "text/plain": [
       "<Figure size 432x288 with 2 Axes>"
      ]
     },
     "metadata": {
      "needs_background": "light",
      "tags": []
     },
     "output_type": "display_data"
    }
   ],
   "source": [
    "#Prepara los datos para dibujar mapa de niveles de Z\n",
    "resolucion = 100 \n",
    "rango=2\n",
    "X=np.linspace(-rango,rango,resolucion) \n",
    "Y=np.linspace(-rango,rango,resolucion)\n",
    "Z=np.zeros((resolucion,resolucion))\n",
    "for ix,x in enumerate(X):\n",
    "  for iy,y in enumerate(Y):\n",
    "    Z[ix,iy] = f([x,y])\n",
    "\n",
    "#Pinta el mapa de niveles de Z\n",
    "plt.contourf(X,Y,Z,resolucion)\n",
    "plt.colorbar() \n",
    "\n",
    "\n",
    "\n",
    "for sol in ws:\n",
    "  grad = df(P)\n",
    "  #print(P,grad)\n",
    "  # P[0],P[1] = P[0] - TA*grad[0] , P[1] - TA*grad[1]\n",
    "  plt.plot(sol[0],sol[1],\"o\",c=\"red\")\n",
    "# pintar el punto de partida y el punto de llegada\n",
    "plt.plot(w[0],w[1],\"o\",c=\"white\")\n",
    "plt.plot(w_opt[0],w_opt[1],\"o\",c=\"green\")"
   ]
  },
  {
   "cell_type": "markdown",
   "metadata": {
    "id": "KLWK6wOuJBvS"
   },
   "source": [
    "### Funcón con muchos mínimos y máximos locales"
   ]
  },
  {
   "cell_type": "code",
   "execution_count": null,
   "metadata": {
    "id": "R1ZfJTARAl3r"
   },
   "outputs": [],
   "source": [
    "def f2(X):\n",
    "  # función con muchos mínimos\n",
    "  return np.sin(1/2 * X[0]**2 - 1/4 * X[1]**2 + 3) * np.cos(2 * X[0] + 1 - np.exp(X[1]))\n",
    "\n",
    "def numeric_derivative(f, X, h=0.001):\n",
    "  # función para aproximar la derivada de una función dada evaluada en un punto\n",
    "  X = np.array(X)\n",
    "  grad = np.zeros(len(X))\n",
    "  for i in range(len(X)):\n",
    "    grad[i] = (f(X+h) - f(X)) / h\n",
    "  return grad\n",
    "\n",
    "def d_f2(X):\n",
    "  return numeric_derivative(f2, X)"
   ]
  },
  {
   "cell_type": "code",
   "execution_count": null,
   "metadata": {
    "colab": {
     "base_uri": "https://localhost:8080/",
     "height": 287
    },
    "id": "Y2LndXjiAl5_",
    "outputId": "248cd20b-87a0-4742-e707-d22ac80c41f2"
   },
   "outputs": [
    {
     "data": {
      "text/plain": [
       "[<matplotlib.lines.Line2D at 0x7f8bb06e6a20>]"
      ]
     },
     "execution_count": 272,
     "metadata": {
      "tags": []
     },
     "output_type": "execute_result"
    },
    {
     "data": {
      "image/png": "[encoded data removed]",
      "text/plain": [
       "<Figure size 432x288 with 2 Axes>"
      ]
     },
     "metadata": {
      "needs_background": "light",
      "tags": []
     },
     "output_type": "display_data"
    }
   ],
   "source": [
    "\n",
    "w = np.array([random.uniform(-2,2),random.uniform(-2,2)])\n",
    "w_opt, ws = gradiente_descendiente(f2, d_f2, w ,100, 0.01)\n",
    "# w_opt\n",
    "\n",
    " #Prepara los datos para dibujar mapa de niveles de Z\n",
    "rango=3\n",
    "resolucion = 100\n",
    "X=np.linspace(-rango,rango,resolucion) \n",
    "Y=np.linspace(-rango,rango,resolucion)\n",
    "Z=np.zeros((resolucion,resolucion))\n",
    "for ix,x in enumerate(X):\n",
    "  for iy,y in enumerate(Y):\n",
    "    Z[ix,iy] = f2([x,y])\n",
    "\n",
    "#Pinta el mapa de niveles de Z\n",
    "plt.contourf(X,Y,Z,resolucion)\n",
    "plt.colorbar() \n",
    "\n",
    "\n",
    "# pintar todos los puntos por los que se pasó\n",
    "for sol in ws:\n",
    "  grad = df(P)\n",
    "  plt.plot(sol[0],sol[1],\"o\",c=\"red\")\n",
    "# pintar el punto de partida y el punto de llegada\n",
    "plt.plot(w[0],w[1],\"o\",c=\"white\")\n",
    "plt.plot(w_opt[0],w_opt[1],\"o\",c=\"green\")"
   ]
  },
  {
   "cell_type": "markdown",
   "metadata": {
    "id": "_cetpjcXJ1N0"
   },
   "source": [
    "Se puede observar que el contorno de la gráfica anterior es demasiado complejo, presentando muchos máximos y mínimos locales. \n",
    "Esto implica que el algoritmo del descenso del gradiente no garantizará encontrar el mínimo global, pues lo único que hará será encontrar el máximo más cercano al punto de partida (w0 en este caso)"
   ]
  },
  {
   "cell_type": "code",
   "execution_count": null,
   "metadata": {
    "id": "ouFFyqeREW8M"
   },
   "outputs": [],
   "source": []
  }
 ],
 "metadata": {
  "colab": {
   "collapsed_sections": [],
   "name": "carlos_esteban_posada_AG2",
   "provenance": [],
   "toc_visible": true
  },
  "kernelspec": {
   "display_name": "Python 3",
   "language": "python",
   "name": "python3"
  },
  "language_info": {
   "codemirror_mode": {
    "name": "ipython",
    "version": 3
   },
   "file_extension": ".py",
   "mimetype": "text/x-python",
   "name": "python",
   "nbconvert_exporter": "python",
   "pygments_lexer": "ipython3",
   "version": "3.7.1"
  }
 },
 "nbformat": 4,
 "nbformat_minor": 1
}
