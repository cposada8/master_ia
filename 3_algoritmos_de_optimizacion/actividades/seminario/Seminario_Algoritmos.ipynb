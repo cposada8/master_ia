{
  "nbformat": 4,
  "nbformat_minor": 0,
  "metadata": {
    "colab": {
      "name": "Seminario - Algoritmos.ipynb",
      "provenance": [],
      "collapsed_sections": [],
      "toc_visible": true
    },
    "kernelspec": {
      "name": "python3",
      "display_name": "Python 3"
    }
  },
  "cells": [
    {
      "cell_type": "markdown",
      "metadata": {
        "id": "hVbXYX-RfPWh"
      },
      "source": [
        "# Algoritmos de optimización - Seminario<br>\n",
        "Nombre y Apellidos: **Carlos Esteban Posada**  <br>\n",
        "Email: crls.esteban@hotmail.com <br>\n",
        "URL Drive: https://colab.research.google.com/drive/1mnrmTvrbTqL6zBqZvw6B4lGdUHkUeUkD?usp=sharing <br>\n",
        "\n",
        "URL GIT: https://github.com/cposada8/03MAIR-Algoritmos-de-Optimizacion-CEPM/blob/main/Seminario/Seminario_Algoritmos.ipynb <br>\n",
        "\n",
        "Problema:\n",
        "**Sesiones de doblaje** <br>\n"
      ]
    },
    {
      "cell_type": "markdown",
      "metadata": {
        "id": "xC6Bf82aAUmJ"
      },
      "source": [
        "# Tabla de contenidos:\r\n",
        "1. Descripción del problema\r\n",
        "2. ¿Cuántas posibilidades de solución hay?\r\n",
        "3. Modelo para el espacio de soluciones\r\n",
        "4. Según el modelo para el espacio de soluciones:\r\n",
        "\t* ¿Cuál es la función objetivo?\r\n",
        "\t* ¿Es un problema de maximización o minimización?\r\n",
        "5. Diseña un algoritmo para resolver el problema por fuerza bruta\r\n",
        "6. Diseña un algoritmo que mejore la la complejidad del algoritmo por fuerza bruta\r\n",
        "\t* Solución por técnica voraz\r\n",
        "\t* Solución por búsqueda local\r\n",
        "\t* Solución por algoritmos genéticos\r\n",
        "7. Diseña un juego de datos de entrada aleatorios\r\n",
        "8. Aplica el algoritmo al juego de datos generado\r\n",
        "9. Enumera las referencias que has utilizado\r\n",
        "10. Describe brevemente las líneas de cómo crees que es posible avanzar en el estudio del tema\r\n"
      ]
    },
    {
      "cell_type": "code",
      "metadata": {
        "id": "a6-1Ir7F2-iX"
      },
      "source": [
        "import pandas as pd\r\n",
        "import numpy as np\r\n",
        "import matplotlib.pyplot as plt\r\n",
        "import random\r\n",
        "import math\r\n",
        "\r\n",
        "# from google.colab import drive\r\n",
        "# drive.mount('/content/drive')"
      ],
      "execution_count": 2,
      "outputs": []
    },
    {
      "cell_type": "code",
      "metadata": {
        "id": "zW3WG6Fj_0gL"
      },
      "source": [
        "# Carga de los datos\r\n",
        "data = pd.read_csv(\"actores_tomas.csv\", sep=\";\")\r\n",
        "data = data.set_index(\"toma\")"
      ],
      "execution_count": 4,
      "outputs": []
    },
    {
      "cell_type": "code",
      "metadata": {
        "id": "iMcnnK3b_5c3"
      },
      "source": [
        ""
      ],
      "execution_count": 4,
      "outputs": []
    },
    {
      "cell_type": "markdown",
      "metadata": {
        "id": "7yQ26YoA02CW"
      },
      "source": [
        "## 1. Descripción del problema - Contexto \r\n",
        "Se precisa coordinar el doblaje de una película. Los actores del doblaje deben coincidir en las\r\n",
        "tomas en las que sus personajes aparecen juntos en las diferentes tomas. Los actores de\r\n",
        "doblaje cobran todos la misma cantidad por cada día que deben desplazarse hasta el estudio\r\n",
        "de grabación independientemente del número de tomas que se graben. No es posible grabar\r\n",
        "más de 6 tomas por día. El objetivo es planificar las sesiones por día de manera que se gasto\r\n",
        "por los servicios de los actores de doblaje sea el menor posible.\r\n",
        "\r\n",
        "\r\n",
        "Los datos originales pueden ser consultados en: https://bit.ly/36D8IuK"
      ]
    },
    {
      "cell_type": "code",
      "metadata": {
        "id": "AiskKkzZfy4e"
      },
      "source": [
        ""
      ],
      "execution_count": 2,
      "outputs": []
    },
    {
      "cell_type": "markdown",
      "metadata": {
        "id": "3_-exlrTgLd-"
      },
      "source": [
        "(*)¿Cuantas posibilidades hay sin tener en cuenta las restricciones?<br>\n",
        "\n",
        "\n",
        "\n",
        "¿Cuantas posibilidades hay teniendo en cuenta todas las restricciones.\n",
        "\n",
        "\n"
      ]
    },
    {
      "cell_type": "markdown",
      "metadata": {
        "id": "KY6Zc-Nx11yo"
      },
      "source": [
        "## 2. ¿Cuántas posibilidades de solución hay?"
      ]
    },
    {
      "cell_type": "markdown",
      "metadata": {
        "id": "6VPUixos173j"
      },
      "source": [
        "### Posibilidades sin tener en cuenta las restricciones\r\n",
        "En nuestro caso tenemos un problema de 30 tomas que debemos acomodar en grupos de máximo 5 tomas por grupo. Cada grupo corresponderá a un día. \r\n",
        "\r\n",
        "Sin tener en cuenta las restricciones esto lo podríamos modelar como un vector de 30 posiciones en donde cada entrada traerá el índice de la toma. \r\n",
        "\r\n",
        "Ejemplo\r\n",
        "|1, 2, 3, 4, 5, 6|,  |7, 8, 9, 10, 11, 12|, ...\r\n"
      ]
    },
    {
      "cell_type": "markdown",
      "metadata": {
        "id": "o9aXRxMJ2gRX"
      },
      "source": [
        "En el ejemplo anterior, las tomas 1, 2, 3, 4, 5, y 6 estarían en la misma sesión de doblaje.\r\n",
        "\r\n",
        "De esta manera el espacio de solución inicial, sin tener en cuenta las restricciones sería todas las formas de acomodar 30 elementos distintos en un vector de 30 posiciones. \r\n",
        "\r\n",
        "Esto se soluciona de la siguiente manera: 30 * 29 * 28 * ... * 2 * 1\r\n",
        "Es decir 30! (30 factorial)"
      ]
    },
    {
      "cell_type": "code",
      "metadata": {
        "id": "VHzLSq0i23r8",
        "colab": {
          "base_uri": "https://localhost:8080/"
        },
        "outputId": "4f16fd39-ea08-4aa2-923e-13a9f5302dc6"
      },
      "source": [
        "numero_soluciones_brutas = math.factorial(30)\r\n",
        "print(f\"El número de soluciones (sin tener en cuenta las restricciones) posibles es: {numero_soluciones_brutas}\")"
      ],
      "execution_count": 5,
      "outputs": [
        {
          "output_type": "stream",
          "text": [
            "El número de soluciones (sin tener en cuenta las restricciones) posibles es: 265252859812191058636308480000000\n"
          ],
          "name": "stdout"
        }
      ]
    },
    {
      "cell_type": "markdown",
      "metadata": {
        "id": "DwNQgHPP5GMW"
      },
      "source": [
        "Como podrá notar, es un número tan grande que prácticamente es ilegible. Lo único que se puede adelantar es que tiene 33 dígitos. "
      ]
    },
    {
      "cell_type": "code",
      "metadata": {
        "id": "mUJVE1g11-5Q"
      },
      "source": [
        ""
      ],
      "execution_count": 5,
      "outputs": []
    },
    {
      "cell_type": "markdown",
      "metadata": {
        "id": "wemLnY7o17Ou"
      },
      "source": [
        "### Posibilidades teniendo en cuenta las restricciones"
      ]
    },
    {
      "cell_type": "markdown",
      "metadata": {
        "id": "uXODgEci5SzB"
      },
      "source": [
        "El espacio de solución sin restricciones contiene en realidad muchas combinaciones que para este problema vendrían siendo las mismas. \r\n",
        "\r\n",
        "Por ejemplo una sesión de doblaje | 1, 2, 3, 4, 5, 6 | sería, para este caso, exactamente igual a la sesión |2, 1, 3, 4, 5, 6| e igual a |6, 5, 4, 3, 2, 1|. \r\n",
        "\r\n",
        "En resumen, no nos importa el orden de las tomas que queden en cada sesión (bloque de 6 tomas). \r\n",
        "\r\n",
        "Por lo tanto calculemos las posibilidades de solución teniendo en cuenta estas restricciones."
      ]
    },
    {
      "cell_type": "markdown",
      "metadata": {
        "id": "8HR526gM5wsI"
      },
      "source": [
        "Para realizar esta tarea, tendremos que dividir los cálculos en subproblemas más sencillos. \r\n",
        "\r\n",
        "Así, ya no vamos a calcular las posibilidades de todo el vector de 30, sino que calcularemos por sesiones."
      ]
    },
    {
      "cell_type": "code",
      "metadata": {
        "id": "ZdE2Wk-y9YHF"
      },
      "source": [
        ""
      ],
      "execution_count": 5,
      "outputs": []
    },
    {
      "cell_type": "markdown",
      "metadata": {
        "id": "4PLaiSFl56qj"
      },
      "source": [
        " ¿De cuántas formas diferentes puedo armar la primera sesión? \r\n",
        " \r\n",
        "Como tenemos 30 tomas, las formas para armar la primera sesión (sin importar el orden) sería la combinación de 30 elementos tomados de a 6.   \r\n",
        "\r\n",
        "Luego de este paso, deberemos calcular la segunda sesión, para la cual tenemos 24 tomas disponibles. \r\n",
        "\r\n",
        "Y de esta manera calculamos por bloque de sesiones todas las combinaciones posibles\r\n",
        "\r\n",
        "\r\n",
        "$$\r\n",
        "combinacionesValidas = {30 \\choose 6 } * {24 \\choose 6 } * {18 \\choose 6 } * {12 \\choose 6 } * {6 \\choose 6 }\r\n",
        "$$"
      ]
    },
    {
      "cell_type": "code",
      "metadata": {
        "id": "NcdWDWTS6Men"
      },
      "source": [
        "def combinatoria(n, k):\r\n",
        "    # Esta función recibe n y k y retorna el número \r\n",
        "    # de combinaciones de n elementos tomados de k en k\r\n",
        "    comb = math.factorial(n)/(math.factorial(k)*math.factorial(n-k))\r\n",
        "    return comb"
      ],
      "execution_count": 6,
      "outputs": []
    },
    {
      "cell_type": "code",
      "metadata": {
        "id": "NtBa3zuf55Ea"
      },
      "source": [
        "disponibles = [30, 24, 18, 12, 6]\r\n",
        "posibilidades_sesion = [combinatoria(dispon, 6) for dispon in disponibles]"
      ],
      "execution_count": 7,
      "outputs": []
    },
    {
      "cell_type": "code",
      "metadata": {
        "colab": {
          "base_uri": "https://localhost:8080/"
        },
        "id": "sNesG4EY8FqE",
        "outputId": "8e100d7e-5de1-40c9-d098-d242683549fc"
      },
      "source": [
        "total_combinaciones_validas = 1\r\n",
        "for i, disp in enumerate(disponibles):\r\n",
        "  print(f\"Sesión {i+1}\")\r\n",
        "  print(f\"tomas disponibles: {disp}\")\r\n",
        "  print(f\"combinaciones posibles para la sesión {posibilidades_sesion[i]}\")\r\n",
        "  print()\r\n",
        "  total_combinaciones_validas *= posibilidades_sesion[i] "
      ],
      "execution_count": 8,
      "outputs": [
        {
          "output_type": "stream",
          "text": [
            "Sesión 1\n",
            "tomas disponibles: 30\n",
            "combinaciones posibles para la sesión 593775.0\n",
            "\n",
            "Sesión 2\n",
            "tomas disponibles: 24\n",
            "combinaciones posibles para la sesión 134596.0\n",
            "\n",
            "Sesión 3\n",
            "tomas disponibles: 18\n",
            "combinaciones posibles para la sesión 18564.0\n",
            "\n",
            "Sesión 4\n",
            "tomas disponibles: 12\n",
            "combinaciones posibles para la sesión 924.0\n",
            "\n",
            "Sesión 5\n",
            "tomas disponibles: 6\n",
            "combinaciones posibles para la sesión 1.0\n",
            "\n"
          ],
          "name": "stdout"
        }
      ]
    },
    {
      "cell_type": "code",
      "metadata": {
        "colab": {
          "base_uri": "https://localhost:8080/"
        },
        "id": "wzru8uQk8tZb",
        "outputId": "6b672a2d-5217-4dd2-8965-8a637cf3b6b2"
      },
      "source": [
        "print(f\"El total de combinaciones válidas es {total_combinaciones_validas}\")"
      ],
      "execution_count": 9,
      "outputs": [
        {
          "output_type": "stream",
          "text": [
            "El total de combinaciones válidas es 1.3708741675893263e+18\n"
          ],
          "name": "stdout"
        }
      ]
    },
    {
      "cell_type": "markdown",
      "metadata": {
        "id": "EvOZ59bT87jd"
      },
      "source": [
        "Nótese que ahora el espacio de solución válido es de 10^18, lo cuál sigue siendo muy grande, pero significativamente más pequeño que el espacio solución sin tener en cuenta las restricciones que presentaba un tamaño del orden 10^33\r\n",
        "\r\n",
        "De todas maneras sigue siendo un espacio solución inviable para evaluar todas las posibles soluciones"
      ]
    },
    {
      "cell_type": "code",
      "metadata": {
        "id": "EwEcm-nn85FI"
      },
      "source": [
        ""
      ],
      "execution_count": 9,
      "outputs": []
    },
    {
      "cell_type": "markdown",
      "metadata": {
        "id": "dzynfVJahHoY"
      },
      "source": [
        "## 3. Modelo para el espacio de soluciones<br>\n",
        "(*) ¿Cual es la estructura de datos que mejor se adapta al problema? Argumentalo.(Es posible que hayas elegido una al principio y veas la necesidad de cambiar, arguentalo)\n"
      ]
    },
    {
      "cell_type": "markdown",
      "metadata": {
        "id": "Uho_xdD4-H1r"
      },
      "source": [
        "Inicialmente se puede pensar en que una buena estructura para el espacio de solución es una matriz de tamaño 5x6. De tal forma que cada fila contiene una sesión o día de grabación.\r\n",
        "\r\n",
        "Sin embargo por simplicidad y velocidad en cálculos, esto mismo se puede representar como un vector de 30 posiciones. Teniendo en cuenta que la evaluación de la se hará por bloques de 6 tomas."
      ]
    },
    {
      "cell_type": "code",
      "metadata": {
        "id": "38c-7-ejhJmA"
      },
      "source": [
        ""
      ],
      "execution_count": 9,
      "outputs": []
    },
    {
      "cell_type": "markdown",
      "metadata": {
        "id": "7Z9U2W7bi-XS"
      },
      "source": [
        "## 4. Según el modelo para el espacio de soluciones:<br>\n"
      ]
    },
    {
      "cell_type": "markdown",
      "metadata": {
        "id": "pwYFCYM3-wY1"
      },
      "source": [
        "### (*)¿Cual es la función objetivo?\r\n",
        "La función objetivo contará la cantidad de actores diferentes que aparecen en una sesión. \r\n",
        "\r\n",
        "Una sesión será un bloque de 6 tomas. \r\n",
        "\r\n",
        "Luego se suman los valores de cada sesión y esto será el resultado de la función objetivo\r\n"
      ]
    },
    {
      "cell_type": "markdown",
      "metadata": {
        "id": "gamkn4-mFYNX"
      },
      "source": [
        "#### Ejemplo de la función Objetivo"
      ]
    },
    {
      "cell_type": "code",
      "metadata": {
        "id": "_k131lC4AQ05"
      },
      "source": [
        "def crear_solucion_aleatoria(n):\r\n",
        "    # n es el tamaño del vector solución\r\n",
        "    # esta función retornará un vector de tamaño n con los números\r\n",
        "    # de 0 a n-1 sin repetir, en un orden aleatorio\r\n",
        "    solucion = np.random.choice(range(n), n, replace=False)\r\n",
        "    return solucion\r\n",
        "\r\n",
        "def evaluar_dia(tomas_dia):\r\n",
        "    # tomas_dia debe ser un vector con los índices de las tomas que se incluirán en un día\r\n",
        "    return data.iloc[tomas_dia].max().sum()\r\n",
        "\r\n",
        "def get_matriz_from_solucion(solucion, num_sesiones=5, tomasxsesion=6):\r\n",
        "    # esta función recibe un vector y retorna una matriz de tamaño\r\n",
        "    # tomasxsesion, num_sesiones\r\n",
        "    # Esta matriz debe ser de tamaño n=tomasxsesion x num_sesiones\r\n",
        "    return np.array(solucion).reshape(num_sesiones, tomasxsesion)"
      ],
      "execution_count": 10,
      "outputs": []
    },
    {
      "cell_type": "code",
      "metadata": {
        "id": "KkEZq1nPAvof"
      },
      "source": [
        "def evaluar_solucion(solucion, num_sesiones=5, tomasxsesion= 6):\r\n",
        "    # La solución es un vector de tal forma que cada bloque de tomasxsesion\r\n",
        "    # será un día\r\n",
        "    costo = 0\r\n",
        "    sol_bloque = get_matriz_from_solucion(np.array(solucion), num_sesiones, tomasxsesion)\r\n",
        "    for indices_dia in sol_bloque:\r\n",
        "        costo += evaluar_dia(indices_dia)\r\n",
        "    return costo"
      ],
      "execution_count": 11,
      "outputs": []
    },
    {
      "cell_type": "code",
      "metadata": {
        "colab": {
          "base_uri": "https://localhost:8080/"
        },
        "id": "f4oqrhYzAvsg",
        "outputId": "d4954c72-1bbc-42e3-92fc-1c5bc1ebd00c"
      },
      "source": [
        "# Ejemplo de solución\r\n",
        "solucion = crear_solucion_aleatoria(30)\r\n",
        "print(\"la solucón cruda sería:\")\r\n",
        "print(solucion)\r\n",
        "\r\n",
        "print()\r\n",
        "print(\"la solución separada por bloques (sesiones) sería\")\r\n",
        "sol_bloq = get_matriz_from_solucion(solucion)\r\n",
        "print(sol_bloq)"
      ],
      "execution_count": 13,
      "outputs": [
        {
          "output_type": "stream",
          "text": [
            "la solucón cruda sería:\n",
            "[17 27 29  6  5 21  7 25 23  1 10 16  9 14 11 22  4  2  3  0 15 28  8 12\n",
            " 20 18 13 19 26 24]\n",
            "\n",
            "la solución separada por bloques (sesiones) sería\n",
            "[[17 27 29  6  5 21]\n",
            " [ 7 25 23  1 10 16]\n",
            " [ 9 14 11 22  4  2]\n",
            " [ 3  0 15 28  8 12]\n",
            " [20 18 13 19 26 24]]\n"
          ],
          "name": "stdout"
        }
      ]
    },
    {
      "cell_type": "code",
      "metadata": {
        "colab": {
          "base_uri": "https://localhost:8080/",
          "height": 1000
        },
        "id": "VhgGZNGKETep",
        "outputId": "f386bf6a-e28f-475e-ea03-c4a49c562a42"
      },
      "source": [
        "costosxdia = []\r\n",
        "for i, indices_dia  in enumerate(sol_bloq):\r\n",
        "    print(\"#\"*50)\r\n",
        "    print(f\"dia: {i+1}\")\r\n",
        "    costo_dia = evaluar_dia(indices_dia)\r\n",
        "    print(\"costo día:\", costo_dia)\r\n",
        "    display(data.iloc[indices_dia])\r\n",
        "    costosxdia.append(costo_dia)\r\n",
        "    print()\r\n",
        "    print()\r\n",
        "print(f\"total costo: {np.sum(costosxdia)}\")"
      ],
      "execution_count": 14,
      "outputs": [
        {
          "output_type": "stream",
          "text": [
            "##################################################\n",
            "dia: 1\n",
            "costo día: 6\n"
          ],
          "name": "stdout"
        },
        {
          "output_type": "display_data",
          "data": {
            "text/html": [
              "<div>\n",
              "<style scoped>\n",
              "    .dataframe tbody tr th:only-of-type {\n",
              "        vertical-align: middle;\n",
              "    }\n",
              "\n",
              "    .dataframe tbody tr th {\n",
              "        vertical-align: top;\n",
              "    }\n",
              "\n",
              "    .dataframe thead th {\n",
              "        text-align: right;\n",
              "    }\n",
              "</style>\n",
              "<table border=\"1\" class=\"dataframe\">\n",
              "  <thead>\n",
              "    <tr style=\"text-align: right;\">\n",
              "      <th></th>\n",
              "      <th>actor_1</th>\n",
              "      <th>actor_2</th>\n",
              "      <th>actor_3</th>\n",
              "      <th>actor_4</th>\n",
              "      <th>actor_5</th>\n",
              "      <th>actor_6</th>\n",
              "      <th>actor_7</th>\n",
              "      <th>actor_8</th>\n",
              "      <th>actor_9</th>\n",
              "      <th>actor_10</th>\n",
              "    </tr>\n",
              "    <tr>\n",
              "      <th>toma</th>\n",
              "      <th></th>\n",
              "      <th></th>\n",
              "      <th></th>\n",
              "      <th></th>\n",
              "      <th></th>\n",
              "      <th></th>\n",
              "      <th></th>\n",
              "      <th></th>\n",
              "      <th></th>\n",
              "      <th></th>\n",
              "    </tr>\n",
              "  </thead>\n",
              "  <tbody>\n",
              "    <tr>\n",
              "      <th>18</th>\n",
              "      <td>0</td>\n",
              "      <td>0</td>\n",
              "      <td>1</td>\n",
              "      <td>0</td>\n",
              "      <td>0</td>\n",
              "      <td>1</td>\n",
              "      <td>0</td>\n",
              "      <td>0</td>\n",
              "      <td>0</td>\n",
              "      <td>0</td>\n",
              "    </tr>\n",
              "    <tr>\n",
              "      <th>28</th>\n",
              "      <td>1</td>\n",
              "      <td>0</td>\n",
              "      <td>0</td>\n",
              "      <td>1</td>\n",
              "      <td>0</td>\n",
              "      <td>0</td>\n",
              "      <td>0</td>\n",
              "      <td>0</td>\n",
              "      <td>0</td>\n",
              "      <td>0</td>\n",
              "    </tr>\n",
              "    <tr>\n",
              "      <th>30</th>\n",
              "      <td>1</td>\n",
              "      <td>0</td>\n",
              "      <td>0</td>\n",
              "      <td>1</td>\n",
              "      <td>0</td>\n",
              "      <td>0</td>\n",
              "      <td>0</td>\n",
              "      <td>0</td>\n",
              "      <td>0</td>\n",
              "      <td>0</td>\n",
              "    </tr>\n",
              "    <tr>\n",
              "      <th>7</th>\n",
              "      <td>1</td>\n",
              "      <td>1</td>\n",
              "      <td>0</td>\n",
              "      <td>1</td>\n",
              "      <td>1</td>\n",
              "      <td>0</td>\n",
              "      <td>0</td>\n",
              "      <td>0</td>\n",
              "      <td>0</td>\n",
              "      <td>0</td>\n",
              "    </tr>\n",
              "    <tr>\n",
              "      <th>6</th>\n",
              "      <td>1</td>\n",
              "      <td>1</td>\n",
              "      <td>0</td>\n",
              "      <td>1</td>\n",
              "      <td>1</td>\n",
              "      <td>0</td>\n",
              "      <td>0</td>\n",
              "      <td>0</td>\n",
              "      <td>0</td>\n",
              "      <td>0</td>\n",
              "    </tr>\n",
              "    <tr>\n",
              "      <th>22</th>\n",
              "      <td>1</td>\n",
              "      <td>1</td>\n",
              "      <td>1</td>\n",
              "      <td>1</td>\n",
              "      <td>0</td>\n",
              "      <td>0</td>\n",
              "      <td>0</td>\n",
              "      <td>0</td>\n",
              "      <td>0</td>\n",
              "      <td>0</td>\n",
              "    </tr>\n",
              "  </tbody>\n",
              "</table>\n",
              "</div>"
            ],
            "text/plain": [
              "      actor_1  actor_2  actor_3  actor_4  ...  actor_7  actor_8  actor_9  actor_10\n",
              "toma                                      ...                                     \n",
              "18          0        0        1        0  ...        0        0        0         0\n",
              "28          1        0        0        1  ...        0        0        0         0\n",
              "30          1        0        0        1  ...        0        0        0         0\n",
              "7           1        1        0        1  ...        0        0        0         0\n",
              "6           1        1        0        1  ...        0        0        0         0\n",
              "22          1        1        1        1  ...        0        0        0         0\n",
              "\n",
              "[6 rows x 10 columns]"
            ]
          },
          "metadata": {
            "tags": []
          }
        },
        {
          "output_type": "stream",
          "text": [
            "\n",
            "\n",
            "##################################################\n",
            "dia: 2\n",
            "costo día: 8\n"
          ],
          "name": "stdout"
        },
        {
          "output_type": "display_data",
          "data": {
            "text/html": [
              "<div>\n",
              "<style scoped>\n",
              "    .dataframe tbody tr th:only-of-type {\n",
              "        vertical-align: middle;\n",
              "    }\n",
              "\n",
              "    .dataframe tbody tr th {\n",
              "        vertical-align: top;\n",
              "    }\n",
              "\n",
              "    .dataframe thead th {\n",
              "        text-align: right;\n",
              "    }\n",
              "</style>\n",
              "<table border=\"1\" class=\"dataframe\">\n",
              "  <thead>\n",
              "    <tr style=\"text-align: right;\">\n",
              "      <th></th>\n",
              "      <th>actor_1</th>\n",
              "      <th>actor_2</th>\n",
              "      <th>actor_3</th>\n",
              "      <th>actor_4</th>\n",
              "      <th>actor_5</th>\n",
              "      <th>actor_6</th>\n",
              "      <th>actor_7</th>\n",
              "      <th>actor_8</th>\n",
              "      <th>actor_9</th>\n",
              "      <th>actor_10</th>\n",
              "    </tr>\n",
              "    <tr>\n",
              "      <th>toma</th>\n",
              "      <th></th>\n",
              "      <th></th>\n",
              "      <th></th>\n",
              "      <th></th>\n",
              "      <th></th>\n",
              "      <th></th>\n",
              "      <th></th>\n",
              "      <th></th>\n",
              "      <th></th>\n",
              "      <th></th>\n",
              "    </tr>\n",
              "  </thead>\n",
              "  <tbody>\n",
              "    <tr>\n",
              "      <th>8</th>\n",
              "      <td>1</td>\n",
              "      <td>1</td>\n",
              "      <td>0</td>\n",
              "      <td>0</td>\n",
              "      <td>0</td>\n",
              "      <td>1</td>\n",
              "      <td>0</td>\n",
              "      <td>0</td>\n",
              "      <td>0</td>\n",
              "      <td>0</td>\n",
              "    </tr>\n",
              "    <tr>\n",
              "      <th>26</th>\n",
              "      <td>1</td>\n",
              "      <td>0</td>\n",
              "      <td>1</td>\n",
              "      <td>0</td>\n",
              "      <td>1</td>\n",
              "      <td>0</td>\n",
              "      <td>0</td>\n",
              "      <td>0</td>\n",
              "      <td>1</td>\n",
              "      <td>0</td>\n",
              "    </tr>\n",
              "    <tr>\n",
              "      <th>24</th>\n",
              "      <td>0</td>\n",
              "      <td>0</td>\n",
              "      <td>1</td>\n",
              "      <td>0</td>\n",
              "      <td>0</td>\n",
              "      <td>1</td>\n",
              "      <td>0</td>\n",
              "      <td>0</td>\n",
              "      <td>0</td>\n",
              "      <td>0</td>\n",
              "    </tr>\n",
              "    <tr>\n",
              "      <th>2</th>\n",
              "      <td>0</td>\n",
              "      <td>0</td>\n",
              "      <td>1</td>\n",
              "      <td>1</td>\n",
              "      <td>1</td>\n",
              "      <td>0</td>\n",
              "      <td>0</td>\n",
              "      <td>0</td>\n",
              "      <td>0</td>\n",
              "      <td>0</td>\n",
              "    </tr>\n",
              "    <tr>\n",
              "      <th>11</th>\n",
              "      <td>1</td>\n",
              "      <td>1</td>\n",
              "      <td>1</td>\n",
              "      <td>0</td>\n",
              "      <td>1</td>\n",
              "      <td>0</td>\n",
              "      <td>0</td>\n",
              "      <td>1</td>\n",
              "      <td>0</td>\n",
              "      <td>0</td>\n",
              "    </tr>\n",
              "    <tr>\n",
              "      <th>17</th>\n",
              "      <td>1</td>\n",
              "      <td>0</td>\n",
              "      <td>1</td>\n",
              "      <td>0</td>\n",
              "      <td>0</td>\n",
              "      <td>0</td>\n",
              "      <td>0</td>\n",
              "      <td>0</td>\n",
              "      <td>0</td>\n",
              "      <td>0</td>\n",
              "    </tr>\n",
              "  </tbody>\n",
              "</table>\n",
              "</div>"
            ],
            "text/plain": [
              "      actor_1  actor_2  actor_3  actor_4  ...  actor_7  actor_8  actor_9  actor_10\n",
              "toma                                      ...                                     \n",
              "8           1        1        0        0  ...        0        0        0         0\n",
              "26          1        0        1        0  ...        0        0        1         0\n",
              "24          0        0        1        0  ...        0        0        0         0\n",
              "2           0        0        1        1  ...        0        0        0         0\n",
              "11          1        1        1        0  ...        0        1        0         0\n",
              "17          1        0        1        0  ...        0        0        0         0\n",
              "\n",
              "[6 rows x 10 columns]"
            ]
          },
          "metadata": {
            "tags": []
          }
        },
        {
          "output_type": "stream",
          "text": [
            "\n",
            "\n",
            "##################################################\n",
            "dia: 3\n",
            "costo día: 9\n"
          ],
          "name": "stdout"
        },
        {
          "output_type": "display_data",
          "data": {
            "text/html": [
              "<div>\n",
              "<style scoped>\n",
              "    .dataframe tbody tr th:only-of-type {\n",
              "        vertical-align: middle;\n",
              "    }\n",
              "\n",
              "    .dataframe tbody tr th {\n",
              "        vertical-align: top;\n",
              "    }\n",
              "\n",
              "    .dataframe thead th {\n",
              "        text-align: right;\n",
              "    }\n",
              "</style>\n",
              "<table border=\"1\" class=\"dataframe\">\n",
              "  <thead>\n",
              "    <tr style=\"text-align: right;\">\n",
              "      <th></th>\n",
              "      <th>actor_1</th>\n",
              "      <th>actor_2</th>\n",
              "      <th>actor_3</th>\n",
              "      <th>actor_4</th>\n",
              "      <th>actor_5</th>\n",
              "      <th>actor_6</th>\n",
              "      <th>actor_7</th>\n",
              "      <th>actor_8</th>\n",
              "      <th>actor_9</th>\n",
              "      <th>actor_10</th>\n",
              "    </tr>\n",
              "    <tr>\n",
              "      <th>toma</th>\n",
              "      <th></th>\n",
              "      <th></th>\n",
              "      <th></th>\n",
              "      <th></th>\n",
              "      <th></th>\n",
              "      <th></th>\n",
              "      <th></th>\n",
              "      <th></th>\n",
              "      <th></th>\n",
              "      <th></th>\n",
              "    </tr>\n",
              "  </thead>\n",
              "  <tbody>\n",
              "    <tr>\n",
              "      <th>10</th>\n",
              "      <td>1</td>\n",
              "      <td>1</td>\n",
              "      <td>0</td>\n",
              "      <td>0</td>\n",
              "      <td>0</td>\n",
              "      <td>1</td>\n",
              "      <td>0</td>\n",
              "      <td>0</td>\n",
              "      <td>1</td>\n",
              "      <td>0</td>\n",
              "    </tr>\n",
              "    <tr>\n",
              "      <th>15</th>\n",
              "      <td>1</td>\n",
              "      <td>1</td>\n",
              "      <td>0</td>\n",
              "      <td>0</td>\n",
              "      <td>0</td>\n",
              "      <td>0</td>\n",
              "      <td>1</td>\n",
              "      <td>0</td>\n",
              "      <td>0</td>\n",
              "      <td>0</td>\n",
              "    </tr>\n",
              "    <tr>\n",
              "      <th>12</th>\n",
              "      <td>1</td>\n",
              "      <td>1</td>\n",
              "      <td>1</td>\n",
              "      <td>1</td>\n",
              "      <td>0</td>\n",
              "      <td>1</td>\n",
              "      <td>0</td>\n",
              "      <td>0</td>\n",
              "      <td>0</td>\n",
              "      <td>0</td>\n",
              "    </tr>\n",
              "    <tr>\n",
              "      <th>23</th>\n",
              "      <td>1</td>\n",
              "      <td>0</td>\n",
              "      <td>1</td>\n",
              "      <td>0</td>\n",
              "      <td>0</td>\n",
              "      <td>0</td>\n",
              "      <td>0</td>\n",
              "      <td>0</td>\n",
              "      <td>0</td>\n",
              "      <td>0</td>\n",
              "    </tr>\n",
              "    <tr>\n",
              "      <th>5</th>\n",
              "      <td>0</td>\n",
              "      <td>1</td>\n",
              "      <td>0</td>\n",
              "      <td>1</td>\n",
              "      <td>0</td>\n",
              "      <td>0</td>\n",
              "      <td>0</td>\n",
              "      <td>1</td>\n",
              "      <td>0</td>\n",
              "      <td>0</td>\n",
              "    </tr>\n",
              "    <tr>\n",
              "      <th>3</th>\n",
              "      <td>0</td>\n",
              "      <td>1</td>\n",
              "      <td>0</td>\n",
              "      <td>0</td>\n",
              "      <td>1</td>\n",
              "      <td>0</td>\n",
              "      <td>1</td>\n",
              "      <td>0</td>\n",
              "      <td>0</td>\n",
              "      <td>0</td>\n",
              "    </tr>\n",
              "  </tbody>\n",
              "</table>\n",
              "</div>"
            ],
            "text/plain": [
              "      actor_1  actor_2  actor_3  actor_4  ...  actor_7  actor_8  actor_9  actor_10\n",
              "toma                                      ...                                     \n",
              "10          1        1        0        0  ...        0        0        1         0\n",
              "15          1        1        0        0  ...        1        0        0         0\n",
              "12          1        1        1        1  ...        0        0        0         0\n",
              "23          1        0        1        0  ...        0        0        0         0\n",
              "5           0        1        0        1  ...        0        1        0         0\n",
              "3           0        1        0        0  ...        1        0        0         0\n",
              "\n",
              "[6 rows x 10 columns]"
            ]
          },
          "metadata": {
            "tags": []
          }
        },
        {
          "output_type": "stream",
          "text": [
            "\n",
            "\n",
            "##################################################\n",
            "dia: 4\n",
            "costo día: 9\n"
          ],
          "name": "stdout"
        },
        {
          "output_type": "display_data",
          "data": {
            "text/html": [
              "<div>\n",
              "<style scoped>\n",
              "    .dataframe tbody tr th:only-of-type {\n",
              "        vertical-align: middle;\n",
              "    }\n",
              "\n",
              "    .dataframe tbody tr th {\n",
              "        vertical-align: top;\n",
              "    }\n",
              "\n",
              "    .dataframe thead th {\n",
              "        text-align: right;\n",
              "    }\n",
              "</style>\n",
              "<table border=\"1\" class=\"dataframe\">\n",
              "  <thead>\n",
              "    <tr style=\"text-align: right;\">\n",
              "      <th></th>\n",
              "      <th>actor_1</th>\n",
              "      <th>actor_2</th>\n",
              "      <th>actor_3</th>\n",
              "      <th>actor_4</th>\n",
              "      <th>actor_5</th>\n",
              "      <th>actor_6</th>\n",
              "      <th>actor_7</th>\n",
              "      <th>actor_8</th>\n",
              "      <th>actor_9</th>\n",
              "      <th>actor_10</th>\n",
              "    </tr>\n",
              "    <tr>\n",
              "      <th>toma</th>\n",
              "      <th></th>\n",
              "      <th></th>\n",
              "      <th></th>\n",
              "      <th></th>\n",
              "      <th></th>\n",
              "      <th></th>\n",
              "      <th></th>\n",
              "      <th></th>\n",
              "      <th></th>\n",
              "      <th></th>\n",
              "    </tr>\n",
              "  </thead>\n",
              "  <tbody>\n",
              "    <tr>\n",
              "      <th>4</th>\n",
              "      <td>1</td>\n",
              "      <td>1</td>\n",
              "      <td>0</td>\n",
              "      <td>0</td>\n",
              "      <td>0</td>\n",
              "      <td>0</td>\n",
              "      <td>1</td>\n",
              "      <td>1</td>\n",
              "      <td>0</td>\n",
              "      <td>0</td>\n",
              "    </tr>\n",
              "    <tr>\n",
              "      <th>1</th>\n",
              "      <td>1</td>\n",
              "      <td>1</td>\n",
              "      <td>1</td>\n",
              "      <td>1</td>\n",
              "      <td>1</td>\n",
              "      <td>0</td>\n",
              "      <td>0</td>\n",
              "      <td>0</td>\n",
              "      <td>0</td>\n",
              "      <td>0</td>\n",
              "    </tr>\n",
              "    <tr>\n",
              "      <th>16</th>\n",
              "      <td>0</td>\n",
              "      <td>0</td>\n",
              "      <td>0</td>\n",
              "      <td>1</td>\n",
              "      <td>0</td>\n",
              "      <td>0</td>\n",
              "      <td>0</td>\n",
              "      <td>0</td>\n",
              "      <td>0</td>\n",
              "      <td>1</td>\n",
              "    </tr>\n",
              "    <tr>\n",
              "      <th>29</th>\n",
              "      <td>1</td>\n",
              "      <td>0</td>\n",
              "      <td>0</td>\n",
              "      <td>0</td>\n",
              "      <td>1</td>\n",
              "      <td>1</td>\n",
              "      <td>0</td>\n",
              "      <td>0</td>\n",
              "      <td>0</td>\n",
              "      <td>0</td>\n",
              "    </tr>\n",
              "    <tr>\n",
              "      <th>9</th>\n",
              "      <td>1</td>\n",
              "      <td>1</td>\n",
              "      <td>0</td>\n",
              "      <td>1</td>\n",
              "      <td>0</td>\n",
              "      <td>0</td>\n",
              "      <td>0</td>\n",
              "      <td>0</td>\n",
              "      <td>0</td>\n",
              "      <td>0</td>\n",
              "    </tr>\n",
              "    <tr>\n",
              "      <th>13</th>\n",
              "      <td>1</td>\n",
              "      <td>0</td>\n",
              "      <td>0</td>\n",
              "      <td>1</td>\n",
              "      <td>1</td>\n",
              "      <td>0</td>\n",
              "      <td>0</td>\n",
              "      <td>0</td>\n",
              "      <td>0</td>\n",
              "      <td>0</td>\n",
              "    </tr>\n",
              "  </tbody>\n",
              "</table>\n",
              "</div>"
            ],
            "text/plain": [
              "      actor_1  actor_2  actor_3  actor_4  ...  actor_7  actor_8  actor_9  actor_10\n",
              "toma                                      ...                                     \n",
              "4           1        1        0        0  ...        1        1        0         0\n",
              "1           1        1        1        1  ...        0        0        0         0\n",
              "16          0        0        0        1  ...        0        0        0         1\n",
              "29          1        0        0        0  ...        0        0        0         0\n",
              "9           1        1        0        1  ...        0        0        0         0\n",
              "13          1        0        0        1  ...        0        0        0         0\n",
              "\n",
              "[6 rows x 10 columns]"
            ]
          },
          "metadata": {
            "tags": []
          }
        },
        {
          "output_type": "stream",
          "text": [
            "\n",
            "\n",
            "##################################################\n",
            "dia: 5\n",
            "costo día: 8\n"
          ],
          "name": "stdout"
        },
        {
          "output_type": "display_data",
          "data": {
            "text/html": [
              "<div>\n",
              "<style scoped>\n",
              "    .dataframe tbody tr th:only-of-type {\n",
              "        vertical-align: middle;\n",
              "    }\n",
              "\n",
              "    .dataframe tbody tr th {\n",
              "        vertical-align: top;\n",
              "    }\n",
              "\n",
              "    .dataframe thead th {\n",
              "        text-align: right;\n",
              "    }\n",
              "</style>\n",
              "<table border=\"1\" class=\"dataframe\">\n",
              "  <thead>\n",
              "    <tr style=\"text-align: right;\">\n",
              "      <th></th>\n",
              "      <th>actor_1</th>\n",
              "      <th>actor_2</th>\n",
              "      <th>actor_3</th>\n",
              "      <th>actor_4</th>\n",
              "      <th>actor_5</th>\n",
              "      <th>actor_6</th>\n",
              "      <th>actor_7</th>\n",
              "      <th>actor_8</th>\n",
              "      <th>actor_9</th>\n",
              "      <th>actor_10</th>\n",
              "    </tr>\n",
              "    <tr>\n",
              "      <th>toma</th>\n",
              "      <th></th>\n",
              "      <th></th>\n",
              "      <th></th>\n",
              "      <th></th>\n",
              "      <th></th>\n",
              "      <th></th>\n",
              "      <th></th>\n",
              "      <th></th>\n",
              "      <th></th>\n",
              "      <th></th>\n",
              "    </tr>\n",
              "  </thead>\n",
              "  <tbody>\n",
              "    <tr>\n",
              "      <th>21</th>\n",
              "      <td>0</td>\n",
              "      <td>0</td>\n",
              "      <td>0</td>\n",
              "      <td>0</td>\n",
              "      <td>0</td>\n",
              "      <td>1</td>\n",
              "      <td>0</td>\n",
              "      <td>1</td>\n",
              "      <td>0</td>\n",
              "      <td>0</td>\n",
              "    </tr>\n",
              "    <tr>\n",
              "      <th>19</th>\n",
              "      <td>1</td>\n",
              "      <td>0</td>\n",
              "      <td>1</td>\n",
              "      <td>0</td>\n",
              "      <td>0</td>\n",
              "      <td>0</td>\n",
              "      <td>0</td>\n",
              "      <td>0</td>\n",
              "      <td>0</td>\n",
              "      <td>0</td>\n",
              "    </tr>\n",
              "    <tr>\n",
              "      <th>14</th>\n",
              "      <td>1</td>\n",
              "      <td>0</td>\n",
              "      <td>1</td>\n",
              "      <td>0</td>\n",
              "      <td>0</td>\n",
              "      <td>1</td>\n",
              "      <td>0</td>\n",
              "      <td>0</td>\n",
              "      <td>0</td>\n",
              "      <td>0</td>\n",
              "    </tr>\n",
              "    <tr>\n",
              "      <th>20</th>\n",
              "      <td>1</td>\n",
              "      <td>0</td>\n",
              "      <td>1</td>\n",
              "      <td>1</td>\n",
              "      <td>1</td>\n",
              "      <td>0</td>\n",
              "      <td>0</td>\n",
              "      <td>0</td>\n",
              "      <td>0</td>\n",
              "      <td>0</td>\n",
              "    </tr>\n",
              "    <tr>\n",
              "      <th>27</th>\n",
              "      <td>0</td>\n",
              "      <td>0</td>\n",
              "      <td>0</td>\n",
              "      <td>1</td>\n",
              "      <td>1</td>\n",
              "      <td>0</td>\n",
              "      <td>0</td>\n",
              "      <td>0</td>\n",
              "      <td>0</td>\n",
              "      <td>0</td>\n",
              "    </tr>\n",
              "    <tr>\n",
              "      <th>25</th>\n",
              "      <td>1</td>\n",
              "      <td>1</td>\n",
              "      <td>0</td>\n",
              "      <td>1</td>\n",
              "      <td>0</td>\n",
              "      <td>0</td>\n",
              "      <td>0</td>\n",
              "      <td>0</td>\n",
              "      <td>0</td>\n",
              "      <td>1</td>\n",
              "    </tr>\n",
              "  </tbody>\n",
              "</table>\n",
              "</div>"
            ],
            "text/plain": [
              "      actor_1  actor_2  actor_3  actor_4  ...  actor_7  actor_8  actor_9  actor_10\n",
              "toma                                      ...                                     \n",
              "21          0        0        0        0  ...        0        1        0         0\n",
              "19          1        0        1        0  ...        0        0        0         0\n",
              "14          1        0        1        0  ...        0        0        0         0\n",
              "20          1        0        1        1  ...        0        0        0         0\n",
              "27          0        0        0        1  ...        0        0        0         0\n",
              "25          1        1        0        1  ...        0        0        0         1\n",
              "\n",
              "[6 rows x 10 columns]"
            ]
          },
          "metadata": {
            "tags": []
          }
        },
        {
          "output_type": "stream",
          "text": [
            "\n",
            "\n",
            "total costo: 40\n"
          ],
          "name": "stdout"
        }
      ]
    },
    {
      "cell_type": "code",
      "metadata": {
        "id": "ritcH8Gg_OC3",
        "colab": {
          "base_uri": "https://localhost:8080/"
        },
        "outputId": "0f16aba9-e251-4214-84c0-141890153e0d"
      },
      "source": [
        "print(\"los costos por día son\")\r\n",
        "for i, costo in enumerate(costosxdia):\r\n",
        "    print(f\"costo sesión {i+1}: {costo}\")\r\n",
        "print()\r\n",
        "print(f\"total costo: {np.sum(costosxdia)}\")"
      ],
      "execution_count": 15,
      "outputs": [
        {
          "output_type": "stream",
          "text": [
            "los costos por día son\n",
            "costo sesión 1: 6\n",
            "costo sesión 2: 8\n",
            "costo sesión 3: 9\n",
            "costo sesión 4: 9\n",
            "costo sesión 5: 8\n",
            "\n",
            "total costo: 40\n"
          ],
          "name": "stdout"
        }
      ]
    },
    {
      "cell_type": "code",
      "metadata": {
        "id": "wGD5B-A0-ygH"
      },
      "source": [
        ""
      ],
      "execution_count": 15,
      "outputs": []
    },
    {
      "cell_type": "markdown",
      "metadata": {
        "id": "jEZfo6Af-wMw"
      },
      "source": [
        "### (*)¿Es un problema de maximización o minimización?\r\n",
        "\r\n",
        "En nuestro caso queremos encontrar el mínimo costo de los actores al repartir las tomas en las sesiones. \r\n",
        "\r\n",
        "Por lo tanto este se trata de un problema de **MINIMIZACIÓN**"
      ]
    },
    {
      "cell_type": "code",
      "metadata": {
        "id": "FZW949TdG09A"
      },
      "source": [
        ""
      ],
      "execution_count": 15,
      "outputs": []
    },
    {
      "cell_type": "markdown",
      "metadata": {
        "id": "rlnTYgY1j6I2"
      },
      "source": [
        "## 5. Diseña un algoritmo para resolver el problema por fuerza bruta\r\n",
        "\r\n",
        "Para solucionar el problema por fuerza bruta, se pueden buscar todas las combinaciones posibles de vectores de 30 posiciones sin repetir elementos. \r\n",
        "\r\n",
        "En esta sección se implementará tal algoritmo, pero no se ejecutará debido al enorme número de combinaciones posible.   \r\n",
        "**Probablemente usted no vivirá para ver que el programa termine (ni sus hijos tampoco, ni sus nietos, y si aún hubiera planeta, tampoco lo alcanzarán a ver los nietos de los nietos de sus nietos)**"
      ]
    },
    {
      "cell_type": "markdown",
      "metadata": {
        "id": "4Sd6_VPLNjKn"
      },
      "source": [
        "### Algoritmo por fuerza bruta"
      ]
    },
    {
      "cell_type": "code",
      "metadata": {
        "id": "7pT0eZpqHfQy"
      },
      "source": [
        "import itertools \r\n",
        "verbose=True"
      ],
      "execution_count": 16,
      "outputs": []
    },
    {
      "cell_type": "code",
      "metadata": {
        "id": "IDs-VFyTHdze"
      },
      "source": [
        "def solucion_fuerza_bruta(max_iterations=30, verbose=False):\r\n",
        "    # max_iterations para limitar a que no haga TODAS porque jamás terminaría\r\n",
        "\r\n",
        "    mejor_solucion = None\r\n",
        "    mejor_costo = np.inf\r\n",
        "\r\n",
        "    for i, solucion_iter in enumerate(itertools.permutations(range(30),30)):\r\n",
        "        \r\n",
        "        costo_iter = evaluar_solucion(solucion_iter)\r\n",
        "        if verbose:\r\n",
        "            print(i,\"solución: \", solucion_iter)\r\n",
        "            print(\"costo\", costo_iter)\r\n",
        "            print()\r\n",
        "\r\n",
        "        # actualización de mejor solución\r\n",
        "        if costo_iter < mejor_costo:\r\n",
        "            mejor_solucion = solucion_iter\r\n",
        "            mejor_costo = costo_iter\r\n",
        "            print(i,\"solución: \", solucion_iter)\r\n",
        "            print(\"costo\", costo_iter)\r\n",
        "            print()\r\n",
        "\r\n",
        "        # criterio de parada\r\n",
        "        if i+1>=max_iterations:\r\n",
        "            break\r\n",
        "\r\n",
        "    return (mejor_solucion, mejor_costo)"
      ],
      "execution_count": 17,
      "outputs": []
    },
    {
      "cell_type": "code",
      "metadata": {
        "colab": {
          "base_uri": "https://localhost:8080/"
        },
        "id": "xAw4-yUgHTns",
        "outputId": "5699ae6b-194a-4dfa-f58e-32cd85d03633"
      },
      "source": [
        "solucion, costo = solucion_fuerza_bruta(1000)\r\n",
        "print(f\"la mejor solución encontrada fue {solucion}\")\r\n",
        "print(f\"con un costo de {costo}\")"
      ],
      "execution_count": 18,
      "outputs": [
        {
          "output_type": "stream",
          "text": [
            "0 solución:  (0, 1, 2, 3, 4, 5, 6, 7, 8, 9, 10, 11, 12, 13, 14, 15, 16, 17, 18, 19, 20, 21, 22, 23, 24, 25, 26, 27, 28, 29)\n",
            "costo 38\n",
            "\n",
            "720 solución:  (0, 1, 2, 3, 4, 5, 6, 7, 8, 9, 10, 11, 12, 13, 14, 15, 16, 17, 18, 19, 20, 21, 22, 24, 23, 25, 26, 27, 28, 29)\n",
            "costo 37\n",
            "\n",
            "la mejor solución encontrada fue (0, 1, 2, 3, 4, 5, 6, 7, 8, 9, 10, 11, 12, 13, 14, 15, 16, 17, 18, 19, 20, 21, 22, 24, 23, 25, 26, 27, 28, 29)\n",
            "con un costo de 37\n"
          ],
          "name": "stdout"
        }
      ]
    },
    {
      "cell_type": "markdown",
      "metadata": {
        "id": "Uf-bIqzMM8jp"
      },
      "source": [
        "**NOTA**: recuerde que en la sección anterior limitamos a cierto número la cantidad de soluciones evaluadas, dado que no presenciaría con vida el final de este algoritmo si lo dejamos evaluar todas las soluciones"
      ]
    },
    {
      "cell_type": "code",
      "metadata": {
        "id": "CJb5sQ0qkENy"
      },
      "source": [
        ""
      ],
      "execution_count": 18,
      "outputs": []
    },
    {
      "cell_type": "markdown",
      "metadata": {
        "id": "tgrnsC2nkFa8"
      },
      "source": [
        "### Calcula la complejidad del algoritmo por fuerza bruta\r\n",
        "\r\n",
        "Para calcular la complejidad debemos tener en cuenta la complejidad de la función de evaluación (función objetivo) que es de orden **n** (pero esto se despreciará como puede apreciar más adelante)\r\n",
        "\r\n",
        "Ahora esto lo debemos multiplicar por cada una de las posibilidades que sale del método de fuerza bruta. \r\n",
        "Este método retornará **n!** soluciones diferentes\r\n",
        "\r\n",
        "por lo tanto el orden algorítmico de la solución por fuerza bruta es **O(n!)**"
      ]
    },
    {
      "cell_type": "code",
      "metadata": {
        "id": "rvZWwL-ckRST"
      },
      "source": [
        ""
      ],
      "execution_count": 18,
      "outputs": []
    },
    {
      "cell_type": "markdown",
      "metadata": {
        "id": "txbrmLmskReM"
      },
      "source": [
        "## 6. (*)Diseña un algoritmo que mejore la complejidad del algortimo por fuerza bruta\r\n",
        "Argumenta porque crees que mejora el algoritmo por fuerza bruta"
      ]
    },
    {
      "cell_type": "markdown",
      "metadata": {
        "id": "bPlFP7vkOSIN"
      },
      "source": [
        "Dada la naturaleza factorial del problema, en las siguientes sub-secciones se propondrán una serie de algoritmos que permitan llegar a soluciones buenas, pero no garantizaremos que se encuentra el óptimo"
      ]
    },
    {
      "cell_type": "code",
      "metadata": {
        "id": "CnqRrSg1OPg7"
      },
      "source": [
        ""
      ],
      "execution_count": 18,
      "outputs": []
    },
    {
      "cell_type": "markdown",
      "metadata": {
        "id": "-GbVNpEJ0PHY"
      },
      "source": [
        "### Solución por técnica voraz\r\n",
        "\r\n",
        "En esta sección emplearemos la técnica voraz para encontrar una solución buena. Cabe aclarar que en este caso no encontraremos el óptimo, pues encontraremos la mejor solución en cada iteración, pero esto no garantiza llegar al mínimo global"
      ]
    },
    {
      "cell_type": "markdown",
      "metadata": {
        "id": "kwiT_o090i6r"
      },
      "source": [
        "Lo que haremos será armar las sesiones de una en una. Buscando siempre la combinación de sesiones de menor costo. \r\n",
        "\r\n",
        "Así, la primera sesión será la del más bajo costo dentro de todas las combinaciones de tomas disponibles para una sesión. \r\n",
        "\r\n",
        "Luego, con las tomas que quedan, se buscará otra vez la nueva sesión de costo mínimo y así hasta que hayamos utilizado todas las tomas"
      ]
    },
    {
      "cell_type": "markdown",
      "metadata": {
        "id": "nUlc2NYq3XZx"
      },
      "source": [
        "#### Algoritmo solución voraz"
      ]
    },
    {
      "cell_type": "code",
      "metadata": {
        "id": "4kUyFJ_6OMrE"
      },
      "source": [
        "def get_subsets_optimos(tomas_disponibles):\r\n",
        "    # esta función recibe una lista de tomas: tomas_disponibles\r\n",
        "    # y encontrará la configuración de 6 tomas que hace que la sesión\r\n",
        "    # tenga el costo mínimo\r\n",
        "    stuff = tomas_disponibles\r\n",
        "    costo_min = np.inf\r\n",
        "    best_subset = []\r\n",
        "    \r\n",
        "    # parámetros para imprimir\r\n",
        "    total_combinaciones = combinatoria(len(tomas_disponibles), 6)\r\n",
        "    imprimir_cada = max(total_combinaciones//20, 1)\r\n",
        "    for i, subset in enumerate(itertools.combinations(tomas_disponibles, 6)):\r\n",
        "        if (i+1) % imprimir_cada == 0:\r\n",
        "            print(f\"Iteración # {i+1}/{'{:.0f}'.format(total_combinaciones)} ({'{:.2f}'.format((i+1)/total_combinaciones*100)}%)\")\r\n",
        "        costo_actual = evaluar_dia(list(subset))\r\n",
        "        if costo_actual < costo_min:\r\n",
        "            costo_min = costo_actual\r\n",
        "            best_subset = subset\r\n",
        "            print(f\"iteración: {i}, costo: {costo_min}, combinación: {best_subset}\")\r\n",
        "    \r\n",
        "    return best_subset"
      ],
      "execution_count": 19,
      "outputs": []
    },
    {
      "cell_type": "code",
      "metadata": {
        "colab": {
          "base_uri": "https://localhost:8080/"
        },
        "id": "c_GSKZKF00Pm",
        "outputId": "49ee8a77-ca82-4073-b8aa-04352766ad8f"
      },
      "source": [
        "tomas_disponibles = set(range(30))\r\n",
        "subsets_optimos = []\r\n",
        "for i in range(5):\r\n",
        "    print(\"#\" * 50)\r\n",
        "    print(f\"hay {len(tomas_disponibles)} disponibles\")\r\n",
        "    print()\r\n",
        "    best_subset = get_subsets_optimos(tomas_disponibles)\r\n",
        "    \r\n",
        "    # actualizo los disponibles\r\n",
        "    tomas_disponibles = tomas_disponibles - set(best_subset)\r\n",
        "    subsets_optimos.append(list(best_subset))\r\n",
        "    print()"
      ],
      "execution_count": 20,
      "outputs": [
        {
          "output_type": "stream",
          "text": [
            "##################################################\n",
            "hay 30 disponibles\n",
            "\n",
            "iteración: 0, costo: 7, combinación: (0, 1, 2, 3, 4, 5)\n",
            "iteración: 626, costo: 6, combinación: (0, 1, 2, 5, 6, 8)\n",
            "iteración: 7850, costo: 5, combinación: (0, 1, 5, 6, 8, 12)\n",
            "Iteración # 29688/593775 (5.00%)\n",
            "Iteración # 59376/593775 (10.00%)\n",
            "Iteración # 89064/593775 (15.00%)\n",
            "Iteración # 118752/593775 (20.00%)\n",
            "Iteración # 148440/593775 (25.00%)\n",
            "Iteración # 178128/593775 (30.00%)\n",
            "Iteración # 207816/593775 (35.00%)\n",
            "iteración: 209914, costo: 4, combinación: (1, 12, 16, 18, 19, 22)\n",
            "Iteración # 237504/593775 (40.00%)\n",
            "Iteración # 267192/593775 (45.00%)\n",
            "Iteración # 296880/593775 (50.00%)\n",
            "Iteración # 326568/593775 (55.00%)\n",
            "Iteración # 356256/593775 (60.00%)\n",
            "Iteración # 385944/593775 (65.00%)\n",
            "Iteración # 415632/593775 (70.00%)\n",
            "Iteración # 445320/593775 (75.00%)\n",
            "Iteración # 475008/593775 (80.00%)\n",
            "Iteración # 504696/593775 (85.00%)\n",
            "Iteración # 534384/593775 (90.00%)\n",
            "Iteración # 564072/593775 (95.00%)\n",
            "iteración: 583792, costo: 3, combinación: (13, 16, 17, 18, 22, 23)\n",
            "Iteración # 593760/593775 (100.00%)\n",
            "\n",
            "##################################################\n",
            "hay 24 disponibles\n",
            "\n",
            "iteración: 0, costo: 7, combinación: (0, 1, 2, 3, 4, 5)\n",
            "iteración: 362, costo: 6, combinación: (0, 1, 2, 5, 6, 8)\n",
            "iteración: 3458, costo: 5, combinación: (0, 1, 5, 6, 8, 12)\n",
            "Iteración # 6729/134596 (5.00%)\n",
            "Iteración # 13458/134596 (10.00%)\n",
            "Iteración # 20187/134596 (15.00%)\n",
            "Iteración # 26916/134596 (20.00%)\n",
            "Iteración # 33645/134596 (25.00%)\n",
            "Iteración # 40374/134596 (30.00%)\n",
            "Iteración # 47103/134596 (35.00%)\n",
            "Iteración # 53832/134596 (40.00%)\n",
            "iteración: 59448, costo: 4, combinación: (1, 12, 19, 26, 27, 29)\n",
            "Iteración # 60561/134596 (44.99%)\n",
            "Iteración # 67290/134596 (49.99%)\n",
            "Iteración # 74019/134596 (54.99%)\n",
            "Iteración # 80748/134596 (59.99%)\n",
            "Iteración # 87477/134596 (64.99%)\n",
            "Iteración # 94206/134596 (69.99%)\n",
            "Iteración # 100935/134596 (74.99%)\n",
            "Iteración # 107664/134596 (79.99%)\n",
            "Iteración # 114393/134596 (84.99%)\n",
            "Iteración # 121122/134596 (89.99%)\n",
            "Iteración # 127851/134596 (94.99%)\n",
            "Iteración # 134580/134596 (99.99%)\n",
            "\n",
            "##################################################\n",
            "hay 18 disponibles\n",
            "\n",
            "iteración: 0, costo: 7, combinación: (0, 2, 3, 4, 5, 6)\n",
            "iteración: 833, costo: 6, combinación: (0, 2, 5, 6, 8, 14)\n",
            "Iteración # 928/18564 (5.00%)\n",
            "Iteración # 1856/18564 (10.00%)\n",
            "Iteración # 2784/18564 (15.00%)\n",
            "Iteración # 3712/18564 (20.00%)\n",
            "Iteración # 4640/18564 (24.99%)\n",
            "Iteración # 5568/18564 (29.99%)\n",
            "Iteración # 6496/18564 (34.99%)\n",
            "Iteración # 7424/18564 (39.99%)\n",
            "Iteración # 8352/18564 (44.99%)\n",
            "Iteración # 9280/18564 (49.99%)\n",
            "Iteración # 10208/18564 (54.99%)\n",
            "Iteración # 11136/18564 (59.99%)\n",
            "Iteración # 12064/18564 (64.99%)\n",
            "Iteración # 12992/18564 (69.98%)\n",
            "Iteración # 13920/18564 (74.98%)\n",
            "Iteración # 14848/18564 (79.98%)\n",
            "Iteración # 15776/18564 (84.98%)\n",
            "Iteración # 16704/18564 (89.98%)\n",
            "Iteración # 17632/18564 (94.98%)\n",
            "Iteración # 18560/18564 (99.98%)\n",
            "\n",
            "##################################################\n",
            "hay 12 disponibles\n",
            "\n",
            "iteración: 0, costo: 9, combinación: (3, 4, 7, 9, 10, 11)\n",
            "iteración: 8, costo: 8, combinación: (3, 4, 7, 9, 11, 20)\n",
            "Iteración # 46/924 (4.98%)\n",
            "iteración: 54, costo: 7, combinación: (3, 4, 7, 11, 20, 21)\n",
            "Iteración # 92/924 (9.96%)\n",
            "Iteración # 138/924 (14.94%)\n",
            "Iteración # 184/924 (19.91%)\n",
            "Iteración # 230/924 (24.89%)\n",
            "Iteración # 276/924 (29.87%)\n",
            "Iteración # 322/924 (34.85%)\n",
            "Iteración # 368/924 (39.83%)\n",
            "Iteración # 414/924 (44.81%)\n",
            "Iteración # 460/924 (49.78%)\n",
            "Iteración # 506/924 (54.76%)\n",
            "Iteración # 552/924 (59.74%)\n",
            "Iteración # 598/924 (64.72%)\n",
            "Iteración # 644/924 (69.70%)\n",
            "Iteración # 690/924 (74.68%)\n",
            "Iteración # 736/924 (79.65%)\n",
            "Iteración # 782/924 (84.63%)\n",
            "Iteración # 828/924 (89.61%)\n",
            "Iteración # 874/924 (94.59%)\n",
            "Iteración # 920/924 (99.57%)\n",
            "\n",
            "##################################################\n",
            "hay 6 disponibles\n",
            "\n",
            "Iteración # 1/1 (100.00%)\n",
            "iteración: 0, costo: 9, combinación: (9, 10, 15, 24, 25, 28)\n",
            "\n"
          ],
          "name": "stdout"
        }
      ]
    },
    {
      "cell_type": "code",
      "metadata": {
        "id": "m1eyM21Vkabg"
      },
      "source": [
        ""
      ],
      "execution_count": 20,
      "outputs": []
    },
    {
      "cell_type": "markdown",
      "metadata": {
        "id": "ZO40EY0y1ftQ"
      },
      "source": [
        "* Este método lo primero que hizo fue buscar la combinación de costo mínimo de 6 tomas dentro de las 30 disponibles. Esto dio un espacio de solución de 593775 soluciones y las evaluó todas, encontrando una combinación de costo **3**, y así guardamos esta sesión como la más barata de todas.\r\n",
        "\r\n",
        "* Luego buscó la siguiente sesión más barata, pero ya solo tiene 24 tomas disponibles, lo cual baja el número de combinaciones a **134596**. Esto con un costo de 4\r\n",
        "\r\n",
        "* Luego de evaluarlas todas, ya tenemos 2 sesiones armadas y se repite este mismo ejercicio para encontrar la 3ra sesión más barata. Con 18 tomas disponibles tiene **18564** soluciones posibles. Esto con un costo de 6\r\n",
        "\r\n",
        "* Siguiente encontró la solución más barata dentro de las 12 tomas posibles, lo cuál implicó buscar entre **924** soluciones posibles. Esto con un costo de 7\r\n",
        "\r\n",
        "* y por último quedaron las tomas que no entraron dentro de ninguna otra sesión, generándonos la última sesión con un costo de 9."
      ]
    },
    {
      "cell_type": "code",
      "metadata": {
        "colab": {
          "base_uri": "https://localhost:8080/"
        },
        "id": "W7ssCW2yGsCF",
        "outputId": "9012411d-dbdb-4378-8c98-04f090aedcae"
      },
      "source": [
        "subsets_optimos"
      ],
      "execution_count": 21,
      "outputs": [
        {
          "output_type": "execute_result",
          "data": {
            "text/plain": [
              "[[13, 16, 17, 18, 22, 23],\n",
              " [1, 12, 19, 26, 27, 29],\n",
              " [0, 2, 5, 6, 8, 14],\n",
              " [3, 4, 7, 11, 20, 21],\n",
              " [9, 10, 15, 24, 25, 28]]"
            ]
          },
          "metadata": {
            "tags": []
          },
          "execution_count": 21
        }
      ]
    },
    {
      "cell_type": "code",
      "metadata": {
        "colab": {
          "base_uri": "https://localhost:8080/"
        },
        "id": "27gcKPDh2v7X",
        "outputId": "52048ab3-1a76-451d-acd7-f3a202c390d0"
      },
      "source": [
        "solucion_voraz = np.array(subsets_optimos).reshape(30)\r\n",
        "solucion_voraz"
      ],
      "execution_count": 22,
      "outputs": [
        {
          "output_type": "execute_result",
          "data": {
            "text/plain": [
              "array([13, 16, 17, 18, 22, 23,  1, 12, 19, 26, 27, 29,  0,  2,  5,  6,  8,\n",
              "       14,  3,  4,  7, 11, 20, 21,  9, 10, 15, 24, 25, 28])"
            ]
          },
          "metadata": {
            "tags": []
          },
          "execution_count": 22
        }
      ]
    },
    {
      "cell_type": "code",
      "metadata": {
        "colab": {
          "base_uri": "https://localhost:8080/"
        },
        "id": "6MOaJWoy3DmG",
        "outputId": "ffd4d6c6-272a-47dd-bfa5-7ce0b110e148"
      },
      "source": [
        "print(f\"la solución voraz tiene un costo de: {evaluar_solucion(solucion_voraz)}\")"
      ],
      "execution_count": 23,
      "outputs": [
        {
          "output_type": "stream",
          "text": [
            "la solución voraz tiene un costo de: 29\n"
          ],
          "name": "stdout"
        }
      ]
    },
    {
      "cell_type": "code",
      "metadata": {
        "id": "q2GKBZ5w3DpD"
      },
      "source": [
        ""
      ],
      "execution_count": 23,
      "outputs": []
    },
    {
      "cell_type": "markdown",
      "metadata": {
        "id": "eGDB4K6uk1iN"
      },
      "source": [
        "#### (*)Calcula la complejidad de la solución voraz \r\n",
        "La solución por técnica voraz ya vendrá con unos pasos establecidos donde en cada etapa deberá buscar todas las combinaciones de 6 elementos disponibles entre la cantidad de tomas que aún no se han usado. \r\n",
        "\r\n",
        "Por tanto la primera etapa es de orden \r\n",
        "$O( \\tfrac{n!}{6(n-6)!})$"
      ]
    },
    {
      "cell_type": "code",
      "metadata": {
        "id": "2clkTLTD5StY"
      },
      "source": [
        ""
      ],
      "execution_count": 23,
      "outputs": []
    },
    {
      "cell_type": "markdown",
      "metadata": {
        "id": "_RelFPx75VRJ"
      },
      "source": [
        "### Solución por búsqueda local\r\n",
        "En esta sección se implementará búsqueda local para verificar si se encuentran mejores soluciones a la de costo 29 hallada en la sección anterior"
      ]
    },
    {
      "cell_type": "code",
      "metadata": {
        "id": "-ZL_w68b5hkf"
      },
      "source": [
        "def swap_indices(lista, i, j):\r\n",
        "    # esta función retorna una lista donde los elementos en las posiciones\r\n",
        "    # i y j están intercambiados respecto a la lista original\r\n",
        "    # ejemplo: [1, 2, 3, 4, 5], i=1, j=3\r\n",
        "    # intercambirá los elementos en las posiciones i y j\r\n",
        "    # retornará: [1, 4, 3, 2, 5] Nótese como se intercambiarón el 2 y el 4\r\n",
        "    resp = lista.copy()\r\n",
        "    resp[i], resp[j] = lista[j], lista[i]\r\n",
        "    return resp\r\n",
        "# swap_indices([1, 2, 3, 4, 5], 1, 3)"
      ],
      "execution_count": 24,
      "outputs": []
    },
    {
      "cell_type": "code",
      "metadata": {
        "id": "SR9mQotW5y_T"
      },
      "source": [
        "def generar_vecinos_0(solucion, tomasxsesion = 6):\r\n",
        "  # genera soluciones vecinas cambiando todas las parejas posibles de nodos\r\n",
        "\r\n",
        "    n = len(solucion)\r\n",
        "    vecinos = [] # lista con todas las soluciones vecinas\r\n",
        "  \r\n",
        "    for i in range(n-1):\r\n",
        "        for j in range(i+6, n):\r\n",
        "            vecino = swap_indices(solucion, i, j)\r\n",
        "            vecinos.append(vecino)\r\n",
        "    return vecinos\r\n",
        "\r\n",
        "def generar_vecinos_1(solucion, num_sesiones = 5, tomasxsesion = 6):\r\n",
        "    vecinos = []\r\n",
        "    for bloque1 in range(num_sesiones):\r\n",
        "        for bloque2 in range(bloque1+1, num_sesiones):\r\n",
        "            for ind1 in range(bloque1*tomasxsesion, bloque1*tomasxsesion+tomasxsesion):\r\n",
        "                for ind2 in range(bloque2*tomasxsesion, bloque2*tomasxsesion+tomasxsesion):\r\n",
        "                    vecino = swap_indices(np.array(solucion), ind1, ind2)\r\n",
        "                    vecinos.append(vecino)\r\n",
        "    return vecinos\r\n",
        "\r\n",
        "def get_mejor_vecino(solucion, generador_vecindad=generar_vecinos_1):\r\n",
        "    # esta función retorna la solución vecina con mejor desempeño\r\n",
        "    # y retorna también la mejor distancia\r\n",
        "    # recibe la solucion de referencia\r\n",
        "    # y la función generadora de vecindad\r\n",
        "\r\n",
        "    # 1. Generar todos los vecinos según la función generadora de vecindad\r\n",
        "    vecinos = generador_vecindad(solucion)\r\n",
        "\r\n",
        "    mejor_vecino = None\r\n",
        "    mejor_costo = np.inf\r\n",
        "    for vecino in vecinos:\r\n",
        "        costo_actual = evaluar_solucion(vecino.reshape(5, 6))\r\n",
        "        if costo_actual <= mejor_costo:\r\n",
        "            mejor_vecino = vecino\r\n",
        "            mejor_costo = costo_actual\r\n",
        "    return mejor_vecino, mejor_costo"
      ],
      "execution_count": 25,
      "outputs": []
    },
    {
      "cell_type": "code",
      "metadata": {
        "id": "6tChlhOG5iH5"
      },
      "source": [
        "def busqueda_local(n = 30, max_iter= 1000, solucion=None, verbose=False, generador_vecindad=generar_vecinos_1):\r\n",
        "  # Esta función realizará una búsqueda local exhaustiva.\r\n",
        "  # el punto de partida puede ser una solución pasada como argumento, en caso\r\n",
        "  # de que este no sea entregado, el punto de partida será una solución aleatoria\r\n",
        "  # se puede modificar el generador de vecindad\r\n",
        "    \r\n",
        "  \r\n",
        "  # 1. Generar solución de referencia\r\n",
        "  # será igual a la solucion si esta fue pasada como argumento\r\n",
        "  # de otro modo será una solucion aleatoria\r\n",
        "  solucion_referencia = solucion if solucion is not None else crear_solucion_aleatoria(n) \r\n",
        "  \r\n",
        "  # se inicializan la mejor solución y mejor distancia\r\n",
        "  mejor_solucion = solucion_referencia\r\n",
        "  mejor_costo = evaluar_solucion(mejor_solucion.reshape(5, 6))\r\n",
        "  iteracion = 0 # contador para saber en qué iteración vamos\r\n",
        "  hubo_mejora = True # marca para controlar si se mejoró o sino parar el algoritmo\r\n",
        "  while iteracion < max_iter and hubo_mejora:\r\n",
        "    iteracion += 1\r\n",
        "\r\n",
        "    # se obtiene el mejor vecino con su respectiva distancia\r\n",
        "    vecino, costo_vecino = get_mejor_vecino(solucion_referencia, generador_vecindad=generador_vecindad)\r\n",
        "\r\n",
        "    if costo_vecino < mejor_costo:\r\n",
        "      mejor_solucion = vecino\r\n",
        "      mejor_costo = costo_vecino\r\n",
        "    else:\r\n",
        "      hubo_mejora = False\r\n",
        "    \r\n",
        "    if verbose:\r\n",
        "      print(f\"iteracion: {iteracion}, mejor_costo: {mejor_costo}\")\r\n",
        "      print(f\"mejor_solucion {mejor_solucion}\")\r\n",
        "      print()\r\n",
        "    solucion_referencia = vecino\r\n",
        "\r\n",
        "  return mejor_solucion, mejor_costo, iteracion"
      ],
      "execution_count": 26,
      "outputs": []
    },
    {
      "cell_type": "code",
      "metadata": {
        "colab": {
          "base_uri": "https://localhost:8080/"
        },
        "id": "UZVpngDZ-mcy",
        "outputId": "24df525e-e886-4e03-cf50-84618164ea23"
      },
      "source": [
        "solucion, costo, iteracion = busqueda_local(30, verbose=True)"
      ],
      "execution_count": 27,
      "outputs": [
        {
          "output_type": "stream",
          "text": [
            "iteracion: 1, mejor_costo: 38\n",
            "mejor_solucion [20 27 25  0  5 12 16  7 19  9  6 13 29 28  8 22  3 21 18 24  1 14 26  2\n",
            " 17 15 11  4 10 23]\n",
            "\n",
            "iteracion: 2, mejor_costo: 36\n",
            "mejor_solucion [20 27 25  0  5 12 16  7 19  9  6 13 29  4  8 22  3 21 18 24  1 14 26  2\n",
            " 17 15 11 28 10 23]\n",
            "\n",
            "iteracion: 3, mejor_costo: 34\n",
            "mejor_solucion [15 27 25  0  5 12 16  7 19  9  6 13 29  4  8 22  3 21 18 24  1 14 26  2\n",
            " 17 20 11 28 10 23]\n",
            "\n",
            "iteracion: 4, mejor_costo: 33\n",
            "mejor_solucion [15 27 25  0  5 12 16  7 19  9  6 11 29  4  8 22  3 21 18 24  1 14 26  2\n",
            " 17 20 13 28 10 23]\n",
            "\n",
            "iteracion: 5, mejor_costo: 32\n",
            "mejor_solucion [15 27 25  0  5 24 16  7 19  9  6 11 29  4  8 22  3 21 18 12  1 14 26  2\n",
            " 17 20 13 28 10 23]\n",
            "\n",
            "iteracion: 6, mejor_costo: 31\n",
            "mejor_solucion [15 27  6  0  5 24 16  7 19  9 25 11 29  4  8 22  3 21 18 12  1 14 26  2\n",
            " 17 20 13 28 10 23]\n",
            "\n",
            "iteracion: 7, mejor_costo: 30\n",
            "mejor_solucion [15 27  6 26  5 24 16  7 19  9 25 11 29  4  8 22  3 21 18 12  1 14  0  2\n",
            " 17 20 13 28 10 23]\n",
            "\n",
            "iteracion: 8, mejor_costo: 30\n",
            "mejor_solucion [15 27  6 26  5 24 16  7 19  9 25 11 29  4  8 22  3 21 18 12  1 14  0  2\n",
            " 17 20 13 28 10 23]\n",
            "\n"
          ],
          "name": "stdout"
        }
      ]
    },
    {
      "cell_type": "code",
      "metadata": {
        "colab": {
          "base_uri": "https://localhost:8080/"
        },
        "id": "wGIFkmUu533s",
        "outputId": "0e8ad389-b0e5-4b1e-8064-eb6d5f267ba0"
      },
      "source": [
        "print(f\"en la iteración {iteracion} con la solución {solucion}\")\r\n",
        "print(f\"Se obtuvo un costo de: {costo}\")"
      ],
      "execution_count": 28,
      "outputs": [
        {
          "output_type": "stream",
          "text": [
            "en la iteración 8 con la solución [15 27  6 26  5 24 16  7 19  9 25 11 29  4  8 22  3 21 18 12  1 14  0  2\n",
            " 17 20 13 28 10 23]\n",
            "Se obtuvo un costo de: 30\n"
          ],
          "name": "stdout"
        }
      ]
    },
    {
      "cell_type": "code",
      "metadata": {
        "id": "J4bNhiUK-shz"
      },
      "source": [
        ""
      ],
      "execution_count": 28,
      "outputs": []
    },
    {
      "cell_type": "markdown",
      "metadata": {
        "id": "3v7sBHTC9bOa"
      },
      "source": [
        "### Solución por algoritmos genéticos\r\n",
        "\r\n",
        "En esta sección se implementarán algoritmos genéticos para encontrar soluciones que de manera evolutiva sean mejores generación por generación."
      ]
    },
    {
      "cell_type": "markdown",
      "metadata": {
        "id": "1O0R-LyX-DpT"
      },
      "source": [
        "#### Funciones auxiliares\r\n",
        "\r\n",
        "En esta sección se implementarán una serie de funciones que servirán para ejecutar el algoritmo genético"
      ]
    },
    {
      "cell_type": "code",
      "metadata": {
        "id": "8YGFm8-g536N"
      },
      "source": [
        "def get_child(ind1, ind2):\r\n",
        "    # Esta función generará un hijo a partir de 2 individuos ind1 e ind2. \r\n",
        "    # el hijo tendrá los genes comunes de sus padres. \r\n",
        "    # Ejemplo ind1 = [1, 2, 3, 4], ind2 = [3, 2, 1, 4]\r\n",
        "    # nótese que las posiciones 1 y 3 de los 2 vectores son iguales, entonces\r\n",
        "    # el hijo tendrá estos \"genes\" en las mismas posiciones\r\n",
        "    # hijo = [?, 2, ?, 4]. Ahora los ? se llenarán intercalando los genes del padre\r\n",
        "    # y madre si es posible o de manera aleatoria de tal forma que no repita genes\r\n",
        "    \r\n",
        "    n = len(ind1)\r\n",
        "    available_items = set(range(n))\r\n",
        "    available_indices = set(range(n))\r\n",
        "    ch = np.zeros(n)\r\n",
        "\r\n",
        "    common_indexes = np.where(ind1==ind2)[0] # el [0] es para usar solo una dimensión\r\n",
        "\r\n",
        "    ch[common_indexes] = ind1[common_indexes]\r\n",
        "\r\n",
        "    # actualización de los índices y los items disponibles\r\n",
        "    available_indices = available_indices - set(common_indexes)\r\n",
        "    available_items = available_items - set(ch[common_indexes])\r\n",
        "\r\n",
        "    dict_cruce = {\r\n",
        "        0: ind1,\r\n",
        "        1: ind2\r\n",
        "    }\r\n",
        "    for i, index in enumerate(available_indices):\r\n",
        "        elem = dict_cruce.get(i%2)[index]\r\n",
        "        if not elem in available_items:\r\n",
        "            elem = random.choice(list(available_items))\r\n",
        "        available_items.remove(elem)\r\n",
        "        ch[index] = elem\r\n",
        "    return ch\r\n",
        "\r\n",
        "def cruzar_elementos(ind1, ind2):\r\n",
        "    # una forma de cruzar individuos\r\n",
        "    ch1 = get_child(ind1, ind2)\r\n",
        "    ch2 = get_child(ind2, ind1)\r\n",
        "    return ch1, ch2\r\n",
        "    \r\n",
        "# functión para evaluar a un individuo\r\n",
        "def evaluar_individuo(ind):\r\n",
        "    # un individuo es lo mismo que nuestra representación de solución\r\n",
        "    # por eso las funciones serán las mismas\r\n",
        "    return evaluar_solucion(ind)\r\n",
        "\r\n",
        "def crear_poblacion(tam_pob, n = 30):\r\n",
        "    # Esta función creará tam_pob vectores de tamaño n.\r\n",
        "    population = [crear_solucion_aleatoria(n) for i in range(tam_pob)]\r\n",
        "    return population\r\n",
        "\r\n",
        "# función para evaluar toda una población\r\n",
        "def evaluar_poblacion(population):\r\n",
        "    scores = [evaluar_individuo(x) for x in population]\r\n",
        "    return scores\r\n",
        "\r\n",
        "def seleccion_individuos(scores_df, n_best, n_worst):\r\n",
        "    # esta función retornará los indices de los mejores,\r\n",
        "    # y los índices de los peores indivividuos\r\n",
        "    best_indices = list(scores_df.iloc[:n_best][\"indice\"])\r\n",
        "    worst_indices = list(scores_df.iloc[-n_worst:][\"indice\"])\r\n",
        "    return best_indices, worst_indices"
      ],
      "execution_count": 29,
      "outputs": []
    },
    {
      "cell_type": "markdown",
      "metadata": {
        "id": "cY7BjPzaAsXF"
      },
      "source": [
        "#### Funciones de cruce\r\n",
        "\r\n",
        "En esta sección se implementan distintas formas de cruzar a los individuos de la población\r\n"
      ]
    },
    {
      "cell_type": "code",
      "metadata": {
        "id": "AJ4oFGHEA0eJ"
      },
      "source": [
        "def cruzar_mejores_1(best_indiv):\r\n",
        "    # esta función retorna los hijos resultantes del cruce\r\n",
        "    # de los mejores individuos de la población\r\n",
        "    # esta función garantiza tomar de a 2 individuos del \r\n",
        "    # grupo de mejores y los cruza.\r\n",
        "    best_indiv = best_indiv[:] # se hace una copia de la lista para no modificar la original\r\n",
        "    random.shuffle(best_indiv) # se hace shuffle de la lista\r\n",
        "    new_kids = []\r\n",
        "    while len(best_indiv)>=2:\r\n",
        "        ind1 = best_indiv.pop()\r\n",
        "        ind2 = best_indiv.pop()\r\n",
        "        k1, k2 = cruzar_elementos(ind1, ind2)\r\n",
        "        new_kids+=[k1, k2]\r\n",
        "    return new_kids\r\n",
        "\r\n",
        "def cruzar_mejores_2(best_indiv):\r\n",
        "    # esta función retorna los hijos resultantes del cruce\r\n",
        "    # de los mejores individuos de la población\r\n",
        "    # esta función garantiza tomar de a 2 individuos del \r\n",
        "    # grupo de mejores y los cruza.\r\n",
        "    best_indiv = best_indiv[:] # se hace una copia de la lista para no modificar la original\r\n",
        "#     random.shuffle(best_indiv) # se hace shuffle de la lista\r\n",
        "    new_kids = []\r\n",
        "    for i in range(len(best_indiv)-1):\r\n",
        "        for j in range(i+1, len(best_indiv)):\r\n",
        "            ind1 = best_indiv[i]\r\n",
        "            ind2 = best_indiv[j]\r\n",
        "            k1, k2 = cruzar_elementos(ind1, ind2)\r\n",
        "            new_kids += [k1, k2]\r\n",
        "    return new_kids\r\n",
        "\r\n",
        "def cruzar_mejores_3(best_indiv, num_cruces):\r\n",
        "    # esta función retorna los hijos resultantes del cruce\r\n",
        "    # de los mejores individuos de la población\r\n",
        "    # esta función garantiza tomar de a 2 individuos del \r\n",
        "    # grupo de mejores y los cruza.\r\n",
        "    # hará n cruces aleatorios\r\n",
        "    best_indiv = best_indiv[:] # se hace una copia de la lista para no modificar la original\r\n",
        "#     random.shuffle(best_indiv) # se hace shuffle de la lista\r\n",
        "    new_kids = []\r\n",
        "    for i in range(num_cruces):\r\n",
        "        ind1 = random.choice(best_indiv)\r\n",
        "        ind2 = random.choice(best_indiv)\r\n",
        "        k1, k2 = cruzar_elementos(ind1, ind2)\r\n",
        "        new_kids += [k1, k2]\r\n",
        "    return new_kids\r\n",
        "\r\n",
        "def cruzar_mejores_4(best_indiv, pesos, num_cruces):\r\n",
        "    # esta función retorna los hijos resultantes del cruce\r\n",
        "    # de los mejores individuos de la población\r\n",
        "    # esta función garantiza tomar de a 2 individuos del \r\n",
        "    # grupo de mejores y los cruza.\r\n",
        "    # hará n cruces aleatorios\r\n",
        "    best_indiv = best_indiv[:] # se hace una copia de la lista para no modificar la original\r\n",
        "#     random.shuffle(best_indiv) # se hace shuffle de la lista\r\n",
        "    new_kids = []\r\n",
        "    for i in range(num_cruces):\r\n",
        "        ind1 = random.choices(best_indiv, weights=pesos, k=1)[0]\r\n",
        "        ind2 = random.choices(best_indiv, weights=pesos, k=1)[0]\r\n",
        "        k1, k2 = cruzar_elementos(ind1, ind2)\r\n",
        "        new_kids += [k1, k2]\r\n",
        "    return new_kids"
      ],
      "execution_count": 30,
      "outputs": []
    },
    {
      "cell_type": "code",
      "metadata": {
        "id": "eeLtxrQE538d",
        "colab": {
          "base_uri": "https://localhost:8080/"
        },
        "outputId": "cee74520-6dd1-4d1d-fe14-30e7299a36b8"
      },
      "source": [
        "# ejemplo de las evaluaciones de una población aleatoria\r\n",
        "evaluar_poblacion(crear_poblacion(10))"
      ],
      "execution_count": 31,
      "outputs": [
        {
          "output_type": "execute_result",
          "data": {
            "text/plain": [
              "[40, 38, 37, 38, 36, 41, 37, 37, 35, 40]"
            ]
          },
          "metadata": {
            "tags": []
          },
          "execution_count": 31
        }
      ]
    },
    {
      "cell_type": "markdown",
      "metadata": {
        "id": "ymkOQprPA8fJ"
      },
      "source": [
        "#### Ejecutar el algoritmo genético"
      ]
    },
    {
      "cell_type": "code",
      "metadata": {
        "id": "RaXE4wowKshB"
      },
      "source": [
        "def ejecutar_genetico(num_iteraciones = 30, tam_pob=20000, n_best=2000, num_cruces=8000):\r\n",
        "    # tam_pob = 20000\r\n",
        "    poblacion= crear_poblacion(tam_pob)\r\n",
        "    # n_best = 2000\r\n",
        "    # n_worst = 8000\r\n",
        "    mejores_scores = []\r\n",
        "    best_individuo_vector = None\r\n",
        "    for i in range(num_iteraciones):\r\n",
        "        print(\"iteración\", i)\r\n",
        "        print(f\"evaluando a la población de: {len(poblacion)} individuos\")\r\n",
        "        scores = evaluar_poblacion(poblacion)\r\n",
        "        best_score = min(scores)\r\n",
        "        best_individuo_index = scores.index(best_score)\r\n",
        "        best_individuo_vector = poblacion[best_individuo_index] \r\n",
        "        mejores_scores.append(best_score)\r\n",
        "        print(f\"Mejor Score de la población hasta ahora es {best_score}\")\r\n",
        "        print(f\"la mejor solución es: {best_individuo_vector}\")\r\n",
        "\r\n",
        "        # crear dataframe que guarde los índices de los individuos y las poblaciones\r\n",
        "        scores_df = pd.DataFrame(scores)\r\n",
        "        scores_df.reset_index(inplace=True)\r\n",
        "        scores_df.columns = [\"indice\", \"score\"]\r\n",
        "        scores_df = scores_df.sort_values(by=\"score\").reset_index(drop=True)\r\n",
        "        # print(scores_df.head())\r\n",
        "        print(scores_df[\"score\"].describe())\r\n",
        "        \r\n",
        "        n_worst = len(poblacion)+num_cruces*2 - tam_pob\r\n",
        "        # print(\"total a eliminar\", n_worst)\r\n",
        "        best_indices, worst_indices = seleccion_individuos(scores_df, n_best, n_worst)\r\n",
        "        best_indiv = [poblacion[x] for x in best_indices]\r\n",
        "        worst_indiv = [poblacion[x] for x in worst_indices]\r\n",
        "        # print(\"best_indiv\", best_indiv[0])\r\n",
        "        \r\n",
        "        print(\"cruzando los mejores\")\r\n",
        "        new_kids = cruzar_mejores_4(best_indiv, list(1/scores_df[:n_best][\"score\"]), num_cruces)#cruzar_mejores_3(best_indiv, 4000)\r\n",
        "        old_pop = [poblacion[x] for x in range(len(poblacion)) if x not in worst_indices]\r\n",
        "        poblacion = old_pop + new_kids\r\n",
        "        \r\n",
        "        print()\r\n",
        "    return best_individuo_vector, best_score, mejores_scores\r\n",
        "#     poblacion += crear_poblacion(n-len(poblacion))"
      ],
      "execution_count": 32,
      "outputs": []
    },
    {
      "cell_type": "code",
      "metadata": {
        "colab": {
          "base_uri": "https://localhost:8080/"
        },
        "id": "JfkPFBJlLnQL",
        "outputId": "c4a6ba50-25e3-47ee-90ae-79d61b8118e3"
      },
      "source": [
        "sol_genetica, score_genetico, mejores_scores = ejecutar_genetico(num_iteraciones = 50, tam_pob=20000, n_best=2000, num_cruces=8000)"
      ],
      "execution_count": 33,
      "outputs": [
        {
          "output_type": "stream",
          "text": [
            "iteración 0\n",
            "evaluando a la población de: 20000 individuos\n",
            "Mejor Score de la población hasta ahora es 31\n",
            "la mejor solución es: [19 29 14  4 10 21 26  2 20 12  3  6 24 22 27 15  1  8 11  0  9 25  5  7\n",
            " 28 17 23 18 16 13]\n",
            "count    20000.000000\n",
            "mean        38.160500\n",
            "std          1.333315\n",
            "min         31.000000\n",
            "25%         37.000000\n",
            "50%         38.000000\n",
            "75%         39.000000\n",
            "max         41.000000\n",
            "Name: score, dtype: float64\n",
            "cruzando los mejores\n",
            "\n",
            "iteración 1\n",
            "evaluando a la población de: 20000 individuos\n",
            "Mejor Score de la población hasta ahora es 31\n",
            "la mejor solución es: [19 29 14  4 10 21 26  2 20 12  3  6 24 22 27 15  1  8 11  0  9 25  5  7\n",
            " 28 17 23 18 16 13]\n",
            "count    20000.00000\n",
            "mean        37.49700\n",
            "std          1.41191\n",
            "min         31.00000\n",
            "25%         37.00000\n",
            "50%         37.00000\n",
            "75%         39.00000\n",
            "max         41.00000\n",
            "Name: score, dtype: float64\n",
            "cruzando los mejores\n",
            "\n",
            "iteración 2\n",
            "evaluando a la población de: 20000 individuos\n",
            "Mejor Score de la población hasta ahora es 31\n",
            "la mejor solución es: [19 29 14  4 10 21 26  2 20 12  3  6 24 22 27 15  1  8 11  0  9 25  5  7\n",
            " 28 17 23 18 16 13]\n",
            "count    20000.000000\n",
            "mean        37.166950\n",
            "std          1.523645\n",
            "min         31.000000\n",
            "25%         36.000000\n",
            "50%         37.000000\n",
            "75%         38.000000\n",
            "max         41.000000\n",
            "Name: score, dtype: float64\n",
            "cruzando los mejores\n",
            "\n",
            "iteración 3\n",
            "evaluando a la población de: 20000 individuos\n",
            "Mejor Score de la población hasta ahora es 31\n",
            "la mejor solución es: [19 29 14  4 10 21 26  2 20 12  3  6 24 22 27 15  1  8 11  0  9 25  5  7\n",
            " 28 17 23 18 16 13]\n",
            "count    20000.000000\n",
            "mean        36.933800\n",
            "std          1.589699\n",
            "min         31.000000\n",
            "25%         36.000000\n",
            "50%         37.000000\n",
            "75%         38.000000\n",
            "max         41.000000\n",
            "Name: score, dtype: float64\n",
            "cruzando los mejores\n",
            "\n",
            "iteración 4\n",
            "evaluando a la población de: 20000 individuos\n",
            "Mejor Score de la población hasta ahora es 31\n",
            "la mejor solución es: [19 29 14  4 10 21 26  2 20 12  3  6 24 22 27 15  1  8 11  0  9 25  5  7\n",
            " 28 17 23 18 16 13]\n",
            "count    20000.000000\n",
            "mean        36.656800\n",
            "std          1.646982\n",
            "min         31.000000\n",
            "25%         35.000000\n",
            "50%         37.000000\n",
            "75%         38.000000\n",
            "max         41.000000\n",
            "Name: score, dtype: float64\n",
            "cruzando los mejores\n",
            "\n",
            "iteración 5\n",
            "evaluando a la población de: 20000 individuos\n",
            "Mejor Score de la población hasta ahora es 31\n",
            "la mejor solución es: [19 29 14  4 10 21 26  2 20 12  3  6 24 22 27 15  1  8 11  0  9 25  5  7\n",
            " 28 17 23 18 16 13]\n",
            "count    20000.000000\n",
            "mean        36.500700\n",
            "std          1.671329\n",
            "min         31.000000\n",
            "25%         35.000000\n",
            "50%         37.000000\n",
            "75%         38.000000\n",
            "max         41.000000\n",
            "Name: score, dtype: float64\n",
            "cruzando los mejores\n",
            "\n",
            "iteración 6\n",
            "evaluando a la población de: 20000 individuos\n",
            "Mejor Score de la población hasta ahora es 31\n",
            "la mejor solución es: [19 29 14  4 10 21 26  2 20 12  3  6 24 22 27 15  1  8 11  0  9 25  5  7\n",
            " 28 17 23 18 16 13]\n",
            "count    20000.000000\n",
            "mean        36.352550\n",
            "std          1.722732\n",
            "min         31.000000\n",
            "25%         35.000000\n",
            "50%         36.000000\n",
            "75%         38.000000\n",
            "max         41.000000\n",
            "Name: score, dtype: float64\n",
            "cruzando los mejores\n",
            "\n",
            "iteración 7\n",
            "evaluando a la población de: 20000 individuos\n",
            "Mejor Score de la población hasta ahora es 31\n",
            "la mejor solución es: [19 29 14  4 10 21 26  2 20 12  3  6 24 22 27 15  1  8 11  0  9 25  5  7\n",
            " 28 17 23 18 16 13]\n",
            "count    20000.00000\n",
            "mean        36.11025\n",
            "std          1.73267\n",
            "min         31.00000\n",
            "25%         35.00000\n",
            "50%         36.00000\n",
            "75%         37.00000\n",
            "max         41.00000\n",
            "Name: score, dtype: float64\n",
            "cruzando los mejores\n",
            "\n",
            "iteración 8\n",
            "evaluando a la población de: 20000 individuos\n",
            "Mejor Score de la población hasta ahora es 31\n",
            "la mejor solución es: [19 29 14  4 10 21 26  2 20 12  3  6 24 22 27 15  1  8 11  0  9 25  5  7\n",
            " 28 17 23 18 16 13]\n",
            "count    20000.000000\n",
            "mean        35.938150\n",
            "std          1.758033\n",
            "min         31.000000\n",
            "25%         34.000000\n",
            "50%         36.000000\n",
            "75%         37.000000\n",
            "max         41.000000\n",
            "Name: score, dtype: float64\n",
            "cruzando los mejores\n",
            "\n",
            "iteración 9\n",
            "evaluando a la población de: 20000 individuos\n",
            "Mejor Score de la población hasta ahora es 31\n",
            "la mejor solución es: [19 29 14  4 10 21 26  2 20 12  3  6 24 22 27 15  1  8 11  0  9 25  5  7\n",
            " 28 17 23 18 16 13]\n",
            "count    20000.000000\n",
            "mean        35.834450\n",
            "std          1.780253\n",
            "min         31.000000\n",
            "25%         34.000000\n",
            "50%         36.000000\n",
            "75%         37.000000\n",
            "max         41.000000\n",
            "Name: score, dtype: float64\n",
            "cruzando los mejores\n",
            "\n",
            "iteración 10\n",
            "evaluando a la población de: 20000 individuos\n",
            "Mejor Score de la población hasta ahora es 31\n",
            "la mejor solución es: [19 29 14  4 10 21 26  2 20 12  3  6 24 22 27 15  1  8 11  0  9 25  5  7\n",
            " 28 17 23 18 16 13]\n",
            "count    20000.00000\n",
            "mean        35.72405\n",
            "std          1.78655\n",
            "min         31.00000\n",
            "25%         34.00000\n",
            "50%         36.00000\n",
            "75%         37.00000\n",
            "max         41.00000\n",
            "Name: score, dtype: float64\n",
            "cruzando los mejores\n",
            "\n",
            "iteración 11\n",
            "evaluando a la población de: 20000 individuos\n",
            "Mejor Score de la población hasta ahora es 30\n",
            "la mejor solución es: [ 3.  2.  4. 12.  5. 14. 16. 13. 24. 15.  7. 11. 26. 18. 28. 19. 23. 22.\n",
            " 25.  9. 10. 20. 27. 17.  0. 21.  1.  8. 29.  6.]\n",
            "count    20000.000000\n",
            "mean        35.562100\n",
            "std          1.829648\n",
            "min         30.000000\n",
            "25%         34.000000\n",
            "50%         36.000000\n",
            "75%         37.000000\n",
            "max         41.000000\n",
            "Name: score, dtype: float64\n",
            "cruzando los mejores\n",
            "\n",
            "iteración 12\n",
            "evaluando a la población de: 20000 individuos\n",
            "Mejor Score de la población hasta ahora es 30\n",
            "la mejor solución es: [ 3.  2.  4. 12.  5. 14. 16. 13. 24. 15.  7. 11. 26. 18. 28. 19. 23. 22.\n",
            " 25.  9. 10. 20. 27. 17.  0. 21.  1.  8. 29.  6.]\n",
            "count    20000.000000\n",
            "mean        35.345000\n",
            "std          1.839387\n",
            "min         30.000000\n",
            "25%         34.000000\n",
            "50%         35.000000\n",
            "75%         37.000000\n",
            "max         41.000000\n",
            "Name: score, dtype: float64\n",
            "cruzando los mejores\n",
            "\n",
            "iteración 13\n",
            "evaluando a la población de: 20000 individuos\n",
            "Mejor Score de la población hasta ahora es 30\n",
            "la mejor solución es: [ 3.  2.  4. 12.  5. 14. 16. 13. 24. 15.  7. 11. 26. 18. 28. 19. 23. 22.\n",
            " 25.  9. 10. 20. 27. 17.  0. 21.  1.  8. 29.  6.]\n",
            "count    20000.000000\n",
            "mean        35.032550\n",
            "std          1.822678\n",
            "min         30.000000\n",
            "25%         33.000000\n",
            "50%         35.000000\n",
            "75%         36.000000\n",
            "max         41.000000\n",
            "Name: score, dtype: float64\n",
            "cruzando los mejores\n",
            "\n",
            "iteración 14\n",
            "evaluando a la población de: 20000 individuos\n",
            "Mejor Score de la población hasta ahora es 30\n",
            "la mejor solución es: [ 3.  2.  4. 12.  5. 14. 16. 13. 24. 15.  7. 11. 26. 18. 28. 19. 23. 22.\n",
            " 25.  9. 10. 20. 27. 17.  0. 21.  1.  8. 29.  6.]\n",
            "count    20000.000000\n",
            "mean        34.878400\n",
            "std          1.827069\n",
            "min         30.000000\n",
            "25%         33.000000\n",
            "50%         35.000000\n",
            "75%         36.000000\n",
            "max         41.000000\n",
            "Name: score, dtype: float64\n",
            "cruzando los mejores\n",
            "\n",
            "iteración 15\n",
            "evaluando a la población de: 20000 individuos\n",
            "Mejor Score de la población hasta ahora es 30\n",
            "la mejor solución es: [ 3.  2.  4. 12.  5. 14. 16. 13. 24. 15.  7. 11. 26. 18. 28. 19. 23. 22.\n",
            " 25.  9. 10. 20. 27. 17.  0. 21.  1.  8. 29.  6.]\n",
            "count    20000.000000\n",
            "mean        34.653650\n",
            "std          1.824379\n",
            "min         30.000000\n",
            "25%         33.000000\n",
            "50%         35.000000\n",
            "75%         36.000000\n",
            "max         41.000000\n",
            "Name: score, dtype: float64\n",
            "cruzando los mejores\n",
            "\n",
            "iteración 16\n",
            "evaluando a la población de: 20000 individuos\n",
            "Mejor Score de la población hasta ahora es 30\n",
            "la mejor solución es: [ 3.  2.  4. 12.  5. 14. 16. 13. 24. 15.  7. 11. 26. 18. 28. 19. 23. 22.\n",
            " 25.  9. 10. 20. 27. 17.  0. 21.  1.  8. 29.  6.]\n",
            "count    20000.000000\n",
            "mean        34.398250\n",
            "std          1.817639\n",
            "min         30.000000\n",
            "25%         33.000000\n",
            "50%         34.000000\n",
            "75%         36.000000\n",
            "max         41.000000\n",
            "Name: score, dtype: float64\n",
            "cruzando los mejores\n",
            "\n",
            "iteración 17\n",
            "evaluando a la población de: 20000 individuos\n",
            "Mejor Score de la población hasta ahora es 29\n",
            "la mejor solución es: [13.  7. 28.  9. 17. 25. 24.  3.  4.  2. 15. 14.  1. 12. 22. 27. 16. 19.\n",
            "  8.  5.  0. 21. 29. 26. 18. 23.  6. 20. 10. 11.]\n",
            "count    20000.000000\n",
            "mean        33.942800\n",
            "std          1.718597\n",
            "min         29.000000\n",
            "25%         32.000000\n",
            "50%         34.000000\n",
            "75%         35.000000\n",
            "max         40.000000\n",
            "Name: score, dtype: float64\n",
            "cruzando los mejores\n",
            "\n",
            "iteración 18\n",
            "evaluando a la población de: 20000 individuos\n",
            "Mejor Score de la población hasta ahora es 29\n",
            "la mejor solución es: [13.  7. 28.  9. 17. 25. 24.  3.  4.  2. 15. 14.  1. 12. 22. 27. 16. 19.\n",
            "  8.  5.  0. 21. 29. 26. 18. 23.  6. 20. 10. 11.]\n",
            "count    20000.000000\n",
            "mean        33.746600\n",
            "std          1.732726\n",
            "min         29.000000\n",
            "25%         32.000000\n",
            "50%         34.000000\n",
            "75%         35.000000\n",
            "max         41.000000\n",
            "Name: score, dtype: float64\n",
            "cruzando los mejores\n",
            "\n",
            "iteración 19\n",
            "evaluando a la población de: 20000 individuos\n",
            "Mejor Score de la población hasta ahora es 29\n",
            "la mejor solución es: [13.  7. 28.  9. 17. 25. 24.  3.  4.  2. 15. 14.  1. 12. 22. 27. 16. 19.\n",
            "  8.  5.  0. 21. 29. 26. 18. 23.  6. 20. 10. 11.]\n",
            "count    20000.000000\n",
            "mean        33.667300\n",
            "std          1.787224\n",
            "min         29.000000\n",
            "25%         32.000000\n",
            "50%         34.000000\n",
            "75%         35.000000\n",
            "max         41.000000\n",
            "Name: score, dtype: float64\n",
            "cruzando los mejores\n",
            "\n",
            "iteración 20\n",
            "evaluando a la población de: 20000 individuos\n",
            "Mejor Score de la población hasta ahora es 29\n",
            "la mejor solución es: [13.  7. 28.  9. 17. 25. 24.  3.  4.  2. 15. 14.  1. 12. 22. 27. 16. 19.\n",
            "  8.  5.  0. 21. 29. 26. 18. 23.  6. 20. 10. 11.]\n",
            "count    20000.000000\n",
            "mean        33.405100\n",
            "std          1.738259\n",
            "min         29.000000\n",
            "25%         32.000000\n",
            "50%         33.000000\n",
            "75%         35.000000\n",
            "max         40.000000\n",
            "Name: score, dtype: float64\n",
            "cruzando los mejores\n",
            "\n",
            "iteración 21\n",
            "evaluando a la población de: 20000 individuos\n",
            "Mejor Score de la población hasta ahora es 29\n",
            "la mejor solución es: [13.  7. 28.  9. 17. 25. 24.  3.  4.  2. 15. 14.  1. 12. 22. 27. 16. 19.\n",
            "  8.  5.  0. 21. 29. 26. 18. 23.  6. 20. 10. 11.]\n",
            "count    20000.000000\n",
            "mean        33.155500\n",
            "std          1.715479\n",
            "min         29.000000\n",
            "25%         32.000000\n",
            "50%         33.000000\n",
            "75%         34.000000\n",
            "max         39.000000\n",
            "Name: score, dtype: float64\n",
            "cruzando los mejores\n",
            "\n",
            "iteración 22\n",
            "evaluando a la población de: 20000 individuos\n",
            "Mejor Score de la población hasta ahora es 29\n",
            "la mejor solución es: [13.  7. 28.  9. 17. 25. 24.  3.  4.  2. 15. 14.  1. 12. 22. 27. 16. 19.\n",
            "  8.  5.  0. 21. 29. 26. 18. 23.  6. 20. 10. 11.]\n",
            "count    20000.000000\n",
            "mean        32.913200\n",
            "std          1.716133\n",
            "min         29.000000\n",
            "25%         31.000000\n",
            "50%         33.000000\n",
            "75%         34.000000\n",
            "max         40.000000\n",
            "Name: score, dtype: float64\n",
            "cruzando los mejores\n",
            "\n",
            "iteración 23\n",
            "evaluando a la población de: 20000 individuos\n",
            "Mejor Score de la población hasta ahora es 29\n",
            "la mejor solución es: [13.  7. 28.  9. 17. 25. 24.  3.  4.  2. 15. 14.  1. 12. 22. 27. 16. 19.\n",
            "  8.  5.  0. 21. 29. 26. 18. 23.  6. 20. 10. 11.]\n",
            "count    20000.000000\n",
            "mean        32.789500\n",
            "std          1.732986\n",
            "min         29.000000\n",
            "25%         31.000000\n",
            "50%         33.000000\n",
            "75%         34.000000\n",
            "max         40.000000\n",
            "Name: score, dtype: float64\n",
            "cruzando los mejores\n",
            "\n",
            "iteración 24\n",
            "evaluando a la población de: 20000 individuos\n",
            "Mejor Score de la población hasta ahora es 28\n",
            "la mejor solución es: [22. 17. 16. 13. 23. 18.  4.  3. 15.  2. 24. 14.  9. 20. 25. 28.  7. 10.\n",
            " 12.  8. 21. 19.  6.  1.  0. 26.  5. 11. 27. 29.]\n",
            "count    20000.000000\n",
            "mean        32.675000\n",
            "std          1.740611\n",
            "min         28.000000\n",
            "25%         31.000000\n",
            "50%         33.000000\n",
            "75%         34.000000\n",
            "max         39.000000\n",
            "Name: score, dtype: float64\n",
            "cruzando los mejores\n",
            "\n",
            "iteración 25\n",
            "evaluando a la población de: 20000 individuos\n",
            "Mejor Score de la población hasta ahora es 28\n",
            "la mejor solución es: [22. 17. 16. 13. 23. 18.  4.  3. 15.  2. 24. 14.  9. 20. 25. 28.  7. 10.\n",
            " 12.  8. 21. 19.  6.  1.  0. 26.  5. 11. 27. 29.]\n",
            "count    20000.000000\n",
            "mean        32.545000\n",
            "std          1.767663\n",
            "min         28.000000\n",
            "25%         31.000000\n",
            "50%         32.000000\n",
            "75%         34.000000\n",
            "max         40.000000\n",
            "Name: score, dtype: float64\n",
            "cruzando los mejores\n",
            "\n",
            "iteración 26\n",
            "evaluando a la población de: 20000 individuos\n",
            "Mejor Score de la población hasta ahora es 28\n",
            "la mejor solución es: [22. 17. 16. 13. 23. 18.  4.  3. 15.  2. 24. 14.  9. 20. 25. 28.  7. 10.\n",
            " 12.  8. 21. 19.  6.  1.  0. 26.  5. 11. 27. 29.]\n",
            "count    20000.000000\n",
            "mean        32.419050\n",
            "std          1.776824\n",
            "min         28.000000\n",
            "25%         31.000000\n",
            "50%         32.000000\n",
            "75%         34.000000\n",
            "max         40.000000\n",
            "Name: score, dtype: float64\n",
            "cruzando los mejores\n",
            "\n",
            "iteración 27\n",
            "evaluando a la población de: 20000 individuos\n",
            "Mejor Score de la población hasta ahora es 28\n",
            "la mejor solución es: [22. 17. 16. 13. 23. 18.  4.  3. 15.  2. 24. 14.  9. 20. 25. 28.  7. 10.\n",
            " 12.  8. 21. 19.  6.  1.  0. 26.  5. 11. 27. 29.]\n",
            "count    20000.000000\n",
            "mean        32.238100\n",
            "std          1.792727\n",
            "min         28.000000\n",
            "25%         31.000000\n",
            "50%         32.000000\n",
            "75%         33.000000\n",
            "max         39.000000\n",
            "Name: score, dtype: float64\n",
            "cruzando los mejores\n",
            "\n",
            "iteración 28\n",
            "evaluando a la población de: 20000 individuos\n",
            "Mejor Score de la población hasta ahora es 28\n",
            "la mejor solución es: [22. 17. 16. 13. 23. 18.  4.  3. 15.  2. 24. 14.  9. 20. 25. 28.  7. 10.\n",
            " 12.  8. 21. 19.  6.  1.  0. 26.  5. 11. 27. 29.]\n",
            "count    20000.000000\n",
            "mean        32.122150\n",
            "std          1.844505\n",
            "min         28.000000\n",
            "25%         30.000000\n",
            "50%         32.000000\n",
            "75%         33.000000\n",
            "max         40.000000\n",
            "Name: score, dtype: float64\n",
            "cruzando los mejores\n",
            "\n",
            "iteración 29\n",
            "evaluando a la población de: 20000 individuos\n",
            "Mejor Score de la población hasta ahora es 28\n",
            "la mejor solución es: [22. 17. 16. 13. 23. 18.  4.  3. 15.  2. 24. 14.  9. 20. 25. 28.  7. 10.\n",
            " 12.  8. 21. 19.  6.  1.  0. 26.  5. 11. 27. 29.]\n",
            "count    20000.000000\n",
            "mean        32.072850\n",
            "std          1.836222\n",
            "min         28.000000\n",
            "25%         30.000000\n",
            "50%         32.000000\n",
            "75%         33.000000\n",
            "max         40.000000\n",
            "Name: score, dtype: float64\n",
            "cruzando los mejores\n",
            "\n",
            "iteración 30\n",
            "evaluando a la población de: 20000 individuos\n",
            "Mejor Score de la población hasta ahora es 28\n",
            "la mejor solución es: [22. 17. 16. 13. 23. 18.  4.  3. 15.  2. 24. 14.  9. 20. 25. 28.  7. 10.\n",
            " 12.  8. 21. 19.  6.  1.  0. 26.  5. 11. 27. 29.]\n",
            "count    20000.000000\n",
            "mean        32.039300\n",
            "std          1.850629\n",
            "min         28.000000\n",
            "25%         30.000000\n",
            "50%         32.000000\n",
            "75%         33.000000\n",
            "max         39.000000\n",
            "Name: score, dtype: float64\n",
            "cruzando los mejores\n",
            "\n",
            "iteración 31\n",
            "evaluando a la población de: 20000 individuos\n",
            "Mejor Score de la población hasta ahora es 28\n",
            "la mejor solución es: [22. 17. 16. 13. 23. 18.  4.  3. 15.  2. 24. 14.  9. 20. 25. 28.  7. 10.\n",
            " 12.  8. 21. 19.  6.  1.  0. 26.  5. 11. 27. 29.]\n",
            "count    20000.000000\n",
            "mean        31.962350\n",
            "std          1.831557\n",
            "min         28.000000\n",
            "25%         30.000000\n",
            "50%         32.000000\n",
            "75%         33.000000\n",
            "max         39.000000\n",
            "Name: score, dtype: float64\n",
            "cruzando los mejores\n",
            "\n",
            "iteración 32\n",
            "evaluando a la población de: 20000 individuos\n",
            "Mejor Score de la población hasta ahora es 28\n",
            "la mejor solución es: [22. 17. 16. 13. 23. 18.  4.  3. 15.  2. 24. 14.  9. 20. 25. 28.  7. 10.\n",
            " 12.  8. 21. 19.  6.  1.  0. 26.  5. 11. 27. 29.]\n",
            "count    20000.000000\n",
            "mean        31.859150\n",
            "std          1.819307\n",
            "min         28.000000\n",
            "25%         30.000000\n",
            "50%         32.000000\n",
            "75%         33.000000\n",
            "max         40.000000\n",
            "Name: score, dtype: float64\n",
            "cruzando los mejores\n",
            "\n",
            "iteración 33\n",
            "evaluando a la población de: 20000 individuos\n",
            "Mejor Score de la población hasta ahora es 28\n",
            "la mejor solución es: [22. 17. 16. 13. 23. 18.  4.  3. 15.  2. 24. 14.  9. 20. 25. 28.  7. 10.\n",
            " 12.  8. 21. 19.  6.  1.  0. 26.  5. 11. 27. 29.]\n",
            "count    20000.000000\n",
            "mean        31.812850\n",
            "std          1.835128\n",
            "min         28.000000\n",
            "25%         30.000000\n",
            "50%         32.000000\n",
            "75%         33.000000\n",
            "max         39.000000\n",
            "Name: score, dtype: float64\n",
            "cruzando los mejores\n",
            "\n",
            "iteración 34\n",
            "evaluando a la población de: 20000 individuos\n",
            "Mejor Score de la población hasta ahora es 28\n",
            "la mejor solución es: [22. 17. 16. 13. 23. 18.  4.  3. 15.  2. 24. 14.  9. 20. 25. 28.  7. 10.\n",
            " 12.  8. 21. 19.  6.  1.  0. 26.  5. 11. 27. 29.]\n",
            "count    20000.000000\n",
            "mean        31.757100\n",
            "std          1.836918\n",
            "min         28.000000\n",
            "25%         30.000000\n",
            "50%         32.000000\n",
            "75%         33.000000\n",
            "max         40.000000\n",
            "Name: score, dtype: float64\n",
            "cruzando los mejores\n",
            "\n",
            "iteración 35\n",
            "evaluando a la población de: 20000 individuos\n",
            "Mejor Score de la población hasta ahora es 28\n",
            "la mejor solución es: [22. 17. 16. 13. 23. 18.  4.  3. 15.  2. 24. 14.  9. 20. 25. 28.  7. 10.\n",
            " 12.  8. 21. 19.  6.  1.  0. 26.  5. 11. 27. 29.]\n",
            "count    20000.00000\n",
            "mean        31.70720\n",
            "std          1.87068\n",
            "min         28.00000\n",
            "25%         30.00000\n",
            "50%         32.00000\n",
            "75%         33.00000\n",
            "max         40.00000\n",
            "Name: score, dtype: float64\n",
            "cruzando los mejores\n",
            "\n",
            "iteración 36\n",
            "evaluando a la población de: 20000 individuos\n",
            "Mejor Score de la población hasta ahora es 28\n",
            "la mejor solución es: [22. 17. 16. 13. 23. 18.  4.  3. 15.  2. 24. 14.  9. 20. 25. 28.  7. 10.\n",
            " 12.  8. 21. 19.  6.  1.  0. 26.  5. 11. 27. 29.]\n",
            "count    20000.000000\n",
            "mean        31.622100\n",
            "std          1.868894\n",
            "min         28.000000\n",
            "25%         30.000000\n",
            "50%         32.000000\n",
            "75%         33.000000\n",
            "max         39.000000\n",
            "Name: score, dtype: float64\n",
            "cruzando los mejores\n",
            "\n",
            "iteración 37\n",
            "evaluando a la población de: 20000 individuos\n",
            "Mejor Score de la población hasta ahora es 28\n",
            "la mejor solución es: [22. 17. 16. 13. 23. 18.  4.  3. 15.  2. 24. 14.  9. 20. 25. 28.  7. 10.\n",
            " 12.  8. 21. 19.  6.  1.  0. 26.  5. 11. 27. 29.]\n",
            "count    20000.000000\n",
            "mean        31.512200\n",
            "std          1.878784\n",
            "min         28.000000\n",
            "25%         30.000000\n",
            "50%         31.000000\n",
            "75%         33.000000\n",
            "max         38.000000\n",
            "Name: score, dtype: float64\n",
            "cruzando los mejores\n",
            "\n",
            "iteración 38\n",
            "evaluando a la población de: 20000 individuos\n",
            "Mejor Score de la población hasta ahora es 28\n",
            "la mejor solución es: [22. 17. 16. 13. 23. 18.  4.  3. 15.  2. 24. 14.  9. 20. 25. 28.  7. 10.\n",
            " 12.  8. 21. 19.  6.  1.  0. 26.  5. 11. 27. 29.]\n",
            "count    20000.00000\n",
            "mean        31.35795\n",
            "std          1.85981\n",
            "min         28.00000\n",
            "25%         30.00000\n",
            "50%         31.00000\n",
            "75%         33.00000\n",
            "max         38.00000\n",
            "Name: score, dtype: float64\n",
            "cruzando los mejores\n",
            "\n",
            "iteración 39\n",
            "evaluando a la población de: 20000 individuos\n",
            "Mejor Score de la población hasta ahora es 28\n",
            "la mejor solución es: [22. 17. 16. 13. 23. 18.  4.  3. 15.  2. 24. 14.  9. 20. 25. 28.  7. 10.\n",
            " 12.  8. 21. 19.  6.  1.  0. 26.  5. 11. 27. 29.]\n",
            "count    20000.000000\n",
            "mean        31.183400\n",
            "std          1.821738\n",
            "min         28.000000\n",
            "25%         29.000000\n",
            "50%         31.000000\n",
            "75%         32.000000\n",
            "max         38.000000\n",
            "Name: score, dtype: float64\n",
            "cruzando los mejores\n",
            "\n",
            "iteración 40\n",
            "evaluando a la población de: 20000 individuos\n",
            "Mejor Score de la población hasta ahora es 28\n",
            "la mejor solución es: [22. 17. 16. 13. 23. 18.  4.  3. 15.  2. 24. 14.  9. 20. 25. 28.  7. 10.\n",
            " 12.  8. 21. 19.  6.  1.  0. 26.  5. 11. 27. 29.]\n",
            "count    20000.000000\n",
            "mean        31.009150\n",
            "std          1.741355\n",
            "min         28.000000\n",
            "25%         29.000000\n",
            "50%         31.000000\n",
            "75%         32.000000\n",
            "max         38.000000\n",
            "Name: score, dtype: float64\n",
            "cruzando los mejores\n",
            "\n",
            "iteración 41\n",
            "evaluando a la población de: 20000 individuos\n",
            "Mejor Score de la población hasta ahora es 28\n",
            "la mejor solución es: [22. 17. 16. 13. 23. 18.  4.  3. 15.  2. 24. 14.  9. 20. 25. 28.  7. 10.\n",
            " 12.  8. 21. 19.  6.  1.  0. 26.  5. 11. 27. 29.]\n",
            "count    20000.000000\n",
            "mean        30.823000\n",
            "std          1.662922\n",
            "min         28.000000\n",
            "25%         29.000000\n",
            "50%         31.000000\n",
            "75%         32.000000\n",
            "max         39.000000\n",
            "Name: score, dtype: float64\n",
            "cruzando los mejores\n",
            "\n",
            "iteración 42\n",
            "evaluando a la población de: 20000 individuos\n",
            "Mejor Score de la población hasta ahora es 27\n",
            "la mejor solución es: [23. 17. 16. 13. 22. 18. 24.  3.  4.  2. 15. 14.  1. 26. 19. 27. 29. 12.\n",
            " 28.  9. 10. 25.  7. 20. 11. 21.  0.  6.  8.  5.]\n",
            "count    20000.000000\n",
            "mean        30.660100\n",
            "std          1.582053\n",
            "min         27.000000\n",
            "25%         29.000000\n",
            "50%         30.000000\n",
            "75%         32.000000\n",
            "max         38.000000\n",
            "Name: score, dtype: float64\n",
            "cruzando los mejores\n",
            "\n",
            "iteración 43\n",
            "evaluando a la población de: 20000 individuos\n",
            "Mejor Score de la población hasta ahora es 27\n",
            "la mejor solución es: [23. 17. 16. 13. 22. 18. 24.  3.  4.  2. 15. 14.  1. 26. 19. 27. 29. 12.\n",
            " 28.  9. 10. 25.  7. 20. 11. 21.  0.  6.  8.  5.]\n",
            "count    20000.000000\n",
            "mean        30.502850\n",
            "std          1.520397\n",
            "min         27.000000\n",
            "25%         29.000000\n",
            "50%         30.000000\n",
            "75%         31.000000\n",
            "max         37.000000\n",
            "Name: score, dtype: float64\n",
            "cruzando los mejores\n",
            "\n",
            "iteración 44\n",
            "evaluando a la población de: 20000 individuos\n",
            "Mejor Score de la población hasta ahora es 27\n",
            "la mejor solución es: [23. 17. 16. 13. 22. 18. 24.  3.  4.  2. 15. 14.  1. 26. 19. 27. 29. 12.\n",
            " 28.  9. 10. 25.  7. 20. 11. 21.  0.  6.  8.  5.]\n",
            "count    20000.000000\n",
            "mean        30.355650\n",
            "std          1.463923\n",
            "min         27.000000\n",
            "25%         29.000000\n",
            "50%         30.000000\n",
            "75%         31.000000\n",
            "max         38.000000\n",
            "Name: score, dtype: float64\n",
            "cruzando los mejores\n",
            "\n",
            "iteración 45\n",
            "evaluando a la población de: 20000 individuos\n",
            "Mejor Score de la población hasta ahora es 27\n",
            "la mejor solución es: [23. 17. 16. 13. 22. 18. 24.  3.  4.  2. 15. 14.  1. 26. 19. 27. 29. 12.\n",
            " 28.  9. 10. 25.  7. 20. 11. 21.  0.  6.  8.  5.]\n",
            "count    20000.000000\n",
            "mean        30.196500\n",
            "std          1.387438\n",
            "min         27.000000\n",
            "25%         29.000000\n",
            "50%         30.000000\n",
            "75%         31.000000\n",
            "max         37.000000\n",
            "Name: score, dtype: float64\n",
            "cruzando los mejores\n",
            "\n",
            "iteración 46\n",
            "evaluando a la población de: 20000 individuos\n",
            "Mejor Score de la población hasta ahora es 27\n",
            "la mejor solución es: [23. 17. 16. 13. 22. 18. 24.  3.  4.  2. 15. 14.  1. 26. 19. 27. 29. 12.\n",
            " 28.  9. 10. 25.  7. 20. 11. 21.  0.  6.  8.  5.]\n",
            "count    20000.000000\n",
            "mean        30.098650\n",
            "std          1.382322\n",
            "min         27.000000\n",
            "25%         29.000000\n",
            "50%         30.000000\n",
            "75%         31.000000\n",
            "max         39.000000\n",
            "Name: score, dtype: float64\n",
            "cruzando los mejores\n",
            "\n",
            "iteración 47\n",
            "evaluando a la población de: 20000 individuos\n",
            "Mejor Score de la población hasta ahora es 27\n",
            "la mejor solución es: [23. 17. 16. 13. 22. 18. 24.  3.  4.  2. 15. 14.  1. 26. 19. 27. 29. 12.\n",
            " 28.  9. 10. 25.  7. 20. 11. 21.  0.  6.  8.  5.]\n",
            "count    20000.000000\n",
            "mean        30.027250\n",
            "std          1.415382\n",
            "min         27.000000\n",
            "25%         29.000000\n",
            "50%         30.000000\n",
            "75%         31.000000\n",
            "max         38.000000\n",
            "Name: score, dtype: float64\n",
            "cruzando los mejores\n",
            "\n",
            "iteración 48\n",
            "evaluando a la población de: 20000 individuos\n",
            "Mejor Score de la población hasta ahora es 27\n",
            "la mejor solución es: [23. 17. 16. 13. 22. 18. 24.  3.  4.  2. 15. 14.  1. 26. 19. 27. 29. 12.\n",
            " 28.  9. 10. 25.  7. 20. 11. 21.  0.  6.  8.  5.]\n",
            "count    20000.000000\n",
            "mean        29.934700\n",
            "std          1.443482\n",
            "min         27.000000\n",
            "25%         29.000000\n",
            "50%         30.000000\n",
            "75%         31.000000\n",
            "max         38.000000\n",
            "Name: score, dtype: float64\n",
            "cruzando los mejores\n",
            "\n",
            "iteración 49\n",
            "evaluando a la población de: 20000 individuos\n",
            "Mejor Score de la población hasta ahora es 27\n",
            "la mejor solución es: [23. 17. 16. 13. 22. 18. 24.  3.  4.  2. 15. 14.  1. 26. 19. 27. 29. 12.\n",
            " 28.  9. 10. 25.  7. 20. 11. 21.  0.  6.  8.  5.]\n",
            "count    20000.000000\n",
            "mean        29.680200\n",
            "std          1.313474\n",
            "min         27.000000\n",
            "25%         29.000000\n",
            "50%         30.000000\n",
            "75%         30.000000\n",
            "max         37.000000\n",
            "Name: score, dtype: float64\n",
            "cruzando los mejores\n",
            "\n"
          ],
          "name": "stdout"
        }
      ]
    },
    {
      "cell_type": "code",
      "metadata": {
        "id": "XSUPb4zAMPLI"
      },
      "source": [
        ""
      ],
      "execution_count": 33,
      "outputs": []
    },
    {
      "cell_type": "markdown",
      "metadata": {
        "id": "LAqSmOmgSN0t"
      },
      "source": [
        "#### Resultados del algoritmo genético"
      ]
    },
    {
      "cell_type": "code",
      "metadata": {
        "id": "wNQgnruGMPfw",
        "colab": {
          "base_uri": "https://localhost:8080/",
          "height": 295
        },
        "outputId": "557774d4-3853-4d70-ab94-1fd3b3fa042f"
      },
      "source": [
        "# Gráfico del mejor score de cada generación/iteración\r\n",
        "plt.plot(mejores_scores)\r\n",
        "plt.title(\"Mejores scores\")\r\n",
        "plt.xlabel(\"Generación/iteración\")\r\n",
        "plt.ylabel(\"Costo\")\r\n",
        "plt.show()"
      ],
      "execution_count": 34,
      "outputs": [
        {
          "output_type": "display_data",
          "data": {
            "image/png": "[encoded data removed]",
            "text/plain": [
              "<Figure size 432x288 with 1 Axes>"
            ]
          },
          "metadata": {
            "tags": [],
            "needs_background": "light"
          }
        }
      ]
    },
    {
      "cell_type": "code",
      "metadata": {
        "id": "xIahY10OP82V",
        "colab": {
          "base_uri": "https://localhost:8080/"
        },
        "outputId": "ccb32315-29eb-410d-f317-1459b6c83609"
      },
      "source": [
        "print(f\"la mejor solución obtenida tuvo un costo de: {score_genetico}\")\r\n",
        "print(f\"la solución es: {sol_genetica}\")"
      ],
      "execution_count": 35,
      "outputs": [
        {
          "output_type": "stream",
          "text": [
            "la mejor solución obtenida tuvo un costo de: 27\n",
            "la solución es: [23. 17. 16. 13. 22. 18. 24.  3.  4.  2. 15. 14.  1. 26. 19. 27. 29. 12.\n",
            " 28.  9. 10. 25.  7. 20. 11. 21.  0.  6.  8.  5.]\n"
          ],
          "name": "stdout"
        }
      ]
    },
    {
      "cell_type": "markdown",
      "metadata": {
        "id": "PdTng-PCS8Ri"
      },
      "source": [
        "Obsérvese cómo se pudo obtener una puntuación de __27__ cuando la mejor hasta ahora era por algoritmos voraces de __29__, demostrando que una técnica de algoritmos genéticos o evolutivos es muy prometedora en este problema. \r\n",
        "\r\n",
        "**NOTA: el algoritmo genético no siempre encontrará la solución de 27. Esto depende de cuántas iteraciones corra y de la configuración de los demás parámetros presentados en la función**"
      ]
    },
    {
      "cell_type": "code",
      "metadata": {
        "id": "UUMnkzKHP9AZ"
      },
      "source": [
        ""
      ],
      "execution_count": 35,
      "outputs": []
    },
    {
      "cell_type": "markdown",
      "metadata": {
        "id": "3M6QjTsSkmYe"
      },
      "source": [
        "## 7. Según el problema (y tenga sentido), diseña un juego de datos de entrada aleatorios"
      ]
    },
    {
      "cell_type": "markdown",
      "metadata": {
        "id": "Ud4EVMjPRpMv"
      },
      "source": [
        "Para este problema podríamos encontrar muchos tipos de variaciones. \r\n",
        "\r\n",
        "Por ejemplo:\r\n",
        "> * modificar el número de tomas\r\n",
        "> * modificar el número de actores\r\n",
        "> * modificar el número de tomas máximas por sesión\r\n",
        "> * __modificar los actores requeridos por cada toma__"
      ]
    },
    {
      "cell_type": "markdown",
      "metadata": {
        "id": "NcKe3qwPR_vh"
      },
      "source": [
        "En el caso de este trabajo plantearemos una modificación a los actores requeridos por cada toma. \r\n",
        "\r\n",
        "De esta manera solo tenemos que modificar el objeto **data** de tal manera que seguimos contando con las mismas dimensiones del problema y no tenemos que modificar nada del código desarrollado en todas las secciones anteriores"
      ]
    },
    {
      "cell_type": "markdown",
      "metadata": {
        "id": "TJ9doVa5T7wt"
      },
      "source": [
        "### Modificación del objeto **data**\r\n",
        "Este objeto es básicamente una matriz con 0s y 1s que representa qué actores van en qué toma. \r\n",
        "\r\n",
        "Se realizó una matriz aleatoria, diferente a la original pero en la misma estructura, de modo que cargaremos este archivo llamada \"actores_tomas_inventados.csv\" y sobre escribiremos el objeto data con la nueva información.\r\n",
        "\r\n",
        "La nueva data generada se creó de tal forma que tuviera aproximadamente la misma proporción de 0s y 1s que la data original, para que los problemas sean más comparables entre ellos. Esto es aproximadamente un 31% de las entradas de la matriz son 1s"
      ]
    },
    {
      "cell_type": "code",
      "metadata": {
        "colab": {
          "base_uri": "https://localhost:8080/",
          "height": 252
        },
        "id": "q1aqWoffT3Kj",
        "outputId": "90dee5eb-7c97-4590-fda4-8fef0aec2845"
      },
      "source": [
        "print(\"la data anterior se veía así:\")\r\n",
        "display(data.head())"
      ],
      "execution_count": 36,
      "outputs": [
        {
          "output_type": "stream",
          "text": [
            "la data anterior se veía así:\n"
          ],
          "name": "stdout"
        },
        {
          "output_type": "display_data",
          "data": {
            "text/html": [
              "<div>\n",
              "<style scoped>\n",
              "    .dataframe tbody tr th:only-of-type {\n",
              "        vertical-align: middle;\n",
              "    }\n",
              "\n",
              "    .dataframe tbody tr th {\n",
              "        vertical-align: top;\n",
              "    }\n",
              "\n",
              "    .dataframe thead th {\n",
              "        text-align: right;\n",
              "    }\n",
              "</style>\n",
              "<table border=\"1\" class=\"dataframe\">\n",
              "  <thead>\n",
              "    <tr style=\"text-align: right;\">\n",
              "      <th></th>\n",
              "      <th>actor_1</th>\n",
              "      <th>actor_2</th>\n",
              "      <th>actor_3</th>\n",
              "      <th>actor_4</th>\n",
              "      <th>actor_5</th>\n",
              "      <th>actor_6</th>\n",
              "      <th>actor_7</th>\n",
              "      <th>actor_8</th>\n",
              "      <th>actor_9</th>\n",
              "      <th>actor_10</th>\n",
              "    </tr>\n",
              "    <tr>\n",
              "      <th>toma</th>\n",
              "      <th></th>\n",
              "      <th></th>\n",
              "      <th></th>\n",
              "      <th></th>\n",
              "      <th></th>\n",
              "      <th></th>\n",
              "      <th></th>\n",
              "      <th></th>\n",
              "      <th></th>\n",
              "      <th></th>\n",
              "    </tr>\n",
              "  </thead>\n",
              "  <tbody>\n",
              "    <tr>\n",
              "      <th>1</th>\n",
              "      <td>1</td>\n",
              "      <td>1</td>\n",
              "      <td>1</td>\n",
              "      <td>1</td>\n",
              "      <td>1</td>\n",
              "      <td>0</td>\n",
              "      <td>0</td>\n",
              "      <td>0</td>\n",
              "      <td>0</td>\n",
              "      <td>0</td>\n",
              "    </tr>\n",
              "    <tr>\n",
              "      <th>2</th>\n",
              "      <td>0</td>\n",
              "      <td>0</td>\n",
              "      <td>1</td>\n",
              "      <td>1</td>\n",
              "      <td>1</td>\n",
              "      <td>0</td>\n",
              "      <td>0</td>\n",
              "      <td>0</td>\n",
              "      <td>0</td>\n",
              "      <td>0</td>\n",
              "    </tr>\n",
              "    <tr>\n",
              "      <th>3</th>\n",
              "      <td>0</td>\n",
              "      <td>1</td>\n",
              "      <td>0</td>\n",
              "      <td>0</td>\n",
              "      <td>1</td>\n",
              "      <td>0</td>\n",
              "      <td>1</td>\n",
              "      <td>0</td>\n",
              "      <td>0</td>\n",
              "      <td>0</td>\n",
              "    </tr>\n",
              "    <tr>\n",
              "      <th>4</th>\n",
              "      <td>1</td>\n",
              "      <td>1</td>\n",
              "      <td>0</td>\n",
              "      <td>0</td>\n",
              "      <td>0</td>\n",
              "      <td>0</td>\n",
              "      <td>1</td>\n",
              "      <td>1</td>\n",
              "      <td>0</td>\n",
              "      <td>0</td>\n",
              "    </tr>\n",
              "    <tr>\n",
              "      <th>5</th>\n",
              "      <td>0</td>\n",
              "      <td>1</td>\n",
              "      <td>0</td>\n",
              "      <td>1</td>\n",
              "      <td>0</td>\n",
              "      <td>0</td>\n",
              "      <td>0</td>\n",
              "      <td>1</td>\n",
              "      <td>0</td>\n",
              "      <td>0</td>\n",
              "    </tr>\n",
              "  </tbody>\n",
              "</table>\n",
              "</div>"
            ],
            "text/plain": [
              "      actor_1  actor_2  actor_3  actor_4  ...  actor_7  actor_8  actor_9  actor_10\n",
              "toma                                      ...                                     \n",
              "1           1        1        1        1  ...        0        0        0         0\n",
              "2           0        0        1        1  ...        0        0        0         0\n",
              "3           0        1        0        0  ...        1        0        0         0\n",
              "4           1        1        0        0  ...        1        1        0         0\n",
              "5           0        1        0        1  ...        0        1        0         0\n",
              "\n",
              "[5 rows x 10 columns]"
            ]
          },
          "metadata": {
            "tags": []
          }
        }
      ]
    },
    {
      "cell_type": "code",
      "metadata": {
        "id": "q8GHId8tUW3P",
        "colab": {
          "base_uri": "https://localhost:8080/",
          "height": 252
        },
        "outputId": "c2b65173-36b4-4478-bffc-4c8925db06dd"
      },
      "source": [
        "print(\"la data anterior se veía así:\")\r\n",
        "display(data.head())"
      ],
      "execution_count": 37,
      "outputs": [
        {
          "output_type": "stream",
          "text": [
            "la data anterior se veía así:\n"
          ],
          "name": "stdout"
        },
        {
          "output_type": "display_data",
          "data": {
            "text/html": [
              "<div>\n",
              "<style scoped>\n",
              "    .dataframe tbody tr th:only-of-type {\n",
              "        vertical-align: middle;\n",
              "    }\n",
              "\n",
              "    .dataframe tbody tr th {\n",
              "        vertical-align: top;\n",
              "    }\n",
              "\n",
              "    .dataframe thead th {\n",
              "        text-align: right;\n",
              "    }\n",
              "</style>\n",
              "<table border=\"1\" class=\"dataframe\">\n",
              "  <thead>\n",
              "    <tr style=\"text-align: right;\">\n",
              "      <th></th>\n",
              "      <th>actor_1</th>\n",
              "      <th>actor_2</th>\n",
              "      <th>actor_3</th>\n",
              "      <th>actor_4</th>\n",
              "      <th>actor_5</th>\n",
              "      <th>actor_6</th>\n",
              "      <th>actor_7</th>\n",
              "      <th>actor_8</th>\n",
              "      <th>actor_9</th>\n",
              "      <th>actor_10</th>\n",
              "    </tr>\n",
              "    <tr>\n",
              "      <th>toma</th>\n",
              "      <th></th>\n",
              "      <th></th>\n",
              "      <th></th>\n",
              "      <th></th>\n",
              "      <th></th>\n",
              "      <th></th>\n",
              "      <th></th>\n",
              "      <th></th>\n",
              "      <th></th>\n",
              "      <th></th>\n",
              "    </tr>\n",
              "  </thead>\n",
              "  <tbody>\n",
              "    <tr>\n",
              "      <th>1</th>\n",
              "      <td>1</td>\n",
              "      <td>1</td>\n",
              "      <td>1</td>\n",
              "      <td>1</td>\n",
              "      <td>1</td>\n",
              "      <td>0</td>\n",
              "      <td>0</td>\n",
              "      <td>0</td>\n",
              "      <td>0</td>\n",
              "      <td>0</td>\n",
              "    </tr>\n",
              "    <tr>\n",
              "      <th>2</th>\n",
              "      <td>0</td>\n",
              "      <td>0</td>\n",
              "      <td>1</td>\n",
              "      <td>1</td>\n",
              "      <td>1</td>\n",
              "      <td>0</td>\n",
              "      <td>0</td>\n",
              "      <td>0</td>\n",
              "      <td>0</td>\n",
              "      <td>0</td>\n",
              "    </tr>\n",
              "    <tr>\n",
              "      <th>3</th>\n",
              "      <td>0</td>\n",
              "      <td>1</td>\n",
              "      <td>0</td>\n",
              "      <td>0</td>\n",
              "      <td>1</td>\n",
              "      <td>0</td>\n",
              "      <td>1</td>\n",
              "      <td>0</td>\n",
              "      <td>0</td>\n",
              "      <td>0</td>\n",
              "    </tr>\n",
              "    <tr>\n",
              "      <th>4</th>\n",
              "      <td>1</td>\n",
              "      <td>1</td>\n",
              "      <td>0</td>\n",
              "      <td>0</td>\n",
              "      <td>0</td>\n",
              "      <td>0</td>\n",
              "      <td>1</td>\n",
              "      <td>1</td>\n",
              "      <td>0</td>\n",
              "      <td>0</td>\n",
              "    </tr>\n",
              "    <tr>\n",
              "      <th>5</th>\n",
              "      <td>0</td>\n",
              "      <td>1</td>\n",
              "      <td>0</td>\n",
              "      <td>1</td>\n",
              "      <td>0</td>\n",
              "      <td>0</td>\n",
              "      <td>0</td>\n",
              "      <td>1</td>\n",
              "      <td>0</td>\n",
              "      <td>0</td>\n",
              "    </tr>\n",
              "  </tbody>\n",
              "</table>\n",
              "</div>"
            ],
            "text/plain": [
              "      actor_1  actor_2  actor_3  actor_4  ...  actor_7  actor_8  actor_9  actor_10\n",
              "toma                                      ...                                     \n",
              "1           1        1        1        1  ...        0        0        0         0\n",
              "2           0        0        1        1  ...        0        0        0         0\n",
              "3           0        1        0        0  ...        1        0        0         0\n",
              "4           1        1        0        0  ...        1        1        0         0\n",
              "5           0        1        0        1  ...        0        1        0         0\n",
              "\n",
              "[5 rows x 10 columns]"
            ]
          },
          "metadata": {
            "tags": []
          }
        }
      ]
    },
    {
      "cell_type": "code",
      "metadata": {
        "colab": {
          "base_uri": "https://localhost:8080/",
          "height": 252
        },
        "id": "XR_3pyRoT3Tb",
        "outputId": "134086eb-b96b-4b7f-d5a9-f2cf17b0f83e"
      },
      "source": [
        "# Carga de los datos\r\n",
        "data = pd.read_csv(\"actores_tomas_inventados.csv\", sep=\";\")\r\n",
        "data = data.set_index(\"toma\")\r\n",
        "print(\"la nueva data se ve así:\")\r\n",
        "display(data.head())"
      ],
      "execution_count": 38,
      "outputs": [
        {
          "output_type": "stream",
          "text": [
            "la nueva data se ve así:\n"
          ],
          "name": "stdout"
        },
        {
          "output_type": "display_data",
          "data": {
            "text/html": [
              "<div>\n",
              "<style scoped>\n",
              "    .dataframe tbody tr th:only-of-type {\n",
              "        vertical-align: middle;\n",
              "    }\n",
              "\n",
              "    .dataframe tbody tr th {\n",
              "        vertical-align: top;\n",
              "    }\n",
              "\n",
              "    .dataframe thead th {\n",
              "        text-align: right;\n",
              "    }\n",
              "</style>\n",
              "<table border=\"1\" class=\"dataframe\">\n",
              "  <thead>\n",
              "    <tr style=\"text-align: right;\">\n",
              "      <th></th>\n",
              "      <th>actor_1</th>\n",
              "      <th>actor_2</th>\n",
              "      <th>actor_3</th>\n",
              "      <th>actor_4</th>\n",
              "      <th>actor_5</th>\n",
              "      <th>actor_6</th>\n",
              "      <th>actor_7</th>\n",
              "      <th>actor_8</th>\n",
              "      <th>actor_9</th>\n",
              "      <th>actor_10</th>\n",
              "    </tr>\n",
              "    <tr>\n",
              "      <th>toma</th>\n",
              "      <th></th>\n",
              "      <th></th>\n",
              "      <th></th>\n",
              "      <th></th>\n",
              "      <th></th>\n",
              "      <th></th>\n",
              "      <th></th>\n",
              "      <th></th>\n",
              "      <th></th>\n",
              "      <th></th>\n",
              "    </tr>\n",
              "  </thead>\n",
              "  <tbody>\n",
              "    <tr>\n",
              "      <th>1</th>\n",
              "      <td>0</td>\n",
              "      <td>1</td>\n",
              "      <td>0</td>\n",
              "      <td>0</td>\n",
              "      <td>0</td>\n",
              "      <td>1</td>\n",
              "      <td>1</td>\n",
              "      <td>0</td>\n",
              "      <td>0</td>\n",
              "      <td>0</td>\n",
              "    </tr>\n",
              "    <tr>\n",
              "      <th>2</th>\n",
              "      <td>0</td>\n",
              "      <td>1</td>\n",
              "      <td>0</td>\n",
              "      <td>1</td>\n",
              "      <td>1</td>\n",
              "      <td>0</td>\n",
              "      <td>1</td>\n",
              "      <td>1</td>\n",
              "      <td>1</td>\n",
              "      <td>0</td>\n",
              "    </tr>\n",
              "    <tr>\n",
              "      <th>3</th>\n",
              "      <td>0</td>\n",
              "      <td>0</td>\n",
              "      <td>0</td>\n",
              "      <td>0</td>\n",
              "      <td>0</td>\n",
              "      <td>0</td>\n",
              "      <td>0</td>\n",
              "      <td>0</td>\n",
              "      <td>0</td>\n",
              "      <td>1</td>\n",
              "    </tr>\n",
              "    <tr>\n",
              "      <th>4</th>\n",
              "      <td>0</td>\n",
              "      <td>0</td>\n",
              "      <td>1</td>\n",
              "      <td>0</td>\n",
              "      <td>1</td>\n",
              "      <td>1</td>\n",
              "      <td>0</td>\n",
              "      <td>0</td>\n",
              "      <td>0</td>\n",
              "      <td>0</td>\n",
              "    </tr>\n",
              "    <tr>\n",
              "      <th>5</th>\n",
              "      <td>1</td>\n",
              "      <td>0</td>\n",
              "      <td>1</td>\n",
              "      <td>0</td>\n",
              "      <td>1</td>\n",
              "      <td>0</td>\n",
              "      <td>0</td>\n",
              "      <td>1</td>\n",
              "      <td>0</td>\n",
              "      <td>1</td>\n",
              "    </tr>\n",
              "  </tbody>\n",
              "</table>\n",
              "</div>"
            ],
            "text/plain": [
              "      actor_1  actor_2  actor_3  actor_4  ...  actor_7  actor_8  actor_9  actor_10\n",
              "toma                                      ...                                     \n",
              "1           0        1        0        0  ...        1        0        0         0\n",
              "2           0        1        0        1  ...        1        1        1         0\n",
              "3           0        0        0        0  ...        0        0        0         1\n",
              "4           0        0        1        0  ...        0        0        0         0\n",
              "5           1        0        1        0  ...        0        1        0         1\n",
              "\n",
              "[5 rows x 10 columns]"
            ]
          },
          "metadata": {
            "tags": []
          }
        }
      ]
    },
    {
      "cell_type": "markdown",
      "metadata": {
        "id": "aFkcUVnLUyiX"
      },
      "source": [
        "Nótese cómo los actores que iban en la toma 1, ya no son exactamente los mismos que irán en la toma 1 y eso ocurre con todas las tomas\r\n"
      ]
    },
    {
      "cell_type": "code",
      "metadata": {
        "id": "sJ-N2etjkyWc"
      },
      "source": [
        ""
      ],
      "execution_count": 38,
      "outputs": []
    },
    {
      "cell_type": "markdown",
      "metadata": {
        "id": "zy5ZROmjlGo1"
      },
      "source": [
        "## 8. Aplica el algoritmo al juego de datos generado\r\n",
        "En esta sección aplicaremos los métodos anteriormente usados al juego de datos generado"
      ]
    },
    {
      "cell_type": "markdown",
      "metadata": {
        "id": "i_8TOzOHVXi1"
      },
      "source": [
        "### Generar soluciones aleatorias\r\n",
        "Exploremos qué pasa cuando generamos soluciones aleatorias"
      ]
    },
    {
      "cell_type": "code",
      "metadata": {
        "colab": {
          "base_uri": "https://localhost:8080/"
        },
        "id": "-UzWbx79VFNa",
        "outputId": "31ced3dc-4d1e-4aeb-fe05-20c02e188018"
      },
      "source": [
        "evaluar_poblacion(crear_poblacion(10))"
      ],
      "execution_count": 39,
      "outputs": [
        {
          "output_type": "execute_result",
          "data": {
            "text/plain": [
              "[44, 49, 45, 46, 46, 44, 45, 43, 41, 46]"
            ]
          },
          "metadata": {
            "tags": []
          },
          "execution_count": 39
        }
      ]
    },
    {
      "cell_type": "markdown",
      "metadata": {
        "id": "5ud3_WKhVgrm"
      },
      "source": [
        "Nótese cómo para este problema, una solución aleatoria está al rededor de un costo de 49. \r\n",
        "En la data original el costo aleatorio se encontraba al rededor de 38-40"
      ]
    },
    {
      "cell_type": "markdown",
      "metadata": {
        "id": "AcPSNdDmV1eI"
      },
      "source": [
        "### búsqueda local"
      ]
    },
    {
      "cell_type": "code",
      "metadata": {
        "colab": {
          "base_uri": "https://localhost:8080/"
        },
        "id": "buhI6zHOVecR",
        "outputId": "3ba4f1cc-6e75-44e2-9c2f-0f7c05a2689a"
      },
      "source": [
        "solucion, costo, iteracion = busqueda_local(30, verbose=True)"
      ],
      "execution_count": 40,
      "outputs": [
        {
          "output_type": "stream",
          "text": [
            "iteracion: 1, mejor_costo: 42\n",
            "mejor_solucion [24 23  9  1 10 27  2 20 19 26 17 29  8  0  5 11 16 25  7  3 12 13 22  6\n",
            "  4 21 28 15 14 18]\n",
            "\n",
            "iteracion: 2, mejor_costo: 40\n",
            "mejor_solucion [24 23  9  1 10 27  2 20 19 26 17 29  8  0  5 11 16 18  7  3 12 13 22  6\n",
            "  4 21 28 15 14 25]\n",
            "\n",
            "iteracion: 3, mejor_costo: 38\n",
            "mejor_solucion [24 23  9  1 10 27  2 20 19 22 17 29  8  0  5 11 16 18  7  3 12 13 26  6\n",
            "  4 21 28 15 14 25]\n",
            "\n",
            "iteracion: 4, mejor_costo: 37\n",
            "mejor_solucion [24 23  9  1 10 27  2 20 19 22 17 29  8  0  5 11 16 18  7 25 12 13 26  6\n",
            "  4 21 28 15 14  3]\n",
            "\n",
            "iteracion: 5, mejor_costo: 36\n",
            "mejor_solucion [24 23  9  1 10 27  2 20 25 22 17 29  8  0  5 11 16 18  7 19 12 13 26  6\n",
            "  4 21 28 15 14  3]\n",
            "\n",
            "iteracion: 6, mejor_costo: 35\n",
            "mejor_solucion [24 23  9  1 10 27  2 20 25 22 17 29  8  0  6 11 16 18  7 19 12 13 26  5\n",
            "  4 21 28 15 14  3]\n",
            "\n",
            "iteracion: 7, mejor_costo: 35\n",
            "mejor_solucion [24 23  9  1 10 27  2 20 25 22 17 29  8  0  6 11 16 18  7 19 12 13 26  5\n",
            "  4 21 28 15 14  3]\n",
            "\n"
          ],
          "name": "stdout"
        }
      ]
    },
    {
      "cell_type": "markdown",
      "metadata": {
        "id": "Uo1OYisIWN5g"
      },
      "source": [
        "Ya se alcanzan soluciones del orden de 33 por el método de búsqueda local"
      ]
    },
    {
      "cell_type": "code",
      "metadata": {
        "colab": {
          "base_uri": "https://localhost:8080/"
        },
        "id": "qMTJKHA_jdf_",
        "outputId": "28435417-866a-492a-d12c-dc74585f7746"
      },
      "source": [
        "tomas_disponibles"
      ],
      "execution_count": 41,
      "outputs": [
        {
          "output_type": "execute_result",
          "data": {
            "text/plain": [
              "set()"
            ]
          },
          "metadata": {
            "tags": []
          },
          "execution_count": 41
        }
      ]
    },
    {
      "cell_type": "markdown",
      "metadata": {
        "id": "RhzLDEc9je6I"
      },
      "source": [
        "### Solución por técnica voraz"
      ]
    },
    {
      "cell_type": "code",
      "metadata": {
        "colab": {
          "base_uri": "https://localhost:8080/"
        },
        "id": "_PezAFMFjdxP",
        "outputId": "b0151526-53fe-493c-e9de-6f6b0065aa0f"
      },
      "source": [
        "tomas_disponibles = set(range(30))\r\n",
        "subsets_optimos = []\r\n",
        "for i in range(5):\r\n",
        "    print(\"#\" * 50)\r\n",
        "    print(f\"hay {len(tomas_disponibles)} disponibles\")\r\n",
        "    print()\r\n",
        "    best_subset = get_subsets_optimos(tomas_disponibles)\r\n",
        "    \r\n",
        "    # actualizo los disponibles\r\n",
        "    tomas_disponibles = tomas_disponibles - set(best_subset)\r\n",
        "    subsets_optimos.append(list(best_subset))\r\n",
        "    print()"
      ],
      "execution_count": 42,
      "outputs": [
        {
          "output_type": "stream",
          "text": [
            "##################################################\n",
            "hay 30 disponibles\n",
            "\n",
            "iteración: 0, costo: 10, combinación: (0, 1, 2, 3, 4, 5)\n",
            "iteración: 25, costo: 9, combinación: (0, 1, 2, 3, 5, 6)\n",
            "iteración: 670, costo: 8, combinación: (0, 1, 2, 5, 8, 9)\n",
            "iteración: 8318, costo: 7, combinación: (0, 1, 5, 8, 9, 19)\n",
            "iteración: 20776, costo: 6, combinación: (0, 2, 3, 5, 6, 8)\n",
            "iteración: 25406, costo: 5, combinación: (0, 2, 5, 6, 8, 18)\n",
            "Iteración # 29688/593775 (5.00%)\n",
            "Iteración # 59376/593775 (10.00%)\n",
            "iteración: 66000, costo: 4, combinación: (0, 5, 6, 8, 18, 19)\n",
            "Iteración # 89064/593775 (15.00%)\n",
            "Iteración # 118752/593775 (20.00%)\n",
            "Iteración # 148440/593775 (25.00%)\n",
            "Iteración # 178128/593775 (30.00%)\n",
            "Iteración # 207816/593775 (35.00%)\n",
            "Iteración # 237504/593775 (40.00%)\n",
            "iteración: 246514, costo: 3, combinación: (2, 5, 7, 8, 15, 19)\n",
            "Iteración # 267192/593775 (45.00%)\n",
            "Iteración # 296880/593775 (50.00%)\n",
            "Iteración # 326568/593775 (55.00%)\n",
            "Iteración # 356256/593775 (60.00%)\n",
            "Iteración # 385944/593775 (65.00%)\n",
            "Iteración # 415632/593775 (70.00%)\n",
            "Iteración # 445320/593775 (75.00%)\n",
            "Iteración # 475008/593775 (80.00%)\n",
            "Iteración # 504696/593775 (85.00%)\n",
            "Iteración # 534384/593775 (90.00%)\n",
            "Iteración # 564072/593775 (95.00%)\n",
            "Iteración # 593760/593775 (100.00%)\n",
            "\n",
            "##################################################\n",
            "hay 24 disponibles\n",
            "\n",
            "iteración: 0, costo: 10, combinación: (0, 1, 3, 4, 6, 9)\n",
            "iteración: 190, costo: 9, combinación: (0, 1, 3, 6, 9, 10)\n",
            "iteración: 192, costo: 8, combinación: (0, 1, 3, 6, 9, 12)\n",
            "Iteración # 6729/134596 (5.00%)\n",
            "iteración: 8456, costo: 7, combinación: (0, 3, 6, 9, 10, 12)\n",
            "iteración: 8492, costo: 6, combinación: (0, 3, 6, 9, 12, 18)\n",
            "iteración: 9271, costo: 5, combinación: (0, 3, 6, 18, 21, 25)\n",
            "Iteración # 13458/134596 (10.00%)\n",
            "Iteración # 20187/134596 (15.00%)\n",
            "Iteración # 26916/134596 (20.00%)\n",
            "Iteración # 33645/134596 (25.00%)\n",
            "Iteración # 40374/134596 (30.00%)\n",
            "Iteración # 47103/134596 (35.00%)\n",
            "Iteración # 53832/134596 (40.00%)\n",
            "Iteración # 60561/134596 (44.99%)\n",
            "Iteración # 67290/134596 (49.99%)\n",
            "Iteración # 74019/134596 (54.99%)\n",
            "Iteración # 80748/134596 (59.99%)\n",
            "Iteración # 87477/134596 (64.99%)\n",
            "Iteración # 94206/134596 (69.99%)\n",
            "Iteración # 100935/134596 (74.99%)\n",
            "Iteración # 107664/134596 (79.99%)\n",
            "Iteración # 114393/134596 (84.99%)\n",
            "Iteración # 121122/134596 (89.99%)\n",
            "Iteración # 127851/134596 (94.99%)\n",
            "Iteración # 134580/134596 (99.99%)\n",
            "\n",
            "##################################################\n",
            "hay 18 disponibles\n",
            "\n",
            "iteración: 0, costo: 9, combinación: (1, 4, 9, 10, 11, 12)\n",
            "Iteración # 928/18564 (5.00%)\n",
            "Iteración # 1856/18564 (10.00%)\n",
            "iteración: 1903, costo: 8, combinación: (1, 9, 10, 12, 13, 23)\n",
            "iteración: 2512, costo: 7, combinación: (1, 9, 12, 13, 23, 27)\n",
            "Iteración # 2784/18564 (15.00%)\n",
            "Iteración # 3712/18564 (20.00%)\n",
            "Iteración # 4640/18564 (24.99%)\n",
            "Iteración # 5568/18564 (29.99%)\n",
            "Iteración # 6496/18564 (34.99%)\n",
            "Iteración # 7424/18564 (39.99%)\n",
            "Iteración # 8352/18564 (44.99%)\n",
            "Iteración # 9280/18564 (49.99%)\n",
            "Iteración # 10208/18564 (54.99%)\n",
            "Iteración # 11136/18564 (59.99%)\n",
            "Iteración # 12064/18564 (64.99%)\n",
            "Iteración # 12992/18564 (69.98%)\n",
            "Iteración # 13920/18564 (74.98%)\n",
            "Iteración # 14848/18564 (79.98%)\n",
            "Iteración # 15776/18564 (84.98%)\n",
            "Iteración # 16704/18564 (89.98%)\n",
            "Iteración # 17632/18564 (94.98%)\n",
            "Iteración # 18560/18564 (99.98%)\n",
            "\n",
            "##################################################\n",
            "hay 12 disponibles\n",
            "\n",
            "iteración: 0, costo: 9, combinación: (4, 10, 11, 14, 16, 17)\n",
            "Iteración # 46/924 (4.98%)\n",
            "Iteración # 92/924 (9.96%)\n",
            "iteración: 125, costo: 8, combinación: (4, 10, 14, 20, 24, 28)\n",
            "Iteración # 138/924 (14.94%)\n",
            "Iteración # 184/924 (19.91%)\n",
            "Iteración # 230/924 (24.89%)\n",
            "Iteración # 276/924 (29.87%)\n",
            "Iteración # 322/924 (34.85%)\n",
            "Iteración # 368/924 (39.83%)\n",
            "Iteración # 414/924 (44.81%)\n",
            "Iteración # 460/924 (49.78%)\n",
            "Iteración # 506/924 (54.76%)\n",
            "Iteración # 552/924 (59.74%)\n",
            "Iteración # 598/924 (64.72%)\n",
            "Iteración # 644/924 (69.70%)\n",
            "Iteración # 690/924 (74.68%)\n",
            "Iteración # 736/924 (79.65%)\n",
            "Iteración # 782/924 (84.63%)\n",
            "Iteración # 828/924 (89.61%)\n",
            "Iteración # 874/924 (94.59%)\n",
            "Iteración # 920/924 (99.57%)\n",
            "\n",
            "##################################################\n",
            "hay 6 disponibles\n",
            "\n",
            "Iteración # 1/1 (100.00%)\n",
            "iteración: 0, costo: 10, combinación: (11, 16, 17, 22, 26, 29)\n",
            "\n"
          ],
          "name": "stdout"
        }
      ]
    },
    {
      "cell_type": "code",
      "metadata": {
        "colab": {
          "base_uri": "https://localhost:8080/"
        },
        "id": "ILgKJ7fVlu87",
        "outputId": "4a0eda56-1668-497e-a602-692a6a11e04b"
      },
      "source": [
        "subsets_optimos"
      ],
      "execution_count": 43,
      "outputs": [
        {
          "output_type": "execute_result",
          "data": {
            "text/plain": [
              "[[2, 5, 7, 8, 15, 19],\n",
              " [0, 3, 6, 18, 21, 25],\n",
              " [1, 9, 12, 13, 23, 27],\n",
              " [4, 10, 14, 20, 24, 28],\n",
              " [11, 16, 17, 22, 26, 29]]"
            ]
          },
          "metadata": {
            "tags": []
          },
          "execution_count": 43
        }
      ]
    },
    {
      "cell_type": "code",
      "metadata": {
        "colab": {
          "base_uri": "https://localhost:8080/"
        },
        "id": "7Qm4ZJBHlu8_",
        "outputId": "b0025c98-3b91-472b-dcef-3ff7632fb023"
      },
      "source": [
        "solucion_voraz = np.array(subsets_optimos).reshape(30)\r\n",
        "solucion_voraz"
      ],
      "execution_count": 44,
      "outputs": [
        {
          "output_type": "execute_result",
          "data": {
            "text/plain": [
              "array([ 2,  5,  7,  8, 15, 19,  0,  3,  6, 18, 21, 25,  1,  9, 12, 13, 23,\n",
              "       27,  4, 10, 14, 20, 24, 28, 11, 16, 17, 22, 26, 29])"
            ]
          },
          "metadata": {
            "tags": []
          },
          "execution_count": 44
        }
      ]
    },
    {
      "cell_type": "code",
      "metadata": {
        "colab": {
          "base_uri": "https://localhost:8080/"
        },
        "id": "22O7GGgQlw4G",
        "outputId": "3fb70c53-0300-4064-9ab7-21a57be3bb0f"
      },
      "source": [
        "print(f\"la solución voraz tiene un costo de: {evaluar_solucion(solucion_voraz)}\")"
      ],
      "execution_count": 45,
      "outputs": [
        {
          "output_type": "stream",
          "text": [
            "la solución voraz tiene un costo de: 33\n"
          ],
          "name": "stdout"
        }
      ]
    },
    {
      "cell_type": "code",
      "metadata": {
        "id": "9wxCeVSyn8iF"
      },
      "source": [
        ""
      ],
      "execution_count": 45,
      "outputs": []
    },
    {
      "cell_type": "markdown",
      "metadata": {
        "id": "fRfhAalaWR9i"
      },
      "source": [
        "### Algorimos genéticos\r\n",
        "Evaluemos también acá la técnica de algorimos genéticos"
      ]
    },
    {
      "cell_type": "code",
      "metadata": {
        "colab": {
          "base_uri": "https://localhost:8080/"
        },
        "id": "UdCMZPCbVFSL",
        "outputId": "084b643d-b9f4-4cbc-8055-69081587a0cd"
      },
      "source": [
        "sol_genetica, score_genetico, mejores_scores = ejecutar_genetico(num_iteraciones = 30, tam_pob=20000, n_best=2000, num_cruces=8000)"
      ],
      "execution_count": 46,
      "outputs": [
        {
          "output_type": "stream",
          "text": [
            "iteración 0\n",
            "evaluando a la población de: 20000 individuos\n",
            "Mejor Score de la población hasta ahora es 38\n",
            "la mejor solución es: [20  8 13 12 19 18 21 28 26  0 22  5  3  6  1 23  9 25 29 27 24 10 16 17\n",
            " 15 11  2  4 14  7]\n",
            "count    20000.00000\n",
            "mean        44.77340\n",
            "std          1.74359\n",
            "min         38.00000\n",
            "25%         44.00000\n",
            "50%         45.00000\n",
            "75%         46.00000\n",
            "max         50.00000\n",
            "Name: score, dtype: float64\n",
            "cruzando los mejores\n",
            "\n",
            "iteración 1\n",
            "evaluando a la población de: 20000 individuos\n",
            "Mejor Score de la población hasta ahora es 37\n",
            "la mejor solución es: [16.  7. 22.  4. 17. 11. 10. 29. 13.  8.  2.  6.  9. 12. 23.  1.  0. 21.\n",
            " 25. 24. 27. 18. 26.  3. 15. 20.  5. 28. 14. 19.]\n",
            "count    20000.00000\n",
            "mean        43.91610\n",
            "std          1.84706\n",
            "min         37.00000\n",
            "25%         43.00000\n",
            "50%         44.00000\n",
            "75%         45.00000\n",
            "max         50.00000\n",
            "Name: score, dtype: float64\n",
            "cruzando los mejores\n",
            "\n",
            "iteración 2\n",
            "evaluando a la población de: 20000 individuos\n",
            "Mejor Score de la población hasta ahora es 36\n",
            "la mejor solución es: [ 8. 12. 19. 13. 11.  5. 25.  6.  9. 22. 23. 29. 28. 14.  0. 27.  4. 18.\n",
            " 17. 15.  7. 26. 16.  1. 21.  2. 20.  3. 10. 24.]\n",
            "count    20000.00000\n",
            "mean        43.56195\n",
            "std          1.97042\n",
            "min         36.00000\n",
            "25%         42.00000\n",
            "50%         44.00000\n",
            "75%         45.00000\n",
            "max         50.00000\n",
            "Name: score, dtype: float64\n",
            "cruzando los mejores\n",
            "\n",
            "iteración 3\n",
            "evaluando a la población de: 20000 individuos\n",
            "Mejor Score de la población hasta ahora es 36\n",
            "la mejor solución es: [ 8. 12. 19. 13. 11.  5. 25.  6.  9. 22. 23. 29. 28. 14.  0. 27.  4. 18.\n",
            " 17. 15.  7. 26. 16.  1. 21.  2. 20.  3. 10. 24.]\n",
            "count    20000.000000\n",
            "mean        43.322800\n",
            "std          2.057064\n",
            "min         36.000000\n",
            "25%         42.000000\n",
            "50%         43.000000\n",
            "75%         45.000000\n",
            "max         50.000000\n",
            "Name: score, dtype: float64\n",
            "cruzando los mejores\n",
            "\n",
            "iteración 4\n",
            "evaluando a la población de: 20000 individuos\n",
            "Mejor Score de la población hasta ahora es 35\n",
            "la mejor solución es: [27. 20.  9. 10. 24. 12. 23. 17. 16. 22.  1. 13. 28.  4.  2. 19. 14. 29.\n",
            "  7. 15.  5.  3.  8. 21. 25.  0. 26. 11. 18.  6.]\n",
            "count    20000.000000\n",
            "mean        43.096100\n",
            "std          2.118487\n",
            "min         35.000000\n",
            "25%         41.000000\n",
            "50%         43.000000\n",
            "75%         45.000000\n",
            "max         50.000000\n",
            "Name: score, dtype: float64\n",
            "cruzando los mejores\n",
            "\n",
            "iteración 5\n",
            "evaluando a la población de: 20000 individuos\n",
            "Mejor Score de la población hasta ahora es 35\n",
            "la mejor solución es: [27. 20.  9. 10. 24. 12. 23. 17. 16. 22.  1. 13. 28.  4.  2. 19. 14. 29.\n",
            "  7. 15.  5.  3.  8. 21. 25.  0. 26. 11. 18.  6.]\n",
            "count    20000.000000\n",
            "mean        42.964200\n",
            "std          2.167222\n",
            "min         35.000000\n",
            "25%         41.000000\n",
            "50%         43.000000\n",
            "75%         45.000000\n",
            "max         50.000000\n",
            "Name: score, dtype: float64\n",
            "cruzando los mejores\n",
            "\n",
            "iteración 6\n",
            "evaluando a la población de: 20000 individuos\n",
            "Mejor Score de la población hasta ahora es 35\n",
            "la mejor solución es: [27. 20.  9. 10. 24. 12. 23. 17. 16. 22.  1. 13. 28.  4.  2. 19. 14. 29.\n",
            "  7. 15.  5.  3.  8. 21. 25.  0. 26. 11. 18.  6.]\n",
            "count    20000.000000\n",
            "mean        42.793900\n",
            "std          2.218348\n",
            "min         35.000000\n",
            "25%         41.000000\n",
            "50%         43.000000\n",
            "75%         44.000000\n",
            "max         49.000000\n",
            "Name: score, dtype: float64\n",
            "cruzando los mejores\n",
            "\n",
            "iteración 7\n",
            "evaluando a la población de: 20000 individuos\n",
            "Mejor Score de la población hasta ahora es 35\n",
            "la mejor solución es: [27. 20.  9. 10. 24. 12. 23. 17. 16. 22.  1. 13. 28.  4.  2. 19. 14. 29.\n",
            "  7. 15.  5.  3.  8. 21. 25.  0. 26. 11. 18.  6.]\n",
            "count    20000.000000\n",
            "mean        42.654150\n",
            "std          2.278266\n",
            "min         35.000000\n",
            "25%         41.000000\n",
            "50%         43.000000\n",
            "75%         44.000000\n",
            "max         50.000000\n",
            "Name: score, dtype: float64\n",
            "cruzando los mejores\n",
            "\n",
            "iteración 8\n",
            "evaluando a la población de: 20000 individuos\n",
            "Mejor Score de la población hasta ahora es 35\n",
            "la mejor solución es: [27. 20.  9. 10. 24. 12. 23. 17. 16. 22.  1. 13. 28.  4.  2. 19. 14. 29.\n",
            "  7. 15.  5.  3.  8. 21. 25.  0. 26. 11. 18.  6.]\n",
            "count    20000.00000\n",
            "mean        42.60575\n",
            "std          2.32454\n",
            "min         35.00000\n",
            "25%         40.00000\n",
            "50%         43.00000\n",
            "75%         44.00000\n",
            "max         50.00000\n",
            "Name: score, dtype: float64\n",
            "cruzando los mejores\n",
            "\n",
            "iteración 9\n",
            "evaluando a la población de: 20000 individuos\n",
            "Mejor Score de la población hasta ahora es 35\n",
            "la mejor solución es: [27. 20.  9. 10. 24. 12. 23. 17. 16. 22.  1. 13. 28.  4.  2. 19. 14. 29.\n",
            "  7. 15.  5.  3.  8. 21. 25.  0. 26. 11. 18.  6.]\n",
            "count    20000.000000\n",
            "mean        42.495250\n",
            "std          2.335112\n",
            "min         35.000000\n",
            "25%         40.000000\n",
            "50%         43.000000\n",
            "75%         44.000000\n",
            "max         49.000000\n",
            "Name: score, dtype: float64\n",
            "cruzando los mejores\n",
            "\n",
            "iteración 10\n",
            "evaluando a la población de: 20000 individuos\n",
            "Mejor Score de la población hasta ahora es 35\n",
            "la mejor solución es: [27. 20.  9. 10. 24. 12. 23. 17. 16. 22.  1. 13. 28.  4.  2. 19. 14. 29.\n",
            "  7. 15.  5.  3.  8. 21. 25.  0. 26. 11. 18.  6.]\n",
            "count    20000.000000\n",
            "mean        42.412100\n",
            "std          2.367457\n",
            "min         35.000000\n",
            "25%         40.000000\n",
            "50%         43.000000\n",
            "75%         44.000000\n",
            "max         50.000000\n",
            "Name: score, dtype: float64\n",
            "cruzando los mejores\n",
            "\n",
            "iteración 11\n",
            "evaluando a la población de: 20000 individuos\n",
            "Mejor Score de la población hasta ahora es 34\n",
            "la mejor solución es: [ 1. 16. 17. 23. 11. 22. 24. 12. 21.  5. 13.  3. 29.  2. 15. 14.  7. 19.\n",
            " 25. 18.  0. 26.  6. 28. 20. 10.  4.  8.  9. 27.]\n",
            "count    20000.00000\n",
            "mean        42.29585\n",
            "std          2.39134\n",
            "min         34.00000\n",
            "25%         40.00000\n",
            "50%         43.00000\n",
            "75%         44.00000\n",
            "max         50.00000\n",
            "Name: score, dtype: float64\n",
            "cruzando los mejores\n",
            "\n",
            "iteración 12\n",
            "evaluando a la población de: 20000 individuos\n",
            "Mejor Score de la población hasta ahora es 34\n",
            "la mejor solución es: [ 1. 16. 17. 23. 11. 22. 24. 12. 21.  5. 13.  3. 29.  2. 15. 14.  7. 19.\n",
            " 25. 18.  0. 26.  6. 28. 20. 10.  4.  8.  9. 27.]\n",
            "count    20000.000000\n",
            "mean        42.181350\n",
            "std          2.426717\n",
            "min         34.000000\n",
            "25%         40.000000\n",
            "50%         42.000000\n",
            "75%         44.000000\n",
            "max         50.000000\n",
            "Name: score, dtype: float64\n",
            "cruzando los mejores\n",
            "\n",
            "iteración 13\n",
            "evaluando a la población de: 20000 individuos\n",
            "Mejor Score de la población hasta ahora es 34\n",
            "la mejor solución es: [ 1. 16. 17. 23. 11. 22. 24. 12. 21.  5. 13.  3. 29.  2. 15. 14.  7. 19.\n",
            " 25. 18.  0. 26.  6. 28. 20. 10.  4.  8.  9. 27.]\n",
            "count    20000.000000\n",
            "mean        42.124000\n",
            "std          2.489706\n",
            "min         34.000000\n",
            "25%         40.000000\n",
            "50%         42.000000\n",
            "75%         44.000000\n",
            "max         49.000000\n",
            "Name: score, dtype: float64\n",
            "cruzando los mejores\n",
            "\n",
            "iteración 14\n",
            "evaluando a la población de: 20000 individuos\n",
            "Mejor Score de la población hasta ahora es 34\n",
            "la mejor solución es: [ 1. 16. 17. 23. 11. 22. 24. 12. 21.  5. 13.  3. 29.  2. 15. 14.  7. 19.\n",
            " 25. 18.  0. 26.  6. 28. 20. 10.  4.  8.  9. 27.]\n",
            "count    20000.000000\n",
            "mean        42.033800\n",
            "std          2.492763\n",
            "min         34.000000\n",
            "25%         40.000000\n",
            "50%         42.000000\n",
            "75%         44.000000\n",
            "max         49.000000\n",
            "Name: score, dtype: float64\n",
            "cruzando los mejores\n",
            "\n",
            "iteración 15\n",
            "evaluando a la población de: 20000 individuos\n",
            "Mejor Score de la población hasta ahora es 34\n",
            "la mejor solución es: [ 1. 16. 17. 23. 11. 22. 24. 12. 21.  5. 13.  3. 29.  2. 15. 14.  7. 19.\n",
            " 25. 18.  0. 26.  6. 28. 20. 10.  4.  8.  9. 27.]\n",
            "count    20000.000000\n",
            "mean        41.930600\n",
            "std          2.485738\n",
            "min         34.000000\n",
            "25%         40.000000\n",
            "50%         42.000000\n",
            "75%         44.000000\n",
            "max         50.000000\n",
            "Name: score, dtype: float64\n",
            "cruzando los mejores\n",
            "\n",
            "iteración 16\n",
            "evaluando a la población de: 20000 individuos\n",
            "Mejor Score de la población hasta ahora es 34\n",
            "la mejor solución es: [ 1. 16. 17. 23. 11. 22. 24. 12. 21.  5. 13.  3. 29.  2. 15. 14.  7. 19.\n",
            " 25. 18.  0. 26.  6. 28. 20. 10.  4.  8.  9. 27.]\n",
            "count    20000.000000\n",
            "mean        41.889350\n",
            "std          2.513568\n",
            "min         34.000000\n",
            "25%         40.000000\n",
            "50%         42.000000\n",
            "75%         44.000000\n",
            "max         50.000000\n",
            "Name: score, dtype: float64\n",
            "cruzando los mejores\n",
            "\n",
            "iteración 17\n",
            "evaluando a la población de: 20000 individuos\n",
            "Mejor Score de la población hasta ahora es 34\n",
            "la mejor solución es: [ 1. 16. 17. 23. 11. 22. 24. 12. 21.  5. 13.  3. 29.  2. 15. 14.  7. 19.\n",
            " 25. 18.  0. 26.  6. 28. 20. 10.  4.  8.  9. 27.]\n",
            "count    20000.000000\n",
            "mean        41.825700\n",
            "std          2.530383\n",
            "min         34.000000\n",
            "25%         40.000000\n",
            "50%         42.000000\n",
            "75%         44.000000\n",
            "max         50.000000\n",
            "Name: score, dtype: float64\n",
            "cruzando los mejores\n",
            "\n",
            "iteración 18\n",
            "evaluando a la población de: 20000 individuos\n",
            "Mejor Score de la población hasta ahora es 34\n",
            "la mejor solución es: [ 1. 16. 17. 23. 11. 22. 24. 12. 21.  5. 13.  3. 29.  2. 15. 14.  7. 19.\n",
            " 25. 18.  0. 26.  6. 28. 20. 10.  4.  8.  9. 27.]\n",
            "count    20000.000000\n",
            "mean        41.746150\n",
            "std          2.556294\n",
            "min         34.000000\n",
            "25%         39.000000\n",
            "50%         42.000000\n",
            "75%         44.000000\n",
            "max         49.000000\n",
            "Name: score, dtype: float64\n",
            "cruzando los mejores\n",
            "\n",
            "iteración 19\n",
            "evaluando a la población de: 20000 individuos\n",
            "Mejor Score de la población hasta ahora es 34\n",
            "la mejor solución es: [ 1. 16. 17. 23. 11. 22. 24. 12. 21.  5. 13.  3. 29.  2. 15. 14.  7. 19.\n",
            " 25. 18.  0. 26.  6. 28. 20. 10.  4.  8.  9. 27.]\n",
            "count    20000.000000\n",
            "mean        41.629250\n",
            "std          2.567766\n",
            "min         34.000000\n",
            "25%         39.000000\n",
            "50%         42.000000\n",
            "75%         44.000000\n",
            "max         49.000000\n",
            "Name: score, dtype: float64\n",
            "cruzando los mejores\n",
            "\n",
            "iteración 20\n",
            "evaluando a la población de: 20000 individuos\n",
            "Mejor Score de la población hasta ahora es 34\n",
            "la mejor solución es: [ 1. 16. 17. 23. 11. 22. 24. 12. 21.  5. 13.  3. 29.  2. 15. 14.  7. 19.\n",
            " 25. 18.  0. 26.  6. 28. 20. 10.  4.  8.  9. 27.]\n",
            "count    20000.00000\n",
            "mean        41.46940\n",
            "std          2.57936\n",
            "min         34.00000\n",
            "25%         39.00000\n",
            "50%         42.00000\n",
            "75%         43.00000\n",
            "max         50.00000\n",
            "Name: score, dtype: float64\n",
            "cruzando los mejores\n",
            "\n",
            "iteración 21\n",
            "evaluando a la población de: 20000 individuos\n",
            "Mejor Score de la población hasta ahora es 34\n",
            "la mejor solución es: [ 1. 16. 17. 23. 11. 22. 24. 12. 21.  5. 13.  3. 29.  2. 15. 14.  7. 19.\n",
            " 25. 18.  0. 26.  6. 28. 20. 10.  4.  8.  9. 27.]\n",
            "count    20000.00000\n",
            "mean        41.33170\n",
            "std          2.58921\n",
            "min         34.00000\n",
            "25%         39.00000\n",
            "50%         42.00000\n",
            "75%         43.00000\n",
            "max         49.00000\n",
            "Name: score, dtype: float64\n",
            "cruzando los mejores\n",
            "\n",
            "iteración 22\n",
            "evaluando a la población de: 20000 individuos\n",
            "Mejor Score de la población hasta ahora es 34\n",
            "la mejor solución es: [ 1. 16. 17. 23. 11. 22. 24. 12. 21.  5. 13.  3. 29.  2. 15. 14.  7. 19.\n",
            " 25. 18.  0. 26.  6. 28. 20. 10.  4.  8.  9. 27.]\n",
            "count    20000.000000\n",
            "mean        41.186550\n",
            "std          2.620361\n",
            "min         34.000000\n",
            "25%         39.000000\n",
            "50%         41.000000\n",
            "75%         43.000000\n",
            "max         50.000000\n",
            "Name: score, dtype: float64\n",
            "cruzando los mejores\n",
            "\n",
            "iteración 23\n",
            "evaluando a la población de: 20000 individuos\n",
            "Mejor Score de la población hasta ahora es 34\n",
            "la mejor solución es: [ 1. 16. 17. 23. 11. 22. 24. 12. 21.  5. 13.  3. 29.  2. 15. 14.  7. 19.\n",
            " 25. 18.  0. 26.  6. 28. 20. 10.  4.  8.  9. 27.]\n",
            "count    20000.000000\n",
            "mean        41.049100\n",
            "std          2.614676\n",
            "min         34.000000\n",
            "25%         39.000000\n",
            "50%         41.000000\n",
            "75%         43.000000\n",
            "max         49.000000\n",
            "Name: score, dtype: float64\n",
            "cruzando los mejores\n",
            "\n",
            "iteración 24\n",
            "evaluando a la población de: 20000 individuos\n",
            "Mejor Score de la población hasta ahora es 34\n",
            "la mejor solución es: [ 1. 16. 17. 23. 11. 22. 24. 12. 21.  5. 13.  3. 29.  2. 15. 14.  7. 19.\n",
            " 25. 18.  0. 26.  6. 28. 20. 10.  4.  8.  9. 27.]\n",
            "count    20000.000000\n",
            "mean        40.928150\n",
            "std          2.624239\n",
            "min         34.000000\n",
            "25%         38.000000\n",
            "50%         41.000000\n",
            "75%         43.000000\n",
            "max         49.000000\n",
            "Name: score, dtype: float64\n",
            "cruzando los mejores\n",
            "\n",
            "iteración 25\n",
            "evaluando a la población de: 20000 individuos\n",
            "Mejor Score de la población hasta ahora es 33\n",
            "la mejor solución es: [ 8.  5. 13.  4. 12. 14. 17. 22. 16. 26.  1.  9.  3. 20. 19. 24. 27. 21.\n",
            "  7. 11. 23. 25. 15. 28. 29. 18.  0.  6. 10.  2.]\n",
            "count    20000.000000\n",
            "mean        40.817600\n",
            "std          2.641511\n",
            "min         33.000000\n",
            "25%         38.000000\n",
            "50%         41.000000\n",
            "75%         43.000000\n",
            "max         49.000000\n",
            "Name: score, dtype: float64\n",
            "cruzando los mejores\n",
            "\n",
            "iteración 26\n",
            "evaluando a la población de: 20000 individuos\n",
            "Mejor Score de la población hasta ahora es 32\n",
            "la mejor solución es: [ 4.  5.  2. 15. 19.  7. 17. 23.  1. 22. 16.  9. 10. 24. 20. 13. 27. 14.\n",
            " 12.  6. 11. 26. 29. 28. 18.  0. 25.  3.  8. 21.]\n",
            "count    20000.000000\n",
            "mean        40.530450\n",
            "std          2.595267\n",
            "min         32.000000\n",
            "25%         38.000000\n",
            "50%         41.000000\n",
            "75%         42.000000\n",
            "max         50.000000\n",
            "Name: score, dtype: float64\n",
            "cruzando los mejores\n",
            "\n",
            "iteración 27\n",
            "evaluando a la población de: 20000 individuos\n",
            "Mejor Score de la población hasta ahora es 32\n",
            "la mejor solución es: [ 4.  5.  2. 15. 19.  7. 17. 23.  1. 22. 16.  9. 10. 24. 20. 13. 27. 14.\n",
            " 12.  6. 11. 26. 29. 28. 18.  0. 25.  3.  8. 21.]\n",
            "count    20000.000000\n",
            "mean        40.274550\n",
            "std          2.565833\n",
            "min         32.000000\n",
            "25%         38.000000\n",
            "50%         40.000000\n",
            "75%         42.000000\n",
            "max         48.000000\n",
            "Name: score, dtype: float64\n",
            "cruzando los mejores\n",
            "\n",
            "iteración 28\n",
            "evaluando a la población de: 20000 individuos\n",
            "Mejor Score de la población hasta ahora es 32\n",
            "la mejor solución es: [ 4.  5.  2. 15. 19.  7. 17. 23.  1. 22. 16.  9. 10. 24. 20. 13. 27. 14.\n",
            " 12.  6. 11. 26. 29. 28. 18.  0. 25.  3.  8. 21.]\n",
            "count    20000.000000\n",
            "mean        39.993750\n",
            "std          2.529512\n",
            "min         32.000000\n",
            "25%         38.000000\n",
            "50%         40.000000\n",
            "75%         42.000000\n",
            "max         48.000000\n",
            "Name: score, dtype: float64\n",
            "cruzando los mejores\n",
            "\n",
            "iteración 29\n",
            "evaluando a la población de: 20000 individuos\n",
            "Mejor Score de la población hasta ahora es 32\n",
            "la mejor solución es: [ 4.  5.  2. 15. 19.  7. 17. 23.  1. 22. 16.  9. 10. 24. 20. 13. 27. 14.\n",
            " 12.  6. 11. 26. 29. 28. 18.  0. 25.  3.  8. 21.]\n",
            "count    20000.000000\n",
            "mean        39.845200\n",
            "std          2.540799\n",
            "min         32.000000\n",
            "25%         37.000000\n",
            "50%         40.000000\n",
            "75%         42.000000\n",
            "max         49.000000\n",
            "Name: score, dtype: float64\n",
            "cruzando los mejores\n",
            "\n"
          ],
          "name": "stdout"
        }
      ]
    },
    {
      "cell_type": "code",
      "metadata": {
        "id": "KlCtSjPKWgLy",
        "colab": {
          "base_uri": "https://localhost:8080/",
          "height": 295
        },
        "outputId": "07c67cc6-8aa5-44c2-9d73-973ae8055193"
      },
      "source": [
        "# Gráfico del mejor score de cada generación/iteración\r\n",
        "plt.plot(mejores_scores)\r\n",
        "plt.title(\"Mejores scores\")\r\n",
        "plt.xlabel(\"Generación/iteración\")\r\n",
        "plt.ylabel(\"Costo\")\r\n",
        "plt.show()"
      ],
      "execution_count": 47,
      "outputs": [
        {
          "output_type": "display_data",
          "data": {
            "image/png": "[encoded data removed]",
            "text/plain": [
              "<Figure size 432x288 with 1 Axes>"
            ]
          },
          "metadata": {
            "tags": [],
            "needs_background": "light"
          }
        }
      ]
    },
    {
      "cell_type": "code",
      "metadata": {
        "id": "-TXVyCelWgOB",
        "colab": {
          "base_uri": "https://localhost:8080/"
        },
        "outputId": "569c82fb-8949-4e26-f5c5-bdd03b503e36"
      },
      "source": [
        "print(f\"la mejor solución obtenida tuvo un costo de: {score_genetico}\")\r\n",
        "print(f\"la solución es: {sol_genetica}\")"
      ],
      "execution_count": 48,
      "outputs": [
        {
          "output_type": "stream",
          "text": [
            "la mejor solución obtenida tuvo un costo de: 32\n",
            "la solución es: [ 4.  5.  2. 15. 19.  7. 17. 23.  1. 22. 16.  9. 10. 24. 20. 13. 27. 14.\n",
            " 12.  6. 11. 26. 29. 28. 18.  0. 25.  3.  8. 21.]\n"
          ],
          "name": "stdout"
        }
      ]
    },
    {
      "cell_type": "markdown",
      "metadata": {
        "id": "FF1I_YDjJQDL"
      },
      "source": [
        "### Comparativa de resultados"
      ]
    },
    {
      "cell_type": "markdown",
      "metadata": {
        "id": "r9bZARjhH_t_"
      },
      "source": [
        "Puede notar cómo la data original se podía organizar de una forma menos costosa.\r\n",
        "En la siguiente tabla veremos una comparación de los métodos aplicados a ambos sets de datos\r\n",
        "\r\n",
        "\r\n",
        "\r\n",
        "\r\n",
        "\r\n",
        "Técnica | Mejor costo en data original | Mejor costo data aleatoria\r\n",
        "--| -- | -- \r\n",
        "solución aleatoria | 38 | 45\r\n",
        "búsqueda local | 30 | 35\r\n",
        "técnica voraz | 29 | 33\r\n",
        "algoritmos genéticos | 27 | 32\r\n",
        "\r\n"
      ]
    },
    {
      "cell_type": "code",
      "metadata": {
        "id": "Q4OuxSwfH-3R"
      },
      "source": [
        ""
      ],
      "execution_count": null,
      "outputs": []
    },
    {
      "cell_type": "markdown",
      "metadata": {
        "id": "eTFWUJQrtGcv"
      },
      "source": [
        "## 9. Enumera las referencias que has utilizado(si ha sido necesario) para llevar a cabo el trabajo\r\n",
        "\r\n",
        "Para la realización de este trabajo no se consultaron fuentes externas. \r\n",
        "\r\n",
        "Se realizó con conocimiento adquirido en el curso y conocimiento previo."
      ]
    },
    {
      "cell_type": "code",
      "metadata": {
        "id": "7j3goNPuXK36"
      },
      "source": [
        ""
      ],
      "execution_count": null,
      "outputs": []
    },
    {
      "cell_type": "markdown",
      "metadata": {
        "id": "kAkDPUyRtYyH"
      },
      "source": [
        "## 10. Describe brevemente las lineas de cómo crees que es posible avanzar en el estudio del problema. \r\n",
        "Ten en cuenta incluso posibles variaciones del problema y/o variaciones al alza del tamaño"
      ]
    },
    {
      "cell_type": "markdown",
      "metadata": {
        "id": "fs5MGhmvQSus"
      },
      "source": [
        "Según lo observado en este trabajo, los algoritmos evolutivos pueden ser muy prometedores en la obtención de buenas soluciones para este problema. \r\n",
        "\r\n",
        "Por esta razón, pienso que avanzar en algoritmos evolutivos aplicados a este problema podrían llevar a aún mejores soluciones que 27. \r\n",
        "\r\n",
        "En este sentido plantearía mejoras desde:\r\n",
        "> 1. Método de cruce: experimentar con métodos de cruce distintos al acá planteado.\r\n",
        "> 2. Método de selección: variar los hiperparámetros de selección y experimentar con métodos de selección distintos al acá planteado"
      ]
    },
    {
      "cell_type": "markdown",
      "metadata": {
        "id": "mh2kEhMDRGmC"
      },
      "source": [
        "Otra alternativa que veo viable para avanzar en el estudio de este problema sería **combinar técnicas**\r\n",
        "\r\n",
        "Ya vimos el poder de los algoritmos genéticos, qué tal si se potencia con poblaciones aleatorias y los vecinos de las mejores soluciones (búsqueda local). También si se inicializa con varios vecinos \"buenos\" encontrados por búsqueda local o recocido simulado."
      ]
    },
    {
      "cell_type": "code",
      "metadata": {
        "id": "0yhANa2p8ajm"
      },
      "source": [
        ""
      ],
      "execution_count": null,
      "outputs": []
    }
  ]
}