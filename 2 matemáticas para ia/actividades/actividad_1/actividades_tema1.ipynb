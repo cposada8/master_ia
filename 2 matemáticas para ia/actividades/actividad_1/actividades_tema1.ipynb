{
 "cells": [
  {
   "cell_type": "markdown",
   "metadata": {},
   "source": [
    "# Actividades Tema 1"
   ]
  },
  {
   "cell_type": "code",
   "execution_count": 1,
   "metadata": {},
   "outputs": [],
   "source": [
    "from __future__ import print_function\n",
    "from ipywidgets import interact, interactive, fixed, interact_manual\n",
    "import ipywidgets as widgets\n",
    "\n",
    "import pandas as pd\n",
    "import numpy as np\n",
    "import matplotlib.pyplot as plt\n",
    "\n",
    "%matplotlib inline"
   ]
  },
  {
   "cell_type": "markdown",
   "metadata": {},
   "source": [
    "## 1. Implementa en Python las funciones siguientes:"
   ]
  },
  {
   "cell_type": "markdown",
   "metadata": {},
   "source": [
    "### a) Dados dos vectores u, v ∈ R n, la proyección u sobre v y la ortogonal de u sobre v.\n"
   ]
  },
  {
   "cell_type": "code",
   "execution_count": 2,
   "metadata": {},
   "outputs": [],
   "source": [
    "def producto_escalar(v1, v2):\n",
    "    if len(v1) != len(v2):\n",
    "        return \"error: longitudes de los vectores distintas\"\n",
    "    else:\n",
    "        n = len(v1)\n",
    "        suma_prod = 0\n",
    "        for i in range(n):\n",
    "            suma_prod += v1[i]*v2[i]\n",
    "        return suma_prod\n",
    "    \n",
    "def proyeccion_u_sobre_v(u, v):\n",
    "    # Función para retornar la proyección del vector u sobre el vector v\n",
    "    numerador = producto_escalar(u, v)\n",
    "    denominador = producto_escalar(v, v)\n",
    "    \n",
    "    if denominador == 0:\n",
    "        return \"Error: el vector v es 0\"\n",
    "    else:\n",
    "        proj_u_v = (numerador/denominador)*v\n",
    "        return proj_u_v\n",
    "    \n",
    "def ortogonal_u_sobre_v(u, v):\n",
    "    # Función para retornar el vector ortogonal de u sobre v\n",
    "    return u-proyeccion_u_sobre_v(u, v)"
   ]
  },
  {
   "cell_type": "markdown",
   "metadata": {},
   "source": [
    "#### * Generar vectores aleatorios de tamaño n"
   ]
  },
  {
   "cell_type": "code",
   "execution_count": 3,
   "metadata": {},
   "outputs": [
    {
     "name": "stdout",
     "output_type": "stream",
     "text": [
      "[0.93327653 0.19410889 0.16223943]\n",
      "[0.97290188 0.30640913 0.10462327]\n"
     ]
    },
    {
     "data": {
      "text/plain": [
       "-4.597017211338539e-17"
      ]
     },
     "execution_count": 3,
     "metadata": {},
     "output_type": "execute_result"
    }
   ],
   "source": [
    "n = 3\n",
    "vec1 = np.random.rand(n)\n",
    "vec2 = np.random.rand(n)\n",
    "proy_u_v = proyeccion_u_sobre_v(vec1, vec2)\n",
    "ort_u_v = ortogonal_u_sobre_v(vec1, vec2)\n",
    "print(vec1)\n",
    "print(vec2)\n",
    "producto_escalar(proy_u_v, ort_u_v)"
   ]
  },
  {
   "cell_type": "markdown",
   "metadata": {},
   "source": [
    "la proyección de u sobre v y la ortogonal de u sobre v son ortogonales"
   ]
  },
  {
   "cell_type": "markdown",
   "metadata": {},
   "source": [
    "#### * Demostrar que proj de u sobre v, producto escalar con ort u sobre v es 0"
   ]
  },
  {
   "cell_type": "markdown",
   "metadata": {},
   "source": [
    "![title](prueba_projxort_0.jpeg)"
   ]
  },
  {
   "cell_type": "code",
   "execution_count": null,
   "metadata": {},
   "outputs": [],
   "source": []
  },
  {
   "cell_type": "markdown",
   "metadata": {},
   "source": [
    "## Código interactivo para graficar la proyección y ortogonal de 2 vectores"
   ]
  },
  {
   "cell_type": "code",
   "execution_count": 4,
   "metadata": {},
   "outputs": [],
   "source": [
    "def plot_proyeccion_and_ortogonal(x1, y1, x2, y2):\n",
    "    fig, ax = plt.subplots(1)\n",
    "    ax.set_xlim((-30, 30))\n",
    "    ax.set_ylim((-30, 30))\n",
    "    \n",
    "    a = np.array([x1, y1])\n",
    "    b = np.array([x2, y2])\n",
    "    proy_a_sobre_b = proyeccion_u_sobre_v(a, b)\n",
    "    ort_a_sobre_b = ortogonal_u_sobre_v(a, b)\n",
    "    \n",
    "    # plot vector a=(x1,y1)\n",
    "    ax.quiver(*[0,0],\n",
    "           a[0],\n",
    "           a[1],\n",
    "           scale=1,\n",
    "           scale_units='xy',\n",
    "           angles = 'xy',\n",
    "           color=[\"b\"],\n",
    "          label=\"a=(x1, y1)\")\n",
    "    \n",
    "    # plot vector b=(x2, y2)\n",
    "    ax.quiver(*[0,0],\n",
    "           b[0],\n",
    "           b[1],\n",
    "           scale=1,\n",
    "           scale_units='xy',\n",
    "           angles = 'xy',\n",
    "           color=[\"g\"],\n",
    "          label=\"b=(x2,y2)\")\n",
    "    \n",
    "    \n",
    "    # plot the projection of a over b\n",
    "    ax.quiver(*[0,0],\n",
    "           proy_a_sobre_b[0],\n",
    "           proy_a_sobre_b[1],\n",
    "           scale=1,\n",
    "           scale_units='xy',\n",
    "           angles = 'xy',\n",
    "           color=[\"r\"],\n",
    "          label=\"projection a over b\")\n",
    "    \n",
    "    # plot the ortogonal of a over b\n",
    "    ax.quiver(*[0,0],\n",
    "           ort_a_sobre_b[0],\n",
    "           ort_a_sobre_b[1],\n",
    "           scale=1,\n",
    "           scale_units='xy',\n",
    "           angles = 'xy',\n",
    "           color=[\"k\"],\n",
    "          label=\"orthogonal a over b\")\n",
    "    \n",
    "    plt.legend()\n",
    "    plt.show()"
   ]
  },
  {
   "cell_type": "code",
   "execution_count": 6,
   "metadata": {},
   "outputs": [
    {
     "data": {
      "application/vnd.jupyter.widget-view+json": {
       "model_id": "9c20bbc94cb54e068f4b3b3dd0b8e6c3",
       "version_major": 2,
       "version_minor": 0
      },
      "text/plain": [
       "interactive(children=(IntSlider(value=10, description='x1', max=30, min=-30), IntSlider(value=0, description='…"
      ]
     },
     "metadata": {},
     "output_type": "display_data"
    }
   ],
   "source": [
    "interactive_plot = interactive(plot_proyeccion_and_ortogonal,\n",
    "                               x1=widgets.IntSlider(min=-30, max=30, step=1, value=10),\n",
    "                               y1=widgets.IntSlider(min=-30, max=30, step=1, value=0),\n",
    "                               x2=widgets.IntSlider(min=-30, max=30, step=1, value=10),\n",
    "                               y2=widgets.IntSlider(min=-30, max=30, step=1, value=10),)\n",
    "output = interactive_plot.children[-1]\n",
    "output.layout.height = '350px'\n",
    "interactive_plot"
   ]
  },
  {
   "cell_type": "markdown",
   "metadata": {},
   "source": [
    "Nótese cómo las líneas roja (proyección) y negra (ortogonal) son ortogonales entre ellas siempre"
   ]
  },
  {
   "cell_type": "code",
   "execution_count": null,
   "metadata": {},
   "outputs": [],
   "source": []
  },
  {
   "cell_type": "markdown",
   "metadata": {},
   "source": [
    "### b) dadas dos matrices de entrada A y B:\n",
    "* comprobación de que sus dimenciones son compatibles para realizar el producto\n",
    "* En tal caso retornar C = A*B\n",
    "* NOTA: no se puede usar ninguna función que implemente directamente el producto de dos matrices"
   ]
  },
  {
   "cell_type": "code",
   "execution_count": 7,
   "metadata": {},
   "outputs": [],
   "source": [
    "def multiplicar_matrices(A, B):\n",
    "    # función para multiplicar 2 matrices\n",
    "    # primero se verifica que las dimensiones sean correctas para proceder a la multiplicación\n",
    "    \n",
    "    n_a, m_a = A.shape # filas y columnas de A\n",
    "    n_b, m_b = B.shape # filas y columnas de B\n",
    "    C = np.zeros((n_a, m_b)) # matriz de zeros de tamaño n_a x m_b\n",
    "    if m_a != n_b:\n",
    "        return \"Error: las dimensiones de las matrices no son compatibles para el producto\"\n",
    "    else:\n",
    "        for fila_A in range(n_a):\n",
    "            for col_B in range(m_b):\n",
    "                elem = producto_escalar(A[fila_A, :], B[:, col_B])\n",
    "                C[fila_A, col_B] = elem\n",
    "        return C"
   ]
  },
  {
   "cell_type": "markdown",
   "metadata": {},
   "source": [
    "Se comprobará que la función anteriormente definida está correcta por medio de la comparación del resultado de mi solución vs la solución de un paquete de numpy que ya implementa la multiplicación matricial"
   ]
  },
  {
   "cell_type": "code",
   "execution_count": 8,
   "metadata": {},
   "outputs": [],
   "source": [
    "## Comprobación de la función\n",
    "mat1 = np.array([[1, 2],\n",
    "                [3, 4],\n",
    "                [1, 0]])\n",
    "\n",
    "mat2 = np.array([[5,6],\n",
    "                [7, 8]])"
   ]
  },
  {
   "cell_type": "code",
   "execution_count": 9,
   "metadata": {},
   "outputs": [
    {
     "name": "stdout",
     "output_type": "stream",
     "text": [
      "mi solución:\n",
      "[[19. 22.]\n",
      " [43. 50.]\n",
      " [ 5.  6.]]\n",
      "solución de python (para comprobar):\n",
      "[[19 22]\n",
      " [43 50]\n",
      " [ 5  6]]\n",
      "\n",
      "entradas iguales:\n",
      "[[ True  True]\n",
      " [ True  True]\n",
      " [ True  True]]\n"
     ]
    }
   ],
   "source": [
    "# mi solución\n",
    "mi_solucion = multiplicar_matrices(mat1, mat2)\n",
    "\n",
    "# operación para comprobar\n",
    "python_solucion = np.dot(mat1, mat2)\n",
    "\n",
    "print(\"mi solución:\")\n",
    "print(mi_solucion)\n",
    "print(\"solución de python (para comprobar):\")\n",
    "print(python_solucion)\n",
    "\n",
    "print()\n",
    "print(\"entradas iguales:\")\n",
    "print(mi_solucion==python_solucion)"
   ]
  },
  {
   "cell_type": "markdown",
   "metadata": {},
   "source": [
    "En efecto las soluciones son iguales"
   ]
  },
  {
   "cell_type": "markdown",
   "metadata": {},
   "source": [
    "### c) Dada una matriz A:\n",
    "* comprobación de que sea una matriz cuadrada\n",
    "* en tal caso calcular su determinante\n",
    "* NOTA: la implementación del determinante no debe incluir ninguna función que calcule directamente el determinante de una matriz"
   ]
  },
  {
   "cell_type": "code",
   "execution_count": 10,
   "metadata": {},
   "outputs": [],
   "source": [
    "# Lo haré por el método de cofactores"
   ]
  },
  {
   "cell_type": "code",
   "execution_count": 11,
   "metadata": {},
   "outputs": [],
   "source": [
    "def calcular_determinante(mat):\n",
    "    # esta función retorna el determinante de una matriz cuadrada\n",
    "#     print(mat)\n",
    "    n = mat.shape[0] # la matriz es de nxn\n",
    "    \n",
    "    if n == 1: # si la matriz es de tamaño 1, retorne el escalar\n",
    "        return mat[0, 0]\n",
    "    \n",
    "    determinante = 0\n",
    "    for pos_adj in range(mat.shape[1]): # por cada posición de la primera fila\n",
    "#         print(pos_adj)\n",
    "        cofactor = mat[0, pos_adj]\n",
    "        signo = (-1)**pos_adj\n",
    "#         print(cofactor*signo)\n",
    "        a = mat[1:, :pos_adj] # la submatriz a la izquierda de la columna pos_adj\n",
    "        b = mat[1:, pos_adj+1:] # la submatriz a la derecha de la columna pos_adj\n",
    "        adjunta = np.concatenate((a, b), axis=1) # la matriz adjunta\n",
    "#         print(\"shape adjunta\", adjunta.shape)\n",
    "#         print(adjunta)\n",
    "        determinante += signo*cofactor*calcular_determinante(adjunta)\n",
    "    return determinante"
   ]
  },
  {
   "cell_type": "code",
   "execution_count": 12,
   "metadata": {},
   "outputs": [
    {
     "data": {
      "text/plain": [
       "array([[  1,   2,   3,   4],\n",
       "       [  5,   6,   7,   8],\n",
       "       [  1,   2,   6,   3],\n",
       "       [ 23,  11,  22, 666]])"
      ]
     },
     "execution_count": 12,
     "metadata": {},
     "output_type": "execute_result"
    }
   ],
   "source": [
    "## Comprobación de que la función funciona\n",
    "mat1 = np.array([[1, 2, 3, 4],\n",
    "                 [5, 6, 7, 8],\n",
    "                 [1, 2,6, 3],\n",
    "                 [23, 11, 22, 666]]\n",
    ")\n",
    "mat2 = np.array([[1, 2],\n",
    "                 [3,4]])\n",
    "mat3 = np.array([[2, 3, 1],\n",
    "                 [0, -2, 5],\n",
    "                 [3, 7, -4]])\n",
    "mat1"
   ]
  },
  {
   "cell_type": "code",
   "execution_count": 13,
   "metadata": {},
   "outputs": [
    {
     "name": "stdout",
     "output_type": "stream",
     "text": [
      "[[  1   2   3   4]\n",
      " [  5   6   7   8]\n",
      " [  1   2   6   3]\n",
      " [ 23  11  22 666]]\n",
      "determinante python: -8239.999999999998\n",
      "determinante mío: -8240\n",
      "\n",
      "[[1 2]\n",
      " [3 4]]\n",
      "determinante python: -2.0000000000000004\n",
      "determinante mío: -2\n",
      "\n",
      "[[ 2  3  1]\n",
      " [ 0 -2  5]\n",
      " [ 3  7 -4]]\n",
      "determinante python: -2.9999999999999982\n",
      "determinante mío: -3\n",
      "\n",
      "[[0.68594781 0.61439065 0.09001847 0.77121999 0.6580399  0.97569631\n",
      "  0.9979933  0.46472709]\n",
      " [0.09870619 0.82921122 0.3050123  0.91203902 0.09085159 0.2352909\n",
      "  0.5345006  0.76250948]\n",
      " [0.44719336 0.59628772 0.19112878 0.03595    0.45871076 0.63649734\n",
      "  0.41088473 0.80511625]\n",
      " [0.17676842 0.83260225 0.26500851 0.01952837 0.83562369 0.51122165\n",
      "  0.25703007 0.40140238]\n",
      " [0.26111822 0.22008712 0.01523801 0.78188309 0.18987359 0.22875986\n",
      "  0.5808142  0.52486818]\n",
      " [0.76148376 0.95888271 0.38709001 0.11792831 0.76831703 0.78893102\n",
      "  0.33158487 0.75988631]\n",
      " [0.88515047 0.46648439 0.13475755 0.54536671 0.31494253 0.7273625\n",
      "  0.22270003 0.50514813]\n",
      " [0.87798299 0.56451443 0.84052978 0.85578678 0.25946748 0.44259776\n",
      "  0.30745045 0.65352423]]\n",
      "determinante python: 0.010021029806581124\n",
      "determinante mío: 0.010021029806581126\n",
      "\n"
     ]
    }
   ],
   "source": [
    "def comparar_matrices(mat):\n",
    "    print(mat)\n",
    "    print(\"determinante python:\", np.linalg.det(mat))\n",
    "    print(\"determinante mío:\",calcular_determinante(mat))\n",
    "    print()\n",
    "for mat in [mat1, mat2, mat3, np.random.rand(8,8)]:\n",
    "    comparar_matrices(mat)"
   ]
  },
  {
   "cell_type": "code",
   "execution_count": null,
   "metadata": {},
   "outputs": [],
   "source": []
  },
  {
   "cell_type": "markdown",
   "metadata": {},
   "source": [
    "## 2. Realizar diferentos programas en python que dada una matriz A E R nxn y k, calcule A^k"
   ]
  },
  {
   "cell_type": "markdown",
   "metadata": {},
   "source": [
    "### a) multiplica secuencialmente la matriz A mediante la función anteriormente implementada"
   ]
  },
  {
   "cell_type": "code",
   "execution_count": 14,
   "metadata": {},
   "outputs": [],
   "source": [
    "def potencia_matriz_secuencial(A, k):\n",
    "    # esta función retorna A^k, por medio de multiplicar secuencialmente\n",
    "    # la matriz A\n",
    "    A_pow_k = A\n",
    "    for i in range(k-1):\n",
    "        A_pow_k = multiplicar_matrices(A_pow_k, A)\n",
    "    return A_pow_k"
   ]
  },
  {
   "cell_type": "code",
   "execution_count": 191,
   "metadata": {},
   "outputs": [],
   "source": [
    "# probar la anterior\n",
    "n=4\n",
    "A = np.random.rand(n,n)"
   ]
  },
  {
   "cell_type": "code",
   "execution_count": 240,
   "metadata": {},
   "outputs": [
    {
     "name": "stdout",
     "output_type": "stream",
     "text": [
      "[[1.42224568e+16 2.23514723e+16 2.01845640e+16 1.38446988e+16]\n",
      " [9.63072394e+15 1.51352795e+16 1.36679595e+16 9.37492541e+15]\n",
      " [1.13401076e+16 1.78216818e+16 1.60939231e+16 1.10389067e+16]\n",
      " [1.01127463e+16 1.58928075e+16 1.43520474e+16 9.84414495e+15]]\n",
      "\n",
      "[[1.42224568e+16 2.23514723e+16 2.01845640e+16 1.38446988e+16]\n",
      " [9.63072394e+15 1.51352795e+16 1.36679595e+16 9.37492541e+15]\n",
      " [1.13401076e+16 1.78216818e+16 1.60939231e+16 1.10389067e+16]\n",
      " [1.01127463e+16 1.58928075e+16 1.43520474e+16 9.84414495e+15]]\n"
     ]
    }
   ],
   "source": [
    "k = 56\n",
    "resp_mia =potencia_matriz_secuencial(A, k) \n",
    "print(resp_mia)\n",
    "print()\n",
    "resp_python =np.linalg.matrix_power(A, k) \n",
    "print(resp_python)"
   ]
  },
  {
   "cell_type": "code",
   "execution_count": null,
   "metadata": {},
   "outputs": [],
   "source": []
  },
  {
   "cell_type": "markdown",
   "metadata": {},
   "source": [
    "### b) Aprovechando la forma diagonalizada de A"
   ]
  },
  {
   "cell_type": "code",
   "execution_count": 15,
   "metadata": {},
   "outputs": [
    {
     "data": {
      "text/plain": [
       "(array([ 4.0866012 +0.j        ,  0.50326621+0.18255907j,\n",
       "         0.50326621-0.18255907j, -0.54942999+0.36358386j,\n",
       "        -0.54942999-0.36358386j,  0.23614445+0.j        ,\n",
       "        -0.47316385+0.j        , -0.17640919+0.j        ]),\n",
       " array([[ 0.45033219+0.j        , -0.26419674-0.24647651j,\n",
       "         -0.26419674+0.24647651j, -0.12611615-0.00159268j,\n",
       "         -0.12611615+0.00159268j,  0.08713168+0.j        ,\n",
       "          0.45652508+0.j        , -0.48453736+0.j        ],\n",
       "        [ 0.30954368+0.j        ,  0.65915836+0.j        ,\n",
       "          0.65915836-0.j        , -0.06061249+0.18641126j,\n",
       "         -0.06061249-0.18641126j,  0.64982956+0.j        ,\n",
       "          0.27137443+0.j        , -0.26535552+0.j        ],\n",
       "        [ 0.32075991+0.j        , -0.299692  +0.21406828j,\n",
       "         -0.299692  -0.21406828j,  0.44485203+0.01260163j,\n",
       "          0.44485203-0.01260163j, -0.12662452+0.j        ,\n",
       "         -0.35587382+0.j        ,  0.15056437+0.j        ],\n",
       "        [ 0.26826913+0.j        ,  0.29859416-0.02104333j,\n",
       "          0.29859416+0.02104333j,  0.30278016-0.36818885j,\n",
       "          0.30278016+0.36818885j, -0.15065446+0.j        ,\n",
       "         -0.34326669+0.j        ,  0.26559004+0.j        ],\n",
       "        [ 0.23478505+0.j        , -0.04988207-0.05781408j,\n",
       "         -0.04988207+0.05781408j, -0.02599694+0.27246037j,\n",
       "         -0.02599694-0.27246037j, -0.61552357+0.j        ,\n",
       "          0.22328315+0.j        , -0.10610003+0.j        ],\n",
       "        [ 0.42605044+0.j        , -0.11952801+0.05674552j,\n",
       "         -0.11952801-0.05674552j,  0.34735864-0.20094776j,\n",
       "          0.34735864+0.20094776j,  0.12241705+0.j        ,\n",
       "         -0.60149662+0.j        ,  0.71647552+0.j        ],\n",
       "        [ 0.34316376+0.j        , -0.23825681-0.11707774j,\n",
       "         -0.23825681+0.11707774j, -0.17788604+0.14146272j,\n",
       "         -0.17788604-0.14146272j,  0.13545909+0.j        ,\n",
       "         -0.07015801+0.j        , -0.27675677+0.j        ],\n",
       "        [ 0.41487832+0.j        , -0.27499616+0.20070818j,\n",
       "         -0.27499616-0.20070818j, -0.48246709+0.j        ,\n",
       "         -0.48246709-0.j        , -0.34524588+0.j        ,\n",
       "          0.23850971+0.j        ,  0.02033697+0.j        ]]))"
      ]
     },
     "execution_count": 15,
     "metadata": {},
     "output_type": "execute_result"
    }
   ],
   "source": [
    "np.linalg.eig(mat)"
   ]
  },
  {
   "cell_type": "code",
   "execution_count": null,
   "metadata": {},
   "outputs": [],
   "source": []
  },
  {
   "cell_type": "code",
   "execution_count": null,
   "metadata": {},
   "outputs": [],
   "source": []
  },
  {
   "cell_type": "code",
   "execution_count": null,
   "metadata": {},
   "outputs": [],
   "source": []
  },
  {
   "cell_type": "code",
   "execution_count": null,
   "metadata": {},
   "outputs": [],
   "source": []
  },
  {
   "cell_type": "code",
   "execution_count": null,
   "metadata": {},
   "outputs": [],
   "source": []
  }
 ],
 "metadata": {
  "kernelspec": {
   "display_name": "Python 3",
   "language": "python",
   "name": "python3"
  },
  "language_info": {
   "codemirror_mode": {
    "name": "ipython",
    "version": 3
   },
   "file_extension": ".py",
   "mimetype": "text/x-python",
   "name": "python",
   "nbconvert_exporter": "python",
   "pygments_lexer": "ipython3",
   "version": "3.7.1"
  }
 },
 "nbformat": 4,
 "nbformat_minor": 2
}
