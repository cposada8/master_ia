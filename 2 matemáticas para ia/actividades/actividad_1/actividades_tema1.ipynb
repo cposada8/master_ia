{
 "cells": [
  {
   "cell_type": "markdown",
   "metadata": {},
   "source": [
    "# Actividades Tema 1"
   ]
  },
  {
   "cell_type": "code",
   "execution_count": 13,
   "metadata": {},
   "outputs": [],
   "source": [
    "from __future__ import print_function\n",
    "from ipywidgets import interact, interactive, fixed, interact_manual\n",
    "import ipywidgets as widgets\n",
    "\n",
    "import pandas as pd\n",
    "import numpy as np\n",
    "import matplotlib.pyplot as plt\n",
    "\n",
    "%matplotlib inline"
   ]
  },
  {
   "cell_type": "markdown",
   "metadata": {},
   "source": [
    "## 1. Implementa en Python las funciones siguientes:"
   ]
  },
  {
   "cell_type": "markdown",
   "metadata": {},
   "source": [
    "### a) Dados dos vectores u, v ∈ R n, la proyección u sobre v y la ortogonal de u sobre v.\n"
   ]
  },
  {
   "cell_type": "code",
   "execution_count": 14,
   "metadata": {},
   "outputs": [],
   "source": [
    "def producto_escalar(v1, v2):\n",
    "    if len(v1) != len(v2):\n",
    "        return \"error: longitudes de los vectores distintas\"\n",
    "    else:\n",
    "        n = len(v1)\n",
    "        suma_prod = 0\n",
    "        for i in range(n):\n",
    "            suma_prod += v1[i]*v2[i]\n",
    "        return suma_prod\n",
    "    \n",
    "def proyeccion_u_sobre_v(u, v):\n",
    "    # Función para retornar la proyección del vector u sobre el vector v\n",
    "    numerador = producto_escalar(u, v)\n",
    "    denominador = producto_escalar(v, v)\n",
    "    \n",
    "    if denominador == 0:\n",
    "        return \"Error: el vector v es 0\"\n",
    "    else:\n",
    "        proj_u_v = (numerador/denominador)*v\n",
    "        return proj_u_v\n",
    "    \n",
    "def ortogonal_u_sobre_v(u, v):\n",
    "    # Función para retornar el vector ortogonal de u sobre v\n",
    "    return u-proyeccion_u_sobre_v(u, v)"
   ]
  },
  {
   "cell_type": "markdown",
   "metadata": {},
   "source": [
    "#### * Generar vectores aleatorios de tamaño n"
   ]
  },
  {
   "cell_type": "code",
   "execution_count": 15,
   "metadata": {},
   "outputs": [
    {
     "name": "stdout",
     "output_type": "stream",
     "text": [
      "[0.01581045 0.23614565 0.98020303]\n",
      "[0.11911859 0.04246973 0.06423973]\n"
     ]
    },
    {
     "data": {
      "text/plain": [
       "2.7755575615628914e-17"
      ]
     },
     "execution_count": 15,
     "metadata": {},
     "output_type": "execute_result"
    }
   ],
   "source": [
    "n = 3\n",
    "vec1 = np.random.rand(n)\n",
    "vec2 = np.random.rand(n)\n",
    "proy_u_v = proyeccion_u_sobre_v(vec1, vec2)\n",
    "ort_u_v = ortogonal_u_sobre_v(vec1, vec2)\n",
    "print(vec1)\n",
    "print(vec2)\n",
    "producto_escalar(proy_u_v, ort_u_v)"
   ]
  },
  {
   "cell_type": "markdown",
   "metadata": {},
   "source": [
    "la proyección de u sobre v y la ortogonal de u sobre v son ortogonales"
   ]
  },
  {
   "cell_type": "markdown",
   "metadata": {},
   "source": [
    "#### * Demostrar que proj de u sobre v, producto escalar con ort u sobre v es 0"
   ]
  },
  {
   "cell_type": "markdown",
   "metadata": {},
   "source": [
    "![title](prueba_projxort_0.jpeg)"
   ]
  },
  {
   "cell_type": "code",
   "execution_count": null,
   "metadata": {},
   "outputs": [],
   "source": []
  },
  {
   "cell_type": "markdown",
   "metadata": {},
   "source": [
    "## Código interactivo para graficar la proyección y ortogonal de 2 vectores"
   ]
  },
  {
   "cell_type": "code",
   "execution_count": 16,
   "metadata": {},
   "outputs": [],
   "source": [
    "def plot_proyeccion_and_ortogonal(x1, y1, x2, y2):\n",
    "    fig, ax = plt.subplots(1)\n",
    "    ax.set_xlim((-30, 30))\n",
    "    ax.set_ylim((-30, 30))\n",
    "    \n",
    "    a = np.array([x1, y1])\n",
    "    b = np.array([x2, y2])\n",
    "    proy_a_sobre_b = proyeccion_u_sobre_v(a, b)\n",
    "    ort_a_sobre_b = ortogonal_u_sobre_v(a, b)\n",
    "    \n",
    "    # plot vector a=(x1,y1)\n",
    "    ax.quiver(*[0,0],\n",
    "           a[0],\n",
    "           a[1],\n",
    "           scale=1,\n",
    "           scale_units='xy',\n",
    "           angles = 'xy',\n",
    "           color=[\"b\"],\n",
    "          label=\"a=(x1, y1)\")\n",
    "    \n",
    "    # plot vector b=(x2, y2)\n",
    "    ax.quiver(*[0,0],\n",
    "           b[0],\n",
    "           b[1],\n",
    "           scale=1,\n",
    "           scale_units='xy',\n",
    "           angles = 'xy',\n",
    "           color=[\"g\"],\n",
    "          label=\"b=(x2,y2)\")\n",
    "    \n",
    "    \n",
    "    # plot the projection of a over b\n",
    "    ax.quiver(*[0,0],\n",
    "           proy_a_sobre_b[0],\n",
    "           proy_a_sobre_b[1],\n",
    "           scale=1,\n",
    "           scale_units='xy',\n",
    "           angles = 'xy',\n",
    "           color=[\"r\"],\n",
    "          label=\"projection a over b\")\n",
    "    \n",
    "    # plot the ortogonal of a over b\n",
    "    ax.quiver(*[0,0],\n",
    "           ort_a_sobre_b[0],\n",
    "           ort_a_sobre_b[1],\n",
    "           scale=1,\n",
    "           scale_units='xy',\n",
    "           angles = 'xy',\n",
    "           color=[\"k\"],\n",
    "          label=\"orthogonal a over b\")\n",
    "    \n",
    "    plt.legend()\n",
    "    plt.show()"
   ]
  },
  {
   "cell_type": "code",
   "execution_count": 17,
   "metadata": {},
   "outputs": [
    {
     "data": {
      "application/vnd.jupyter.widget-view+json": {
       "model_id": "b413ba234811495db16adb56e61d1682",
       "version_major": 2,
       "version_minor": 0
      },
      "text/plain": [
       "interactive(children=(IntSlider(value=10, description='x1', max=30, min=-30), IntSlider(value=0, description='…"
      ]
     },
     "metadata": {},
     "output_type": "display_data"
    }
   ],
   "source": [
    "interactive_plot = interactive(plot_proyeccion_and_ortogonal,\n",
    "                               x1=widgets.IntSlider(min=-30, max=30, step=1, value=10),\n",
    "                               y1=widgets.IntSlider(min=-30, max=30, step=1, value=0),\n",
    "                               x2=widgets.IntSlider(min=-30, max=30, step=1, value=10),\n",
    "                               y2=widgets.IntSlider(min=-30, max=30, step=1, value=10),)\n",
    "output = interactive_plot.children[-1]\n",
    "output.layout.height = '350px'\n",
    "interactive_plot"
   ]
  },
  {
   "cell_type": "markdown",
   "metadata": {},
   "source": [
    "Nótese cómo las líneas roja (proyección) y negra (ortogonal) son ortogonales entre ellas siempre"
   ]
  },
  {
   "cell_type": "code",
   "execution_count": null,
   "metadata": {},
   "outputs": [],
   "source": []
  },
  {
   "cell_type": "markdown",
   "metadata": {},
   "source": [
    "### b) dadas dos matrices de entrada A y B:\n",
    "* comprobación de que sus dimenciones son compatibles para realizar el producto\n",
    "* En tal caso retornar C = A*B\n",
    "* NOTA: no se puede usar ninguna función que implemente directamente el producto de dos matrices"
   ]
  },
  {
   "cell_type": "code",
   "execution_count": 18,
   "metadata": {},
   "outputs": [],
   "source": [
    "def multiplicar_matrices(A, B):\n",
    "    # función para multiplicar 2 matrices\n",
    "    # primero se verifica que las dimensiones sean correctas para proceder a la multiplicación\n",
    "    \n",
    "    n_a, m_a = A.shape # filas y columnas de A\n",
    "    n_b, m_b = B.shape # filas y columnas de B\n",
    "    C = np.zeros((n_a, m_b)) # matriz de zeros de tamaño n_a x m_b\n",
    "    if m_a != n_b:\n",
    "        return \"Error: las dimensiones de las matrices no son compatibles para el producto\"\n",
    "    else:\n",
    "        for fila_A in range(n_a):\n",
    "            for col_B in range(m_b):\n",
    "                elem = producto_escalar(A[fila_A, :], B[:, col_B])\n",
    "                C[fila_A, col_B] = elem\n",
    "        return C"
   ]
  },
  {
   "cell_type": "markdown",
   "metadata": {},
   "source": [
    "Se comprobará que la función anteriormente definida está correcta por medio de la comparación del resultado de mi solución vs la solución de un paquete de numpy que ya implementa la multiplicación matricial"
   ]
  },
  {
   "cell_type": "code",
   "execution_count": 19,
   "metadata": {},
   "outputs": [],
   "source": [
    "## Comprobación de la función\n",
    "mat1 = np.array([[1, 2],\n",
    "                [3, 4],\n",
    "                [1, 0]])\n",
    "\n",
    "mat2 = np.array([[5,6],\n",
    "                [7, 8]])"
   ]
  },
  {
   "cell_type": "code",
   "execution_count": 20,
   "metadata": {},
   "outputs": [
    {
     "name": "stdout",
     "output_type": "stream",
     "text": [
      "mi solución:\n",
      "[[19. 22.]\n",
      " [43. 50.]\n",
      " [ 5.  6.]]\n",
      "solución de python (para comprobar):\n",
      "[[19 22]\n",
      " [43 50]\n",
      " [ 5  6]]\n",
      "\n",
      "entradas iguales:\n",
      "[[ True  True]\n",
      " [ True  True]\n",
      " [ True  True]]\n"
     ]
    }
   ],
   "source": [
    "# mi solución\n",
    "mi_solucion = multiplicar_matrices(mat1, mat2)\n",
    "\n",
    "# operación para comprobar\n",
    "python_solucion = np.dot(mat1, mat2)\n",
    "\n",
    "print(\"mi solución:\")\n",
    "print(mi_solucion)\n",
    "print(\"solución de python (para comprobar):\")\n",
    "print(python_solucion)\n",
    "\n",
    "print()\n",
    "print(\"entradas iguales:\")\n",
    "print(mi_solucion==python_solucion)"
   ]
  },
  {
   "cell_type": "markdown",
   "metadata": {},
   "source": [
    "En efecto las soluciones son iguales"
   ]
  },
  {
   "cell_type": "markdown",
   "metadata": {},
   "source": [
    "### c) Dada una matriz A:\n",
    "* comprobación de que sea una matriz cuadrada\n",
    "* en tal caso calcular su determinante\n",
    "* NOTA: la implementación del determinante no debe incluir ninguna función que calcule directamente el determinante de una matriz"
   ]
  },
  {
   "cell_type": "code",
   "execution_count": 21,
   "metadata": {},
   "outputs": [],
   "source": [
    "# Lo haré por el método de cofactores"
   ]
  },
  {
   "cell_type": "code",
   "execution_count": 22,
   "metadata": {},
   "outputs": [],
   "source": [
    "def calcular_determinante(mat):\n",
    "    # esta función retorna el determinante de una matriz cuadrada\n",
    "#     print(mat)\n",
    "    n = mat.shape[0] # la matriz es de nxn\n",
    "    \n",
    "    if n == 1: # si la matriz es de tamaño 1, retorne el escalar\n",
    "        return mat[0, 0]\n",
    "    \n",
    "    determinante = 0\n",
    "    for pos_adj in range(mat.shape[1]): # por cada posición de la primera fila\n",
    "#         print(pos_adj)\n",
    "        cofactor = mat[0, pos_adj]\n",
    "        signo = (-1)**pos_adj\n",
    "#         print(cofactor*signo)\n",
    "        a = mat[1:, :pos_adj] # la submatriz a la izquierda de la columna pos_adj\n",
    "        b = mat[1:, pos_adj+1:] # la submatriz a la derecha de la columna pos_adj\n",
    "        adjunta = np.concatenate((a, b), axis=1) # la matriz adjunta\n",
    "#         print(\"shape adjunta\", adjunta.shape)\n",
    "#         print(adjunta)\n",
    "        determinante += signo*cofactor*calcular_determinante(adjunta)\n",
    "    return determinante"
   ]
  },
  {
   "cell_type": "code",
   "execution_count": 23,
   "metadata": {},
   "outputs": [
    {
     "data": {
      "text/plain": [
       "array([[  1,   2,   3,   4],\n",
       "       [  5,   6,   7,   8],\n",
       "       [  1,   2,   6,   3],\n",
       "       [ 23,  11,  22, 666]])"
      ]
     },
     "execution_count": 23,
     "metadata": {},
     "output_type": "execute_result"
    }
   ],
   "source": [
    "## Comprobación de que la función funciona\n",
    "mat1 = np.array([[1, 2, 3, 4],\n",
    "                 [5, 6, 7, 8],\n",
    "                 [1, 2,6, 3],\n",
    "                 [23, 11, 22, 666]]\n",
    ")\n",
    "mat2 = np.array([[1, 2],\n",
    "                 [3,4]])\n",
    "mat3 = np.array([[2, 3, 1],\n",
    "                 [0, -2, 5],\n",
    "                 [3, 7, -4]])\n",
    "mat1"
   ]
  },
  {
   "cell_type": "code",
   "execution_count": 24,
   "metadata": {},
   "outputs": [
    {
     "name": "stdout",
     "output_type": "stream",
     "text": [
      "[[  1   2   3   4]\n",
      " [  5   6   7   8]\n",
      " [  1   2   6   3]\n",
      " [ 23  11  22 666]]\n",
      "determinante python: -8239.999999999998\n",
      "determinante mío: -8240\n",
      "\n",
      "[[1 2]\n",
      " [3 4]]\n",
      "determinante python: -2.0000000000000004\n",
      "determinante mío: -2\n",
      "\n",
      "[[ 2  3  1]\n",
      " [ 0 -2  5]\n",
      " [ 3  7 -4]]\n",
      "determinante python: -2.9999999999999982\n",
      "determinante mío: -3\n",
      "\n",
      "[[0.2097919  0.07276345 0.57972469 0.99422472 0.21075347 0.81127492\n",
      "  0.99797288 0.21612731]\n",
      " [0.61478972 0.30878352 0.90916562 0.49576094 0.67644762 0.87642\n",
      "  0.96154384 0.52864605]\n",
      " [0.04822762 0.16265381 0.41466991 0.22452947 0.34295194 0.82948674\n",
      "  0.3938407  0.44531689]\n",
      " [0.75323601 0.24235505 0.05301264 0.25455262 0.30807864 0.31288783\n",
      "  0.26950076 0.15266691]\n",
      " [0.52941042 0.0279237  0.45844254 0.79436288 0.51137504 0.46202691\n",
      "  0.66620813 0.0816144 ]\n",
      " [0.13300854 0.77784396 0.65712868 0.10617759 0.97456319 0.38651021\n",
      "  0.46938257 0.21755868]\n",
      " [0.48830618 0.32933771 0.31614295 0.3295138  0.83998899 0.03200923\n",
      "  0.8792132  0.6837844 ]\n",
      " [0.13698224 0.69399103 0.64767689 0.29113778 0.47102311 0.8802422\n",
      "  0.20601056 0.08687204]]\n",
      "determinante python: -0.01023872749198694\n",
      "determinante mío: -0.010238727491986946\n",
      "\n"
     ]
    }
   ],
   "source": [
    "def comparar_matrices(mat):\n",
    "    print(mat)\n",
    "    print(\"determinante python:\", np.linalg.det(mat))\n",
    "    print(\"determinante mío:\",calcular_determinante(mat))\n",
    "    print()\n",
    "for mat in [mat1, mat2, mat3, np.random.rand(8,8)]:\n",
    "    comparar_matrices(mat)"
   ]
  },
  {
   "cell_type": "code",
   "execution_count": null,
   "metadata": {},
   "outputs": [],
   "source": []
  },
  {
   "cell_type": "markdown",
   "metadata": {},
   "source": [
    "## 2. Realizar diferentos programas en python que dada una matriz A E R nxn y k, calcule A^k"
   ]
  },
  {
   "cell_type": "markdown",
   "metadata": {},
   "source": [
    "### a) multiplica secuencialmente la matriz A mediante la función anteriormente implementada"
   ]
  },
  {
   "cell_type": "code",
   "execution_count": 48,
   "metadata": {},
   "outputs": [],
   "source": [
    "def potencia_matriz_secuencial(A, k):\n",
    "    # esta función retorna A^k, por medio de multiplicar secuencialmente\n",
    "    # la matriz A\n",
    "    A_pow_k = A\n",
    "    for i in range(k-1):\n",
    "        A_pow_k = multiplicar_matrices(A_pow_k, A)\n",
    "    return A_pow_k"
   ]
  },
  {
   "cell_type": "code",
   "execution_count": 191,
   "metadata": {},
   "outputs": [],
   "source": [
    "# probar la anterior\n",
    "n=4\n",
    "A = np.random.rand(n,n)"
   ]
  },
  {
   "cell_type": "code",
   "execution_count": 240,
   "metadata": {},
   "outputs": [
    {
     "name": "stdout",
     "output_type": "stream",
     "text": [
      "[[1.42224568e+16 2.23514723e+16 2.01845640e+16 1.38446988e+16]\n",
      " [9.63072394e+15 1.51352795e+16 1.36679595e+16 9.37492541e+15]\n",
      " [1.13401076e+16 1.78216818e+16 1.60939231e+16 1.10389067e+16]\n",
      " [1.01127463e+16 1.58928075e+16 1.43520474e+16 9.84414495e+15]]\n",
      "\n",
      "[[1.42224568e+16 2.23514723e+16 2.01845640e+16 1.38446988e+16]\n",
      " [9.63072394e+15 1.51352795e+16 1.36679595e+16 9.37492541e+15]\n",
      " [1.13401076e+16 1.78216818e+16 1.60939231e+16 1.10389067e+16]\n",
      " [1.01127463e+16 1.58928075e+16 1.43520474e+16 9.84414495e+15]]\n"
     ]
    }
   ],
   "source": [
    "k = 56\n",
    "resp_mia =potencia_matriz_secuencial(A, k) \n",
    "print(resp_mia)\n",
    "print()\n",
    "resp_python =np.linalg.matrix_power(A, k) \n",
    "print(resp_python)"
   ]
  },
  {
   "cell_type": "code",
   "execution_count": null,
   "metadata": {},
   "outputs": [],
   "source": []
  },
  {
   "cell_type": "code",
   "execution_count": null,
   "metadata": {},
   "outputs": [],
   "source": []
  },
  {
   "cell_type": "code",
   "execution_count": null,
   "metadata": {},
   "outputs": [],
   "source": []
  },
  {
   "cell_type": "code",
   "execution_count": null,
   "metadata": {},
   "outputs": [],
   "source": []
  },
  {
   "cell_type": "code",
   "execution_count": null,
   "metadata": {},
   "outputs": [],
   "source": []
  },
  {
   "cell_type": "code",
   "execution_count": null,
   "metadata": {},
   "outputs": [],
   "source": []
  }
 ],
 "metadata": {
  "kernelspec": {
   "display_name": "Python 3",
   "language": "python",
   "name": "python3"
  },
  "language_info": {
   "codemirror_mode": {
    "name": "ipython",
    "version": 3
   },
   "file_extension": ".py",
   "mimetype": "text/x-python",
   "name": "python",
   "nbconvert_exporter": "python",
   "pygments_lexer": "ipython3",
   "version": "3.7.1"
  }
 },
 "nbformat": 4,
 "nbformat_minor": 2
}
