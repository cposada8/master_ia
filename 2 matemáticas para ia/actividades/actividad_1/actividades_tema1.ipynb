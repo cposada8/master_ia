{
 "cells": [
  {
   "cell_type": "markdown",
   "metadata": {},
   "source": [
    "# Actividades Tema 1"
   ]
  },
  {
   "cell_type": "code",
   "execution_count": 1,
   "metadata": {},
   "outputs": [],
   "source": [
    "from __future__ import print_function\n",
    "from ipywidgets import interact, interactive, fixed, interact_manual\n",
    "import ipywidgets as widgets\n",
    "\n",
    "import pandas as pd\n",
    "import numpy as np\n",
    "import matplotlib.pyplot as plt\n",
    "import seaborn as sns\n",
    "\n",
    "import time\n",
    "\n",
    "%matplotlib inline"
   ]
  },
  {
   "cell_type": "markdown",
   "metadata": {},
   "source": [
    "## 1. Implementa en Python las funciones siguientes:"
   ]
  },
  {
   "cell_type": "markdown",
   "metadata": {},
   "source": [
    "### a) Dados dos vectores u, v ∈ R n, la proyección u sobre v y la ortogonal de u sobre v.\n"
   ]
  },
  {
   "cell_type": "code",
   "execution_count": 2,
   "metadata": {},
   "outputs": [],
   "source": [
    "def producto_escalar(v1, v2):\n",
    "    if len(v1) != len(v2):\n",
    "        return \"error: longitudes de los vectores distintas\"\n",
    "    else:\n",
    "        n = len(v1)\n",
    "        suma_prod = 0\n",
    "        for i in range(n):\n",
    "            suma_prod += v1[i]*v2[i]\n",
    "        return suma_prod\n",
    "    \n",
    "def proyeccion_u_sobre_v(u, v):\n",
    "    # Función para retornar la proyección del vector u sobre el vector v\n",
    "    numerador = producto_escalar(u, v)\n",
    "    denominador = producto_escalar(v, v)\n",
    "    \n",
    "    if denominador == 0:\n",
    "        return \"Error: el vector v es 0\"\n",
    "    else:\n",
    "        proj_u_v = (numerador/denominador)*v\n",
    "        return proj_u_v\n",
    "    \n",
    "def ortogonal_u_sobre_v(u, v):\n",
    "    # Función para retornar el vector ortogonal de u sobre v\n",
    "    return u-proyeccion_u_sobre_v(u, v)"
   ]
  },
  {
   "cell_type": "markdown",
   "metadata": {},
   "source": [
    "#### * Generar vectores aleatorios de tamaño n"
   ]
  },
  {
   "cell_type": "code",
   "execution_count": 3,
   "metadata": {},
   "outputs": [
    {
     "name": "stdout",
     "output_type": "stream",
     "text": [
      "[0.21331415 0.18177629 0.8632142 ]\n",
      "[0.0330995  0.64343406 0.72913786]\n"
     ]
    },
    {
     "data": {
      "text/plain": [
       "-8.326672684688674e-17"
      ]
     },
     "execution_count": 3,
     "metadata": {},
     "output_type": "execute_result"
    }
   ],
   "source": [
    "n = 3\n",
    "vec1 = np.random.rand(n)\n",
    "vec2 = np.random.rand(n)\n",
    "proy_u_v = proyeccion_u_sobre_v(vec1, vec2)\n",
    "ort_u_v = ortogonal_u_sobre_v(vec1, vec2)\n",
    "print(vec1)\n",
    "print(vec2)\n",
    "producto_escalar(proy_u_v, ort_u_v)"
   ]
  },
  {
   "cell_type": "markdown",
   "metadata": {},
   "source": [
    "la proyección de u sobre v y la ortogonal de u sobre v son ortogonales"
   ]
  },
  {
   "cell_type": "markdown",
   "metadata": {},
   "source": [
    "#### * Demostrar que proj de u sobre v, producto escalar con ort u sobre v es 0"
   ]
  },
  {
   "cell_type": "markdown",
   "metadata": {},
   "source": [
    "![title](prueba_projxort_0.jpeg)"
   ]
  },
  {
   "cell_type": "code",
   "execution_count": null,
   "metadata": {},
   "outputs": [],
   "source": []
  },
  {
   "cell_type": "markdown",
   "metadata": {},
   "source": [
    "## Código interactivo para graficar la proyección y ortogonal de 2 vectores"
   ]
  },
  {
   "cell_type": "code",
   "execution_count": 4,
   "metadata": {},
   "outputs": [],
   "source": [
    "def plot_proyeccion_and_ortogonal(x1, y1, x2, y2):\n",
    "    fig, ax = plt.subplots(1)\n",
    "    ax.set_xlim((-30, 30))\n",
    "    ax.set_ylim((-30, 30))\n",
    "    \n",
    "    a = np.array([x1, y1])\n",
    "    b = np.array([x2, y2])\n",
    "    proy_a_sobre_b = proyeccion_u_sobre_v(a, b)\n",
    "    ort_a_sobre_b = ortogonal_u_sobre_v(a, b)\n",
    "    \n",
    "    # plot vector a=(x1,y1)\n",
    "    ax.quiver(*[0,0],\n",
    "           a[0],\n",
    "           a[1],\n",
    "           scale=1,\n",
    "           scale_units='xy',\n",
    "           angles = 'xy',\n",
    "           color=[\"b\"],\n",
    "          label=\"a=(x1, y1)\")\n",
    "    \n",
    "    # plot vector b=(x2, y2)\n",
    "    ax.quiver(*[0,0],\n",
    "           b[0],\n",
    "           b[1],\n",
    "           scale=1,\n",
    "           scale_units='xy',\n",
    "           angles = 'xy',\n",
    "           color=[\"g\"],\n",
    "          label=\"b=(x2,y2)\")\n",
    "    \n",
    "    \n",
    "    # plot the projection of a over b\n",
    "    ax.quiver(*[0,0],\n",
    "           proy_a_sobre_b[0],\n",
    "           proy_a_sobre_b[1],\n",
    "           scale=1,\n",
    "           scale_units='xy',\n",
    "           angles = 'xy',\n",
    "           color=[\"r\"],\n",
    "          label=\"projection a over b\")\n",
    "    \n",
    "    # plot the ortogonal of a over b\n",
    "    ax.quiver(*[0,0],\n",
    "           ort_a_sobre_b[0],\n",
    "           ort_a_sobre_b[1],\n",
    "           scale=1,\n",
    "           scale_units='xy',\n",
    "           angles = 'xy',\n",
    "           color=[\"k\"],\n",
    "          label=\"orthogonal a over b\")\n",
    "    \n",
    "    plt.legend()\n",
    "    plt.show()"
   ]
  },
  {
   "cell_type": "code",
   "execution_count": 5,
   "metadata": {},
   "outputs": [
    {
     "data": {
      "application/vnd.jupyter.widget-view+json": {
       "model_id": "73db1fffe72647d58fc825e2df120691",
       "version_major": 2,
       "version_minor": 0
      },
      "text/plain": [
       "interactive(children=(IntSlider(value=10, description='x1', max=30, min=-30), IntSlider(value=0, description='…"
      ]
     },
     "metadata": {},
     "output_type": "display_data"
    }
   ],
   "source": [
    "interactive_plot = interactive(plot_proyeccion_and_ortogonal,\n",
    "                               x1=widgets.IntSlider(min=-30, max=30, step=1, value=10),\n",
    "                               y1=widgets.IntSlider(min=-30, max=30, step=1, value=0),\n",
    "                               x2=widgets.IntSlider(min=-30, max=30, step=1, value=10),\n",
    "                               y2=widgets.IntSlider(min=-30, max=30, step=1, value=10),)\n",
    "output = interactive_plot.children[-1]\n",
    "output.layout.height = '350px'\n",
    "interactive_plot"
   ]
  },
  {
   "cell_type": "markdown",
   "metadata": {},
   "source": [
    "Nótese cómo las líneas roja (proyección) y negra (ortogonal) son ortogonales entre ellas siempre"
   ]
  },
  {
   "cell_type": "code",
   "execution_count": null,
   "metadata": {},
   "outputs": [],
   "source": []
  },
  {
   "cell_type": "markdown",
   "metadata": {},
   "source": [
    "### b) dadas dos matrices de entrada A y B:\n",
    "* comprobación de que sus dimenciones son compatibles para realizar el producto\n",
    "* En tal caso retornar C = A*B\n",
    "* NOTA: no se puede usar ninguna función que implemente directamente el producto de dos matrices"
   ]
  },
  {
   "cell_type": "code",
   "execution_count": 6,
   "metadata": {},
   "outputs": [],
   "source": [
    "def multiplicar_matrices(A, B):\n",
    "    # función para multiplicar 2 matrices\n",
    "    # primero se verifica que las dimensiones sean correctas para proceder a la multiplicación\n",
    "    \n",
    "    n_a, m_a = A.shape # filas y columnas de A\n",
    "    n_b, m_b = B.shape # filas y columnas de B\n",
    "    C = np.zeros((n_a, m_b)) # matriz de zeros de tamaño n_a x m_b\n",
    "    if m_a != n_b:\n",
    "        return \"Error: las dimensiones de las matrices no son compatibles para el producto\"\n",
    "    else:\n",
    "        for fila_A in range(n_a):\n",
    "            for col_B in range(m_b):\n",
    "                elem = producto_escalar(A[fila_A, :], B[:, col_B])\n",
    "                C[fila_A, col_B] = elem\n",
    "        return C"
   ]
  },
  {
   "cell_type": "markdown",
   "metadata": {},
   "source": [
    "Se comprobará que la función anteriormente definida está correcta por medio de la comparación del resultado de mi solución vs la solución de un paquete de numpy que ya implementa la multiplicación matricial"
   ]
  },
  {
   "cell_type": "code",
   "execution_count": 7,
   "metadata": {},
   "outputs": [],
   "source": [
    "## Comprobación de la función\n",
    "mat1 = np.array([[1, 2],\n",
    "                [3, 4],\n",
    "                [1, 0]])\n",
    "\n",
    "mat2 = np.array([[5,6],\n",
    "                [7, 8]])"
   ]
  },
  {
   "cell_type": "code",
   "execution_count": 8,
   "metadata": {},
   "outputs": [
    {
     "name": "stdout",
     "output_type": "stream",
     "text": [
      "mi solución:\n",
      "[[19. 22.]\n",
      " [43. 50.]\n",
      " [ 5.  6.]]\n",
      "solución de python (para comprobar):\n",
      "[[19 22]\n",
      " [43 50]\n",
      " [ 5  6]]\n",
      "\n",
      "entradas iguales:\n",
      "[[ True  True]\n",
      " [ True  True]\n",
      " [ True  True]]\n"
     ]
    }
   ],
   "source": [
    "# mi solución\n",
    "mi_solucion = multiplicar_matrices(mat1, mat2)\n",
    "\n",
    "# operación para comprobar\n",
    "python_solucion = np.dot(mat1, mat2)\n",
    "\n",
    "print(\"mi solución:\")\n",
    "print(mi_solucion)\n",
    "print(\"solución de python (para comprobar):\")\n",
    "print(python_solucion)\n",
    "\n",
    "print()\n",
    "print(\"entradas iguales:\")\n",
    "print(mi_solucion==python_solucion)"
   ]
  },
  {
   "cell_type": "markdown",
   "metadata": {},
   "source": [
    "En efecto las soluciones son iguales"
   ]
  },
  {
   "cell_type": "markdown",
   "metadata": {},
   "source": [
    "### c) Dada una matriz A:\n",
    "* comprobación de que sea una matriz cuadrada\n",
    "* en tal caso calcular su determinante\n",
    "* NOTA: la implementación del determinante no debe incluir ninguna función que calcule directamente el determinante de una matriz"
   ]
  },
  {
   "cell_type": "code",
   "execution_count": 9,
   "metadata": {},
   "outputs": [],
   "source": [
    "# Lo haré por el método de cofactores"
   ]
  },
  {
   "cell_type": "code",
   "execution_count": 10,
   "metadata": {},
   "outputs": [],
   "source": [
    "def calcular_determinante(mat):\n",
    "    # esta función retorna el determinante de una matriz cuadrada\n",
    "#     print(mat)\n",
    "    n = mat.shape[0] # la matriz es de nxn\n",
    "    \n",
    "    if n == 1: # si la matriz es de tamaño 1, retorne el escalar\n",
    "        return mat[0, 0]\n",
    "    \n",
    "    determinante = 0\n",
    "    for pos_adj in range(mat.shape[1]): # por cada posición de la primera fila\n",
    "#         print(pos_adj)\n",
    "        cofactor = mat[0, pos_adj]\n",
    "        signo = (-1)**pos_adj\n",
    "#         print(cofactor*signo)\n",
    "        a = mat[1:, :pos_adj] # la submatriz a la izquierda de la columna pos_adj\n",
    "        b = mat[1:, pos_adj+1:] # la submatriz a la derecha de la columna pos_adj\n",
    "        adjunta = np.concatenate((a, b), axis=1) # la matriz adjunta\n",
    "#         print(\"shape adjunta\", adjunta.shape)\n",
    "#         print(adjunta)\n",
    "        determinante += signo*cofactor*calcular_determinante(adjunta)\n",
    "    return determinante"
   ]
  },
  {
   "cell_type": "code",
   "execution_count": 11,
   "metadata": {},
   "outputs": [
    {
     "data": {
      "text/plain": [
       "array([[  1,   2,   3,   4],\n",
       "       [  5,   6,   7,   8],\n",
       "       [  1,   2,   6,   3],\n",
       "       [ 23,  11,  22, 666]])"
      ]
     },
     "execution_count": 11,
     "metadata": {},
     "output_type": "execute_result"
    }
   ],
   "source": [
    "## Comprobación de que la función funciona\n",
    "mat1 = np.array([[1, 2, 3, 4],\n",
    "                 [5, 6, 7, 8],\n",
    "                 [1, 2,6, 3],\n",
    "                 [23, 11, 22, 666]]\n",
    ")\n",
    "mat2 = np.array([[1, 2],\n",
    "                 [3,4]])\n",
    "mat3 = np.array([[2, 3, 1],\n",
    "                 [0, -2, 5],\n",
    "                 [3, 7, -4]])\n",
    "mat1"
   ]
  },
  {
   "cell_type": "code",
   "execution_count": 12,
   "metadata": {},
   "outputs": [
    {
     "name": "stdout",
     "output_type": "stream",
     "text": [
      "[[  1   2   3   4]\n",
      " [  5   6   7   8]\n",
      " [  1   2   6   3]\n",
      " [ 23  11  22 666]]\n",
      "determinante python: -8239.999999999998\n",
      "determinante mío: -8240\n",
      "\n",
      "[[1 2]\n",
      " [3 4]]\n",
      "determinante python: -2.0000000000000004\n",
      "determinante mío: -2\n",
      "\n",
      "[[ 2  3  1]\n",
      " [ 0 -2  5]\n",
      " [ 3  7 -4]]\n",
      "determinante python: -2.9999999999999982\n",
      "determinante mío: -3\n",
      "\n",
      "[[0.12666496 0.88876455 0.27308476 0.87215756 0.27903649 0.67035857\n",
      "  0.06027021 0.24252201]\n",
      " [0.7424092  0.86740247 0.76753141 0.63518624 0.45203316 0.78289451\n",
      "  0.81954597 0.71139753]\n",
      " [0.49264267 0.59306002 0.2094711  0.46351196 0.6749691  0.15595072\n",
      "  0.16570548 0.07859484]\n",
      " [0.25345322 0.56354303 0.42990926 0.74980268 0.11379847 0.54976496\n",
      "  0.4342693  0.74194856]\n",
      " [0.5698524  0.21415564 0.66548768 0.21140044 0.76391512 0.81720203\n",
      "  0.38073984 0.4190978 ]\n",
      " [0.25087733 0.25923873 0.56588428 0.55710742 0.52745876 0.8103799\n",
      "  0.50793649 0.40523646]\n",
      " [0.87253667 0.83441663 0.22401371 0.28842259 0.90613619 0.06835062\n",
      "  0.41653339 0.72043942]\n",
      " [0.26116172 0.05460812 0.48606264 0.73396936 0.78447492 0.60190742\n",
      "  0.620238   0.47071046]]\n",
      "determinante python: 0.0005256982936646835\n",
      "determinante mío: 0.0005256982936646753\n",
      "\n"
     ]
    }
   ],
   "source": [
    "def comparar_matrices(mat):\n",
    "    print(mat)\n",
    "    print(\"determinante python:\", np.linalg.det(mat))\n",
    "    print(\"determinante mío:\",calcular_determinante(mat))\n",
    "    print()\n",
    "for mat in [mat1, mat2, mat3, np.random.rand(8,8)]:\n",
    "    comparar_matrices(mat)"
   ]
  },
  {
   "cell_type": "code",
   "execution_count": null,
   "metadata": {},
   "outputs": [],
   "source": []
  },
  {
   "cell_type": "markdown",
   "metadata": {},
   "source": [
    "## 2. Realizar diferentos programas en python que dada una matriz A E R nxn y k, calcule A^k"
   ]
  },
  {
   "cell_type": "markdown",
   "metadata": {},
   "source": [
    "### a) multiplica secuencialmente la matriz A mediante la función anteriormente implementada"
   ]
  },
  {
   "cell_type": "code",
   "execution_count": 13,
   "metadata": {},
   "outputs": [],
   "source": [
    "def potencia_matriz_secuencial(A, k):\n",
    "    # esta función retorna A^k, por medio de multiplicar secuencialmente\n",
    "    # la matriz A\n",
    "    A_pow_k = A\n",
    "    for i in range(k-1):\n",
    "        A_pow_k = multiplicar_matrices(A_pow_k, A)\n",
    "    return A_pow_k"
   ]
  },
  {
   "cell_type": "code",
   "execution_count": 14,
   "metadata": {},
   "outputs": [],
   "source": [
    "# probar la anterior\n",
    "n=4\n",
    "A = np.random.rand(n,n)"
   ]
  },
  {
   "cell_type": "code",
   "execution_count": 15,
   "metadata": {},
   "outputs": [
    {
     "name": "stdout",
     "output_type": "stream",
     "text": [
      "[[4.62452226e+14 3.83615674e+14 4.18203614e+14 6.16282044e+14]\n",
      " [5.90746499e+14 4.90038978e+14 5.34222362e+14 7.87252043e+14]\n",
      " [4.88130879e+14 4.04916758e+14 4.41425268e+14 6.50502428e+14]\n",
      " [8.77970435e+14 7.28298409e+14 7.93963978e+14 1.17001797e+15]]\n",
      "\n",
      "[[4.62452226e+14 3.83615674e+14 4.18203614e+14 6.16282044e+14]\n",
      " [5.90746499e+14 4.90038978e+14 5.34222362e+14 7.87252043e+14]\n",
      " [4.88130879e+14 4.04916758e+14 4.41425268e+14 6.50502428e+14]\n",
      " [8.77970435e+14 7.28298409e+14 7.93963978e+14 1.17001797e+15]]\n"
     ]
    }
   ],
   "source": [
    "k = 56\n",
    "resp_mia =potencia_matriz_secuencial(A, k) \n",
    "print(resp_mia)\n",
    "print()\n",
    "resp_python =np.linalg.matrix_power(A, k) \n",
    "print(resp_python)"
   ]
  },
  {
   "cell_type": "code",
   "execution_count": null,
   "metadata": {},
   "outputs": [],
   "source": []
  },
  {
   "cell_type": "markdown",
   "metadata": {},
   "source": [
    "### b) Aprovechando la forma diagonalizada de A"
   ]
  },
  {
   "cell_type": "code",
   "execution_count": 16,
   "metadata": {},
   "outputs": [],
   "source": [
    "def potencia_matriz_diagonalizar(A, k):\n",
    "    # esta función retorna A^k, por medio diagonalizar A\n",
    "    \n",
    "    w, p = np.linalg.eig(A) # valores y vectores propios respectivamente\n",
    "    D = np.diag(w**k) # potenciar los valores propios a la k y generar matriz diagonal\n",
    "    A_pow_k = p.dot(D).dot(np.linalg.inv(p))\n",
    "    return A_pow_k"
   ]
  },
  {
   "cell_type": "code",
   "execution_count": 17,
   "metadata": {},
   "outputs": [
    {
     "name": "stdout",
     "output_type": "stream",
     "text": [
      "[[2.17762912e+14 1.27352865e+14 2.25133862e+14 2.37903759e+14]\n",
      " [6.95196325e+13 4.06567136e+13 7.18727684e+13 7.59494889e+13]\n",
      " [8.06059967e+13 4.71402797e+13 8.33343896e+13 8.80612287e+13]\n",
      " [1.87631255e+14 1.09731164e+14 1.93982293e+14 2.04985231e+14]]\n",
      "\n",
      "[[2.17762912e+14 1.27352865e+14 2.25133862e+14 2.37903759e+14]\n",
      " [6.95196325e+13 4.06567136e+13 7.18727684e+13 7.59494889e+13]\n",
      " [8.06059967e+13 4.71402797e+13 8.33343896e+13 8.80612287e+13]\n",
      " [1.87631255e+14 1.09731164e+14 1.93982293e+14 2.04985231e+14]]\n"
     ]
    }
   ],
   "source": [
    "# probar la anterior\n",
    "n = 4\n",
    "A = np.random.rand(n,n)\n",
    "k = 56\n",
    "resp_mia =potencia_matriz_secuencial(A, k) \n",
    "print(resp_mia)\n",
    "print()\n",
    "resp_python =np.linalg.matrix_power(A, k) \n",
    "print(resp_python)"
   ]
  },
  {
   "cell_type": "code",
   "execution_count": null,
   "metadata": {},
   "outputs": [],
   "source": []
  },
  {
   "cell_type": "markdown",
   "metadata": {},
   "source": [
    "### c) Comparar los métodos anteriores con matrices simétricas aleatorias"
   ]
  },
  {
   "cell_type": "code",
   "execution_count": 18,
   "metadata": {},
   "outputs": [],
   "source": [
    "from pseudorandom_matrix import *\n",
    "tiempos_secuencial = []\n",
    "tiempos_diagonal = []\n",
    "num_sim = 20 # número de simulaciones a realizar\n",
    "n = 50 # tamaño de la matriz nxn\n",
    "k = 100 # potencia"
   ]
  },
  {
   "cell_type": "code",
   "execution_count": 19,
   "metadata": {
    "scrolled": true
   },
   "outputs": [
    {
     "name": "stdout",
     "output_type": "stream",
     "text": [
      "**********\n",
      "simulation number 0\n",
      "\n",
      "starting diagonalized form:\n",
      "elapsed time: 0.053906917572021484\n",
      "starting secuential form:\n",
      "elapsed time: 3.5913939476013184\n",
      "**********\n",
      "\n",
      "**********\n",
      "simulation number 1\n",
      "\n",
      "starting diagonalized form:\n",
      "elapsed time: 0.0009889602661132812\n",
      "starting secuential form:\n",
      "elapsed time: 3.7390289306640625\n",
      "**********\n",
      "\n",
      "**********\n",
      "simulation number 2\n",
      "\n",
      "starting diagonalized form:\n",
      "elapsed time: 0.0009691715240478516\n",
      "starting secuential form:\n",
      "elapsed time: 4.000296354293823\n",
      "**********\n",
      "\n",
      "**********\n",
      "simulation number 3\n",
      "\n",
      "starting diagonalized form:\n",
      "elapsed time: 0.0009963512420654297\n",
      "starting secuential form:\n",
      "elapsed time: 3.7090790271759033\n",
      "**********\n",
      "\n",
      "**********\n",
      "simulation number 4\n",
      "\n",
      "starting diagonalized form:\n",
      "elapsed time: 0.000997304916381836\n",
      "starting secuential form:\n",
      "elapsed time: 3.8297555446624756\n",
      "**********\n",
      "\n",
      "**********\n",
      "simulation number 5\n",
      "\n",
      "starting diagonalized form:\n",
      "elapsed time: 0.0009677410125732422\n",
      "starting secuential form:\n",
      "elapsed time: 3.7070820331573486\n",
      "**********\n",
      "\n",
      "**********\n",
      "simulation number 6\n",
      "\n",
      "starting diagonalized form:\n",
      "elapsed time: 0.000997781753540039\n",
      "starting secuential form:\n",
      "elapsed time: 3.7420225143432617\n",
      "**********\n",
      "\n",
      "**********\n",
      "simulation number 7\n",
      "\n",
      "starting diagonalized form:\n",
      "elapsed time: 0.0009672641754150391\n",
      "starting secuential form:\n",
      "elapsed time: 3.7819151878356934\n",
      "**********\n",
      "\n",
      "**********\n",
      "simulation number 8\n",
      "\n",
      "starting diagonalized form:\n",
      "elapsed time: 0.0019631385803222656\n",
      "starting secuential form:\n",
      "elapsed time: 4.0971314907073975\n",
      "**********\n",
      "\n",
      "**********\n",
      "simulation number 9\n",
      "\n",
      "starting diagonalized form:\n",
      "elapsed time: 0.000997304916381836\n",
      "starting secuential form:\n",
      "elapsed time: 3.774977684020996\n",
      "**********\n",
      "\n",
      "**********\n",
      "simulation number 10\n",
      "\n",
      "starting diagonalized form:\n",
      "elapsed time: 0.0009627342224121094\n",
      "starting secuential form:\n",
      "elapsed time: 3.6133933067321777\n",
      "**********\n",
      "\n",
      "**********\n",
      "simulation number 11\n",
      "\n",
      "starting diagonalized form:\n",
      "elapsed time: 0.0009610652923583984\n",
      "starting secuential form:\n",
      "elapsed time: 3.5166268348693848\n",
      "**********\n",
      "\n",
      "**********\n",
      "simulation number 12\n",
      "\n",
      "starting diagonalized form:\n",
      "elapsed time: 0.0009658336639404297\n",
      "starting secuential form:\n",
      "elapsed time: 3.5565192699432373\n",
      "**********\n",
      "\n",
      "**********\n",
      "simulation number 13\n",
      "\n",
      "starting diagonalized form:\n",
      "elapsed time: 0.0009970664978027344\n",
      "starting secuential form:\n",
      "elapsed time: 3.4767322540283203\n",
      "**********\n",
      "\n",
      "**********\n",
      "simulation number 14\n",
      "\n",
      "starting diagonalized form:\n",
      "elapsed time: 0.0009641647338867188\n",
      "starting secuential form:\n",
      "elapsed time: 3.556487560272217\n",
      "**********\n",
      "\n",
      "**********\n",
      "simulation number 15\n",
      "\n",
      "starting diagonalized form:\n",
      "elapsed time: 0.0009717941284179688\n",
      "starting secuential form:\n",
      "elapsed time: 3.5316011905670166\n",
      "**********\n",
      "\n",
      "**********\n",
      "simulation number 16\n",
      "\n",
      "starting diagonalized form:\n",
      "elapsed time: 0.0009489059448242188\n",
      "starting secuential form:\n",
      "elapsed time: 3.462191343307495\n",
      "**********\n",
      "\n",
      "**********\n",
      "simulation number 17\n",
      "\n",
      "starting diagonalized form:\n",
      "elapsed time: 0.0\n",
      "starting secuential form:\n",
      "elapsed time: 3.4557549953460693\n",
      "**********\n",
      "\n",
      "**********\n",
      "simulation number 18\n",
      "\n",
      "starting diagonalized form:\n",
      "elapsed time: 0.0009975433349609375\n",
      "starting secuential form:\n",
      "elapsed time: 3.563500165939331\n",
      "**********\n",
      "\n",
      "**********\n",
      "simulation number 19\n",
      "\n",
      "starting diagonalized form:\n",
      "elapsed time: 0.0019617080688476562\n",
      "starting secuential form:\n",
      "elapsed time: 3.5076496601104736\n",
      "**********\n",
      "\n"
     ]
    }
   ],
   "source": [
    "for i in range(num_sim):\n",
    "    print(\"*\"*10)\n",
    "    print(f\"simulation number {i}\")\n",
    "    mat = pseudorandom_matrix(n)\n",
    "    \n",
    "    print()\n",
    "    print(\"starting diagonalized form:\")\n",
    "    start_time = time.time()\n",
    "    potencia_matriz_diagonalizar(mat, k)\n",
    "    end_time = time.time() - start_time\n",
    "    tiempos_diagonal.append(end_time)\n",
    "    print(\"elapsed time:\",end_time)\n",
    "    \n",
    "    print(\"starting secuential form:\")\n",
    "    start_time = time.time()\n",
    "    potencia_matriz_secuencial(mat, k)\n",
    "    end_time = time.time() - start_time\n",
    "    tiempos_secuencial.append(end_time)\n",
    "    print(\"elapsed time:\",end_time)\n",
    "    print(\"*\"*10)\n",
    "    print()"
   ]
  },
  {
   "cell_type": "code",
   "execution_count": 20,
   "metadata": {},
   "outputs": [],
   "source": [
    "resultados = pd.DataFrame()\n",
    "resultados[\"tiempos_secuencial\"] = tiempos_secuencial\n",
    "resultados[\"tiempos_diagonal\"] = tiempos_diagonal"
   ]
  },
  {
   "cell_type": "code",
   "execution_count": 21,
   "metadata": {},
   "outputs": [
    {
     "data": {
      "text/html": [
       "<div>\n",
       "<style scoped>\n",
       "    .dataframe tbody tr th:only-of-type {\n",
       "        vertical-align: middle;\n",
       "    }\n",
       "\n",
       "    .dataframe tbody tr th {\n",
       "        vertical-align: top;\n",
       "    }\n",
       "\n",
       "    .dataframe thead th {\n",
       "        text-align: right;\n",
       "    }\n",
       "</style>\n",
       "<table border=\"1\" class=\"dataframe\">\n",
       "  <thead>\n",
       "    <tr style=\"text-align: right;\">\n",
       "      <th></th>\n",
       "      <th>tiempos_secuencial</th>\n",
       "      <th>tiempos_diagonal</th>\n",
       "    </tr>\n",
       "  </thead>\n",
       "  <tbody>\n",
       "    <tr>\n",
       "      <th>count</th>\n",
       "      <td>20.000000</td>\n",
       "      <td>20.000000</td>\n",
       "    </tr>\n",
       "    <tr>\n",
       "      <th>mean</th>\n",
       "      <td>3.660657</td>\n",
       "      <td>0.003674</td>\n",
       "    </tr>\n",
       "    <tr>\n",
       "      <th>std</th>\n",
       "      <td>0.176765</td>\n",
       "      <td>0.011830</td>\n",
       "    </tr>\n",
       "    <tr>\n",
       "      <th>min</th>\n",
       "      <td>3.455755</td>\n",
       "      <td>0.000000</td>\n",
       "    </tr>\n",
       "    <tr>\n",
       "      <th>25%</th>\n",
       "      <td>3.527858</td>\n",
       "      <td>0.000965</td>\n",
       "    </tr>\n",
       "    <tr>\n",
       "      <th>50%</th>\n",
       "      <td>3.602394</td>\n",
       "      <td>0.000980</td>\n",
       "    </tr>\n",
       "    <tr>\n",
       "      <th>75%</th>\n",
       "      <td>3.750261</td>\n",
       "      <td>0.000997</td>\n",
       "    </tr>\n",
       "    <tr>\n",
       "      <th>max</th>\n",
       "      <td>4.097131</td>\n",
       "      <td>0.053907</td>\n",
       "    </tr>\n",
       "  </tbody>\n",
       "</table>\n",
       "</div>"
      ],
      "text/plain": [
       "       tiempos_secuencial  tiempos_diagonal\n",
       "count           20.000000         20.000000\n",
       "mean             3.660657          0.003674\n",
       "std              0.176765          0.011830\n",
       "min              3.455755          0.000000\n",
       "25%              3.527858          0.000965\n",
       "50%              3.602394          0.000980\n",
       "75%              3.750261          0.000997\n",
       "max              4.097131          0.053907"
      ]
     },
     "execution_count": 21,
     "metadata": {},
     "output_type": "execute_result"
    }
   ],
   "source": [
    "resultados.describe()"
   ]
  },
  {
   "cell_type": "markdown",
   "metadata": {},
   "source": [
    "Como se puede observar en la tabla anterior, el tiempo promedio de la potenciación utilizando la diagonalización de una matriz es de solo 0.0009 segundos, mientras que el tiempo promedio de potenciar de manera secuencial es de 5.5 segundos"
   ]
  },
  {
   "cell_type": "code",
   "execution_count": 22,
   "metadata": {},
   "outputs": [
    {
     "name": "stdout",
     "output_type": "stream",
     "text": [
      "¡la forma secuencial es 996.3309410172967 veces más lenta que la forma diagonal!\n"
     ]
    }
   ],
   "source": [
    "razon=resultados.tiempos_secuencial.mean()/resultados.tiempos_diagonal.mean()\n",
    "print(f\"¡la forma secuencial es {razon} veces más lenta que la forma diagonal!\")"
   ]
  },
  {
   "cell_type": "code",
   "execution_count": null,
   "metadata": {},
   "outputs": [],
   "source": []
  },
  {
   "cell_type": "code",
   "execution_count": null,
   "metadata": {},
   "outputs": [],
   "source": []
  }
 ],
 "metadata": {
  "kernelspec": {
   "display_name": "Python 3",
   "language": "python",
   "name": "python3"
  },
  "language_info": {
   "codemirror_mode": {
    "name": "ipython",
    "version": 3
   },
   "file_extension": ".py",
   "mimetype": "text/x-python",
   "name": "python",
   "nbconvert_exporter": "python",
   "pygments_lexer": "ipython3",
   "version": "3.7.1"
  }
 },
 "nbformat": 4,
 "nbformat_minor": 2
}
