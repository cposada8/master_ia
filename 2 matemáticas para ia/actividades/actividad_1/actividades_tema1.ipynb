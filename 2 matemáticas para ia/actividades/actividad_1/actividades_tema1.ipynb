{
 "cells": [
  {
   "cell_type": "markdown",
   "metadata": {},
   "source": [
    "# Actividades Tema 1"
   ]
  },
  {
   "cell_type": "code",
   "execution_count": 1,
   "metadata": {},
   "outputs": [],
   "source": [
    "from __future__ import print_function\n",
    "from ipywidgets import interact, interactive, fixed, interact_manual\n",
    "import ipywidgets as widgets\n",
    "\n",
    "import pandas as pd\n",
    "import numpy as np\n",
    "import matplotlib.pyplot as plt\n",
    "import seaborn as sns\n",
    "\n",
    "import time\n",
    "\n",
    "%matplotlib inline"
   ]
  },
  {
   "cell_type": "markdown",
   "metadata": {},
   "source": [
    "## 1. Implementa en Python las funciones siguientes:"
   ]
  },
  {
   "cell_type": "markdown",
   "metadata": {},
   "source": [
    "### a) Dados dos vectores u, v ∈ R n, la proyección u sobre v y la ortogonal de u sobre v.\n"
   ]
  },
  {
   "cell_type": "code",
   "execution_count": 2,
   "metadata": {},
   "outputs": [],
   "source": [
    "def producto_escalar(v1, v2):\n",
    "    if len(v1) != len(v2):\n",
    "        return \"error: longitudes de los vectores distintas\"\n",
    "    else:\n",
    "        n = len(v1)\n",
    "        suma_prod = 0\n",
    "        for i in range(n):\n",
    "            suma_prod += v1[i]*v2[i]\n",
    "        return suma_prod\n",
    "    \n",
    "def proyeccion_u_sobre_v(u, v):\n",
    "    # Función para retornar la proyección del vector u sobre el vector v\n",
    "    numerador = producto_escalar(u, v)\n",
    "    denominador = producto_escalar(v, v)\n",
    "    \n",
    "    if denominador == 0:\n",
    "        return \"Error: el vector v es 0\"\n",
    "    else:\n",
    "        proj_u_v = (numerador/denominador)*v\n",
    "        return proj_u_v\n",
    "    \n",
    "def ortogonal_u_sobre_v(u, v):\n",
    "    # Función para retornar el vector ortogonal de u sobre v\n",
    "    return u-proyeccion_u_sobre_v(u, v)"
   ]
  },
  {
   "cell_type": "markdown",
   "metadata": {},
   "source": [
    "#### * Generar vectores aleatorios de tamaño n"
   ]
  },
  {
   "cell_type": "code",
   "execution_count": 3,
   "metadata": {},
   "outputs": [
    {
     "name": "stdout",
     "output_type": "stream",
     "text": [
      "[0.01701128 0.91934144 0.64438935]\n",
      "[0.20822213 0.59180698 0.68217814]\n"
     ]
    },
    {
     "data": {
      "text/plain": [
       "1.6653345369377348e-16"
      ]
     },
     "execution_count": 3,
     "metadata": {},
     "output_type": "execute_result"
    }
   ],
   "source": [
    "n = 3\n",
    "vec1 = np.random.rand(n)\n",
    "vec2 = np.random.rand(n)\n",
    "proy_u_v = proyeccion_u_sobre_v(vec1, vec2)\n",
    "ort_u_v = ortogonal_u_sobre_v(vec1, vec2)\n",
    "print(vec1)\n",
    "print(vec2)\n",
    "producto_escalar(proy_u_v, ort_u_v)"
   ]
  },
  {
   "cell_type": "markdown",
   "metadata": {},
   "source": [
    "la proyección de u sobre v y la ortogonal de u sobre v son ortogonales"
   ]
  },
  {
   "cell_type": "markdown",
   "metadata": {},
   "source": [
    "#### * Demostrar que proj de u sobre v, producto escalar con ort u sobre v es 0"
   ]
  },
  {
   "cell_type": "markdown",
   "metadata": {},
   "source": [
    "![title](prueba_projxort_0.jpeg)"
   ]
  },
  {
   "cell_type": "code",
   "execution_count": null,
   "metadata": {},
   "outputs": [],
   "source": []
  },
  {
   "cell_type": "markdown",
   "metadata": {},
   "source": [
    "## Código interactivo para graficar la proyección y ortogonal de 2 vectores"
   ]
  },
  {
   "cell_type": "code",
   "execution_count": 6,
   "metadata": {},
   "outputs": [],
   "source": [
    "def plot_proyeccion_and_ortogonal(x1, y1, x2, y2):\n",
    "    fig, ax = plt.subplots(1)\n",
    "    ax.set_xlim((-30, 30))\n",
    "    ax.set_ylim((-30, 30))\n",
    "    \n",
    "    a = np.array([x1, y1])\n",
    "    b = np.array([x2, y2])\n",
    "    proy_a_sobre_b = proyeccion_u_sobre_v(a, b)\n",
    "    ort_a_sobre_b = ortogonal_u_sobre_v(a, b)\n",
    "    \n",
    "    # plot vector a=(x1,y1)\n",
    "    ax.quiver(*[0,0],\n",
    "           a[0],\n",
    "           a[1],\n",
    "           scale=1,\n",
    "           scale_units='xy',\n",
    "           angles = 'xy',\n",
    "           color=[\"b\"],\n",
    "          label=\"a=(x1, y1)\")\n",
    "    \n",
    "    # plot vector b=(x2, y2)\n",
    "    ax.quiver(*[0,0],\n",
    "           b[0],\n",
    "           b[1],\n",
    "           scale=1,\n",
    "           scale_units='xy',\n",
    "           angles = 'xy',\n",
    "           color=[\"g\"],\n",
    "          label=\"b=(x2,y2)\")\n",
    "    \n",
    "    \n",
    "    # plot the projection of a over b\n",
    "    ax.quiver(*[0,0],\n",
    "           proy_a_sobre_b[0],\n",
    "           proy_a_sobre_b[1],\n",
    "           scale=1,\n",
    "           scale_units='xy',\n",
    "           angles = 'xy',\n",
    "           color=[\"r\"],\n",
    "          label=\"projection a over b\")\n",
    "    \n",
    "    # plot the ortogonal of a over b\n",
    "    ax.quiver(*[0,0],\n",
    "           ort_a_sobre_b[0],\n",
    "           ort_a_sobre_b[1],\n",
    "           scale=1,\n",
    "           scale_units='xy',\n",
    "           angles = 'xy',\n",
    "           color=[\"k\"],\n",
    "          label=\"orthogonal a over b\")\n",
    "    \n",
    "    plt.legend()\n",
    "    plt.show()"
   ]
  },
  {
   "cell_type": "code",
   "execution_count": 7,
   "metadata": {},
   "outputs": [
    {
     "data": {
      "application/vnd.jupyter.widget-view+json": {
       "model_id": "df556b9364f34627892d57f1981076bf",
       "version_major": 2,
       "version_minor": 0
      },
      "text/plain": [
       "interactive(children=(IntSlider(value=10, description='x1', max=30, min=-30), IntSlider(value=0, description='…"
      ]
     },
     "metadata": {},
     "output_type": "display_data"
    }
   ],
   "source": [
    "interactive_plot = interactive(plot_proyeccion_and_ortogonal,\n",
    "                               x1=widgets.IntSlider(min=-30, max=30, step=1, value=10),\n",
    "                               y1=widgets.IntSlider(min=-30, max=30, step=1, value=0),\n",
    "                               x2=widgets.IntSlider(min=-30, max=30, step=1, value=10),\n",
    "                               y2=widgets.IntSlider(min=-30, max=30, step=1, value=10),)\n",
    "output = interactive_plot.children[-1]\n",
    "output.layout.height = '350px'\n",
    "interactive_plot"
   ]
  },
  {
   "cell_type": "markdown",
   "metadata": {},
   "source": [
    "Nótese cómo las líneas roja (proyección) y negra (ortogonal) son ortogonales entre ellas siempre"
   ]
  },
  {
   "cell_type": "code",
   "execution_count": null,
   "metadata": {},
   "outputs": [],
   "source": []
  },
  {
   "cell_type": "markdown",
   "metadata": {},
   "source": [
    "### b) dadas dos matrices de entrada A y B:\n",
    "* comprobación de que sus dimenciones son compatibles para realizar el producto\n",
    "* En tal caso retornar C = A*B\n",
    "* NOTA: no se puede usar ninguna función que implemente directamente el producto de dos matrices"
   ]
  },
  {
   "cell_type": "code",
   "execution_count": 7,
   "metadata": {},
   "outputs": [],
   "source": [
    "def multiplicar_matrices(A, B):\n",
    "    # función para multiplicar 2 matrices\n",
    "    # primero se verifica que las dimensiones sean correctas para proceder a la multiplicación\n",
    "    \n",
    "    n_a, m_a = A.shape # filas y columnas de A\n",
    "    n_b, m_b = B.shape # filas y columnas de B\n",
    "    C = np.zeros((n_a, m_b)) # matriz de zeros de tamaño n_a x m_b\n",
    "    if m_a != n_b:\n",
    "        return \"Error: las dimensiones de las matrices no son compatibles para el producto\"\n",
    "    else:\n",
    "        for fila_A in range(n_a):\n",
    "            for col_B in range(m_b):\n",
    "                elem = producto_escalar(A[fila_A, :], B[:, col_B])\n",
    "                C[fila_A, col_B] = elem\n",
    "        return C"
   ]
  },
  {
   "cell_type": "markdown",
   "metadata": {},
   "source": [
    "Se comprobará que la función anteriormente definida está correcta por medio de la comparación del resultado de mi solución vs la solución de un paquete de numpy que ya implementa la multiplicación matricial"
   ]
  },
  {
   "cell_type": "code",
   "execution_count": 8,
   "metadata": {},
   "outputs": [],
   "source": [
    "## Comprobación de la función\n",
    "mat1 = np.array([[1, 2],\n",
    "                [3, 4],\n",
    "                [1, 0]])\n",
    "\n",
    "mat2 = np.array([[5,6],\n",
    "                [7, 8]])"
   ]
  },
  {
   "cell_type": "code",
   "execution_count": 9,
   "metadata": {},
   "outputs": [
    {
     "name": "stdout",
     "output_type": "stream",
     "text": [
      "mi solución:\n",
      "[[19. 22.]\n",
      " [43. 50.]\n",
      " [ 5.  6.]]\n",
      "solución de python (para comprobar):\n",
      "[[19 22]\n",
      " [43 50]\n",
      " [ 5  6]]\n",
      "\n",
      "entradas iguales:\n",
      "[[ True  True]\n",
      " [ True  True]\n",
      " [ True  True]]\n"
     ]
    }
   ],
   "source": [
    "# mi solución\n",
    "mi_solucion = multiplicar_matrices(mat1, mat2)\n",
    "\n",
    "# operación para comprobar\n",
    "python_solucion = np.dot(mat1, mat2)\n",
    "\n",
    "print(\"mi solución:\")\n",
    "print(mi_solucion)\n",
    "print(\"solución de python (para comprobar):\")\n",
    "print(python_solucion)\n",
    "\n",
    "print()\n",
    "print(\"entradas iguales:\")\n",
    "print(mi_solucion==python_solucion)"
   ]
  },
  {
   "cell_type": "markdown",
   "metadata": {},
   "source": [
    "En efecto las soluciones son iguales"
   ]
  },
  {
   "cell_type": "markdown",
   "metadata": {},
   "source": [
    "### c) Dada una matriz A:\n",
    "* comprobación de que sea una matriz cuadrada\n",
    "* en tal caso calcular su determinante\n",
    "* NOTA: la implementación del determinante no debe incluir ninguna función que calcule directamente el determinante de una matriz"
   ]
  },
  {
   "cell_type": "code",
   "execution_count": 10,
   "metadata": {},
   "outputs": [],
   "source": [
    "# Lo haré por el método de cofactores"
   ]
  },
  {
   "cell_type": "code",
   "execution_count": 11,
   "metadata": {},
   "outputs": [],
   "source": [
    "def calcular_determinante(mat):\n",
    "    # esta función retorna el determinante de una matriz cuadrada\n",
    "#     print(mat)\n",
    "    n = mat.shape[0] # la matriz es de nxn\n",
    "    \n",
    "    if n == 1: # si la matriz es de tamaño 1, retorne el escalar\n",
    "        return mat[0, 0]\n",
    "    \n",
    "    determinante = 0\n",
    "    for pos_adj in range(mat.shape[1]): # por cada posición de la primera fila\n",
    "#         print(pos_adj)\n",
    "        cofactor = mat[0, pos_adj]\n",
    "        signo = (-1)**pos_adj\n",
    "#         print(cofactor*signo)\n",
    "        a = mat[1:, :pos_adj] # la submatriz a la izquierda de la columna pos_adj\n",
    "        b = mat[1:, pos_adj+1:] # la submatriz a la derecha de la columna pos_adj\n",
    "        adjunta = np.concatenate((a, b), axis=1) # la matriz adjunta\n",
    "#         print(\"shape adjunta\", adjunta.shape)\n",
    "#         print(adjunta)\n",
    "        determinante += signo*cofactor*calcular_determinante(adjunta)\n",
    "    return determinante"
   ]
  },
  {
   "cell_type": "code",
   "execution_count": 12,
   "metadata": {},
   "outputs": [
    {
     "data": {
      "text/plain": [
       "array([[  1,   2,   3,   4],\n",
       "       [  5,   6,   7,   8],\n",
       "       [  1,   2,   6,   3],\n",
       "       [ 23,  11,  22, 666]])"
      ]
     },
     "execution_count": 12,
     "metadata": {},
     "output_type": "execute_result"
    }
   ],
   "source": [
    "## Comprobación de que la función funciona\n",
    "mat1 = np.array([[1, 2, 3, 4],\n",
    "                 [5, 6, 7, 8],\n",
    "                 [1, 2,6, 3],\n",
    "                 [23, 11, 22, 666]]\n",
    ")\n",
    "mat2 = np.array([[1, 2],\n",
    "                 [3,4]])\n",
    "mat3 = np.array([[2, 3, 1],\n",
    "                 [0, -2, 5],\n",
    "                 [3, 7, -4]])\n",
    "mat1"
   ]
  },
  {
   "cell_type": "code",
   "execution_count": 13,
   "metadata": {},
   "outputs": [
    {
     "name": "stdout",
     "output_type": "stream",
     "text": [
      "[[  1   2   3   4]\n",
      " [  5   6   7   8]\n",
      " [  1   2   6   3]\n",
      " [ 23  11  22 666]]\n",
      "determinante python: -8239.999999999998\n",
      "determinante mío: -8240\n",
      "\n",
      "[[1 2]\n",
      " [3 4]]\n",
      "determinante python: -2.0000000000000004\n",
      "determinante mío: -2\n",
      "\n",
      "[[ 2  3  1]\n",
      " [ 0 -2  5]\n",
      " [ 3  7 -4]]\n",
      "determinante python: -2.9999999999999982\n",
      "determinante mío: -3\n",
      "\n",
      "[[0.49755991 0.37436833 0.96244045 0.32602564 0.31636205 0.36546484\n",
      "  0.74034057 0.54035953]\n",
      " [0.41800288 0.47030238 0.95601736 0.19425926 0.8264552  0.26224032\n",
      "  0.20890685 0.82972881]\n",
      " [0.24972857 0.77422682 0.45902499 0.89451438 0.69425429 0.20405023\n",
      "  0.12479041 0.03536209]\n",
      " [0.9322747  0.50962621 0.79206383 0.89435441 0.66507491 0.71569115\n",
      "  0.00883119 0.67371381]\n",
      " [0.62642032 0.70961405 0.78850581 0.64561793 0.4490074  0.29441861\n",
      "  0.5260514  0.90968455]\n",
      " [0.46458584 0.555454   0.78245895 0.43600244 0.43991935 0.06039977\n",
      "  0.86922355 0.56194545]\n",
      " [0.41414081 0.97153973 0.25584209 0.64505457 0.31602025 0.99583776\n",
      "  0.28983904 0.35270547]\n",
      " [0.98501288 0.10422044 0.85506071 0.04743306 0.83175237 0.04103276\n",
      "  0.32650917 0.49516643]]\n",
      "determinante python: -0.018529984618740107\n",
      "determinante mío: -0.018529984618740124\n",
      "\n"
     ]
    }
   ],
   "source": [
    "def comparar_matrices(mat):\n",
    "    print(mat)\n",
    "    print(\"determinante python:\", np.linalg.det(mat))\n",
    "    print(\"determinante mío:\",calcular_determinante(mat))\n",
    "    print()\n",
    "for mat in [mat1, mat2, mat3, np.random.rand(8,8)]:\n",
    "    comparar_matrices(mat)"
   ]
  },
  {
   "cell_type": "code",
   "execution_count": null,
   "metadata": {},
   "outputs": [],
   "source": []
  },
  {
   "cell_type": "markdown",
   "metadata": {},
   "source": [
    "## 2. Realizar diferentos programas en python que dada una matriz A E R nxn y k, calcule A^k"
   ]
  },
  {
   "cell_type": "markdown",
   "metadata": {},
   "source": [
    "### a) multiplica secuencialmente la matriz A mediante la función anteriormente implementada"
   ]
  },
  {
   "cell_type": "code",
   "execution_count": 14,
   "metadata": {},
   "outputs": [],
   "source": [
    "def potencia_matriz_secuencial(A, k):\n",
    "    # esta función retorna A^k, por medio de multiplicar secuencialmente\n",
    "    # la matriz A\n",
    "    A_pow_k = A\n",
    "    for i in range(k-1):\n",
    "        A_pow_k = multiplicar_matrices(A_pow_k, A)\n",
    "    return A_pow_k"
   ]
  },
  {
   "cell_type": "code",
   "execution_count": 15,
   "metadata": {},
   "outputs": [],
   "source": [
    "# probar la anterior\n",
    "n=4\n",
    "A = np.random.rand(n,n)"
   ]
  },
  {
   "cell_type": "code",
   "execution_count": 16,
   "metadata": {},
   "outputs": [
    {
     "name": "stdout",
     "output_type": "stream",
     "text": [
      "[[6.04733565e+15 5.67182488e+15 4.76204598e+15 6.50318523e+15]\n",
      " [5.41168800e+15 5.07564793e+15 4.26149773e+15 5.81962232e+15]\n",
      " [5.12605249e+15 4.80774902e+15 4.03657066e+15 5.51245553e+15]\n",
      " [4.77586116e+15 4.47930290e+15 3.76080835e+15 5.13586669e+15]]\n",
      "\n",
      "[[6.04733565e+15 5.67182488e+15 4.76204598e+15 6.50318523e+15]\n",
      " [5.41168800e+15 5.07564793e+15 4.26149773e+15 5.81962232e+15]\n",
      " [5.12605249e+15 4.80774902e+15 4.03657066e+15 5.51245553e+15]\n",
      " [4.77586116e+15 4.47930290e+15 3.76080835e+15 5.13586669e+15]]\n"
     ]
    }
   ],
   "source": [
    "k = 56\n",
    "resp_mia =potencia_matriz_secuencial(A, k) \n",
    "print(resp_mia)\n",
    "print()\n",
    "resp_python =np.linalg.matrix_power(A, k) \n",
    "print(resp_python)"
   ]
  },
  {
   "cell_type": "code",
   "execution_count": null,
   "metadata": {},
   "outputs": [],
   "source": []
  },
  {
   "cell_type": "markdown",
   "metadata": {},
   "source": [
    "### b) Aprovechando la forma diagonalizada de A"
   ]
  },
  {
   "cell_type": "code",
   "execution_count": 195,
   "metadata": {},
   "outputs": [],
   "source": [
    "def potencia_matriz_diagonalizar(A, k):\n",
    "    # esta función retorna A^k, por medio diagonalizar A\n",
    "    \n",
    "    w, p = np.linalg.eig(A) # valores y vectores propios respectivamente\n",
    "    D = np.diag(w**k) # potenciar los valores propios a la k y generar matriz diagonal\n",
    "    A_pow_k = p.dot(D).dot(np.linalg.inv(p))\n",
    "    return A_pow_k"
   ]
  },
  {
   "cell_type": "code",
   "execution_count": 196,
   "metadata": {},
   "outputs": [
    {
     "name": "stdout",
     "output_type": "stream",
     "text": [
      "[[ 447112.99564769 1028715.14957649 1016013.90864785  231810.89779178]\n",
      " [ 380932.75888581  876448.02063545  865626.77679929  197498.98950645]\n",
      " [ 371212.47912484  854083.65380746  843538.53617729  192459.39817247]\n",
      " [ 549302.91256493 1263833.15484594 1248228.98162081  284792.44074948]]\n",
      "\n",
      "[[ 447112.99564768 1028715.14957649 1016013.90864785  231810.89779178]\n",
      " [ 380932.75888581  876448.02063545  865626.77679929  197498.98950645]\n",
      " [ 371212.47912484  854083.65380746  843538.53617729  192459.39817247]\n",
      " [ 549302.91256492 1263833.15484593 1248228.98162081  284792.44074948]]\n"
     ]
    }
   ],
   "source": [
    "# probar la anterior\n",
    "n = 4\n",
    "A = np.random.rand(n,n)\n",
    "k = 56\n",
    "resp_mia =potencia_matriz_secuencial(A, k) \n",
    "print(resp_mia)\n",
    "print()\n",
    "resp_python =np.linalg.matrix_power(A, k) \n",
    "print(resp_python)"
   ]
  },
  {
   "cell_type": "code",
   "execution_count": null,
   "metadata": {},
   "outputs": [],
   "source": []
  },
  {
   "cell_type": "markdown",
   "metadata": {},
   "source": [
    "### c) Comparar los métodos anteriores con matrices simétricas aleatorias"
   ]
  },
  {
   "cell_type": "code",
   "execution_count": 187,
   "metadata": {},
   "outputs": [],
   "source": [
    "from pseudorandom_matrix import *\n",
    "tiempos_secuencial = []\n",
    "tiempos_diagonal = []\n",
    "num_sim = 20 # número de simulaciones a realizar\n",
    "n = 50 # tamaño de la matriz nxn\n",
    "k = 100 # potencia"
   ]
  },
  {
   "cell_type": "code",
   "execution_count": 188,
   "metadata": {
    "scrolled": true
   },
   "outputs": [
    {
     "name": "stdout",
     "output_type": "stream",
     "text": [
      "**********\n",
      "simulation number 0\n",
      "\n",
      "starting diagonalized form:\n",
      "elapsed time: 0.0009968280792236328\n",
      "starting secuential form:\n",
      "elapsed time: 5.2212605476379395\n",
      "**********\n",
      "\n",
      "**********\n",
      "simulation number 1\n",
      "\n",
      "starting diagonalized form:\n",
      "elapsed time: 0.0009622573852539062\n",
      "starting secuential form:\n",
      "elapsed time: 5.275035381317139\n",
      "**********\n",
      "\n",
      "**********\n",
      "simulation number 2\n",
      "\n",
      "starting diagonalized form:\n",
      "elapsed time: 0.0009992122650146484\n",
      "starting secuential form:\n",
      "elapsed time: 6.11255669593811\n",
      "**********\n",
      "\n",
      "**********\n",
      "simulation number 3\n",
      "\n",
      "starting diagonalized form:\n",
      "elapsed time: 0.0009989738464355469\n",
      "starting secuential form:\n",
      "elapsed time: 5.608927011489868\n",
      "**********\n",
      "\n",
      "**********\n",
      "simulation number 4\n",
      "\n",
      "starting diagonalized form:\n",
      "elapsed time: 0.0\n",
      "starting secuential form:\n",
      "elapsed time: 5.796842813491821\n",
      "**********\n",
      "\n",
      "**********\n",
      "simulation number 5\n",
      "\n",
      "starting diagonalized form:\n",
      "elapsed time: 0.0009660720825195312\n",
      "starting secuential form:\n",
      "elapsed time: 5.533639192581177\n",
      "**********\n",
      "\n",
      "**********\n",
      "simulation number 6\n",
      "\n",
      "starting diagonalized form:\n",
      "elapsed time: 0.0\n",
      "starting secuential form:\n",
      "elapsed time: 5.6900434494018555\n",
      "**********\n",
      "\n",
      "**********\n",
      "simulation number 7\n",
      "\n",
      "starting diagonalized form:\n",
      "elapsed time: 0.0009505748748779297\n",
      "starting secuential form:\n",
      "elapsed time: 5.50597882270813\n",
      "**********\n",
      "\n",
      "**********\n",
      "simulation number 8\n",
      "\n",
      "starting diagonalized form:\n",
      "elapsed time: 0.000997781753540039\n",
      "starting secuential form:\n",
      "elapsed time: 5.437617301940918\n",
      "**********\n",
      "\n",
      "**********\n",
      "simulation number 9\n",
      "\n",
      "starting diagonalized form:\n",
      "elapsed time: 0.001993894577026367\n",
      "starting secuential form:\n",
      "elapsed time: 5.4905009269714355\n",
      "**********\n",
      "\n",
      "**********\n",
      "simulation number 10\n",
      "\n",
      "starting diagonalized form:\n",
      "elapsed time: 0.0009512901306152344\n",
      "starting secuential form:\n",
      "elapsed time: 5.574132442474365\n",
      "**********\n",
      "\n",
      "**********\n",
      "simulation number 11\n",
      "\n",
      "starting diagonalized form:\n",
      "elapsed time: 0.0\n",
      "starting secuential form:\n",
      "elapsed time: 5.3596882820129395\n",
      "**********\n",
      "\n",
      "**********\n",
      "simulation number 12\n",
      "\n",
      "starting diagonalized form:\n",
      "elapsed time: 0.0009655952453613281\n",
      "starting secuential form:\n",
      "elapsed time: 5.5839293003082275\n",
      "**********\n",
      "\n",
      "**********\n",
      "simulation number 13\n",
      "\n",
      "starting diagonalized form:\n",
      "elapsed time: 0.0019893646240234375\n",
      "starting secuential form:\n",
      "elapsed time: 5.588035345077515\n",
      "**********\n",
      "\n",
      "**********\n",
      "simulation number 14\n",
      "\n",
      "starting diagonalized form:\n",
      "elapsed time: 0.0009975433349609375\n",
      "starting secuential form:\n",
      "elapsed time: 5.482343435287476\n",
      "**********\n",
      "\n",
      "**********\n",
      "simulation number 15\n",
      "\n",
      "starting diagonalized form:\n",
      "elapsed time: 0.000997781753540039\n",
      "starting secuential form:\n",
      "elapsed time: 5.480381488800049\n",
      "**********\n",
      "\n",
      "**********\n",
      "simulation number 16\n",
      "\n",
      "starting diagonalized form:\n",
      "elapsed time: 0.0009665489196777344\n",
      "starting secuential form:\n",
      "elapsed time: 5.381642580032349\n",
      "**********\n",
      "\n",
      "**********\n",
      "simulation number 17\n",
      "\n",
      "starting diagonalized form:\n",
      "elapsed time: 0.0009510517120361328\n",
      "starting secuential form:\n",
      "elapsed time: 5.7636120319366455\n",
      "**********\n",
      "\n",
      "**********\n",
      "simulation number 18\n",
      "\n",
      "starting diagonalized form:\n",
      "elapsed time: 0.000997304916381836\n",
      "starting secuential form:\n",
      "elapsed time: 5.567148923873901\n",
      "**********\n",
      "\n",
      "**********\n",
      "simulation number 19\n",
      "\n",
      "starting diagonalized form:\n",
      "elapsed time: 0.0009648799896240234\n",
      "starting secuential form:\n",
      "elapsed time: 6.121664762496948\n",
      "**********\n",
      "\n"
     ]
    }
   ],
   "source": [
    "for i in range(num_sim):\n",
    "    print(\"*\"*10)\n",
    "    print(f\"simulation number {i}\")\n",
    "    mat = pseudorandom_matrix(n)\n",
    "    \n",
    "    print()\n",
    "    print(\"starting diagonalized form:\")\n",
    "    start_time = time.time()\n",
    "    potencia_matriz_diagonalizar(mat, k)\n",
    "    end_time = time.time() - start_time\n",
    "    tiempos_diagonal.append(end_time)\n",
    "    print(\"elapsed time:\",end_time)\n",
    "    \n",
    "    print(\"starting secuential form:\")\n",
    "    start_time = time.time()\n",
    "    potencia_matriz_secuencial(mat, k)\n",
    "    end_time = time.time() - start_time\n",
    "    tiempos_secuencial.append(end_time)\n",
    "    print(\"elapsed time:\",end_time)\n",
    "    print(\"*\"*10)\n",
    "    print()"
   ]
  },
  {
   "cell_type": "code",
   "execution_count": 189,
   "metadata": {},
   "outputs": [],
   "source": [
    "resultados = pd.DataFrame()\n",
    "resultados[\"tiempos_secuencial\"] = tiempos_secuencial\n",
    "resultados[\"tiempos_diagonal\"] = tiempos_diagonal"
   ]
  },
  {
   "cell_type": "code",
   "execution_count": 190,
   "metadata": {},
   "outputs": [
    {
     "data": {
      "text/html": [
       "<div>\n",
       "<style scoped>\n",
       "    .dataframe tbody tr th:only-of-type {\n",
       "        vertical-align: middle;\n",
       "    }\n",
       "\n",
       "    .dataframe tbody tr th {\n",
       "        vertical-align: top;\n",
       "    }\n",
       "\n",
       "    .dataframe thead th {\n",
       "        text-align: right;\n",
       "    }\n",
       "</style>\n",
       "<table border=\"1\" class=\"dataframe\">\n",
       "  <thead>\n",
       "    <tr style=\"text-align: right;\">\n",
       "      <th></th>\n",
       "      <th>tiempos_secuencial</th>\n",
       "      <th>tiempos_diagonal</th>\n",
       "    </tr>\n",
       "  </thead>\n",
       "  <tbody>\n",
       "    <tr>\n",
       "      <th>count</th>\n",
       "      <td>20.000000</td>\n",
       "      <td>20.000000</td>\n",
       "    </tr>\n",
       "    <tr>\n",
       "      <th>mean</th>\n",
       "      <td>5.578749</td>\n",
       "      <td>0.000932</td>\n",
       "    </tr>\n",
       "    <tr>\n",
       "      <th>std</th>\n",
       "      <td>0.233497</td>\n",
       "      <td>0.000507</td>\n",
       "    </tr>\n",
       "    <tr>\n",
       "      <th>min</th>\n",
       "      <td>5.221261</td>\n",
       "      <td>0.000000</td>\n",
       "    </tr>\n",
       "    <tr>\n",
       "      <th>25%</th>\n",
       "      <td>5.469690</td>\n",
       "      <td>0.000951</td>\n",
       "    </tr>\n",
       "    <tr>\n",
       "      <th>50%</th>\n",
       "      <td>5.550394</td>\n",
       "      <td>0.000966</td>\n",
       "    </tr>\n",
       "    <tr>\n",
       "      <th>75%</th>\n",
       "      <td>5.629206</td>\n",
       "      <td>0.000998</td>\n",
       "    </tr>\n",
       "    <tr>\n",
       "      <th>max</th>\n",
       "      <td>6.121665</td>\n",
       "      <td>0.001994</td>\n",
       "    </tr>\n",
       "  </tbody>\n",
       "</table>\n",
       "</div>"
      ],
      "text/plain": [
       "       tiempos_secuencial  tiempos_diagonal\n",
       "count           20.000000         20.000000\n",
       "mean             5.578749          0.000932\n",
       "std              0.233497          0.000507\n",
       "min              5.221261          0.000000\n",
       "25%              5.469690          0.000951\n",
       "50%              5.550394          0.000966\n",
       "75%              5.629206          0.000998\n",
       "max              6.121665          0.001994"
      ]
     },
     "execution_count": 190,
     "metadata": {},
     "output_type": "execute_result"
    }
   ],
   "source": [
    "resultados.describe()"
   ]
  },
  {
   "cell_type": "markdown",
   "metadata": {},
   "source": [
    "Como se puede observar en la tabla anterior, el tiempo promedio de la potenciación utilizando la diagonalización de una matriz es de solo 0.0009 segundos, mientras que el tiempo promedio de potenciar de manera secuencial es de 5.5 segundos"
   ]
  },
  {
   "cell_type": "code",
   "execution_count": 194,
   "metadata": {},
   "outputs": [
    {
     "name": "stdout",
     "output_type": "stream",
     "text": [
      "¡la forma secuencial es 5983.549475137767 veces más lenta que la forma diagonal!\n"
     ]
    }
   ],
   "source": [
    "razon=resultados.tiempos_secuencial.mean()/resultados.tiempos_diagonal.mean()\n",
    "print(f\"¡la forma secuencial es {razon} veces más lenta que la forma diagonal!\")"
   ]
  },
  {
   "cell_type": "code",
   "execution_count": null,
   "metadata": {},
   "outputs": [],
   "source": []
  },
  {
   "cell_type": "code",
   "execution_count": null,
   "metadata": {},
   "outputs": [],
   "source": []
  }
 ],
 "metadata": {
  "kernelspec": {
   "display_name": "Python 3",
   "language": "python",
   "name": "python3"
  },
  "language_info": {
   "codemirror_mode": {
    "name": "ipython",
    "version": 3
   },
   "file_extension": ".py",
   "mimetype": "text/x-python",
   "name": "python",
   "nbconvert_exporter": "python",
   "pygments_lexer": "ipython3",
   "version": "3.7.1"
  }
 },
 "nbformat": 4,
 "nbformat_minor": 2
}
