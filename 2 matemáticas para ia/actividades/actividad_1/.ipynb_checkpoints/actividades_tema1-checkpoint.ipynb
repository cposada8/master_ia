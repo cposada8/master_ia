{
 "cells": [
  {
   "cell_type": "markdown",
   "metadata": {},
   "source": [
    "# Actividades Tema 1"
   ]
  },
  {
   "cell_type": "code",
   "execution_count": 81,
   "metadata": {},
   "outputs": [],
   "source": [
    "import pandas as pd\n",
    "import numpy as np\n",
    "import matplotlib.pyplot as plt\n",
    "\n",
    "%matplotlib inline"
   ]
  },
  {
   "cell_type": "markdown",
   "metadata": {},
   "source": [
    "## 1. Implementa en Python las funciones siguientes:"
   ]
  },
  {
   "cell_type": "markdown",
   "metadata": {},
   "source": [
    "### a) Dados dos vectores u, v ∈ R n, la proyección u sobre v y la ortogonal de u sobre v.\n"
   ]
  },
  {
   "cell_type": "code",
   "execution_count": 262,
   "metadata": {},
   "outputs": [],
   "source": [
    "def producto_escalar(v1, v2):\n",
    "    if len(v1) != len(v2):\n",
    "        return \"error: longitudes de los vectores distintas\"\n",
    "    else:\n",
    "        n = len(v1)\n",
    "        suma_prod = 0\n",
    "        for i in range(n):\n",
    "            suma_prod += v1[i]*v2[i]\n",
    "        return suma_prod\n",
    "    \n",
    "def proyeccion_u_sobre_v(u, v):\n",
    "    # Función para retornar la proyección del vector u sobre el vector v\n",
    "    numerador = producto_escalar(u, v)\n",
    "    denominador = producto_escalar(v, v)\n",
    "    \n",
    "    if denominador == 0:\n",
    "        return \"Error: el vector v es 0\"\n",
    "    else:\n",
    "        proj_u_v = (numerador/denominador)*v\n",
    "        return proj_u_v\n",
    "    \n",
    "def ortogonal_u_sobre_v(u, v):\n",
    "    # Función para retornar el vector ortogonal de u sobre v\n",
    "    return u-proyeccion_u_sobre_v(u, v)"
   ]
  },
  {
   "cell_type": "markdown",
   "metadata": {},
   "source": [
    "#### * Generar vectores aleatorios de tamaño n"
   ]
  },
  {
   "cell_type": "code",
   "execution_count": 314,
   "metadata": {},
   "outputs": [
    {
     "name": "stdout",
     "output_type": "stream",
     "text": [
      "[0.1479606  0.60027115 0.65118898]\n",
      "[0.97869561 0.22184989 0.39170439]\n"
     ]
    },
    {
     "data": {
      "text/plain": [
       "-2.7755575615628914e-17"
      ]
     },
     "execution_count": 314,
     "metadata": {},
     "output_type": "execute_result"
    }
   ],
   "source": [
    "n = 3\n",
    "vec1 = np.random.rand(n)\n",
    "vec2 = np.random.rand(n)\n",
    "proy_u_v = proyeccion_u_sobre_v(vec1, vec2)\n",
    "ort_u_v = ortogonal_u_sobre_v(vec1, vec2)\n",
    "print(vec1)\n",
    "print(vec2)\n",
    "producto_escalar(proy_u_v, ort_u_v)"
   ]
  },
  {
   "cell_type": "markdown",
   "metadata": {},
   "source": [
    "la proyección de u sobre v y la ortogonal de u sobre v son ortogonales"
   ]
  },
  {
   "cell_type": "markdown",
   "metadata": {},
   "source": [
    "#### * Demostrar que proj de u sobre v, producto escalar con ort u sobre v es 0"
   ]
  },
  {
   "cell_type": "markdown",
   "metadata": {},
   "source": [
    "![title](prueba_projxort_0.jpeg)"
   ]
  },
  {
   "cell_type": "code",
   "execution_count": null,
   "metadata": {},
   "outputs": [],
   "source": []
  },
  {
   "cell_type": "markdown",
   "metadata": {},
   "source": [
    "### b) dadas dos matrices de entrada A y B:\n",
    "* comprobación de que sus dimenciones son compatibles para realizar el producto\n",
    "* En tal caso retornar C = A*B\n",
    "* NOTA: no se puede usar ninguna función que implemente directamente el producto de dos matrices"
   ]
  },
  {
   "cell_type": "code",
   "execution_count": 364,
   "metadata": {},
   "outputs": [],
   "source": [
    "def multiplicar_matrices(A, B):\n",
    "    # función para multiplicar 2 matrices\n",
    "    # primero se verifica que las dimensiones sean correctas para proceder a la multiplicación\n",
    "    \n",
    "    n_a, m_a = A.shape # filas y columnas de A\n",
    "    n_b, m_b = B.shape # filas y columnas de B\n",
    "    C = np.zeros((n_a, m_b)) # matriz de zeros de tamaño n_a x m_b\n",
    "    if m_a != n_b:\n",
    "        return \"Error: las dimensiones de las matrices no son compatibles para el producto\"\n",
    "    else:\n",
    "        for fila_A in range(n_a):\n",
    "            for col_B in range(m_b):\n",
    "                elem = producto_escalar(A[fila_A, :], B[:, col_B])\n",
    "                C[fila_A, col_B] = elem\n",
    "        return C"
   ]
  },
  {
   "cell_type": "markdown",
   "metadata": {},
   "source": [
    "Se comprobará que la función anteriormente definida está correcta por medio de la comparación del resultado de mi solución vs la solución de un paquete de numpy que ya implementa la multiplicación matricial"
   ]
  },
  {
   "cell_type": "code",
   "execution_count": 357,
   "metadata": {},
   "outputs": [],
   "source": [
    "## Comprobación de la función\n",
    "mat1 = np.array([[1, 2],\n",
    "                [3, 4],\n",
    "                [1, 0]])\n",
    "\n",
    "mat2 = np.array([[5,6],\n",
    "                [7, 8]])"
   ]
  },
  {
   "cell_type": "code",
   "execution_count": 363,
   "metadata": {},
   "outputs": [
    {
     "name": "stdout",
     "output_type": "stream",
     "text": [
      "mi solución:\n",
      "[[19. 22.]\n",
      " [43. 50.]\n",
      " [ 5.  6.]]\n",
      "solución de python (para comprobar):\n",
      "[[19 22]\n",
      " [43 50]\n",
      " [ 5  6]]\n",
      "\n",
      "entradas iguales:\n",
      "[[ True  True]\n",
      " [ True  True]\n",
      " [ True  True]]\n"
     ]
    }
   ],
   "source": [
    "# mi solución\n",
    "mi_solucion = multiplicar_matrices(mat1, mat2)\n",
    "\n",
    "# operación para comprobar\n",
    "python_solucion = np.dot(mat1, mat2)\n",
    "\n",
    "print(\"mi solución:\")\n",
    "print(mi_solucion)\n",
    "print(\"solución de python (para comprobar):\")\n",
    "print(python_solucion)\n",
    "\n",
    "print()\n",
    "print(\"entradas iguales:\")\n",
    "print(mi_solucion==python_solucion)"
   ]
  },
  {
   "cell_type": "markdown",
   "metadata": {},
   "source": [
    "En efecto las soluciones son iguales"
   ]
  },
  {
   "cell_type": "markdown",
   "metadata": {},
   "source": [
    "### c) Dada una matriz A:\n",
    "* comprobación de que sea una matriz cuadrada\n",
    "* en tal caso calcular su determinante\n",
    "* NOTA: la implementación del determinante no debe incluir ninguna función que calcule directamente el determinante de una matriz"
   ]
  },
  {
   "cell_type": "code",
   "execution_count": 505,
   "metadata": {},
   "outputs": [],
   "source": [
    "# Lo haré por el método de cofactores"
   ]
  },
  {
   "cell_type": "code",
   "execution_count": 481,
   "metadata": {},
   "outputs": [],
   "source": [
    "def calcular_determinante(mat):\n",
    "    # esta función retorna el determinante de una matriz cuadrada\n",
    "#     print(mat)\n",
    "    n = mat.shape[0] # la matriz es de nxn\n",
    "    \n",
    "    if n == 1: # si la matriz es de tamaño 1, retorne el escalar\n",
    "        return mat[0, 0]\n",
    "    \n",
    "    determinante = 0\n",
    "    for pos_adj in range(mat.shape[1]): # por cada posición de la primera fila\n",
    "#         print(pos_adj)\n",
    "        cofactor = mat[0, pos_adj]\n",
    "        signo = (-1)**pos_adj\n",
    "#         print(cofactor*signo)\n",
    "        a = mat[1:, :pos_adj] # la submatriz a la izquierda de la columna pos_adj\n",
    "        b = mat[1:, pos_adj+1:] # la submatriz a la derecha de la columna pos_adj\n",
    "        adjunta = np.concatenate((a, b), axis=1) # la matriz adjunta\n",
    "#         print(\"shape adjunta\", adjunta.shape)\n",
    "#         print(adjunta)\n",
    "        determinante += signo*cofactor*calcular_determinante(adjunta)\n",
    "    return determinante"
   ]
  },
  {
   "cell_type": "code",
   "execution_count": 486,
   "metadata": {},
   "outputs": [
    {
     "data": {
      "text/plain": [
       "array([[  1,   2,   3,   4],\n",
       "       [  5,   6,   7,   8],\n",
       "       [  1,   2,   6,   3],\n",
       "       [ 23,  11,  22, 666]])"
      ]
     },
     "execution_count": 486,
     "metadata": {},
     "output_type": "execute_result"
    }
   ],
   "source": [
    "## Comprobación de que la función funciona\n",
    "mat1 = np.array([[1, 2, 3, 4],\n",
    "                 [5, 6, 7, 8],\n",
    "                 [1, 2,6, 3],\n",
    "                 [23, 11, 22, 666]]\n",
    ")\n",
    "mat2 = np.array([[1, 2],\n",
    "                 [3,4]])\n",
    "mat3 = np.array([[2, 3, 1],\n",
    "                 [0, -2, 5],\n",
    "                 [3, 7, -4]])\n",
    "mat1"
   ]
  },
  {
   "cell_type": "code",
   "execution_count": 504,
   "metadata": {},
   "outputs": [
    {
     "name": "stdout",
     "output_type": "stream",
     "text": [
      "[[  1   2   3   4]\n",
      " [  5   6   7   8]\n",
      " [  1   2   6   3]\n",
      " [ 23  11  22 666]]\n",
      "determinante python: -8239.999999999998\n",
      "determinante mío: -8240\n",
      "\n",
      "[[1 2]\n",
      " [3 4]]\n",
      "determinante python: -2.0000000000000004\n",
      "determinante mío: -2\n",
      "\n",
      "[[ 2  3  1]\n",
      " [ 0 -2  5]\n",
      " [ 3  7 -4]]\n",
      "determinante python: -2.9999999999999982\n",
      "determinante mío: -3\n",
      "\n",
      "[[7.27969964e-02 3.89034306e-01 5.44473505e-01 9.00105335e-01\n",
      "  2.75731959e-01 1.12678227e-03 8.61464847e-01 6.66955217e-01]\n",
      " [3.86700287e-01 6.02806072e-01 5.82101743e-01 3.07507069e-01\n",
      "  9.12020781e-01 6.49984823e-01 8.10009746e-01 2.96500027e-01]\n",
      " [7.87712638e-01 9.34023747e-01 8.87378000e-06 5.67915910e-01\n",
      "  6.49385281e-01 6.09836242e-01 1.87989192e-01 1.02661103e-01]\n",
      " [3.14236907e-01 2.87315674e-01 6.28134649e-02 6.25263175e-01\n",
      "  4.99045630e-01 5.67204309e-02 5.08926928e-02 8.89799486e-01]\n",
      " [9.89097158e-01 4.91160108e-01 6.31162350e-01 5.36687769e-01\n",
      "  7.18662702e-01 5.64471459e-01 2.26998598e-02 2.27262993e-01]\n",
      " [2.35774226e-01 9.20837781e-01 6.32605260e-01 6.01478389e-01\n",
      "  1.00926181e-01 6.22473989e-01 5.39960691e-01 6.02559049e-01]\n",
      " [8.91586580e-01 6.79186545e-01 8.01334993e-01 4.82507307e-01\n",
      "  9.66252461e-01 8.05754998e-01 3.90268928e-01 2.88557704e-02]\n",
      " [4.00243893e-01 2.10560611e-01 1.04517872e-01 4.85830654e-01\n",
      "  2.00409474e-01 6.97596725e-02 9.99860250e-01 9.80017426e-01]]\n",
      "determinante python: -0.009007500606231853\n",
      "determinante mío: -0.009007500606231802\n",
      "\n"
     ]
    }
   ],
   "source": [
    "def comparar_matrices(mat):\n",
    "    print(mat)\n",
    "    print(\"determinante python:\", np.linalg.det(mat))\n",
    "    print(\"determinante mío:\",calcular_determinante(mat))\n",
    "    print()\n",
    "for mat in [mat1, mat2, mat3, np.random.rand(8,8)]:\n",
    "    comparar_matrices(mat)"
   ]
  },
  {
   "cell_type": "code",
   "execution_count": null,
   "metadata": {},
   "outputs": [],
   "source": []
  },
  {
   "cell_type": "code",
   "execution_count": null,
   "metadata": {},
   "outputs": [],
   "source": []
  }
 ],
 "metadata": {
  "kernelspec": {
   "display_name": "Python 3",
   "language": "python",
   "name": "python3"
  },
  "language_info": {
   "codemirror_mode": {
    "name": "ipython",
    "version": 3
   },
   "file_extension": ".py",
   "mimetype": "text/x-python",
   "name": "python",
   "nbconvert_exporter": "python",
   "pygments_lexer": "ipython3",
   "version": "3.7.1"
  }
 },
 "nbformat": 4,
 "nbformat_minor": 2
}
