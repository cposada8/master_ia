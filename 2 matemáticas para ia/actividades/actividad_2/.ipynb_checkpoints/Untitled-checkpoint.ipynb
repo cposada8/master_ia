{
 "cells": [
  {
   "cell_type": "markdown",
   "metadata": {},
   "source": [
    "# Actividad 2 del curso Matemática para la inteligencia artifical"
   ]
  },
  {
   "cell_type": "markdown",
   "metadata": {},
   "source": [
    "En este notebook se solucionarán los problemas planteados para la Actividad 2 del curso"
   ]
  },
  {
   "cell_type": "code",
   "execution_count": 228,
   "metadata": {},
   "outputs": [],
   "source": [
    "import numpy as np\n",
    "import math\n",
    "import matplotlib.pyplot as plt "
   ]
  },
  {
   "cell_type": "code",
   "execution_count": null,
   "metadata": {},
   "outputs": [],
   "source": []
  },
  {
   "cell_type": "markdown",
   "metadata": {},
   "source": [
    "## 1. Programese el método de bisección\n",
    "Aplíquese para aproximar la solución de las ecuaciones:\n",
    "- f1: x = cos(x), x en [0,pi/2]\n",
    "- f2: x^3 + x -1 = 0, x en [0, 1]\n",
    "\n",
    "Ambas con un error menor que 10^-10"
   ]
  },
  {
   "cell_type": "code",
   "execution_count": 319,
   "metadata": {},
   "outputs": [],
   "source": [
    "def biseccion(f, a, b, rho=10**-10):\n",
    "    if f(a)*f(b)>=0:\n",
    "        if f(a) <= rho:\n",
    "            return a\n",
    "        if f(b) <= rho:\n",
    "            return b\n",
    "        return f\"No solutión in the interval [{a}, {b}]\"\n",
    "    \n",
    "    xl = a\n",
    "    xr = b\n",
    "    \n",
    "    xm = (xl+xr)/2\n",
    "    if abs(xr-xl)<2*rho:\n",
    "        return xm\n",
    "    \n",
    "    if f(xl)*f(xm)<0:\n",
    "        xr = xm\n",
    "    else:\n",
    "        xl = xm\n",
    "    return biseccion(f, xl, xr, rho)\n",
    "\n",
    "\n",
    "# Función auxiliar para verificar las soluciones de bisección\n",
    "# de manera gráfica\n",
    "def plot_function(f, xmin, xmax, num_points=100, plot_zero_line = True):\n",
    "    # esta función hará un plot de la gráfica de una función\n",
    "    # xmin: el valor mínimo para la coordenada x\n",
    "    # xmax: el valor máximo para la coordenada x\n",
    "    # f: la función a plottear\n",
    "    # num_points(opcional): la discretización el eje x \n",
    "    # plot_zero_line(opcional): dibujar la línea del 0?\n",
    "    xs = np.linspace(xmin, xmax, num_points)\n",
    "    fxs = [f(x) for x in xs]\n",
    "    cero_line = np.zeros(len(xs))\n",
    "    \n",
    "    plt.plot(xs, fxs)\n",
    "    if plot_zero_line:\n",
    "        plt.plot(xs, cero_line, color=\"red\")\n",
    "    plt.show()"
   ]
  },
  {
   "cell_type": "code",
   "execution_count": 320,
   "metadata": {},
   "outputs": [],
   "source": [
    "def f1(x):\n",
    "    # función cos(x)=x re escrita como cos(x)-x=0\n",
    "    return math.cos(x)-x\n",
    "\n",
    "def f2(x):\n",
    "    return x**3+x-1"
   ]
  },
  {
   "cell_type": "code",
   "execution_count": null,
   "metadata": {},
   "outputs": [],
   "source": []
  },
  {
   "cell_type": "markdown",
   "metadata": {},
   "source": [
    "### solución a f1: x = cos(x), x en [0,pi/2]\n",
    "la solución la puede verificar en:\n",
    "https://www.wolframalpha.com/input/?i=x%3Dcos%28x%29"
   ]
  },
  {
   "cell_type": "code",
   "execution_count": 322,
   "metadata": {},
   "outputs": [
    {
     "data": {
      "image/png": "[encoded data removed]",
      "text/plain": [
       "<Figure size 432x288 with 1 Axes>"
      ]
     },
     "metadata": {
      "needs_background": "light"
     },
     "output_type": "display_data"
    },
    {
     "name": "stdout",
     "output_type": "stream",
     "text": [
      "la solución se encontró en x=0.7390851332909909\n"
     ]
    }
   ],
   "source": [
    "plot_function(f1, 0, np.pi/2)\n",
    "solucion1 = biseccion(f1, 0, np.pi/2)\n",
    "print(f\"la solución se encontró en x={solucion1}\")"
   ]
  },
  {
   "cell_type": "code",
   "execution_count": null,
   "metadata": {},
   "outputs": [],
   "source": []
  },
  {
   "cell_type": "markdown",
   "metadata": {},
   "source": [
    "### solución a f2: x^3 + x -1 = 0, x en [0, 1]\n",
    "La solución la puede verificar en:\n",
    "https://www.wolframalpha.com/input/?i=x%5E3%2Bx-1%3D0"
   ]
  },
  {
   "cell_type": "code",
   "execution_count": 323,
   "metadata": {
    "scrolled": false
   },
   "outputs": [
    {
     "data": {
      "image/png": "[encoded data removed]",
      "text/plain": [
       "<Figure size 432x288 with 1 Axes>"
      ]
     },
     "metadata": {
      "needs_background": "light"
     },
     "output_type": "display_data"
    },
    {
     "name": "stdout",
     "output_type": "stream",
     "text": [
      "la solución se encontró en x=0.6823278038646095\n"
     ]
    }
   ],
   "source": [
    "plot_function(f2, 0, 1)\n",
    "solucion2 = biseccion(f2, 0, 1)\n",
    "print(f\"la solución se encontró en x={solucion2}\")"
   ]
  },
  {
   "cell_type": "code",
   "execution_count": null,
   "metadata": {},
   "outputs": [],
   "source": []
  },
  {
   "cell_type": "code",
   "execution_count": null,
   "metadata": {},
   "outputs": [],
   "source": []
  },
  {
   "cell_type": "code",
   "execution_count": null,
   "metadata": {},
   "outputs": [],
   "source": []
  },
  {
   "cell_type": "markdown",
   "metadata": {},
   "source": [
    "## 2. Problema del número óptimo de procesadores\n",
    "Este problema se enuncia en el punto 2 del pdf de la actividad 2."
   ]
  },
  {
   "cell_type": "markdown",
   "metadata": {},
   "source": [
    "A continuación se presenta una imagen con la demostración del dejercicio"
   ]
  },
  {
   "cell_type": "markdown",
   "metadata": {},
   "source": [
    "![title](demostracion_punto2.jpeg)"
   ]
  },
  {
   "cell_type": "code",
   "execution_count": null,
   "metadata": {},
   "outputs": [],
   "source": []
  },
  {
   "cell_type": "markdown",
   "metadata": {},
   "source": [
    "Según la demostración, 63 es el número óptimo de procesadores a usar. \n",
    "¡Grafiquémoslo!\n",
    "\n",
    "\n",
    "Además encontremos ese máximo de forma numérica creando una malla que va de 1 en 1 y evaluando la función en cada uno de estos puntos"
   ]
  },
  {
   "cell_type": "code",
   "execution_count": 378,
   "metadata": {},
   "outputs": [],
   "source": [
    "def eficiencia_total(x):\n",
    "    # Esta función retorna la eficiencia total\n",
    "    # de un escenario planteado en el ejercicio 2\n",
    "    return x*(1-0.008*(x-1))"
   ]
  },
  {
   "cell_type": "code",
   "execution_count": 379,
   "metadata": {},
   "outputs": [
    {
     "name": "stdout",
     "output_type": "stream",
     "text": [
      "el número óptimo de procesadores es: 63\n",
      "presentando una eficiencia máxima total de: 31.752\n"
     ]
    },
    {
     "data": {
      "image/png": "[encoded data removed]",
      "text/plain": [
       "<Figure size 432x288 with 1 Axes>"
      ]
     },
     "metadata": {
      "needs_background": "light"
     },
     "output_type": "display_data"
    }
   ],
   "source": [
    "xs = range(0, 101)\n",
    "effx = [eficiencia_total(x) for x in xs]\n",
    "max_eff = max(effx)\n",
    "x_optimo = effx.index(max_eff)\n",
    "print(f\"el número óptimo de procesadores es: {x_optimo}\")\n",
    "print(f\"presentando una eficiencia máxima total de: {max_eff}\")\n",
    "\n",
    "plt.plot(xs, effx)\n",
    "plt.scatter(x_optimo, max_eff, color=\"red\", label=\"máximo\")\n",
    "plt.ylabel(\"Eficiencia Total\")\n",
    "plt.xlabel(\"Número de procesadores\")\n",
    "plt.title(\"Eficiencia total por número de procesadores\")\n",
    "plt.legend()\n",
    "plt.show()"
   ]
  },
  {
   "cell_type": "code",
   "execution_count": null,
   "metadata": {},
   "outputs": [],
   "source": []
  },
  {
   "cell_type": "code",
   "execution_count": null,
   "metadata": {},
   "outputs": [],
   "source": []
  },
  {
   "cell_type": "code",
   "execution_count": null,
   "metadata": {},
   "outputs": [],
   "source": []
  },
  {
   "cell_type": "markdown",
   "metadata": {},
   "source": [
    "## 3. Elabora las siguientes funciones en python\n",
    "- a) Dados los coeficientes de un polinomio almacenados en un vector, devuelve otro vector con los coeficientes del polinomio resultante de su derivada\n",
    "- b) Generaliza la funcion anterior para calcular los coeficientes de la derivada de cualquier orden (por tanto el orden de derivación será una entrada adicional de la función)"
   ]
  },
  {
   "cell_type": "code",
   "execution_count": 380,
   "metadata": {},
   "outputs": [],
   "source": [
    "def derivar_termino(coef, exponente):\n",
    "    return exponente*coef, exponente-1\n",
    "\n",
    "def derivar_polinomio(coefs):\n",
    "    n_max = len(coefs)-1\n",
    "    coefs_derivados = []\n",
    "    for i in range(len(coefs)):\n",
    "        n = n_max-i\n",
    "        coef = coefs[i]\n",
    "        new_coef, new_exp = derivar_termino(coef, n)\n",
    "        if new_exp != -1:\n",
    "            coefs_derivados.append(new_coef)\n",
    "    \n",
    "    # si fue la derivación de una constante, entregue 0\n",
    "    if len(coefs_derivados)==0:\n",
    "        coefs_derivados.append(0)\n",
    "    return coefs_derivados\n",
    "\n",
    "\n",
    "def derivar_polinomio_n_veces(coefs, orden=1):\n",
    "    # función que utiliza derivar_polinomio para\n",
    "    # generar la derivada de orden \"orden\"\n",
    "    coefs_deriv= coefs.copy()\n",
    "    for i in range(orden):\n",
    "        coefs_deriv = derivar_polinomio(coefs_deriv)\n",
    "    return coefs_deriv"
   ]
  },
  {
   "cell_type": "code",
   "execution_count": 381,
   "metadata": {},
   "outputs": [],
   "source": [
    "# Funciones auxiliares para pintar coeficientes\n",
    "def pintar_termino(coeficiente, exponente):\n",
    "    if coeficiente == 0:\n",
    "        return \"0\"\n",
    "    \n",
    "    if exponente == 0:\n",
    "        return str(coeficiente)\n",
    "    \n",
    "    if exponente == 1:\n",
    "        return f\"{coeficiente}x\"\n",
    "    \n",
    "    return f\"{coeficiente}x^{exponente}\"\n",
    "\n",
    "def pintar_polinomio(coefs):\n",
    "    n_max = len(coefs)-1\n",
    "    str_polinomio = \"\"\n",
    "    for i in range(len(coefs)):\n",
    "        n = n_max-i\n",
    "        coef = coefs[i]\n",
    "        str_termino = pintar_termino(coef, n) \n",
    "        \n",
    "        if str_termino != \"0\":\n",
    "            signo = \" + \" if coef>0 else \" \"\n",
    "            if(i==0): signo=\"\"\n",
    "            str_polinomio += signo+str_termino\n",
    "    if len(str_polinomio) == 0:\n",
    "        str_polinomio = \"0\"\n",
    "    return str_polinomio"
   ]
  },
  {
   "cell_type": "code",
   "execution_count": null,
   "metadata": {},
   "outputs": [],
   "source": []
  },
  {
   "cell_type": "markdown",
   "metadata": {},
   "source": [
    "### Probemos las funciones"
   ]
  },
  {
   "cell_type": "markdown",
   "metadata": {},
   "source": [
    "#### Un Ejemplo\n",
    "A continuación se comprobará con un ejemplo que las funciones anteriormente definidas funcionan correctamente.\n",
    "\n",
    "Se utilizará la siguiente función y sus derivadas que fueron previamente calculadas (es fácil que compruebe los resultados:\n",
    "\n",
    "- f(x)     = 23x^3+ 3x^2 +19x+ 92\n",
    "- f'(x)    = 69x^2 + 6x + 19\n",
    "- f''(x)   = 138x+6\n",
    "- f'''(x)  = 138\n",
    "- f''''(x) = 0"
   ]
  },
  {
   "cell_type": "code",
   "execution_count": 244,
   "metadata": {},
   "outputs": [
    {
     "name": "stdout",
     "output_type": "stream",
     "text": [
      "coeficientes de f(x)= 23x^3 + 3x^2 + 19x + 92\n",
      "coeficientes de f'(x)= 69x^2 + 6x + 19\n",
      "coeficientes de f''(x)= 138x + 6\n",
      "coeficientes de f'''(x)= 138\n",
      "coeficientes de f''''(x)= 0\n"
     ]
    }
   ],
   "source": [
    "# los coeficientes de la función mencionada en el texto anterior\n",
    "coefs = [23, 3, 19, 92]\n",
    "\n",
    "for i in range(5):\n",
    "    coefs_derivados = derivar_polinomio_n_veces(coefs, i)\n",
    "    print(\"coeficientes de f\"+\"'\"*i+\"(x)= \"+pintar_polinomio(coefs_derivados))"
   ]
  },
  {
   "cell_type": "markdown",
   "metadata": {},
   "source": [
    "Como se puede observar, se calcularon correctamente los coeficientes de las derivadas anteriormente mencionadas"
   ]
  },
  {
   "cell_type": "code",
   "execution_count": null,
   "metadata": {},
   "outputs": [],
   "source": []
  },
  {
   "cell_type": "markdown",
   "metadata": {},
   "source": [
    "#### ¡Juegue usted mismo!\n",
    "En esta sección lo invito a que agregue los coeficientes del polinomio que dese y a su vez diga el orden de integración. Se utilizarán las funciones anteriormente definidas para calcular cada una de las derivadas entre la 1 y la del orden que desee."
   ]
  },
  {
   "cell_type": "code",
   "execution_count": 269,
   "metadata": {},
   "outputs": [
    {
     "name": "stdout",
     "output_type": "stream",
     "text": [
      "coeficientes de f(x)= 3x^6 + 3x^4 + 5x^3 + 4x^2 + 1x + 3\n",
      "coeficientes de f'(x)= 18x^5 + 12x^3 + 15x^2 + 8x + 1\n",
      "coeficientes de f''(x)= 90x^4 + 36x^2 + 30x + 8\n",
      "coeficientes de f'''(x)= 360x^3 + 72x + 30\n",
      "coeficientes de f''''(x)= 1080x^2 + 72\n",
      "coeficientes de f'''''(x)= 2160x\n",
      "coeficientes de f''''''(x)= 2160\n",
      "coeficientes de f'''''''(x)= 0\n",
      "coeficientes de f''''''''(x)= 0\n",
      "coeficientes de f'''''''''(x)= 0\n"
     ]
    }
   ],
   "source": [
    "coefs = [3, 0, 3, 5, 4, 1, 3] # juegue con estos coeficientes\n",
    "orden_deriv =  9 # también cambie el orden de integración\n",
    "for i in range(orden_deriv+1):\n",
    "    coefs_derivados = derivar_polinomio_n_veces(coefs, i)\n",
    "    print(\"coeficientes de f\"+\"'\"*i+\"(x)= \"+pintar_polinomio(coefs_derivados))"
   ]
  },
  {
   "cell_type": "code",
   "execution_count": null,
   "metadata": {},
   "outputs": [],
   "source": []
  },
  {
   "cell_type": "markdown",
   "metadata": {},
   "source": [
    "#### Ahora en serio\n",
    "En esta sección podrá definir el arreglo _**coefs**_ y dar un valor al orden de integración _**orden**_ y obtendra los coeficientes del polinomio luego de aplicar la derivada ese número de veces."
   ]
  },
  {
   "cell_type": "code",
   "execution_count": 270,
   "metadata": {},
   "outputs": [
    {
     "name": "stdout",
     "output_type": "stream",
     "text": [
      "f(x)=  23x^5 -92x^2 + 28x + 21\n",
      "\n",
      "De forma estilizada:\n",
      "f''(x)= 460x^3 -184\n",
      "\n",
      "coeficientes derivados:\n",
      "[460, 0, 0, -184]\n"
     ]
    }
   ],
   "source": [
    "coefs = [23, 0, 0, -92, 28, 21]\n",
    "orden = 2\n",
    "\n",
    "coefs_derivados = derivar_polinomio_n_veces(coefs, orden)\n",
    "\n",
    "print(\"f(x)= \", pintar_polinomio(coefs))\n",
    "print()\n",
    "print(\"De forma estilizada:\")\n",
    "print(\"f\"+\"'\"*orden + \"(x)=\", pintar_polinomio(coefs_derivados))\n",
    "print()\n",
    "print(\"coeficientes derivados:\")\n",
    "print(coefs_derivados)"
   ]
  },
  {
   "cell_type": "code",
   "execution_count": null,
   "metadata": {},
   "outputs": [],
   "source": []
  },
  {
   "cell_type": "code",
   "execution_count": null,
   "metadata": {},
   "outputs": [],
   "source": []
  },
  {
   "cell_type": "code",
   "execution_count": null,
   "metadata": {},
   "outputs": [],
   "source": []
  },
  {
   "cell_type": "code",
   "execution_count": null,
   "metadata": {},
   "outputs": [],
   "source": []
  },
  {
   "cell_type": "code",
   "execution_count": null,
   "metadata": {},
   "outputs": [],
   "source": []
  },
  {
   "cell_type": "markdown",
   "metadata": {},
   "source": [
    "## integral"
   ]
  },
  {
   "cell_type": "code",
   "execution_count": 383,
   "metadata": {},
   "outputs": [],
   "source": [
    "def integracion_medio(f, a, b, n=10):\n",
    "    h = (b-a)/n\n",
    "    sumatoria = 0\n",
    "    for i in range(n):\n",
    "        actual = f(a+(i+1/2)*h)\n",
    "        sumatoria+=actual\n",
    "    return h*sumatoria"
   ]
  },
  {
   "cell_type": "code",
   "execution_count": 384,
   "metadata": {},
   "outputs": [
    {
     "data": {
      "text/plain": [
       "0.9999815144137761"
      ]
     },
     "execution_count": 384,
     "metadata": {},
     "output_type": "execute_result"
    }
   ],
   "source": [
    "integracion_medio(lambda x: x*np.exp(x), 0, 1, 100)"
   ]
  },
  {
   "cell_type": "code",
   "execution_count": null,
   "metadata": {},
   "outputs": [],
   "source": []
  },
  {
   "cell_type": "code",
   "execution_count": null,
   "metadata": {},
   "outputs": [],
   "source": []
  },
  {
   "cell_type": "code",
   "execution_count": null,
   "metadata": {},
   "outputs": [],
   "source": []
  },
  {
   "cell_type": "code",
   "execution_count": null,
   "metadata": {},
   "outputs": [],
   "source": []
  },
  {
   "cell_type": "code",
   "execution_count": null,
   "metadata": {},
   "outputs": [],
   "source": []
  },
  {
   "cell_type": "code",
   "execution_count": null,
   "metadata": {},
   "outputs": [],
   "source": []
  },
  {
   "cell_type": "code",
   "execution_count": null,
   "metadata": {},
   "outputs": [],
   "source": []
  },
  {
   "cell_type": "code",
   "execution_count": null,
   "metadata": {},
   "outputs": [],
   "source": []
  },
  {
   "cell_type": "code",
   "execution_count": null,
   "metadata": {},
   "outputs": [],
   "source": []
  },
  {
   "cell_type": "code",
   "execution_count": null,
   "metadata": {},
   "outputs": [],
   "source": []
  }
 ],
 "metadata": {
  "kernelspec": {
   "display_name": "Python 3",
   "language": "python",
   "name": "python3"
  },
  "language_info": {
   "codemirror_mode": {
    "name": "ipython",
    "version": 3
   },
   "file_extension": ".py",
   "mimetype": "text/x-python",
   "name": "python",
   "nbconvert_exporter": "python",
   "pygments_lexer": "ipython3",
   "version": "3.7.1"
  }
 },
 "nbformat": 4,
 "nbformat_minor": 2
}
