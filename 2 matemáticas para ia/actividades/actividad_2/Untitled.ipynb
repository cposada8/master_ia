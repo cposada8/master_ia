{
 "cells": [
  {
   "cell_type": "markdown",
   "metadata": {},
   "source": [
    "# Actividad 2 del curso Matemática para la inteligencia artifical"
   ]
  },
  {
   "cell_type": "markdown",
   "metadata": {},
   "source": [
    "En este notebook se solucionarán los problemas planteados para la Actividad 2 del curso"
   ]
  },
  {
   "cell_type": "code",
   "execution_count": 30,
   "metadata": {},
   "outputs": [],
   "source": [
    "import numpy as np\n",
    "import math\n",
    "import matplotlib.pyplot as plt"
   ]
  },
  {
   "cell_type": "code",
   "execution_count": null,
   "metadata": {},
   "outputs": [],
   "source": []
  },
  {
   "cell_type": "markdown",
   "metadata": {},
   "source": [
    "## 1. Programese el método de bisección\n",
    "Aplíquese para aproximar la solución de las ecuaciones:\n",
    "- f1: x = cos(x), x en [0,pi/2]\n",
    "- f2: x^3 + x -1 = 0, x en [0, 1]\n",
    "\n",
    "Ambas con un error menor que 10^-10"
   ]
  },
  {
   "cell_type": "code",
   "execution_count": 56,
   "metadata": {},
   "outputs": [],
   "source": [
    "def biseccion(a, b, f, rho=10**-10):\n",
    "    if f(a)*f(b)>=0:\n",
    "        if f(a) <= rho:\n",
    "            return a\n",
    "        if f(b) <= rho:\n",
    "            return b\n",
    "        return f\"No solutión in the interval [{a}, {b}]\"\n",
    "    \n",
    "    xl = a\n",
    "    xr = b\n",
    "    \n",
    "    xm = (xl+xr)/2\n",
    "    if abs(xr-xl)<2*rho:\n",
    "        return xm\n",
    "    \n",
    "    if f(xl)*f(xm)<0:\n",
    "        xr = xm\n",
    "    else:\n",
    "        xl = xm\n",
    "    return biseccion(xl, xr, f, rho)\n",
    "\n",
    "\n",
    "# Función auxiliar para verificar las soluciones de bisección\n",
    "# de manera gráfica\n",
    "def plot_function(xmin, xmax, f, num_points=100, plot_zero_line = True):\n",
    "    # esta función hará un plot de la gráfica de una función\n",
    "    # xmin: el valor mínimo para la coordenada x\n",
    "    # xmax: el valor máximo para la coordenada x\n",
    "    # f: la función a plottear\n",
    "    # num_points(opcional): la discretización el eje x \n",
    "    # plot_zero_line(opcional): dibujar la línea del 0?\n",
    "    xs = np.linspace(xmin, xmax, num_points)\n",
    "    fxs = [f(x) for x in xs]\n",
    "    cero_line = np.zeros(len(xs))\n",
    "    \n",
    "    plt.plot(xs, fxs)\n",
    "    plt.plot(xs, cero_line, color=\"red\")\n",
    "    plt.show()"
   ]
  },
  {
   "cell_type": "code",
   "execution_count": 63,
   "metadata": {},
   "outputs": [],
   "source": [
    "def f1(x):\n",
    "    # función cos(x)=x re escrita como cos(x)-x=0\n",
    "    return math.cos(x)-x\n",
    "\n",
    "def f2(x):\n",
    "    return x**3+x-1"
   ]
  },
  {
   "cell_type": "code",
   "execution_count": null,
   "metadata": {},
   "outputs": [],
   "source": []
  },
  {
   "cell_type": "markdown",
   "metadata": {},
   "source": [
    "### solución a f1: x = cos(x), x en [0,pi/2]\n",
    "la solución la puede verificar en:\n",
    "https://www.wolframalpha.com/input/?i=x%3Dcos%28x%29"
   ]
  },
  {
   "cell_type": "code",
   "execution_count": 68,
   "metadata": {},
   "outputs": [
    {
     "data": {
      "image/png": "[encoded data removed]",
      "text/plain": [
       "<Figure size 432x288 with 1 Axes>"
      ]
     },
     "metadata": {
      "needs_background": "light"
     },
     "output_type": "display_data"
    },
    {
     "name": "stdout",
     "output_type": "stream",
     "text": [
      "la solución se encontró en x=0.7390851332909909\n"
     ]
    }
   ],
   "source": [
    "plot_function(0, np.pi/2, f1)\n",
    "solucion1 = biseccion(0, np.pi/2, f1)\n",
    "print(f\"la solución se encontró en x={solucion1}\")"
   ]
  },
  {
   "cell_type": "code",
   "execution_count": null,
   "metadata": {},
   "outputs": [],
   "source": []
  },
  {
   "cell_type": "markdown",
   "metadata": {},
   "source": [
    "### solución a f2: x^3 + x -1 = 0, x en [0, 1]\n",
    "La solución la puede verificar en:\n",
    "https://www.wolframalpha.com/input/?i=x%5E3%2Bx-1%3D0"
   ]
  },
  {
   "cell_type": "code",
   "execution_count": 71,
   "metadata": {},
   "outputs": [
    {
     "data": {
      "image/png": "[encoded data removed]",
      "text/plain": [
       "<Figure size 432x288 with 1 Axes>"
      ]
     },
     "metadata": {
      "needs_background": "light"
     },
     "output_type": "display_data"
    },
    {
     "name": "stdout",
     "output_type": "stream",
     "text": [
      "la solución se encontró en x=0.6823278038646095\n"
     ]
    }
   ],
   "source": [
    "plot_function(0, 1, f2)\n",
    "solucion2 = biseccion(0, 1, f2)\n",
    "print(f\"la solución se encontró en x={solucion2}\")"
   ]
  },
  {
   "cell_type": "code",
   "execution_count": null,
   "metadata": {},
   "outputs": [],
   "source": []
  },
  {
   "cell_type": "markdown",
   "metadata": {},
   "source": [
    "## 3. Elabora las siguientes funciones en python\n",
    "- a) Dados los coeficientes de un polinomio almacenados en un vector, devuelve otro vector con los coeficientes del polinomio resultante de su derivada\n",
    "- b) Generaliza la funcion anterior para calcular los coeficientes de la derivada de cualquier orden (por tanto el orden de derivación será una entrada adicional de la función)"
   ]
  },
  {
   "cell_type": "code",
   "execution_count": 170,
   "metadata": {},
   "outputs": [],
   "source": [
    "def derivar_termino(coef, exponente):\n",
    "    return exponente*coef, exponente-1\n",
    "\n",
    "def derivar_polinomio(coefs):\n",
    "    n_max = len(coefs)-1\n",
    "    coefs_derivados = []\n",
    "    for i in range(len(coefs)):\n",
    "        n = n_max-i\n",
    "        coef = coefs[i]\n",
    "        new_coef, new_exp = derivar_termino(coef, n)\n",
    "        if new_exp != -1:\n",
    "            coefs_derivados.append(new_coef)\n",
    "    \n",
    "    # si fue la derivación de una constante, entregue 0\n",
    "    if len(coefs_derivados)==0:\n",
    "        coefs_derivados.append(0)\n",
    "    return coefs_derivados\n",
    "\n",
    "\n",
    "def derivar_polinomio_n_veces(coefs, orden=1):\n",
    "    # función que utiliza derivar_polinomio para\n",
    "    # generar la derivada de orden \"orden\"\n",
    "    coefs_deriv= coefs.copy()\n",
    "    for i in range(orden):\n",
    "        coefs_deriv = derivar_polinomio(coefs_deriv)\n",
    "    return coefs_deriv"
   ]
  },
  {
   "cell_type": "code",
   "execution_count": null,
   "metadata": {},
   "outputs": [],
   "source": []
  },
  {
   "cell_type": "markdown",
   "metadata": {},
   "source": [
    "### Probemos las funciones"
   ]
  },
  {
   "cell_type": "markdown",
   "metadata": {},
   "source": [
    "#### Un Ejemplo\n",
    "A continuación se comprobará con un ejemplo que las funciones anteriormente definidas funcionan correctamente.\n",
    "\n",
    "Se utilizará la siguiente función y sus derivadas que fueron previamente calculadas (es fácil que compruebe los resultados:\n",
    "\n",
    "- f(x)     = 23x^3+ 3x^2 +19x+ 92\n",
    "- f'(x)    = 69x^2 + 6x + 19\n",
    "- f''(x)   = 138x+6\n",
    "- f'''(x)  = 138\n",
    "- f''''(x) = 0"
   ]
  },
  {
   "cell_type": "code",
   "execution_count": 169,
   "metadata": {},
   "outputs": [
    {
     "name": "stdout",
     "output_type": "stream",
     "text": [
      "coeficientes de f(x): [23, 3, 19, 92]\n",
      "coeficientes de f'(x): [69, 6, 19]\n",
      "coeficientes de f''(x): [138, 6]\n",
      "coeficientes de f'''(x): [138]\n",
      "coeficientes de f''''(x): [0]\n"
     ]
    }
   ],
   "source": [
    "# los coeficientes de la función mencionada en el texto anterior\n",
    "coefs = [23, 3, 19, 92]\n",
    "\n",
    "\n",
    "for i in range(5):\n",
    "    coefs_derivados = derivar_polinomio_n_veces(coefs, i)\n",
    "    print(\"coeficientes de f\"+\"'\"*i+\"(x): \"+str(coefs_derivados))"
   ]
  },
  {
   "cell_type": "markdown",
   "metadata": {},
   "source": [
    "Como se puede observar, se calcularon correctamente los coeficientes de las derivadas anteriormente mencionadas"
   ]
  },
  {
   "cell_type": "code",
   "execution_count": null,
   "metadata": {},
   "outputs": [],
   "source": []
  },
  {
   "cell_type": "markdown",
   "metadata": {},
   "source": [
    "#### ¡Juegue usted mismo!\n",
    "En esta sección lo invito a que agregue los coeficientes del polinomio que dese y a su vez diga el orden de integración. Se utilizarán las funciones anteriormente definidas para calcular cada una de las derivadas entre la 1 y la del orden que desee."
   ]
  },
  {
   "cell_type": "code",
   "execution_count": 173,
   "metadata": {},
   "outputs": [
    {
     "name": "stdout",
     "output_type": "stream",
     "text": [
      "coeficientes de f(x): [3, 2, 3, 5, 2, 1, 3]\n",
      "coeficientes de f'(x): [18, 10, 12, 15, 4, 1]\n",
      "coeficientes de f''(x): [90, 40, 36, 30, 4]\n",
      "coeficientes de f'''(x): [360, 120, 72, 30]\n",
      "coeficientes de f''''(x): [1080, 240, 72]\n",
      "coeficientes de f'''''(x): [2160, 240]\n",
      "coeficientes de f''''''(x): [2160]\n",
      "coeficientes de f'''''''(x): [0]\n",
      "coeficientes de f''''''''(x): [0]\n",
      "coeficientes de f'''''''''(x): [0]\n"
     ]
    }
   ],
   "source": [
    "coefs = [3, 2, 3, 5, 2, 1, 3] # juegue con estos coeficientes\n",
    "orden_deriv =  9 # también cambie el orden de integración\n",
    "for i in range(orden_deriv+1):\n",
    "    coefs_derivados = derivar_polinomio_n_veces(coefs, i)\n",
    "    print(\"coeficientes de f\"+\"'\"*i+\"(x): \"+str(coefs_derivados))"
   ]
  },
  {
   "cell_type": "code",
   "execution_count": null,
   "metadata": {},
   "outputs": [],
   "source": []
  },
  {
   "cell_type": "code",
   "execution_count": null,
   "metadata": {},
   "outputs": [],
   "source": []
  },
  {
   "cell_type": "code",
   "execution_count": null,
   "metadata": {},
   "outputs": [],
   "source": []
  },
  {
   "cell_type": "code",
   "execution_count": 119,
   "metadata": {},
   "outputs": [
    {
     "name": "stdout",
     "output_type": "stream",
     "text": [
      "2x^2\n",
      "4 1\n",
      "3x^1\n",
      "3 0\n",
      "1x^0\n",
      "0 -1\n",
      "4x^1\n",
      "4 0\n",
      "3x^0\n",
      "0 -1\n",
      "4x^0\n",
      "0 -1\n"
     ]
    },
    {
     "data": {
      "text/plain": [
       "[0]"
      ]
     },
     "execution_count": 119,
     "metadata": {},
     "output_type": "execute_result"
    }
   ],
   "source": [
    "derivar_polinomio_n_veces([2, 3, 1], 3)"
   ]
  },
  {
   "cell_type": "code",
   "execution_count": 117,
   "metadata": {},
   "outputs": [
    {
     "name": "stdout",
     "output_type": "stream",
     "text": [
      "2x^2\n",
      "4 1\n",
      "3x^1\n",
      "3 0\n",
      "1x^0\n",
      "0 -1\n"
     ]
    },
    {
     "data": {
      "text/plain": [
       "[4, 3]"
      ]
     },
     "execution_count": 117,
     "metadata": {},
     "output_type": "execute_result"
    }
   ],
   "source": [
    "derivar_polinomio([2, 3, 1])"
   ]
  },
  {
   "cell_type": "code",
   "execution_count": 105,
   "metadata": {},
   "outputs": [
    {
     "ename": "TypeError",
     "evalue": "derivar_polinomio() missing 1 required positional argument: 'orden'",
     "output_type": "error",
     "traceback": [
      "\u001b[1;31m---------------------------------------------------------------------------\u001b[0m",
      "\u001b[1;31mTypeError\u001b[0m                                 Traceback (most recent call last)",
      "\u001b[1;32m<ipython-input-105-c210408792ef>\u001b[0m in \u001b[0;36m<module>\u001b[1;34m\u001b[0m\n\u001b[1;32m----> 1\u001b[1;33m \u001b[0mderivar_polinomio\u001b[0m\u001b[1;33m(\u001b[0m\u001b[1;33m[\u001b[0m\u001b[1;36m2\u001b[0m\u001b[1;33m,\u001b[0m \u001b[1;36m1\u001b[0m\u001b[1;33m,\u001b[0m \u001b[1;36m3\u001b[0m\u001b[1;33m]\u001b[0m\u001b[1;33m)\u001b[0m\u001b[1;33m\u001b[0m\u001b[1;33m\u001b[0m\u001b[0m\n\u001b[0m",
      "\u001b[1;31mTypeError\u001b[0m: derivar_polinomio() missing 1 required positional argument: 'orden'"
     ]
    }
   ],
   "source": [
    "derivar_polinomio([2, 1, 3])"
   ]
  },
  {
   "cell_type": "code",
   "execution_count": 98,
   "metadata": {},
   "outputs": [
    {
     "name": "stdout",
     "output_type": "stream",
     "text": [
      "3x^3\n",
      "9 2\n",
      "2x^2\n",
      "4 1\n",
      "1x^1\n",
      "1 0\n",
      "-1x^0\n",
      "0 -1\n",
      "9x^2\n",
      "18 1\n",
      "4x^1\n",
      "4 0\n",
      "1x^0\n",
      "0 -1\n",
      "18x^1\n",
      "18 0\n",
      "4x^0\n",
      "0 -1\n",
      "18x^0\n",
      "0 -1\n",
      "0x^0\n",
      "0 -1\n"
     ]
    },
    {
     "data": {
      "text/plain": [
       "[0]"
      ]
     },
     "execution_count": 98,
     "metadata": {},
     "output_type": "execute_result"
    }
   ],
   "source": [
    "derivar_polinomio(derivar_polinomio(derivar_polinomio(derivar_polinomio(derivar_polinomio([3, 2, 1, -1])))))"
   ]
  },
  {
   "cell_type": "code",
   "execution_count": null,
   "metadata": {},
   "outputs": [],
   "source": []
  },
  {
   "cell_type": "code",
   "execution_count": 129,
   "metadata": {},
   "outputs": [],
   "source": [
    "def productoria_exponentes(num_ini, orden):\n",
    "    prod = 1\n",
    "    for i in range(num_ini, num_ini-orden, -1):\n",
    "        prod*=i\n",
    "    return prod\n",
    "\n",
    "def derivar_polinomio(coefs, orden=1):\n",
    "    print()\n",
    "    n_max = len(coefs)-1\n",
    "    coefs_derivados = []\n",
    "    for i in range(len(coefs)):\n",
    "        n = n_max-i\n",
    "        coef = coefs[i]\n",
    "        new_coef = coef*productoria_exponentes(n, orden)\n",
    "        \n",
    "        coefs_derivados.append(new_coef)\n",
    "    return coefs_derivados"
   ]
  },
  {
   "cell_type": "code",
   "execution_count": 130,
   "metadata": {},
   "outputs": [
    {
     "data": {
      "text/plain": [
       "24"
      ]
     },
     "execution_count": 130,
     "metadata": {},
     "output_type": "execute_result"
    }
   ],
   "source": [
    "productoria_exponentes(4, 3)"
   ]
  },
  {
   "cell_type": "code",
   "execution_count": 131,
   "metadata": {},
   "outputs": [
    {
     "name": "stdout",
     "output_type": "stream",
     "text": [
      "\n"
     ]
    },
    {
     "data": {
      "text/plain": [
       "[6, 0, 0, 0]"
      ]
     },
     "execution_count": 131,
     "metadata": {},
     "output_type": "execute_result"
    }
   ],
   "source": [
    "derivar_polinomio([1, 2, 3, 4], 3)"
   ]
  },
  {
   "cell_type": "code",
   "execution_count": null,
   "metadata": {},
   "outputs": [],
   "source": []
  },
  {
   "cell_type": "markdown",
   "metadata": {},
   "source": [
    "## integral"
   ]
  },
  {
   "cell_type": "code",
   "execution_count": 162,
   "metadata": {},
   "outputs": [],
   "source": [
    "def integracion_medio(f, a, b, n=10):\n",
    "    h = (b-a)/n\n",
    "    sumatoria = 0\n",
    "    for i in range(n):\n",
    "        actual = f(a+(i+1/2)*h)\n",
    "        sumatoria+=actual\n",
    "    return h*sumatoria"
   ]
  },
  {
   "cell_type": "code",
   "execution_count": 163,
   "metadata": {},
   "outputs": [
    {
     "data": {
      "text/plain": [
       "0.9999815144137761"
      ]
     },
     "execution_count": 163,
     "metadata": {},
     "output_type": "execute_result"
    }
   ],
   "source": [
    "integracion_medio(lambda x: x*np.exp(x), 0, 1, 100)"
   ]
  },
  {
   "cell_type": "code",
   "execution_count": null,
   "metadata": {},
   "outputs": [],
   "source": []
  },
  {
   "cell_type": "code",
   "execution_count": null,
   "metadata": {},
   "outputs": [],
   "source": []
  },
  {
   "cell_type": "code",
   "execution_count": null,
   "metadata": {},
   "outputs": [],
   "source": []
  },
  {
   "cell_type": "code",
   "execution_count": null,
   "metadata": {},
   "outputs": [],
   "source": []
  },
  {
   "cell_type": "code",
   "execution_count": null,
   "metadata": {},
   "outputs": [],
   "source": []
  },
  {
   "cell_type": "code",
   "execution_count": null,
   "metadata": {},
   "outputs": [],
   "source": []
  },
  {
   "cell_type": "code",
   "execution_count": null,
   "metadata": {},
   "outputs": [],
   "source": []
  },
  {
   "cell_type": "code",
   "execution_count": null,
   "metadata": {},
   "outputs": [],
   "source": []
  },
  {
   "cell_type": "code",
   "execution_count": null,
   "metadata": {},
   "outputs": [],
   "source": []
  },
  {
   "cell_type": "code",
   "execution_count": null,
   "metadata": {},
   "outputs": [],
   "source": []
  }
 ],
 "metadata": {
  "kernelspec": {
   "display_name": "Python 3",
   "language": "python",
   "name": "python3"
  },
  "language_info": {
   "codemirror_mode": {
    "name": "ipython",
    "version": 3
   },
   "file_extension": ".py",
   "mimetype": "text/x-python",
   "name": "python",
   "nbconvert_exporter": "python",
   "pygments_lexer": "ipython3",
   "version": "3.7.1"
  }
 },
 "nbformat": 4,
 "nbformat_minor": 2
}
