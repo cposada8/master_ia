{
 "cells": [
  {
   "cell_type": "markdown",
   "metadata": {},
   "source": [
    "# Actividad 3 del curso Matemáticas para la inteligencia artifical"
   ]
  },
  {
   "cell_type": "markdown",
   "metadata": {},
   "source": [
    "En este notebook se solucionarán los problemas planteados para la Actividad 3 del curso\n",
    "- Autor: Carlos Esteban Posada\n",
    "- Contacto: crls.esteban@hotmail.com"
   ]
  },
  {
   "cell_type": "code",
   "execution_count": 1,
   "metadata": {},
   "outputs": [],
   "source": [
    "from __future__ import print_function\n",
    "from ipywidgets import interact, interactive, fixed, interact_manual\n",
    "import ipywidgets as widgets\n",
    "\n",
    "import matplotlib.pyplot as plt\n",
    "import math\n",
    "import numpy as np\n",
    "import pandas as pd"
   ]
  },
  {
   "cell_type": "code",
   "execution_count": null,
   "metadata": {},
   "outputs": [],
   "source": []
  },
  {
   "cell_type": "markdown",
   "metadata": {},
   "source": [
    "## 1. Actividades relacionadas con la función de densidad de una variable aleatoria binomial"
   ]
  },
  {
   "cell_type": "markdown",
   "metadata": {},
   "source": [
    "### a) Prográmese la función de densidad asociada a una variable aleatoria binomial X~B(n,p).\n",
    "La función debe admitir como parámetros de entrada: _n, p y k_\n",
    "\n",
    "debe devolver como salida: _P(X=k)_\n",
    "\n",
    "NOTA: salvo operaciones elementales no se permite el uso de ninguna función preprogramada para realizar cálculos"
   ]
  },
  {
   "cell_type": "code",
   "execution_count": 3,
   "metadata": {},
   "outputs": [],
   "source": [
    "def factorial(n):\n",
    "    if n == 1 or n == 0:\n",
    "        return 1\n",
    "    else:\n",
    "        return n*factorial(n-1)\n",
    "    \n",
    "def combinatoria(n, k):\n",
    "    # Esta función recibe n y k y retorna el número \n",
    "    # de combinaciones de n elementos tomados de k en k\n",
    "    comb = factorial(n)/(factorial(k)*factorial(n-k))\n",
    "    return comb\n",
    "\n",
    "def binomial_density(n, k, p):\n",
    "    combinatorio = combinatoria(n, k)\n",
    "    return combinatorio * (p**k) * (1-p)**(n-k)"
   ]
  },
  {
   "cell_type": "code",
   "execution_count": 4,
   "metadata": {},
   "outputs": [
    {
     "data": {
      "text/plain": [
       "798799505484293502864235366457227843878888883759392155824085524612471593626709731270508882489224069102809885824218929626862693923158255305518652455852403679107660102707015132949125042376239085004450614406599428043763849219184354607367946642271945700243994478732909818086161060597362647912582100214776667840207276973937491599412677548042835293581851010206139749882245719885628304932311028174304858482659814753006839040644753096074342991484950384311144926153638572222247918523539038038193726797195285465614772567252849744325417859322386928281086717661213144920514972354222118333760403304082379971754481098899840253933793266611743110309904379635356998961412258356162179813625828350229280912951767520115638104153589625621161857677526193293417093269266118077665643278375035425587404916311583831934796489855633671422688784476367113183854745715372287367385941473932932729467425345421289184283026211201055322420499194064733843405831079146204288369599841647733531359828169584550853729940745396830604638501593892301003123789650579518736876988454942572811249843106225964214864161871753060781885122150400000000000000000000000000000000000000000000000000000000000000000000000000000000000000000000000000000000000000000000000000000000000"
      ]
     },
     "execution_count": 4,
     "metadata": {},
     "output_type": "execute_result"
    }
   ],
   "source": [
    "factorial(532)"
   ]
  },
  {
   "cell_type": "markdown",
   "metadata": {},
   "source": [
    "### b) Utilícese la función anterior para programar la función de distribución de la binomial\n",
    "Es decir una función que admita las mismas entradas y devuelva como salida P(X<=k)"
   ]
  },
  {
   "cell_type": "code",
   "execution_count": 3,
   "metadata": {},
   "outputs": [],
   "source": [
    "def binomial_cumulative(n, k, p):\n",
    "    # Esta función retorna la función de distribución de una binomial\n",
    "    # con parámetros n, p y k. \n",
    "    # retorna la P(X<=k)\n",
    "    suma = 0\n",
    "    for i in range(k+1):\n",
    "        suma += binomial_density(n, i, p)\n",
    "    return suma"
   ]
  },
  {
   "cell_type": "code",
   "execution_count": 12,
   "metadata": {},
   "outputs": [
    {
     "data": {
      "text/plain": [
       "0.3125"
      ]
     },
     "execution_count": 12,
     "metadata": {},
     "output_type": "execute_result"
    }
   ],
   "source": [
    "binomial_density(6, 3, 0.5)"
   ]
  },
  {
   "cell_type": "markdown",
   "metadata": {},
   "source": [
    "### ¡Exploremos un poco estas probabilidades! [opcional]"
   ]
  },
  {
   "cell_type": "markdown",
   "metadata": {},
   "source": [
    "A continuación una visualización donde se puede observar:\n",
    "* Función de distribución (la acumulada)\n",
    "* Función de densidad\n",
    "para una variable aleatoria B(n, p) cuando cambiamos la n y la p. \n",
    "Se verá en el eje x el valor de k que podremos buscar (número de éxitos) y en el eje y el valor de la probabilidad correspondiente a ese k, p y n dados"
   ]
  },
  {
   "cell_type": "code",
   "execution_count": 10,
   "metadata": {},
   "outputs": [],
   "source": [
    "def distribucion_y_densidad_binomial(n, p):\n",
    "    fig, ax = plt.subplots(1, 1)\n",
    "    ax.set_xlim((0, n))\n",
    "    ax2 = ax.twinx()\n",
    "#     ax.set_ylim((0, 1))\n",
    "\n",
    "    K = [k for k in range(n)]\n",
    "    probabilidades = [binomial_density(n, k, p) for k in K]\n",
    "    acumulada = [binomial_cumulative(n, k, p) for k in K]\n",
    "\n",
    "    \n",
    "    ax.plot(K, probabilidades, label=\"Densidad\", color=\"g\")\n",
    "    ax.set_ylabel('probabilidad')\n",
    "    ax.set_xlabel('k - número de éxitos')\n",
    "    ax.legend(loc=2)\n",
    "    \n",
    "    \n",
    "    ax2.plot(K, acumulada, label=\"Distribución/acumulada\")\n",
    "    ax2.set_ylabel(\"probabilidad acumulada\")\n",
    "    ax2.legend(loc=1)\n",
    "    plt.title(\"Función de distribución y función de Densidad\")\n",
    "    plt.xlabel(\"k - número de éxitos\")\n",
    "    \n",
    "    \n",
    "    plt.show()"
   ]
  },
  {
   "cell_type": "code",
   "execution_count": 11,
   "metadata": {
    "scrolled": false
   },
   "outputs": [
    {
     "data": {
      "application/vnd.jupyter.widget-view+json": {
       "model_id": "79b153d0d00e49f18f8465e15c8cf20a",
       "version_major": 2,
       "version_minor": 0
      },
      "text/plain": [
       "interactive(children=(IntSlider(value=25, description='n', max=50, min=1), FloatSlider(value=0.5, description=…"
      ]
     },
     "metadata": {},
     "output_type": "display_data"
    }
   ],
   "source": [
    "interactive_plot = interactive(distribucion_y_densidad_binomial,\n",
    "                               n=widgets.IntSlider(min=1, max=50, step=1, value=25),\n",
    "#                                k=widgets.IntSlider(min=0, max=30, step=1, value=0),\n",
    "                               p=widgets.FloatSlider(min=0, max=1, step=0.05, value=0.5)\n",
    "                              )\n",
    "output = interactive_plot.children[-1]\n",
    "output.layout.height = '350px'\n",
    "interactive_plot"
   ]
  },
  {
   "cell_type": "code",
   "execution_count": null,
   "metadata": {},
   "outputs": [],
   "source": []
  },
  {
   "cell_type": "markdown",
   "metadata": {},
   "source": [
    "## 2. Cálculese la probabilidad de cada uno de los siguientes casos, utilizando en caso de ser posible, los programas realizados en los ejercicios anteriores"
   ]
  },
  {
   "cell_type": "code",
   "execution_count": 6,
   "metadata": {},
   "outputs": [],
   "source": [
    "def probabilidad_binomial(n, k, p, operando=\"=\"):\n",
    "    # Esta función retorna la probabilidad de una binomial\n",
    "    # en alguno de los siguientes casos dependiendo del operando:\n",
    "    # \"=\": P(X=k)\n",
    "    # \"<=\": P(X<=k)\n",
    "    # \"<\": P(X<k)\n",
    "    # \">=\": p(X>=k) = 1-P(X<k)\n",
    "    # \">\": p(X>k) = 1-P(X<=k)\n",
    "    \n",
    "    dict_operaciones = {\n",
    "        '=':  lambda: binomial_density(n, k, p),\n",
    "        '<=': lambda: binomial_cumulative(n, k, p),\n",
    "        '<':  lambda: binomial_cumulative(n, k-1, p),\n",
    "        '>=': lambda: 1 - binomial_cumulative(n, k-1, p),\n",
    "        '>':  lambda: 1 - binomial_cumulative(n, k, p)\n",
    "    }\n",
    "    return dict_operaciones.get(operando)()"
   ]
  },
  {
   "cell_type": "markdown",
   "metadata": {},
   "source": [
    "### a) la probabilidad de que ocurra un determinado suceso en un día es de 20%. \n",
    "\n",
    "¿Cuál es la probabilidad de que el suceso ocurra más de 3 veces en un lapso de 10 días?"
   ]
  },
  {
   "cell_type": "code",
   "execution_count": 7,
   "metadata": {},
   "outputs": [
    {
     "name": "stdout",
     "output_type": "stream",
     "text": [
      "P(X>3)= 0.12087388159999946\n"
     ]
    }
   ],
   "source": [
    "# parámetros de este ejercicio:\n",
    "n = 10\n",
    "k = 3\n",
    "p = 0.2\n",
    "operador = \">\"\n",
    "\n",
    "# Calcular P(X>3)\n",
    "sol2a = probabilidad_binomial(n, k, p, operador)\n",
    "print(f\"P(X>3)= {sol2a}\")"
   ]
  },
  {
   "cell_type": "code",
   "execution_count": 8,
   "metadata": {},
   "outputs": [
    {
     "data": {
      "text/plain": [
       "0.5370940500509419"
      ]
     },
     "execution_count": 8,
     "metadata": {},
     "output_type": "execute_result"
    }
   ],
   "source": [
    "probabilidad_binomial(25, 3, 0.1, \"<\")"
   ]
  },
  {
   "cell_type": "code",
   "execution_count": 9,
   "metadata": {
    "scrolled": true
   },
   "outputs": [
    {
     "data": {
      "text/plain": [
       "0.3125"
      ]
     },
     "execution_count": 9,
     "metadata": {},
     "output_type": "execute_result"
    }
   ],
   "source": [
    "probabilidad_binomial(6, 3, 0.5, \"=\")"
   ]
  },
  {
   "cell_type": "markdown",
   "metadata": {},
   "source": [
    "### b) La probabilidad de que ocurra un determinado suceso en un segundo es de un 0.000018%. \n",
    "\n",
    "* ¿Cuál es la probabilidad de que el suceso se dé 4 veces o más en un año (no bisiesto)?\n",
    "* ¿Encuentras alguna limitación al método utilizado para resolverlo? ¿Cuál? ¿Se te ocurre alguna estrategia vista en clase para abordar el problema de forma más conveniente? Utiliza dicho método para resolver el problema"
   ]
  },
  {
   "cell_type": "code",
   "execution_count": 11,
   "metadata": {},
   "outputs": [],
   "source": [
    "# Parámetros del ejercicio:\n",
    "k = 4\n",
    "operador = \">=\"\n",
    "p = 0.00000018"
   ]
  },
  {
   "cell_type": "code",
   "execution_count": 12,
   "metadata": {},
   "outputs": [
    {
     "data": {
      "text/plain": [
       "31536000"
      ]
     },
     "execution_count": 12,
     "metadata": {},
     "output_type": "execute_result"
    }
   ],
   "source": [
    "# el n se tendrá que calcular\n",
    "# cuántos segundos tiene un año?\n",
    "seconds_year = 60*60*24*365\n",
    "n = seconds_year\n",
    "n"
   ]
  },
  {
   "cell_type": "markdown",
   "metadata": {},
   "source": [
    "Como se observa en la siguiente celda, no es posible realizar los cálculos en la binomial debido a que hay un error de stack overflow. \n",
    "Son tan grandes los números que ya no es posible calcular los factoriales necesarios para el número combinatorio.\n",
    "Por este motivo, la celda siguiente entregará **ERROR**"
   ]
  },
  {
   "cell_type": "code",
   "execution_count": 41,
   "metadata": {
    "scrolled": true
   },
   "outputs": [
    {
     "ename": "RecursionError",
     "evalue": "maximum recursion depth exceeded in comparison",
     "output_type": "error",
     "traceback": [
      "\u001b[1;31m---------------------------------------------------------------------------\u001b[0m",
      "\u001b[1;31mRecursionError\u001b[0m                            Traceback (most recent call last)",
      "\u001b[1;32m<ipython-input-41-223335831204>\u001b[0m in \u001b[0;36m<module>\u001b[1;34m\u001b[0m\n\u001b[1;32m----> 1\u001b[1;33m \u001b[0mprobabilidad_binomial\u001b[0m\u001b[1;33m(\u001b[0m\u001b[0mn\u001b[0m\u001b[1;33m,\u001b[0m \u001b[0mk\u001b[0m\u001b[1;33m,\u001b[0m \u001b[0mp\u001b[0m\u001b[1;33m,\u001b[0m \u001b[0moperador\u001b[0m\u001b[1;33m)\u001b[0m\u001b[1;33m\u001b[0m\u001b[1;33m\u001b[0m\u001b[0m\n\u001b[0m",
      "\u001b[1;32m<ipython-input-6-8f7eb528b4e9>\u001b[0m in \u001b[0;36mprobabilidad_binomial\u001b[1;34m(n, k, p, operando)\u001b[0m\n\u001b[0;32m     15\u001b[0m         \u001b[1;34m'>'\u001b[0m\u001b[1;33m:\u001b[0m  \u001b[1;32mlambda\u001b[0m\u001b[1;33m:\u001b[0m \u001b[1;36m1\u001b[0m \u001b[1;33m-\u001b[0m \u001b[0mbinomial_cumulative\u001b[0m\u001b[1;33m(\u001b[0m\u001b[0mn\u001b[0m\u001b[1;33m,\u001b[0m \u001b[0mk\u001b[0m\u001b[1;33m,\u001b[0m \u001b[0mp\u001b[0m\u001b[1;33m)\u001b[0m\u001b[1;33m\u001b[0m\u001b[1;33m\u001b[0m\u001b[0m\n\u001b[0;32m     16\u001b[0m     }\n\u001b[1;32m---> 17\u001b[1;33m     \u001b[1;32mreturn\u001b[0m \u001b[0mdict_operaciones\u001b[0m\u001b[1;33m.\u001b[0m\u001b[0mget\u001b[0m\u001b[1;33m(\u001b[0m\u001b[0moperando\u001b[0m\u001b[1;33m)\u001b[0m\u001b[1;33m(\u001b[0m\u001b[1;33m)\u001b[0m\u001b[1;33m\u001b[0m\u001b[1;33m\u001b[0m\u001b[0m\n\u001b[0m",
      "\u001b[1;32m<ipython-input-6-8f7eb528b4e9>\u001b[0m in \u001b[0;36m<lambda>\u001b[1;34m()\u001b[0m\n\u001b[0;32m     12\u001b[0m         \u001b[1;34m'<='\u001b[0m\u001b[1;33m:\u001b[0m \u001b[1;32mlambda\u001b[0m\u001b[1;33m:\u001b[0m \u001b[0mbinomial_cumulative\u001b[0m\u001b[1;33m(\u001b[0m\u001b[0mn\u001b[0m\u001b[1;33m,\u001b[0m \u001b[0mk\u001b[0m\u001b[1;33m,\u001b[0m \u001b[0mp\u001b[0m\u001b[1;33m)\u001b[0m\u001b[1;33m,\u001b[0m\u001b[1;33m\u001b[0m\u001b[1;33m\u001b[0m\u001b[0m\n\u001b[0;32m     13\u001b[0m         \u001b[1;34m'<'\u001b[0m\u001b[1;33m:\u001b[0m  \u001b[1;32mlambda\u001b[0m\u001b[1;33m:\u001b[0m \u001b[0mbinomial_cumulative\u001b[0m\u001b[1;33m(\u001b[0m\u001b[0mn\u001b[0m\u001b[1;33m,\u001b[0m \u001b[0mk\u001b[0m\u001b[1;33m-\u001b[0m\u001b[1;36m1\u001b[0m\u001b[1;33m,\u001b[0m \u001b[0mp\u001b[0m\u001b[1;33m)\u001b[0m\u001b[1;33m,\u001b[0m\u001b[1;33m\u001b[0m\u001b[1;33m\u001b[0m\u001b[0m\n\u001b[1;32m---> 14\u001b[1;33m         \u001b[1;34m'>='\u001b[0m\u001b[1;33m:\u001b[0m \u001b[1;32mlambda\u001b[0m\u001b[1;33m:\u001b[0m \u001b[1;36m1\u001b[0m \u001b[1;33m-\u001b[0m \u001b[0mbinomial_cumulative\u001b[0m\u001b[1;33m(\u001b[0m\u001b[0mn\u001b[0m\u001b[1;33m,\u001b[0m \u001b[0mk\u001b[0m\u001b[1;33m-\u001b[0m\u001b[1;36m1\u001b[0m\u001b[1;33m,\u001b[0m \u001b[0mp\u001b[0m\u001b[1;33m)\u001b[0m\u001b[1;33m,\u001b[0m\u001b[1;33m\u001b[0m\u001b[1;33m\u001b[0m\u001b[0m\n\u001b[0m\u001b[0;32m     15\u001b[0m         \u001b[1;34m'>'\u001b[0m\u001b[1;33m:\u001b[0m  \u001b[1;32mlambda\u001b[0m\u001b[1;33m:\u001b[0m \u001b[1;36m1\u001b[0m \u001b[1;33m-\u001b[0m \u001b[0mbinomial_cumulative\u001b[0m\u001b[1;33m(\u001b[0m\u001b[0mn\u001b[0m\u001b[1;33m,\u001b[0m \u001b[0mk\u001b[0m\u001b[1;33m,\u001b[0m \u001b[0mp\u001b[0m\u001b[1;33m)\u001b[0m\u001b[1;33m\u001b[0m\u001b[1;33m\u001b[0m\u001b[0m\n\u001b[0;32m     16\u001b[0m     }\n",
      "\u001b[1;32m<ipython-input-3-0bfe0d423121>\u001b[0m in \u001b[0;36mbinomial_cumulative\u001b[1;34m(n, k, p)\u001b[0m\n\u001b[0;32m      5\u001b[0m     \u001b[0msuma\u001b[0m \u001b[1;33m=\u001b[0m \u001b[1;36m0\u001b[0m\u001b[1;33m\u001b[0m\u001b[1;33m\u001b[0m\u001b[0m\n\u001b[0;32m      6\u001b[0m     \u001b[1;32mfor\u001b[0m \u001b[0mi\u001b[0m \u001b[1;32min\u001b[0m \u001b[0mrange\u001b[0m\u001b[1;33m(\u001b[0m\u001b[0mk\u001b[0m\u001b[1;33m+\u001b[0m\u001b[1;36m1\u001b[0m\u001b[1;33m)\u001b[0m\u001b[1;33m:\u001b[0m\u001b[1;33m\u001b[0m\u001b[1;33m\u001b[0m\u001b[0m\n\u001b[1;32m----> 7\u001b[1;33m         \u001b[0msuma\u001b[0m \u001b[1;33m+=\u001b[0m \u001b[0mbinomial_density\u001b[0m\u001b[1;33m(\u001b[0m\u001b[0mn\u001b[0m\u001b[1;33m,\u001b[0m \u001b[0mi\u001b[0m\u001b[1;33m,\u001b[0m \u001b[0mp\u001b[0m\u001b[1;33m)\u001b[0m\u001b[1;33m\u001b[0m\u001b[1;33m\u001b[0m\u001b[0m\n\u001b[0m\u001b[0;32m      8\u001b[0m     \u001b[1;32mreturn\u001b[0m \u001b[0msuma\u001b[0m\u001b[1;33m\u001b[0m\u001b[1;33m\u001b[0m\u001b[0m\n",
      "\u001b[1;32m<ipython-input-2-259555e7862d>\u001b[0m in \u001b[0;36mbinomial_density\u001b[1;34m(n, k, p)\u001b[0m\n\u001b[0;32m     12\u001b[0m \u001b[1;33m\u001b[0m\u001b[0m\n\u001b[0;32m     13\u001b[0m \u001b[1;32mdef\u001b[0m \u001b[0mbinomial_density\u001b[0m\u001b[1;33m(\u001b[0m\u001b[0mn\u001b[0m\u001b[1;33m,\u001b[0m \u001b[0mk\u001b[0m\u001b[1;33m,\u001b[0m \u001b[0mp\u001b[0m\u001b[1;33m)\u001b[0m\u001b[1;33m:\u001b[0m\u001b[1;33m\u001b[0m\u001b[1;33m\u001b[0m\u001b[0m\n\u001b[1;32m---> 14\u001b[1;33m     \u001b[0mcombinatorio\u001b[0m \u001b[1;33m=\u001b[0m \u001b[0mcombinatoria\u001b[0m\u001b[1;33m(\u001b[0m\u001b[0mn\u001b[0m\u001b[1;33m,\u001b[0m \u001b[0mk\u001b[0m\u001b[1;33m)\u001b[0m\u001b[1;33m\u001b[0m\u001b[1;33m\u001b[0m\u001b[0m\n\u001b[0m\u001b[0;32m     15\u001b[0m     \u001b[1;32mreturn\u001b[0m \u001b[0mcombinatorio\u001b[0m \u001b[1;33m*\u001b[0m \u001b[1;33m(\u001b[0m\u001b[0mp\u001b[0m\u001b[1;33m**\u001b[0m\u001b[0mk\u001b[0m\u001b[1;33m)\u001b[0m \u001b[1;33m*\u001b[0m \u001b[1;33m(\u001b[0m\u001b[1;36m1\u001b[0m\u001b[1;33m-\u001b[0m\u001b[0mp\u001b[0m\u001b[1;33m)\u001b[0m\u001b[1;33m**\u001b[0m\u001b[1;33m(\u001b[0m\u001b[0mn\u001b[0m\u001b[1;33m-\u001b[0m\u001b[0mk\u001b[0m\u001b[1;33m)\u001b[0m\u001b[1;33m\u001b[0m\u001b[1;33m\u001b[0m\u001b[0m\n",
      "\u001b[1;32m<ipython-input-2-259555e7862d>\u001b[0m in \u001b[0;36mcombinatoria\u001b[1;34m(n, k)\u001b[0m\n\u001b[0;32m      8\u001b[0m     \u001b[1;31m# Esta función recibe n y k y retorna el número\u001b[0m\u001b[1;33m\u001b[0m\u001b[1;33m\u001b[0m\u001b[1;33m\u001b[0m\u001b[0m\n\u001b[0;32m      9\u001b[0m     \u001b[1;31m# de combinaciones de n elementos tomados de k en k\u001b[0m\u001b[1;33m\u001b[0m\u001b[1;33m\u001b[0m\u001b[1;33m\u001b[0m\u001b[0m\n\u001b[1;32m---> 10\u001b[1;33m     \u001b[0mcomb\u001b[0m \u001b[1;33m=\u001b[0m \u001b[0mfactorial\u001b[0m\u001b[1;33m(\u001b[0m\u001b[0mn\u001b[0m\u001b[1;33m)\u001b[0m\u001b[1;33m/\u001b[0m\u001b[1;33m(\u001b[0m\u001b[0mfactorial\u001b[0m\u001b[1;33m(\u001b[0m\u001b[0mk\u001b[0m\u001b[1;33m)\u001b[0m\u001b[1;33m*\u001b[0m\u001b[0mfactorial\u001b[0m\u001b[1;33m(\u001b[0m\u001b[0mn\u001b[0m\u001b[1;33m-\u001b[0m\u001b[0mk\u001b[0m\u001b[1;33m)\u001b[0m\u001b[1;33m)\u001b[0m\u001b[1;33m\u001b[0m\u001b[1;33m\u001b[0m\u001b[0m\n\u001b[0m\u001b[0;32m     11\u001b[0m     \u001b[1;32mreturn\u001b[0m \u001b[0mcomb\u001b[0m\u001b[1;33m\u001b[0m\u001b[1;33m\u001b[0m\u001b[0m\n\u001b[0;32m     12\u001b[0m \u001b[1;33m\u001b[0m\u001b[0m\n",
      "\u001b[1;32m<ipython-input-2-259555e7862d>\u001b[0m in \u001b[0;36mfactorial\u001b[1;34m(n)\u001b[0m\n\u001b[0;32m      3\u001b[0m         \u001b[1;32mreturn\u001b[0m \u001b[1;36m1\u001b[0m\u001b[1;33m\u001b[0m\u001b[1;33m\u001b[0m\u001b[0m\n\u001b[0;32m      4\u001b[0m     \u001b[1;32melse\u001b[0m\u001b[1;33m:\u001b[0m\u001b[1;33m\u001b[0m\u001b[1;33m\u001b[0m\u001b[0m\n\u001b[1;32m----> 5\u001b[1;33m         \u001b[1;32mreturn\u001b[0m \u001b[0mn\u001b[0m\u001b[1;33m*\u001b[0m\u001b[0mfactorial\u001b[0m\u001b[1;33m(\u001b[0m\u001b[0mn\u001b[0m\u001b[1;33m-\u001b[0m\u001b[1;36m1\u001b[0m\u001b[1;33m)\u001b[0m\u001b[1;33m\u001b[0m\u001b[1;33m\u001b[0m\u001b[0m\n\u001b[0m\u001b[0;32m      6\u001b[0m \u001b[1;33m\u001b[0m\u001b[0m\n\u001b[0;32m      7\u001b[0m \u001b[1;32mdef\u001b[0m \u001b[0mcombinatoria\u001b[0m\u001b[1;33m(\u001b[0m\u001b[0mn\u001b[0m\u001b[1;33m,\u001b[0m \u001b[0mk\u001b[0m\u001b[1;33m)\u001b[0m\u001b[1;33m:\u001b[0m\u001b[1;33m\u001b[0m\u001b[1;33m\u001b[0m\u001b[0m\n",
      "... last 1 frames repeated, from the frame below ...\n",
      "\u001b[1;32m<ipython-input-2-259555e7862d>\u001b[0m in \u001b[0;36mfactorial\u001b[1;34m(n)\u001b[0m\n\u001b[0;32m      3\u001b[0m         \u001b[1;32mreturn\u001b[0m \u001b[1;36m1\u001b[0m\u001b[1;33m\u001b[0m\u001b[1;33m\u001b[0m\u001b[0m\n\u001b[0;32m      4\u001b[0m     \u001b[1;32melse\u001b[0m\u001b[1;33m:\u001b[0m\u001b[1;33m\u001b[0m\u001b[1;33m\u001b[0m\u001b[0m\n\u001b[1;32m----> 5\u001b[1;33m         \u001b[1;32mreturn\u001b[0m \u001b[0mn\u001b[0m\u001b[1;33m*\u001b[0m\u001b[0mfactorial\u001b[0m\u001b[1;33m(\u001b[0m\u001b[0mn\u001b[0m\u001b[1;33m-\u001b[0m\u001b[1;36m1\u001b[0m\u001b[1;33m)\u001b[0m\u001b[1;33m\u001b[0m\u001b[1;33m\u001b[0m\u001b[0m\n\u001b[0m\u001b[0;32m      6\u001b[0m \u001b[1;33m\u001b[0m\u001b[0m\n\u001b[0;32m      7\u001b[0m \u001b[1;32mdef\u001b[0m \u001b[0mcombinatoria\u001b[0m\u001b[1;33m(\u001b[0m\u001b[0mn\u001b[0m\u001b[1;33m,\u001b[0m \u001b[0mk\u001b[0m\u001b[1;33m)\u001b[0m\u001b[1;33m:\u001b[0m\u001b[1;33m\u001b[0m\u001b[1;33m\u001b[0m\u001b[0m\n",
      "\u001b[1;31mRecursionError\u001b[0m: maximum recursion depth exceeded in comparison"
     ]
    }
   ],
   "source": [
    "probabilidad_binomial(n, k, p, operador)"
   ]
  },
  {
   "cell_type": "markdown",
   "metadata": {},
   "source": [
    "#### Solución al problema anterior:\n",
    "como estamos trabajando con valores de n muy grandes y valores de p muy pequeños, será posible aproximar la binomial por medio de una Poisson, con parámetro lambda = n*p"
   ]
  },
  {
   "cell_type": "code",
   "execution_count": 67,
   "metadata": {},
   "outputs": [],
   "source": [
    "def poisson_density(lambd, k):\n",
    "    return math.exp(-lambd) * (lambd ** k) / factorial(k)\n",
    "\n",
    "def poisson_cumulative(lambd, k):\n",
    "    suma = 0\n",
    "    for i in range(k+1):\n",
    "        suma += poisson_density(lambd, i)\n",
    "    return suma\n",
    "\n",
    "def probabilidad_poisson(lambd, k, operando=\"=\"):\n",
    "    # Esta función retorna la probabilidad de una binomial\n",
    "    # en alguno de los siguientes casos dependiendo del operando:\n",
    "    # \"=\": P(X=k)\n",
    "    # \"<=\": P(X<=k)\n",
    "    # \"<\": P(X<k)\n",
    "    # \">=\": p(X>=k) = 1-P(X<k)\n",
    "    # \">\": p(X>k) = 1-P(X<=k)\n",
    "    dict_operaciones = {\n",
    "        '=':  lambda: poisson_density(lambd, k),\n",
    "        '<=': lambda: poisson_cumulative(lambd, k),\n",
    "        '<':  lambda: poisson_cumulative(lambd, k-1),\n",
    "        '>=': lambda: 1 - poisson_cumulative(lambd, k-1),\n",
    "        '>':  lambda: 1 - poisson_cumulative(lambd, k)\n",
    "    }\n",
    "    return dict_operaciones.get(operando)()"
   ]
  },
  {
   "cell_type": "code",
   "execution_count": 68,
   "metadata": {},
   "outputs": [
    {
     "name": "stdout",
     "output_type": "stream",
     "text": [
      "P(X>=4)= 0.8175093397319624\n"
     ]
    }
   ],
   "source": [
    "# probabilidad de que el evento se dé 4 o más veces en un año:\n",
    "sol2b = probabilidad_poisson(n*p, 4, \">=\")\n",
    "print(f\"P(X>=4)= {sol2b}\")"
   ]
  },
  {
   "cell_type": "code",
   "execution_count": null,
   "metadata": {},
   "outputs": [],
   "source": []
  },
  {
   "cell_type": "markdown",
   "metadata": {},
   "source": [
    "#### Visualicemos qué tan parecidas son las distribuciones binomial y poisson [opcional]\n",
    "Solo se hará para valores pequeños de n, donde podemos calcular la binomial"
   ]
  },
  {
   "cell_type": "code",
   "execution_count": 26,
   "metadata": {},
   "outputs": [],
   "source": [
    "def plot_diferencias_binomial_poisson(n, p):\n",
    "    fig, ax = plt.subplots(1)\n",
    "    ax.set_xlim((0, n))\n",
    "#     ax.set_ylim((0, 1))\n",
    "    K = [k for k in range(n)]\n",
    "    densidad_binomial = [binomial_density(n, k, p) for k in K]\n",
    "    densidad_poisson = [poisson_density(n*p, k) for k in K]\n",
    "    \n",
    "    plt.plot(K, densidad_binomial, label=\"Densidad Binomial\")\n",
    "#     plt.show()\n",
    "    plt.plot(K, densidad_poisson, label=\"Densidad Poisson\")\n",
    "    plt.title(\"Comparación Funciones de densidad \\n Binomial vs Poisson\")\n",
    "\n",
    "    plt.xlabel(\"k - número de éxitos\")\n",
    "    plt.ylabel(\"probabilidad\")\n",
    "    \n",
    "    plt.legend()\n",
    "    plt.show()"
   ]
  },
  {
   "cell_type": "code",
   "execution_count": 27,
   "metadata": {
    "scrolled": false
   },
   "outputs": [
    {
     "data": {
      "application/vnd.jupyter.widget-view+json": {
       "model_id": "fc75d9f76590444d893775832a492d34",
       "version_major": 2,
       "version_minor": 0
      },
      "text/plain": [
       "interactive(children=(IntSlider(value=70, description='n', max=140, min=1, step=2), FloatSlider(value=0.5, des…"
      ]
     },
     "metadata": {},
     "output_type": "display_data"
    }
   ],
   "source": [
    "interactive_plot = interactive(plot_diferencias_binomial_poisson,\n",
    "                               n=widgets.IntSlider(min=1, max=140, step=2, value=70),\n",
    "#                                k=widgets.IntSlider(min=0, max=30, step=1, value=0),\n",
    "                               p=widgets.FloatSlider(min=0, max=1, step=0.05, value=0.5),\n",
    "                               continuous_update=False\n",
    "                              )\n",
    "output = interactive_plot.children[-1]\n",
    "# output.layout.height = '350px'\n",
    "interactive_plot"
   ]
  },
  {
   "cell_type": "code",
   "execution_count": null,
   "metadata": {},
   "outputs": [],
   "source": []
  },
  {
   "cell_type": "code",
   "execution_count": null,
   "metadata": {},
   "outputs": [],
   "source": []
  },
  {
   "cell_type": "markdown",
   "metadata": {},
   "source": [
    "### c) Si se lanza un dado equilibrado 30000 veces:\n",
    "* ¿Cuál es la probabilidad de que salgan más de 4950 seises?\n",
    "* ¿Qué limitación encuentras para resolverlo?\n",
    "* Qué estrategia vista en clase se te ocurre para resolver el problema?"
   ]
  },
  {
   "cell_type": "markdown",
   "metadata": {},
   "source": [
    "El problema se podría solucionar teoricamente con una binomial(n=30000, p=1/6) y calcular la probabilidad de P(X>4950)\n",
    "\n",
    "El problema está en que la probabilidad p=1/6 no es lo suficientemente pequeña como para hacer la aproximación por Poisson (y sumado a esto 4950 es muy grande para poder calcular su factorial)"
   ]
  },
  {
   "cell_type": "markdown",
   "metadata": {},
   "source": [
    "Así que la solución en este caso será utilizar la aproximación a la normal por medio del teorema del límite central"
   ]
  },
  {
   "cell_type": "code",
   "execution_count": null,
   "metadata": {},
   "outputs": [],
   "source": []
  },
  {
   "cell_type": "markdown",
   "metadata": {},
   "source": [
    "#### Aproximación a la normal por medio del teorema del límite central"
   ]
  },
  {
   "cell_type": "markdown",
   "metadata": {},
   "source": [
    "Consideremos Xi como una variable aleatoria bernoulli con parámetro 1/6"
   ]
  },
  {
   "cell_type": "markdown",
   "metadata": {},
   "source": [
    "De esta manera sea :\n",
    "$$ S_{30000} =  \\displaystyle\\sum_{i=1}^{30000} X_i$$"
   ]
  },
  {
   "cell_type": "markdown",
   "metadata": {},
   "source": [
    "Así tenemos una suma de 30000 V.A. con distribución Be(1/6) con:\n",
    "$$ E[X_i] = 1/6 $$\n",
    "$$ Var[X_i] = (1/6)*(5/6) $$"
   ]
  },
  {
   "cell_type": "code",
   "execution_count": 40,
   "metadata": {},
   "outputs": [],
   "source": [
    "n = 30_000\n",
    "p = 1/6\n",
    "mu = p # esperanza de una bernoulli\n",
    "var = p*(1-p) # varianza de una bernoulli\n",
    "sigma = np.sqrt(var) # raiz de la varianza\n",
    "k = 4950"
   ]
  },
  {
   "cell_type": "code",
   "execution_count": 41,
   "metadata": {},
   "outputs": [],
   "source": [
    "Z_lim = (k-n*mu)/(sigma*np.sqrt(n)) # estandarizando la V.A."
   ]
  },
  {
   "cell_type": "code",
   "execution_count": 43,
   "metadata": {},
   "outputs": [
    {
     "data": {
      "text/plain": [
       "-0.7745966692414834"
      ]
     },
     "execution_count": 43,
     "metadata": {},
     "output_type": "execute_result"
    }
   ],
   "source": [
    "Z_lim # hay que encontrar 1-P(Z<=Z_lim)"
   ]
  },
  {
   "cell_type": "code",
   "execution_count": null,
   "metadata": {},
   "outputs": [],
   "source": []
  },
  {
   "cell_type": "markdown",
   "metadata": {},
   "source": [
    "Se desea calcular la probabilidad\n",
    "$$P(S_{30000} > 4950) = 1 - P(S_{30000} \\leq 4950 ) $$"
   ]
  },
  {
   "cell_type": "markdown",
   "metadata": {},
   "source": [
    "$$ 1 - P\\bigg({{S_{30000}-30000(1/6)}\\over{\\sqrt{(1/6)(5/6)}·\\sqrt{30000}}} \\leq {{4950-30000(1/6)}\\over{\\sqrt{(1/6)(5/6)}\\sqrt{30000}}} \\bigg)  $$"
   ]
  },
  {
   "cell_type": "markdown",
   "metadata": {},
   "source": [
    "$$ 1- P(Z \\leq - 0.7745966)$$"
   ]
  },
  {
   "cell_type": "markdown",
   "metadata": {},
   "source": [
    "para calcular esta probabilidad usaremos scipy"
   ]
  },
  {
   "cell_type": "code",
   "execution_count": 52,
   "metadata": {
    "scrolled": true
   },
   "outputs": [
    {
     "name": "stdout",
     "output_type": "stream",
     "text": [
      "la probabilidad de que salgan más de 4950 seises en 30000 lanzamientos es aproximadamente\n",
      "P(X>4950)= 0.7807109869595001\n"
     ]
    }
   ],
   "source": [
    "from scipy.stats import norm\n",
    "sol2c = 1-norm.cdf(Z_lim) # Z_lim se encontró arriba = -0.774\n",
    "print(f\"la probabilidad de que salgan más de 4950 seises en 30000 lanzamientos es aproximadamente\")\n",
    "print(f\"P(X>{k})= {sol2c}\")"
   ]
  },
  {
   "cell_type": "code",
   "execution_count": null,
   "metadata": {},
   "outputs": [],
   "source": []
  },
  {
   "cell_type": "markdown",
   "metadata": {},
   "source": [
    "#### Aproximación por medio de simulación montecarlo"
   ]
  },
  {
   "cell_type": "markdown",
   "metadata": {},
   "source": [
    "Si no se tiene mucho conocimiento teórico para poder estirmar la probabilidad por medio de la relación con la normal, no nos tenemos que quedar con los brazos cruzados. \n",
    "\n",
    "Podemos experimentar, tirar los dados 30000 veces y ver cuántas veces salió seis.\n",
    "Esto lo podemos hacer muchas veces y así aproximar la probabilidad anteriormente calculada\n",
    "\n",
    "**NOTA** las siguientes líneas podrán tardar un tiempo, de acuerdo al número de simulaciones que se escojan"
   ]
  },
  {
   "cell_type": "code",
   "execution_count": 261,
   "metadata": {},
   "outputs": [],
   "source": [
    "num_simulaciones = 100000"
   ]
  },
  {
   "cell_type": "code",
   "execution_count": 262,
   "metadata": {
    "scrolled": true
   },
   "outputs": [
    {
     "name": "stdout",
     "output_type": "stream",
     "text": [
      "simulación #0\n",
      "simulación #10000\n",
      "simulación #20000\n",
      "simulación #30000\n",
      "simulación #40000\n",
      "simulación #50000\n",
      "simulación #60000\n",
      "simulación #70000\n",
      "simulación #80000\n",
      "simulación #90000\n"
     ]
    }
   ],
   "source": [
    "list_num_seises = []\n",
    "for sim in range(num_simulaciones):\n",
    "    if sim % 10000 == 0:\n",
    "        print(f\"simulación #{sim}\")\n",
    "    resultados_dados = np.random.randint(1, 7, n)\n",
    "    num_seises = np.sum(resultados_dados==6)\n",
    "    list_num_seises.append(num_seises)"
   ]
  },
  {
   "cell_type": "code",
   "execution_count": 263,
   "metadata": {},
   "outputs": [
    {
     "data": {
      "image/png": "[encoded data removed]",
      "text/plain": [
       "<Figure size 432x288 with 1 Axes>"
      ]
     },
     "metadata": {
      "needs_background": "light"
     },
     "output_type": "display_data"
    }
   ],
   "source": [
    "plt.hist(list_num_seises, bins=50)\n",
    "plt.title(\"Distribución del número de seises en cada simulación\")\n",
    "plt.xlabel(\"número de seises\")\n",
    "plt.ylabel(\"frecuencia\")\n",
    "plt.show()"
   ]
  },
  {
   "cell_type": "code",
   "execution_count": 264,
   "metadata": {},
   "outputs": [],
   "source": [
    "result_simulaciones = (np.array(list_num_seises)>k) + 0 # +0 para volverlo un vector de 0s y 1s"
   ]
  },
  {
   "cell_type": "code",
   "execution_count": 265,
   "metadata": {},
   "outputs": [],
   "source": [
    "results_df = pd.DataFrame()"
   ]
  },
  {
   "cell_type": "code",
   "execution_count": 266,
   "metadata": {},
   "outputs": [
    {
     "data": {
      "text/html": [
       "<div>\n",
       "<style scoped>\n",
       "    .dataframe tbody tr th:only-of-type {\n",
       "        vertical-align: middle;\n",
       "    }\n",
       "\n",
       "    .dataframe tbody tr th {\n",
       "        vertical-align: top;\n",
       "    }\n",
       "\n",
       "    .dataframe thead th {\n",
       "        text-align: right;\n",
       "    }\n",
       "</style>\n",
       "<table border=\"1\" class=\"dataframe\">\n",
       "  <thead>\n",
       "    <tr style=\"text-align: right;\">\n",
       "      <th></th>\n",
       "      <th>num_simulacion</th>\n",
       "      <th>num_seises</th>\n",
       "      <th>mas_de_k</th>\n",
       "      <th>exitos_acum</th>\n",
       "      <th>estimacion_P(X&gt;k)</th>\n",
       "    </tr>\n",
       "  </thead>\n",
       "  <tbody>\n",
       "    <tr>\n",
       "      <th>99995</th>\n",
       "      <td>99996</td>\n",
       "      <td>4949</td>\n",
       "      <td>0</td>\n",
       "      <td>77928</td>\n",
       "      <td>0.779311</td>\n",
       "    </tr>\n",
       "    <tr>\n",
       "      <th>99996</th>\n",
       "      <td>99997</td>\n",
       "      <td>4911</td>\n",
       "      <td>0</td>\n",
       "      <td>77928</td>\n",
       "      <td>0.779303</td>\n",
       "    </tr>\n",
       "    <tr>\n",
       "      <th>99997</th>\n",
       "      <td>99998</td>\n",
       "      <td>5058</td>\n",
       "      <td>1</td>\n",
       "      <td>77929</td>\n",
       "      <td>0.779306</td>\n",
       "    </tr>\n",
       "    <tr>\n",
       "      <th>99998</th>\n",
       "      <td>99999</td>\n",
       "      <td>5079</td>\n",
       "      <td>1</td>\n",
       "      <td>77930</td>\n",
       "      <td>0.779308</td>\n",
       "    </tr>\n",
       "    <tr>\n",
       "      <th>99999</th>\n",
       "      <td>100000</td>\n",
       "      <td>4992</td>\n",
       "      <td>1</td>\n",
       "      <td>77931</td>\n",
       "      <td>0.779310</td>\n",
       "    </tr>\n",
       "  </tbody>\n",
       "</table>\n",
       "</div>"
      ],
      "text/plain": [
       "       num_simulacion  num_seises  mas_de_k  exitos_acum  estimacion_P(X>k)\n",
       "99995           99996        4949         0        77928           0.779311\n",
       "99996           99997        4911         0        77928           0.779303\n",
       "99997           99998        5058         1        77929           0.779306\n",
       "99998           99999        5079         1        77930           0.779308\n",
       "99999          100000        4992         1        77931           0.779310"
      ]
     },
     "execution_count": 266,
     "metadata": {},
     "output_type": "execute_result"
    }
   ],
   "source": [
    "results_df[\"num_simulacion\"] = np.arange(1, num_simulaciones+1)\n",
    "results_df[\"num_seises\"] = list_num_seises\n",
    "results_df[\"mas_de_k\"] = result_simulaciones\n",
    "results_df[\"exitos_acum\"] = result_simulaciones.cumsum()\n",
    "results_df[\"estimacion_P(X>k)\"] = results_df[\"exitos_acum\"]/results_df[\"num_simulacion\"]\n",
    "results_df.tail()"
   ]
  },
  {
   "cell_type": "code",
   "execution_count": 267,
   "metadata": {},
   "outputs": [
    {
     "data": {
      "image/png": "[encoded data removed]",
      "text/plain": [
       "<Figure size 720x360 with 1 Axes>"
      ]
     },
     "metadata": {
      "needs_background": "light"
     },
     "output_type": "display_data"
    }
   ],
   "source": [
    "plt.figure(figsize=(10, 5))\n",
    "plt.plot(results_df[\"estimacion_P(X>k)\"])\n",
    "plt.title(\"Convergencia a la probabilidad\")\n",
    "plt.xlabel(\"# simulación\")\n",
    "plt.ylabel(f\"P(X>{k})\")\n",
    "plt.show()"
   ]
  },
  {
   "cell_type": "code",
   "execution_count": 268,
   "metadata": {},
   "outputs": [
    {
     "name": "stdout",
     "output_type": "stream",
     "text": [
      "la probabilidad estimada por medio de 100000 simulaciones es:\n",
      "P(X>4950) = 0.77931\n"
     ]
    }
   ],
   "source": [
    "prob_estimada_simul = sum(result_simulaciones)/len(result_simulaciones)\n",
    "print(f\"la probabilidad estimada por medio de {num_simulaciones} simulaciones es:\")\n",
    "print(f\"P(X>{k}) = {prob_estimada_simul}\")"
   ]
  },
  {
   "cell_type": "code",
   "execution_count": null,
   "metadata": {},
   "outputs": [],
   "source": []
  },
  {
   "cell_type": "code",
   "execution_count": null,
   "metadata": {},
   "outputs": [],
   "source": []
  }
 ],
 "metadata": {
  "kernelspec": {
   "display_name": "Python 3",
   "language": "python",
   "name": "python3"
  },
  "language_info": {
   "codemirror_mode": {
    "name": "ipython",
    "version": 3
   },
   "file_extension": ".py",
   "mimetype": "text/x-python",
   "name": "python",
   "nbconvert_exporter": "python",
   "pygments_lexer": "ipython3",
   "version": "3.7.1"
  }
 },
 "nbformat": 4,
 "nbformat_minor": 2
}
