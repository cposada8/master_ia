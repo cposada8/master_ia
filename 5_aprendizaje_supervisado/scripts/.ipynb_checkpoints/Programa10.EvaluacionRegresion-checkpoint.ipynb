{
 "cells": [
  {
   "cell_type": "code",
   "execution_count": 1,
   "metadata": {},
   "outputs": [],
   "source": [
    "import numpy as np\n",
    "from math import sqrt\n",
    "from pprint import pprint\n",
    "from sklearn import datasets\n",
    "from sklearn.dummy import DummyRegressor\n",
    "from sklearn.model_selection import cross_validate\n",
    "from sklearn.model_selection import KFold\n",
    "from sklearn.metrics import make_scorer\n",
    "from sklearn.metrics import mean_squared_error"
   ]
  },
  {
   "cell_type": "code",
   "execution_count": 2,
   "metadata": {},
   "outputs": [],
   "source": [
    "# Carga de datos.\n",
    "datos = datasets.load_boston()"
   ]
  },
  {
   "cell_type": "code",
   "execution_count": 3,
   "metadata": {},
   "outputs": [],
   "source": [
    "# Algoritmo de aprendizaje.\n",
    "reg = DummyRegressor()"
   ]
  },
  {
   "cell_type": "code",
   "execution_count": 8,
   "metadata": {},
   "outputs": [],
   "source": [
    "# Métricas de evaluación.\n",
    "metricas = {\n",
    "  'MAE': 'neg_mean_absolute_error',\n",
    "  'RMSE': make_scorer(\n",
    "          lambda y, y_pred:\n",
    "            sqrt(mean_squared_error(y, y_pred)),\n",
    "            greater_is_better=False),\n",
    "  'MAPE': make_scorer(\n",
    "          lambda y, y_pred:\n",
    "            np.mean(np.abs((y - y_pred) / y)) * 100,\n",
    "            greater_is_better=False)}"
   ]
  },
  {
   "cell_type": "code",
   "execution_count": 9,
   "metadata": {},
   "outputs": [],
   "source": [
    "# Validación y evaluación del modelo.\n",
    "evaluacion = cross_validate(reg, datos.data, datos.target,\n",
    "                cv = KFold(n_splits=10), scoring = metricas)"
   ]
  },
  {
   "cell_type": "code",
   "execution_count": 10,
   "metadata": {},
   "outputs": [
    {
     "name": "stdout",
     "output_type": "stream",
     "text": [
      "{'fit_time': array([0.        , 0.0009973 , 0.        , 0.        , 0.        ,\n",
      "       0.        , 0.00100017, 0.00099373, 0.        , 0.        ]),\n",
      " 'score_time': array([0.0009973 , 0.        , 0.00100207, 0.00099373, 0.0009973 ,\n",
      "       0.00099611, 0.        , 0.        , 0.        , 0.        ]),\n",
      " 'test_MAE': array([ -5.3515794 ,  -3.53014437,  -4.94711485, -10.76168067,\n",
      "        -6.44039647, -10.047688  ,  -3.17389474, -11.29252632,\n",
      "       -10.23408772,  -4.63788596]),\n",
      " 'test_MAPE': array([-29.25050459, -12.906196  , -30.39854529, -30.34584199,\n",
      "       -18.56158501, -27.26756887, -14.90917649, -98.89347189,\n",
      "       -90.94044655, -33.26160748]),\n",
      " 'test_RMSE': array([ -6.32943878,  -5.54863948,  -5.6114705 , -13.84505712,\n",
      "       -10.19621426, -13.13853419,  -4.07150292, -13.4561593 ,\n",
      "       -10.80909628,  -5.99400813])}\n"
     ]
    }
   ],
   "source": [
    "# Presentación de los resultados de la evaluación.\n",
    "pprint(evaluacion)"
   ]
  },
  {
   "cell_type": "code",
   "execution_count": null,
   "metadata": {},
   "outputs": [],
   "source": []
  }
 ],
 "metadata": {
  "kernelspec": {
   "display_name": "Python 3",
   "language": "python",
   "name": "python3"
  },
  "language_info": {
   "codemirror_mode": {
    "name": "ipython",
    "version": 3
   },
   "file_extension": ".py",
   "mimetype": "text/x-python",
   "name": "python",
   "nbconvert_exporter": "python",
   "pygments_lexer": "ipython3",
   "version": "3.7.1"
  }
 },
 "nbformat": 4,
 "nbformat_minor": 2
}
