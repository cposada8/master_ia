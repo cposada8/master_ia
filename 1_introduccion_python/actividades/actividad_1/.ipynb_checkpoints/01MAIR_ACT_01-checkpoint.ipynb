{
 "cells": [
  {
   "cell_type": "markdown",
   "metadata": {},
   "source": [
    "<img src=\"../img/viu_logo.png\" width=\"200\">\n",
    "\n",
    "## 01MAIR - Actividad 1\n",
    "\n",
    "## Manejo Básico de Python\n",
    "\n",
    "### Fecha Entrega\n",
    "- Convocatoria 1 - 15/11/2020\n",
    "- Convocatoria 2 - 04/02/2021\n",
    "\n",
    "### Objetivos:\n",
    "- Manejo básico de notebooks con Jupyter.\n",
    "- Realizar operaciones típicas en el tratamiento de datos. \n",
    "\n",
    "### Instrucciones:\n",
    "- Crear un notebook de Python3 que servirá como entrega de la actividad.\n",
    "- Separar bien los apartados propuestos con celdas Markdown.\n",
    "- Mantener una estructura limpia, comentando código y secuenciando los apartados con el código correspondiente que resuelva la actividad.\n",
    "- Como criterio de evaluación se tendrá en cuenta el resultado, la consecución del mismo, estilo, comentarios y adecuación.\n",
    "- No está permitido compartir los resultados ni el código en ninguno de los foros. \n",
    "- Revisar el primer tema y las sesiones sobre introducción a Python (variables, condicionales, bucles y funciones) para aplicar dichos contenidos.\n",
    "\n",
    "### Entrega:\n",
    "- Un solo documento en formato notebook: .ipynb\n",
    "\n",
    "### Actividades:\n",
    "\n",
    "### A1- Manejo de Jupyter notebook - 20%\n",
    "- Es común que cuando estemos en un entorno de programación seamos lo más productivos posible, una de las formas es conocer bien los notebooks. Es por eso que se pide que en una celda se pongan los shortcuts o atajos de teclado de:\n",
    "- Creación de una celda\n",
    "- Ejecutar el código de una celda\n",
    "- Cambiar tipo de celda código a Markdown\n",
    "- Copiar y pegar celdas\n",
    "- Guardar notebook\n",
    "\n",
    "### A2 - Operaciones básicas - 30%\n",
    "- Crear una variable, asignarle un valor decimal e imprimir el tipo de la variable.\n",
    "- Convertir la variable en un string e imprimirla junto con tu nombre para que aparezca en una línea.\n",
    "- Crear una lista con números que comiencen por 30 y que termine en 60 haciendo que el paso entre cada número consecutivo sea de 0.4. (No usar Numpy)\n",
    "\n",
    "### A3 - Funciones - 20%\n",
    "- Crear una función que devuelva si un año es bisiesto o no. Un año es bisiesto si es divisible entre 4, excepto aquellos divisibles entre 100 pero no entre 400.\n",
    "\n",
    "### A4 - Ficheros - 30%\n",
    "- Descarga datos mediante la siguiente url y devuelve una función con las ciudades de Florida en un tipo de colección Python\n",
    "https://raw.githubusercontent.com/grammakov/USA-cities-and-states/master/us_cities_states_counties.csv\n",
    "- Imprimir el número de ciudades que tiene el estado de Florida. \n"
   ]
  }
 ],
 "metadata": {
  "kernelspec": {
   "display_name": "Python 3",
   "language": "python",
   "name": "python3"
  },
  "language_info": {
   "codemirror_mode": {
    "name": "ipython",
    "version": 3
   },
   "file_extension": ".py",
   "mimetype": "text/x-python",
   "name": "python",
   "nbconvert_exporter": "python",
   "pygments_lexer": "ipython3",
   "version": "3.7.1"
  }
 },
 "nbformat": 4,
 "nbformat_minor": 4
}
