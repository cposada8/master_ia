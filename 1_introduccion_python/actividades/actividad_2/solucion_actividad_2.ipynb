{
 "cells": [
  {
   "cell_type": "markdown",
   "metadata": {},
   "source": [
    "# Actividad 2"
   ]
  },
  {
   "cell_type": "markdown",
   "metadata": {},
   "source": [
    "Notebook donde se realizará la solución al notebook de actividad 2 para el curso de introducción a Python.\n",
    "\n",
    "- Elaborado por: Carlos Esteban Posada\n",
    "- crls.esteban@hotmail.com"
   ]
  },
  {
   "cell_type": "code",
   "execution_count": 1,
   "metadata": {},
   "outputs": [],
   "source": [
    "import numpy as np\n",
    "import pandas as pd\n",
    "import matplotlib.pyplot as plt\n",
    "import seaborn as sns"
   ]
  },
  {
   "cell_type": "code",
   "execution_count": null,
   "metadata": {},
   "outputs": [],
   "source": []
  },
  {
   "cell_type": "markdown",
   "metadata": {},
   "source": [
    "### A1 - 10%\n",
    "- Crear un array con 25 elementos de una dimensión de números ordenados y redimensionarlo para que haya una matriz cuadrada"
   ]
  },
  {
   "cell_type": "code",
   "execution_count": 2,
   "metadata": {},
   "outputs": [
    {
     "name": "stdout",
     "output_type": "stream",
     "text": [
      "[ 0  1  2  3  4  5  6  7  8  9 10 11 12 13 14 15 16 17 18 19 20 21 22 23\n",
      " 24]\n",
      "[[ 0  1  2  3  4]\n",
      " [ 5  6  7  8  9]\n",
      " [10 11 12 13 14]\n",
      " [15 16 17 18 19]\n",
      " [20 21 22 23 24]]\n"
     ]
    }
   ],
   "source": [
    "array25 = np.arange(25)\n",
    "square5x5 = array25.reshape(5,5)\n",
    "print(array25)\n",
    "print(square5x5)"
   ]
  },
  {
   "cell_type": "markdown",
   "metadata": {},
   "source": [
    "- Realiza un print mostrando la segunda columna"
   ]
  },
  {
   "cell_type": "code",
   "execution_count": 3,
   "metadata": {},
   "outputs": [
    {
     "name": "stdout",
     "output_type": "stream",
     "text": [
      "[ 1  6 11 16 21]\n"
     ]
    }
   ],
   "source": [
    "print(square5x5[:, 1])"
   ]
  },
  {
   "cell_type": "code",
   "execution_count": null,
   "metadata": {},
   "outputs": [],
   "source": []
  },
  {
   "cell_type": "code",
   "execution_count": null,
   "metadata": {},
   "outputs": [],
   "source": []
  },
  {
   "cell_type": "markdown",
   "metadata": {},
   "source": [
    "### A2 - 10%\n",
    "- Intercambia las filas por las columnas y las columnas por las filas."
   ]
  },
  {
   "cell_type": "code",
   "execution_count": 6,
   "metadata": {},
   "outputs": [
    {
     "name": "stdout",
     "output_type": "stream",
     "text": [
      "[[ 0  5 10 15 20]\n",
      " [ 1  6 11 16 21]\n",
      " [ 2  7 12 17 22]\n",
      " [ 3  8 13 18 23]\n",
      " [ 4  9 14 19 24]]\n"
     ]
    }
   ],
   "source": [
    "swapped = square5x5.swapaxes(0, 1)\n",
    "print(swapped)"
   ]
  },
  {
   "cell_type": "markdown",
   "metadata": {},
   "source": [
    "- Modifica los valores que son pares por 1 y los impares por 0"
   ]
  },
  {
   "cell_type": "code",
   "execution_count": 7,
   "metadata": {},
   "outputs": [
    {
     "name": "stdout",
     "output_type": "stream",
     "text": [
      "[[1 0 1 0 1]\n",
      " [0 1 0 1 0]\n",
      " [1 0 1 0 1]\n",
      " [0 1 0 1 0]\n",
      " [1 0 1 0 1]]\n"
     ]
    }
   ],
   "source": [
    "swapped = np.where(swapped%2==0, 1, 0)\n",
    "print(swapped)"
   ]
  },
  {
   "cell_type": "code",
   "execution_count": null,
   "metadata": {},
   "outputs": [],
   "source": []
  },
  {
   "cell_type": "markdown",
   "metadata": {},
   "source": [
    "### A3 - 10%\n",
    "- Genera una matriz con valores aleatorios de 0 a 100 de dimensiones 16x16\n",
    "- Calcula los siguentes estadísticos en la matriz anterior, por fila (el resultado de cada uno debe ser un array de dimensiones 1x16)\n",
    " - Suma de los elementos de cada fila\n",
    " - Media de los elementos de cada fila\n",
    " - Valores mínimos de cada fila\n",
    " - Valores máximos de cada fila"
   ]
  },
  {
   "cell_type": "code",
   "execution_count": 8,
   "metadata": {},
   "outputs": [
    {
     "data": {
      "text/plain": [
       "array([[ 2, 84, 61, 59, 91, 54, 29, 94, 54, 62, 44,  2,  0, 40, 44, 11],\n",
       "       [14, 97, 49,  7,  6, 77, 16, 50, 86, 77, 73, 97, 86, 86, 28, 46],\n",
       "       [98, 59, 47, 27, 40, 56, 17, 42,  1, 45, 56, 28, 33, 94, 55, 43],\n",
       "       [58, 90, 65, 70, 44, 10,  3,  5, 62, 77, 94, 47, 74, 64, 27, 15],\n",
       "       [92, 43, 42, 48,  0, 45, 71, 15, 95, 59, 21, 52, 93, 69, 60, 93],\n",
       "       [39, 85, 54, 96, 10, 24, 91,  3, 79, 24, 45, 26, 16, 22, 70, 53],\n",
       "       [43, 75, 48, 87,  0, 65, 64, 63, 49, 55, 33, 70, 95, 44, 26, 68],\n",
       "       [97, 85, 78, 71, 89, 58, 56, 42, 29,  4, 28, 69, 18, 18, 28, 48],\n",
       "       [ 3, 68, 96, 99, 95, 84, 11, 58, 74, 62, 46, 18, 54, 37, 33, 62],\n",
       "       [42,  6, 14, 45, 29,  9, 62, 53, 44, 24, 83,  3, 62, 33, 38, 93],\n",
       "       [ 7, 66,  3,  9, 57, 17, 42, 38, 74, 32, 22,  4, 33,  3, 33, 56],\n",
       "       [28, 14, 29, 20,  2,  1, 52, 44, 31, 88, 22, 41, 87, 68, 84, 65],\n",
       "       [76,  4, 11, 42, 79, 75, 99, 60, 71, 51, 65,  2, 59,  3, 92, 21],\n",
       "       [70, 10, 77, 92, 15, 19, 59, 30, 52, 44, 89, 18,  4, 28, 20, 21],\n",
       "       [33, 16, 50, 15,  2, 28, 21, 50, 59, 18,  5, 96, 40, 45, 60, 41],\n",
       "       [11,  4, 84, 78, 84,  6, 25, 65, 38, 80, 62, 70, 13, 48,  9, 94]])"
      ]
     },
     "execution_count": 8,
     "metadata": {},
     "output_type": "execute_result"
    }
   ],
   "source": [
    "mat = np.random.randint(0, 100, size=(16, 16))\n",
    "mat"
   ]
  },
  {
   "cell_type": "code",
   "execution_count": 9,
   "metadata": {},
   "outputs": [],
   "source": [
    "def reportar_estadisticos(mat, operator, axis=1):\n",
    "    respuestas = {\n",
    "        \"suma\" : mat.sum(axis=axis),\n",
    "        \"media\": mat.mean(axis=axis),\n",
    "        \"maximo\":mat.max(axis=axis),\n",
    "        \"minimo\":mat.min(axis=axis),\n",
    "        \"stdev\": mat.std(axis=axis) # no quise discriminar a std entonces la agregué :P \n",
    "    }\n",
    "    return respuestas[operator]\n",
    "\n",
    "# función para imprimir varios estadísticos a la vez en un formato determinado\n",
    "def estilizar_reporte(mat, operators, axis=1):\n",
    "    print(\"matriz:\")\n",
    "    print(mat)\n",
    "    print()\n",
    "    for operator in operators:\n",
    "        estadisticos = reportar_estadisticos(mat, operator, axis)\n",
    "        print(f\"Los valores de {operator} de la matriz para el eje {axis} son:\")\n",
    "        print(estadisticos)\n",
    "        print()"
   ]
  },
  {
   "cell_type": "code",
   "execution_count": 10,
   "metadata": {},
   "outputs": [
    {
     "name": "stdout",
     "output_type": "stream",
     "text": [
      "matriz:\n",
      "[[ 2 84 61 59 91 54 29 94 54 62 44  2  0 40 44 11]\n",
      " [14 97 49  7  6 77 16 50 86 77 73 97 86 86 28 46]\n",
      " [98 59 47 27 40 56 17 42  1 45 56 28 33 94 55 43]\n",
      " [58 90 65 70 44 10  3  5 62 77 94 47 74 64 27 15]\n",
      " [92 43 42 48  0 45 71 15 95 59 21 52 93 69 60 93]\n",
      " [39 85 54 96 10 24 91  3 79 24 45 26 16 22 70 53]\n",
      " [43 75 48 87  0 65 64 63 49 55 33 70 95 44 26 68]\n",
      " [97 85 78 71 89 58 56 42 29  4 28 69 18 18 28 48]\n",
      " [ 3 68 96 99 95 84 11 58 74 62 46 18 54 37 33 62]\n",
      " [42  6 14 45 29  9 62 53 44 24 83  3 62 33 38 93]\n",
      " [ 7 66  3  9 57 17 42 38 74 32 22  4 33  3 33 56]\n",
      " [28 14 29 20  2  1 52 44 31 88 22 41 87 68 84 65]\n",
      " [76  4 11 42 79 75 99 60 71 51 65  2 59  3 92 21]\n",
      " [70 10 77 92 15 19 59 30 52 44 89 18  4 28 20 21]\n",
      " [33 16 50 15  2 28 21 50 59 18  5 96 40 45 60 41]\n",
      " [11  4 84 78 84  6 25 65 38 80 62 70 13 48  9 94]]\n",
      "\n",
      "Los valores de suma de la matriz para el eje 1 son:\n",
      "[731 895 741 805 898 737 885 818 900 640 496 676 810 648 579 771]\n",
      "\n",
      "Los valores de media de la matriz para el eje 1 son:\n",
      "[45.6875 55.9375 46.3125 50.3125 56.125  46.0625 55.3125 51.125  56.25\n",
      " 40.     31.     42.25   50.625  40.5    36.1875 48.1875]\n",
      "\n",
      "Los valores de maximo de la matriz para el eje 1 son:\n",
      "[94 97 98 94 95 96 95 97 99 93 74 88 99 92 96 94]\n",
      "\n",
      "Los valores de minimo de la matriz para el eje 1 son:\n",
      "[0 6 1 3 0 3 0 4 3 3 3 1 2 4 2 4]\n",
      "\n",
      "Los valores de stdev de la matriz para el eje 1 son:\n",
      "[29.68105193 32.08089141 24.0304982  29.04892156 28.04210005 29.43524407\n",
      " 22.86022405 27.68319662 29.12151267 25.53429067 22.62189205 28.11694329\n",
      " 31.82348779 28.10916221 23.44999667 31.66665981]\n",
      "\n"
     ]
    }
   ],
   "source": [
    "estadisticos_deseados = [\"suma\", \"media\", \"maximo\", \"minimo\", \"stdev\"]\n",
    "estilizar_reporte(mat, estadisticos_deseados)"
   ]
  },
  {
   "cell_type": "markdown",
   "metadata": {},
   "source": [
    "# Forma simple según las correciones:"
   ]
  },
  {
   "cell_type": "code",
   "execution_count": 13,
   "metadata": {},
   "outputs": [
    {
     "data": {
      "text/plain": [
       "array([731, 895, 741, 805, 898, 737, 885, 818, 900, 640, 496, 676, 810,\n",
       "       648, 579, 771])"
      ]
     },
     "execution_count": 13,
     "metadata": {},
     "output_type": "execute_result"
    }
   ],
   "source": [
    "mat.sum(axis=1)"
   ]
  },
  {
   "cell_type": "code",
   "execution_count": 15,
   "metadata": {},
   "outputs": [
    {
     "data": {
      "text/plain": [
       "array([45.6875, 55.9375, 46.3125, 50.3125, 56.125 , 46.0625, 55.3125,\n",
       "       51.125 , 56.25  , 40.    , 31.    , 42.25  , 50.625 , 40.5   ,\n",
       "       36.1875, 48.1875])"
      ]
     },
     "execution_count": 15,
     "metadata": {},
     "output_type": "execute_result"
    }
   ],
   "source": [
    "mat.mean(axis=1)"
   ]
  },
  {
   "cell_type": "code",
   "execution_count": 17,
   "metadata": {},
   "outputs": [
    {
     "data": {
      "text/plain": [
       "array([94, 97, 98, 94, 95, 96, 95, 97, 99, 93, 74, 88, 99, 92, 96, 94])"
      ]
     },
     "execution_count": 17,
     "metadata": {},
     "output_type": "execute_result"
    }
   ],
   "source": [
    "mat.max(axis=1)"
   ]
  },
  {
   "cell_type": "code",
   "execution_count": 19,
   "metadata": {},
   "outputs": [
    {
     "data": {
      "text/plain": [
       "array([0, 6, 1, 3, 0, 3, 0, 4, 3, 3, 3, 1, 2, 4, 2, 4])"
      ]
     },
     "execution_count": 19,
     "metadata": {},
     "output_type": "execute_result"
    }
   ],
   "source": [
    "mat.min(axis=1)"
   ]
  },
  {
   "cell_type": "code",
   "execution_count": null,
   "metadata": {},
   "outputs": [],
   "source": []
  },
  {
   "cell_type": "markdown",
   "metadata": {},
   "source": [
    "### A4 - 10%\n",
    "- Explica y expón, con un ejemplo propio, el broadcasting"
   ]
  },
  {
   "cell_type": "markdown",
   "metadata": {},
   "source": [
    "Broadcasting es un método que utiliza numpy para poder realizar operaciones entre ndarrays cuyos shapes no permitirían originalmente realizar una operación aritmética"
   ]
  },
  {
   "cell_type": "markdown",
   "metadata": {},
   "source": [
    "Las operaciones aritméticas son usualmente realizadas sobre los elementos correspondientes de los ndarrays, para ello se necesitaría que tengan las mismas dimensiones"
   ]
  },
  {
   "cell_type": "markdown",
   "metadata": {},
   "source": [
    "#### Ejemplo de operaciones que se realizan de manera normal"
   ]
  },
  {
   "cell_type": "code",
   "execution_count": 20,
   "metadata": {},
   "outputs": [
    {
     "name": "stdout",
     "output_type": "stream",
     "text": [
      "[0 0 0]\n",
      "[2 4 6]\n",
      "[-1 -4 -9]\n",
      "[-1. -1. -1.]\n"
     ]
    }
   ],
   "source": [
    "arr1 = np.array([1, 2, 3])\n",
    "arr2 = np.array([-1, -2, -3])\n",
    "print(arr1 + arr2)\n",
    "print(arr1 - arr2)\n",
    "print(arr1 * arr2)\n",
    "print(arr1 / arr2)"
   ]
  },
  {
   "cell_type": "markdown",
   "metadata": {},
   "source": [
    "Como se puede observar, cada una de las operaciones anteriores, funciona operando los elementos correspondientes de cada ndarray. \n",
    "\n",
    "Sin embargo, numpy ofrece la posibilidad de realizar este tipo de operaciones sobre arrays cuyas dimensiones (o shapes) no son iguales. A esto se le conoce como **broadcasting**"
   ]
  },
  {
   "cell_type": "markdown",
   "metadata": {},
   "source": [
    "En términos generales el broadasting opera cuándo dos dimensiones son compatibles, y se considera que dos dimensiones son compatibles si se cumple:\n",
    "* Las dimensiones son iguals \n",
    "* Alguna de las dimensiones es 1"
   ]
  },
  {
   "cell_type": "markdown",
   "metadata": {},
   "source": [
    "#### Ejemplo de arrays con shapes distintos"
   ]
  },
  {
   "cell_type": "code",
   "execution_count": 21,
   "metadata": {},
   "outputs": [
    {
     "name": "stdout",
     "output_type": "stream",
     "text": [
      "[[0 0 0]\n",
      " [1 1 1]\n",
      " [2 2 2]]\n",
      "shape arr1:  (3, 3)\n",
      "\n",
      "[3 3 3]\n",
      "shape arr2:  (3,)\n"
     ]
    }
   ],
   "source": [
    "arr1 = np.array([[0, 0, 0], [1, 1, 1], [2, 2, 2]])\n",
    "arr2 = np.array([3, 3, 3])\n",
    "print(arr1)\n",
    "print(\"shape arr1: \", arr1.shape)\n",
    "\n",
    "print()\n",
    "print(arr2)\n",
    "print(\"shape arr2: \",arr2.shape)"
   ]
  },
  {
   "cell_type": "markdown",
   "metadata": {},
   "source": [
    "Como una de las dimensiones (la primera) cuadra en ambos array, se podrán realizar las operaciones"
   ]
  },
  {
   "cell_type": "code",
   "execution_count": 22,
   "metadata": {},
   "outputs": [
    {
     "name": "stdout",
     "output_type": "stream",
     "text": [
      "[[3 3 3]\n",
      " [4 4 4]\n",
      " [5 5 5]]\n"
     ]
    }
   ],
   "source": [
    "print(arr1 + arr2)"
   ]
  },
  {
   "cell_type": "markdown",
   "metadata": {},
   "source": [
    "Funciona como si \"copiara\" el array arr1 tantas veces como dimensiones no cuadran con arr2, así tendría arr1 repitiendo todas las filas en este caso para que tenga 3 filas y 3 columnas"
   ]
  },
  {
   "cell_type": "markdown",
   "metadata": {},
   "source": [
    "**¡NOTA IMPORTANTE!**\n",
    "Si bien broadcast relaja mucho las restricciones para realizar operaciones, este atributo puede jugar en contra. En general si se trabaja con álgebra lineal, hay que ser muy cuidadosos a la hora de programar las operaciones entre vectores y matrices, pues es común que aunque la operación no esté bien escrita, el broadcast te permita hacerla y eso generaría comportamientos inesperados en los programas"
   ]
  },
  {
   "cell_type": "code",
   "execution_count": null,
   "metadata": {},
   "outputs": [],
   "source": []
  },
  {
   "cell_type": "code",
   "execution_count": null,
   "metadata": {},
   "outputs": [],
   "source": []
  },
  {
   "cell_type": "markdown",
   "metadata": {},
   "source": [
    "### A5 - 10%\n",
    "- Resolución de sistema de ecuaciones\n",
    " - A\n",
    " \n",
    " `-9y + 4x = 20\n",
    " -7y + 16x = 80`\n",
    "   \n",
    " - B\n",
    " \n",
    " `x - 2y + 3z = 7\n",
    " 2x + y + z = 4\n",
    " -3x + 2y -2z = -10`"
   ]
  },
  {
   "cell_type": "code",
   "execution_count": 30,
   "metadata": {},
   "outputs": [],
   "source": [
    "# elementos sistema A\n",
    "A1 = np.array([[4, -9],\n",
    "              [16, -7]])\n",
    "b1 = np.array([20, 80])\n",
    "\n",
    "# elementos sistema B\n",
    "A2 = np.array([[1, -2, 3],\n",
    "               [2, 1, 1],\n",
    "               [-3, 2, -2]])\n",
    "b2 = np.array([7, 4, -10])"
   ]
  },
  {
   "cell_type": "code",
   "execution_count": 31,
   "metadata": {},
   "outputs": [],
   "source": [
    "def solucionar_ecuacion_lineal(A, b):\n",
    "    print(\"A:\")\n",
    "    print(A)\n",
    "    print(\"b:\")\n",
    "    print(b)\n",
    "    x_solution = np.linalg.solve(A, b)\n",
    "    comprobante = np.dot(A, x_solution)\n",
    "    print(f\"la solución al sistema es A*x = b es: x={x_solution}\")\n",
    "    print()\n",
    "    print(\"Comprobar solución\")\n",
    "    print()\n",
    "    print(f\"A*x = {comprobante}\")\n",
    "    print(f\"b = {b}\")\n",
    "    print(f\"A*x - b = {comprobante - b}\")"
   ]
  },
  {
   "cell_type": "code",
   "execution_count": 32,
   "metadata": {},
   "outputs": [
    {
     "name": "stdout",
     "output_type": "stream",
     "text": [
      "A:\n",
      "[[ 4 -9]\n",
      " [16 -7]]\n",
      "b:\n",
      "[20 80]\n",
      "la solución al sistema es A*x = b es: x=[ 5. -0.]\n",
      "\n",
      "Comprobar solución\n",
      "\n",
      "A*x = [20. 80.]\n",
      "b = [20 80]\n",
      "A*x - b = [0. 0.]\n"
     ]
    }
   ],
   "source": [
    "solucionar_ecuacion_lineal(A1, b1)"
   ]
  },
  {
   "cell_type": "code",
   "execution_count": 33,
   "metadata": {
    "scrolled": false
   },
   "outputs": [
    {
     "name": "stdout",
     "output_type": "stream",
     "text": [
      "A:\n",
      "[[ 1 -2  3]\n",
      " [ 2  1  1]\n",
      " [-3  2 -2]]\n",
      "b:\n",
      "[  7   4 -10]\n",
      "la solución al sistema es A*x = b es: x=[ 2. -1.  1.]\n",
      "\n",
      "Comprobar solución\n",
      "\n",
      "A*x = [  7.   4. -10.]\n",
      "b = [  7   4 -10]\n",
      "A*x - b = [0. 0. 0.]\n"
     ]
    }
   ],
   "source": [
    "solucionar_ecuacion_lineal(A2, b2)"
   ]
  },
  {
   "cell_type": "markdown",
   "metadata": {},
   "source": []
  },
  {
   "cell_type": "code",
   "execution_count": null,
   "metadata": {},
   "outputs": [],
   "source": []
  },
  {
   "cell_type": "markdown",
   "metadata": {},
   "source": [
    "## Pandas\n",
    "\n",
    "### A6 - 10%\n",
    "- Crea un objeto de tipo Series con las siguientes condiciones\n",
    " - 10 elementos\n",
    " - Debe contener más de un tipo básico\n",
    " - Debe utilizar índices de tipo string\n",
    "- Demuestra que los índices posicionales son los mismos que los obtenidos con índices semánticos, seleccionando a través de slicing, al menos 4 elementos de la serie anterior"
   ]
  },
  {
   "cell_type": "code",
   "execution_count": 32,
   "metadata": {},
   "outputs": [
    {
     "data": {
      "text/plain": [
       "['tony', 'milo', 'leo', 'homero', 'lisa', 'zeus', 'midnight', 23, True, 92]"
      ]
     },
     "execution_count": 32,
     "metadata": {},
     "output_type": "execute_result"
    }
   ],
   "source": [
    "mis_mascotas = [\"tony\", \"milo\", \"leo\", \"homero\", \"lisa\", \"zeus\", \"midnight\"]\n",
    "lista_otros_tipos = [23, True, 92] # lista con otros tipos de datos: numeric, boolean\n",
    "listas_unidas = mis_mascotas+lista_otros_tipos\n",
    "\n",
    "# lista con más de un tipo\n",
    "listas_unidas"
   ]
  },
  {
   "cell_type": "code",
   "execution_count": 33,
   "metadata": {},
   "outputs": [
    {
     "name": "stdout",
     "output_type": "stream",
     "text": [
      "['a', 'b', 'c', 'd', 'e', 'f', 'g', 'h', 'i', 'j']\n",
      "10\n"
     ]
    }
   ],
   "source": [
    "# creación de lista de índices de la \"a\" a la \"f\"\n",
    "indices = [chr(x) for x in range(97, 97+len(listas_unidas))]\n",
    "print(indices)\n",
    "print(len(indices))"
   ]
  },
  {
   "cell_type": "code",
   "execution_count": 34,
   "metadata": {},
   "outputs": [
    {
     "data": {
      "text/plain": [
       "a        tony\n",
       "b        milo\n",
       "c         leo\n",
       "d      homero\n",
       "e        lisa\n",
       "f        zeus\n",
       "g    midnight\n",
       "h          23\n",
       "i        True\n",
       "j          92\n",
       "dtype: object"
      ]
     },
     "metadata": {},
     "output_type": "display_data"
    }
   ],
   "source": [
    "series1 = pd.Series(listas_unidas, index=indices)\n",
    "display(series1)"
   ]
  },
  {
   "cell_type": "code",
   "execution_count": 35,
   "metadata": {},
   "outputs": [
    {
     "name": "stdout",
     "output_type": "stream",
     "text": [
      "número de elementos: 10\n"
     ]
    }
   ],
   "source": [
    "print(f\"número de elementos: {len(series1)}\")"
   ]
  },
  {
   "cell_type": "code",
   "execution_count": null,
   "metadata": {},
   "outputs": [],
   "source": []
  },
  {
   "cell_type": "markdown",
   "metadata": {},
   "source": [
    "seleccionaré los elementos 'lisa', 'zeus', 'midnight' y 23 usando tanto slicing posicional como índices semánticos"
   ]
  },
  {
   "cell_type": "code",
   "execution_count": 38,
   "metadata": {},
   "outputs": [
    {
     "name": "stdout",
     "output_type": "stream",
     "text": [
      "Posicionales:\n",
      "e        lisa\n",
      "f        zeus\n",
      "g    midnight\n",
      "h          23\n",
      "dtype: object\n",
      "\n",
      "Semánticos\n",
      "e        lisa\n",
      "f        zeus\n",
      "g    midnight\n",
      "h          23\n",
      "dtype: object\n"
     ]
    }
   ],
   "source": [
    "posicionales = series1[4:8]\n",
    "semanticos = series1[\"e\":\"h\"]\n",
    "\n",
    "print(\"Posicionales:\")\n",
    "print(posicionales)\n",
    "print()\n",
    "print(\"Semánticos\")\n",
    "print(semanticos)"
   ]
  },
  {
   "cell_type": "markdown",
   "metadata": {},
   "source": [
    "Como se puede observar el resultado fue el mismo. Ambos métodos retornaron los mismos 4 elementos"
   ]
  },
  {
   "cell_type": "code",
   "execution_count": null,
   "metadata": {},
   "outputs": [],
   "source": []
  },
  {
   "cell_type": "code",
   "execution_count": null,
   "metadata": {},
   "outputs": [],
   "source": []
  },
  {
   "cell_type": "markdown",
   "metadata": {},
   "source": [
    "### A7 - Tratamiento de Datos - 40%\n",
    "\n",
    "#### Descripción\n",
    "El conjunto de datos \"estaciones_bici.csv\" (fichero disponible en carpeta act/res del drive) proviene de una descarga de datos del servicio web de la empresa municipal Valenbici, dedicada al alquiler de bicicletas en Valencia.\n",
    "\n",
    "Los datos recabados de este servicio web son de mediciones cada 15 minutos de cada una de las estaciones disponibles:\n",
    "\n",
    "http://www.valenbisi.es/service/carto/json\n",
    "\n",
    "Cada estación está compuesta por un número variable de bornetas (total) donde se pueden anclar las bicicletas. Los datos obtenidos de cada estación (registros) refleja el número de bornetas libres (free) y el número de bicicletas disponibles (available).\n",
    "\n",
    "http://www.valenbisi.es/service/stationdetails/valence/[número de estación]\n",
    "\n",
    "#### Columnas para trabajar:\n",
    "- station: id de la estación\n",
    "- total: número de bornetas disponibles\n",
    "- download_date: timestamp de la descarga de datos\n",
    "- available: número de bicis disponibles\n",
    "\n",
    "#### Ejercicio\n",
    "- Carga de datos de csv (estaciones_bici.csv) en un DataFrame\n",
    "- Obtención del número de estaciones que tienen 30 bornetas disponibles\n",
    "- Número de estación con la media más alta de bicis disponibles\n",
    "- Realizar el histograma de bicis disponibles de la estación del punto anterior\n",
    "- Realizar gráfica con  la línea temporal de bicis disponibles de la estación del punto anterior. Pista, es necesario cambiar el índice a uno tipo fecha"
   ]
  },
  {
   "cell_type": "markdown",
   "metadata": {},
   "source": [
    "#### Carga de datos de csv (estaciones_bici.csv) en un DataFrame"
   ]
  },
  {
   "cell_type": "code",
   "execution_count": 39,
   "metadata": {},
   "outputs": [
    {
     "name": "stdout",
     "output_type": "stream",
     "text": [
      "(27547, 10)\n"
     ]
    },
    {
     "data": {
      "text/html": [
       "<div>\n",
       "<style scoped>\n",
       "    .dataframe tbody tr th:only-of-type {\n",
       "        vertical-align: middle;\n",
       "    }\n",
       "\n",
       "    .dataframe tbody tr th {\n",
       "        vertical-align: top;\n",
       "    }\n",
       "\n",
       "    .dataframe thead th {\n",
       "        text-align: right;\n",
       "    }\n",
       "</style>\n",
       "<table border=\"1\" class=\"dataframe\">\n",
       "  <thead>\n",
       "    <tr style=\"text-align: right;\">\n",
       "      <th></th>\n",
       "      <th>_id</th>\n",
       "      <th>available</th>\n",
       "      <th>connected</th>\n",
       "      <th>download_date</th>\n",
       "      <th>station</th>\n",
       "      <th>free</th>\n",
       "      <th>open</th>\n",
       "      <th>ticket</th>\n",
       "      <th>total</th>\n",
       "      <th>updated</th>\n",
       "    </tr>\n",
       "  </thead>\n",
       "  <tbody>\n",
       "    <tr>\n",
       "      <th>0</th>\n",
       "      <td>5c6050a42554172704fccdc0</td>\n",
       "      <td>9</td>\n",
       "      <td>1</td>\n",
       "      <td>2019-02-10 17:25:37.787</td>\n",
       "      <td>64</td>\n",
       "      <td>11</td>\n",
       "      <td>1</td>\n",
       "      <td>0</td>\n",
       "      <td>20</td>\n",
       "      <td>2019-02-10 17:21:13.000</td>\n",
       "    </tr>\n",
       "    <tr>\n",
       "      <th>1</th>\n",
       "      <td>5c6050a42554172704fccdc1</td>\n",
       "      <td>6</td>\n",
       "      <td>1</td>\n",
       "      <td>2019-02-10 17:25:37.787</td>\n",
       "      <td>73</td>\n",
       "      <td>14</td>\n",
       "      <td>1</td>\n",
       "      <td>1</td>\n",
       "      <td>20</td>\n",
       "      <td>2019-02-10 17:24:13.000</td>\n",
       "    </tr>\n",
       "    <tr>\n",
       "      <th>2</th>\n",
       "      <td>5c605be225541729b7d50885</td>\n",
       "      <td>20</td>\n",
       "      <td>1</td>\n",
       "      <td>2019-02-10 18:13:39.827</td>\n",
       "      <td>63</td>\n",
       "      <td>0</td>\n",
       "      <td>1</td>\n",
       "      <td>1</td>\n",
       "      <td>20</td>\n",
       "      <td>2019-02-10 18:09:16.000</td>\n",
       "    </tr>\n",
       "    <tr>\n",
       "      <th>3</th>\n",
       "      <td>5c605be225541729b7d50886</td>\n",
       "      <td>6</td>\n",
       "      <td>1</td>\n",
       "      <td>2019-02-10 18:13:39.827</td>\n",
       "      <td>64</td>\n",
       "      <td>14</td>\n",
       "      <td>1</td>\n",
       "      <td>0</td>\n",
       "      <td>20</td>\n",
       "      <td>2019-02-10 18:12:15.000</td>\n",
       "    </tr>\n",
       "    <tr>\n",
       "      <th>4</th>\n",
       "      <td>5c605be225541729b7d50887</td>\n",
       "      <td>9</td>\n",
       "      <td>1</td>\n",
       "      <td>2019-02-10 18:13:39.827</td>\n",
       "      <td>65</td>\n",
       "      <td>10</td>\n",
       "      <td>1</td>\n",
       "      <td>1</td>\n",
       "      <td>19</td>\n",
       "      <td>2019-02-10 18:09:16.000</td>\n",
       "    </tr>\n",
       "  </tbody>\n",
       "</table>\n",
       "</div>"
      ],
      "text/plain": [
       "                        _id  available  connected            download_date  \\\n",
       "0  5c6050a42554172704fccdc0          9          1  2019-02-10 17:25:37.787   \n",
       "1  5c6050a42554172704fccdc1          6          1  2019-02-10 17:25:37.787   \n",
       "2  5c605be225541729b7d50885         20          1  2019-02-10 18:13:39.827   \n",
       "3  5c605be225541729b7d50886          6          1  2019-02-10 18:13:39.827   \n",
       "4  5c605be225541729b7d50887          9          1  2019-02-10 18:13:39.827   \n",
       "\n",
       "   station  free  open  ticket  total                  updated  \n",
       "0       64    11     1       0     20  2019-02-10 17:21:13.000  \n",
       "1       73    14     1       1     20  2019-02-10 17:24:13.000  \n",
       "2       63     0     1       1     20  2019-02-10 18:09:16.000  \n",
       "3       64    14     1       0     20  2019-02-10 18:12:15.000  \n",
       "4       65    10     1       1     19  2019-02-10 18:09:16.000  "
      ]
     },
     "execution_count": 39,
     "metadata": {},
     "output_type": "execute_result"
    }
   ],
   "source": [
    "estaciones = pd.read_csv(\"estaciones_bici.csv\", sep=\";\")\n",
    "estaciones.drop([\"Unnamed: 0\"], axis=1, inplace=True) # eliminar la columna que leyó de índices sin nombre\n",
    "print(estaciones.shape)\n",
    "estaciones.head()"
   ]
  },
  {
   "cell_type": "code",
   "execution_count": 40,
   "metadata": {},
   "outputs": [],
   "source": [
    "estaciones[\"updated\"] = pd.to_datetime(estaciones[\"updated\"])"
   ]
  },
  {
   "cell_type": "markdown",
   "metadata": {},
   "source": [
    "#### Obtención del número de estaciones que tienen 30 bornetas disponibles"
   ]
  },
  {
   "cell_type": "code",
   "execution_count": 69,
   "metadata": {},
   "outputs": [
    {
     "name": "stdout",
     "output_type": "stream",
     "text": [
      "El número de estaciones que tienen 30 bornetas disponibles:\n",
      "11\n"
     ]
    }
   ],
   "source": [
    "est_30_disp = estaciones[estaciones.total==30]\n",
    "\n",
    "print(\"El número de estaciones que tienen 30 bornetas disponibles:\")\n",
    "print(est_30_disp.station.nunique())"
   ]
  },
  {
   "cell_type": "code",
   "execution_count": 121,
   "metadata": {},
   "outputs": [
    {
     "name": "stdout",
     "output_type": "stream",
     "text": [
      "Estas 11 estaciones que 30 bornetas disponibles son:\n",
      "estación número: 101\n",
      "estación número: 117\n",
      "estación número: 89\n",
      "estación número: 105\n",
      "estación número: 143\n",
      "estación número: 110\n",
      "estación número: 111\n",
      "estación número: 114\n",
      "estación número: 189\n",
      "estación número: 226\n",
      "estación número: 246\n"
     ]
    }
   ],
   "source": [
    "print(\"Estas 11 estaciones que 30 bornetas disponibles son:\")\n",
    "for est in est_30_disp.station.unique():\n",
    "    print(f\"estación número: {est}\")"
   ]
  },
  {
   "cell_type": "code",
   "execution_count": null,
   "metadata": {},
   "outputs": [],
   "source": []
  },
  {
   "cell_type": "markdown",
   "metadata": {},
   "source": [
    "#### Número de estación con la media más alta de bicis disponibles"
   ]
  },
  {
   "cell_type": "code",
   "execution_count": 122,
   "metadata": {},
   "outputs": [],
   "source": [
    "mean_available_df = estaciones.groupby(\"station\")[\"available\"].mean().reset_index()\n",
    "\n",
    "max_mean = max(mean_available_df.available)\n",
    "max_station = mean_available_df[mean_available_df.available == max_mean].iloc[0,0]"
   ]
  },
  {
   "cell_type": "code",
   "execution_count": 123,
   "metadata": {},
   "outputs": [
    {
     "name": "stdout",
     "output_type": "stream",
     "text": [
      "la estación número 50 presenta la media más alta de bicis disponibles, con un valor de 31.26\n"
     ]
    }
   ],
   "source": [
    "print(f\"la estación número {max_station} presenta la media más alta de bicis disponibles, con un valor de {max_mean}\")"
   ]
  },
  {
   "cell_type": "code",
   "execution_count": null,
   "metadata": {},
   "outputs": [],
   "source": []
  },
  {
   "cell_type": "markdown",
   "metadata": {},
   "source": [
    "#### Realizar el histograma de bicis disponibles de la estación del punto anterior"
   ]
  },
  {
   "cell_type": "code",
   "execution_count": 124,
   "metadata": {},
   "outputs": [],
   "source": [
    "max_station_df = estaciones[estaciones.station == max_station]"
   ]
  },
  {
   "cell_type": "code",
   "execution_count": 125,
   "metadata": {},
   "outputs": [
    {
     "data": {
      "image/png": "[encoded data removed]",
      "text/plain": [
       "<Figure size 432x288 with 1 Axes>"
      ]
     },
     "metadata": {
      "needs_background": "light"
     },
     "output_type": "display_data"
    }
   ],
   "source": [
    "plt.hist(max_station_df.available)\n",
    "plt.title(f\"Histograma de bicis disponibles para la estación #{max_station}\")\n",
    "plt.xlabel(\"Número de bicis disponible\")\n",
    "plt.ylabel(\"Frecuencia\")\n",
    "plt.show()"
   ]
  },
  {
   "cell_type": "code",
   "execution_count": 126,
   "metadata": {},
   "outputs": [
    {
     "data": {
      "image/png": "[encoded data removed]",
      "text/plain": [
       "<Figure size 432x288 with 1 Axes>"
      ]
     },
     "metadata": {
      "needs_background": "light"
     },
     "output_type": "display_data"
    }
   ],
   "source": [
    "# Miremos la distribución empírica que seguiría este histograma\n",
    "sns.distplot(max_station_df.available)\n",
    "plt.title(f\"Histograma de bicis disponibles para la estación #{max_station}\")\n",
    "plt.xlabel(\"Número de bicis disponible\")\n",
    "plt.ylabel(\"Frecuencia\")\n",
    "plt.show()"
   ]
  },
  {
   "cell_type": "code",
   "execution_count": null,
   "metadata": {},
   "outputs": [],
   "source": []
  },
  {
   "cell_type": "markdown",
   "metadata": {},
   "source": [
    "#### Realizar gráfica con la línea temporal de bicis disponibles de la estación del punto anterior. Pista, es necesario cambiar el índice a uno tipo fecha"
   ]
  },
  {
   "cell_type": "code",
   "execution_count": 127,
   "metadata": {},
   "outputs": [],
   "source": [
    "max_station_df_sorted = max_station_df.sort_values(\"updated\")"
   ]
  },
  {
   "cell_type": "code",
   "execution_count": 128,
   "metadata": {},
   "outputs": [
    {
     "data": {
      "image/png": "[encoded data removed]",
      "text/plain": [
       "<Figure size 720x360 with 1 Axes>"
      ]
     },
     "metadata": {
      "needs_background": "light"
     },
     "output_type": "display_data"
    }
   ],
   "source": [
    "plt.figure(figsize=(10,5))\n",
    "plt.plot(max_station_df_sorted[\"updated\"], max_station_df_sorted[\"available\"])\n",
    "plt.xticks(rotation=60)\n",
    "plt.xlabel(\"Fecha\")\n",
    "plt.ylabel(\"número bicis disponibles\")\n",
    "plt.title(f\"Bicis disponibles por fecha para la estación #{max_station}\")\n",
    "plt.show()"
   ]
  },
  {
   "cell_type": "code",
   "execution_count": null,
   "metadata": {},
   "outputs": [],
   "source": []
  },
  {
   "cell_type": "code",
   "execution_count": null,
   "metadata": {},
   "outputs": [],
   "source": []
  }
 ],
 "metadata": {
  "kernelspec": {
   "display_name": "Python 3",
   "language": "python",
   "name": "python3"
  },
  "language_info": {
   "codemirror_mode": {
    "name": "ipython",
    "version": 3
   },
   "file_extension": ".py",
   "mimetype": "text/x-python",
   "name": "python",
   "nbconvert_exporter": "python",
   "pygments_lexer": "ipython3",
   "version": "3.7.1"
  }
 },
 "nbformat": 4,
 "nbformat_minor": 2
}
