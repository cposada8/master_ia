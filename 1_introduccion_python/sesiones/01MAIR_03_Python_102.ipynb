{
 "cells": [
  {
   "cell_type": "markdown",
   "metadata": {
    "slideshow": {
     "slide_type": "slide"
    }
   },
   "source": [
    "<img src=\"img/viu_logo.png\" width=\"200\">\n",
    "\n",
    "## 01MAIR - Introducción a Python 102\n",
    "\n",
    "![logo](img/python_logo.png)\n",
    "\n",
    "*Ivan Fuertes*"
   ]
  },
  {
   "cell_type": "markdown",
   "metadata": {
    "slideshow": {
     "slide_type": "slide"
    }
   },
   "source": [
    "# En la clase anterior...\n",
    "- Sintaxis básica de Python\n",
    "- Loops\n",
    "- Condicionales\n",
    "- Colecciones (tuplas, listas y secuencias)"
   ]
  },
  {
   "cell_type": "markdown",
   "metadata": {
    "slideshow": {
     "slide_type": "subslide"
    }
   },
   "source": [
    "# Sumario\n",
    "- Colecciones: diccionarios y sets\n",
    "- Funciones\n",
    "- Escribir y leer archivos"
   ]
  },
  {
   "cell_type": "markdown",
   "metadata": {
    "slideshow": {
     "slide_type": "slide"
    }
   },
   "source": [
    "## Diccionarios\n",
    "- Son mutables\n",
    "- Colección de parejas clave : valor. [JSON specification](https://www.json.org/)\n",
    " - claves --> cualquier objeto inmutable\n",
    "- Desde la versión 3.6 están ordenados.\n",
    " - https://mail.python.org/pipermail/python-dev/2017-December/151283.html\n",
    " - https://pymotw.com/2/collections/ordereddict.html\n",
    "- Libreria Json. https://docs.python.org/3/library/json.html"
   ]
  },
  {
   "cell_type": "code",
   "execution_count": 1,
   "metadata": {
    "slideshow": {
     "slide_type": "fragment"
    }
   },
   "outputs": [],
   "source": [
    "# crear un diccionario\n",
    "dict_simple = {'ID' : 'XCSDe1194', 'Nombre' : 'Carlos', 'Edad' : 34}\n",
    "# los valores pueden ser una lista. Pensar en excel o csv\n",
    "dict_columnas = {'ID' : ['XCSDe1194','GTIM11'], 'Nombre' : ['Carlos','Mark'], 'Edad' : [34,21]}"
   ]
  },
  {
   "cell_type": "code",
   "execution_count": 2,
   "metadata": {
    "slideshow": {
     "slide_type": "fragment"
    }
   },
   "outputs": [
    {
     "name": "stdout",
     "output_type": "stream",
     "text": [
      "{(1, 2): 'carlos'}\n"
     ]
    }
   ],
   "source": [
    "# y una lista?\n",
    "# dict1 = { [1,2] : 'dato'}\n",
    "dict_simple = {(1,2) : 'carlos'} # una tupla puede utilizarse como clave porque es inmutable\n",
    "print(dict_simple)"
   ]
  },
  {
   "cell_type": "code",
   "execution_count": 3,
   "metadata": {
    "slideshow": {
     "slide_type": "fragment"
    }
   },
   "outputs": [
    {
     "name": "stdout",
     "output_type": "stream",
     "text": [
      "{'Marie': 98, 'Augusto': 76, 'Domingo': 65}\n"
     ]
    }
   ],
   "source": [
    "# Crear diccionarios uniendo dos colecciones\n",
    "nombres = ['Marie','Augusto','Domingo']\n",
    "edades = [98,76,65]\n",
    "\n",
    "datos = dict(zip(nombres,edades) )\n",
    "print(datos)"
   ]
  },
  {
   "cell_type": "code",
   "execution_count": 4,
   "metadata": {
    "slideshow": {
     "slide_type": "fragment"
    }
   },
   "outputs": [
    {
     "name": "stdout",
     "output_type": "stream",
     "text": [
      "{'Marie': 98, 'Augusto': 76, 'Domingo': 65}\n"
     ]
    }
   ],
   "source": [
    "# Crear diccionarios uniendo dos colecciones (comprehension list)\n",
    "nombres = ['Marie','Augusto','Domingo']\n",
    "edades = [98,76,65]\n",
    "\n",
    "datos = {k:v for k,v in zip(nombres,edades)}\n",
    "print(datos)"
   ]
  },
  {
   "cell_type": "code",
   "execution_count": 5,
   "metadata": {
    "slideshow": {
     "slide_type": "subslide"
    }
   },
   "outputs": [
    {
     "name": "stdout",
     "output_type": "stream",
     "text": [
      "Carlos\n",
      "{'ID': 'XCSDe1194', 'Nombre': 'Carlos', 'Edad': 34, 'Usuario': 'bundenth'}\n",
      "{'ID': 'XCSDe1194', 'Nombre': 'Manolo', 'Edad': 34, 'Usuario': 'bundenth'}\n",
      "{'ID': 'XCSDe1194', 'Edad': 34}\n",
      "Manolo\n"
     ]
    }
   ],
   "source": [
    "dict_simple = {'ID' : 'XCSDe1194', 'Nombre' : 'Carlos', 'Edad' : 34}\n",
    "# acceso a un valor a traves de la clave\n",
    "nombre = dict_simple['Nombre']\n",
    "print(nombre)\n",
    "\n",
    "# añadir un valor a traves de la clave, asignacion valor\n",
    "dict_simple['Usuario'] = 'bundenth'\n",
    "print(dict_simple)\n",
    "\n",
    "dict_simple['Nombre'] = 'Manolo'\n",
    "print(dict_simple)\n",
    "\n",
    "# eliminar un valor a traves de la clave\n",
    "del dict_simple['Usuario']\n",
    "value = dict_simple.pop('Nombre')\n",
    "print(dict_simple)\n",
    "print(value)"
   ]
  },
  {
   "cell_type": "code",
   "execution_count": 6,
   "metadata": {
    "slideshow": {
     "slide_type": "subslide"
    }
   },
   "outputs": [],
   "source": [
    "# Declarar una lista mediante dict, key, value\n",
    "dict?"
   ]
  },
  {
   "cell_type": "code",
   "execution_count": 7,
   "metadata": {
    "slideshow": {
     "slide_type": "subslide"
    }
   },
   "outputs": [
    {
     "name": "stdout",
     "output_type": "stream",
     "text": [
      "{'ciudad': 'Valencia', 'habitantes': 800000}\n",
      "{'ciudad': 'Valencia', 'habitantes': 800000}\n"
     ]
    }
   ],
   "source": [
    "# Pasando un iterador\n",
    "dict_simple = dict([['ciudad', 'Valencia'], ['habitantes', 800000]])\n",
    "print(dict_simple)\n",
    "# Pasando claves y valores\n",
    "dict_simple = dict(ciudad='Valencia', habitantes=800000)\n",
    "print(dict_simple)"
   ]
  },
  {
   "cell_type": "code",
   "execution_count": 8,
   "metadata": {
    "slideshow": {
     "slide_type": "fragment"
    }
   },
   "outputs": [
    {
     "name": "stdout",
     "output_type": "stream",
     "text": [
      "{0: 'a', 1: 's', 2: 'd', 3: 'b', 4: 'g'}\n"
     ]
    }
   ],
   "source": [
    "\n",
    "# a partir de una lista y un enumerate, comprehension\n",
    "dict_simple = {k:v for k, v in enumerate(list('asdbg'))}\n",
    "print(dict_simple)"
   ]
  },
  {
   "cell_type": "code",
   "execution_count": 9,
   "metadata": {
    "slideshow": {
     "slide_type": "fragment"
    }
   },
   "outputs": [
    {
     "name": "stdout",
     "output_type": "stream",
     "text": [
      "{'a': 0, 's': 1, 'd': 2, 'b': 3, 'g': 4}\n"
     ]
    }
   ],
   "source": [
    "# mantiene el orden a partir de 3.6\n",
    "dict_simple = {value:index for index, value in enumerate(list('asdbg'))}\n",
    "print(dict_simple)\n",
    "# en 2.7 {'a': 0, 'b': 3, 'd': 2, 'g': 4, 's': 1}"
   ]
  },
  {
   "cell_type": "markdown",
   "metadata": {
    "slideshow": {
     "slide_type": "subslide"
    }
   },
   "source": [
    "### Iterar sobre un diccionario"
   ]
  },
  {
   "cell_type": "code",
   "execution_count": 10,
   "metadata": {
    "slideshow": {
     "slide_type": "fragment"
    }
   },
   "outputs": [
    {
     "name": "stdout",
     "output_type": "stream",
     "text": [
      "Claves\n",
      "\n",
      "ID\n",
      "Nombre\n",
      "Edad\n",
      "Valores\n",
      "\n",
      "XCSDe1194\n",
      "Carlos\n",
      "34\n"
     ]
    }
   ],
   "source": [
    "dict_simple = {'ID' : 'XCSDe1194', 'Nombre' : 'Carlos', 'Edad' : 34}\n",
    "# iterar sobre las claves\n",
    "print('Claves\\n')\n",
    "for key in dict_simple.keys(): # o dict_simple\n",
    "    print(key)\n",
    "    \n",
    "print('Valores\\n')\n",
    "# iterar sobre los valores\n",
    "for value in dict_simple.values():\n",
    "    print(value)"
   ]
  },
  {
   "cell_type": "code",
   "execution_count": 11,
   "metadata": {
    "slideshow": {
     "slide_type": "fragment"
    }
   },
   "outputs": [
    {
     "name": "stdout",
     "output_type": "stream",
     "text": [
      "Clave: ID, valor: XCSDe1194\n",
      "Clave: Nombre, valor: Carlos\n",
      "Clave: Edad, valor: 34\n",
      "Item: ('ID', 'XCSDe1194')\n",
      "Item: ('Nombre', 'Carlos')\n",
      "Item: ('Edad', 34)\n",
      "Clave: ID, valor: XCSDe1194\n",
      "Clave: Nombre, valor: Carlos\n",
      "Clave: Edad, valor: 34\n"
     ]
    }
   ],
   "source": [
    "dict_simple = {'ID' : 'XCSDe1194', 'Nombre' : 'Carlos', 'Edad' : 34}\n",
    "# iterar sobre ambos, directamente con items().\n",
    "for key, value in dict_simple.items():\n",
    "    print('Clave: ' + str(key) + ', valor: ' + str(value))\n",
    "    \n",
    "for item in dict_simple.items():  # devuelve tuplas\n",
    "    print('Item: ' + str(item))\n",
    "\n",
    "# usar zip para iterar sobre Clave-Valor\n",
    "for key, value in zip(dict_simple.keys(),dict_simple.values()):\n",
    "    print('Clave: ' + str(key) + ', valor: ' + str(value))"
   ]
  },
  {
   "cell_type": "markdown",
   "metadata": {
    "slideshow": {
     "slide_type": "subslide"
    }
   },
   "source": [
    "- Diccionarios se pueden utilizar como 'switch' en otros lenguajes\n",
    "- Ideal para escoger entre varias opciones"
   ]
  },
  {
   "cell_type": "code",
   "execution_count": 12,
   "metadata": {
    "slideshow": {
     "slide_type": "fragment"
    }
   },
   "outputs": [
    {
     "name": "stdout",
     "output_type": "stream",
     "text": [
      "4\n",
      "5.0\n",
      "None\n"
     ]
    }
   ],
   "source": [
    "def switch_dict(operator, x, y):\n",
    "    # crea un diccionario de opciones y selecciona 'operator'\n",
    "    return {\n",
    "        'add': lambda: x + y,\n",
    "        'sub': lambda: x - y,\n",
    "        'mul': lambda: x * y,\n",
    "        'div': lambda: x / y,\n",
    "    }.get(operator, lambda: None)() # retorna None si no encuentra 'operator'\n",
    "\n",
    "print(switch_dict('add',2,2))\n",
    "print(switch_dict('div',10,2))\n",
    "print(switch_dict('mod',17,3))"
   ]
  },
  {
   "cell_type": "markdown",
   "metadata": {
    "slideshow": {
     "slide_type": "subslide"
    }
   },
   "source": [
    "## Sets (conjuntos)\n",
    "\n",
    "- Son mutables\n",
    "- Colecciones de elementos únicos\n",
    "- Son diccionarios sin valores (solo claves)\n",
    " - Contiene objetos inmutables"
   ]
  },
  {
   "cell_type": "code",
   "execution_count": 13,
   "metadata": {
    "slideshow": {
     "slide_type": "fragment"
    }
   },
   "outputs": [
    {
     "name": "stdout",
     "output_type": "stream",
     "text": [
      "{0, 1, 2, 3, 4, 5, 8, 13, 21}\n",
      "{(1, 2), 'user1', 12}\n",
      "{0, 1, 2, 3, 4, 5, 6, 7, 8, 9}\n",
      "{0, 1, 2, 3, 4}\n"
     ]
    }
   ],
   "source": [
    "# Crear un set\n",
    "set1 = {0,1,1,2,3,4,5,8,13,21}\n",
    "print(set1)\n",
    "  \n",
    "set2 = {'user1',12, (1,2)}\n",
    "print(set2)\n",
    "\n",
    "set3 = set(range(10))\n",
    "print(set3)\n",
    "\n",
    "set4 = set([0,1,2,3,4,0])\n",
    "print(set4)"
   ]
  },
  {
   "cell_type": "markdown",
   "metadata": {
    "slideshow": {
     "slide_type": "subslide"
    }
   },
   "source": [
    "- Basados en sets matemáticos\n",
    "- Operaciones con sets"
   ]
  },
  {
   "cell_type": "code",
   "execution_count": 20,
   "metadata": {
    "slideshow": {
     "slide_type": "fragment"
    }
   },
   "outputs": [
    {
     "name": "stdout",
     "output_type": "stream",
     "text": [
      "{0, 1, 2, 3, 4, 5, 8, 42, 13, 21}\n",
      "{0, 1, 2, 3, 4}\n",
      "{8, 13, 21, 5}\n"
     ]
    }
   ],
   "source": [
    "set1 = {0,1,1,2,3,4,5,8,13,21}\n",
    "set1\n",
    "set2 = set([0,1,2,3,4,42])\n",
    "\n",
    "# union\n",
    "print(set1 | set2)\n",
    "\n",
    "# intersección\n",
    "print(set1 & set2)\n",
    "\n",
    "# diferencia\n",
    "print(set1 - set2)"
   ]
  },
  {
   "cell_type": "code",
   "execution_count": 22,
   "metadata": {
    "slideshow": {
     "slide_type": "fragment"
    }
   },
   "outputs": [
    {
     "name": "stdout",
     "output_type": "stream",
     "text": [
      "True\n",
      "True\n",
      "False\n"
     ]
    }
   ],
   "source": [
    "set1 = {0,1,1,2,3,4,5,8,13,21}\n",
    "set2 = set([0,1,2,3,4])\n",
    "\n",
    "# funciones para la comparación de sets\n",
    "print(set2.issubset(set1)) # True\n",
    "print(set1.issuperset(set2)) # True\n",
    "\n",
    "# Nada comun entre conjuntos\n",
    "print(set1.isdisjoint(set2)) # False"
   ]
  },
  {
   "cell_type": "code",
   "execution_count": 24,
   "metadata": {
    "slideshow": {
     "slide_type": "fragment"
    }
   },
   "outputs": [
    {
     "name": "stdout",
     "output_type": "stream",
     "text": [
      "True\n"
     ]
    }
   ],
   "source": [
    "# para comprobar si una clave está presente en un set (o elemento en set)\n",
    "words = {'calm', 'balm'}\n",
    "print('calm' in words)"
   ]
  },
  {
   "cell_type": "code",
   "execution_count": null,
   "metadata": {},
   "outputs": [],
   "source": []
  },
  {
   "cell_type": "markdown",
   "metadata": {
    "slideshow": {
     "slide_type": "slide"
    }
   },
   "source": [
    "# Funciones\n",
    "- Fragmentos de código\n",
    "- Reutilizable "
   ]
  },
  {
   "cell_type": "code",
   "execution_count": 26,
   "metadata": {
    "slideshow": {
     "slide_type": "fragment"
    }
   },
   "outputs": [
    {
     "name": "stdout",
     "output_type": "stream",
     "text": [
      "9\n"
     ]
    }
   ],
   "source": [
    "def add(x,y):\n",
    "    return x + y\n",
    "\n",
    "print(add(4,5))"
   ]
  },
  {
   "cell_type": "code",
   "execution_count": 27,
   "metadata": {
    "slideshow": {
     "slide_type": "fragment"
    }
   },
   "outputs": [
    {
     "name": "stdout",
     "output_type": "stream",
     "text": [
      "{'Alfred': 87, 'James': 43, 'Peter': 19, 'Harvey': 16}\n"
     ]
    }
   ],
   "source": [
    "# definir la función primero\n",
    "def create_dict(keys,values): # argumentos (opcional)\n",
    "    return dict(zip(keys,values)) # valor de retorno (opcional)\n",
    "\n",
    "#utilizar la función después\n",
    "names = ['Alfred','James','Peter','Harvey']\n",
    "ages = [87,43,19,16]\n",
    "users = create_dict(names,ages)\n",
    "print(users)"
   ]
  },
  {
   "cell_type": "markdown",
   "metadata": {
    "slideshow": {
     "slide_type": "subslide"
    }
   },
   "source": [
    "Las funciones pueden tener argumentos (0 o más) y retornar valores (0 o más)"
   ]
  },
  {
   "cell_type": "code",
   "execution_count": 28,
   "metadata": {
    "slideshow": {
     "slide_type": "fragment"
    }
   },
   "outputs": [
    {
     "name": "stdout",
     "output_type": "stream",
     "text": [
      "Program version 0.78a\n"
     ]
    }
   ],
   "source": [
    "# función sin valor de retorno ni argumentos\n",
    "def print_version():\n",
    "    print('Program version 0.78a')\n",
    "    return # es opcional pero mejora la legibilidad\n",
    "\n",
    "print_version()"
   ]
  },
  {
   "cell_type": "code",
   "execution_count": 29,
   "metadata": {
    "slideshow": {
     "slide_type": "fragment"
    }
   },
   "outputs": [
    {
     "name": "stdout",
     "output_type": "stream",
     "text": [
      "Alfred\n",
      "James\n"
     ]
    }
   ],
   "source": [
    "# función con varios valores de retorno\n",
    "def get_first_second(collection):\n",
    "    return collection[0], collection[1] # devuelve tupla\n",
    "\n",
    "names = ['Alfred','James','Peter','Harvey']\n",
    "first, second = get_first_second(names)\n",
    "print(first)\n",
    "print(second)"
   ]
  },
  {
   "cell_type": "markdown",
   "metadata": {
    "slideshow": {
     "slide_type": "subslide"
    }
   },
   "source": [
    "Los argumentos pueden tener valores por defecto (siempre al final)"
   ]
  },
  {
   "cell_type": "code",
   "execution_count": 31,
   "metadata": {
    "slideshow": {
     "slide_type": "fragment"
    }
   },
   "outputs": [
    {
     "name": "stdout",
     "output_type": "stream",
     "text": [
      "Se ha proporcionado a\n",
      "Se ha proporcionado b\n"
     ]
    }
   ],
   "source": [
    "# Cuidado con el orden de los valores por defecto\n",
    "def f(a = None, b = None, c = None):\n",
    "    if a is not None:\n",
    "        print('Se ha proporcionado a')\n",
    "    if b is not None:\n",
    "        print('Se ha proporcionado b')\n",
    "    if c is not None:\n",
    "        print('Se ha proporcionado c')\n",
    "        \n",
    "f(1, 'hola')"
   ]
  },
  {
   "cell_type": "markdown",
   "metadata": {
    "slideshow": {
     "slide_type": "subslide"
    }
   },
   "source": [
    "Named values, si al llamar se especifica el nombre de los argumentos se puede alterar el orden"
   ]
  },
  {
   "cell_type": "code",
   "execution_count": 33,
   "metadata": {
    "slideshow": {
     "slide_type": "fragment"
    }
   },
   "outputs": [
    {
     "name": "stdout",
     "output_type": "stream",
     "text": [
      "16\n",
      "16\n"
     ]
    }
   ],
   "source": [
    "def power(base, exponent):\n",
    "    return pow(base, exponent)\n",
    "\n",
    "print(power(2,4))\n",
    "print(power(exponent = 4, base = 2))"
   ]
  },
  {
   "cell_type": "code",
   "execution_count": 36,
   "metadata": {},
   "outputs": [
    {
     "data": {
      "text/plain": [
       "27"
      ]
     },
     "execution_count": 36,
     "metadata": {},
     "output_type": "execute_result"
    }
   ],
   "source": [
    "fff = power\n",
    "fff(3,3)"
   ]
  },
  {
   "cell_type": "code",
   "execution_count": 37,
   "metadata": {},
   "outputs": [],
   "source": [
    "del fff"
   ]
  },
  {
   "cell_type": "code",
   "execution_count": null,
   "metadata": {},
   "outputs": [],
   "source": []
  },
  {
   "cell_type": "markdown",
   "metadata": {
    "slideshow": {
     "slide_type": "subslide"
    }
   },
   "source": [
    "- En python las funciones son first class citizens\n",
    "- Como cualquier otro objeto en Python, se puede guardar una función (o referencia) en una variable"
   ]
  },
  {
   "cell_type": "code",
   "execution_count": null,
   "metadata": {
    "slideshow": {
     "slide_type": "fragment"
    }
   },
   "outputs": [],
   "source": [
    "# procesar strings aplicando funciones en 'ops'\n",
    "def clean_strings(strings, ops):\n",
    "    result = []\n",
    "    for value in strings:\n",
    "        for function in ops:\n",
    "            value = function(value)\n",
    "        result.append(value)\n",
    "    return result\n",
    "\n",
    "strings = ['  valencia   ', '   barcelona', ' bilbao ']\n",
    "operations = [str.strip, str.title]\n",
    "print(clean_strings(strings,operations))"
   ]
  },
  {
   "cell_type": "markdown",
   "metadata": {
    "slideshow": {
     "slide_type": "subslide"
    }
   },
   "source": [
    "### Paso de Parámetros\n",
    "- Tipos simples por valor, int, float, string\n",
    " - Se crea una copia dentro de la función\n",
    "- Tipos complejos por referencia, list, set, dictionary\n",
    " - Se maneja directamente la variable externa, los cambios le afectan"
   ]
  },
  {
   "cell_type": "code",
   "execution_count": 41,
   "metadata": {
    "slideshow": {
     "slide_type": "fragment"
    }
   },
   "outputs": [
    {
     "name": "stdout",
     "output_type": "stream",
     "text": [
      "4\n",
      "2\n"
     ]
    }
   ],
   "source": [
    "# paso por valor\n",
    "def pow2(x):\n",
    "    x = x * x\n",
    "    print(x)\n",
    "\n",
    "a = 2\n",
    "pow2(a)\n",
    "print(a)"
   ]
  },
  {
   "cell_type": "code",
   "execution_count": 45,
   "metadata": {
    "slideshow": {
     "slide_type": "fragment"
    }
   },
   "outputs": [
    {
     "name": "stdout",
     "output_type": "stream",
     "text": [
      "[0, 1, 2]\n",
      "[0, 1, 2]\n",
      "[0, 1, 2, 33]\n",
      "[0, 1, 2, 33]\n"
     ]
    }
   ],
   "source": [
    "# paso por referencia\n",
    "def add2(x):\n",
    "    x.append(2)\n",
    "    return x\n",
    "    \n",
    "lista = [0, 1]\n",
    "lista2 = add2(lista)\n",
    "print(lista)\n",
    "print(lista2)\n",
    "lista2.append(33)\n",
    "print(lista)\n",
    "print(lista2)\n"
   ]
  },
  {
   "cell_type": "code",
   "execution_count": null,
   "metadata": {},
   "outputs": [],
   "source": []
  },
  {
   "cell_type": "code",
   "execution_count": null,
   "metadata": {
    "scrolled": true,
    "slideshow": {
     "slide_type": "fragment"
    }
   },
   "outputs": [],
   "source": [
    "# paso por valor modificando, devolver el valor\n",
    "def pow2(x):\n",
    "    return x * x\n",
    "\n",
    "a = 2\n",
    "a = pow2(a)\n",
    "print(a)"
   ]
  },
  {
   "cell_type": "code",
   "execution_count": 47,
   "metadata": {
    "slideshow": {
     "slide_type": "fragment"
    }
   },
   "outputs": [
    {
     "name": "stdout",
     "output_type": "stream",
     "text": [
      "[0, 1]\n"
     ]
    }
   ],
   "source": [
    "# paso por referencia sin modificar, enviando copia\n",
    "def add2(x):\n",
    "    x=[]\n",
    "    x.append(2)\n",
    "    \n",
    "lista = [0, 1]\n",
    "add2(lista)\n",
    "print(lista)"
   ]
  },
  {
   "cell_type": "code",
   "execution_count": null,
   "metadata": {},
   "outputs": [],
   "source": [
    "lista = [0,1]\n",
    "def add2():\n",
    "    lista.append(2)\n",
    "    \n",
    "add2()\n",
    "print(lista)"
   ]
  },
  {
   "cell_type": "markdown",
   "metadata": {
    "slideshow": {
     "slide_type": "subslide"
    }
   },
   "source": [
    "### Argumentos arbitrarios\n",
    "- No se sabe a priori cuantos elementos se reciben\n",
    "- Se reciben como una tupla"
   ]
  },
  {
   "cell_type": "code",
   "execution_count": 48,
   "metadata": {
    "slideshow": {
     "slide_type": "fragment"
    }
   },
   "outputs": [
    {
     "name": "stdout",
     "output_type": "stream",
     "text": [
      "Hola Manolo\n",
      "Hola Pepe\n",
      "Hola Luis\n",
      "Hola Alex\n"
     ]
    }
   ],
   "source": [
    "# con *\n",
    "def saludar(*names):\n",
    "    for name in names:\n",
    "        print(\"Hola \" + name)\n",
    "\n",
    "\n",
    "saludar(\"Manolo\", \"Pepe\", \"Luis\", \"Alex\") "
   ]
  },
  {
   "cell_type": "markdown",
   "metadata": {
    "slideshow": {
     "slide_type": "subslide"
    }
   },
   "source": [
    "### Recursividad"
   ]
  },
  {
   "cell_type": "code",
   "execution_count": 49,
   "metadata": {
    "slideshow": {
     "slide_type": "fragment"
    }
   },
   "outputs": [
    {
     "name": "stdout",
     "output_type": "stream",
     "text": [
      "120\n"
     ]
    }
   ],
   "source": [
    "# funcion recursiva, se llama a si misma\n",
    "def factorial(n):\n",
    "    if n == 1:\n",
    "        return n\n",
    "    else:\n",
    "        return n * factorial(n-1)\n",
    "    \n",
    "print(factorial(5))"
   ]
  },
  {
   "cell_type": "markdown",
   "metadata": {
    "slideshow": {
     "slide_type": "subslide"
    }
   },
   "source": [
    "## Funciones lambda\n",
    "- Es posible definir funciones anónimas\n",
    "- Declaración en el mismo lugar en donde se utilizan\n",
    "- Útiles cuando se quiere pasar una función como argumento a otra"
   ]
  },
  {
   "cell_type": "code",
   "execution_count": 54,
   "metadata": {
    "slideshow": {
     "slide_type": "fragment"
    }
   },
   "outputs": [
    {
     "name": "stdout",
     "output_type": "stream",
     "text": [
      "['Madrid', 'Valencia', 'Barcelona']\n"
     ]
    }
   ],
   "source": [
    "# forma general: lambda <lista de argumentos> : <valor a retornar>\n",
    "cities = ['Valencia', 'Barcelona', 'Madrid']\n",
    "cities.sort(key = lambda x : len(x))\n",
    "print(cities)"
   ]
  },
  {
   "cell_type": "code",
   "execution_count": 55,
   "metadata": {
    "slideshow": {
     "slide_type": "subslide"
    }
   },
   "outputs": [
    {
     "name": "stdout",
     "output_type": "stream",
     "text": [
      "['Madrid', 'Valencia', 'Barcelona']\n"
     ]
    }
   ],
   "source": [
    "# sin lambda\n",
    "cities = ['Valencia', 'Barcelona', 'Madrid']\n",
    "\n",
    "def cuenta(string):\n",
    "    return len(string)\n",
    "\n",
    "cities.sort(key = cuenta)\n",
    "print(cities)"
   ]
  },
  {
   "cell_type": "code",
   "execution_count": 56,
   "metadata": {
    "slideshow": {
     "slide_type": "subslide"
    }
   },
   "outputs": [
    {
     "name": "stdout",
     "output_type": "stream",
     "text": [
      "8\n",
      "9\n",
      "6\n"
     ]
    }
   ],
   "source": [
    "# se puede guardar una referencia para utilización repetida\n",
    "cities = ['Valencia', 'Barcelona', 'Madrid']\n",
    "\n",
    "f = lambda x : len(x)\n",
    "\n",
    "for s in cities:\n",
    "    print(f(s))"
   ]
  },
  {
   "cell_type": "markdown",
   "metadata": {
    "slideshow": {
     "slide_type": "subslide"
    }
   },
   "source": [
    "### Placeholders\n",
    "- pass"
   ]
  },
  {
   "cell_type": "code",
   "execution_count": 67,
   "metadata": {},
   "outputs": [
    {
     "name": "stdout",
     "output_type": "stream",
     "text": [
      "None\n"
     ]
    }
   ],
   "source": [
    "def my_function():\n",
    "    pass\n",
    "\n",
    "print(my_function())"
   ]
  },
  {
   "cell_type": "markdown",
   "metadata": {
    "slideshow": {
     "slide_type": "slide"
    }
   },
   "source": [
    "# Lectura y escritura de archivos\n",
    "- Importante para almacenar datos y para guardar progreso\n",
    "- 'Streams' para lectura y escritura\n",
    " - Nombre de archivo\n",
    " - Lectura / escritura\n",
    " - Modo de acceso"
   ]
  },
  {
   "cell_type": "code",
   "execution_count": 70,
   "metadata": {
    "slideshow": {
     "slide_type": "fragment"
    }
   },
   "outputs": [
    {
     "name": "stdout",
     "output_type": "stream",
     "text": [
      "Carne\n",
      "\n",
      "Fruta\n",
      "\n",
      "Pescado\n",
      "\n",
      "Manzana\n",
      "\n"
     ]
    }
   ],
   "source": [
    "# leer de un archivo\n",
    "fichero = open('res/lista_compra.txt')\n",
    "for line in fichero:\n",
    "    print(line)\n",
    "fichero.close()"
   ]
  },
  {
   "cell_type": "code",
   "execution_count": 75,
   "metadata": {},
   "outputs": [
    {
     "data": {
      "text/plain": [
       "<module 'ntpath' from 'C:\\\\Users\\\\user\\\\Anaconda3\\\\lib\\\\ntpath.py'>"
      ]
     },
     "execution_count": 75,
     "metadata": {},
     "output_type": "execute_result"
    }
   ],
   "source": [
    "import os\n",
    "os.path.join(\"res\")\n",
    "os.path"
   ]
  },
  {
   "cell_type": "code",
   "execution_count": 76,
   "metadata": {
    "slideshow": {
     "slide_type": "fragment"
    }
   },
   "outputs": [
    {
     "name": "stdout",
     "output_type": "stream",
     "text": [
      "['Carne\\n', 'Fruta\\n', 'Pescado\\n', 'Manzana\\n']\n",
      "['Carne\\n', 'Fruta\\n', 'Pescado\\n', 'Manzana\\n']\n"
     ]
    }
   ],
   "source": [
    "# leer de un archivo, a una lista, todo fichero en memoria\n",
    "fichero = open('res/lista_compra.txt')\n",
    "lines = fichero.readlines()\n",
    "fichero.close()\n",
    "\n",
    "print(lines)\n",
    "\n",
    "lines = open('res/lista_compra.txt').readlines()\n",
    "print(lines)"
   ]
  },
  {
   "cell_type": "code",
   "execution_count": 77,
   "metadata": {
    "slideshow": {
     "slide_type": "fragment"
    }
   },
   "outputs": [
    {
     "name": "stdout",
     "output_type": "stream",
     "text": [
      "Carne\n",
      "\n",
      "Fruta\n",
      "\n",
      "Pescado\n",
      "\n",
      "Manzana\n",
      "\n"
     ]
    }
   ],
   "source": [
    "# leer de un archivo, pythonic way\n",
    "with open('res/lista_compra.txt') as f:\n",
    "    for line in f:\n",
    "        print(line)"
   ]
  },
  {
   "cell_type": "code",
   "execution_count": 78,
   "metadata": {
    "slideshow": {
     "slide_type": "fragment"
    }
   },
   "outputs": [
    {
     "name": "stdout",
     "output_type": "stream",
     "text": [
      "['Carne\\n', 'Fruta\\n', 'Pescado\\n', 'Manzana\\n']\n",
      "['Carne\\n', 'Fruta\\n', 'Pescado\\n', 'Manzana\\n']\n"
     ]
    }
   ],
   "source": [
    "#abrir varios ficheros en el mismo with\n",
    "with open('res/lista_compra.txt') as f1, open('res/lista_compra.txt') as f2:\n",
    "    print(f1.readlines())\n",
    "    print(f2.readlines())"
   ]
  },
  {
   "cell_type": "code",
   "execution_count": 80,
   "metadata": {
    "slideshow": {
     "slide_type": "fragment"
    }
   },
   "outputs": [
    {
     "name": "stdout",
     "output_type": "stream",
     "text": [
      "['Carne\\n', 'Fruta\\n', 'Pescado\\n', 'Manzana\\n']\n",
      "['Carne', 'Fruta', 'Pescado', 'Manzana']\n"
     ]
    }
   ],
   "source": [
    "# leer todas las líneas de una vez, y eliminar cr\n",
    "with open('res/lista_compra.txt') as f:\n",
    "    lines = f.readlines()\n",
    "    print(lines)\n",
    "    \n",
    "    lines_clean = [x.rstrip() for x in lines] # elimina caracter terminación de línea (\\n)\n",
    "    print(lines_clean)"
   ]
  },
  {
   "cell_type": "markdown",
   "metadata": {
    "slideshow": {
     "slide_type": "subslide"
    }
   },
   "source": [
    "### Elegir entre escritura y lectura con modo de acceso\n",
    "\n",
    "| Modo Acceso | Desc |\n",
    "|:---------|:-----|\n",
    "| r | Solo Lectura |\n",
    "| w | Solo Escritura (Borra si el archivo ya existe) |\n",
    "| x | Solo Escritura (Falla si el archivo ya existe) |\n",
    "| a | Crea Fichero (Si existe lo abre y se añade al final) |\n",
    "| r+ | Lectura y Escritura |\n",
    "| b | Se puede añadir a otros modos para acceso binario\n",
    "| t | Acceso para archivos de texto (default) |"
   ]
  },
  {
   "cell_type": "code",
   "execution_count": 86,
   "metadata": {
    "slideshow": {
     "slide_type": "fragment"
    }
   },
   "outputs": [],
   "source": [
    "# escritura a archivo\n",
    "ruta = os.path.join(\"res\", \"o_dummy.txt\")\n",
    "with open(ruta,'wt') as f:\n",
    "    f.write('Cabecera\\n')\n",
    "    sequence = [str(x) + '\\n' for x in range(10)] # +cr\n",
    "    f.writelines(sequence)"
   ]
  },
  {
   "cell_type": "code",
   "execution_count": 88,
   "metadata": {
    "slideshow": {
     "slide_type": "fragment"
    }
   },
   "outputs": [
    {
     "name": "stdout",
     "output_type": "stream",
     "text": [
      "[]\n",
      "['foobar']\n"
     ]
    }
   ],
   "source": [
    "# flush\n",
    "ruta = os.path.join(\"res\", \"o_dummy.txt\")\n",
    "\n",
    "fichero_write = open(ruta, \"wt\")\n",
    "fichero_write.write('foobar')\n",
    "\n",
    "fichero_read = open('res/o_dummy.txt', \"rt\")\n",
    "print(fichero_read.readlines())\n",
    "\n",
    "fichero_write.flush()\n",
    "\n",
    "print(fichero_read.readlines())\n",
    "\n",
    "fichero_write.close()\n",
    "fichero_read.close()"
   ]
  },
  {
   "cell_type": "markdown",
   "metadata": {
    "slideshow": {
     "slide_type": "subslide"
    }
   },
   "source": [
    "## Lectura y escritura de archivos 'CSV'\n",
    "- Python permite interpretar datos CSV\n",
    "- Popular formato en ciencia de datos"
   ]
  },
  {
   "cell_type": "code",
   "execution_count": 89,
   "metadata": {
    "slideshow": {
     "slide_type": "fragment"
    }
   },
   "outputs": [
    {
     "name": "stdout",
     "output_type": "stream",
     "text": [
      "['OperaciÃ³n', 'DescripciÃ³n']\n",
      "['a + b', 'suma a y b']\n",
      "['a - b', 'resta a menos b']\n",
      "['a / b', 'a dividido']\n",
      "['a // b', 'a dividido entre b (quitando decimales)']\n",
      "['a % b', 'devuelve el resto de la divisiÃ³n a/b (modulus)']\n",
      "['a * b', 'a multiplicado por b']\n",
      "['a ** b', 'a elevado a b']\n"
     ]
    }
   ],
   "source": [
    "# Tabla1.csv contiene la Tabla 1 del manual, con valores separados por comas (u otro delimitador)\n",
    "import csv\n",
    "f = open('res/tabla_operaciones.csv')\n",
    "data_reader = csv.reader(f, delimiter= ',')\n",
    "\n",
    "# copiar los valores de Tabla1\n",
    "with open('res/o_tabla_operaciones.csv', 'w') as f2:\n",
    "    csv_writer = csv.writer(f2, delimiter = '|')\n",
    "    for line in data_reader:\n",
    "        print(line)\n",
    "        csv_writer.writerow(line)\n",
    "        \n",
    "f.close()"
   ]
  },
  {
   "cell_type": "markdown",
   "metadata": {
    "slideshow": {
     "slide_type": "slide"
    }
   },
   "source": [
    "# Ejercicios\n",
    "- Errores de sintaxis, corrige el código para que sea ejecutable\n",
    "- NO comentar resultados en el foro"
   ]
  },
  {
   "cell_type": "code",
   "execution_count": 95,
   "metadata": {
    "slideshow": {
     "slide_type": "fragment"
    }
   },
   "outputs": [],
   "source": [
    "dict1 = {'name' : ['Munir','Carles','Dorian'], 'ages' : [9,27,87]}"
   ]
  },
  {
   "cell_type": "code",
   "execution_count": 100,
   "metadata": {
    "slideshow": {
     "slide_type": "fragment"
    }
   },
   "outputs": [],
   "source": [
    "platforms = ['PS4', 'iOS', 'Android','PC']\n",
    "versions = [1.2,1.2,1.1,1.0]\n",
    "database = dict(zip(platforms , versions))"
   ]
  },
  {
   "cell_type": "code",
   "execution_count": 103,
   "metadata": {
    "slideshow": {
     "slide_type": "fragment"
    }
   },
   "outputs": [],
   "source": [
    "users = {'ID' : [123321,8976321], 'username': ['lamb018','xix112']}\n",
    "del users[\"ID\"]\n",
    "# drop users['ID']"
   ]
  },
  {
   "cell_type": "code",
   "execution_count": 106,
   "metadata": {
    "slideshow": {
     "slide_type": "fragment"
    }
   },
   "outputs": [
    {
     "data": {
      "text/plain": [
       "True"
      ]
     },
     "execution_count": 106,
     "metadata": {},
     "output_type": "execute_result"
    }
   ],
   "source": [
    "integer_numbers = {-5,-4,-3,-2,-1,0,1,2,3,4,5}\n",
    "positive_numbers = {1,2,3,4,5}\n",
    "negative_numbers = {-5,-4,-3,-2,-1}\n",
    "# integer_numbers.is_superset(positive_numbers)\n",
    "integer_numbers.issuperset(positive_numbers)"
   ]
  },
  {
   "cell_type": "code",
   "execution_count": 108,
   "metadata": {
    "slideshow": {
     "slide_type": "fragment"
    }
   },
   "outputs": [
    {
     "data": {
      "text/plain": [
       "True"
      ]
     },
     "execution_count": 108,
     "metadata": {},
     "output_type": "execute_result"
    }
   ],
   "source": [
    "-5 in integer_numbers"
   ]
  },
  {
   "cell_type": "code",
   "execution_count": 111,
   "metadata": {
    "slideshow": {
     "slide_type": "fragment"
    }
   },
   "outputs": [],
   "source": [
    "numbers = [x for x in range(10)]"
   ]
  },
  {
   "cell_type": "code",
   "execution_count": 114,
   "metadata": {
    "slideshow": {
     "slide_type": "fragment"
    }
   },
   "outputs": [],
   "source": [
    "def function():\n",
    "    print('This is a function')"
   ]
  },
  {
   "cell_type": "code",
   "execution_count": 117,
   "metadata": {
    "slideshow": {
     "slide_type": "fragment"
    }
   },
   "outputs": [],
   "source": [
    "def sum(a,c, b=0):\n",
    "    return a+b+c"
   ]
  },
  {
   "cell_type": "code",
   "execution_count": 119,
   "metadata": {
    "slideshow": {
     "slide_type": "fragment"
    }
   },
   "outputs": [
    {
     "data": {
      "text/plain": [
       "4"
      ]
     },
     "execution_count": 119,
     "metadata": {},
     "output_type": "execute_result"
    }
   ],
   "source": [
    "f = lambda x: len(x)\n",
    "f(['PS4', 'iOS', 'Android','PC'])"
   ]
  },
  {
   "cell_type": "code",
   "execution_count": 121,
   "metadata": {
    "slideshow": {
     "slide_type": "fragment"
    }
   },
   "outputs": [
    {
     "ename": "FileNotFoundError",
     "evalue": "[Errno 2] No such file or directory: 'lista_compra.txt'",
     "output_type": "error",
     "traceback": [
      "\u001b[1;31m---------------------------------------------------------------------------\u001b[0m",
      "\u001b[1;31mFileNotFoundError\u001b[0m                         Traceback (most recent call last)",
      "\u001b[1;32m<ipython-input-121-48e7c21c44e2>\u001b[0m in \u001b[0;36m<module>\u001b[1;34m\u001b[0m\n\u001b[0;32m      1\u001b[0m \u001b[1;31m# asumir que existe un archivo 'lista_compra.txt' en donde reside el notebook\u001b[0m\u001b[1;33m\u001b[0m\u001b[1;33m\u001b[0m\u001b[1;33m\u001b[0m\u001b[0m\n\u001b[1;32m----> 2\u001b[1;33m \u001b[1;32mwith\u001b[0m \u001b[0mopen\u001b[0m\u001b[1;33m(\u001b[0m\u001b[1;34m'lista_compra.txt'\u001b[0m\u001b[1;33m)\u001b[0m \u001b[1;32mas\u001b[0m \u001b[0mf\u001b[0m\u001b[1;33m:\u001b[0m\u001b[1;33m\u001b[0m\u001b[1;33m\u001b[0m\u001b[0m\n\u001b[0m\u001b[0;32m      3\u001b[0m     \u001b[1;32mfor\u001b[0m \u001b[0mline\u001b[0m \u001b[1;32min\u001b[0m \u001b[0mf\u001b[0m\u001b[1;33m:\u001b[0m\u001b[1;33m\u001b[0m\u001b[1;33m\u001b[0m\u001b[0m\n\u001b[0;32m      4\u001b[0m         \u001b[0mprint\u001b[0m\u001b[1;33m(\u001b[0m\u001b[0mline\u001b[0m\u001b[1;33m)\u001b[0m\u001b[1;33m\u001b[0m\u001b[1;33m\u001b[0m\u001b[0m\n",
      "\u001b[1;31mFileNotFoundError\u001b[0m: [Errno 2] No such file or directory: 'lista_compra.txt'"
     ]
    }
   ],
   "source": [
    "# asumir que existe un archivo 'lista_compra.txt' en donde reside el notebook\n",
    "with open('lista_compra.txt') as f:\n",
    "    for line in f:\n",
    "        print(line)"
   ]
  },
  {
   "cell_type": "code",
   "execution_count": null,
   "metadata": {
    "slideshow": {
     "slide_type": "fragment"
    }
   },
   "outputs": [],
   "source": [
    "# asumir que existe un archivo 'lista_compra.txt' en donde reside el notebook\n",
    "names = ['Alfred','James','Peter','Harvey']\n",
    "with open('lista_compra.txt','r') as f:\n",
    "    for name in names:\n",
    "        f.write(name)"
   ]
  }
 ],
 "metadata": {
  "celltoolbar": "Slideshow",
  "kernelspec": {
   "display_name": "Python 3",
   "language": "python",
   "name": "python3"
  },
  "language_info": {
   "codemirror_mode": {
    "name": "ipython",
    "version": 3
   },
   "file_extension": ".py",
   "mimetype": "text/x-python",
   "name": "python",
   "nbconvert_exporter": "python",
   "pygments_lexer": "ipython3",
   "version": "3.7.1"
  }
 },
 "nbformat": 4,
 "nbformat_minor": 4
}
