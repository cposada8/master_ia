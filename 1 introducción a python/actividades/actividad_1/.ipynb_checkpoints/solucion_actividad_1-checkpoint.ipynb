{
 "cells": [
  {
   "cell_type": "markdown",
   "metadata": {},
   "source": [
    "# Actividad 1"
   ]
  },
  {
   "cell_type": "markdown",
   "metadata": {},
   "source": [
    "Notebook donde se realizará la solución al notebook de actividad 1 para el curso de introducción a Python"
   ]
  },
  {
   "cell_type": "code",
   "execution_count": null,
   "metadata": {},
   "outputs": [],
   "source": []
  },
  {
   "cell_type": "markdown",
   "metadata": {},
   "source": [
    "## A1- Manejo de Jupyter notebook - 20%\n",
    "En esta sección mostraré una serie de shortcuts o atajos de teclado útiles a la hora de trabajar con jupyter notebooks"
   ]
  },
  {
   "cell_type": "markdown",
   "metadata": {},
   "source": [
    "#### Creación de celdas\n",
    "\n",
    "Para crear celdas en Jupyter puedes primero debes estar en **command mode**, para acceder a este primero se debe presionar la tecla _esc_\n",
    "Posteriormente podrás usar los siguientes atajos de teclado:\n",
    "- ctrl + a: insertar una celda arriba\n",
    "- ctrl + b: insertar una celda abajo"
   ]
  },
  {
   "cell_type": "markdown",
   "metadata": {},
   "source": [
    "#### Ejecutar el código de una celda:\n",
    "Para Ejecutar el código de una celda disponemos de los siguientes atajos de teclado:\n",
    "- Ctrl + Enter: Ejecuta la celda actual\n",
    "- Shift + Enter: ejecuta la celda actual y pasa a la siguiente celda\n",
    "- Alt + Enter: Ejecuta la celda actual y crea una nueva debajo"
   ]
  },
  {
   "cell_type": "markdown",
   "metadata": {},
   "source": [
    "#### Cambiar tipo de celda a Markdown\n",
    "las celdas por defecto son de tipo código, y usualmente requerimos que las celdas sean tipo Markdown para nuestra documentación, por lo cuál disponemos de un atajo de teclado que nos evita tener que ir con el ratón y cambiar manualmente el tipo de celda. \n",
    "\n",
    "Para utilizar este atajo debes estar primero en **command mode** (presionando _esc_)\n",
    "luego presionas la tecla **\"M\"** y la celda cambiará a modo Markdown"
   ]
  },
  {
   "cell_type": "markdown",
   "metadata": {},
   "source": [
    "#### Copiar y pegar celdas\n",
    "Primero debes seleccionar las celdas a copiar (o cortar)\n",
    "\n",
    "Para seleccionar celdas completas debes estar en **command mode**\n",
    "Si deseas seleccionar una sola celda, basta con parase sobre esta, pero si deseas seleccionar múltiples celdas, cuentas con la siguiente opción:\n",
    "- si las celdas son contiguas: puedes presionar **shift+up** o **shift down** y automáticamente seleccionarás la celda de arriba o abajo respectivamente\n",
    "\n",
    "Una vez tienes la(s) celda(s) seleccionada(s) presiona:\n",
    "- ctrl + c para copiar\n",
    "- ctrl + x para cortar\n",
    "\n",
    "Lo último sería pegarlas, para las cuales tienes 2 opciones:\n",
    "1. Pegar todo el contenido en la misma celda: seleccionas la celda destino en modo de edición y presionas **ctrl+v**\n",
    "2. Pegar las celdas como celdas individuales (como eran originalmente): seleccionas la celda destino pero en **command mode** y luego presionas **ctrl+v**"
   ]
  },
  {
   "cell_type": "markdown",
   "metadata": {},
   "source": [
    "#### Guardar Notebook\n",
    "Para guardar tus avances en el notebook presiona:\n",
    "**ctrl + s**"
   ]
  },
  {
   "cell_type": "code",
   "execution_count": null,
   "metadata": {},
   "outputs": [],
   "source": []
  },
  {
   "cell_type": "markdown",
   "metadata": {},
   "source": [
    "## A2 - Operaciones básicas - 30%\n",
    "En esta sección se pondrán en práctica algunos conceptos de operaciones básicas en Python"
   ]
  },
  {
   "cell_type": "markdown",
   "metadata": {},
   "source": [
    "- Crear una variable, asignarle un valor decimal e imprimir el tipo de la variable.\n",
    "- Convertir la variable en un string e imprimirla junto con tu nombre para que aparezca en una línea.\n",
    "- Crear una lista con números que comiencen por 30 y que termine en 60 haciendo que el paso entre cada número consecutivo sea de 0.4. (No usar Numpy)"
   ]
  },
  {
   "cell_type": "code",
   "execution_count": 48,
   "metadata": {},
   "outputs": [
    {
     "name": "stdout",
     "output_type": "stream",
     "text": [
      "el tipo de variable es: <class 'float'>\n"
     ]
    }
   ],
   "source": [
    "variable_decimal = 3.1416\n",
    "print(\"el tipo de variable es:\", type(variable_decimal))"
   ]
  },
  {
   "cell_type": "code",
   "execution_count": 49,
   "metadata": {},
   "outputs": [
    {
     "name": "stdout",
     "output_type": "stream",
     "text": [
      "Carlos Esteban Posada 3.1416\n"
     ]
    }
   ],
   "source": [
    "print(\"Carlos Esteban Posada \"+str(variable_decimal))"
   ]
  },
  {
   "cell_type": "code",
   "execution_count": null,
   "metadata": {},
   "outputs": [],
   "source": []
  },
  {
   "cell_type": "markdown",
   "metadata": {},
   "source": [
    "El punto de la lista de números lo haré con un bucle while"
   ]
  },
  {
   "cell_type": "code",
   "execution_count": 51,
   "metadata": {},
   "outputs": [],
   "source": [
    "def crear_lista(num_min, num_max, paso):\n",
    "    forma1 = []\n",
    "    num_actual = num_min\n",
    "    while num_actual < num_max:\n",
    "        forma1.append(num_actual)\n",
    "        num_actual+=paso\n",
    "    return forma1"
   ]
  },
  {
   "cell_type": "code",
   "execution_count": 66,
   "metadata": {},
   "outputs": [],
   "source": [
    "num_min = 30\n",
    "num_max = 60\n",
    "paso = 0.4\n",
    "lista_deseada = crear_lista(num_min, num_max, paso)"
   ]
  },
  {
   "cell_type": "code",
   "execution_count": 67,
   "metadata": {},
   "outputs": [
    {
     "name": "stdout",
     "output_type": "stream",
     "text": [
      "lista[0] = 30.0\n",
      "lista[1] = 30.4\n",
      "lista[2] = 30.8\n",
      "lista[3] = 31.2\n",
      "lista[4] = 31.6\n",
      "lista[5] = 32.0\n",
      "lista[6] = 32.4\n",
      "lista[7] = 32.8\n",
      "lista[8] = 33.2\n",
      "lista[9] = 33.6\n",
      "lista[10] = 34.0\n",
      "lista[11] = 34.4\n",
      "lista[12] = 34.8\n",
      "lista[13] = 35.2\n",
      "lista[14] = 35.6\n",
      "lista[15] = 36.0\n",
      "lista[16] = 36.4\n",
      "lista[17] = 36.8\n",
      "lista[18] = 37.2\n",
      "lista[19] = 37.6\n",
      "lista[20] = 38.0\n",
      "lista[21] = 38.4\n",
      "lista[22] = 38.8\n",
      "lista[23] = 39.2\n",
      "lista[24] = 39.6\n",
      "lista[25] = 40.0\n",
      "lista[26] = 40.4\n",
      "lista[27] = 40.8\n",
      "lista[28] = 41.2\n",
      "lista[29] = 41.6\n",
      "lista[30] = 42.0\n",
      "lista[31] = 42.4\n",
      "lista[32] = 42.8\n",
      "lista[33] = 43.2\n",
      "lista[34] = 43.6\n",
      "lista[35] = 44.0\n",
      "lista[36] = 44.4\n",
      "lista[37] = 44.8\n",
      "lista[38] = 45.2\n",
      "lista[39] = 45.6\n",
      "lista[40] = 46.0\n",
      "lista[41] = 46.4\n",
      "lista[42] = 46.8\n",
      "lista[43] = 47.2\n",
      "lista[44] = 47.6\n",
      "lista[45] = 48.0\n",
      "lista[46] = 48.4\n",
      "lista[47] = 48.8\n",
      "lista[48] = 49.2\n",
      "lista[49] = 49.6\n",
      "lista[50] = 50.0\n",
      "lista[51] = 50.4\n",
      "lista[52] = 50.8\n",
      "lista[53] = 51.2\n",
      "lista[54] = 51.6\n",
      "lista[55] = 52.0\n",
      "lista[56] = 52.4\n",
      "lista[57] = 52.8\n",
      "lista[58] = 53.2\n",
      "lista[59] = 53.6\n",
      "lista[60] = 54.0\n",
      "lista[61] = 54.4\n",
      "lista[62] = 54.8\n",
      "lista[63] = 55.2\n",
      "lista[64] = 55.6\n",
      "lista[65] = 56.0\n",
      "lista[66] = 56.4\n",
      "lista[67] = 56.8\n",
      "lista[68] = 57.2\n",
      "lista[69] = 57.6\n",
      "lista[70] = 58.0\n",
      "lista[71] = 58.4\n",
      "lista[72] = 58.8\n",
      "lista[73] = 59.2\n",
      "lista[74] = 59.6\n",
      "lista[75] = 60.0\n"
     ]
    }
   ],
   "source": [
    "for i, x in enumerate(lista_deseada):\n",
    "    print(\"lista[{}] = {:.1f}\".format(i, x))"
   ]
  },
  {
   "cell_type": "code",
   "execution_count": null,
   "metadata": {},
   "outputs": [],
   "source": []
  },
  {
   "cell_type": "code",
   "execution_count": null,
   "metadata": {},
   "outputs": [],
   "source": []
  },
  {
   "cell_type": "markdown",
   "metadata": {},
   "source": [
    "## A3 - Funciones - 20%\n",
    "Crear una función que devuelva si un año es bisiesto o no. Un año es bisiesto si es divisible entre 4, excepto aquellos divisibles entre 100 pero no entre 400."
   ]
  },
  {
   "cell_type": "code",
   "execution_count": 54,
   "metadata": {},
   "outputs": [],
   "source": [
    "def is_bisiesto(year):\n",
    "    if year % 4 == 0:\n",
    "        if year % 100 == 0 and year % 400 != 0:\n",
    "            return False\n",
    "        else:\n",
    "            return True\n",
    "    else:\n",
    "        return False"
   ]
  },
  {
   "cell_type": "markdown",
   "metadata": {},
   "source": [
    "Comprobemos con ejemplos la función anterior:"
   ]
  },
  {
   "cell_type": "code",
   "execution_count": 55,
   "metadata": {},
   "outputs": [],
   "source": [
    "# Lista de años que a priori sé si son o no bisiestos\n",
    "bisiestos = [1600, 2000, 2400]\n",
    "no_bisiestos = [1700, 1800, 1900, 2100, 2200, 2300, 2500, 2600]"
   ]
  },
  {
   "cell_type": "code",
   "execution_count": 56,
   "metadata": {},
   "outputs": [
    {
     "data": {
      "text/plain": [
       "[True, True, True]"
      ]
     },
     "execution_count": 56,
     "metadata": {},
     "output_type": "execute_result"
    }
   ],
   "source": [
    "[is_bisiesto(year) for year in bisiestos]"
   ]
  },
  {
   "cell_type": "code",
   "execution_count": 57,
   "metadata": {},
   "outputs": [
    {
     "data": {
      "text/plain": [
       "[False, False, False, False, False, False, False, False]"
      ]
     },
     "execution_count": 57,
     "metadata": {},
     "output_type": "execute_result"
    }
   ],
   "source": [
    "[is_bisiesto(year) for year in no_bisiestos]"
   ]
  },
  {
   "cell_type": "markdown",
   "metadata": {},
   "source": [
    "Se puede observar que la lista de los bisiestos, todos entregó True la función, y para la lista de los no bisiestos la función identificó que no lo eran"
   ]
  },
  {
   "cell_type": "code",
   "execution_count": null,
   "metadata": {},
   "outputs": [],
   "source": []
  },
  {
   "cell_type": "code",
   "execution_count": null,
   "metadata": {},
   "outputs": [],
   "source": []
  },
  {
   "cell_type": "markdown",
   "metadata": {},
   "source": [
    "## A4 - Ficheros - 30%"
   ]
  },
  {
   "cell_type": "markdown",
   "metadata": {},
   "source": [
    "- 1. Descarga datos mediante la siguiente url y devuelve una función con las ciudades de Florida en un tipo de colección Python https://raw.githubusercontent.com/grammakov/USA-cities-and-states/master/us_cities_states_counties.csv\n",
    "- 2. Imprimir el número de ciudades que tiene el estado de Florida."
   ]
  },
  {
   "cell_type": "code",
   "execution_count": 58,
   "metadata": {},
   "outputs": [],
   "source": [
    "# La data está descargada en la misma carpeta que este notebook\n",
    "ciudades_in_florida = set()\n",
    "with open(\"us_cities_states_counties.csv\") as f:\n",
    "    for line in f:\n",
    "        city, state_short, state, county, alias =line.split(\";\")\n",
    "        if state == \"Florida\":\n",
    "            ciudades_in_florida.add(city)"
   ]
  },
  {
   "cell_type": "code",
   "execution_count": 59,
   "metadata": {},
   "outputs": [
    {
     "name": "stdout",
     "output_type": "stream",
     "text": [
      "número de ciudades de florida: 537\n"
     ]
    }
   ],
   "source": [
    "num_ciudades_florida = len(ciudades_in_florida)\n",
    "print(f\"número de ciudades de florida: {num_ciudades_florida}\")"
   ]
  },
  {
   "cell_type": "code",
   "execution_count": null,
   "metadata": {},
   "outputs": [],
   "source": []
  },
  {
   "cell_type": "code",
   "execution_count": null,
   "metadata": {},
   "outputs": [],
   "source": []
  },
  {
   "cell_type": "markdown",
   "metadata": {},
   "source": [
    "## A4 - ¡Lo mismo pero con pandas!\n",
    "En este apartado (que hago de manera opcional) se realizará la actividad A4 pero con pandas"
   ]
  },
  {
   "cell_type": "code",
   "execution_count": 60,
   "metadata": {},
   "outputs": [],
   "source": [
    "import pandas as pd"
   ]
  },
  {
   "cell_type": "code",
   "execution_count": 61,
   "metadata": {},
   "outputs": [],
   "source": [
    "ruta_data = \"https://raw.githubusercontent.com/grammakov/USA-cities-and-states/master/us_cities_states_counties.csv\"\n",
    "data = pd.read_csv(ruta_data, sep=\"|\")"
   ]
  },
  {
   "cell_type": "code",
   "execution_count": 62,
   "metadata": {},
   "outputs": [
    {
     "name": "stdout",
     "output_type": "stream",
     "text": [
      "(63211, 5)\n"
     ]
    },
    {
     "data": {
      "text/html": [
       "<div>\n",
       "<style scoped>\n",
       "    .dataframe tbody tr th:only-of-type {\n",
       "        vertical-align: middle;\n",
       "    }\n",
       "\n",
       "    .dataframe tbody tr th {\n",
       "        vertical-align: top;\n",
       "    }\n",
       "\n",
       "    .dataframe thead th {\n",
       "        text-align: right;\n",
       "    }\n",
       "</style>\n",
       "<table border=\"1\" class=\"dataframe\">\n",
       "  <thead>\n",
       "    <tr style=\"text-align: right;\">\n",
       "      <th></th>\n",
       "      <th>City</th>\n",
       "      <th>State short</th>\n",
       "      <th>State full</th>\n",
       "      <th>County</th>\n",
       "      <th>City alias</th>\n",
       "    </tr>\n",
       "  </thead>\n",
       "  <tbody>\n",
       "    <tr>\n",
       "      <th>0</th>\n",
       "      <td>Holtsville</td>\n",
       "      <td>NY</td>\n",
       "      <td>New York</td>\n",
       "      <td>SUFFOLK</td>\n",
       "      <td>Internal Revenue Service</td>\n",
       "    </tr>\n",
       "    <tr>\n",
       "      <th>1</th>\n",
       "      <td>Holtsville</td>\n",
       "      <td>NY</td>\n",
       "      <td>New York</td>\n",
       "      <td>SUFFOLK</td>\n",
       "      <td>Holtsville</td>\n",
       "    </tr>\n",
       "    <tr>\n",
       "      <th>2</th>\n",
       "      <td>Adjuntas</td>\n",
       "      <td>PR</td>\n",
       "      <td>Puerto Rico</td>\n",
       "      <td>ADJUNTAS</td>\n",
       "      <td>URB San Joaquin</td>\n",
       "    </tr>\n",
       "    <tr>\n",
       "      <th>3</th>\n",
       "      <td>Adjuntas</td>\n",
       "      <td>PR</td>\n",
       "      <td>Puerto Rico</td>\n",
       "      <td>ADJUNTAS</td>\n",
       "      <td>Jard De Adjuntas</td>\n",
       "    </tr>\n",
       "    <tr>\n",
       "      <th>4</th>\n",
       "      <td>Adjuntas</td>\n",
       "      <td>PR</td>\n",
       "      <td>Puerto Rico</td>\n",
       "      <td>ADJUNTAS</td>\n",
       "      <td>Colinas Del Gigante</td>\n",
       "    </tr>\n",
       "  </tbody>\n",
       "</table>\n",
       "</div>"
      ],
      "text/plain": [
       "         City State short   State full    County                City alias\n",
       "0  Holtsville          NY     New York   SUFFOLK  Internal Revenue Service\n",
       "1  Holtsville          NY     New York   SUFFOLK                Holtsville\n",
       "2    Adjuntas          PR  Puerto Rico  ADJUNTAS           URB San Joaquin\n",
       "3    Adjuntas          PR  Puerto Rico  ADJUNTAS          Jard De Adjuntas\n",
       "4    Adjuntas          PR  Puerto Rico  ADJUNTAS       Colinas Del Gigante"
      ]
     },
     "execution_count": 62,
     "metadata": {},
     "output_type": "execute_result"
    }
   ],
   "source": [
    "# comprobemos que la data ha sido cargada en la estructura correcta\n",
    "print(data.shape)\n",
    "data.head()"
   ]
  },
  {
   "cell_type": "code",
   "execution_count": null,
   "metadata": {},
   "outputs": [],
   "source": []
  },
  {
   "cell_type": "markdown",
   "metadata": {},
   "source": [
    "### Para el apartado de imprimir el número de ciudades que pertenecen a florida, lo haré de dos formas distintas:\n",
    "- Forma 1: paso a paso haciendo filtros a la data, más legible\n",
    "- Forma 2: en un solo comando, menos legible pero más eficiente"
   ]
  },
  {
   "cell_type": "markdown",
   "metadata": {},
   "source": [
    "#### Forma 1: paso a paso"
   ]
  },
  {
   "cell_type": "code",
   "execution_count": 63,
   "metadata": {},
   "outputs": [
    {
     "data": {
      "text/html": [
       "<div>\n",
       "<style scoped>\n",
       "    .dataframe tbody tr th:only-of-type {\n",
       "        vertical-align: middle;\n",
       "    }\n",
       "\n",
       "    .dataframe tbody tr th {\n",
       "        vertical-align: top;\n",
       "    }\n",
       "\n",
       "    .dataframe thead th {\n",
       "        text-align: right;\n",
       "    }\n",
       "</style>\n",
       "<table border=\"1\" class=\"dataframe\">\n",
       "  <thead>\n",
       "    <tr style=\"text-align: right;\">\n",
       "      <th></th>\n",
       "      <th>City</th>\n",
       "      <th>State short</th>\n",
       "      <th>State full</th>\n",
       "      <th>County</th>\n",
       "      <th>City alias</th>\n",
       "    </tr>\n",
       "  </thead>\n",
       "  <tbody>\n",
       "    <tr>\n",
       "      <th>23280</th>\n",
       "      <td>Fleming Island</td>\n",
       "      <td>FL</td>\n",
       "      <td>Florida</td>\n",
       "      <td>CLAY</td>\n",
       "      <td>Orange Pk</td>\n",
       "    </tr>\n",
       "    <tr>\n",
       "      <th>23281</th>\n",
       "      <td>Fleming Island</td>\n",
       "      <td>FL</td>\n",
       "      <td>Florida</td>\n",
       "      <td>CLAY</td>\n",
       "      <td>Fleming Island</td>\n",
       "    </tr>\n",
       "    <tr>\n",
       "      <th>23282</th>\n",
       "      <td>Fleming Island</td>\n",
       "      <td>FL</td>\n",
       "      <td>Florida</td>\n",
       "      <td>CLAY</td>\n",
       "      <td>Fleming Isle</td>\n",
       "    </tr>\n",
       "    <tr>\n",
       "      <th>23283</th>\n",
       "      <td>Fleming Island</td>\n",
       "      <td>FL</td>\n",
       "      <td>Florida</td>\n",
       "      <td>CLAY</td>\n",
       "      <td>Orange Park</td>\n",
       "    </tr>\n",
       "    <tr>\n",
       "      <th>23284</th>\n",
       "      <td>Ponte Vedra Beach</td>\n",
       "      <td>FL</td>\n",
       "      <td>Florida</td>\n",
       "      <td>SAINT JOHNS</td>\n",
       "      <td>Ponte Vedra Beach</td>\n",
       "    </tr>\n",
       "  </tbody>\n",
       "</table>\n",
       "</div>"
      ],
      "text/plain": [
       "                    City State short State full       County  \\\n",
       "23280     Fleming Island          FL    Florida         CLAY   \n",
       "23281     Fleming Island          FL    Florida         CLAY   \n",
       "23282     Fleming Island          FL    Florida         CLAY   \n",
       "23283     Fleming Island          FL    Florida         CLAY   \n",
       "23284  Ponte Vedra Beach          FL    Florida  SAINT JOHNS   \n",
       "\n",
       "              City alias  \n",
       "23280          Orange Pk  \n",
       "23281     Fleming Island  \n",
       "23282       Fleming Isle  \n",
       "23283        Orange Park  \n",
       "23284  Ponte Vedra Beach  "
      ]
     },
     "execution_count": 63,
     "metadata": {},
     "output_type": "execute_result"
    }
   ],
   "source": [
    "florida_data = data[data[\"State full\"]==\"Florida\"]\n",
    "florida_data.head()"
   ]
  },
  {
   "cell_type": "code",
   "execution_count": 64,
   "metadata": {},
   "outputs": [],
   "source": [
    "# Obtener las ciudades que pertenecen a florida:\n",
    "florida_unique_cities = florida_data[\"City\"].unique()"
   ]
  },
  {
   "cell_type": "code",
   "execution_count": 65,
   "metadata": {},
   "outputs": [
    {
     "name": "stdout",
     "output_type": "stream",
     "text": [
      "número de ciudades de florida: 537\n"
     ]
    }
   ],
   "source": [
    "# Imprimir el número de ciudades que tiene el estado de florida\n",
    "print(f\"número de ciudades de florida: {len(florida_unique_cities)}\")"
   ]
  },
  {
   "cell_type": "code",
   "execution_count": null,
   "metadata": {},
   "outputs": [],
   "source": []
  },
  {
   "cell_type": "markdown",
   "metadata": {},
   "source": [
    "#### Forma 2: en un solo comando"
   ]
  },
  {
   "cell_type": "code",
   "execution_count": 31,
   "metadata": {},
   "outputs": [
    {
     "name": "stdout",
     "output_type": "stream",
     "text": [
      "número de ciudades de florida: 537\n"
     ]
    }
   ],
   "source": [
    "num_ciudades = data[data[\"State full\"]==\"Florida\"][\"City\"].nunique()\n",
    "print(f\"número de ciudades de florida: {num_ciudades}\")"
   ]
  },
  {
   "cell_type": "code",
   "execution_count": null,
   "metadata": {},
   "outputs": [],
   "source": []
  }
 ],
 "metadata": {
  "kernelspec": {
   "display_name": "Python 3",
   "language": "python",
   "name": "python3"
  },
  "language_info": {
   "codemirror_mode": {
    "name": "ipython",
    "version": 3
   },
   "file_extension": ".py",
   "mimetype": "text/x-python",
   "name": "python",
   "nbconvert_exporter": "python",
   "pygments_lexer": "ipython3",
   "version": "3.7.1"
  }
 },
 "nbformat": 4,
 "nbformat_minor": 2
}
