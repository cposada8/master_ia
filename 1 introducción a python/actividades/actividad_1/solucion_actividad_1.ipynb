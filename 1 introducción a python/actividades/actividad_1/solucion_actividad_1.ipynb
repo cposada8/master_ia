{
 "cells": [
  {
   "cell_type": "markdown",
   "metadata": {},
   "source": [
    "# Actividad 1"
   ]
  },
  {
   "cell_type": "markdown",
   "metadata": {},
   "source": [
    "Notebook donde se realizará la solución al notebook de actividad 1 para el curso de introducción a Python"
   ]
  },
  {
   "cell_type": "code",
   "execution_count": null,
   "metadata": {},
   "outputs": [],
   "source": []
  },
  {
   "cell_type": "markdown",
   "metadata": {},
   "source": [
    "## A1- Manejo de Jupyter notebook - 20%\n",
    "En esta sección mostraré una serie de shortcuts o atajos de teclado útiles a la hora de trabajar con jupyter notebooks"
   ]
  },
  {
   "cell_type": "markdown",
   "metadata": {},
   "source": [
    "#### Creación de celdas\n",
    "\n",
    "Para crear celdas en Jupyter puedes primero debes estar en **command mode**, para acceder a este primero se debe presionar la tecla _esc_\n",
    "Posteriormente podrás usar los siguientes atajos de teclado:\n",
    "- ctrl + a: insertar una celda arriba\n",
    "- ctrl + b: insertar una celda abajo"
   ]
  },
  {
   "cell_type": "markdown",
   "metadata": {},
   "source": [
    "#### Ejecutar el código de una celda:\n",
    "Para Ejecutar el código de una celda disponemos de los siguientes atajos de teclado:\n",
    "- Ctrl + Enter: Ejecuta la celda actual\n",
    "- Shift + Enter: ejecuta la celda actual y pasa a la siguiente celda\n",
    "- Alt + Enter: Ejecuta la celda actual y crea una nueva debajo"
   ]
  },
  {
   "cell_type": "markdown",
   "metadata": {},
   "source": [
    "#### Cambiar tipo de celda a Markdown\n",
    "las celdas por defecto son de tipo código, y usualmente requerimos que las celdas sean tipo Markdown para nuestra documentación, por lo cuál disponemos de un atajo de teclado que nos evita tener que ir con el ratón y cambiar manualmente el tipo de celda. \n",
    "\n",
    "Para utilizar este atajo debes estar primero en **command mode** (presionando _esc_)\n",
    "luego presionas la tecla **\"M\"** y la celda cambiará a modo Markdown"
   ]
  },
  {
   "cell_type": "markdown",
   "metadata": {},
   "source": [
    "#### Copiar y pegar celdas\n",
    "Primero debes seleccionar las celdas a copiar (o cortar)\n",
    "\n",
    "Para seleccionar celdas completas debes estar en **command mode**\n",
    "Si deseas seleccionar una sola celda, basta con parase sobre esta, pero si deseas seleccionar múltiples celdas, cuentas con la siguiente opción:\n",
    "- si las celdas son contiguas: puedes presionar **shift+up** o **shift down** y automáticamente seleccionarás la celda de arriba o abajo respectivamente\n",
    "\n",
    "Una vez tienes la(s) celda(s) seleccionada(s) presiona:\n",
    "- ctrl + c para copiar\n",
    "- ctrl + x para cortar\n",
    "\n",
    "Lo último sería pegarlas, para las cuales tienes 2 opciones:\n",
    "1. Pegar todo el contenido en la misma celda: seleccionas la celda destino en modo de edición y presionas **ctrl+v**\n",
    "2. Pegar las celdas como celdas individuales (como eran originalmente): seleccionas la celda destino pero en **command mode** y luego presionas **ctrl+v**"
   ]
  },
  {
   "cell_type": "markdown",
   "metadata": {},
   "source": [
    "#### Guardar Notebook\n",
    "Para guardar tus avances en el notebook presiona:\n",
    "**ctrl + s**"
   ]
  },
  {
   "cell_type": "code",
   "execution_count": null,
   "metadata": {},
   "outputs": [],
   "source": []
  },
  {
   "cell_type": "markdown",
   "metadata": {},
   "source": [
    "## A2 - Operaciones básicas - 30%\n",
    "En esta sección se pondrán en práctica algunos conceptos de operaciones básicas en Python"
   ]
  },
  {
   "cell_type": "markdown",
   "metadata": {},
   "source": [
    "- Crear una variable, asignarle un valor decimal e imprimir el tipo de la variable.\n",
    "- Convertir la variable en un string e imprimirla junto con tu nombre para que aparezca en una línea.\n",
    "- Crear una lista con números que comiencen por 30 y que termine en 60 haciendo que el paso entre cada número consecutivo sea de 0.4. (No usar Numpy)"
   ]
  },
  {
   "cell_type": "code",
   "execution_count": 1,
   "metadata": {},
   "outputs": [
    {
     "name": "stdout",
     "output_type": "stream",
     "text": [
      "el tipo de variable es: <class 'float'>\n"
     ]
    }
   ],
   "source": [
    "variable_decimal = 3.1416\n",
    "print(\"el tipo de variable es:\", type(variable_decimal))"
   ]
  },
  {
   "cell_type": "code",
   "execution_count": 47,
   "metadata": {},
   "outputs": [
    {
     "name": "stdout",
     "output_type": "stream",
     "text": [
      "Carlos Esteban Posada 3.1416\n"
     ]
    }
   ],
   "source": [
    "print(\"Carlos Esteban Posada \"+str(variable_decimal))"
   ]
  },
  {
   "cell_type": "code",
   "execution_count": null,
   "metadata": {},
   "outputs": [],
   "source": []
  },
  {
   "cell_type": "markdown",
   "metadata": {},
   "source": [
    "El punto de la lista de números lo haré de dos formas diferentes:\n",
    "- forma 1: con un while\n",
    "- fomra 2: utilizando range y un truco con multiplicar y dividir por 10"
   ]
  },
  {
   "cell_type": "code",
   "execution_count": 52,
   "metadata": {},
   "outputs": [],
   "source": [
    "num_min = 30\n",
    "num_max = 60\n",
    "paso = 0.4"
   ]
  },
  {
   "cell_type": "code",
   "execution_count": 53,
   "metadata": {},
   "outputs": [],
   "source": [
    "forma1 = []\n",
    "num_actual = num_min\n",
    "while num_actual < 60:\n",
    "    forma1.append(num_actual)\n",
    "    num_actual+=0.4"
   ]
  },
  {
   "cell_type": "code",
   "execution_count": 54,
   "metadata": {},
   "outputs": [],
   "source": [
    "forma2 = list(range(num_min*10, num_max*10, int(paso*10)))\n",
    "forma2 = [x/10 for x in forma2] # lo hago en 2 pasos por legibilidad"
   ]
  },
  {
   "cell_type": "code",
   "execution_count": 55,
   "metadata": {},
   "outputs": [
    {
     "name": "stdout",
     "output_type": "stream",
     "text": [
      "forma1: 30, forma2: 30.0\n",
      "forma1: 30.4, forma2: 30.4\n",
      "forma1: 30.799999999999997, forma2: 30.8\n",
      "forma1: 31.199999999999996, forma2: 31.2\n",
      "forma1: 31.599999999999994, forma2: 31.6\n",
      "forma1: 31.999999999999993, forma2: 32.0\n",
      "forma1: 32.39999999999999, forma2: 32.4\n",
      "forma1: 32.79999999999999, forma2: 32.8\n",
      "forma1: 33.19999999999999, forma2: 33.2\n",
      "forma1: 33.59999999999999, forma2: 33.6\n",
      "forma1: 33.999999999999986, forma2: 34.0\n",
      "forma1: 34.399999999999984, forma2: 34.4\n",
      "forma1: 34.79999999999998, forma2: 34.8\n",
      "forma1: 35.19999999999998, forma2: 35.2\n",
      "forma1: 35.59999999999998, forma2: 35.6\n",
      "forma1: 35.99999999999998, forma2: 36.0\n",
      "forma1: 36.39999999999998, forma2: 36.4\n",
      "forma1: 36.799999999999976, forma2: 36.8\n",
      "forma1: 37.199999999999974, forma2: 37.2\n",
      "forma1: 37.59999999999997, forma2: 37.6\n",
      "forma1: 37.99999999999997, forma2: 38.0\n",
      "forma1: 38.39999999999997, forma2: 38.4\n",
      "forma1: 38.79999999999997, forma2: 38.8\n",
      "forma1: 39.19999999999997, forma2: 39.2\n",
      "forma1: 39.599999999999966, forma2: 39.6\n",
      "forma1: 39.999999999999964, forma2: 40.0\n",
      "forma1: 40.39999999999996, forma2: 40.4\n",
      "forma1: 40.79999999999996, forma2: 40.8\n",
      "forma1: 41.19999999999996, forma2: 41.2\n",
      "forma1: 41.59999999999996, forma2: 41.6\n",
      "forma1: 41.99999999999996, forma2: 42.0\n",
      "forma1: 42.399999999999956, forma2: 42.4\n",
      "forma1: 42.799999999999955, forma2: 42.8\n",
      "forma1: 43.19999999999995, forma2: 43.2\n",
      "forma1: 43.59999999999995, forma2: 43.6\n",
      "forma1: 43.99999999999995, forma2: 44.0\n",
      "forma1: 44.39999999999995, forma2: 44.4\n",
      "forma1: 44.79999999999995, forma2: 44.8\n",
      "forma1: 45.199999999999946, forma2: 45.2\n",
      "forma1: 45.599999999999945, forma2: 45.6\n",
      "forma1: 45.99999999999994, forma2: 46.0\n",
      "forma1: 46.39999999999994, forma2: 46.4\n",
      "forma1: 46.79999999999994, forma2: 46.8\n",
      "forma1: 47.19999999999994, forma2: 47.2\n",
      "forma1: 47.59999999999994, forma2: 47.6\n",
      "forma1: 47.999999999999936, forma2: 48.0\n",
      "forma1: 48.399999999999935, forma2: 48.4\n",
      "forma1: 48.79999999999993, forma2: 48.8\n",
      "forma1: 49.19999999999993, forma2: 49.2\n",
      "forma1: 49.59999999999993, forma2: 49.6\n",
      "forma1: 49.99999999999993, forma2: 50.0\n",
      "forma1: 50.39999999999993, forma2: 50.4\n",
      "forma1: 50.799999999999926, forma2: 50.8\n",
      "forma1: 51.199999999999925, forma2: 51.2\n",
      "forma1: 51.59999999999992, forma2: 51.6\n",
      "forma1: 51.99999999999992, forma2: 52.0\n",
      "forma1: 52.39999999999992, forma2: 52.4\n",
      "forma1: 52.79999999999992, forma2: 52.8\n",
      "forma1: 53.19999999999992, forma2: 53.2\n",
      "forma1: 53.599999999999916, forma2: 53.6\n",
      "forma1: 53.999999999999915, forma2: 54.0\n",
      "forma1: 54.39999999999991, forma2: 54.4\n",
      "forma1: 54.79999999999991, forma2: 54.8\n",
      "forma1: 55.19999999999991, forma2: 55.2\n",
      "forma1: 55.59999999999991, forma2: 55.6\n",
      "forma1: 55.99999999999991, forma2: 56.0\n",
      "forma1: 56.399999999999906, forma2: 56.4\n",
      "forma1: 56.799999999999905, forma2: 56.8\n",
      "forma1: 57.1999999999999, forma2: 57.2\n",
      "forma1: 57.5999999999999, forma2: 57.6\n",
      "forma1: 57.9999999999999, forma2: 58.0\n",
      "forma1: 58.3999999999999, forma2: 58.4\n",
      "forma1: 58.7999999999999, forma2: 58.8\n",
      "forma1: 59.199999999999896, forma2: 59.2\n",
      "forma1: 59.599999999999895, forma2: 59.6\n"
     ]
    }
   ],
   "source": [
    "for i in range(len(forma2)):\n",
    "    print(f\"forma1: {forma1[i]}, forma2: {forma2[i]}\")"
   ]
  },
  {
   "cell_type": "code",
   "execution_count": null,
   "metadata": {},
   "outputs": [],
   "source": []
  },
  {
   "cell_type": "markdown",
   "metadata": {},
   "source": [
    "## A3 - Funciones - 20%\n",
    "Crear una función que devuelva si un año es bisiesto o no. Un año es bisiesto si es divisible entre 4, excepto aquellos divisibles entre 100 pero no entre 400."
   ]
  },
  {
   "cell_type": "code",
   "execution_count": 56,
   "metadata": {},
   "outputs": [],
   "source": [
    "def is_bisiesto(year):\n",
    "    if year % 4 == 0:\n",
    "        if year % 100 == 0 and year % 400 != 0:\n",
    "            return False\n",
    "        else:\n",
    "            return True\n",
    "    else:\n",
    "        return False"
   ]
  },
  {
   "cell_type": "markdown",
   "metadata": {},
   "source": [
    "Comprobemos con ejemplos la función anterior:"
   ]
  },
  {
   "cell_type": "code",
   "execution_count": 57,
   "metadata": {},
   "outputs": [],
   "source": [
    "# Lista de años que a priori sé si son o no bisiestos\n",
    "bisiestos = [1600, 2000, 2400]\n",
    "no_bisiestos = [1700, 1800, 1900, 2100, 2200, 2300, 2500, 2600]"
   ]
  },
  {
   "cell_type": "code",
   "execution_count": 58,
   "metadata": {},
   "outputs": [
    {
     "data": {
      "text/plain": [
       "[True, True, True]"
      ]
     },
     "execution_count": 58,
     "metadata": {},
     "output_type": "execute_result"
    }
   ],
   "source": [
    "[is_bisiesto(year) for year in bisiestos]"
   ]
  },
  {
   "cell_type": "code",
   "execution_count": 59,
   "metadata": {},
   "outputs": [
    {
     "data": {
      "text/plain": [
       "[False, False, False, False, False, False, False, False]"
      ]
     },
     "execution_count": 59,
     "metadata": {},
     "output_type": "execute_result"
    }
   ],
   "source": [
    "[is_bisiesto(year) for year in no_bisiestos]"
   ]
  },
  {
   "cell_type": "markdown",
   "metadata": {},
   "source": [
    "Se puede observar que la lista de los bisiestos, todos entregó True la función, y para la lista de los no bisiestos la función identificó que no lo eran"
   ]
  },
  {
   "cell_type": "code",
   "execution_count": null,
   "metadata": {},
   "outputs": [],
   "source": []
  },
  {
   "cell_type": "code",
   "execution_count": null,
   "metadata": {},
   "outputs": [],
   "source": []
  },
  {
   "cell_type": "markdown",
   "metadata": {},
   "source": [
    "## A4 - Ficheros - 30%"
   ]
  },
  {
   "cell_type": "markdown",
   "metadata": {},
   "source": [
    "- 1. Descarga datos mediante la siguiente url y devuelve una función con las ciudades de Florida en un tipo de colección Python https://raw.githubusercontent.com/grammakov/USA-cities-and-states/master/us_cities_states_counties.csv\n",
    "- 2. Imprimir el número de ciudades que tiene el estado de Florida."
   ]
  },
  {
   "cell_type": "code",
   "execution_count": 32,
   "metadata": {},
   "outputs": [],
   "source": [
    "# La data está descargada en la misma carpeta que este notebook\n",
    "ciudades_in_florida = set()\n",
    "with open(\"us_cities_states_counties.csv\") as f:\n",
    "    for line in f:\n",
    "        city, state_short, state, county, alias =line.split(\";\")\n",
    "        if state == \"Florida\":\n",
    "            ciudades_in_florida.add(city)"
   ]
  },
  {
   "cell_type": "code",
   "execution_count": 33,
   "metadata": {},
   "outputs": [
    {
     "name": "stdout",
     "output_type": "stream",
     "text": [
      "número de ciudades de florida: 537\n"
     ]
    }
   ],
   "source": [
    "num_ciudades_florida = len(ciudades_in_florida)\n",
    "print(f\"número de ciudades de florida: {num_ciudades_florida}\")"
   ]
  },
  {
   "cell_type": "code",
   "execution_count": null,
   "metadata": {},
   "outputs": [],
   "source": []
  },
  {
   "cell_type": "code",
   "execution_count": null,
   "metadata": {},
   "outputs": [],
   "source": []
  },
  {
   "cell_type": "markdown",
   "metadata": {},
   "source": [
    "## A4 - ¡Lo mismo pero con pandas!\n",
    "En este apartado (que hago de manera opcional) se realizará la actividad A4 pero con pandas"
   ]
  },
  {
   "cell_type": "code",
   "execution_count": 1,
   "metadata": {},
   "outputs": [],
   "source": [
    "import pandas as pd"
   ]
  },
  {
   "cell_type": "code",
   "execution_count": 3,
   "metadata": {},
   "outputs": [],
   "source": [
    "ruta_data = \"https://raw.githubusercontent.com/grammakov/USA-cities-and-states/master/us_cities_states_counties.csv\"\n",
    "data = pd.read_csv(ruta_data, sep=\"|\")"
   ]
  },
  {
   "cell_type": "code",
   "execution_count": 27,
   "metadata": {},
   "outputs": [
    {
     "name": "stdout",
     "output_type": "stream",
     "text": [
      "(63211, 5)\n"
     ]
    },
    {
     "data": {
      "text/html": [
       "<div>\n",
       "<style scoped>\n",
       "    .dataframe tbody tr th:only-of-type {\n",
       "        vertical-align: middle;\n",
       "    }\n",
       "\n",
       "    .dataframe tbody tr th {\n",
       "        vertical-align: top;\n",
       "    }\n",
       "\n",
       "    .dataframe thead th {\n",
       "        text-align: right;\n",
       "    }\n",
       "</style>\n",
       "<table border=\"1\" class=\"dataframe\">\n",
       "  <thead>\n",
       "    <tr style=\"text-align: right;\">\n",
       "      <th></th>\n",
       "      <th>City</th>\n",
       "      <th>State short</th>\n",
       "      <th>State full</th>\n",
       "      <th>County</th>\n",
       "      <th>City alias</th>\n",
       "    </tr>\n",
       "  </thead>\n",
       "  <tbody>\n",
       "    <tr>\n",
       "      <th>0</th>\n",
       "      <td>Holtsville</td>\n",
       "      <td>NY</td>\n",
       "      <td>New York</td>\n",
       "      <td>SUFFOLK</td>\n",
       "      <td>Internal Revenue Service</td>\n",
       "    </tr>\n",
       "    <tr>\n",
       "      <th>1</th>\n",
       "      <td>Holtsville</td>\n",
       "      <td>NY</td>\n",
       "      <td>New York</td>\n",
       "      <td>SUFFOLK</td>\n",
       "      <td>Holtsville</td>\n",
       "    </tr>\n",
       "    <tr>\n",
       "      <th>2</th>\n",
       "      <td>Adjuntas</td>\n",
       "      <td>PR</td>\n",
       "      <td>Puerto Rico</td>\n",
       "      <td>ADJUNTAS</td>\n",
       "      <td>URB San Joaquin</td>\n",
       "    </tr>\n",
       "    <tr>\n",
       "      <th>3</th>\n",
       "      <td>Adjuntas</td>\n",
       "      <td>PR</td>\n",
       "      <td>Puerto Rico</td>\n",
       "      <td>ADJUNTAS</td>\n",
       "      <td>Jard De Adjuntas</td>\n",
       "    </tr>\n",
       "    <tr>\n",
       "      <th>4</th>\n",
       "      <td>Adjuntas</td>\n",
       "      <td>PR</td>\n",
       "      <td>Puerto Rico</td>\n",
       "      <td>ADJUNTAS</td>\n",
       "      <td>Colinas Del Gigante</td>\n",
       "    </tr>\n",
       "  </tbody>\n",
       "</table>\n",
       "</div>"
      ],
      "text/plain": [
       "         City State short   State full    County                City alias\n",
       "0  Holtsville          NY     New York   SUFFOLK  Internal Revenue Service\n",
       "1  Holtsville          NY     New York   SUFFOLK                Holtsville\n",
       "2    Adjuntas          PR  Puerto Rico  ADJUNTAS           URB San Joaquin\n",
       "3    Adjuntas          PR  Puerto Rico  ADJUNTAS          Jard De Adjuntas\n",
       "4    Adjuntas          PR  Puerto Rico  ADJUNTAS       Colinas Del Gigante"
      ]
     },
     "execution_count": 27,
     "metadata": {},
     "output_type": "execute_result"
    }
   ],
   "source": [
    "# comprobemos que la data ha sido cargada en la estructura correcta\n",
    "print(data.shape)\n",
    "data.head()"
   ]
  },
  {
   "cell_type": "code",
   "execution_count": null,
   "metadata": {},
   "outputs": [],
   "source": []
  },
  {
   "cell_type": "markdown",
   "metadata": {},
   "source": [
    "### Para el apartado de imprimir el número de ciudades que pertenecen a florida, lo haré de dos formas distintas:\n",
    "- Forma 1: paso a paso haciendo filtros a la data, más legible\n",
    "- Forma 2: en un solo comando, menos legible pero más eficiente"
   ]
  },
  {
   "cell_type": "markdown",
   "metadata": {},
   "source": [
    "#### Forma 1: paso a paso"
   ]
  },
  {
   "cell_type": "code",
   "execution_count": 28,
   "metadata": {},
   "outputs": [
    {
     "data": {
      "text/html": [
       "<div>\n",
       "<style scoped>\n",
       "    .dataframe tbody tr th:only-of-type {\n",
       "        vertical-align: middle;\n",
       "    }\n",
       "\n",
       "    .dataframe tbody tr th {\n",
       "        vertical-align: top;\n",
       "    }\n",
       "\n",
       "    .dataframe thead th {\n",
       "        text-align: right;\n",
       "    }\n",
       "</style>\n",
       "<table border=\"1\" class=\"dataframe\">\n",
       "  <thead>\n",
       "    <tr style=\"text-align: right;\">\n",
       "      <th></th>\n",
       "      <th>City</th>\n",
       "      <th>State short</th>\n",
       "      <th>State full</th>\n",
       "      <th>County</th>\n",
       "      <th>City alias</th>\n",
       "    </tr>\n",
       "  </thead>\n",
       "  <tbody>\n",
       "    <tr>\n",
       "      <th>23280</th>\n",
       "      <td>Fleming Island</td>\n",
       "      <td>FL</td>\n",
       "      <td>Florida</td>\n",
       "      <td>CLAY</td>\n",
       "      <td>Orange Pk</td>\n",
       "    </tr>\n",
       "    <tr>\n",
       "      <th>23281</th>\n",
       "      <td>Fleming Island</td>\n",
       "      <td>FL</td>\n",
       "      <td>Florida</td>\n",
       "      <td>CLAY</td>\n",
       "      <td>Fleming Island</td>\n",
       "    </tr>\n",
       "    <tr>\n",
       "      <th>23282</th>\n",
       "      <td>Fleming Island</td>\n",
       "      <td>FL</td>\n",
       "      <td>Florida</td>\n",
       "      <td>CLAY</td>\n",
       "      <td>Fleming Isle</td>\n",
       "    </tr>\n",
       "    <tr>\n",
       "      <th>23283</th>\n",
       "      <td>Fleming Island</td>\n",
       "      <td>FL</td>\n",
       "      <td>Florida</td>\n",
       "      <td>CLAY</td>\n",
       "      <td>Orange Park</td>\n",
       "    </tr>\n",
       "    <tr>\n",
       "      <th>23284</th>\n",
       "      <td>Ponte Vedra Beach</td>\n",
       "      <td>FL</td>\n",
       "      <td>Florida</td>\n",
       "      <td>SAINT JOHNS</td>\n",
       "      <td>Ponte Vedra Beach</td>\n",
       "    </tr>\n",
       "  </tbody>\n",
       "</table>\n",
       "</div>"
      ],
      "text/plain": [
       "                    City State short State full       County  \\\n",
       "23280     Fleming Island          FL    Florida         CLAY   \n",
       "23281     Fleming Island          FL    Florida         CLAY   \n",
       "23282     Fleming Island          FL    Florida         CLAY   \n",
       "23283     Fleming Island          FL    Florida         CLAY   \n",
       "23284  Ponte Vedra Beach          FL    Florida  SAINT JOHNS   \n",
       "\n",
       "              City alias  \n",
       "23280          Orange Pk  \n",
       "23281     Fleming Island  \n",
       "23282       Fleming Isle  \n",
       "23283        Orange Park  \n",
       "23284  Ponte Vedra Beach  "
      ]
     },
     "execution_count": 28,
     "metadata": {},
     "output_type": "execute_result"
    }
   ],
   "source": [
    "florida_data = data[data[\"State full\"]==\"Florida\"]\n",
    "florida_data.head()"
   ]
  },
  {
   "cell_type": "code",
   "execution_count": 29,
   "metadata": {},
   "outputs": [],
   "source": [
    "# Obtener las ciudades que pertenecen a florida:\n",
    "florida_unique_cities = florida_data[\"City\"].unique()"
   ]
  },
  {
   "cell_type": "code",
   "execution_count": 30,
   "metadata": {},
   "outputs": [
    {
     "name": "stdout",
     "output_type": "stream",
     "text": [
      "número de ciudades de florida: 537\n"
     ]
    }
   ],
   "source": [
    "# Imprimir el número de ciudades que tiene el estado de florida\n",
    "print(f\"número de ciudades de florida: {len(florida_unique_cities)}\")"
   ]
  },
  {
   "cell_type": "code",
   "execution_count": null,
   "metadata": {},
   "outputs": [],
   "source": []
  },
  {
   "cell_type": "markdown",
   "metadata": {},
   "source": [
    "#### Forma 2: en un solo comando"
   ]
  },
  {
   "cell_type": "code",
   "execution_count": 31,
   "metadata": {},
   "outputs": [
    {
     "name": "stdout",
     "output_type": "stream",
     "text": [
      "número de ciudades de florida: 537\n"
     ]
    }
   ],
   "source": [
    "num_ciudades = data[data[\"State full\"]==\"Florida\"][\"City\"].nunique()\n",
    "print(f\"número de ciudades de florida: {num_ciudades}\")"
   ]
  },
  {
   "cell_type": "code",
   "execution_count": null,
   "metadata": {},
   "outputs": [],
   "source": []
  }
 ],
 "metadata": {
  "kernelspec": {
   "display_name": "Python 3",
   "language": "python",
   "name": "python3"
  },
  "language_info": {
   "codemirror_mode": {
    "name": "ipython",
    "version": 3
   },
   "file_extension": ".py",
   "mimetype": "text/x-python",
   "name": "python",
   "nbconvert_exporter": "python",
   "pygments_lexer": "ipython3",
   "version": "3.7.1"
  }
 },
 "nbformat": 4,
 "nbformat_minor": 2
}
