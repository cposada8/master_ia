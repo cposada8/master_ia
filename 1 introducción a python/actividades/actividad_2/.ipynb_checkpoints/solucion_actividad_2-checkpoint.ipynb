{
 "cells": [
  {
   "cell_type": "markdown",
   "metadata": {},
   "source": [
    "# Actividad 2"
   ]
  },
  {
   "cell_type": "markdown",
   "metadata": {},
   "source": [
    "Notebook donde se realizará la solución al notebook de actividad 2 para el curso de introducción a Python"
   ]
  },
  {
   "cell_type": "code",
   "execution_count": 239,
   "metadata": {},
   "outputs": [],
   "source": [
    "import numpy as np\n",
    "import pandas as pd\n",
    "import matplotlib.pyplot as plt"
   ]
  },
  {
   "cell_type": "code",
   "execution_count": null,
   "metadata": {},
   "outputs": [],
   "source": []
  },
  {
   "cell_type": "markdown",
   "metadata": {},
   "source": [
    "### A1 - 10%\n",
    "- Crear un array con 25 elementos de una dimensión de números ordenados y redimensionarlo para que haya una matriz cuadrada\n",
    "- Realiza un print mostrando la segunda columna"
   ]
  },
  {
   "cell_type": "code",
   "execution_count": 11,
   "metadata": {},
   "outputs": [
    {
     "name": "stdout",
     "output_type": "stream",
     "text": [
      "[ 0  1  2  3  4  5  6  7  8  9 10 11 12 13 14 15 16 17 18 19 20 21 22 23\n",
      " 24]\n",
      "[[ 0  1  2  3  4]\n",
      " [ 5  6  7  8  9]\n",
      " [10 11 12 13 14]\n",
      " [15 16 17 18 19]\n",
      " [20 21 22 23 24]]\n"
     ]
    }
   ],
   "source": [
    "array25 = np.arange(25)\n",
    "square5x5 = array25.reshape(5,5)\n",
    "print(array25)\n",
    "print(square5x5)"
   ]
  },
  {
   "cell_type": "code",
   "execution_count": 12,
   "metadata": {},
   "outputs": [
    {
     "name": "stdout",
     "output_type": "stream",
     "text": [
      "[ 1  6 11 16 21]\n"
     ]
    }
   ],
   "source": [
    "print(square5x5[:, 1])"
   ]
  },
  {
   "cell_type": "code",
   "execution_count": null,
   "metadata": {},
   "outputs": [],
   "source": []
  },
  {
   "cell_type": "markdown",
   "metadata": {},
   "source": [
    "### A2 - 10%\n",
    "- Intercambia las filas por las columnas y las columnas por las filas.\n",
    "- Modifica los valores que son pares por 1 y los impares por 0"
   ]
  },
  {
   "cell_type": "code",
   "execution_count": 26,
   "metadata": {},
   "outputs": [
    {
     "name": "stdout",
     "output_type": "stream",
     "text": [
      "[[ 0  5 10 15 20]\n",
      " [ 1  6 11 16 21]\n",
      " [ 2  7 12 17 22]\n",
      " [ 3  8 13 18 23]\n",
      " [ 4  9 14 19 24]]\n"
     ]
    }
   ],
   "source": [
    "swapped = square5x5.swapaxes(0, 1)\n",
    "print(swapped)"
   ]
  },
  {
   "cell_type": "code",
   "execution_count": 27,
   "metadata": {},
   "outputs": [
    {
     "name": "stdout",
     "output_type": "stream",
     "text": [
      "[[1 0 1 0 1]\n",
      " [0 1 0 1 0]\n",
      " [1 0 1 0 1]\n",
      " [0 1 0 1 0]\n",
      " [1 0 1 0 1]]\n"
     ]
    }
   ],
   "source": [
    "swapped = np.where(swapped%2==0, 1, 0)\n",
    "print(swapped)"
   ]
  },
  {
   "cell_type": "code",
   "execution_count": null,
   "metadata": {},
   "outputs": [],
   "source": []
  },
  {
   "cell_type": "markdown",
   "metadata": {},
   "source": [
    "### A3 - 10%\n",
    "- Genera una matriz con valores aleatorios de 0 a 100 de dimensiones 16x16\n",
    "- Calcula los siguentes estadísticos en la matriz anterior, por fila (el resultado de cada uno debe ser un array de dimensiones 1x16)\n",
    " - Suma de los elementos de cada fila\n",
    " - Media de los elementos de cada fila\n",
    " - Valores mínimos de cada fila\n",
    " - Valores máximos de cada fila"
   ]
  },
  {
   "cell_type": "code",
   "execution_count": 80,
   "metadata": {},
   "outputs": [
    {
     "data": {
      "text/plain": [
       "array([[70, 29, 35, 92, 31, 48, 35, 46, 73,  9, 11, 43, 36, 99, 26, 40],\n",
       "       [13, 42, 22, 32, 84, 10, 54, 45, 39, 67, 95, 64, 87, 40, 19, 56],\n",
       "       [ 7,  2,  3, 46, 88, 12,  9, 69, 48, 81, 25, 86, 46, 80, 64, 97],\n",
       "       [95, 13, 10, 79, 43, 32, 34, 37, 49, 83, 57, 21, 25,  1, 86, 14],\n",
       "       [90, 92, 73,  6, 61, 63, 85, 47, 22, 31, 95, 26, 36, 64, 34, 98],\n",
       "       [68, 19, 51, 76, 78, 77, 83, 15, 96, 65, 89, 74, 64, 31,  5, 32],\n",
       "       [30, 61, 34, 64, 50, 12, 38, 36, 46, 71, 83, 74, 87, 11,  7, 64],\n",
       "       [23, 23, 25, 40, 47, 54, 16, 17, 84, 25, 92,  2,  2, 61, 30, 39],\n",
       "       [33, 46, 34, 51, 19, 58, 35, 22, 60, 26, 23, 67, 77, 69, 15, 93],\n",
       "       [73, 79, 75, 10, 95, 26, 68, 39, 96, 57, 87, 39, 39, 20, 45, 72],\n",
       "       [14, 65,  9, 44, 28, 10, 38, 98, 53, 74, 49, 10, 69, 82, 23, 86],\n",
       "       [91, 86, 64, 17, 47, 83, 96, 23, 85, 73, 27, 48, 46,  7, 54, 62],\n",
       "       [50, 58,  5, 65, 18, 24, 88, 94, 35, 96, 27,  6, 24, 44, 82, 46],\n",
       "       [97, 98, 78, 83, 93, 98, 41,  4, 39, 70,  9,  3, 47, 53, 82,  0],\n",
       "       [ 8,  4, 53, 52, 73, 72, 34,  5, 59, 16, 11, 49, 88, 73, 39, 65],\n",
       "       [43, 47, 61, 69,  1, 46,  0, 34, 76, 79, 97, 17, 10, 53, 86, 78]])"
      ]
     },
     "execution_count": 80,
     "metadata": {},
     "output_type": "execute_result"
    }
   ],
   "source": [
    "mat = np.random.randint(0, 100, size=(16, 16))\n",
    "mat"
   ]
  },
  {
   "cell_type": "code",
   "execution_count": 90,
   "metadata": {},
   "outputs": [],
   "source": [
    "def reportar_estadisticos(mat, operator, axis=1):\n",
    "    respuestas = {\n",
    "        \"suma\" : mat.sum(axis=axis),\n",
    "        \"media\": mat.mean(axis=axis),\n",
    "        \"maximo\":mat.max(axis=axis),\n",
    "        \"minimo\":mat.min(axis=axis),\n",
    "        \"stdev\": mat.std(axis=axis) # no quise discriminar std entonces la agregué :P \n",
    "    }\n",
    "    return respuestas[operator]\n",
    "\n",
    "# función para imprimir varios estadísticos a la vez en un formato determinado\n",
    "def estilizar_reporte(mat, operators, axis=1):\n",
    "    print(\"matriz:\")\n",
    "    print(mat)\n",
    "    print()\n",
    "    for operator in operators:\n",
    "        estadisticos = reportar_estadisticos(mat, operator, axis)\n",
    "        print(f\"Los valores de {operator} de la matriz para el eje {axis} son:\")\n",
    "        print(estadisticos)\n",
    "        print()"
   ]
  },
  {
   "cell_type": "code",
   "execution_count": 91,
   "metadata": {},
   "outputs": [
    {
     "name": "stdout",
     "output_type": "stream",
     "text": [
      "matriz:\n",
      "[[70 29 35 92 31 48 35 46 73  9 11 43 36 99 26 40]\n",
      " [13 42 22 32 84 10 54 45 39 67 95 64 87 40 19 56]\n",
      " [ 7  2  3 46 88 12  9 69 48 81 25 86 46 80 64 97]\n",
      " [95 13 10 79 43 32 34 37 49 83 57 21 25  1 86 14]\n",
      " [90 92 73  6 61 63 85 47 22 31 95 26 36 64 34 98]\n",
      " [68 19 51 76 78 77 83 15 96 65 89 74 64 31  5 32]\n",
      " [30 61 34 64 50 12 38 36 46 71 83 74 87 11  7 64]\n",
      " [23 23 25 40 47 54 16 17 84 25 92  2  2 61 30 39]\n",
      " [33 46 34 51 19 58 35 22 60 26 23 67 77 69 15 93]\n",
      " [73 79 75 10 95 26 68 39 96 57 87 39 39 20 45 72]\n",
      " [14 65  9 44 28 10 38 98 53 74 49 10 69 82 23 86]\n",
      " [91 86 64 17 47 83 96 23 85 73 27 48 46  7 54 62]\n",
      " [50 58  5 65 18 24 88 94 35 96 27  6 24 44 82 46]\n",
      " [97 98 78 83 93 98 41  4 39 70  9  3 47 53 82  0]\n",
      " [ 8  4 53 52 73 72 34  5 59 16 11 49 88 73 39 65]\n",
      " [43 47 61 69  1 46  0 34 76 79 97 17 10 53 86 78]]\n",
      "\n",
      "Los valores de suma de la matriz para el eje 1 son:\n",
      "[723 769 763 679 923 923 768 580 728 920 752 909 762 895 701 797]\n",
      "\n",
      "Los valores de media de la matriz para el eje 1 son:\n",
      "[45.1875 48.0625 47.6875 42.4375 57.6875 57.6875 48.     36.25   45.5\n",
      " 57.5    47.     56.8125 47.625  55.9375 43.8125 49.8125]\n",
      "\n",
      "Los valores de maximo de la matriz para el eje 1 son:\n",
      "[99 95 97 95 98 96 87 92 93 96 98 96 96 98 88 97]\n",
      "\n",
      "Los valores de minimo de la matriz para el eje 1 son:\n",
      "[ 9 10  2  1  6  5  7  2 15 10  9  7  5  0  4  0]\n",
      "\n",
      "Los valores de stdev de la matriz para el eje 1 son:\n",
      "[25.14761109 25.46435928 33.00514875 28.84867577 28.6197457  27.59918194\n",
      " 24.68552207 25.27721306 22.54162816 26.13187709 28.74673895 27.12752004\n",
      " 29.43398334 35.46559733 26.98661416 29.80817579]\n",
      "\n"
     ]
    }
   ],
   "source": [
    "estadisticos_deseados = [\"suma\", \"media\", \"maximo\", \"minimo\", \"stdev\"]\n",
    "estilizar_reporte(mat, estadisticos_deseados)"
   ]
  },
  {
   "cell_type": "code",
   "execution_count": null,
   "metadata": {},
   "outputs": [],
   "source": []
  },
  {
   "cell_type": "code",
   "execution_count": null,
   "metadata": {},
   "outputs": [],
   "source": []
  },
  {
   "cell_type": "code",
   "execution_count": null,
   "metadata": {},
   "outputs": [],
   "source": []
  },
  {
   "cell_type": "code",
   "execution_count": null,
   "metadata": {},
   "outputs": [],
   "source": []
  },
  {
   "cell_type": "markdown",
   "metadata": {},
   "source": [
    "### A4 - 10%\n",
    "- Explica y expón, con un ejemplo propio, el broadcasting"
   ]
  },
  {
   "cell_type": "code",
   "execution_count": null,
   "metadata": {},
   "outputs": [],
   "source": []
  },
  {
   "cell_type": "code",
   "execution_count": null,
   "metadata": {},
   "outputs": [],
   "source": []
  },
  {
   "cell_type": "code",
   "execution_count": null,
   "metadata": {},
   "outputs": [],
   "source": []
  },
  {
   "cell_type": "code",
   "execution_count": null,
   "metadata": {},
   "outputs": [],
   "source": []
  },
  {
   "cell_type": "markdown",
   "metadata": {},
   "source": [
    "### A5 - 10%\n",
    "- Resolución de sistema de ecuaciones\n",
    " - A\n",
    " \n",
    " `-9y + 4x = 20\n",
    " -7y + 16x = 80`\n",
    "   \n",
    " - B\n",
    " \n",
    " `x - 2y + 3z = 7\n",
    " 2x + y + z = 4\n",
    " -3x + 2y -2z = -10`"
   ]
  },
  {
   "cell_type": "code",
   "execution_count": 135,
   "metadata": {},
   "outputs": [],
   "source": [
    "# elementos sistema A\n",
    "A1 = np.array([[-9, 4],\n",
    "              [-7, 16]])\n",
    "b1 = np.array([20, 80])\n",
    "\n",
    "# elementos sistema B\n",
    "A2 = np.array([[1, -2, 3],\n",
    "               [2, 1, 1],\n",
    "               [-3, 2, -2]])\n",
    "b2 = np.array([7, 4, -10])"
   ]
  },
  {
   "cell_type": "code",
   "execution_count": 136,
   "metadata": {},
   "outputs": [],
   "source": [
    "def solucionar_ecuacion_lineal(A, b):\n",
    "    print(\"A:\")\n",
    "    print(A)\n",
    "    print(\"b:\")\n",
    "    print(b)\n",
    "    x_solution = np.linalg.solve(A, b)\n",
    "    comprobante = np.dot(A, x_solution)\n",
    "    print(f\"la solución al sistema es A*x = b es: x={x_solution}\")\n",
    "    print()\n",
    "    print(\"Comprobar solución\")\n",
    "    print()\n",
    "    print(f\"A*x = {comprobante}\")\n",
    "    print(f\"b = {b}\")\n",
    "    print(f\"A*x - b = {comprobante - b}\")"
   ]
  },
  {
   "cell_type": "code",
   "execution_count": 138,
   "metadata": {},
   "outputs": [
    {
     "name": "stdout",
     "output_type": "stream",
     "text": [
      "A:\n",
      "[[-9  4]\n",
      " [-7 16]]\n",
      "b:\n",
      "[20 80]\n",
      "la solución al sistema es A*x = b es: x=[-0.  5.]\n",
      "\n",
      "Comprobar solución\n",
      "\n",
      "A*x = [20. 80.]\n",
      "b = [20 80]\n",
      "A*x - b = [0. 0.]\n"
     ]
    }
   ],
   "source": [
    "solucionar_ecuacion_lineal(A1, b1)"
   ]
  },
  {
   "cell_type": "code",
   "execution_count": 139,
   "metadata": {
    "scrolled": true
   },
   "outputs": [
    {
     "name": "stdout",
     "output_type": "stream",
     "text": [
      "A:\n",
      "[[ 1 -2  3]\n",
      " [ 2  1  1]\n",
      " [-3  2 -2]]\n",
      "b:\n",
      "[  7   4 -10]\n",
      "la solución al sistema es A*x = b es: x=[ 2. -1.  1.]\n",
      "\n",
      "Comprobar solución\n",
      "\n",
      "A*x = [  7.   4. -10.]\n",
      "b = [  7   4 -10]\n",
      "A*x - b = [0. 0. 0.]\n"
     ]
    }
   ],
   "source": [
    "solucionar_ecuacion_lineal(A2, b2)"
   ]
  },
  {
   "cell_type": "code",
   "execution_count": null,
   "metadata": {},
   "outputs": [],
   "source": []
  },
  {
   "cell_type": "markdown",
   "metadata": {},
   "source": [
    "## Pandas\n",
    "\n",
    "### A6 - 10%\n",
    "- Crea un objeto de tipo Series con las siguientes condiciones\n",
    " - 10 elementos\n",
    " - Debe contener más de un tipo básico\n",
    " - Debe utilizar índices de tipo string\n",
    "- Demuestra que los índices posicionales son los mismos que los obtenidos con índices semánticos, seleccionando a través de slicing, al menos 4 elementos de la serie anterior"
   ]
  },
  {
   "cell_type": "code",
   "execution_count": 159,
   "metadata": {},
   "outputs": [
    {
     "data": {
      "text/plain": [
       "['tony', 'milo', 'leo', 'homero', 'lisa', 'zeus', 'midnight', 23, True, 92]"
      ]
     },
     "execution_count": 159,
     "metadata": {},
     "output_type": "execute_result"
    }
   ],
   "source": [
    "mis_mascotas = [\"tony\", \"milo\", \"leo\", \"homero\", \"lisa\", \"zeus\", \"midnight\"]\n",
    "lista_otros_tipos = [23, True, 92]\n",
    "listas_unidas = mis_mascotas+lista_otros_tipos\n",
    "\n",
    "# lista con más de un tipo\n",
    "listas_unidas"
   ]
  },
  {
   "cell_type": "code",
   "execution_count": 167,
   "metadata": {},
   "outputs": [
    {
     "name": "stdout",
     "output_type": "stream",
     "text": [
      "['a', 'b', 'c', 'd', 'e', 'f', 'g', 'h', 'i', 'j']\n",
      "10\n"
     ]
    }
   ],
   "source": [
    "# creación de lista de índices de la \"a\" a la \"f\"\n",
    "indices = [chr(x) for x in range(97, 97+len(listas_unidas))]\n",
    "print(indices)\n",
    "print(len(indices))"
   ]
  },
  {
   "cell_type": "code",
   "execution_count": 173,
   "metadata": {},
   "outputs": [
    {
     "data": {
      "text/plain": [
       "a        tony\n",
       "b        milo\n",
       "c         leo\n",
       "d      homero\n",
       "e        lisa\n",
       "f        zeus\n",
       "g    midnight\n",
       "h          23\n",
       "i        True\n",
       "j          92\n",
       "dtype: object"
      ]
     },
     "metadata": {},
     "output_type": "display_data"
    }
   ],
   "source": [
    "series1 = pd.Series(listas_unidas, index=indices)\n",
    "display(series1)"
   ]
  },
  {
   "cell_type": "markdown",
   "metadata": {},
   "source": [
    "seleccionaré los elementos 'lisa', 'zeus', 'midnight' y 23 usando tanto slicing posicional como índices semánticos"
   ]
  },
  {
   "cell_type": "code",
   "execution_count": 189,
   "metadata": {},
   "outputs": [
    {
     "name": "stdout",
     "output_type": "stream",
     "text": [
      "Posicionales:\n",
      "e        lisa\n",
      "f        zeus\n",
      "g    midnight\n",
      "h          23\n",
      "dtype: object\n",
      "\n",
      "Semánticos\n",
      "e        lisa\n",
      "f        zeus\n",
      "g    midnight\n",
      "h          23\n",
      "dtype: object\n"
     ]
    }
   ],
   "source": [
    "posicionales = series1[4:8]\n",
    "semanticos = series1[\"e\":\"h\"]\n",
    "\n",
    "print(\"Posicionales:\")\n",
    "print(posicionales)\n",
    "print()\n",
    "print(\"Semánticos\")\n",
    "print(semanticos)"
   ]
  },
  {
   "cell_type": "code",
   "execution_count": 184,
   "metadata": {},
   "outputs": [],
   "source": []
  },
  {
   "cell_type": "markdown",
   "metadata": {},
   "source": [
    "### A7 - Tratamiento de Datos - 40%\n",
    "\n",
    "#### Descripción\n",
    "El conjunto de datos \"estaciones_bici.csv\" (fichero disponible en carpeta act/res del drive) proviene de una descarga de datos del servicio web de la empresa municipal Valenbici, dedicada al alquiler de bicicletas en Valencia.\n",
    "\n",
    "Los datos recabados de este servicio web son de mediciones cada 15 minutos de cada una de las estaciones disponibles:\n",
    "\n",
    "http://www.valenbisi.es/service/carto/json\n",
    "\n",
    "Cada estación está compuesta por un número variable de bornetas (total) donde se pueden anclar las bicicletas. Los datos obtenidos de cada estación (registros) refleja el número de bornetas libres (free) y el número de bicicletas disponibles (available).\n",
    "\n",
    "http://www.valenbisi.es/service/stationdetails/valence/[número de estación]\n",
    "\n",
    "#### Columnas para trabajar:\n",
    "- station: id de la estación\n",
    "- total: número de bornetas disponibles\n",
    "- download_date: timestamp de la descarga de datos\n",
    "- available: número de bicis disponibles\n",
    "\n",
    "#### Ejercicio\n",
    "- Carga de datos de csv (estaciones_bici.csv) en un DataFrame\n",
    "- Obtención del número de estaciones que tienen 30 bornetas disponibles\n",
    "- Número de estación con la media más alta de bicis disponibles\n",
    "- Realizar el histograma de bicis disponibles de la estación del punto anterior\n",
    "- Realizar gráfica con  la línea temporal de bicis disponibles de la estación del punto anterior. Pista, es necesario cambiar el índice a uno tipo fecha"
   ]
  },
  {
   "cell_type": "markdown",
   "metadata": {},
   "source": [
    "#### Carga de datos de csv (estaciones_bici.csv) en un DataFrame"
   ]
  },
  {
   "cell_type": "code",
   "execution_count": 230,
   "metadata": {},
   "outputs": [
    {
     "name": "stdout",
     "output_type": "stream",
     "text": [
      "(27547, 10)\n"
     ]
    },
    {
     "data": {
      "text/html": [
       "<div>\n",
       "<style scoped>\n",
       "    .dataframe tbody tr th:only-of-type {\n",
       "        vertical-align: middle;\n",
       "    }\n",
       "\n",
       "    .dataframe tbody tr th {\n",
       "        vertical-align: top;\n",
       "    }\n",
       "\n",
       "    .dataframe thead th {\n",
       "        text-align: right;\n",
       "    }\n",
       "</style>\n",
       "<table border=\"1\" class=\"dataframe\">\n",
       "  <thead>\n",
       "    <tr style=\"text-align: right;\">\n",
       "      <th></th>\n",
       "      <th>_id</th>\n",
       "      <th>available</th>\n",
       "      <th>connected</th>\n",
       "      <th>download_date</th>\n",
       "      <th>station</th>\n",
       "      <th>free</th>\n",
       "      <th>open</th>\n",
       "      <th>ticket</th>\n",
       "      <th>total</th>\n",
       "      <th>updated</th>\n",
       "    </tr>\n",
       "  </thead>\n",
       "  <tbody>\n",
       "    <tr>\n",
       "      <th>0</th>\n",
       "      <td>5c6050a42554172704fccdc0</td>\n",
       "      <td>9</td>\n",
       "      <td>1</td>\n",
       "      <td>2019-02-10 17:25:37.787</td>\n",
       "      <td>64</td>\n",
       "      <td>11</td>\n",
       "      <td>1</td>\n",
       "      <td>0</td>\n",
       "      <td>20</td>\n",
       "      <td>2019-02-10 17:21:13.000</td>\n",
       "    </tr>\n",
       "    <tr>\n",
       "      <th>1</th>\n",
       "      <td>5c6050a42554172704fccdc1</td>\n",
       "      <td>6</td>\n",
       "      <td>1</td>\n",
       "      <td>2019-02-10 17:25:37.787</td>\n",
       "      <td>73</td>\n",
       "      <td>14</td>\n",
       "      <td>1</td>\n",
       "      <td>1</td>\n",
       "      <td>20</td>\n",
       "      <td>2019-02-10 17:24:13.000</td>\n",
       "    </tr>\n",
       "    <tr>\n",
       "      <th>2</th>\n",
       "      <td>5c605be225541729b7d50885</td>\n",
       "      <td>20</td>\n",
       "      <td>1</td>\n",
       "      <td>2019-02-10 18:13:39.827</td>\n",
       "      <td>63</td>\n",
       "      <td>0</td>\n",
       "      <td>1</td>\n",
       "      <td>1</td>\n",
       "      <td>20</td>\n",
       "      <td>2019-02-10 18:09:16.000</td>\n",
       "    </tr>\n",
       "    <tr>\n",
       "      <th>3</th>\n",
       "      <td>5c605be225541729b7d50886</td>\n",
       "      <td>6</td>\n",
       "      <td>1</td>\n",
       "      <td>2019-02-10 18:13:39.827</td>\n",
       "      <td>64</td>\n",
       "      <td>14</td>\n",
       "      <td>1</td>\n",
       "      <td>0</td>\n",
       "      <td>20</td>\n",
       "      <td>2019-02-10 18:12:15.000</td>\n",
       "    </tr>\n",
       "    <tr>\n",
       "      <th>4</th>\n",
       "      <td>5c605be225541729b7d50887</td>\n",
       "      <td>9</td>\n",
       "      <td>1</td>\n",
       "      <td>2019-02-10 18:13:39.827</td>\n",
       "      <td>65</td>\n",
       "      <td>10</td>\n",
       "      <td>1</td>\n",
       "      <td>1</td>\n",
       "      <td>19</td>\n",
       "      <td>2019-02-10 18:09:16.000</td>\n",
       "    </tr>\n",
       "  </tbody>\n",
       "</table>\n",
       "</div>"
      ],
      "text/plain": [
       "                        _id  available  connected            download_date  \\\n",
       "0  5c6050a42554172704fccdc0          9          1  2019-02-10 17:25:37.787   \n",
       "1  5c6050a42554172704fccdc1          6          1  2019-02-10 17:25:37.787   \n",
       "2  5c605be225541729b7d50885         20          1  2019-02-10 18:13:39.827   \n",
       "3  5c605be225541729b7d50886          6          1  2019-02-10 18:13:39.827   \n",
       "4  5c605be225541729b7d50887          9          1  2019-02-10 18:13:39.827   \n",
       "\n",
       "   station  free  open  ticket  total                  updated  \n",
       "0       64    11     1       0     20  2019-02-10 17:21:13.000  \n",
       "1       73    14     1       1     20  2019-02-10 17:24:13.000  \n",
       "2       63     0     1       1     20  2019-02-10 18:09:16.000  \n",
       "3       64    14     1       0     20  2019-02-10 18:12:15.000  \n",
       "4       65    10     1       1     19  2019-02-10 18:09:16.000  "
      ]
     },
     "execution_count": 230,
     "metadata": {},
     "output_type": "execute_result"
    }
   ],
   "source": [
    "estaciones = pd.read_csv(\"estaciones_bici.csv\", sep=\";\")\n",
    "estaciones.drop([\"Unnamed: 0\"], axis=1, inplace=True) # eliminar la columna que leyó de índices sin nombre\n",
    "print(estaciones.shape)\n",
    "estaciones.head()"
   ]
  },
  {
   "cell_type": "code",
   "execution_count": null,
   "metadata": {},
   "outputs": [],
   "source": []
  },
  {
   "cell_type": "markdown",
   "metadata": {},
   "source": [
    "#### Obtención del número de estaciones que tienen 30 bornetas disponibles"
   ]
  },
  {
   "cell_type": "code",
   "execution_count": 234,
   "metadata": {},
   "outputs": [
    {
     "name": "stdout",
     "output_type": "stream",
     "text": [
      "El número de estaciones que tienen 30 bornetas disponibles:\n",
      "11\n"
     ]
    }
   ],
   "source": [
    "est_30_disp = estaciones[estaciones.total==30]\n",
    "\n",
    "print(\"El número de estaciones que tienen 30 bornetas disponibles:\")\n",
    "print(est_30_disp.station.nunique())"
   ]
  },
  {
   "cell_type": "code",
   "execution_count": null,
   "metadata": {},
   "outputs": [],
   "source": []
  },
  {
   "cell_type": "markdown",
   "metadata": {},
   "source": [
    "#### Número de estación con la media más alta de bicis disponibles"
   ]
  },
  {
   "cell_type": "code",
   "execution_count": 272,
   "metadata": {},
   "outputs": [],
   "source": [
    "mean_available_df = estaciones.groupby(\"station\")[\"available\"].mean().reset_index()\n",
    "\n",
    "max_mean = max(mean_available_df.available)\n",
    "max_station = mean_available_df[mean_available_df.available == max_mean].iloc[0,0]"
   ]
  },
  {
   "cell_type": "code",
   "execution_count": 273,
   "metadata": {},
   "outputs": [
    {
     "name": "stdout",
     "output_type": "stream",
     "text": [
      "la estación número 50 presenta la media más alta de bicis disponibles, con un valor de 31.26\n"
     ]
    }
   ],
   "source": [
    "print(f\"la estación número {max_station} presenta la media más alta de bicis disponibles, con un valor de {max_mean}\")"
   ]
  },
  {
   "cell_type": "code",
   "execution_count": null,
   "metadata": {},
   "outputs": [],
   "source": []
  },
  {
   "cell_type": "markdown",
   "metadata": {},
   "source": [
    "#### Realizar el histograma de bicis disponibles de la estación del punto anterior"
   ]
  },
  {
   "cell_type": "code",
   "execution_count": 276,
   "metadata": {},
   "outputs": [],
   "source": [
    "max_station_df = estaciones[estaciones.station == max_station]"
   ]
  },
  {
   "cell_type": "code",
   "execution_count": 284,
   "metadata": {},
   "outputs": [
    {
     "data": {
      "image/png": "[encoded data removed]",
      "text/plain": [
       "<Figure size 432x288 with 1 Axes>"
      ]
     },
     "metadata": {
      "needs_background": "light"
     },
     "output_type": "display_data"
    }
   ],
   "source": [
    "plt.hist(max_station_df.available)\n",
    "plt.title(f\"Histograma de bicis disponibles para la estación #{max_station}\")\n",
    "plt.xlabel(\"Número de bicis disponible\")\n",
    "plt.ylabel(\"Frecuencia\")\n",
    "plt.show()"
   ]
  },
  {
   "cell_type": "code",
   "execution_count": null,
   "metadata": {},
   "outputs": [],
   "source": []
  },
  {
   "cell_type": "markdown",
   "metadata": {},
   "source": [
    "#### Realizar gráfica con la línea temporal de bicis disponibles de la estación del punto anterior. Pista, es necesario cambiar el índice a uno tipo fecha"
   ]
  },
  {
   "cell_type": "code",
   "execution_count": null,
   "metadata": {},
   "outputs": [],
   "source": []
  },
  {
   "cell_type": "code",
   "execution_count": null,
   "metadata": {},
   "outputs": [],
   "source": []
  },
  {
   "cell_type": "code",
   "execution_count": null,
   "metadata": {},
   "outputs": [],
   "source": []
  },
  {
   "cell_type": "code",
   "execution_count": null,
   "metadata": {},
   "outputs": [],
   "source": []
  }
 ],
 "metadata": {
  "kernelspec": {
   "display_name": "Python 3",
   "language": "python",
   "name": "python3"
  },
  "language_info": {
   "codemirror_mode": {
    "name": "ipython",
    "version": 3
   },
   "file_extension": ".py",
   "mimetype": "text/x-python",
   "name": "python",
   "nbconvert_exporter": "python",
   "pygments_lexer": "ipython3",
   "version": "3.7.1"
  }
 },
 "nbformat": 4,
 "nbformat_minor": 2
}
