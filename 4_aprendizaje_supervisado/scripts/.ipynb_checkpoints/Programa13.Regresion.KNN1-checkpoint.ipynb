{
 "cells": [
  {
   "cell_type": "code",
   "execution_count": 4,
   "metadata": {},
   "outputs": [],
   "source": [
    "import numpy as np\n",
    "from math import sqrt\n",
    "from sklearn import datasets\n",
    "import sklearn.metrics as metrics\n",
    "from sklearn.model_selection import KFold\n",
    "from sklearn.model_selection import cross_val_predict\n",
    "from sklearn.neighbors import KNeighborsRegressor\n",
    "from evaluacion_funciones import *"
   ]
  },
  {
   "cell_type": "code",
   "execution_count": null,
   "metadata": {},
   "outputs": [],
   "source": []
  },
  {
   "cell_type": "code",
   "execution_count": 5,
   "metadata": {},
   "outputs": [],
   "source": [
    "# Carga de datos.\n",
    "datos = datasets.load_boston()"
   ]
  },
  {
   "cell_type": "code",
   "execution_count": 6,
   "metadata": {},
   "outputs": [],
   "source": [
    "# Algoritmos de aprendizaje.\n",
    "k = 10\n",
    "reg = KNeighborsRegressor(n_neighbors = k)"
   ]
  },
  {
   "cell_type": "code",
   "execution_count": 7,
   "metadata": {},
   "outputs": [],
   "source": [
    "# Métricas de evaluación.\n",
    "metricas = {\n",
    "  'MAE': metrics.mean_absolute_error,\n",
    "  'RMSE': lambda y, y_pred:\n",
    "          sqrt(metrics.mean_squared_error(y, y_pred)),\n",
    "  'MAPE': lambda y, y_pred:\n",
    "          np.mean(np.abs((y - y_pred) / y)) * 100,\n",
    "  'R2': metrics.r2_score}"
   ]
  },
  {
   "cell_type": "code",
   "execution_count": 8,
   "metadata": {},
   "outputs": [
    {
     "name": "stderr",
     "output_type": "stream",
     "text": [
      "C:\\Users\\user\\Anaconda3\\lib\\site-packages\\sklearn\\model_selection\\_split.py:297: FutureWarning: Setting a random_state has no effect since shuffle is False. This will raise an error in 0.24. You should leave random_state to its default (None), or set shuffle=True.\n",
      "  FutureWarning\n"
     ]
    }
   ],
   "source": [
    "# Validación y obtención de las predicciones del modelo.\n",
    "seed = 1\n",
    "y_pred = cross_val_predict(reg, datos.data, datos.target,\n",
    "           cv = KFold(n_splits=10, random_state=seed))"
   ]
  },
  {
   "cell_type": "code",
   "execution_count": 9,
   "metadata": {},
   "outputs": [
    {
     "data": {
      "text/plain": [
       "array([22.81, 23.24, 21.58, 23.09, 21.77, 23.18, 23.72, 22.32, 23.54,\n",
       "       27.12, 24.93, 22.62, 23.56, 22.63, 31.44, 23.75, 27.5 , 27.38,\n",
       "       24.84, 24.88, 27.33, 22.32, 22.32, 24.54, 22.32, 30.1 , 31.44,\n",
       "       30.1 , 26.45, 31.44, 31.52, 28.19, 20.09, 34.18, 21.37, 25.06,\n",
       "       23.51, 25.24, 26.68, 33.94, 33.94, 24.77, 24.77, 24.77, 21.48,\n",
       "       20.93, 21.4 , 26.07, 25.19, 21.6 , 25.84, 29.88, 26.39, 25.97,\n",
       "       31.11, 40.19, 25.23, 37.64, 25.56, 25.3 , 28.63, 36.17, 28.63,\n",
       "       25.89, 30.22, 26.8 , 26.38, 27.11, 24.32, 26.43, 27.82, 27.62,\n",
       "       28.3 , 27.44, 25.67, 20.11, 28.54, 20.11, 20.11, 20.36, 26.39,\n",
       "       31.78, 24.3 , 25.91, 21.21, 23.82, 21.41, 23.82, 21.46, 21.39,\n",
       "       21.08, 21.24, 31.67, 31.14, 37.68, 25.41, 20.49, 21.4 , 24.06,\n",
       "       21.78, 19.22, 19.68, 18.5 , 27.02, 27.02, 27.02, 27.02, 24.02,\n",
       "       27.02, 27.02, 21.29, 28.15, 31.68, 31.68, 34.06, 29.43, 28.74,\n",
       "       31.18, 26.41, 20.12, 35.35, 36.8 , 35.16, 32.06, 32.06, 35.16,\n",
       "       32.06, 34.06, 34.06, 34.06, 34.06, 34.06, 34.81, 34.81, 21.91,\n",
       "       34.06, 34.81, 34.06, 34.06, 34.06, 34.06, 34.03, 32.25, 32.25,\n",
       "       32.25, 18.18, 18.18, 31.5 , 29.43, 29.43, 35.07, 29.43, 29.43,\n",
       "       16.53, 18.13, 15.96, 15.96, 18.41, 18.61, 17.96, 18.61, 18.6 ,\n",
       "       17.5 , 18.09, 17.23, 16.07, 18.41, 16.55, 18.13, 18.61, 18.13,\n",
       "       18.03, 19.76, 22.62, 21.41, 24.47, 22.63, 23.14, 27.03, 27.44,\n",
       "       24.73, 27.44, 24.4 , 24.4 , 23.1 , 26.47, 27.44, 23.14, 23.04,\n",
       "       23.27, 23.82, 23.27, 23.2 , 30.17, 30.33, 32.71, 21.91, 22.38,\n",
       "       21.91, 24.01, 24.01, 22.99, 22.39, 37.04, 38.4 , 25.85, 24.15,\n",
       "       21.7 , 23.77, 21.27, 22.79, 22.57, 23.  , 26.33, 22.92, 25.28,\n",
       "       24.05, 22.5 , 22.79, 22.79, 19.17, 18.24, 20.79, 20.46, 20.95,\n",
       "       20.94, 20.59, 19.37, 23.78, 23.78, 21.1 , 19.73, 21.24, 21.7 ,\n",
       "       18.18, 21.29, 20.56, 21.97, 24.18, 23.74, 23.42, 23.08, 22.33,\n",
       "       23.62, 19.43, 20.07, 23.01, 19.43, 21.55, 23.01, 23.  , 24.05,\n",
       "       24.31, 23.25, 24.94, 26.3 , 36.59, 23.83, 22.1 , 22.1 , 23.46,\n",
       "       21.56, 21.34, 22.1 , 21.34, 23.53, 22.4 , 22.35, 23.85, 25.63,\n",
       "       23.04, 22.82, 25.61, 24.72, 25.19, 24.49, 24.11, 25.23, 25.23,\n",
       "       22.88, 27.01, 24.69, 25.24, 37.15, 31.19, 23.8 , 36.59, 24.2 ,\n",
       "       23.55, 23.74, 36.59, 36.59, 36.59, 24.75, 23.11, 24.56, 23.28,\n",
       "       22.27, 26.73, 26.6 , 27.36, 22.6 , 26.15, 26.07, 24.67, 25.64,\n",
       "       31.08, 31.08, 28.95, 25.06, 27.43, 22.78, 20.85, 28.24, 22.74,\n",
       "       24.76, 21.04, 24.74, 26.14, 23.07, 24.16, 23.55, 24.16, 24.52,\n",
       "       26.89, 25.75, 26.88, 23.84, 21.77, 24.15, 21.63, 23.43, 24.7 ,\n",
       "       28.56, 28.56, 27.29, 25.84, 28.69, 27.29, 25.84, 28.69, 22.95,\n",
       "       20.74, 29.09, 30.1 , 22.21, 21.14, 27.54, 30.96, 24.12, 23.77,\n",
       "       31.57, 31.99, 38.85, 26.72, 27.77, 16.3 , 18.07, 20.79, 20.79,\n",
       "       18.27, 16.56, 17.25, 18.12, 19.07, 18.12, 17.09, 14.  , 17.25,\n",
       "       17.25, 16.79, 15.53, 16.77, 14.83, 14.83, 15.74, 15.9 , 15.49,\n",
       "       15.9 , 14.83, 14.95, 15.74, 15.33, 16.05, 15.22, 14.83, 15.36,\n",
       "       16.05, 15.26, 16.46, 16.46, 18.94, 15.33, 17.2 , 15.74, 16.3 ,\n",
       "       16.46, 16.05, 14.88, 17.01, 15.36, 15.74, 16.3 , 15.9 , 16.21,\n",
       "       14.82, 17.6 , 20.92, 17.36, 15.31, 15.57, 15.04, 15.04, 14.04,\n",
       "       15.17, 15.04, 15.04, 15.17, 15.04, 15.04, 18.16, 20.06, 17.91,\n",
       "       15.57, 15.57, 15.57, 15.04, 15.04, 15.17, 15.17, 15.17, 15.17,\n",
       "       15.17, 15.17, 15.17, 15.17, 15.04, 15.57, 15.17, 12.36, 10.09,\n",
       "       12.87, 12.81, 12.34, 13.72, 15.04, 18.19, 14.02, 11.75, 17.47,\n",
       "       15.57, 23.79, 17.85, 27.19, 15.57, 15.92, 11.19, 10.86, 16.62,\n",
       "       16.41, 15.46, 15.87, 16.41, 19.98, 17.32, 22.13, 11.19, 20.58,\n",
       "       20.47, 16.35, 16.41, 16.67, 17.32, 25.15, 25.5 , 16.17, 14.17,\n",
       "       23.94, 15.13, 19.23, 18.31, 22.29, 21.04, 18.31, 20.2 , 19.14,\n",
       "       17.32, 19.14, 14.15, 21.36, 17.28, 15.05, 16.84, 21.63, 22.  ,\n",
       "       20.93, 21.51, 21.56, 21.89, 21.56, 21.47, 24.98, 24.56, 24.1 ,\n",
       "       24.1 , 24.2 ])"
      ]
     },
     "execution_count": 9,
     "metadata": {},
     "output_type": "execute_result"
    }
   ],
   "source": [
    "y_pred"
   ]
  },
  {
   "cell_type": "code",
   "execution_count": 12,
   "metadata": {},
   "outputs": [
    {
     "ename": "TypeError",
     "evalue": "'dict' object is not callable",
     "output_type": "error",
     "traceback": [
      "\u001b[1;31m---------------------------------------------------------------------------\u001b[0m",
      "\u001b[1;31mTypeError\u001b[0m                                 Traceback (most recent call last)",
      "\u001b[1;32m<ipython-input-12-5f1136df1b7e>\u001b[0m in \u001b[0;36m<module>\u001b[1;34m\u001b[0m\n\u001b[0;32m      1\u001b[0m \u001b[1;31m# Evaluación y presentación de resultados.\u001b[0m\u001b[1;33m\u001b[0m\u001b[1;33m\u001b[0m\u001b[1;33m\u001b[0m\u001b[0m\n\u001b[1;32m----> 2\u001b[1;33m \u001b[0mevalu\u001b[0m \u001b[1;33m=\u001b[0m \u001b[0mevaluacion\u001b[0m\u001b[1;33m(\u001b[0m\u001b[0mdatos\u001b[0m\u001b[1;33m.\u001b[0m\u001b[0mtarget\u001b[0m\u001b[1;33m,\u001b[0m \u001b[0my_pred\u001b[0m\u001b[1;33m,\u001b[0m \u001b[0mmetricas\u001b[0m\u001b[1;33m)\u001b[0m\u001b[1;33m\u001b[0m\u001b[1;33m\u001b[0m\u001b[0m\n\u001b[0m\u001b[0;32m      3\u001b[0m \u001b[0mgrafica_real_vs_pred\u001b[0m\u001b[1;33m(\u001b[0m\u001b[0mdatos\u001b[0m\u001b[1;33m.\u001b[0m\u001b[0mtarget\u001b[0m\u001b[1;33m,\u001b[0m \u001b[0my_pred\u001b[0m\u001b[1;33m,\u001b[0m \u001b[0mevalu\u001b[0m\u001b[1;33m,\u001b[0m \u001b[1;34m\"KNN\"\u001b[0m\u001b[1;33m+\u001b[0m\u001b[0mstr\u001b[0m\u001b[1;33m(\u001b[0m\u001b[0mk\u001b[0m\u001b[1;33m)\u001b[0m\u001b[1;33m)\u001b[0m\u001b[1;33m\u001b[0m\u001b[1;33m\u001b[0m\u001b[0m\n",
      "\u001b[1;31mTypeError\u001b[0m: 'dict' object is not callable"
     ]
    }
   ],
   "source": [
    "# Evaluación y presentación de resultados.\n",
    "evalu = evaluacion(datos.target, y_pred, metricas)\n",
    "grafica_real_vs_pred(datos.target, y_pred, evalu, \"KNN\"+str(k))"
   ]
  },
  {
   "cell_type": "code",
   "execution_count": null,
   "metadata": {},
   "outputs": [],
   "source": []
  },
  {
   "cell_type": "code",
   "execution_count": null,
   "metadata": {},
   "outputs": [],
   "source": []
  }
 ],
 "metadata": {
  "kernelspec": {
   "display_name": "Python 3",
   "language": "python",
   "name": "python3"
  },
  "language_info": {
   "codemirror_mode": {
    "name": "ipython",
    "version": 3
   },
   "file_extension": ".py",
   "mimetype": "text/x-python",
   "name": "python",
   "nbconvert_exporter": "python",
   "pygments_lexer": "ipython3",
   "version": "3.7.1"
  }
 },
 "nbformat": 4,
 "nbformat_minor": 2
}
