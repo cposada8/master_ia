{
 "cells": [
  {
   "cell_type": "markdown",
   "metadata": {},
   "source": [
    "# Actividad 2: Validación y evaluación en regresión y clasificación"
   ]
  },
  {
   "cell_type": "markdown",
   "metadata": {},
   "source": [
    "Esta segunda actividad consiste en demostrar los conocimientos sobre validación y evaluación de algoritmos en aprendizaje supervisado, haciendo uso de los conceptos aprendidos en la asignatura."
   ]
  },
  {
   "cell_type": "markdown",
   "metadata": {},
   "source": [
    "Información general:\n",
    "* La entrega consistirá en un archivo .ipynb siguiendo las instrucciones de este notebook.\n",
    "* 60% de la nota final."
   ]
  },
  {
   "cell_type": "markdown",
   "metadata": {},
   "source": [
    "Instrucciones para cumplimentar el notebook:\n",
    "* Descarga este notebook, que servirá como base para la entrega.\n",
    "* **No hay que modificar las celdas** que vienen en la hoja de actividades, **a no ser que se especifique claramente en la celda**. Para contestar a las preguntas, por favor añade celdas inmediatamente después de cada pregunta.\n",
    "* Para la nota se valorará tanto la consecución de la respuesta adecuada como el estilo y adecuación del código fuente (si procede responder con código), así como la inclusión de comentarios apropiados.\n",
    "* **No está permitido compartir los resultados de una actividad** en el foro o con cualquier compañero, **salvo indicación expresa en el enunciado de la actividad**. Hacerlo puede suponer suspender la asignatura y enfrentarse a medidas disciplinarias."
   ]
  },
  {
   "cell_type": "markdown",
   "metadata": {},
   "source": [
    "Información útil:\n",
    "* Para crear celdas en el notebook, usa el botón \"+\" del menú situado en la esquina superior izquierda.\n",
    "* Para ejecutar una celda (texto o código), pulsa el botón \"Run\" del menú situado en la esquina superior izquierda.\n",
    "* Recuerda cambiar el tipo de celda de forma adecuada con el menú superior.\n",
    "* Más información sobre notebooks en la documentación oficial: https://jupyter.readthedocs.io/en/latest/"
   ]
  },
  {
   "cell_type": "markdown",
   "metadata": {},
   "source": [
    "### Ejercicio 1 (1.5 puntos)"
   ]
  },
  {
   "cell_type": "markdown",
   "metadata": {},
   "source": [
    "Cree un programa que permita visualizar una gráfica en la que se muestren los valores de error MAE del regresor DummyRegressor en función del porcentaje de split training/test en validación Hold-out (pruebe desde un 50%-50% hasta un 95%-5%, de 5% en 5%) para un dataset de regresión (el que se desee)."
   ]
  },
  {
   "cell_type": "code",
   "execution_count": 1,
   "metadata": {},
   "outputs": [],
   "source": [
    "from sklearn import datasets\n",
    "import pandas as pd\n",
    "import numpy as np\n",
    "import matplotlib.pyplot as plt\n",
    "\n",
    "from sklearn.model_selection import train_test_split\n",
    "from sklearn.dummy import DummyRegressor\n",
    "from sklearn.dummy import DummyClassifier\n",
    "from sklearn.metrics import mean_absolute_error"
   ]
  },
  {
   "cell_type": "code",
   "execution_count": null,
   "metadata": {},
   "outputs": [],
   "source": [
    "# Carga de los datos\n",
    "boston_dict = datasets.load_boston()\n",
    "\n",
    "# creación de las matrices X e y\n",
    "X = boston_dict[\"data\"]\n",
    "y = boston_dict[\"target\"]"
   ]
  },
  {
   "cell_type": "code",
   "execution_count": null,
   "metadata": {
    "scrolled": true
   },
   "outputs": [],
   "source": [
    "# generación de los resultados por training_size\n",
    "train_sizes = np.arange(50, 100, 5)/100\n",
    "maes_test = [] # vector to save the MAE scores\n",
    "maes_train = []\n",
    "\n",
    "for ts in train_sizes:\n",
    "    print(\"training size:\", \"{:.2f}\".format(ts))\n",
    "    \n",
    "    # separación de los datos\n",
    "    X_train, X_test, y_train, y_test = train_test_split(X, y, test_size=(1-ts), random_state=23)\n",
    "    print(f\"con un train_size de {'{:.2f}'.format(ts)} se tienen {(X_train.shape[0])} datos de entrenamiento\")\n",
    "    \n",
    "    # Entrenamiento y predicción del test\n",
    "    dr = DummyRegressor()\n",
    "    dr.fit(X_train, y_train)\n",
    "    y_train_pred = dr.predict(X_train)\n",
    "    y_test_pred = dr.predict(X_test)\n",
    "          \n",
    "    # evaluacion\n",
    "    mae_train = mean_absolute_error(y_train, y_train_pred)\n",
    "    mae_test = mean_absolute_error(y_test, y_test_pred)\n",
    "    print(f\"MAE en train: {mae_train}\")\n",
    "    print(f\"MAE en test: {mae_test}\")\n",
    "          \n",
    "    # guardado de resultados\n",
    "    maes_train.append(mae_train)\n",
    "    maes_test.append(mae_test)\n",
    "    print()"
   ]
  },
  {
   "cell_type": "code",
   "execution_count": null,
   "metadata": {},
   "outputs": [],
   "source": [
    "# Gráfica del mae en función del tamaño train-test \n",
    "plt.figure(figsize=(10, 6))\n",
    "plt.plot(train_sizes, maes_test,\"*--r\", label=\"MAE in test\")\n",
    "plt.plot(train_sizes, maes_train, label=\"MAE in train\")\n",
    "plt.title(\"MAE dummy regressor\")\n",
    "plt.ylabel(\"MAE (mean absolute error)\")\n",
    "plt.xlabel(\"Training size (proporción)\")\n",
    "plt.legend()\n",
    "plt.grid()\n",
    "plt.show()"
   ]
  },
  {
   "cell_type": "code",
   "execution_count": null,
   "metadata": {},
   "outputs": [],
   "source": []
  },
  {
   "cell_type": "markdown",
   "metadata": {},
   "source": [
    "**NOTA**: cabe aclarar que no se puede concluir ninguna relación de la gráfica de arriba.\n",
    "Hay mucha sensibilidad a los elementos que queden dentro de cada test set, por lo cuál no se puede concluir que haya relación con tan solo mirar una selección de test set (para cada test_size)"
   ]
  },
  {
   "cell_type": "markdown",
   "metadata": {},
   "source": [
    "Para entender si hay una relación, haremos el mismo ejercicio, solamente que para cada test_size, no realizaremos **una** sino **100** particiones. \n",
    "Es decir, para la partición 50%, crearé 100 test sets y luego miraré los estadísticos de esto. \n",
    "Para la partición 55%, crearé 100 tests distintos y de nuevo, miramos los estadísticos"
   ]
  },
  {
   "cell_type": "code",
   "execution_count": null,
   "metadata": {},
   "outputs": [],
   "source": [
    "num_simul = 100\n",
    "train_sizes = np.arange(50, 100, 5)/100\n",
    "maes_test = [] # vector to save the MAE scores\n",
    "maes_train = []\n",
    "resultados = {}\n",
    "\n",
    "for ts in train_sizes:\n",
    "    print(\"training size:\", \"{:.2f}\".format(ts))\n",
    "    \n",
    "    train_results = []\n",
    "    test_results = []\n",
    "    for i in range(num_simul):\n",
    "        # separación de los datos\n",
    "        X_train, X_test, y_train, y_test = train_test_split(X, y, test_size=(1-ts)) # sin random_state\n",
    "\n",
    "        # Entrenamiento y predicción del test\n",
    "        dr = DummyRegressor()\n",
    "        dr.fit(X_train, y_train)\n",
    "        y_train_pred = dr.predict(X_train)\n",
    "        y_test_pred = dr.predict(X_test)\n",
    "\n",
    "        # evaluacion\n",
    "        mae_train = mean_absolute_error(y_train, y_train_pred)\n",
    "        mae_test = mean_absolute_error(y_test, y_test_pred)\n",
    "\n",
    "        # guardado de resultados\n",
    "        \n",
    "        train_results.append(mae_train)\n",
    "        test_results.append(mae_test)\n",
    "    resultados[ts] = {\n",
    "        \"train\": train_results,\n",
    "        \"test\":test_results\n",
    "    }"
   ]
  },
  {
   "cell_type": "code",
   "execution_count": null,
   "metadata": {},
   "outputs": [],
   "source": [
    "# Captura de los estaísticos\n",
    "medias = []\n",
    "desvests = []\n",
    "for ts in train_sizes:\n",
    "    media = np.mean(resultados[ts][\"test\"])\n",
    "    desvest = np.std(resultados[ts][\"test\"])\n",
    "    medias.append(media)\n",
    "    desvests.append(desvest)\n",
    "    \n",
    "medias = np.array(medias)\n",
    "desvests = np.array(desvests)"
   ]
  },
  {
   "cell_type": "code",
   "execution_count": null,
   "metadata": {},
   "outputs": [],
   "source": [
    "plt.figure(figsize=(10, 6))\n",
    "plt.plot(train_sizes, medias)\n",
    "plt.fill_between(train_sizes, medias-desvests, medias+desvests,\n",
    "                 facecolor=\"black\", # The fill color\n",
    "                 color='blue',       # The outline color\n",
    "                 alpha=0.2)          # Transparency of the fill\n",
    "plt.title(\"Relación entre la partición y MAE en test\")\n",
    "plt.xlabel(\"training size (proporción)\")\n",
    "plt.ylabel(\"MAE (mean absolute error)\")\n",
    "plt.show()"
   ]
  },
  {
   "cell_type": "markdown",
   "metadata": {},
   "source": [
    "ahora se puede apreciar que en realidad el estimador no mejora ni empeora con % de partición distintos. \n",
    "Lo que sí se puede apreciar es que mientras más grande es el train size (más pequeño el test size) es más volátil el MAE, es decir, el error podría oscilar en un rango más alto (pero con la misma media)"
   ]
  },
  {
   "cell_type": "code",
   "execution_count": null,
   "metadata": {},
   "outputs": [],
   "source": []
  },
  {
   "cell_type": "markdown",
   "metadata": {},
   "source": [
    "### Ejercicio 2 (1.5 puntos)"
   ]
  },
  {
   "cell_type": "markdown",
   "metadata": {},
   "source": [
    "Realizar el mismo procedimiento que el descrito en el Ejercicio 1, pero para clasificación con el clasificador DummyClassifier (visualizar gráfica de valores de exactitud, en lugar de MAE)."
   ]
  },
  {
   "cell_type": "code",
   "execution_count": 40,
   "metadata": {},
   "outputs": [],
   "source": [
    "# carga de datos\n",
    "iris_dict = datasets.load_iris()\n",
    "\n",
    "# creación de las matrices X e y\n",
    "X = iris_dict.data\n",
    "y = iris_dict.target"
   ]
  },
  {
   "cell_type": "code",
   "execution_count": 41,
   "metadata": {},
   "outputs": [
    {
     "name": "stdout",
     "output_type": "stream",
     "text": [
      "training size: 0.50\n",
      "con un train_size de 0.50 se tienen 75 datos de entrenamiento\n",
      "\n",
      "training size: 0.55\n",
      "con un train_size de 0.55 se tienen 82 datos de entrenamiento\n",
      "\n",
      "training size: 0.60\n",
      "con un train_size de 0.60 se tienen 90 datos de entrenamiento\n",
      "\n",
      "training size: 0.65\n",
      "con un train_size de 0.65 se tienen 97 datos de entrenamiento\n",
      "\n",
      "training size: 0.70\n",
      "con un train_size de 0.70 se tienen 104 datos de entrenamiento\n",
      "\n",
      "training size: 0.75\n",
      "con un train_size de 0.75 se tienen 112 datos de entrenamiento\n",
      "\n",
      "training size: 0.80\n",
      "con un train_size de 0.80 se tienen 120 datos de entrenamiento\n",
      "\n",
      "training size: 0.85\n",
      "con un train_size de 0.85 se tienen 127 datos de entrenamiento\n",
      "\n",
      "training size: 0.90\n",
      "con un train_size de 0.90 se tienen 135 datos de entrenamiento\n",
      "\n",
      "training size: 0.95\n",
      "con un train_size de 0.95 se tienen 142 datos de entrenamiento\n",
      "\n"
     ]
    }
   ],
   "source": [
    "# generación de los resultados por training_size\n",
    "train_sizes = np.arange(50, 100, 5)/100\n",
    "accs_test = [] # vector to save the MAE scores\n",
    "accs_train = []\n",
    "\n",
    "for ts in train_sizes:\n",
    "    print(\"training size:\", \"{:.2f}\".format(ts))\n",
    "    \n",
    "    # separación de los datos\n",
    "    X_train, X_test, y_train, y_test = train_test_split(X, y, test_size=(1-ts), random_state=23)\n",
    "    print(f\"con un train_size de {'{:.2f}'.format(ts)} se tienen {(X_train.shape[0])} datos de entrenamiento\")\n",
    "    \n",
    "    # Entrenamiento y predicción del test\n",
    "    clf = DummyClassifier()\n",
    "    clf.fit(X_train, y_train)\n",
    "    y_train_pred = clf.predict(X_train)\n",
    "    y_test_pred = clf.predict(X_test)\n",
    "          \n",
    "    # evaluacion\n",
    "    acc_train = clf.score(X_train, y_train)\n",
    "    acc_test = clf.score(X_test, y_test)\n",
    "          \n",
    "    # guardado de resultados\n",
    "    accs_train.append(acc_train)\n",
    "    accs_test.append(acc_test)\n",
    "    print()"
   ]
  },
  {
   "cell_type": "code",
   "execution_count": 42,
   "metadata": {},
   "outputs": [
    {
     "data": {
      "image/png": "[encoded data removed]",
      "text/plain": [
       "<Figure size 720x432 with 1 Axes>"
      ]
     },
     "metadata": {
      "needs_background": "light"
     },
     "output_type": "display_data"
    }
   ],
   "source": [
    "# Gráfica del mean accuracy en función del tamaño train-test \n",
    "plt.figure(figsize=(10, 6))\n",
    "plt.plot(train_sizes, accs_test,\"*--r\", label=\"mean accuracy in test\")\n",
    "plt.plot(train_sizes, accs_train, label=\"mean accuracy in train\")\n",
    "plt.title(\"mean accuracy dummy regressor\")\n",
    "plt.ylabel(\"mean accuracy\")\n",
    "plt.xlabel(\"Training size (proporción)\")\n",
    "plt.legend()\n",
    "plt.grid()\n",
    "plt.show()"
   ]
  },
  {
   "cell_type": "markdown",
   "metadata": {},
   "source": [
    "Al igual que hicimos en el punto 1, mejor vamos a dibujar la relación entre el split y el accuracy, pero teniendo en cuenta 100 splits distintos para cada test_size"
   ]
  },
  {
   "cell_type": "code",
   "execution_count": 43,
   "metadata": {},
   "outputs": [
    {
     "name": "stdout",
     "output_type": "stream",
     "text": [
      "training size: 0.50\n",
      "training size: 0.55\n",
      "training size: 0.60\n",
      "training size: 0.65\n",
      "training size: 0.70\n",
      "training size: 0.75\n",
      "training size: 0.80\n",
      "training size: 0.85\n",
      "training size: 0.90\n",
      "training size: 0.95\n"
     ]
    }
   ],
   "source": [
    "num_simul = 100\n",
    "train_sizes = np.arange(50, 100, 5)/100\n",
    "accs_test = [] # vector to save the MAE scores\n",
    "accs_train = []\n",
    "resultados = {}\n",
    "\n",
    "for ts in train_sizes:\n",
    "    print(\"training size:\", \"{:.2f}\".format(ts))\n",
    "    \n",
    "    train_results = []\n",
    "    test_results = []\n",
    "    for i in range(num_simul):\n",
    "        # separación de los datos\n",
    "        X_train, X_test, y_train, y_test = train_test_split(X, y, test_size=(1-ts)) # sin random_state\n",
    "\n",
    "        # Entrenamiento y predicción del test\n",
    "        clf = DummyClassifier()\n",
    "        clf.fit(X_train, y_train)\n",
    "        y_train_pred = clf.predict(X_train)\n",
    "        y_test_pred = clf.predict(X_test)\n",
    "\n",
    "        # evaluacion\n",
    "        acc_train = clf.score(X_train, y_train)\n",
    "        acc_test = clf.score(X_test, y_test)\n",
    "        \n",
    "        # guardado de resultados\n",
    "        train_results.append(acc_train)\n",
    "        test_results.append(acc_test)\n",
    "        \n",
    "    resultados[ts] = {\n",
    "        \"train\": train_results,\n",
    "        \"test\":test_results\n",
    "    }"
   ]
  },
  {
   "cell_type": "code",
   "execution_count": 44,
   "metadata": {},
   "outputs": [],
   "source": [
    "# Captura de los estaísticos\n",
    "medias = []\n",
    "desvests = []\n",
    "for ts in train_sizes:\n",
    "    media = np.mean(resultados[ts][\"test\"])\n",
    "    desvest = np.std(resultados[ts][\"test\"])\n",
    "    medias.append(media)\n",
    "    desvests.append(desvest)\n",
    "    \n",
    "medias = np.array(medias)\n",
    "desvests = np.array(desvests)"
   ]
  },
  {
   "cell_type": "code",
   "execution_count": 45,
   "metadata": {},
   "outputs": [
    {
     "data": {
      "image/png": "[encoded data removed]",
      "text/plain": [
       "<Figure size 720x432 with 1 Axes>"
      ]
     },
     "metadata": {
      "needs_background": "light"
     },
     "output_type": "display_data"
    }
   ],
   "source": [
    "plt.figure(figsize=(10, 6))\n",
    "plt.plot(train_sizes, medias)\n",
    "plt.fill_between(train_sizes, medias-desvests, medias+desvests,\n",
    "                 facecolor=\"black\", # The fill color\n",
    "                 color='blue',       # The outline color\n",
    "                 alpha=0.2)          # Transparency of the fill\n",
    "plt.title(\"Relación entre la partición y el mean accuracy en test\")\n",
    "plt.xlabel(\"training size (proporción)\")\n",
    "plt.ylabel(\"mean accuracy\")\n",
    "plt.show()"
   ]
  },
  {
   "cell_type": "markdown",
   "metadata": {},
   "source": [
    "De nuevo parece no haber relación entre el test_size y el mean accuracy. En este caso, el mean accuracy permanece con una media de al rededor de 0.33 y la desviación sí crece a medida que el training size se hace más grande"
   ]
  },
  {
   "cell_type": "code",
   "execution_count": null,
   "metadata": {},
   "outputs": [],
   "source": []
  },
  {
   "cell_type": "markdown",
   "metadata": {},
   "source": [
    "### Ejercicio 3 (2 puntos)"
   ]
  },
  {
   "cell_type": "markdown",
   "metadata": {},
   "source": [
    "Cree un programa, con comentarios que aclaren el código, donde se computen las métricas MAE, RMSE y MAPE usando los regresores OLS y KNN en validación cruzada con 10 bolsas. Muestre los resultados de forma comparativa para al menos tres datasets (los que se deseen)."
   ]
  },
  {
   "cell_type": "code",
   "execution_count": null,
   "metadata": {},
   "outputs": [],
   "source": []
  },
  {
   "cell_type": "markdown",
   "metadata": {},
   "source": [
    "### Ejercicio 4 (3 puntos)"
   ]
  },
  {
   "cell_type": "markdown",
   "metadata": {},
   "source": [
    "Analice las diferencias entre los errores producidos por el algoritmo KNN en función de estos aspectos: a) número de vecinos más cercanos; b) función de distancia; c) con/sin normalización previa de atributos. Para ello, pruebe al menos dos configuraciones distintas de cada aspecto. Use tres datasets diferentes en validación leave-one-out en la comparativa de resultados."
   ]
  },
  {
   "cell_type": "code",
   "execution_count": null,
   "metadata": {},
   "outputs": [],
   "source": []
  },
  {
   "cell_type": "markdown",
   "metadata": {},
   "source": [
    "### Ejercicio 5 (2 puntos)"
   ]
  },
  {
   "cell_type": "markdown",
   "metadata": {},
   "source": [
    "Estudie la métrica para clasificación denominada AUC de scikit-learn y cree un programa, con comentarios que aclaren el código, donde se compute diche métrica (junto con exactitud, precisión, recall y F1) usando los clasificadores LOGR y CART en validación cruzada leave-one-out. Muestre los resultados de forma comparativa para al menos tres datasets (los que se deseen)."
   ]
  },
  {
   "cell_type": "code",
   "execution_count": null,
   "metadata": {},
   "outputs": [],
   "source": []
  }
 ],
 "metadata": {
  "kernelspec": {
   "display_name": "Python 3",
   "language": "python",
   "name": "python3"
  },
  "language_info": {
   "codemirror_mode": {
    "name": "ipython",
    "version": 3
   },
   "file_extension": ".py",
   "mimetype": "text/x-python",
   "name": "python",
   "nbconvert_exporter": "python",
   "pygments_lexer": "ipython3",
   "version": "3.7.1"
  }
 },
 "nbformat": 4,
 "nbformat_minor": 4
}
