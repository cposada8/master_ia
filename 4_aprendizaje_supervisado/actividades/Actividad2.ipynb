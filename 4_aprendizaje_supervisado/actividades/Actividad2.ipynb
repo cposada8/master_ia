{
 "cells": [
  {
   "cell_type": "markdown",
   "metadata": {},
   "source": [
    "# Actividad 2: Validación y evaluación en regresión y clasificación"
   ]
  },
  {
   "cell_type": "markdown",
   "metadata": {},
   "source": [
    "Esta segunda actividad consiste en demostrar los conocimientos sobre validación y evaluación de algoritmos en aprendizaje supervisado, haciendo uso de los conceptos aprendidos en la asignatura."
   ]
  },
  {
   "cell_type": "markdown",
   "metadata": {},
   "source": [
    "Información general:\n",
    "* La entrega consistirá en un archivo .ipynb siguiendo las instrucciones de este notebook.\n",
    "* 60% de la nota final."
   ]
  },
  {
   "cell_type": "markdown",
   "metadata": {},
   "source": [
    "Instrucciones para cumplimentar el notebook:\n",
    "* Descarga este notebook, que servirá como base para la entrega.\n",
    "* **No hay que modificar las celdas** que vienen en la hoja de actividades, **a no ser que se especifique claramente en la celda**. Para contestar a las preguntas, por favor añade celdas inmediatamente después de cada pregunta.\n",
    "* Para la nota se valorará tanto la consecución de la respuesta adecuada como el estilo y adecuación del código fuente (si procede responder con código), así como la inclusión de comentarios apropiados.\n",
    "* **No está permitido compartir los resultados de una actividad** en el foro o con cualquier compañero, **salvo indicación expresa en el enunciado de la actividad**. Hacerlo puede suponer suspender la asignatura y enfrentarse a medidas disciplinarias."
   ]
  },
  {
   "cell_type": "markdown",
   "metadata": {},
   "source": [
    "Información útil:\n",
    "* Para crear celdas en el notebook, usa el botón \"+\" del menú situado en la esquina superior izquierda.\n",
    "* Para ejecutar una celda (texto o código), pulsa el botón \"Run\" del menú situado en la esquina superior izquierda.\n",
    "* Recuerda cambiar el tipo de celda de forma adecuada con el menú superior.\n",
    "* Más información sobre notebooks en la documentación oficial: https://jupyter.readthedocs.io/en/latest/"
   ]
  },
  {
   "cell_type": "markdown",
   "metadata": {},
   "source": [
    "### Ejercicio 1 (1.5 puntos)"
   ]
  },
  {
   "cell_type": "markdown",
   "metadata": {},
   "source": [
    "Cree un programa que permita visualizar una gráfica en la que se muestren los valores de error MAE del regresor DummyRegressor en función del porcentaje de split training/test en validación Hold-out (pruebe desde un 50%-50% hasta un 95%-5%, de 5% en 5%) para un dataset de regresión (el que se desee)."
   ]
  },
  {
   "cell_type": "code",
   "execution_count": 51,
   "metadata": {},
   "outputs": [],
   "source": [
    "from sklearn import datasets\n",
    "import pandas as pd\n",
    "import numpy as np\n",
    "import matplotlib.pyplot as plt\n",
    "\n",
    "from sklearn.model_selection import train_test_split\n",
    "from sklearn.dummy import DummyRegressor\n",
    "from sklearn.dummy import DummyClassifier\n",
    "from sklearn.metrics import mean_absolute_error\n",
    "from sklearn.preprocessing import StandardScaler"
   ]
  },
  {
   "cell_type": "code",
   "execution_count": 2,
   "metadata": {},
   "outputs": [],
   "source": [
    "# Carga de los datos\n",
    "boston_dict = datasets.load_boston()\n",
    "\n",
    "# creación de las matrices X e y\n",
    "X = boston_dict[\"data\"]\n",
    "y = boston_dict[\"target\"]"
   ]
  },
  {
   "cell_type": "code",
   "execution_count": 5,
   "metadata": {
    "scrolled": true
   },
   "outputs": [
    {
     "name": "stdout",
     "output_type": "stream",
     "text": [
      "training size: 0.50\n",
      "con un train_size de 0.50 se tienen 253 datos de entrenamiento\n",
      "MAE en train: 7.001746629380245\n",
      "MAE en test: 6.392063616053993\n",
      "\n",
      "training size: 0.55\n",
      "con un train_size de 0.55 se tienen 278 datos de entrenamiento\n",
      "MAE en train: 6.812623570208582\n",
      "MAE en test: 6.4425722579830875\n",
      "\n",
      "training size: 0.60\n",
      "con un train_size de 0.60 se tienen 303 datos de entrenamiento\n",
      "MAE en train: 6.906556002134866\n",
      "MAE en test: 6.342811621063584\n",
      "\n",
      "training size: 0.65\n",
      "con un train_size de 0.65 se tienen 328 datos de entrenamiento\n",
      "MAE en train: 6.774520374776918\n",
      "MAE en test: 6.504727322554124\n",
      "\n",
      "training size: 0.70\n",
      "con un train_size de 0.70 se tienen 354 datos de entrenamiento\n",
      "MAE en train: 6.653634013214595\n",
      "MAE en test: 6.650044603033007\n",
      "\n",
      "training size: 0.75\n",
      "con un train_size de 0.75 se tienen 379 datos de entrenamiento\n",
      "MAE en train: 6.714433901184203\n",
      "MAE en test: 6.477422973843308\n",
      "\n",
      "training size: 0.80\n",
      "con un train_size de 0.80 se tienen 404 datos de entrenamiento\n",
      "MAE en train: 6.641152828154103\n",
      "MAE en test: 6.6977674238012055\n",
      "\n",
      "training size: 0.85\n",
      "con un train_size de 0.85 se tienen 430 datos de entrenamiento\n",
      "MAE en train: 6.643406165494862\n",
      "MAE en test: 6.688084455324355\n",
      "\n",
      "training size: 0.90\n",
      "con un train_size de 0.90 se tienen 455 datos de entrenamiento\n",
      "MAE en train: 6.610379422775027\n",
      "MAE en test: 6.6968670545141125\n",
      "\n",
      "training size: 0.95\n",
      "con un train_size de 0.95 se tienen 480 datos de entrenamiento\n",
      "MAE en train: 6.7348541666666675\n",
      "MAE en test: 4.7761538461538455\n",
      "\n"
     ]
    }
   ],
   "source": [
    "# generación de los resultados por training_size\n",
    "train_sizes = np.arange(50, 100, 5)/100\n",
    "maes_test = [] # vector to save the MAE scores\n",
    "maes_train = []\n",
    "\n",
    "for ts in train_sizes:\n",
    "    print(\"training size:\", \"{:.2f}\".format(ts))\n",
    "    \n",
    "    # separación de los datos\n",
    "    X_train, X_test, y_train, y_test = train_test_split(X, y, test_size=(1-ts), random_state=23)\n",
    "    print(f\"con un train_size de {'{:.2f}'.format(ts)} se tienen {(X_train.shape[0])} datos de entrenamiento\")\n",
    "    \n",
    "    # Entrenamiento y predicción del test\n",
    "    dr = DummyRegressor()\n",
    "    dr.fit(X_train, y_train)\n",
    "    y_train_pred = dr.predict(X_train)\n",
    "    y_test_pred = dr.predict(X_test)\n",
    "          \n",
    "    # evaluacion\n",
    "    mae_train = mean_absolute_error(y_train, y_train_pred)\n",
    "    mae_test = mean_absolute_error(y_test, y_test_pred)\n",
    "    print(f\"MAE en train: {mae_train}\")\n",
    "    print(f\"MAE en test: {mae_test}\")\n",
    "          \n",
    "    # guardado de resultados\n",
    "    maes_train.append(mae_train)\n",
    "    maes_test.append(mae_test)\n",
    "    print()"
   ]
  },
  {
   "cell_type": "code",
   "execution_count": 6,
   "metadata": {},
   "outputs": [
    {
     "data": {
      "image/png": "[encoded data removed]",
      "text/plain": [
       "<Figure size 720x432 with 1 Axes>"
      ]
     },
     "metadata": {
      "needs_background": "light"
     },
     "output_type": "display_data"
    }
   ],
   "source": [
    "# Gráfica del mae en función del tamaño train-test \n",
    "plt.figure(figsize=(10, 6))\n",
    "plt.plot(train_sizes, maes_test,\"*--r\", label=\"MAE in test\")\n",
    "plt.plot(train_sizes, maes_train, label=\"MAE in train\")\n",
    "plt.title(\"MAE dummy regressor\")\n",
    "plt.ylabel(\"MAE (mean absolute error)\")\n",
    "plt.xlabel(\"Training size (proporción)\")\n",
    "plt.legend()\n",
    "plt.grid()\n",
    "plt.show()"
   ]
  },
  {
   "cell_type": "code",
   "execution_count": null,
   "metadata": {},
   "outputs": [],
   "source": []
  },
  {
   "cell_type": "markdown",
   "metadata": {},
   "source": [
    "**NOTA**: cabe aclarar que no se puede concluir ninguna relación de la gráfica de arriba.\n",
    "Hay mucha sensibilidad a los elementos que queden dentro de cada test set, por lo cuál no se puede concluir que haya relación con tan solo mirar una selección de test set (para cada test_size)"
   ]
  },
  {
   "cell_type": "markdown",
   "metadata": {},
   "source": [
    "Para entender si hay una relación, haremos el mismo ejercicio, solamente que para cada test_size, no realizaremos **una** sino **100** particiones. \n",
    "Es decir, para la partición 50%, crearé 100 test sets y luego miraré los estadísticos de esto. \n",
    "Para la partición 55%, crearé 100 tests distintos y de nuevo, miramos los estadísticos"
   ]
  },
  {
   "cell_type": "code",
   "execution_count": 25,
   "metadata": {},
   "outputs": [
    {
     "name": "stdout",
     "output_type": "stream",
     "text": [
      "training size: 0.50\n",
      "training size: 0.55\n",
      "training size: 0.60\n",
      "training size: 0.65\n",
      "training size: 0.70\n",
      "training size: 0.75\n",
      "training size: 0.80\n",
      "training size: 0.85\n",
      "training size: 0.90\n",
      "training size: 0.95\n"
     ]
    }
   ],
   "source": [
    "num_simul = 100\n",
    "train_sizes = np.arange(50, 100, 5)/100\n",
    "maes_test = [] # vector to save the MAE scores\n",
    "maes_train = []\n",
    "resultados = {}\n",
    "\n",
    "for ts in train_sizes:\n",
    "    print(\"training size:\", \"{:.2f}\".format(ts))\n",
    "    \n",
    "    train_results = []\n",
    "    test_results = []\n",
    "    for i in range(num_simul):\n",
    "        # separación de los datos\n",
    "        X_train, X_test, y_train, y_test = train_test_split(X, y, test_size=(1-ts)) # sin random_state\n",
    "\n",
    "        # Entrenamiento y predicción del test\n",
    "        dr = DummyRegressor()\n",
    "        dr.fit(X_train, y_train)\n",
    "        y_train_pred = dr.predict(X_train)\n",
    "        y_test_pred = dr.predict(X_test)\n",
    "\n",
    "        # evaluacion\n",
    "        mae_train = mean_absolute_error(y_train, y_train_pred)\n",
    "        mae_test = mean_absolute_error(y_test, y_test_pred)\n",
    "\n",
    "        # guardado de resultados\n",
    "        \n",
    "        train_results.append(mae_train)\n",
    "        test_results.append(mae_test)\n",
    "    resultados[ts] = {\n",
    "        \"train\": train_results,\n",
    "        \"test\":test_results\n",
    "    }"
   ]
  },
  {
   "cell_type": "code",
   "execution_count": 26,
   "metadata": {},
   "outputs": [],
   "source": [
    "# Captura de los estaísticos\n",
    "medias = []\n",
    "desvests = []\n",
    "for ts in train_sizes:\n",
    "    media = np.mean(resultados[ts][\"test\"])\n",
    "    desvest = np.std(resultados[ts][\"test\"])\n",
    "    medias.append(media)\n",
    "    desvests.append(desvest)\n",
    "    \n",
    "medias = np.array(medias)\n",
    "desvests = np.array(desvests)"
   ]
  },
  {
   "cell_type": "code",
   "execution_count": 27,
   "metadata": {},
   "outputs": [
    {
     "data": {
      "image/png": "[encoded data removed]",
      "text/plain": [
       "<Figure size 720x432 with 1 Axes>"
      ]
     },
     "metadata": {
      "needs_background": "light"
     },
     "output_type": "display_data"
    }
   ],
   "source": [
    "plt.figure(figsize=(10, 6))\n",
    "plt.plot(train_sizes, medias)\n",
    "plt.fill_between(train_sizes, medias-desvests, medias+desvests,\n",
    "                 facecolor=\"black\", # The fill color\n",
    "                 color='blue',       # The outline color\n",
    "                 alpha=0.2)          # Transparency of the fill\n",
    "plt.title(\"Relación entre la partición y MAE en test\")\n",
    "plt.xlabel(\"training size (proporción)\")\n",
    "plt.ylabel(\"MAE (mean absolute error)\")\n",
    "plt.show()"
   ]
  },
  {
   "cell_type": "markdown",
   "metadata": {},
   "source": [
    "ahora se puede apreciar que en realidad el estimador no mejora ni empeora con % de partición distintos. \n",
    "Lo que sí se puede apreciar es que mientras más grande es el train size (más pequeño el test size) es más volátil el MAE, es decir, el error podría oscilar en un rango más alto (pero con la misma media)"
   ]
  },
  {
   "cell_type": "code",
   "execution_count": null,
   "metadata": {},
   "outputs": [],
   "source": []
  },
  {
   "cell_type": "markdown",
   "metadata": {},
   "source": [
    "### Ejercicio 2 (1.5 puntos)"
   ]
  },
  {
   "cell_type": "markdown",
   "metadata": {},
   "source": [
    "Realizar el mismo procedimiento que el descrito en el Ejercicio 1, pero para clasificación con el clasificador DummyClassifier (visualizar gráfica de valores de exactitud, en lugar de MAE)."
   ]
  },
  {
   "cell_type": "code",
   "execution_count": 29,
   "metadata": {},
   "outputs": [],
   "source": [
    "# carga de datos\n",
    "iris_dict = datasets.load_iris()\n",
    "\n",
    "# creación de las matrices X e y\n",
    "X = iris_dict.data\n",
    "y = iris_dict.target"
   ]
  },
  {
   "cell_type": "code",
   "execution_count": 30,
   "metadata": {},
   "outputs": [
    {
     "name": "stdout",
     "output_type": "stream",
     "text": [
      "training size: 0.50\n",
      "con un train_size de 0.50 se tienen 75 datos de entrenamiento\n",
      "\n",
      "training size: 0.55\n",
      "con un train_size de 0.55 se tienen 82 datos de entrenamiento\n",
      "\n",
      "training size: 0.60\n",
      "con un train_size de 0.60 se tienen 90 datos de entrenamiento\n",
      "\n",
      "training size: 0.65\n",
      "con un train_size de 0.65 se tienen 97 datos de entrenamiento\n",
      "\n",
      "training size: 0.70\n",
      "con un train_size de 0.70 se tienen 104 datos de entrenamiento\n",
      "\n",
      "training size: 0.75\n",
      "con un train_size de 0.75 se tienen 112 datos de entrenamiento\n",
      "\n",
      "training size: 0.80\n",
      "con un train_size de 0.80 se tienen 120 datos de entrenamiento\n",
      "\n",
      "training size: 0.85\n",
      "con un train_size de 0.85 se tienen 127 datos de entrenamiento\n",
      "\n",
      "training size: 0.90\n",
      "con un train_size de 0.90 se tienen 135 datos de entrenamiento\n",
      "\n",
      "training size: 0.95\n",
      "con un train_size de 0.95 se tienen 142 datos de entrenamiento\n",
      "\n"
     ]
    },
    {
     "name": "stderr",
     "output_type": "stream",
     "text": [
      "C:\\Users\\user\\Anaconda3\\lib\\site-packages\\sklearn\\dummy.py:132: FutureWarning: The default value of strategy will change from stratified to prior in 0.24.\n",
      "  \"stratified to prior in 0.24.\", FutureWarning)\n"
     ]
    }
   ],
   "source": [
    "# generación de los resultados por training_size\n",
    "train_sizes = np.arange(50, 100, 5)/100\n",
    "accs_test = [] # vector to save the MAE scores\n",
    "accs_train = []\n",
    "\n",
    "for ts in train_sizes:\n",
    "    print(\"training size:\", \"{:.2f}\".format(ts))\n",
    "    \n",
    "    # separación de los datos\n",
    "    X_train, X_test, y_train, y_test = train_test_split(X, y, test_size=(1-ts), random_state=23)\n",
    "    print(f\"con un train_size de {'{:.2f}'.format(ts)} se tienen {(X_train.shape[0])} datos de entrenamiento\")\n",
    "    \n",
    "    # Entrenamiento y predicción del test\n",
    "    clf = DummyClassifier()\n",
    "    clf.fit(X_train, y_train)\n",
    "    y_train_pred = clf.predict(X_train)\n",
    "    y_test_pred = clf.predict(X_test)\n",
    "          \n",
    "    # evaluacion\n",
    "    acc_train = clf.score(X_train, y_train)\n",
    "    acc_test = clf.score(X_test, y_test)\n",
    "          \n",
    "    # guardado de resultados\n",
    "    accs_train.append(acc_train)\n",
    "    accs_test.append(acc_test)\n",
    "    print()"
   ]
  },
  {
   "cell_type": "code",
   "execution_count": 31,
   "metadata": {},
   "outputs": [
    {
     "data": {
      "image/png": "[encoded data removed]",
      "text/plain": [
       "<Figure size 720x432 with 1 Axes>"
      ]
     },
     "metadata": {
      "needs_background": "light"
     },
     "output_type": "display_data"
    }
   ],
   "source": [
    "# Gráfica del mean accuracy en función del tamaño train-test \n",
    "plt.figure(figsize=(10, 6))\n",
    "plt.plot(train_sizes, accs_test,\"*--r\", label=\"mean accuracy in test\")\n",
    "plt.plot(train_sizes, accs_train, label=\"mean accuracy in train\")\n",
    "plt.title(\"mean accuracy dummy regressor\")\n",
    "plt.ylabel(\"mean accuracy\")\n",
    "plt.xlabel(\"Training size (proporción)\")\n",
    "plt.legend()\n",
    "plt.grid()\n",
    "plt.show()"
   ]
  },
  {
   "cell_type": "markdown",
   "metadata": {},
   "source": [
    "Al igual que hicimos en el punto 1, mejor vamos a dibujar la relación entre el split y el accuracy, pero teniendo en cuenta 100 splits distintos para cada test_size"
   ]
  },
  {
   "cell_type": "code",
   "execution_count": 32,
   "metadata": {},
   "outputs": [
    {
     "name": "stdout",
     "output_type": "stream",
     "text": [
      "training size: 0.50\n",
      "training size: 0.55\n",
      "training size: 0.60\n",
      "training size: 0.65\n",
      "training size: 0.70\n",
      "training size: 0.75\n",
      "training size: 0.80\n",
      "training size: 0.85\n",
      "training size: 0.90\n",
      "training size: 0.95\n"
     ]
    }
   ],
   "source": [
    "num_simul = 100\n",
    "train_sizes = np.arange(50, 100, 5)/100\n",
    "accs_test = [] # vector to save the MAE scores\n",
    "accs_train = []\n",
    "resultados = {}\n",
    "\n",
    "for ts in train_sizes:\n",
    "    print(\"training size:\", \"{:.2f}\".format(ts))\n",
    "    \n",
    "    train_results = []\n",
    "    test_results = []\n",
    "    for i in range(num_simul):\n",
    "        # separación de los datos\n",
    "        X_train, X_test, y_train, y_test = train_test_split(X, y, test_size=(1-ts)) # sin random_state\n",
    "\n",
    "        # Entrenamiento y predicción del test\n",
    "        clf = DummyClassifier()\n",
    "        clf.fit(X_train, y_train)\n",
    "        y_train_pred = clf.predict(X_train)\n",
    "        y_test_pred = clf.predict(X_test)\n",
    "\n",
    "        # evaluacion\n",
    "        acc_train = clf.score(X_train, y_train)\n",
    "        acc_test = clf.score(X_test, y_test)\n",
    "        \n",
    "        # guardado de resultados\n",
    "        train_results.append(acc_train)\n",
    "        test_results.append(acc_test)\n",
    "        \n",
    "    resultados[ts] = {\n",
    "        \"train\": train_results,\n",
    "        \"test\":test_results\n",
    "    }"
   ]
  },
  {
   "cell_type": "code",
   "execution_count": 33,
   "metadata": {},
   "outputs": [],
   "source": [
    "# Captura de los estaísticos\n",
    "medias = []\n",
    "desvests = []\n",
    "for ts in train_sizes:\n",
    "    media = np.mean(resultados[ts][\"test\"])\n",
    "    desvest = np.std(resultados[ts][\"test\"])\n",
    "    medias.append(media)\n",
    "    desvests.append(desvest)\n",
    "    \n",
    "medias = np.array(medias)\n",
    "desvests = np.array(desvests)"
   ]
  },
  {
   "cell_type": "code",
   "execution_count": 34,
   "metadata": {},
   "outputs": [
    {
     "data": {
      "image/png": "[encoded data removed]",
      "text/plain": [
       "<Figure size 720x432 with 1 Axes>"
      ]
     },
     "metadata": {
      "needs_background": "light"
     },
     "output_type": "display_data"
    }
   ],
   "source": [
    "plt.figure(figsize=(10, 6))\n",
    "plt.plot(train_sizes, medias)\n",
    "plt.fill_between(train_sizes, medias-desvests, medias+desvests,\n",
    "                 facecolor=\"black\", # The fill color\n",
    "                 color='blue',       # The outline color\n",
    "                 alpha=0.2)          # Transparency of the fill\n",
    "plt.title(\"Relación entre la partición y el mean accuracy en test\")\n",
    "plt.xlabel(\"training size (proporción)\")\n",
    "plt.ylabel(\"mean accuracy\")\n",
    "plt.show()"
   ]
  },
  {
   "cell_type": "markdown",
   "metadata": {},
   "source": [
    "De nuevo parece no haber relación entre el test_size y el mean accuracy. En este caso, el mean accuracy permanece con una media de al rededor de 0.33 y la desviación sí crece a medida que el training size se hace más grande"
   ]
  },
  {
   "cell_type": "code",
   "execution_count": null,
   "metadata": {},
   "outputs": [],
   "source": []
  },
  {
   "cell_type": "markdown",
   "metadata": {},
   "source": [
    "### Ejercicio 3 (2 puntos)"
   ]
  },
  {
   "cell_type": "markdown",
   "metadata": {},
   "source": [
    "Cree un programa, con comentarios que aclaren el código, donde se computen las métricas MAE, RMSE y MAPE usando los regresores OLS y KNN en validación cruzada con 10 bolsas. Muestre los resultados de forma comparativa para al menos tres datasets (los que se deseen)."
   ]
  },
  {
   "cell_type": "markdown",
   "metadata": {},
   "source": [
    "#### import de bibliotecas necesarias y carga de datos"
   ]
  },
  {
   "cell_type": "code",
   "execution_count": 143,
   "metadata": {},
   "outputs": [],
   "source": [
    "from sklearn.datasets.california_housing import fetch_california_housing \n",
    "import sklearn.metrics as metrics\n",
    "from sklearn.neighbors import KNeighborsRegressor\n",
    "from sklearn import linear_model\n",
    "from sklearn.model_selection import cross_val_predict\n",
    "from sklearn.model_selection import KFold\n",
    "from math import sqrt\n",
    "import seaborn as sns"
   ]
  },
  {
   "cell_type": "code",
   "execution_count": 265,
   "metadata": {},
   "outputs": [],
   "source": [
    "# carga de los datasets\n",
    "dict_boston = datasets.load_boston()\n",
    "dict_dbts = datasets.load_diabetes()\n",
    "dict_calif = fetch_california_housing()\n",
    "\n",
    "# diccionario con todos los datasets que se necesitan\n",
    "dict_datos = {\n",
    "    \"boston\": dict_boston,\n",
    "    \"diabetes\": dict_dbts,\n",
    "    \"california\": dict_calif\n",
    "}"
   ]
  },
  {
   "cell_type": "markdown",
   "metadata": {},
   "source": [
    "#### Estandarización de los datos\n",
    "En esta sección se realizará el cálculo de las matrices de data estandarizados para todos los datasets"
   ]
  },
  {
   "cell_type": "code",
   "execution_count": 266,
   "metadata": {},
   "outputs": [],
   "source": [
    "# Estandarizar los datos\n",
    "# Para cada diccionario de datos se agregará otra llave conteniendo la data estandarizada\n",
    "for name, diccionario in dict_datos.items():\n",
    "#     print(name)\n",
    "#     print(diccionario)\n",
    "#     print(diccionario.data)\n",
    "    est = StandardScaler()\n",
    "    data_preprocesada = est.fit_transform(diccionario.data)\n",
    "    # guardo la data preprocesada en el diccionario original\n",
    "    diccionario[\"data_prep\"] = data_preprocesada"
   ]
  },
  {
   "cell_type": "markdown",
   "metadata": {},
   "source": [
    "#### Métricas y algoritmos\n",
    "Creación de diccionarios con métricas y algoritmos para ser usados en los posteriores experimentos"
   ]
  },
  {
   "cell_type": "code",
   "execution_count": 267,
   "metadata": {},
   "outputs": [],
   "source": [
    "# Métricas de evaluación.\n",
    "metricas = {\n",
    "  'MAE': metrics.mean_absolute_error,\n",
    "  'RMSE': lambda y, y_pred:\n",
    "          sqrt(metrics.mean_squared_error(y, y_pred)),\n",
    "  'MAPE': lambda y, y_pred:\n",
    "          np.mean(np.abs((y - y_pred) / y)) * 100,\n",
    "#   'R2': metrics.r2_score\n",
    "}"
   ]
  },
  {
   "cell_type": "code",
   "execution_count": 268,
   "metadata": {},
   "outputs": [],
   "source": [
    "algoritmos = {\n",
    "    \"ols\": linear_model.LinearRegression(),\n",
    "    \"knn\": KNeighborsRegressor(n_neighbors = 10)\n",
    "}"
   ]
  },
  {
   "cell_type": "markdown",
   "metadata": {},
   "source": [
    "#### Ejecución de los experimentos\n",
    "Se entrenarán modelos por cada dataset y algoritmo. Y se computarán todas las métricas presentes en el diccionario \"metricas\""
   ]
  },
  {
   "cell_type": "code",
   "execution_count": 271,
   "metadata": {},
   "outputs": [
    {
     "name": "stdout",
     "output_type": "stream",
     "text": [
      "ejecutando: boston  -  ols\n",
      "ejecutando: boston  -  knn\n",
      "ejecutando: diabetes  -  ols\n",
      "ejecutando: diabetes  -  knn\n",
      "ejecutando: california  -  ols\n",
      "ejecutando: california  -  knn\n"
     ]
    },
    {
     "name": "stderr",
     "output_type": "stream",
     "text": [
      "C:\\Users\\user\\Anaconda3\\lib\\site-packages\\sklearn\\model_selection\\_split.py:297: FutureWarning: Setting a random_state has no effect since shuffle is False. This will raise an error in 0.24. You should leave random_state to its default (None), or set shuffle=True.\n",
      "  FutureWarning\n",
      "C:\\Users\\user\\Anaconda3\\lib\\site-packages\\sklearn\\model_selection\\_split.py:297: FutureWarning: Setting a random_state has no effect since shuffle is False. This will raise an error in 0.24. You should leave random_state to its default (None), or set shuffle=True.\n",
      "  FutureWarning\n",
      "C:\\Users\\user\\Anaconda3\\lib\\site-packages\\sklearn\\model_selection\\_split.py:297: FutureWarning: Setting a random_state has no effect since shuffle is False. This will raise an error in 0.24. You should leave random_state to its default (None), or set shuffle=True.\n",
      "  FutureWarning\n",
      "C:\\Users\\user\\Anaconda3\\lib\\site-packages\\sklearn\\model_selection\\_split.py:297: FutureWarning: Setting a random_state has no effect since shuffle is False. This will raise an error in 0.24. You should leave random_state to its default (None), or set shuffle=True.\n",
      "  FutureWarning\n",
      "C:\\Users\\user\\Anaconda3\\lib\\site-packages\\sklearn\\model_selection\\_split.py:297: FutureWarning: Setting a random_state has no effect since shuffle is False. This will raise an error in 0.24. You should leave random_state to its default (None), or set shuffle=True.\n",
      "  FutureWarning\n",
      "C:\\Users\\user\\Anaconda3\\lib\\site-packages\\sklearn\\model_selection\\_split.py:297: FutureWarning: Setting a random_state has no effect since shuffle is False. This will raise an error in 0.24. You should leave random_state to its default (None), or set shuffle=True.\n",
      "  FutureWarning\n"
     ]
    }
   ],
   "source": [
    "# Ejecución de los distintos algoritmos para cada dataset\n",
    "results_df = pd.DataFrame(columns=[\"dataset\", \"algorithm\", \"MAE\", \"RMSE\", \"MAPE\"]) # dataframe para guardar los resultados\n",
    "seed = 42 # semilla que se usará en todas las iteraciones\n",
    "for data_name, datos in dict_datos.items():\n",
    "    for alg_name, alg in algoritmos.items():\n",
    "        print(\"ejecutando:\", data_name, \" - \",alg_name)\n",
    "        \n",
    "        # selección de los datos y el modelo\n",
    "        # Validación y obtención de las predicciones del modelo.\n",
    "        y_pred = cross_val_predict(alg, datos[\"data_prep\"], datos[\"target\"],\n",
    "                   cv = KFold(n_splits=10, random_state=seed))\n",
    "        \n",
    "        # computando métricas\n",
    "        MAE = metricas['MAE'](datos.target, y_pred)\n",
    "        RMSE = metricas['RMSE'](datos.target, y_pred)\n",
    "        MAPE = metricas['MAPE'](datos.target, y_pred)\n",
    "        \n",
    "        # guardar los resultados en el dataframe correspondiente\n",
    "        resultados_actuales = {\n",
    "            \"dataset\":data_name,\n",
    "            \"algorithm\":alg_name,\n",
    "            \"MAE\": MAE, \n",
    "            \"RMSE\":RMSE,\n",
    "            \"MAPE\":MAPE\n",
    "        }\n",
    "        results_df = results_df.append(resultados_actuales, ignore_index=True)\n",
    "        "
   ]
  },
  {
   "cell_type": "code",
   "execution_count": 272,
   "metadata": {},
   "outputs": [
    {
     "data": {
      "text/html": [
       "<div>\n",
       "<style scoped>\n",
       "    .dataframe tbody tr th:only-of-type {\n",
       "        vertical-align: middle;\n",
       "    }\n",
       "\n",
       "    .dataframe tbody tr th {\n",
       "        vertical-align: top;\n",
       "    }\n",
       "\n",
       "    .dataframe thead th {\n",
       "        text-align: right;\n",
       "    }\n",
       "</style>\n",
       "<table border=\"1\" class=\"dataframe\">\n",
       "  <thead>\n",
       "    <tr style=\"text-align: right;\">\n",
       "      <th></th>\n",
       "      <th>dataset</th>\n",
       "      <th>algorithm</th>\n",
       "      <th>MAE</th>\n",
       "      <th>RMSE</th>\n",
       "      <th>MAPE</th>\n",
       "    </tr>\n",
       "  </thead>\n",
       "  <tbody>\n",
       "    <tr>\n",
       "      <th>0</th>\n",
       "      <td>boston</td>\n",
       "      <td>ols</td>\n",
       "      <td>3.997306</td>\n",
       "      <td>5.877045</td>\n",
       "      <td>21.201154</td>\n",
       "    </tr>\n",
       "    <tr>\n",
       "      <th>1</th>\n",
       "      <td>boston</td>\n",
       "      <td>knn</td>\n",
       "      <td>3.687806</td>\n",
       "      <td>5.401275</td>\n",
       "      <td>18.217294</td>\n",
       "    </tr>\n",
       "    <tr>\n",
       "      <th>2</th>\n",
       "      <td>diabetes</td>\n",
       "      <td>ols</td>\n",
       "      <td>44.214396</td>\n",
       "      <td>54.763421</td>\n",
       "      <td>39.465002</td>\n",
       "    </tr>\n",
       "    <tr>\n",
       "      <th>3</th>\n",
       "      <td>diabetes</td>\n",
       "      <td>knn</td>\n",
       "      <td>46.331674</td>\n",
       "      <td>58.470362</td>\n",
       "      <td>40.614624</td>\n",
       "    </tr>\n",
       "    <tr>\n",
       "      <th>4</th>\n",
       "      <td>california</td>\n",
       "      <td>ols</td>\n",
       "      <td>0.544521</td>\n",
       "      <td>0.742262</td>\n",
       "      <td>32.534784</td>\n",
       "    </tr>\n",
       "    <tr>\n",
       "      <th>5</th>\n",
       "      <td>california</td>\n",
       "      <td>knn</td>\n",
       "      <td>0.523631</td>\n",
       "      <td>0.738628</td>\n",
       "      <td>29.378302</td>\n",
       "    </tr>\n",
       "  </tbody>\n",
       "</table>\n",
       "</div>"
      ],
      "text/plain": [
       "      dataset algorithm        MAE       RMSE       MAPE\n",
       "0      boston       ols   3.997306   5.877045  21.201154\n",
       "1      boston       knn   3.687806   5.401275  18.217294\n",
       "2    diabetes       ols  44.214396  54.763421  39.465002\n",
       "3    diabetes       knn  46.331674  58.470362  40.614624\n",
       "4  california       ols   0.544521   0.742262  32.534784\n",
       "5  california       knn   0.523631   0.738628  29.378302"
      ]
     },
     "execution_count": 272,
     "metadata": {},
     "output_type": "execute_result"
    }
   ],
   "source": [
    "results_df"
   ]
  },
  {
   "cell_type": "markdown",
   "metadata": {},
   "source": [
    "#### Preparación de datos para análisis\n",
    "Se dará un formato adecuado a los resultados de los experimentos anteriores para realizar gráficas"
   ]
  },
  {
   "cell_type": "code",
   "execution_count": 275,
   "metadata": {},
   "outputs": [],
   "source": [
    "# preparación de los datos para hacer gráficas comparativas\n",
    "melted_results = results_df.melt(id_vars=[\"dataset\", \"algorithm\"], \n",
    "        var_name=\"metric\", \n",
    "        value_name=\"Value\")\n",
    "# melted_results"
   ]
  },
  {
   "cell_type": "markdown",
   "metadata": {},
   "source": [
    "#### Gráficas comparativas"
   ]
  },
  {
   "cell_type": "code",
   "execution_count": 276,
   "metadata": {},
   "outputs": [
    {
     "name": "stdout",
     "output_type": "stream",
     "text": [
      "boston\n"
     ]
    },
    {
     "data": {
      "image/png": "[encoded data removed]",
      "text/plain": [
       "<Figure size 576x360 with 1 Axes>"
      ]
     },
     "metadata": {
      "needs_background": "light"
     },
     "output_type": "display_data"
    },
    {
     "name": "stdout",
     "output_type": "stream",
     "text": [
      "diabetes\n"
     ]
    },
    {
     "data": {
      "image/png": "[encoded data removed]",
      "text/plain": [
       "<Figure size 576x360 with 1 Axes>"
      ]
     },
     "metadata": {
      "needs_background": "light"
     },
     "output_type": "display_data"
    },
    {
     "name": "stdout",
     "output_type": "stream",
     "text": [
      "california\n"
     ]
    },
    {
     "data": {
      "image/png": "[encoded data removed]",
      "text/plain": [
       "<Figure size 576x360 with 1 Axes>"
      ]
     },
     "metadata": {
      "needs_background": "light"
     },
     "output_type": "display_data"
    }
   ],
   "source": [
    "# gráficas comparativas\n",
    "for data_name in dict_datos:\n",
    "    print(data_name)\n",
    "    df = melted_results[melted_results[\"dataset\"]== data_name]\n",
    "    \n",
    "    plt.figure(figsize=(8, 5))\n",
    "    sns.barplot(x=\"metric\", y=\"Value\", hue=\"algorithm\", data= melted_results)\n",
    "    plt.title(\"desempeño por algoritmo en \"+data_name)\n",
    "    plt.show()"
   ]
  },
  {
   "cell_type": "markdown",
   "metadata": {},
   "source": [
    "Cabe recordar que las gráficas anteriores fueron obtenidas con OLS y KNN de 10 vecinos y la data fue estandarizada previo al entrenamiento y evaluación de los modelos.\n",
    "\n",
    "Se puede observar que en los 3 datasets la dinámica es la misma, reflejando:\n",
    "* El algoritmo OLS presenta un MAE y RMSE ligeramente mejores que KNN, sin embargo\n",
    "* El algoritmo KNN con 10 vecinos siempre mostró un mejor desempeño en MAPE que OLS"
   ]
  },
  {
   "cell_type": "code",
   "execution_count": null,
   "metadata": {},
   "outputs": [],
   "source": []
  },
  {
   "cell_type": "markdown",
   "metadata": {},
   "source": [
    "### Ejercicio 4 (3 puntos)"
   ]
  },
  {
   "cell_type": "markdown",
   "metadata": {},
   "source": [
    "Analice las diferencias entre los errores producidos por el algoritmo KNN en función de estos aspectos: a) número de vecinos más cercanos; b) función de distancia; c) con/sin normalización previa de atributos. Para ello, pruebe al menos dos configuraciones distintas de cada aspecto. Use tres datasets diferentes en validación leave-one-out en la comparativa de resultados."
   ]
  },
  {
   "cell_type": "markdown",
   "metadata": {},
   "source": [
    "#### Ajuste del tamaño de datos para experimentar"
   ]
  },
  {
   "cell_type": "markdown",
   "metadata": {},
   "source": [
    "Dado que estamos trabajando con la data de california y esta es muy grande (20640 registros) haremos un corte para tener menos registros y así poder realizar diversos experimentos con los hiperparámetros planteados."
   ]
  },
  {
   "cell_type": "code",
   "execution_count": 277,
   "metadata": {},
   "outputs": [],
   "source": [
    "rows_california = 2000 # tomaremos una parte de los datos\n",
    "dict_calif.data = dict_calif.data[:rows_california]\n",
    "dict_calif.target = dict_calif.target[:rows_california]\n",
    "dict_calif[\"data_prep\"] = dict_calif[\"data_prep\"][:rows_california]"
   ]
  },
  {
   "cell_type": "code",
   "execution_count": 278,
   "metadata": {},
   "outputs": [
    {
     "data": {
      "text/plain": [
       "(2000, 8)"
      ]
     },
     "execution_count": 278,
     "metadata": {},
     "output_type": "execute_result"
    }
   ],
   "source": [
    "dict_datos[\"california\"].data.shape # se verifica que el diccionario con los datos no tiene las 20.000 filas"
   ]
  },
  {
   "cell_type": "markdown",
   "metadata": {},
   "source": [
    "#### Ejecutar experimentos"
   ]
  },
  {
   "cell_type": "code",
   "execution_count": 279,
   "metadata": {},
   "outputs": [],
   "source": [
    "# Variables para experimentar\n",
    "ks = [2, 5, 10, 20] # lista de número de vecinos\n",
    "distancias = [1, 2, 3]#[1, 2, 3, 4, 5] # valores para p\n",
    "data2use = [\"data\", \"data_prep\"] # data orginal y data estandarizada"
   ]
  },
  {
   "cell_type": "code",
   "execution_count": 280,
   "metadata": {},
   "outputs": [],
   "source": [
    "# la siguiente celda corre los experimentos. Esta puede tomar varios minutos en ejecutar"
   ]
  },
  {
   "cell_type": "code",
   "execution_count": 281,
   "metadata": {
    "scrolled": true
   },
   "outputs": [
    {
     "name": "stdout",
     "output_type": "stream",
     "text": [
      "\n",
      "\n",
      "experimento 1/72\n",
      "computando boston, k=2, distancia=1, tipo_datos=data\n"
     ]
    },
    {
     "name": "stderr",
     "output_type": "stream",
     "text": [
      "C:\\Users\\user\\Anaconda3\\lib\\site-packages\\sklearn\\model_selection\\_split.py:297: FutureWarning: Setting a random_state has no effect since shuffle is False. This will raise an error in 0.24. You should leave random_state to its default (None), or set shuffle=True.\n",
      "  FutureWarning\n"
     ]
    },
    {
     "name": "stdout",
     "output_type": "stream",
     "text": [
      "\n",
      "\n",
      "experimento 2/72\n",
      "computando boston, k=2, distancia=1, tipo_datos=data_prep\n"
     ]
    },
    {
     "name": "stderr",
     "output_type": "stream",
     "text": [
      "C:\\Users\\user\\Anaconda3\\lib\\site-packages\\sklearn\\model_selection\\_split.py:297: FutureWarning: Setting a random_state has no effect since shuffle is False. This will raise an error in 0.24. You should leave random_state to its default (None), or set shuffle=True.\n",
      "  FutureWarning\n"
     ]
    },
    {
     "name": "stdout",
     "output_type": "stream",
     "text": [
      "\n",
      "\n",
      "experimento 3/72\n",
      "computando boston, k=2, distancia=2, tipo_datos=data\n"
     ]
    },
    {
     "name": "stderr",
     "output_type": "stream",
     "text": [
      "C:\\Users\\user\\Anaconda3\\lib\\site-packages\\sklearn\\model_selection\\_split.py:297: FutureWarning: Setting a random_state has no effect since shuffle is False. This will raise an error in 0.24. You should leave random_state to its default (None), or set shuffle=True.\n",
      "  FutureWarning\n"
     ]
    },
    {
     "name": "stdout",
     "output_type": "stream",
     "text": [
      "\n",
      "\n",
      "experimento 4/72\n",
      "computando boston, k=2, distancia=2, tipo_datos=data_prep\n"
     ]
    },
    {
     "name": "stderr",
     "output_type": "stream",
     "text": [
      "C:\\Users\\user\\Anaconda3\\lib\\site-packages\\sklearn\\model_selection\\_split.py:297: FutureWarning: Setting a random_state has no effect since shuffle is False. This will raise an error in 0.24. You should leave random_state to its default (None), or set shuffle=True.\n",
      "  FutureWarning\n"
     ]
    },
    {
     "name": "stdout",
     "output_type": "stream",
     "text": [
      "\n",
      "\n",
      "experimento 5/72\n",
      "computando boston, k=2, distancia=3, tipo_datos=data\n"
     ]
    },
    {
     "name": "stderr",
     "output_type": "stream",
     "text": [
      "C:\\Users\\user\\Anaconda3\\lib\\site-packages\\sklearn\\model_selection\\_split.py:297: FutureWarning: Setting a random_state has no effect since shuffle is False. This will raise an error in 0.24. You should leave random_state to its default (None), or set shuffle=True.\n",
      "  FutureWarning\n"
     ]
    },
    {
     "name": "stdout",
     "output_type": "stream",
     "text": [
      "\n",
      "\n",
      "experimento 6/72\n",
      "computando boston, k=2, distancia=3, tipo_datos=data_prep\n"
     ]
    },
    {
     "name": "stderr",
     "output_type": "stream",
     "text": [
      "C:\\Users\\user\\Anaconda3\\lib\\site-packages\\sklearn\\model_selection\\_split.py:297: FutureWarning: Setting a random_state has no effect since shuffle is False. This will raise an error in 0.24. You should leave random_state to its default (None), or set shuffle=True.\n",
      "  FutureWarning\n"
     ]
    },
    {
     "name": "stdout",
     "output_type": "stream",
     "text": [
      "\n",
      "\n",
      "experimento 7/72\n",
      "computando boston, k=5, distancia=1, tipo_datos=data\n"
     ]
    },
    {
     "name": "stderr",
     "output_type": "stream",
     "text": [
      "C:\\Users\\user\\Anaconda3\\lib\\site-packages\\sklearn\\model_selection\\_split.py:297: FutureWarning: Setting a random_state has no effect since shuffle is False. This will raise an error in 0.24. You should leave random_state to its default (None), or set shuffle=True.\n",
      "  FutureWarning\n"
     ]
    },
    {
     "name": "stdout",
     "output_type": "stream",
     "text": [
      "\n",
      "\n",
      "experimento 8/72\n",
      "computando boston, k=5, distancia=1, tipo_datos=data_prep\n"
     ]
    },
    {
     "name": "stderr",
     "output_type": "stream",
     "text": [
      "C:\\Users\\user\\Anaconda3\\lib\\site-packages\\sklearn\\model_selection\\_split.py:297: FutureWarning: Setting a random_state has no effect since shuffle is False. This will raise an error in 0.24. You should leave random_state to its default (None), or set shuffle=True.\n",
      "  FutureWarning\n"
     ]
    },
    {
     "name": "stdout",
     "output_type": "stream",
     "text": [
      "\n",
      "\n",
      "experimento 9/72\n",
      "computando boston, k=5, distancia=2, tipo_datos=data\n"
     ]
    },
    {
     "name": "stderr",
     "output_type": "stream",
     "text": [
      "C:\\Users\\user\\Anaconda3\\lib\\site-packages\\sklearn\\model_selection\\_split.py:297: FutureWarning: Setting a random_state has no effect since shuffle is False. This will raise an error in 0.24. You should leave random_state to its default (None), or set shuffle=True.\n",
      "  FutureWarning\n"
     ]
    },
    {
     "name": "stdout",
     "output_type": "stream",
     "text": [
      "\n",
      "\n",
      "experimento 10/72\n",
      "computando boston, k=5, distancia=2, tipo_datos=data_prep\n"
     ]
    },
    {
     "name": "stderr",
     "output_type": "stream",
     "text": [
      "C:\\Users\\user\\Anaconda3\\lib\\site-packages\\sklearn\\model_selection\\_split.py:297: FutureWarning: Setting a random_state has no effect since shuffle is False. This will raise an error in 0.24. You should leave random_state to its default (None), or set shuffle=True.\n",
      "  FutureWarning\n"
     ]
    },
    {
     "name": "stdout",
     "output_type": "stream",
     "text": [
      "\n",
      "\n",
      "experimento 11/72\n",
      "computando boston, k=5, distancia=3, tipo_datos=data\n"
     ]
    },
    {
     "name": "stderr",
     "output_type": "stream",
     "text": [
      "C:\\Users\\user\\Anaconda3\\lib\\site-packages\\sklearn\\model_selection\\_split.py:297: FutureWarning: Setting a random_state has no effect since shuffle is False. This will raise an error in 0.24. You should leave random_state to its default (None), or set shuffle=True.\n",
      "  FutureWarning\n"
     ]
    },
    {
     "name": "stdout",
     "output_type": "stream",
     "text": [
      "\n",
      "\n",
      "experimento 12/72\n",
      "computando boston, k=5, distancia=3, tipo_datos=data_prep\n"
     ]
    },
    {
     "name": "stderr",
     "output_type": "stream",
     "text": [
      "C:\\Users\\user\\Anaconda3\\lib\\site-packages\\sklearn\\model_selection\\_split.py:297: FutureWarning: Setting a random_state has no effect since shuffle is False. This will raise an error in 0.24. You should leave random_state to its default (None), or set shuffle=True.\n",
      "  FutureWarning\n"
     ]
    },
    {
     "name": "stdout",
     "output_type": "stream",
     "text": [
      "\n",
      "\n",
      "experimento 13/72\n",
      "computando boston, k=10, distancia=1, tipo_datos=data\n"
     ]
    },
    {
     "name": "stderr",
     "output_type": "stream",
     "text": [
      "C:\\Users\\user\\Anaconda3\\lib\\site-packages\\sklearn\\model_selection\\_split.py:297: FutureWarning: Setting a random_state has no effect since shuffle is False. This will raise an error in 0.24. You should leave random_state to its default (None), or set shuffle=True.\n",
      "  FutureWarning\n"
     ]
    },
    {
     "name": "stdout",
     "output_type": "stream",
     "text": [
      "\n",
      "\n",
      "experimento 14/72\n",
      "computando boston, k=10, distancia=1, tipo_datos=data_prep\n"
     ]
    },
    {
     "name": "stderr",
     "output_type": "stream",
     "text": [
      "C:\\Users\\user\\Anaconda3\\lib\\site-packages\\sklearn\\model_selection\\_split.py:297: FutureWarning: Setting a random_state has no effect since shuffle is False. This will raise an error in 0.24. You should leave random_state to its default (None), or set shuffle=True.\n",
      "  FutureWarning\n"
     ]
    },
    {
     "name": "stdout",
     "output_type": "stream",
     "text": [
      "\n",
      "\n",
      "experimento 15/72\n",
      "computando boston, k=10, distancia=2, tipo_datos=data\n"
     ]
    },
    {
     "name": "stderr",
     "output_type": "stream",
     "text": [
      "C:\\Users\\user\\Anaconda3\\lib\\site-packages\\sklearn\\model_selection\\_split.py:297: FutureWarning: Setting a random_state has no effect since shuffle is False. This will raise an error in 0.24. You should leave random_state to its default (None), or set shuffle=True.\n",
      "  FutureWarning\n"
     ]
    },
    {
     "name": "stdout",
     "output_type": "stream",
     "text": [
      "\n",
      "\n",
      "experimento 16/72\n",
      "computando boston, k=10, distancia=2, tipo_datos=data_prep\n"
     ]
    },
    {
     "name": "stderr",
     "output_type": "stream",
     "text": [
      "C:\\Users\\user\\Anaconda3\\lib\\site-packages\\sklearn\\model_selection\\_split.py:297: FutureWarning: Setting a random_state has no effect since shuffle is False. This will raise an error in 0.24. You should leave random_state to its default (None), or set shuffle=True.\n",
      "  FutureWarning\n"
     ]
    },
    {
     "name": "stdout",
     "output_type": "stream",
     "text": [
      "\n",
      "\n",
      "experimento 17/72\n",
      "computando boston, k=10, distancia=3, tipo_datos=data\n"
     ]
    },
    {
     "name": "stderr",
     "output_type": "stream",
     "text": [
      "C:\\Users\\user\\Anaconda3\\lib\\site-packages\\sklearn\\model_selection\\_split.py:297: FutureWarning: Setting a random_state has no effect since shuffle is False. This will raise an error in 0.24. You should leave random_state to its default (None), or set shuffle=True.\n",
      "  FutureWarning\n"
     ]
    },
    {
     "name": "stdout",
     "output_type": "stream",
     "text": [
      "\n",
      "\n",
      "experimento 18/72\n",
      "computando boston, k=10, distancia=3, tipo_datos=data_prep\n"
     ]
    },
    {
     "name": "stderr",
     "output_type": "stream",
     "text": [
      "C:\\Users\\user\\Anaconda3\\lib\\site-packages\\sklearn\\model_selection\\_split.py:297: FutureWarning: Setting a random_state has no effect since shuffle is False. This will raise an error in 0.24. You should leave random_state to its default (None), or set shuffle=True.\n",
      "  FutureWarning\n"
     ]
    },
    {
     "name": "stdout",
     "output_type": "stream",
     "text": [
      "\n",
      "\n",
      "experimento 19/72\n",
      "computando boston, k=20, distancia=1, tipo_datos=data\n"
     ]
    },
    {
     "name": "stderr",
     "output_type": "stream",
     "text": [
      "C:\\Users\\user\\Anaconda3\\lib\\site-packages\\sklearn\\model_selection\\_split.py:297: FutureWarning: Setting a random_state has no effect since shuffle is False. This will raise an error in 0.24. You should leave random_state to its default (None), or set shuffle=True.\n",
      "  FutureWarning\n"
     ]
    },
    {
     "name": "stdout",
     "output_type": "stream",
     "text": [
      "\n",
      "\n",
      "experimento 20/72\n",
      "computando boston, k=20, distancia=1, tipo_datos=data_prep\n"
     ]
    },
    {
     "name": "stderr",
     "output_type": "stream",
     "text": [
      "C:\\Users\\user\\Anaconda3\\lib\\site-packages\\sklearn\\model_selection\\_split.py:297: FutureWarning: Setting a random_state has no effect since shuffle is False. This will raise an error in 0.24. You should leave random_state to its default (None), or set shuffle=True.\n",
      "  FutureWarning\n"
     ]
    },
    {
     "name": "stdout",
     "output_type": "stream",
     "text": [
      "\n",
      "\n",
      "experimento 21/72\n",
      "computando boston, k=20, distancia=2, tipo_datos=data\n"
     ]
    },
    {
     "name": "stderr",
     "output_type": "stream",
     "text": [
      "C:\\Users\\user\\Anaconda3\\lib\\site-packages\\sklearn\\model_selection\\_split.py:297: FutureWarning: Setting a random_state has no effect since shuffle is False. This will raise an error in 0.24. You should leave random_state to its default (None), or set shuffle=True.\n",
      "  FutureWarning\n"
     ]
    },
    {
     "name": "stdout",
     "output_type": "stream",
     "text": [
      "\n",
      "\n",
      "experimento 22/72\n",
      "computando boston, k=20, distancia=2, tipo_datos=data_prep\n"
     ]
    },
    {
     "name": "stderr",
     "output_type": "stream",
     "text": [
      "C:\\Users\\user\\Anaconda3\\lib\\site-packages\\sklearn\\model_selection\\_split.py:297: FutureWarning: Setting a random_state has no effect since shuffle is False. This will raise an error in 0.24. You should leave random_state to its default (None), or set shuffle=True.\n",
      "  FutureWarning\n"
     ]
    },
    {
     "name": "stdout",
     "output_type": "stream",
     "text": [
      "\n",
      "\n",
      "experimento 23/72\n",
      "computando boston, k=20, distancia=3, tipo_datos=data\n"
     ]
    },
    {
     "name": "stderr",
     "output_type": "stream",
     "text": [
      "C:\\Users\\user\\Anaconda3\\lib\\site-packages\\sklearn\\model_selection\\_split.py:297: FutureWarning: Setting a random_state has no effect since shuffle is False. This will raise an error in 0.24. You should leave random_state to its default (None), or set shuffle=True.\n",
      "  FutureWarning\n"
     ]
    },
    {
     "name": "stdout",
     "output_type": "stream",
     "text": [
      "\n",
      "\n",
      "experimento 24/72\n",
      "computando boston, k=20, distancia=3, tipo_datos=data_prep\n"
     ]
    },
    {
     "name": "stderr",
     "output_type": "stream",
     "text": [
      "C:\\Users\\user\\Anaconda3\\lib\\site-packages\\sklearn\\model_selection\\_split.py:297: FutureWarning: Setting a random_state has no effect since shuffle is False. This will raise an error in 0.24. You should leave random_state to its default (None), or set shuffle=True.\n",
      "  FutureWarning\n"
     ]
    },
    {
     "name": "stdout",
     "output_type": "stream",
     "text": [
      "\n",
      "\n",
      "experimento 25/72\n",
      "computando diabetes, k=2, distancia=1, tipo_datos=data\n"
     ]
    },
    {
     "name": "stderr",
     "output_type": "stream",
     "text": [
      "C:\\Users\\user\\Anaconda3\\lib\\site-packages\\sklearn\\model_selection\\_split.py:297: FutureWarning: Setting a random_state has no effect since shuffle is False. This will raise an error in 0.24. You should leave random_state to its default (None), or set shuffle=True.\n",
      "  FutureWarning\n"
     ]
    },
    {
     "name": "stdout",
     "output_type": "stream",
     "text": [
      "\n",
      "\n",
      "experimento 26/72\n",
      "computando diabetes, k=2, distancia=1, tipo_datos=data_prep\n"
     ]
    },
    {
     "name": "stderr",
     "output_type": "stream",
     "text": [
      "C:\\Users\\user\\Anaconda3\\lib\\site-packages\\sklearn\\model_selection\\_split.py:297: FutureWarning: Setting a random_state has no effect since shuffle is False. This will raise an error in 0.24. You should leave random_state to its default (None), or set shuffle=True.\n",
      "  FutureWarning\n"
     ]
    },
    {
     "name": "stdout",
     "output_type": "stream",
     "text": [
      "\n",
      "\n",
      "experimento 27/72\n",
      "computando diabetes, k=2, distancia=2, tipo_datos=data\n"
     ]
    },
    {
     "name": "stderr",
     "output_type": "stream",
     "text": [
      "C:\\Users\\user\\Anaconda3\\lib\\site-packages\\sklearn\\model_selection\\_split.py:297: FutureWarning: Setting a random_state has no effect since shuffle is False. This will raise an error in 0.24. You should leave random_state to its default (None), or set shuffle=True.\n",
      "  FutureWarning\n"
     ]
    },
    {
     "name": "stdout",
     "output_type": "stream",
     "text": [
      "\n",
      "\n",
      "experimento 28/72\n",
      "computando diabetes, k=2, distancia=2, tipo_datos=data_prep\n"
     ]
    },
    {
     "name": "stderr",
     "output_type": "stream",
     "text": [
      "C:\\Users\\user\\Anaconda3\\lib\\site-packages\\sklearn\\model_selection\\_split.py:297: FutureWarning: Setting a random_state has no effect since shuffle is False. This will raise an error in 0.24. You should leave random_state to its default (None), or set shuffle=True.\n",
      "  FutureWarning\n"
     ]
    },
    {
     "name": "stdout",
     "output_type": "stream",
     "text": [
      "\n",
      "\n",
      "experimento 29/72\n",
      "computando diabetes, k=2, distancia=3, tipo_datos=data\n"
     ]
    },
    {
     "name": "stderr",
     "output_type": "stream",
     "text": [
      "C:\\Users\\user\\Anaconda3\\lib\\site-packages\\sklearn\\model_selection\\_split.py:297: FutureWarning: Setting a random_state has no effect since shuffle is False. This will raise an error in 0.24. You should leave random_state to its default (None), or set shuffle=True.\n",
      "  FutureWarning\n"
     ]
    },
    {
     "name": "stdout",
     "output_type": "stream",
     "text": [
      "\n",
      "\n",
      "experimento 30/72\n",
      "computando diabetes, k=2, distancia=3, tipo_datos=data_prep\n"
     ]
    },
    {
     "name": "stderr",
     "output_type": "stream",
     "text": [
      "C:\\Users\\user\\Anaconda3\\lib\\site-packages\\sklearn\\model_selection\\_split.py:297: FutureWarning: Setting a random_state has no effect since shuffle is False. This will raise an error in 0.24. You should leave random_state to its default (None), or set shuffle=True.\n",
      "  FutureWarning\n"
     ]
    },
    {
     "name": "stdout",
     "output_type": "stream",
     "text": [
      "\n",
      "\n",
      "experimento 31/72\n",
      "computando diabetes, k=5, distancia=1, tipo_datos=data\n"
     ]
    },
    {
     "name": "stderr",
     "output_type": "stream",
     "text": [
      "C:\\Users\\user\\Anaconda3\\lib\\site-packages\\sklearn\\model_selection\\_split.py:297: FutureWarning: Setting a random_state has no effect since shuffle is False. This will raise an error in 0.24. You should leave random_state to its default (None), or set shuffle=True.\n",
      "  FutureWarning\n"
     ]
    },
    {
     "name": "stdout",
     "output_type": "stream",
     "text": [
      "\n",
      "\n",
      "experimento 32/72\n",
      "computando diabetes, k=5, distancia=1, tipo_datos=data_prep\n"
     ]
    },
    {
     "name": "stderr",
     "output_type": "stream",
     "text": [
      "C:\\Users\\user\\Anaconda3\\lib\\site-packages\\sklearn\\model_selection\\_split.py:297: FutureWarning: Setting a random_state has no effect since shuffle is False. This will raise an error in 0.24. You should leave random_state to its default (None), or set shuffle=True.\n",
      "  FutureWarning\n"
     ]
    },
    {
     "name": "stdout",
     "output_type": "stream",
     "text": [
      "\n",
      "\n",
      "experimento 33/72\n",
      "computando diabetes, k=5, distancia=2, tipo_datos=data\n"
     ]
    },
    {
     "name": "stderr",
     "output_type": "stream",
     "text": [
      "C:\\Users\\user\\Anaconda3\\lib\\site-packages\\sklearn\\model_selection\\_split.py:297: FutureWarning: Setting a random_state has no effect since shuffle is False. This will raise an error in 0.24. You should leave random_state to its default (None), or set shuffle=True.\n",
      "  FutureWarning\n"
     ]
    },
    {
     "name": "stdout",
     "output_type": "stream",
     "text": [
      "\n",
      "\n",
      "experimento 34/72\n",
      "computando diabetes, k=5, distancia=2, tipo_datos=data_prep\n"
     ]
    },
    {
     "name": "stderr",
     "output_type": "stream",
     "text": [
      "C:\\Users\\user\\Anaconda3\\lib\\site-packages\\sklearn\\model_selection\\_split.py:297: FutureWarning: Setting a random_state has no effect since shuffle is False. This will raise an error in 0.24. You should leave random_state to its default (None), or set shuffle=True.\n",
      "  FutureWarning\n"
     ]
    },
    {
     "name": "stdout",
     "output_type": "stream",
     "text": [
      "\n",
      "\n",
      "experimento 35/72\n",
      "computando diabetes, k=5, distancia=3, tipo_datos=data\n"
     ]
    },
    {
     "name": "stderr",
     "output_type": "stream",
     "text": [
      "C:\\Users\\user\\Anaconda3\\lib\\site-packages\\sklearn\\model_selection\\_split.py:297: FutureWarning: Setting a random_state has no effect since shuffle is False. This will raise an error in 0.24. You should leave random_state to its default (None), or set shuffle=True.\n",
      "  FutureWarning\n"
     ]
    },
    {
     "name": "stdout",
     "output_type": "stream",
     "text": [
      "\n",
      "\n",
      "experimento 36/72\n",
      "computando diabetes, k=5, distancia=3, tipo_datos=data_prep\n"
     ]
    },
    {
     "name": "stderr",
     "output_type": "stream",
     "text": [
      "C:\\Users\\user\\Anaconda3\\lib\\site-packages\\sklearn\\model_selection\\_split.py:297: FutureWarning: Setting a random_state has no effect since shuffle is False. This will raise an error in 0.24. You should leave random_state to its default (None), or set shuffle=True.\n",
      "  FutureWarning\n"
     ]
    },
    {
     "name": "stdout",
     "output_type": "stream",
     "text": [
      "\n",
      "\n",
      "experimento 37/72\n",
      "computando diabetes, k=10, distancia=1, tipo_datos=data\n"
     ]
    },
    {
     "name": "stderr",
     "output_type": "stream",
     "text": [
      "C:\\Users\\user\\Anaconda3\\lib\\site-packages\\sklearn\\model_selection\\_split.py:297: FutureWarning: Setting a random_state has no effect since shuffle is False. This will raise an error in 0.24. You should leave random_state to its default (None), or set shuffle=True.\n",
      "  FutureWarning\n"
     ]
    },
    {
     "name": "stdout",
     "output_type": "stream",
     "text": [
      "\n",
      "\n",
      "experimento 38/72\n",
      "computando diabetes, k=10, distancia=1, tipo_datos=data_prep\n"
     ]
    },
    {
     "name": "stderr",
     "output_type": "stream",
     "text": [
      "C:\\Users\\user\\Anaconda3\\lib\\site-packages\\sklearn\\model_selection\\_split.py:297: FutureWarning: Setting a random_state has no effect since shuffle is False. This will raise an error in 0.24. You should leave random_state to its default (None), or set shuffle=True.\n",
      "  FutureWarning\n"
     ]
    },
    {
     "name": "stdout",
     "output_type": "stream",
     "text": [
      "\n",
      "\n",
      "experimento 39/72\n",
      "computando diabetes, k=10, distancia=2, tipo_datos=data\n"
     ]
    },
    {
     "name": "stderr",
     "output_type": "stream",
     "text": [
      "C:\\Users\\user\\Anaconda3\\lib\\site-packages\\sklearn\\model_selection\\_split.py:297: FutureWarning: Setting a random_state has no effect since shuffle is False. This will raise an error in 0.24. You should leave random_state to its default (None), or set shuffle=True.\n",
      "  FutureWarning\n"
     ]
    },
    {
     "name": "stdout",
     "output_type": "stream",
     "text": [
      "\n",
      "\n",
      "experimento 40/72\n",
      "computando diabetes, k=10, distancia=2, tipo_datos=data_prep\n"
     ]
    },
    {
     "name": "stderr",
     "output_type": "stream",
     "text": [
      "C:\\Users\\user\\Anaconda3\\lib\\site-packages\\sklearn\\model_selection\\_split.py:297: FutureWarning: Setting a random_state has no effect since shuffle is False. This will raise an error in 0.24. You should leave random_state to its default (None), or set shuffle=True.\n",
      "  FutureWarning\n"
     ]
    },
    {
     "name": "stdout",
     "output_type": "stream",
     "text": [
      "\n",
      "\n",
      "experimento 41/72\n",
      "computando diabetes, k=10, distancia=3, tipo_datos=data\n"
     ]
    },
    {
     "name": "stderr",
     "output_type": "stream",
     "text": [
      "C:\\Users\\user\\Anaconda3\\lib\\site-packages\\sklearn\\model_selection\\_split.py:297: FutureWarning: Setting a random_state has no effect since shuffle is False. This will raise an error in 0.24. You should leave random_state to its default (None), or set shuffle=True.\n",
      "  FutureWarning\n"
     ]
    },
    {
     "name": "stdout",
     "output_type": "stream",
     "text": [
      "\n",
      "\n",
      "experimento 42/72\n",
      "computando diabetes, k=10, distancia=3, tipo_datos=data_prep\n"
     ]
    },
    {
     "name": "stderr",
     "output_type": "stream",
     "text": [
      "C:\\Users\\user\\Anaconda3\\lib\\site-packages\\sklearn\\model_selection\\_split.py:297: FutureWarning: Setting a random_state has no effect since shuffle is False. This will raise an error in 0.24. You should leave random_state to its default (None), or set shuffle=True.\n",
      "  FutureWarning\n"
     ]
    },
    {
     "name": "stdout",
     "output_type": "stream",
     "text": [
      "\n",
      "\n",
      "experimento 43/72\n",
      "computando diabetes, k=20, distancia=1, tipo_datos=data\n"
     ]
    },
    {
     "name": "stderr",
     "output_type": "stream",
     "text": [
      "C:\\Users\\user\\Anaconda3\\lib\\site-packages\\sklearn\\model_selection\\_split.py:297: FutureWarning: Setting a random_state has no effect since shuffle is False. This will raise an error in 0.24. You should leave random_state to its default (None), or set shuffle=True.\n",
      "  FutureWarning\n"
     ]
    },
    {
     "name": "stdout",
     "output_type": "stream",
     "text": [
      "\n",
      "\n",
      "experimento 44/72\n",
      "computando diabetes, k=20, distancia=1, tipo_datos=data_prep\n"
     ]
    },
    {
     "name": "stderr",
     "output_type": "stream",
     "text": [
      "C:\\Users\\user\\Anaconda3\\lib\\site-packages\\sklearn\\model_selection\\_split.py:297: FutureWarning: Setting a random_state has no effect since shuffle is False. This will raise an error in 0.24. You should leave random_state to its default (None), or set shuffle=True.\n",
      "  FutureWarning\n"
     ]
    },
    {
     "name": "stdout",
     "output_type": "stream",
     "text": [
      "\n",
      "\n",
      "experimento 45/72\n",
      "computando diabetes, k=20, distancia=2, tipo_datos=data\n"
     ]
    },
    {
     "name": "stderr",
     "output_type": "stream",
     "text": [
      "C:\\Users\\user\\Anaconda3\\lib\\site-packages\\sklearn\\model_selection\\_split.py:297: FutureWarning: Setting a random_state has no effect since shuffle is False. This will raise an error in 0.24. You should leave random_state to its default (None), or set shuffle=True.\n",
      "  FutureWarning\n"
     ]
    },
    {
     "name": "stdout",
     "output_type": "stream",
     "text": [
      "\n",
      "\n",
      "experimento 46/72\n",
      "computando diabetes, k=20, distancia=2, tipo_datos=data_prep\n"
     ]
    },
    {
     "name": "stderr",
     "output_type": "stream",
     "text": [
      "C:\\Users\\user\\Anaconda3\\lib\\site-packages\\sklearn\\model_selection\\_split.py:297: FutureWarning: Setting a random_state has no effect since shuffle is False. This will raise an error in 0.24. You should leave random_state to its default (None), or set shuffle=True.\n",
      "  FutureWarning\n"
     ]
    },
    {
     "name": "stdout",
     "output_type": "stream",
     "text": [
      "\n",
      "\n",
      "experimento 47/72\n",
      "computando diabetes, k=20, distancia=3, tipo_datos=data\n"
     ]
    },
    {
     "name": "stderr",
     "output_type": "stream",
     "text": [
      "C:\\Users\\user\\Anaconda3\\lib\\site-packages\\sklearn\\model_selection\\_split.py:297: FutureWarning: Setting a random_state has no effect since shuffle is False. This will raise an error in 0.24. You should leave random_state to its default (None), or set shuffle=True.\n",
      "  FutureWarning\n"
     ]
    },
    {
     "name": "stdout",
     "output_type": "stream",
     "text": [
      "\n",
      "\n",
      "experimento 48/72\n",
      "computando diabetes, k=20, distancia=3, tipo_datos=data_prep\n"
     ]
    },
    {
     "name": "stderr",
     "output_type": "stream",
     "text": [
      "C:\\Users\\user\\Anaconda3\\lib\\site-packages\\sklearn\\model_selection\\_split.py:297: FutureWarning: Setting a random_state has no effect since shuffle is False. This will raise an error in 0.24. You should leave random_state to its default (None), or set shuffle=True.\n",
      "  FutureWarning\n"
     ]
    },
    {
     "name": "stdout",
     "output_type": "stream",
     "text": [
      "\n",
      "\n",
      "experimento 49/72\n",
      "computando california, k=2, distancia=1, tipo_datos=data\n"
     ]
    },
    {
     "name": "stderr",
     "output_type": "stream",
     "text": [
      "C:\\Users\\user\\Anaconda3\\lib\\site-packages\\sklearn\\model_selection\\_split.py:297: FutureWarning: Setting a random_state has no effect since shuffle is False. This will raise an error in 0.24. You should leave random_state to its default (None), or set shuffle=True.\n",
      "  FutureWarning\n"
     ]
    },
    {
     "name": "stdout",
     "output_type": "stream",
     "text": [
      "\n",
      "\n",
      "experimento 50/72\n",
      "computando california, k=2, distancia=1, tipo_datos=data_prep\n"
     ]
    },
    {
     "name": "stderr",
     "output_type": "stream",
     "text": [
      "C:\\Users\\user\\Anaconda3\\lib\\site-packages\\sklearn\\model_selection\\_split.py:297: FutureWarning: Setting a random_state has no effect since shuffle is False. This will raise an error in 0.24. You should leave random_state to its default (None), or set shuffle=True.\n",
      "  FutureWarning\n"
     ]
    },
    {
     "name": "stdout",
     "output_type": "stream",
     "text": [
      "\n",
      "\n",
      "experimento 51/72\n",
      "computando california, k=2, distancia=2, tipo_datos=data\n"
     ]
    },
    {
     "name": "stderr",
     "output_type": "stream",
     "text": [
      "C:\\Users\\user\\Anaconda3\\lib\\site-packages\\sklearn\\model_selection\\_split.py:297: FutureWarning: Setting a random_state has no effect since shuffle is False. This will raise an error in 0.24. You should leave random_state to its default (None), or set shuffle=True.\n",
      "  FutureWarning\n"
     ]
    },
    {
     "name": "stdout",
     "output_type": "stream",
     "text": [
      "\n",
      "\n",
      "experimento 52/72\n",
      "computando california, k=2, distancia=2, tipo_datos=data_prep\n"
     ]
    },
    {
     "name": "stderr",
     "output_type": "stream",
     "text": [
      "C:\\Users\\user\\Anaconda3\\lib\\site-packages\\sklearn\\model_selection\\_split.py:297: FutureWarning: Setting a random_state has no effect since shuffle is False. This will raise an error in 0.24. You should leave random_state to its default (None), or set shuffle=True.\n",
      "  FutureWarning\n"
     ]
    },
    {
     "name": "stdout",
     "output_type": "stream",
     "text": [
      "\n",
      "\n",
      "experimento 53/72\n",
      "computando california, k=2, distancia=3, tipo_datos=data\n"
     ]
    },
    {
     "name": "stderr",
     "output_type": "stream",
     "text": [
      "C:\\Users\\user\\Anaconda3\\lib\\site-packages\\sklearn\\model_selection\\_split.py:297: FutureWarning: Setting a random_state has no effect since shuffle is False. This will raise an error in 0.24. You should leave random_state to its default (None), or set shuffle=True.\n",
      "  FutureWarning\n"
     ]
    },
    {
     "name": "stdout",
     "output_type": "stream",
     "text": [
      "\n",
      "\n",
      "experimento 54/72\n",
      "computando california, k=2, distancia=3, tipo_datos=data_prep\n"
     ]
    },
    {
     "name": "stderr",
     "output_type": "stream",
     "text": [
      "C:\\Users\\user\\Anaconda3\\lib\\site-packages\\sklearn\\model_selection\\_split.py:297: FutureWarning: Setting a random_state has no effect since shuffle is False. This will raise an error in 0.24. You should leave random_state to its default (None), or set shuffle=True.\n",
      "  FutureWarning\n"
     ]
    },
    {
     "name": "stdout",
     "output_type": "stream",
     "text": [
      "\n",
      "\n",
      "experimento 55/72\n",
      "computando california, k=5, distancia=1, tipo_datos=data\n"
     ]
    },
    {
     "name": "stderr",
     "output_type": "stream",
     "text": [
      "C:\\Users\\user\\Anaconda3\\lib\\site-packages\\sklearn\\model_selection\\_split.py:297: FutureWarning: Setting a random_state has no effect since shuffle is False. This will raise an error in 0.24. You should leave random_state to its default (None), or set shuffle=True.\n",
      "  FutureWarning\n"
     ]
    },
    {
     "name": "stdout",
     "output_type": "stream",
     "text": [
      "\n",
      "\n",
      "experimento 56/72\n",
      "computando california, k=5, distancia=1, tipo_datos=data_prep\n"
     ]
    },
    {
     "name": "stderr",
     "output_type": "stream",
     "text": [
      "C:\\Users\\user\\Anaconda3\\lib\\site-packages\\sklearn\\model_selection\\_split.py:297: FutureWarning: Setting a random_state has no effect since shuffle is False. This will raise an error in 0.24. You should leave random_state to its default (None), or set shuffle=True.\n",
      "  FutureWarning\n"
     ]
    },
    {
     "name": "stdout",
     "output_type": "stream",
     "text": [
      "\n",
      "\n",
      "experimento 57/72\n",
      "computando california, k=5, distancia=2, tipo_datos=data\n"
     ]
    },
    {
     "name": "stderr",
     "output_type": "stream",
     "text": [
      "C:\\Users\\user\\Anaconda3\\lib\\site-packages\\sklearn\\model_selection\\_split.py:297: FutureWarning: Setting a random_state has no effect since shuffle is False. This will raise an error in 0.24. You should leave random_state to its default (None), or set shuffle=True.\n",
      "  FutureWarning\n"
     ]
    },
    {
     "name": "stdout",
     "output_type": "stream",
     "text": [
      "\n",
      "\n",
      "experimento 58/72\n",
      "computando california, k=5, distancia=2, tipo_datos=data_prep\n"
     ]
    },
    {
     "name": "stderr",
     "output_type": "stream",
     "text": [
      "C:\\Users\\user\\Anaconda3\\lib\\site-packages\\sklearn\\model_selection\\_split.py:297: FutureWarning: Setting a random_state has no effect since shuffle is False. This will raise an error in 0.24. You should leave random_state to its default (None), or set shuffle=True.\n",
      "  FutureWarning\n"
     ]
    },
    {
     "name": "stdout",
     "output_type": "stream",
     "text": [
      "\n",
      "\n",
      "experimento 59/72\n",
      "computando california, k=5, distancia=3, tipo_datos=data\n"
     ]
    },
    {
     "name": "stderr",
     "output_type": "stream",
     "text": [
      "C:\\Users\\user\\Anaconda3\\lib\\site-packages\\sklearn\\model_selection\\_split.py:297: FutureWarning: Setting a random_state has no effect since shuffle is False. This will raise an error in 0.24. You should leave random_state to its default (None), or set shuffle=True.\n",
      "  FutureWarning\n"
     ]
    },
    {
     "name": "stdout",
     "output_type": "stream",
     "text": [
      "\n",
      "\n",
      "experimento 60/72\n",
      "computando california, k=5, distancia=3, tipo_datos=data_prep\n"
     ]
    },
    {
     "name": "stderr",
     "output_type": "stream",
     "text": [
      "C:\\Users\\user\\Anaconda3\\lib\\site-packages\\sklearn\\model_selection\\_split.py:297: FutureWarning: Setting a random_state has no effect since shuffle is False. This will raise an error in 0.24. You should leave random_state to its default (None), or set shuffle=True.\n",
      "  FutureWarning\n"
     ]
    },
    {
     "name": "stdout",
     "output_type": "stream",
     "text": [
      "\n",
      "\n",
      "experimento 61/72\n",
      "computando california, k=10, distancia=1, tipo_datos=data\n"
     ]
    },
    {
     "name": "stderr",
     "output_type": "stream",
     "text": [
      "C:\\Users\\user\\Anaconda3\\lib\\site-packages\\sklearn\\model_selection\\_split.py:297: FutureWarning: Setting a random_state has no effect since shuffle is False. This will raise an error in 0.24. You should leave random_state to its default (None), or set shuffle=True.\n",
      "  FutureWarning\n"
     ]
    },
    {
     "name": "stdout",
     "output_type": "stream",
     "text": [
      "\n",
      "\n",
      "experimento 62/72\n",
      "computando california, k=10, distancia=1, tipo_datos=data_prep\n"
     ]
    },
    {
     "name": "stderr",
     "output_type": "stream",
     "text": [
      "C:\\Users\\user\\Anaconda3\\lib\\site-packages\\sklearn\\model_selection\\_split.py:297: FutureWarning: Setting a random_state has no effect since shuffle is False. This will raise an error in 0.24. You should leave random_state to its default (None), or set shuffle=True.\n",
      "  FutureWarning\n"
     ]
    },
    {
     "name": "stdout",
     "output_type": "stream",
     "text": [
      "\n",
      "\n",
      "experimento 63/72\n",
      "computando california, k=10, distancia=2, tipo_datos=data\n"
     ]
    },
    {
     "name": "stderr",
     "output_type": "stream",
     "text": [
      "C:\\Users\\user\\Anaconda3\\lib\\site-packages\\sklearn\\model_selection\\_split.py:297: FutureWarning: Setting a random_state has no effect since shuffle is False. This will raise an error in 0.24. You should leave random_state to its default (None), or set shuffle=True.\n",
      "  FutureWarning\n"
     ]
    },
    {
     "name": "stdout",
     "output_type": "stream",
     "text": [
      "\n",
      "\n",
      "experimento 64/72\n",
      "computando california, k=10, distancia=2, tipo_datos=data_prep\n"
     ]
    },
    {
     "name": "stderr",
     "output_type": "stream",
     "text": [
      "C:\\Users\\user\\Anaconda3\\lib\\site-packages\\sklearn\\model_selection\\_split.py:297: FutureWarning: Setting a random_state has no effect since shuffle is False. This will raise an error in 0.24. You should leave random_state to its default (None), or set shuffle=True.\n",
      "  FutureWarning\n"
     ]
    },
    {
     "name": "stdout",
     "output_type": "stream",
     "text": [
      "\n",
      "\n",
      "experimento 65/72\n",
      "computando california, k=10, distancia=3, tipo_datos=data\n"
     ]
    },
    {
     "name": "stderr",
     "output_type": "stream",
     "text": [
      "C:\\Users\\user\\Anaconda3\\lib\\site-packages\\sklearn\\model_selection\\_split.py:297: FutureWarning: Setting a random_state has no effect since shuffle is False. This will raise an error in 0.24. You should leave random_state to its default (None), or set shuffle=True.\n",
      "  FutureWarning\n"
     ]
    },
    {
     "name": "stdout",
     "output_type": "stream",
     "text": [
      "\n",
      "\n",
      "experimento 66/72\n",
      "computando california, k=10, distancia=3, tipo_datos=data_prep\n"
     ]
    },
    {
     "name": "stderr",
     "output_type": "stream",
     "text": [
      "C:\\Users\\user\\Anaconda3\\lib\\site-packages\\sklearn\\model_selection\\_split.py:297: FutureWarning: Setting a random_state has no effect since shuffle is False. This will raise an error in 0.24. You should leave random_state to its default (None), or set shuffle=True.\n",
      "  FutureWarning\n"
     ]
    },
    {
     "name": "stdout",
     "output_type": "stream",
     "text": [
      "\n",
      "\n",
      "experimento 67/72\n",
      "computando california, k=20, distancia=1, tipo_datos=data\n"
     ]
    },
    {
     "name": "stderr",
     "output_type": "stream",
     "text": [
      "C:\\Users\\user\\Anaconda3\\lib\\site-packages\\sklearn\\model_selection\\_split.py:297: FutureWarning: Setting a random_state has no effect since shuffle is False. This will raise an error in 0.24. You should leave random_state to its default (None), or set shuffle=True.\n",
      "  FutureWarning\n"
     ]
    },
    {
     "name": "stdout",
     "output_type": "stream",
     "text": [
      "\n",
      "\n",
      "experimento 68/72\n",
      "computando california, k=20, distancia=1, tipo_datos=data_prep\n"
     ]
    },
    {
     "name": "stderr",
     "output_type": "stream",
     "text": [
      "C:\\Users\\user\\Anaconda3\\lib\\site-packages\\sklearn\\model_selection\\_split.py:297: FutureWarning: Setting a random_state has no effect since shuffle is False. This will raise an error in 0.24. You should leave random_state to its default (None), or set shuffle=True.\n",
      "  FutureWarning\n"
     ]
    },
    {
     "name": "stdout",
     "output_type": "stream",
     "text": [
      "\n",
      "\n",
      "experimento 69/72\n",
      "computando california, k=20, distancia=2, tipo_datos=data\n"
     ]
    },
    {
     "name": "stderr",
     "output_type": "stream",
     "text": [
      "C:\\Users\\user\\Anaconda3\\lib\\site-packages\\sklearn\\model_selection\\_split.py:297: FutureWarning: Setting a random_state has no effect since shuffle is False. This will raise an error in 0.24. You should leave random_state to its default (None), or set shuffle=True.\n",
      "  FutureWarning\n"
     ]
    },
    {
     "name": "stdout",
     "output_type": "stream",
     "text": [
      "\n",
      "\n",
      "experimento 70/72\n",
      "computando california, k=20, distancia=2, tipo_datos=data_prep\n"
     ]
    },
    {
     "name": "stderr",
     "output_type": "stream",
     "text": [
      "C:\\Users\\user\\Anaconda3\\lib\\site-packages\\sklearn\\model_selection\\_split.py:297: FutureWarning: Setting a random_state has no effect since shuffle is False. This will raise an error in 0.24. You should leave random_state to its default (None), or set shuffle=True.\n",
      "  FutureWarning\n"
     ]
    },
    {
     "name": "stdout",
     "output_type": "stream",
     "text": [
      "\n",
      "\n",
      "experimento 71/72\n",
      "computando california, k=20, distancia=3, tipo_datos=data\n"
     ]
    },
    {
     "name": "stderr",
     "output_type": "stream",
     "text": [
      "C:\\Users\\user\\Anaconda3\\lib\\site-packages\\sklearn\\model_selection\\_split.py:297: FutureWarning: Setting a random_state has no effect since shuffle is False. This will raise an error in 0.24. You should leave random_state to its default (None), or set shuffle=True.\n",
      "  FutureWarning\n"
     ]
    },
    {
     "name": "stdout",
     "output_type": "stream",
     "text": [
      "\n",
      "\n",
      "experimento 72/72\n",
      "computando california, k=20, distancia=3, tipo_datos=data_prep\n"
     ]
    },
    {
     "name": "stderr",
     "output_type": "stream",
     "text": [
      "C:\\Users\\user\\Anaconda3\\lib\\site-packages\\sklearn\\model_selection\\_split.py:297: FutureWarning: Setting a random_state has no effect since shuffle is False. This will raise an error in 0.24. You should leave random_state to its default (None), or set shuffle=True.\n",
      "  FutureWarning\n"
     ]
    }
   ],
   "source": [
    "results_df = pd.DataFrame(columns=[\"dataset\", \"num_vecinos\", \"metrica_distancia\", \"preprocesamiento\",\"MAE\", \"RMSE\", \"MAPE\"]) # dataframe para guardar los resultados\n",
    "seed = 42 # semilla que se usará en todas las iteraciones\n",
    "cont_experimento = 0 # contador auxiliar para imprimir el número de experimento\n",
    "total_experimentos = len(dict_datos)*len(ks)*len(distancias)*len(data2use)\n",
    "\n",
    "for data_name, datos in dict_datos.items():\n",
    "    for k in ks:\n",
    "        for distance in distancias:\n",
    "            for data_key in data2use:\n",
    "                \n",
    "                # Se imprime por consola la información de la iteración-experimento\n",
    "                cont_experimento+=1\n",
    "                print()\n",
    "                print()\n",
    "                print(f\"experimento {cont_experimento}/{total_experimentos}\")\n",
    "                print(f\"computando {data_name}, k={k}, distancia={distance}, tipo_datos={data_key}\")\n",
    "                \n",
    "                # Inicialización del algorimto de aprendizaje\n",
    "                alg = KNeighborsRegressor(n_neighbors = k, p = distance)\n",
    "                \n",
    "                # Seleccion de los datos de entrenamiento\n",
    "                features = datos[data_key]\n",
    "                num_features = features.shape[0] # para hacer leave_one_out\n",
    "                \n",
    "                # Obtención de las predicciones\n",
    "                y_pred = cross_val_predict(alg, features, datos[\"target\"],\n",
    "                   cv = KFold(n_splits=num_features, random_state=seed))\n",
    "                \n",
    "                # computando métricas\n",
    "                MAE = metricas['MAE'](datos.target, y_pred)\n",
    "                RMSE = metricas['RMSE'](datos.target, y_pred)\n",
    "                MAPE = metricas['MAPE'](datos.target, y_pred)\n",
    "                \n",
    "                # guardar los resultados en el dataframe correspondiente\n",
    "                resultados_actuales = {\n",
    "                    \"dataset\":data_name,\n",
    "                    \"num_vecinos\": k,\n",
    "                    \"metrica_distancia\": distance,\n",
    "                    \"preprocesamiento\": data_key,\n",
    "                    \"MAE\": MAE, \n",
    "                    \"RMSE\":RMSE,\n",
    "                    \"MAPE\":MAPE\n",
    "                }\n",
    "                results_df = results_df.append(resultados_actuales, ignore_index=True)"
   ]
  },
  {
   "cell_type": "code",
   "execution_count": 282,
   "metadata": {},
   "outputs": [
    {
     "data": {
      "text/html": [
       "<div>\n",
       "<style scoped>\n",
       "    .dataframe tbody tr th:only-of-type {\n",
       "        vertical-align: middle;\n",
       "    }\n",
       "\n",
       "    .dataframe tbody tr th {\n",
       "        vertical-align: top;\n",
       "    }\n",
       "\n",
       "    .dataframe thead th {\n",
       "        text-align: right;\n",
       "    }\n",
       "</style>\n",
       "<table border=\"1\" class=\"dataframe\">\n",
       "  <thead>\n",
       "    <tr style=\"text-align: right;\">\n",
       "      <th></th>\n",
       "      <th>dataset</th>\n",
       "      <th>num_vecinos</th>\n",
       "      <th>metrica_distancia</th>\n",
       "      <th>preprocesamiento</th>\n",
       "      <th>MAE</th>\n",
       "      <th>RMSE</th>\n",
       "      <th>MAPE</th>\n",
       "    </tr>\n",
       "  </thead>\n",
       "  <tbody>\n",
       "    <tr>\n",
       "      <th>0</th>\n",
       "      <td>boston</td>\n",
       "      <td>2</td>\n",
       "      <td>1</td>\n",
       "      <td>data</td>\n",
       "      <td>3.812253</td>\n",
       "      <td>5.612233</td>\n",
       "      <td>17.981953</td>\n",
       "    </tr>\n",
       "    <tr>\n",
       "      <th>1</th>\n",
       "      <td>boston</td>\n",
       "      <td>2</td>\n",
       "      <td>1</td>\n",
       "      <td>data_prep</td>\n",
       "      <td>2.643577</td>\n",
       "      <td>4.081320</td>\n",
       "      <td>12.699115</td>\n",
       "    </tr>\n",
       "    <tr>\n",
       "      <th>2</th>\n",
       "      <td>boston</td>\n",
       "      <td>2</td>\n",
       "      <td>2</td>\n",
       "      <td>data</td>\n",
       "      <td>4.317391</td>\n",
       "      <td>6.362883</td>\n",
       "      <td>20.098461</td>\n",
       "    </tr>\n",
       "    <tr>\n",
       "      <th>3</th>\n",
       "      <td>boston</td>\n",
       "      <td>2</td>\n",
       "      <td>2</td>\n",
       "      <td>data_prep</td>\n",
       "      <td>2.589723</td>\n",
       "      <td>4.169221</td>\n",
       "      <td>12.549181</td>\n",
       "    </tr>\n",
       "    <tr>\n",
       "      <th>4</th>\n",
       "      <td>boston</td>\n",
       "      <td>2</td>\n",
       "      <td>3</td>\n",
       "      <td>data</td>\n",
       "      <td>4.520059</td>\n",
       "      <td>6.576114</td>\n",
       "      <td>21.200404</td>\n",
       "    </tr>\n",
       "  </tbody>\n",
       "</table>\n",
       "</div>"
      ],
      "text/plain": [
       "  dataset num_vecinos metrica_distancia preprocesamiento       MAE      RMSE  \\\n",
       "0  boston           2                 1             data  3.812253  5.612233   \n",
       "1  boston           2                 1        data_prep  2.643577  4.081320   \n",
       "2  boston           2                 2             data  4.317391  6.362883   \n",
       "3  boston           2                 2        data_prep  2.589723  4.169221   \n",
       "4  boston           2                 3             data  4.520059  6.576114   \n",
       "\n",
       "        MAPE  \n",
       "0  17.981953  \n",
       "1  12.699115  \n",
       "2  20.098461  \n",
       "3  12.549181  \n",
       "4  21.200404  "
      ]
     },
     "execution_count": 282,
     "metadata": {},
     "output_type": "execute_result"
    }
   ],
   "source": [
    "results_df.head()"
   ]
  },
  {
   "cell_type": "markdown",
   "metadata": {},
   "source": [
    "#### Comparación de resultados según el preprocesamiento"
   ]
  },
  {
   "cell_type": "code",
   "execution_count": 283,
   "metadata": {},
   "outputs": [
    {
     "data": {
      "image/png": "[encoded data removed]",
      "text/plain": [
       "<Figure size 576x360 with 1 Axes>"
      ]
     },
     "metadata": {
      "needs_background": "light"
     },
     "output_type": "display_data"
    }
   ],
   "source": [
    "plt.figure(figsize=(8, 5))\n",
    "sns.barplot(hue=\"preprocesamiento\", y=\"MAPE\", x=\"dataset\", data= results_df)\n",
    "plt.title(\"MAPE de cada dataset por tipo de preprocesamiento\")\n",
    "plt.show()"
   ]
  },
  {
   "cell_type": "markdown",
   "metadata": {},
   "source": [
    "Se graficó el MAPE pues es una métrica relativa y permitirá visualizar los 3 datasets al mismo tiempo sin afectar la escala. \n",
    "\n",
    "De la gráfica anterior se puede concluir:\n",
    "* 1. Al parecer el dataset Boston es el problema más fácil de estimar entre los 3 planeados. Caber recordar que el dataset california fue modificado para poder ejecutar una buena cantidad de experimentos\n",
    "* 2. En todos los casos el error de los datos preprocesados fue menor o igual al error de los datos sin estandarización. Por lo tanto se recomienda siempre hacer la estandarización (o normalización) pues está en el peor de los casos simplemente no mejora la métrica de la data original\n"
   ]
  },
  {
   "cell_type": "code",
   "execution_count": null,
   "metadata": {},
   "outputs": [],
   "source": []
  },
  {
   "cell_type": "markdown",
   "metadata": {},
   "source": [
    "#### Análisis del impacto del número de vecinos"
   ]
  },
  {
   "cell_type": "markdown",
   "metadata": {},
   "source": [
    "De acá en adelante se trabajará con los resultados de los modelos entrenados con datos estandarizados (por los hallazgos del apartado anterior)\n",
    "\n",
    "En esta sección estudiaremos qué relación hay entre los errores y el número de vecinos"
   ]
  },
  {
   "cell_type": "code",
   "execution_count": 284,
   "metadata": {},
   "outputs": [],
   "source": [
    "data_experim = results_df[results_df[\"preprocesamiento\"]==\"data_prep\"]\n",
    "# data_experim"
   ]
  },
  {
   "cell_type": "code",
   "execution_count": 285,
   "metadata": {},
   "outputs": [
    {
     "data": {
      "image/png": "[encoded data removed]",
      "text/plain": [
       "<Figure size 576x360 with 1 Axes>"
      ]
     },
     "metadata": {
      "needs_background": "light"
     },
     "output_type": "display_data"
    }
   ],
   "source": [
    "plt.figure(figsize=(8, 5))\n",
    "sns.barplot(hue=\"num_vecinos\", y=\"MAPE\", x=\"dataset\", data= data_experim)\n",
    "plt.title(\"MAPE de cada dataset por número de vecinos\")\n",
    "plt.show()"
   ]
  },
  {
   "cell_type": "markdown",
   "metadata": {},
   "source": [
    "En este análisis podemos observar cómo para los datasets: diabetes y california se presenta el siguiente comportamiento:\n",
    "* a medida que crece el número de vecinos entre 2 y 10, el error disminuye, pero al pasar a 20 vecinos el error aumenta, mostrando un indicio de sobreentrenamiento para k=20\n",
    "\n",
    "En el dataset bostón se observó que a medida que crece el número de vecinos el error aumenta"
   ]
  },
  {
   "cell_type": "code",
   "execution_count": null,
   "metadata": {},
   "outputs": [],
   "source": []
  },
  {
   "cell_type": "markdown",
   "metadata": {},
   "source": [
    "#### Análisis del impacto de la métrica de distancia\n",
    "En esta sección estudiaremos la relación entre la métrica de distancia utilizada y el error en cada dataset"
   ]
  },
  {
   "cell_type": "code",
   "execution_count": 286,
   "metadata": {},
   "outputs": [
    {
     "data": {
      "image/png": "[encoded data removed]",
      "text/plain": [
       "<Figure size 576x360 with 1 Axes>"
      ]
     },
     "metadata": {
      "needs_background": "light"
     },
     "output_type": "display_data"
    }
   ],
   "source": [
    "plt.figure(figsize=(8, 5))\n",
    "sns.barplot(hue=\"metrica_distancia\", y=\"MAPE\", x=\"dataset\", data= data_experim)\n",
    "plt.title(\"MAPE de cada dataset por número de vecinos\")\n",
    "plt.show()"
   ]
  },
  {
   "cell_type": "markdown",
   "metadata": {},
   "source": [
    "En el caso de la métrica de distancia, usamos la minkowski con parámetro p = {1, 2 y 3}\n",
    "Esto implica la distancia manhatan, la euclídea y la raíz cúbica de las diferencias cúbicas.\n",
    "\n",
    "Para los problemas de bostón y california se observó que el error crece con el crecimiento de p, por lo tanto sería más recomendable usar la distancia manhatan o p=1.\n",
    "\n",
    "El dataset de diabetes indica que la mejor distancia sería la euclídea (p=2) pues el error aumenta con p=1 y p=3"
   ]
  },
  {
   "cell_type": "code",
   "execution_count": null,
   "metadata": {},
   "outputs": [],
   "source": []
  },
  {
   "cell_type": "code",
   "execution_count": null,
   "metadata": {},
   "outputs": [],
   "source": []
  },
  {
   "cell_type": "markdown",
   "metadata": {},
   "source": [
    "### Ejercicio 5 (2 puntos)"
   ]
  },
  {
   "cell_type": "markdown",
   "metadata": {},
   "source": [
    "Estudie la métrica para clasificación denominada AUC de scikit-learn y cree un programa, con comentarios que aclaren el código, donde se compute diche métrica (junto con exactitud, precisión, recall y F1) usando los clasificadores LOGR y CART en validación cruzada leave-one-out. Muestre los resultados de forma comparativa para al menos tres datasets (los que se deseen)."
   ]
  },
  {
   "cell_type": "markdown",
   "metadata": {},
   "source": [
    "#### Contexto"
   ]
  },
  {
   "cell_type": "markdown",
   "metadata": {},
   "source": [
    "La métrica ROC AUC viene del acrónimo en inglés Receiver Operating Characteristic o característica operativa del receptor. \n",
    "\n",
    "Es una representación gráfica de la sensibilidad vs la especificidad de un clasificador **binario** según se varía el umbral de discriminación. \n",
    "\n",
    "<br>\n",
    "<br>\n",
    "\n",
    "\n",
    "**<p><small>tomado de wikipedia https://es.wikipedia.org/wiki/Curva_ROC.</small></p>**"
   ]
  },
  {
   "cell_type": "markdown",
   "metadata": {},
   "source": [
    "#### ¿Y cómo lo calculo?\n",
    "En palabras prácticas, un algoritmo de clasificación binaria te entregará probabilidades (números entre 0 y 1)\n",
    "\n",
    "Partiendo de estas predicciones de probabilidad, lo que se hace es variar puntos de corte.\n",
    "El punto de corte se utiliza para endurecer la predicción, es decir, para entregar sólo un 1 o un 0 al final.\n",
    "\n",
    "Por ejemplo si el punto de corte es 0.5 (un punto de corte muy usual), diremos que todas las predicciones de probabilidad menores o iguales a 0.5 pertenecerán a la clase **0** y todas las que superen este umbral pertenecerán a la clase **1**\n",
    "\n",
    "Lo que hace esta métrica es variar distintos puntos de corte (usualmente 200).  \n",
    "Por ejemplo toma los puntos de corte en {0.01, 0.02, 0.03, ... , 0.99} y para cada uno de estos calcula cómo se vería la tasa de falsos positivos vs la tasa de verdaderos positivos. \n",
    "\n",
    "Luego se calcula el área que hay bajo esta curva, si el clasificador fuera perfecto esta área sería 1. \n",
    "Por lo tanto mientras más cercana a 1, mejor desempeño está mostrando el clasificador.\n",
    "\n",
    "##### Ventajas\n",
    "Esta métrica es insensible al balanceo de clases, proeblema que tiene por ejemplo la exactitud. \n",
    "Si por ejemplo en tus datos tienen 99% de data que pertenece a la clase 0 y solo un 1% pertenece a la clase 1, un clasificador no inteligente que entregue siempre 0, estaría acertando al 99% de la data. \n",
    "\n",
    "Pero la métrica de ROC AUC penaliza esto, pues este clasificador no está acertando nada de la clase 1.\n",
    "\n",
    "\n",
    "#### Conclusión\n",
    "Esta métrica evalúa, más que las probabilidades, el orden de las predicciones. Es decir evalúa que tu clasificador sí le dé más probabilidad a las instancias que pertenecen a la clase 1 que a las que pertenecen a la clase 0. \n",
    "\n",
    "Intente multiplicar las probabilidades por cualquier constante, y el roc será el mismo, pues como se mencionó, esta métrica más que evaluar la probabilidad, evalúa el orden.\n",
    "\n",
    "\n",
    "\n",
    "\n",
    "\n",
    "<br>\n",
    "<br>\n",
    "\n",
    "\n",
    "**<p><small>Redacción propia de acuerdo a mi entendimiento de la métrica.</small></p>**"
   ]
  },
  {
   "cell_type": "code",
   "execution_count": null,
   "metadata": {},
   "outputs": [],
   "source": []
  },
  {
   "cell_type": "markdown",
   "metadata": {},
   "source": [
    "### Ejercicio práctico"
   ]
  },
  {
   "cell_type": "markdown",
   "metadata": {},
   "source": [
    "Dado que esta métrica se usa principalmente para problemas de clasificación binaria, no se podría usar en primera instancia el dataset IRIS. \n",
    "\n",
    "Pero le haremos una modificación a este de forma que me queden 3 problemas binarios (por lo tanto 3 datasets)"
   ]
  },
  {
   "cell_type": "markdown",
   "metadata": {},
   "source": [
    "#### Creación de los datasets"
   ]
  },
  {
   "cell_type": "code",
   "execution_count": 316,
   "metadata": {},
   "outputs": [
    {
     "data": {
      "text/html": [
       "<div>\n",
       "<style scoped>\n",
       "    .dataframe tbody tr th:only-of-type {\n",
       "        vertical-align: middle;\n",
       "    }\n",
       "\n",
       "    .dataframe tbody tr th {\n",
       "        vertical-align: top;\n",
       "    }\n",
       "\n",
       "    .dataframe thead th {\n",
       "        text-align: right;\n",
       "    }\n",
       "</style>\n",
       "<table border=\"1\" class=\"dataframe\">\n",
       "  <thead>\n",
       "    <tr style=\"text-align: right;\">\n",
       "      <th></th>\n",
       "      <th>sepal length (cm)</th>\n",
       "      <th>sepal width (cm)</th>\n",
       "      <th>petal length (cm)</th>\n",
       "      <th>petal width (cm)</th>\n",
       "      <th>target_orig</th>\n",
       "    </tr>\n",
       "  </thead>\n",
       "  <tbody>\n",
       "    <tr>\n",
       "      <th>0</th>\n",
       "      <td>4.6</td>\n",
       "      <td>3.4</td>\n",
       "      <td>1.4</td>\n",
       "      <td>0.3</td>\n",
       "      <td>0</td>\n",
       "    </tr>\n",
       "    <tr>\n",
       "      <th>1</th>\n",
       "      <td>7.7</td>\n",
       "      <td>2.8</td>\n",
       "      <td>6.7</td>\n",
       "      <td>2.0</td>\n",
       "      <td>2</td>\n",
       "    </tr>\n",
       "    <tr>\n",
       "      <th>2</th>\n",
       "      <td>5.4</td>\n",
       "      <td>3.0</td>\n",
       "      <td>4.5</td>\n",
       "      <td>1.5</td>\n",
       "      <td>1</td>\n",
       "    </tr>\n",
       "    <tr>\n",
       "      <th>3</th>\n",
       "      <td>5.5</td>\n",
       "      <td>2.4</td>\n",
       "      <td>3.7</td>\n",
       "      <td>1.0</td>\n",
       "      <td>1</td>\n",
       "    </tr>\n",
       "    <tr>\n",
       "      <th>4</th>\n",
       "      <td>5.5</td>\n",
       "      <td>3.5</td>\n",
       "      <td>1.3</td>\n",
       "      <td>0.2</td>\n",
       "      <td>0</td>\n",
       "    </tr>\n",
       "  </tbody>\n",
       "</table>\n",
       "</div>"
      ],
      "text/plain": [
       "   sepal length (cm)  sepal width (cm)  petal length (cm)  petal width (cm)  \\\n",
       "0                4.6               3.4                1.4               0.3   \n",
       "1                7.7               2.8                6.7               2.0   \n",
       "2                5.4               3.0                4.5               1.5   \n",
       "3                5.5               2.4                3.7               1.0   \n",
       "4                5.5               3.5                1.3               0.2   \n",
       "\n",
       "   target_orig  \n",
       "0            0  \n",
       "1            2  \n",
       "2            1  \n",
       "3            1  \n",
       "4            0  "
      ]
     },
     "execution_count": 316,
     "metadata": {},
     "output_type": "execute_result"
    }
   ],
   "source": [
    "dataset_df = pd.DataFrame(iris_dict.data, columns=iris_dict.feature_names)\n",
    "dataset_df[\"target_orig\"] = iris_dict.target\n",
    "dataset_df = dataset_df.sample(frac=1).reset_index(drop=True) # shuffle the dataset\n",
    "dataset_df.head()"
   ]
  },
  {
   "cell_type": "code",
   "execution_count": 321,
   "metadata": {},
   "outputs": [
    {
     "data": {
      "text/html": [
       "<div>\n",
       "<style scoped>\n",
       "    .dataframe tbody tr th:only-of-type {\n",
       "        vertical-align: middle;\n",
       "    }\n",
       "\n",
       "    .dataframe tbody tr th {\n",
       "        vertical-align: top;\n",
       "    }\n",
       "\n",
       "    .dataframe thead th {\n",
       "        text-align: right;\n",
       "    }\n",
       "</style>\n",
       "<table border=\"1\" class=\"dataframe\">\n",
       "  <thead>\n",
       "    <tr style=\"text-align: right;\">\n",
       "      <th></th>\n",
       "      <th>sepal length (cm)</th>\n",
       "      <th>sepal width (cm)</th>\n",
       "      <th>petal length (cm)</th>\n",
       "      <th>petal width (cm)</th>\n",
       "      <th>target_orig</th>\n",
       "      <th>target_0</th>\n",
       "      <th>target_1</th>\n",
       "      <th>target_2</th>\n",
       "    </tr>\n",
       "  </thead>\n",
       "  <tbody>\n",
       "    <tr>\n",
       "      <th>0</th>\n",
       "      <td>4.6</td>\n",
       "      <td>3.4</td>\n",
       "      <td>1.4</td>\n",
       "      <td>0.3</td>\n",
       "      <td>0</td>\n",
       "      <td>1</td>\n",
       "      <td>0</td>\n",
       "      <td>0</td>\n",
       "    </tr>\n",
       "    <tr>\n",
       "      <th>1</th>\n",
       "      <td>7.7</td>\n",
       "      <td>2.8</td>\n",
       "      <td>6.7</td>\n",
       "      <td>2.0</td>\n",
       "      <td>2</td>\n",
       "      <td>0</td>\n",
       "      <td>0</td>\n",
       "      <td>1</td>\n",
       "    </tr>\n",
       "    <tr>\n",
       "      <th>2</th>\n",
       "      <td>5.4</td>\n",
       "      <td>3.0</td>\n",
       "      <td>4.5</td>\n",
       "      <td>1.5</td>\n",
       "      <td>1</td>\n",
       "      <td>0</td>\n",
       "      <td>1</td>\n",
       "      <td>0</td>\n",
       "    </tr>\n",
       "    <tr>\n",
       "      <th>3</th>\n",
       "      <td>5.5</td>\n",
       "      <td>2.4</td>\n",
       "      <td>3.7</td>\n",
       "      <td>1.0</td>\n",
       "      <td>1</td>\n",
       "      <td>0</td>\n",
       "      <td>1</td>\n",
       "      <td>0</td>\n",
       "    </tr>\n",
       "    <tr>\n",
       "      <th>4</th>\n",
       "      <td>5.5</td>\n",
       "      <td>3.5</td>\n",
       "      <td>1.3</td>\n",
       "      <td>0.2</td>\n",
       "      <td>0</td>\n",
       "      <td>1</td>\n",
       "      <td>0</td>\n",
       "      <td>0</td>\n",
       "    </tr>\n",
       "  </tbody>\n",
       "</table>\n",
       "</div>"
      ],
      "text/plain": [
       "   sepal length (cm)  sepal width (cm)  petal length (cm)  petal width (cm)  \\\n",
       "0                4.6               3.4                1.4               0.3   \n",
       "1                7.7               2.8                6.7               2.0   \n",
       "2                5.4               3.0                4.5               1.5   \n",
       "3                5.5               2.4                3.7               1.0   \n",
       "4                5.5               3.5                1.3               0.2   \n",
       "\n",
       "   target_orig  target_0  target_1  target_2  \n",
       "0            0         1         0         0  \n",
       "1            2         0         0         1  \n",
       "2            1         0         1         0  \n",
       "3            1         0         1         0  \n",
       "4            0         1         0         0  "
      ]
     },
     "execution_count": 321,
     "metadata": {},
     "output_type": "execute_result"
    }
   ],
   "source": [
    "for target in range(3):\n",
    "    dataset_df[f\"target_{target}\"] = (dataset_df[\"target_orig\"] == target)+0\n",
    "\n",
    "dataset_df.head()"
   ]
  },
  {
   "cell_type": "markdown",
   "metadata": {},
   "source": [
    "Se ha creado un dataset donde tenemos 3 targets distintas (3 problemas de clasificación diferentes)\n",
    "* target_0: esta variable vale 1 si el target pertenece a la clase 0, y vale 0 de otro modo\n",
    "* target_1: esta variable vale 1 si el target pertenece a la clase 1, y vale 0 de otro modo\n",
    "* target_2: esta variable vale 1 si el target pertenece a la clase 2, y vale 0 de otro modo\n",
    "\n",
    "De esta manera contaré con 3 datasets distintos. Si bien las características son las mismas (sepal length (cm)\tsepal width (cm)\tpetal length (cm)\tpetal width (cm)) como el target es distinto, son técnicamente datasets distintos y distintos problemas de clasificación"
   ]
  },
  {
   "cell_type": "code",
   "execution_count": 322,
   "metadata": {},
   "outputs": [],
   "source": [
    "target_names = [\"target_0\", \"target_1\", \"target_2\"]"
   ]
  },
  {
   "cell_type": "code",
   "execution_count": null,
   "metadata": {},
   "outputs": [],
   "source": []
  },
  {
   "cell_type": "code",
   "execution_count": null,
   "metadata": {},
   "outputs": [],
   "source": []
  },
  {
   "cell_type": "code",
   "execution_count": null,
   "metadata": {},
   "outputs": [],
   "source": []
  },
  {
   "cell_type": "code",
   "execution_count": null,
   "metadata": {},
   "outputs": [],
   "source": []
  },
  {
   "cell_type": "code",
   "execution_count": null,
   "metadata": {},
   "outputs": [],
   "source": []
  }
 ],
 "metadata": {
  "kernelspec": {
   "display_name": "Python 3",
   "language": "python",
   "name": "python3"
  },
  "language_info": {
   "codemirror_mode": {
    "name": "ipython",
    "version": 3
   },
   "file_extension": ".py",
   "mimetype": "text/x-python",
   "name": "python",
   "nbconvert_exporter": "python",
   "pygments_lexer": "ipython3",
   "version": "3.7.1"
  }
 },
 "nbformat": 4,
 "nbformat_minor": 4
}
