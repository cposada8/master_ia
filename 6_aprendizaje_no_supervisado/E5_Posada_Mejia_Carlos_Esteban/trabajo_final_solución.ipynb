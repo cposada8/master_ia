{
  "nbformat": 4,
  "nbformat_minor": 0,
  "metadata": {
    "colab": {
      "name": "trabajo_final_solución.ipynb",
      "provenance": [],
      "collapsed_sections": [],
      "toc_visible": true
    },
    "kernelspec": {
      "name": "python3",
      "display_name": "Python 3"
    },
    "language_info": {
      "name": "python"
    }
  },
  "cells": [
    {
      "cell_type": "markdown",
      "metadata": {
        "id": "SpGRyZSIMyO3"
      },
      "source": [
        "# Trabajo final __Aprendizaje No Supervisado__\n",
        "\n",
        "__Carlos Esteban Posada__  \n",
        "__crls.esteban@hotmail.com__"
      ]
    },
    {
      "cell_type": "markdown",
      "metadata": {
        "id": "LGqW9craNCi0"
      },
      "source": [
        "## Descripción\n",
        "El objetivo de este trabajo es encontrar y estudiar una versión mejorada de alguno de los algoritmos vistos en clase sobre clustering.  \n",
        "\n",
        "\n",
        "<br>\n",
        "\n",
        "__Procedimiento:__\n",
        "* Seleccione alguno de los métodos de clustering vistos en clase\n",
        "* Buscar en la literatura un artículo que proponga una mejora al método seleccionado\n",
        "* Comparar los resultados de ambos algoritmos en almenos 2 datasets calculando:\n",
        "    * métricas intrínsecas\n",
        "    * métricas extrínsecas (a uno de ellos)\n",
        "* Análisis exhaustivo de los resultados donde se evidencie:\n",
        "    * ¿Se puede evidenciar la mejora propuesta por el artículo, en los resultados?"
      ]
    },
    {
      "cell_type": "code",
      "metadata": {
        "id": "jCDVmB4GMzVi"
      },
      "source": [
        ""
      ],
      "execution_count": null,
      "outputs": []
    },
    {
      "cell_type": "markdown",
      "metadata": {
        "id": "6_8cnC21PXHv"
      },
      "source": [
        "## Método seleccionado\n",
        "El método que seleccionaré para implementar una mejora es el __K-MEANS__"
      ]
    },
    {
      "cell_type": "markdown",
      "metadata": {
        "id": "ddmP0W22Z4Rj"
      },
      "source": [
        "### Descripción del método general\n",
        "\n",
        "k-Means es un algoritmo de aprendizaje no supervisado cuyo objetivo es encontrar una agrupación adecuada de la data en k distintos grupos. \n",
        "\n",
        "El único parámetro indispensable del algoritmo es __k__ que representa el número de grupos. \n",
        "\n",
        "El algoritmo es iterativo y hace lo siguiente:\n",
        "1. Inicializa los centroides: Este paso es el punto de partida y tiene diversas variantes como por ejemplo: aleatorio, puntos dentro de la data (medioides), inicialización k-means ++, etc. Y en este trabajo realizaremos 2 métodos más de inicialización de centros. \n",
        "Cabe destacar que uno también le puede pasar los centros al algoritmo\n",
        "\n",
        "2. Calcula la __distancia__ de cada punto del dataset a cada uno de los __k__ centroides. Este paso es importante porque _¿qué es distancia?_ \n",
        "La métrica de distancia también la podemos seleccionar, siendo la euclídea la más común. \n",
        "\n",
        "3. Asigno cada punto a su centroide más cercano. En este paso, cada punto del conjunto de datos quedará marcado con su centroide más cercano, esto ya de por sí es una agrupación. \n",
        "\n",
        "4. Recalcular los centroides: Dado que cada centroide tiene \"a su cargo\" unos puntos, la idea es dados esos puntos, encontrar cuál es el centroide que mejor los representa. \n",
        "Si en este paso no hay ningún cambio en los centroides (o el cambio es menor que una tolerancia dada) el algoritmo para y la agrupación quedará dada por los elementos que estén más cerca a cada centroide.  \n",
        "De otro modo, se va al paso 2. \n",
        "\n",
        "\n",
        "Se puede iterar hasta un número de iteraciones máximas dada como parámetro al algoritmo o esperar que se cumpla el criterio de parada descrito en el paso 4. "
      ]
    },
    {
      "cell_type": "markdown",
      "metadata": {
        "id": "NQuqEdkgcFMz"
      },
      "source": [
        ""
      ]
    },
    {
      "cell_type": "markdown",
      "metadata": {
        "id": "Xlv0xBrUcKfG"
      },
      "source": [
        "A continuación un gif animado que ilustra cómo se ejecuta un k-means"
      ]
    },
    {
      "cell_type": "markdown",
      "metadata": {
        "id": "V3R7YM_9ZufB"
      },
      "source": [
        "![ChessUrl](https://dashee87.github.io/images/kmeans.gif \"chess\")\n"
      ]
    },
    {
      "cell_type": "code",
      "metadata": {
        "id": "ljMLtqsrSF0D"
      },
      "source": [
        ""
      ],
      "execution_count": null,
      "outputs": []
    },
    {
      "cell_type": "markdown",
      "metadata": {
        "id": "cWku_twJOQL4"
      },
      "source": [
        "## Literatura encontrada\n",
        "\n",
        "Para la solución de este trabajo se pide encontrar un artículo con una mejora. \n",
        "En mi caso particular encontré __dos__ artículos que proponen una inicialización diferente de los centroides. \n",
        "\n",
        "En el presente trabajo desarrollaré ambas aproximaciones.\n"
      ]
    },
    {
      "cell_type": "markdown",
      "metadata": {
        "id": "cKVQcifYOkh7"
      },
      "source": [
        "### Artículo 1: \n",
        "__título__: An Improvement in K-means Clustering Algorithm  \n",
        "__Autores__: Anand Sutariya1, Prof. Kiran Amin  \n",
        "__URL__: https://www.ijert.org/research/an-improvement-in-k-means-clustering-algorithm-IJERTV2IS1385.pdf\n",
        "\n"
      ]
    },
    {
      "cell_type": "markdown",
      "metadata": {
        "id": "PZf5O7FGO80z"
      },
      "source": [
        "#### __Metodología__: \n",
        "En este artículo proponen un método para elegir los centros iniciales.  \n",
        "La idea presentada es un método que hará que el K-means converja más rápido al haber encontrado unos centroides iniciales que ya representan muy bien los datos. \n",
        "\n"
      ]
    },
    {
      "cell_type": "markdown",
      "metadata": {
        "id": "iT8POc3BQb3s"
      },
      "source": [
        "#### __pseudo-código__\n",
        "\n",
        "\n",
        "__input:__  \n",
        "D = {d1, d2, ... dn} // conjunto con los n puntos que tiene la data   \n",
        "k // el número de clusters\n",
        "\n",
        "\n",
        "__pasos:__  \n",
        "1. haga m = 1. # será una variable que se usará para iterar entre los distintos k clusters\n",
        "\n",
        "2. Calcular la distancia entre cada punto de la data y todos los demás puntos en el conjunto D\n",
        "\n",
        "3. Encontrar el par de datos más cercanos del conjunto D y agrégelos al conjunto A_m (1<=m<=k). Borre los dos datos anteriores del conjunto D.\n",
        "\n",
        "4. Encuentre el punto de D que está más cercano al conjunto A_m, agréguelo a Am y bórrelo de D.\n",
        "\n",
        "5. Repita el paso 4 hasta que el número de puntos en el conjunto A_m alcance 0.75*(n/k)\n",
        "\n",
        "6. Si m<k, encontes haga m= m+1, encuentre otro par de puntos dentro de D cuyas distancias entre ellos sean las menores y cree otro conjunto A_m con estos dos puntos. Bórrelos del conjunto D. (igual que el paso 3).\n",
        "\n",
        "7. Para cada punto conjunto de datos A_m (1<=m<=k) encuentre la media aritmética de los puntos que componen el conjunto. Estas medias serán los centroides iniciales"
      ]
    },
    {
      "cell_type": "code",
      "metadata": {
        "id": "AXDBHlHOQzlk"
      },
      "source": [
        ""
      ],
      "execution_count": null,
      "outputs": []
    },
    {
      "cell_type": "markdown",
      "metadata": {
        "id": "FyKUGnx-Qbdl"
      },
      "source": [
        ""
      ]
    },
    {
      "cell_type": "code",
      "metadata": {
        "id": "JYmDcYfUO7LO"
      },
      "source": [
        ""
      ],
      "execution_count": null,
      "outputs": []
    },
    {
      "cell_type": "markdown",
      "metadata": {
        "id": "VTuhLr_0SJEV"
      },
      "source": [
        "### Artículo 2: \n",
        "__título__: An Approach for Selecting Optimal Initial Centroids\n",
        "to Enhance the Performance of K-means  \n",
        "__Autores__: Mostafizer Rahman, Sohrab Mahmud, Nasim Akhtar  \n",
        "__URL__: https://www.researchgate.net/publication/331429949_An_Approach_for_Selecting_Optimal_Initial_Centroids_to_Enhance_the_Performance_of_K-means\n",
        "\n"
      ]
    },
    {
      "cell_type": "markdown",
      "metadata": {
        "id": "_e3goauZSJEV"
      },
      "source": [
        "#### __Metodología__: \n",
        "En este artículo proponen un método para elegir los centros iniciales.  \n",
        "La idea central es darle pesos a cada punto y al final escoger los centroides de acuerdo a los pesos relativos de cada punto dentro del dataset. \n",
        "\n"
      ]
    },
    {
      "cell_type": "markdown",
      "metadata": {
        "id": "tv4MEhqYSJEV"
      },
      "source": [
        "#### __pseudo-código__\n",
        "\n",
        "\n",
        "__input:__    \n",
        "k // el número de clusters\n",
        "\n",
        "\n",
        "__pasos:__  \n",
        "1. Calcular el peso ponderado de cada datapoint (Ws)\n",
        "\n",
        "2. Ordenar los datos de acuerdo al peso ponderado (Ws)\n",
        "\n",
        "3. Dividir la data ordenada en k subconjuntos (k es el número de clusters)\n",
        "\n",
        "4. Calcular la media de cada uno de los k subconjuntos\n",
        "\n",
        "5. Finalmente se tomarán estas medias como los nuevos centroides\n"
      ]
    },
    {
      "cell_type": "code",
      "metadata": {
        "id": "xb7gAdFqO47n"
      },
      "source": [
        ""
      ],
      "execution_count": null,
      "outputs": []
    },
    {
      "cell_type": "markdown",
      "metadata": {
        "id": "RlYUYO0oYHMA"
      },
      "source": [
        "## Bibliotecas a utilizar"
      ]
    },
    {
      "cell_type": "code",
      "metadata": {
        "id": "q0v0Wo0tOxrY"
      },
      "source": [
        "from sklearn import datasets\n",
        "import pandas as pd\n",
        "import numpy as np\n",
        "import matplotlib.pyplot as plt\n",
        "import seaborn as sns\n",
        "\n",
        "from sklearn.preprocessing import StandardScaler\n",
        "\n",
        "\n",
        "\n",
        "import itertools as it\n",
        "from mpl_toolkits.mplot3d import Axes3D\n",
        "from sklearn.cluster import KMeans\n",
        "from sklearn.datasets import make_blobs\n",
        "\n",
        "from sklearn.metrics import cluster"
      ],
      "execution_count": null,
      "outputs": []
    },
    {
      "cell_type": "markdown",
      "metadata": {
        "id": "bCRDlhsLT-S2"
      },
      "source": [
        "## Data\n",
        "En este trabajo se pide utilizar al menos 2 datasets. \n",
        "Dado que (como se verá más adelante) los resultados no son concluyentes con 2 datasets, cargaré 4:\n",
        "* Boston dataset\n",
        "* Diabetes dataset\n",
        "* Iris\n",
        "* four_density\n",
        "\n",
        "Estos dataset fueron escogidos por su facilidad de carga, diversidad de datos y porque vienen de dos problemas distintos: 2 son de clasificación y 2 son de regresión."
      ]
    },
    {
      "cell_type": "markdown",
      "metadata": {
        "id": "zGiTJNHnUeMn"
      },
      "source": [
        "### Carga de los datos"
      ]
    },
    {
      "cell_type": "code",
      "metadata": {
        "id": "qwrMCEc7UhFZ"
      },
      "source": [
        "dict_boston = datasets.load_boston() # data de un problema de regresión\n",
        "dict_dbts = datasets.load_diabetes() # data de un problema de regresión\n",
        "dict_iris = datasets.load_iris() # data de un problema de clasificación"
      ],
      "execution_count": null,
      "outputs": []
    },
    {
      "cell_type": "code",
      "metadata": {
        "id": "-zNPbDA10zMl"
      },
      "source": [
        "# data sintética generada por el profesor felix\n",
        "data_file_url = 'https://raw.githubusercontent.com/flifuehu/viu-unsupervised-learning/master/datasets/sinteticos/dataset_cuatro_diferente_densidad.csv'\n",
        "data_sintetica_4_densidad = np.array(pd.read_csv(data_file_url,header=0))\n",
        "dict_four_density = {\n",
        "    \"data\": data_sintetica_4_densidad[:, :2],\n",
        "    \"target\": data_sintetica_4_densidad[:, 2]\n",
        "} # data de un problema de clasificación"
      ],
      "execution_count": null,
      "outputs": []
    },
    {
      "cell_type": "code",
      "metadata": {
        "id": "Wt061HPF1ICB"
      },
      "source": [
        "# agregar el número de grupos y si el tipo de dataset\n",
        "dict_boston[\"tipo_dataset\"] = \"regression\"\n",
        "dict_boston[\"k_num_grupos\"] = 5\n",
        "\n",
        "dict_dbts[\"tipo_dataset\"] = \"regression\"\n",
        "dict_dbts[\"k_num_grupos\"] = 5\n",
        "\n",
        "dict_four_density[\"tipo_dataset\"] = \"classification\"\n",
        "dict_four_density[\"k_num_grupos\"] = 4\n",
        "\n",
        "dict_iris[\"tipo_dataset\"] = \"classification\"\n",
        "dict_iris[\"k_num_grupos\"] = 2\n"
      ],
      "execution_count": null,
      "outputs": []
    },
    {
      "cell_type": "markdown",
      "metadata": {
        "id": "c6U_tsYDVNw4"
      },
      "source": [
        "### Estructura de toda la data\n",
        "\n",
        "Cada dataset es un diccionario que contiene las características, la variable objetivo (para los sets de clasificación), el tipo de dataset y el número de grupos que se usarán en el clustering. \n",
        "\n",
        "El número de grupos para los datasets Iris y four_density, se asignaron de acuerdo a las categorías reales que estos datasets presentan. \n",
        "\n",
        "El número de grupos para los otros datasets se configuró en 5 de manera arbitraria"
      ]
    },
    {
      "cell_type": "code",
      "metadata": {
        "id": "NYPzO3OjVQEW"
      },
      "source": [
        "# diccionario con todos los datasets que se necesitan\n",
        "dict_datos = {\n",
        "    \"boston\": dict_boston,\n",
        "    \"diabetes\": dict_dbts,\n",
        "    \"four_density\": dict_four_density,\n",
        "    \"iris\": dict_iris\n",
        "}"
      ],
      "execution_count": null,
      "outputs": []
    },
    {
      "cell_type": "code",
      "metadata": {
        "colab": {
          "base_uri": "https://localhost:8080/"
        },
        "id": "dw8h32W8OunZ",
        "outputId": "96712662-c9e5-44c8-c47c-ae7e40862d52"
      },
      "source": [
        "# Estandarizar los datos\n",
        "# Para cada diccionario de datos se agregará otra llave conteniendo la data estandarizada\n",
        "for name, diccionario in dict_datos.items():\n",
        "    print(f\"estandarizando: {name}\")\n",
        "    # print(diccionario)\n",
        "    # print(diccionario['data'])\n",
        "    est = StandardScaler()\n",
        "    data_preprocesada = est.fit_transform(diccionario['data'])\n",
        "    # guardo la data preprocesada en el diccionario original\n",
        "    diccionario[\"data_prep\"] = data_preprocesada"
      ],
      "execution_count": null,
      "outputs": [
        {
          "output_type": "stream",
          "text": [
            "estandarizando: boston\n",
            "estandarizando: diabetes\n",
            "estandarizando: four_density\n",
            "estandarizando: iris\n"
          ],
          "name": "stdout"
        }
      ]
    },
    {
      "cell_type": "code",
      "metadata": {
        "id": "vkIJwbLwOs5A"
      },
      "source": [
        ""
      ],
      "execution_count": null,
      "outputs": []
    },
    {
      "cell_type": "markdown",
      "metadata": {
        "id": "t7a07GXFWCd9"
      },
      "source": [
        "## Funciones Auxiliares\n",
        "\n",
        "En esta sección implementaremos una serie de funciones auxiliares que se usarán en varias partes del notebook"
      ]
    },
    {
      "cell_type": "markdown",
      "metadata": {
        "id": "9ZjDQJ-DXzoN"
      },
      "source": [
        "### Funciones de distancias y de manipulación de matrices"
      ]
    },
    {
      "cell_type": "code",
      "metadata": {
        "id": "8826em1IOjxb"
      },
      "source": [
        "# Auxiliares\n",
        "\n",
        "# Definimos la distancia euclidiana de una instancia x \n",
        "# con respecto a un grupo de instancias C\n",
        "def distancia_euclidiana_grupo(x, C):   \n",
        "    return np.sqrt(np.sum(np.power(C-x,2),axis=1))\n",
        "\n",
        "def distancia_mahalanobis(x, y, mC):\n",
        "    v = x-y\n",
        "    v.shape=(v.size,1)\n",
        "    mCi = np.linalg.inv(mC)\n",
        "    res = np.sqrt(np.sum(v.transpose() * mCi* v))\n",
        "    return res\n",
        "\n",
        "def distancia_euclidiana(x, y):   \n",
        "    return np.sqrt(np.sum((x-y)**2))\n",
        "\n",
        "# def matriz_distancias(X, distancia=distancia_euclidiana):\n",
        "#     mD = np.zeros((X.shape[0],X.shape[0]))\n",
        "#     for pair in it.product(np.arange(X.shape[0]), repeat=2):\n",
        "#         mD[pair] = distancia(X[pair[0],:],X[pair[1],:])\n",
        "#     return mD\n",
        "\n",
        "def matriz_distancias(X, distancia=distancia_euclidiana, mC=None):\n",
        "    n_samples = X.shape[0]\n",
        "    mD = np.zeros((n_samples, n_samples))\n",
        "    for pair in it.product(np.arange(n_samples), repeat=2):\n",
        "        if mC is not None:\n",
        "            mD[pair] = distancia(X[pair[0], :], X[pair[1], :], mC)\n",
        "        else:\n",
        "            mD[pair] = distancia(X[pair[0], :], X[pair[1], :])\n",
        "    return mD\n",
        "\n",
        "def eliminar_indices_matriz(mat, indices):\n",
        "    # esta función toma una matriz y elimina las filas y columnas en los índices \n",
        "    # del argumento \"indices\"\n",
        "    # y retorna la nueva matriz con esos índices borrados\n",
        "    indices_ordenados = sorted(list(indices), reverse=True) # ordenamos los índices de último a primero para proceder a borrar filas y columnas\n",
        "    \n",
        "    for indice in indices_ordenados:\n",
        "        mat = np.delete(mat, indice, 0)\n",
        "        mat = np.delete(mat, indice, 1)\n",
        "\n",
        "    return mat"
      ],
      "execution_count": null,
      "outputs": []
    },
    {
      "cell_type": "markdown",
      "metadata": {
        "id": "34J075iYX6M4"
      },
      "source": [
        "### Métricas"
      ]
    },
    {
      "cell_type": "code",
      "metadata": {
        "id": "84iHaaoBOjFD"
      },
      "source": [
        "# métricas\n",
        "def medida_error(mat):\n",
        "    maxs = np.zeros(mat.shape[0])\n",
        "    for l in np.arange(mat.shape[0]):\n",
        "        maxs[l] = np.max(mat[l, :])\n",
        "    maxs = np.sum(maxs)\n",
        "    return 1 - maxs / np.sum(mat)\n",
        "\n",
        "# https://stats.stackexchange.com/questions/95731/how-to-calculate-purity\n",
        "def medida_pureza(mat):\n",
        "    # `totales` calcula cuantos elementos se han predicho para cada uno \n",
        "    # de los 4 clusters que le hemos pedido al k-means\n",
        "    totales = np.sum(mat, axis=0) / np.sum(mat)\n",
        "    # comenzamos el cálculo de la pureza\n",
        "    precision_klmax = np.zeros(mat.shape[1])\n",
        "    # para cada cluster predicho\n",
        "    for k in np.arange(mat.shape[1]):\n",
        "        # multiplicamos la fracción de elementos predichos para ese cluster entre\n",
        "        # el total de elementos en nuestro dataset (definida como `totales`) por\n",
        "        # el número máximo de instancias que comparte el `k-ésimo` cluster predicho \n",
        "        # con alguno de los reales entre el total de elementos predichos para el \n",
        "        # `k-ésimo` cluster de instancias predichas\n",
        "        precision_klmax[k] = totales[k] * np.max(mat[:,k] / np.sum(mat[:,k]))\n",
        "    # la fórmula de la pureza nos pide la suma de todos los clusters\n",
        "    return np.sum(precision_klmax)\n",
        "\n",
        "def medida_precision(mat, l, k):\n",
        "    # cuántos elementos del cluster predicho `k` coinciden con el cluster real `l`\n",
        "    return mat[l,k]/np.sum(mat[:,k])\n",
        "\n",
        "def medida_recall(mat, l, k):\n",
        "    # cuántos elementos del cluster real `l` coinciden con el cluster predicho `k`\n",
        "    return mat[l,k]/np.sum(mat[l,:])\n",
        "\n",
        "def medida_f1_especifica(mat, l, k):\n",
        "    prec = medida_precision(mat, l, k)\n",
        "    rec = medida_recall(mat, l, k)\n",
        "    if (prec+rec)==0:\n",
        "        return 0\n",
        "    else:\n",
        "        return 2*prec*rec/(prec+rec)\n",
        "\n",
        "def medida_f1(mat):\n",
        "    totales = np.sum(mat, 1) / np.sum(mat)\n",
        "    f1 = np.zeros(mat.shape)\n",
        "    for l in np.arange(mat.shape[0]):\n",
        "        for k in np.arange(mat.shape[1]):\n",
        "            f1[l, k] = medida_f1_especifica(mat, l, k)\n",
        "    f1 = np.sum(totales * np.max(f1, axis=1))\n",
        "    return f1"
      ],
      "execution_count": null,
      "outputs": []
    },
    {
      "cell_type": "code",
      "metadata": {
        "id": "_keURJH4YA9A"
      },
      "source": [
        "# implementamos una función que calcule la matriz de confusión\n",
        "def matriz_confusion(cat_real, cat_pred):\n",
        "  cats = np.unique(cat_real)\n",
        "  clusts = np.unique(cat_pred)\n",
        "\n",
        "  mat_conf = np.zeros((cats.size, clusts.size), dtype=int)\n",
        "  for i in np.arange(cats.size):\n",
        "    for j in np.arange(clusts.size):\n",
        "      # predictedIJ almacena para cada grupo real cats[i], que coincidencias tiene con el grupo predicho clusts[j]\n",
        "      predictedIJ = (cat_real == cats[i]) & (cat_pred == clusts[j])\n",
        "      mat_conf[i, j] = np.sum(predictedIJ)\n",
        "  return mat_conf"
      ],
      "execution_count": null,
      "outputs": []
    },
    {
      "cell_type": "code",
      "metadata": {
        "id": "zAxwf29gXwlg"
      },
      "source": [
        ""
      ],
      "execution_count": null,
      "outputs": []
    },
    {
      "cell_type": "markdown",
      "metadata": {
        "id": "mFOdLqHRWXCR"
      },
      "source": [
        "## Implementaciones de mejoras - Papers\n",
        "\n",
        "En esta sección se implementarán los métodos de inicialización de centros descritos en los papers"
      ]
    },
    {
      "cell_type": "code",
      "metadata": {
        "id": "g9-GfmR8OSP0"
      },
      "source": [
        "## código para generar centroides iniciales aleatorios. Todos los métodos tendrán esta estructura de input-ouput\n",
        "def centros_iniciales_aleatorios(k, data):\n",
        "    # esta función me retorna 3 elementos aleatorios de la lista data. \n",
        "    # cada elemento será a su vez un vector de la dimensionalidad de data\n",
        "    print(\"generando centros iniciales aleatorios\")\n",
        "    random_indexes = np.random.choice(range(len(data)), k, replace=False)\n",
        "    return data[random_indexes, :]"
      ],
      "execution_count": null,
      "outputs": []
    },
    {
      "cell_type": "markdown",
      "metadata": {
        "id": "I6ZMdKd0Wxz5"
      },
      "source": [
        "### Implementación centroides paper 1\n",
        "sutariya_amin"
      ]
    },
    {
      "cell_type": "code",
      "metadata": {
        "id": "1P6K08TnOMn1"
      },
      "source": [
        "def centros_iniciales_sutariya_amin(k, data):\n",
        "    # Este método implementa la inicialización de los centros según el paper \n",
        "    # en https://www.ijert.org/research/an-improvement-in-k-means-clustering-algorithm-IJERTV2IS1385.pdf\n",
        "\n",
        "    n = len(data)\n",
        "    D = data.copy() # Un set que contiene una copia de los datos originales.\n",
        "    \n",
        "    # Se calcula la matriz de distancias original\n",
        "    print(\"calculando matriz de distancias. Este paso puede tardar algunos minutos por ser de orden O(n^2)\")\n",
        "    mat_dist = matriz_distancias(D)\n",
        "    mat_dist_copia = mat_dist.copy() # una copia que se guardará para evitar calcularla de nuevo más adelante\n",
        "\n",
        "    # transformo la diagonal en infinito para evitar que salga como el punto más cercano\n",
        "    mat_dist[mat_dist==0] = np.inf\n",
        "\n",
        "\n",
        "    A = {} # diccionario que contendrá los puntos de cada cluster. serán k llaves valores dentro de A\n",
        "    for m in range(k):\n",
        "        print(\"escogiendo centro número:\", m)\n",
        "\n",
        "        # step 3: encontrar la pareja de puntos más cercana dentro de D\n",
        "        indexes2delete = set(np.argwhere(mat_dist== np.min(mat_dist))[0])\n",
        "        # print(indexes2delete)\n",
        "\n",
        "        # step 4: encontrar el únto más cercano al conjunto de puntos que están en A\n",
        "        limite_elementos = 0.75* n // k\n",
        "        while len(indexes2delete) <= limite_elementos:\n",
        "            valor_minimo = np.inf\n",
        "            index_minimo = 0\n",
        "            for fila in indexes2delete:\n",
        "                min_fila = np.min(mat_dist[fila])\n",
        "                if min_fila < valor_minimo:\n",
        "                    valor_minimo = min_fila\n",
        "                    index_minimo = np.argmin(mat_dist[fila])\n",
        "\n",
        "            # se agrega el nuevo índice mínimo al vector de indexes2delete\n",
        "            # y se hace infinita esa columna\n",
        "            indexes2delete.add(index_minimo)\n",
        "            mat_dist[:, index_minimo] = np.inf\n",
        "            # print(mat_dist)\n",
        "            # print(indexes2delete)\n",
        "        \n",
        "        # Guardo los elementos que pertenecerán al cluster m\n",
        "        A[m] = D[list(indexes2delete)]\n",
        "\n",
        "        # elimino de D los elementos en los indexes2delete (en orden de mayor a menor)\n",
        "        D = D[list(set(range(len(D)))-indexes2delete)] # tomo los índices que no estén en indexes2delete\n",
        "        # print(f\"calculando matriz de distancias para D de tamaño {D.shape}\")\n",
        "        mat_dist = eliminar_indices_matriz(mat_dist, indexes2delete)\n",
        "        mat_dist[mat_dist==0] = np.inf\n",
        "\n",
        "    # step 7: se calculan los centroides\n",
        "    centroides = []\n",
        "    for key, grupo in A.items():\n",
        "        centroides.append(np.mean(grupo, axis=0))\n",
        "    centroides = np.array(centroides)\n",
        "    return centroides  "
      ],
      "execution_count": null,
      "outputs": []
    },
    {
      "cell_type": "markdown",
      "metadata": {
        "id": "Tey4gHSAW3RV"
      },
      "source": [
        "### Implementación centroides paper 2: \n",
        "rahman_mahmud_akhtar"
      ]
    },
    {
      "cell_type": "code",
      "metadata": {
        "id": "j6KWLXPQMzYO"
      },
      "source": [
        "# generar método de paper 2\n",
        "def centros_iniciales_rahman_mahmud_akhtar(k, data):\n",
        "    # Este método implementa la inicialización de los centros según el paper \n",
        "    # en https://www.researchgate.net/publication/331429949_An_Approach_for_Selecting_Optimal_Initial_Centroids_to_Enhance_the_Performance_of_K-means\n",
        "\n",
        "    \n",
        "    maximos = np.max(data, axis=0)\n",
        "    Ws = np.dot(data, 1/maximos)\n",
        "\n",
        "    # se crea un dataframe para colocar la columna de pesos y luego ordenarla\n",
        "    data_df = pd.DataFrame(data)\n",
        "    data_df[\"W\"] = Ws\n",
        "    data_df = data_df.sort_values(by=\"W\") # se organiza la data por el peso (de menor a mayor)\n",
        "\n",
        "\n",
        "    # se parte el dataset ordenado en k distintos datasets. \n",
        "    # luego se saca la media de cada uno\n",
        "    centroids = []\n",
        "    for item in np.array_split(data_df.drop(\"W\", axis=1), k):\n",
        "        # print(item.shape)\n",
        "        # print(item.head())\n",
        "        # print(item.values.mean(axis=0))\n",
        "        centroids.append(item.values.mean(axis=0))\n",
        "        # print()\n",
        "\n",
        "    centroids = np.array(centroids) # se transforma el objeto en un nd array\n",
        "    return centroids"
      ],
      "execution_count": null,
      "outputs": []
    },
    {
      "cell_type": "code",
      "metadata": {
        "id": "AzObNiqaMzab"
      },
      "source": [
        ""
      ],
      "execution_count": null,
      "outputs": []
    },
    {
      "cell_type": "markdown",
      "metadata": {
        "id": "g8PAWYiRXarB"
      },
      "source": [
        "## K-Means genérico\n",
        "\n",
        "En esta sección se implementará el método de K-means que recibe el criterio de centros a utilizar y de acuerdo a esto invoca el método deseado. "
      ]
    },
    {
      "cell_type": "code",
      "metadata": {
        "id": "vYxmvIrXMzch"
      },
      "source": [
        "def k_means_optimizado(data, K, criterio_init_centros=\"random\"):\n",
        "    # Preparamos el vector donde guardamos la asignación de cada elemento \n",
        "    # a un clúster (1,...,K)\n",
        "    Dyp = np.zeros(data.shape[0])\n",
        "\n",
        "    # obtenemos los centros iniciales\n",
        "    print(f\"inicializando centroides por el método de {criterio_init_centros}\")\n",
        "\n",
        "    if criterio_init_centros == \"random\":\n",
        "        cDx = centros_iniciales_aleatorios(K, data) #centros_iniciales_sutariya_amin(k, data)\n",
        "    if criterio_init_centros == \"sutiraya_amin\":\n",
        "        cDx = centros_iniciales_sutariya_amin(K, data)\n",
        "    if criterio_init_centros == \"rahman_mahmud_akhtar\":\n",
        "        cDx = centros_iniciales_rahman_mahmud_akhtar(K, data)\n",
        "\n",
        "    num_iteraciones = 0\n",
        "    iterando = True \n",
        "    while iterando:\n",
        "        # Vector auxiliar para guardar los centros de la iteración pasada\n",
        "        # necesarios para identificar la convergencia\n",
        "        cDx_ant = cDx.copy()\n",
        "\n",
        "        # Buscamos el centro más cercano a cada instancia y la asignamos a ese clúster\n",
        "        for i in np.arange(data.shape[0]):\n",
        "            # Tenemos que calcular la distancia de cada muestra del dataset Dx[i]\n",
        "            # a cada centro existente en cDx. Podemos utilizar para ello la función\n",
        "            # distancia_euclidiana_grupo.\n",
        "            distancia_punto_a_centros = distancia_euclidiana_grupo(data[i], cDx)## Tu código aquí ##\n",
        "            # Una vez calculada la distancia, necesitamos averiguar el índice de\n",
        "            # la distancia mínima. Para ello, podemos usar la función argmin de numpy.\n",
        "            pred_y = np.argmin(distancia_punto_a_centros)\n",
        "            Dyp[i] = pred_y\n",
        "\n",
        "        # Calcular los nuevos centros\n",
        "        for k in range(K):\n",
        "            # Necesitamos recalcular la media de las coordenadas de los elementos \n",
        "            # asignados a cada cluster. Recordad que cDx es la matriz donde almacenamos\n",
        "            # los centroides, así que tendrá la forma (k, 2).\n",
        "\n",
        "            # Para calcular la media de los elementos de un cluster, primero necesitamos\n",
        "            # saber qué elementos pertenecen a ese cluster, lo cual podemos obtener usando\n",
        "            # `Dyp` y `k`. Esto nos devolverá un vector de booleanos que podremos usar con\n",
        "            # `Dx` para obtener las coordenadas de los elementos del cluster `k`. Una vez\n",
        "            # disponemos de dichas coordenadas, simplemente tenemos que calcular la media.\n",
        "            # Tened en cuenta que `np.mean` reduce la media a 1 único valor, y nosotros \n",
        "            # necesitamos 2 valores, uno para la coordenada x y otro para la y.\n",
        "            # Podéis usar el argumento `axis` para indicarle a np.mean sobre qué dimensión\n",
        "            # de la matriz de puntos `Dx` queréis realizar la media.\n",
        "\n",
        "            index_belonging = Dyp==k # mask of indexes of elements belonging to cluster k\n",
        "            belonging_elems = data[index_belonging] # elements that belong to cluster k\n",
        "            cDx[k,:] = np.mean(belonging_elems, axis=0) ## Tu código aquí ##\n",
        "\n",
        "        # for k in np.arange(k):\n",
        "        #     ax.plot( [cDx_ant[k,0], cDx[k,0]],[cDx_ant[k,1], cDx[k,1]], linestyle='-', marker='*', c='y')\n",
        "        \n",
        "        iterando = (np.absolute(np.sum(cDx-cDx_ant)) > 0.00001)\n",
        "        num_iteraciones+=1\n",
        "\n",
        "    return cDx, Dyp, num_iteraciones"
      ],
      "execution_count": null,
      "outputs": []
    },
    {
      "cell_type": "code",
      "metadata": {
        "id": "4UON20sbXokt"
      },
      "source": [
        ""
      ],
      "execution_count": null,
      "outputs": []
    },
    {
      "cell_type": "markdown",
      "metadata": {
        "id": "0Qyj2KYPYVzk"
      },
      "source": [
        "## Experimentos\n",
        "\n",
        "En esta sección ejecutaremos una serie de experimentos. \n",
        "\n",
        "Se ejecutará un análisis cluster con los 2 métodos de los papers y se comparará con una serie de simulaciones de k-means con centroides aleatorios. \n",
        "\n",
        "Para comparar variables como número de iteraciones o métricas, basta con correr una vez cada método de los papers. __Pero__ será necesario ejecutar varias veces el k-means aleatorio pues con una sola ejecución no se puede concluir qué método es mejor"
      ]
    },
    {
      "cell_type": "code",
      "metadata": {
        "colab": {
          "base_uri": "https://localhost:8080/",
          "height": 68
        },
        "id": "yETilSQiXonV",
        "outputId": "40feab5c-c512-4455-c25b-76a9ab95d194"
      },
      "source": [
        "# Objeto necesario para guardar las métricas\n",
        "metricas_df = pd.DataFrame(columns=[\n",
        "                                    \"dataset_name\",\n",
        "                                    \"model_name\" ,\n",
        "                                    \"num_iterations\",\n",
        "                                    \"num_grupos\",\n",
        "                                    \"tipo_dataset\",\n",
        "                                    \"error_cometido\",\n",
        "                                    \"pureza_agrupamiento\",\n",
        "                                    \"f1_score\",\n",
        "                                    \"completeness_score\",\n",
        "                                    \"homogeneity\",\n",
        "                                    \"mutual_info\",\n",
        "                                    \"silueta\",\n",
        "                                    \"calinski_harabasz\",\n",
        "                                    \"davies_buildin\"\n",
        "                                    ])\n",
        "\n",
        "metricas_df"
      ],
      "execution_count": null,
      "outputs": [
        {
          "output_type": "execute_result",
          "data": {
            "text/html": [
              "<div>\n",
              "<style scoped>\n",
              "    .dataframe tbody tr th:only-of-type {\n",
              "        vertical-align: middle;\n",
              "    }\n",
              "\n",
              "    .dataframe tbody tr th {\n",
              "        vertical-align: top;\n",
              "    }\n",
              "\n",
              "    .dataframe thead th {\n",
              "        text-align: right;\n",
              "    }\n",
              "</style>\n",
              "<table border=\"1\" class=\"dataframe\">\n",
              "  <thead>\n",
              "    <tr style=\"text-align: right;\">\n",
              "      <th></th>\n",
              "      <th>dataset_name</th>\n",
              "      <th>model_name</th>\n",
              "      <th>num_iterations</th>\n",
              "      <th>num_grupos</th>\n",
              "      <th>tipo_dataset</th>\n",
              "      <th>error_cometido</th>\n",
              "      <th>pureza_agrupamiento</th>\n",
              "      <th>f1_score</th>\n",
              "      <th>completeness_score</th>\n",
              "      <th>homogeneity</th>\n",
              "      <th>mutual_info</th>\n",
              "      <th>silueta</th>\n",
              "      <th>calinski_harabasz</th>\n",
              "      <th>davies_buildin</th>\n",
              "    </tr>\n",
              "  </thead>\n",
              "  <tbody>\n",
              "  </tbody>\n",
              "</table>\n",
              "</div>"
            ],
            "text/plain": [
              "Empty DataFrame\n",
              "Columns: [dataset_name, model_name, num_iterations, num_grupos, tipo_dataset, error_cometido, pureza_agrupamiento, f1_score, completeness_score, homogeneity, mutual_info, silueta, calinski_harabasz, davies_buildin]\n",
              "Index: []"
            ]
          },
          "metadata": {
            "tags": []
          },
          "execution_count": 14
        }
      ]
    },
    {
      "cell_type": "code",
      "metadata": {
        "id": "ao5saQU6Xopq"
      },
      "source": [
        "criterios_kmans = [\"sutiraya_amin\", \"random\", \"rahman_mahmud_akhtar\"]\n",
        "dataset_names = [\"four_density\", \"diabetes\",\"boston\", \"iris\"]"
      ],
      "execution_count": null,
      "outputs": []
    },
    {
      "cell_type": "code",
      "metadata": {
        "colab": {
          "base_uri": "https://localhost:8080/"
        },
        "id": "rsp0xyJlXory",
        "outputId": "5f434494-9ed6-486c-9dcf-f1090d9ebf45"
      },
      "source": [
        "num_simulaciones = { # si es random hacer varias, si es saturiya_amin o rahman_mahmud_akhtar hacer una sola\n",
        "    \"random\": 30,\n",
        "    \"sutiraya_amin\":1,\n",
        "    \"rahman_mahmud_akhtar\": 1\n",
        "}\n",
        "\n",
        "for dataset_name in dataset_names:\n",
        "    # print(dataset)\n",
        "    data_dict = dict_datos[dataset_name] \n",
        "    dataset = data_dict[\"data_prep\"]\n",
        "\n",
        "    # lo siguiente se usa para las métricas intrínsecas\n",
        "    print(f\"calculando mahalanobis para {dataset_name} (puede tardar unos minutos)\")\n",
        "    mC = np.cov(dataset.transpose())\n",
        "    Ma_mahalanobis = matriz_distancias(dataset, distancia_mahalanobis, mC)\n",
        "    for criterio in criterios_kmans:\n",
        "        for simul in range(num_simulaciones[criterio]):\n",
        "            k_actual = data_dict[\"k_num_grupos\"]\n",
        "            tipo_dataset = data_dict[\"tipo_dataset\"]\n",
        "            print(dataset_name,\"-\", criterio, \"  simul: \", simul)\n",
        "\n",
        "            # Ejecutación del k-means con los parámetros dados\n",
        "            cDx, Dyp, num_iteraciones = k_means_optimizado(dataset, k_actual, criterio)\n",
        "            print()\n",
        "\n",
        "            # métricas intrínsecas\n",
        "            silueta = cluster.silhouette_score(Ma_mahalanobis, Dyp)#medida_silueta(dataset, Dyp)\n",
        "            calinski_harabasz = cluster.calinski_harabasz_score(Ma_mahalanobis, Dyp)\n",
        "            davies_buildin = cluster.davies_bouldin_score(Ma_mahalanobis, Dyp)\n",
        "\n",
        "            # métricas extrínsecas\n",
        "            mat_conf = None\n",
        "            mE = None\n",
        "            mP = None\n",
        "            mF1 = None\n",
        "            completeness_score = None\n",
        "            homogeneity = None\n",
        "            mutual_info = None\n",
        "            if tipo_dataset == \"classification\":\n",
        "                mat_conf = matriz_confusion(data_dict[\"target\"], Dyp)\n",
        "                mE = medida_error(mat_conf)\n",
        "                mP = medida_pureza(mat_conf)\n",
        "                mF1 = medida_f1(mat_conf)\n",
        "                completeness_score = cluster.completeness_score(data_dict[\"target\"], Dyp)\n",
        "                homogeneity = cluster.homogeneity_score(data_dict[\"target\"], Dyp)\n",
        "                mutual_info = cluster.adjusted_mutual_info_score(data_dict[\"target\"], Dyp)\n",
        "\n",
        "            # guardado de los resultados en el dataframe\n",
        "            registro_dict = {\n",
        "                \"model_name\": criterio, \n",
        "                \"dataset_name\": dataset_name,\n",
        "                \"num_iterations\": num_iteraciones,\n",
        "                \"num_grupos\": k_actual,\n",
        "                \"tipo_dataset\": tipo_dataset,\n",
        "                \"error_cometido\": mE,\n",
        "                \"pureza_agrupamiento\": mP,\n",
        "                \"f1_score\": mF1,\n",
        "                \"completeness_score\":completeness_score,\n",
        "                \"homogeneity\":homogeneity,\n",
        "                \"mutual_info\":mutual_info,\n",
        "                \"silueta\": silueta,\n",
        "                \"calinski_harabasz\":calinski_harabasz,\n",
        "                \"davies_buildin\":davies_buildin\n",
        "            }\n",
        "            metricas_df = metricas_df.append(registro_dict, ignore_index=True)\n"
      ],
      "execution_count": null,
      "outputs": [
        {
          "output_type": "stream",
          "text": [
            "calculando mahalanobis para four_density (puede tardar unos minutos)\n",
            "four_density - sutiraya_amin   simul:  0\n",
            "inicializando centroides por el método de sutiraya_amin\n",
            "calculando matriz de distancias. Este paso puede tardar algunos minutos por ser de orden O(n^2)\n",
            "escogiendo centro número: 0\n",
            "escogiendo centro número: 1\n",
            "escogiendo centro número: 2\n",
            "escogiendo centro número: 3\n",
            "\n",
            "four_density - random   simul:  0\n",
            "inicializando centroides por el método de random\n",
            "generando centros iniciales aleatorios\n",
            "\n",
            "four_density - random   simul:  1\n",
            "inicializando centroides por el método de random\n",
            "generando centros iniciales aleatorios\n",
            "\n",
            "four_density - random   simul:  2\n",
            "inicializando centroides por el método de random\n",
            "generando centros iniciales aleatorios\n",
            "\n",
            "four_density - random   simul:  3\n",
            "inicializando centroides por el método de random\n",
            "generando centros iniciales aleatorios\n",
            "\n",
            "four_density - random   simul:  4\n",
            "inicializando centroides por el método de random\n",
            "generando centros iniciales aleatorios\n",
            "\n",
            "four_density - random   simul:  5\n",
            "inicializando centroides por el método de random\n",
            "generando centros iniciales aleatorios\n",
            "\n"
          ],
          "name": "stdout"
        },
        {
          "output_type": "stream",
          "text": [
            "/usr/local/lib/python3.7/dist-packages/numpy/core/fromnumeric.py:3373: RuntimeWarning: Mean of empty slice.\n",
            "  out=out, **kwargs)\n",
            "/usr/local/lib/python3.7/dist-packages/numpy/core/_methods.py:163: RuntimeWarning: invalid value encountered in true_divide\n",
            "  ret, rcount, out=ret, casting='unsafe', subok=False)\n"
          ],
          "name": "stderr"
        },
        {
          "output_type": "stream",
          "text": [
            "four_density - random   simul:  6\n",
            "inicializando centroides por el método de random\n",
            "generando centros iniciales aleatorios\n",
            "\n",
            "four_density - random   simul:  7\n",
            "inicializando centroides por el método de random\n",
            "generando centros iniciales aleatorios\n",
            "\n",
            "four_density - random   simul:  8\n",
            "inicializando centroides por el método de random\n",
            "generando centros iniciales aleatorios\n",
            "\n",
            "four_density - random   simul:  9\n",
            "inicializando centroides por el método de random\n",
            "generando centros iniciales aleatorios\n",
            "\n",
            "four_density - random   simul:  10\n",
            "inicializando centroides por el método de random\n",
            "generando centros iniciales aleatorios\n",
            "\n",
            "four_density - random   simul:  11\n",
            "inicializando centroides por el método de random\n",
            "generando centros iniciales aleatorios\n",
            "\n",
            "four_density - random   simul:  12\n",
            "inicializando centroides por el método de random\n",
            "generando centros iniciales aleatorios\n",
            "\n",
            "four_density - random   simul:  13\n",
            "inicializando centroides por el método de random\n",
            "generando centros iniciales aleatorios\n",
            "\n",
            "four_density - random   simul:  14\n",
            "inicializando centroides por el método de random\n",
            "generando centros iniciales aleatorios\n",
            "\n",
            "four_density - random   simul:  15\n",
            "inicializando centroides por el método de random\n",
            "generando centros iniciales aleatorios\n",
            "\n",
            "four_density - random   simul:  16\n",
            "inicializando centroides por el método de random\n",
            "generando centros iniciales aleatorios\n",
            "\n",
            "four_density - random   simul:  17\n",
            "inicializando centroides por el método de random\n",
            "generando centros iniciales aleatorios\n",
            "\n",
            "four_density - random   simul:  18\n",
            "inicializando centroides por el método de random\n",
            "generando centros iniciales aleatorios\n",
            "\n",
            "four_density - random   simul:  19\n",
            "inicializando centroides por el método de random\n",
            "generando centros iniciales aleatorios\n",
            "\n",
            "four_density - random   simul:  20\n",
            "inicializando centroides por el método de random\n",
            "generando centros iniciales aleatorios\n",
            "\n",
            "four_density - random   simul:  21\n",
            "inicializando centroides por el método de random\n",
            "generando centros iniciales aleatorios\n",
            "\n",
            "four_density - random   simul:  22\n",
            "inicializando centroides por el método de random\n",
            "generando centros iniciales aleatorios\n",
            "\n",
            "four_density - random   simul:  23\n",
            "inicializando centroides por el método de random\n",
            "generando centros iniciales aleatorios\n",
            "\n",
            "four_density - random   simul:  24\n",
            "inicializando centroides por el método de random\n",
            "generando centros iniciales aleatorios\n",
            "\n",
            "four_density - random   simul:  25\n",
            "inicializando centroides por el método de random\n",
            "generando centros iniciales aleatorios\n",
            "\n",
            "four_density - random   simul:  26\n",
            "inicializando centroides por el método de random\n",
            "generando centros iniciales aleatorios\n",
            "\n",
            "four_density - random   simul:  27\n",
            "inicializando centroides por el método de random\n",
            "generando centros iniciales aleatorios\n",
            "\n",
            "four_density - random   simul:  28\n",
            "inicializando centroides por el método de random\n",
            "generando centros iniciales aleatorios\n",
            "\n",
            "four_density - random   simul:  29\n",
            "inicializando centroides por el método de random\n",
            "generando centros iniciales aleatorios\n",
            "\n",
            "four_density - rahman_mahmud_akhtar   simul:  0\n",
            "inicializando centroides por el método de rahman_mahmud_akhtar\n",
            "\n",
            "calculando mahalanobis para diabetes (puede tardar unos minutos)\n",
            "diabetes - sutiraya_amin   simul:  0\n",
            "inicializando centroides por el método de sutiraya_amin\n",
            "calculando matriz de distancias. Este paso puede tardar algunos minutos por ser de orden O(n^2)\n",
            "escogiendo centro número: 0\n",
            "escogiendo centro número: 1\n",
            "escogiendo centro número: 2\n",
            "escogiendo centro número: 3\n",
            "escogiendo centro número: 4\n",
            "\n",
            "diabetes - random   simul:  0\n",
            "inicializando centroides por el método de random\n",
            "generando centros iniciales aleatorios\n",
            "\n",
            "diabetes - random   simul:  1\n",
            "inicializando centroides por el método de random\n",
            "generando centros iniciales aleatorios\n",
            "\n",
            "diabetes - random   simul:  2\n",
            "inicializando centroides por el método de random\n",
            "generando centros iniciales aleatorios\n",
            "\n",
            "diabetes - random   simul:  3\n",
            "inicializando centroides por el método de random\n",
            "generando centros iniciales aleatorios\n",
            "\n",
            "diabetes - random   simul:  4\n",
            "inicializando centroides por el método de random\n",
            "generando centros iniciales aleatorios\n",
            "\n",
            "diabetes - random   simul:  5\n",
            "inicializando centroides por el método de random\n",
            "generando centros iniciales aleatorios\n",
            "\n",
            "diabetes - random   simul:  6\n",
            "inicializando centroides por el método de random\n",
            "generando centros iniciales aleatorios\n",
            "\n",
            "diabetes - random   simul:  7\n",
            "inicializando centroides por el método de random\n",
            "generando centros iniciales aleatorios\n",
            "\n",
            "diabetes - random   simul:  8\n",
            "inicializando centroides por el método de random\n",
            "generando centros iniciales aleatorios\n",
            "\n",
            "diabetes - random   simul:  9\n",
            "inicializando centroides por el método de random\n",
            "generando centros iniciales aleatorios\n",
            "\n",
            "diabetes - random   simul:  10\n",
            "inicializando centroides por el método de random\n",
            "generando centros iniciales aleatorios\n",
            "\n",
            "diabetes - random   simul:  11\n",
            "inicializando centroides por el método de random\n",
            "generando centros iniciales aleatorios\n",
            "\n",
            "diabetes - random   simul:  12\n",
            "inicializando centroides por el método de random\n",
            "generando centros iniciales aleatorios\n",
            "\n",
            "diabetes - random   simul:  13\n",
            "inicializando centroides por el método de random\n",
            "generando centros iniciales aleatorios\n",
            "\n",
            "diabetes - random   simul:  14\n",
            "inicializando centroides por el método de random\n",
            "generando centros iniciales aleatorios\n",
            "\n",
            "diabetes - random   simul:  15\n",
            "inicializando centroides por el método de random\n",
            "generando centros iniciales aleatorios\n",
            "\n",
            "diabetes - random   simul:  16\n",
            "inicializando centroides por el método de random\n",
            "generando centros iniciales aleatorios\n",
            "\n",
            "diabetes - random   simul:  17\n",
            "inicializando centroides por el método de random\n",
            "generando centros iniciales aleatorios\n",
            "\n",
            "diabetes - random   simul:  18\n",
            "inicializando centroides por el método de random\n",
            "generando centros iniciales aleatorios\n",
            "\n",
            "diabetes - random   simul:  19\n",
            "inicializando centroides por el método de random\n",
            "generando centros iniciales aleatorios\n",
            "\n",
            "diabetes - random   simul:  20\n",
            "inicializando centroides por el método de random\n",
            "generando centros iniciales aleatorios\n",
            "\n",
            "diabetes - random   simul:  21\n",
            "inicializando centroides por el método de random\n",
            "generando centros iniciales aleatorios\n",
            "\n",
            "diabetes - random   simul:  22\n",
            "inicializando centroides por el método de random\n",
            "generando centros iniciales aleatorios\n",
            "\n",
            "diabetes - random   simul:  23\n",
            "inicializando centroides por el método de random\n",
            "generando centros iniciales aleatorios\n",
            "\n",
            "diabetes - random   simul:  24\n",
            "inicializando centroides por el método de random\n",
            "generando centros iniciales aleatorios\n",
            "\n",
            "diabetes - random   simul:  25\n",
            "inicializando centroides por el método de random\n",
            "generando centros iniciales aleatorios\n",
            "\n",
            "diabetes - random   simul:  26\n",
            "inicializando centroides por el método de random\n",
            "generando centros iniciales aleatorios\n",
            "\n",
            "diabetes - random   simul:  27\n",
            "inicializando centroides por el método de random\n",
            "generando centros iniciales aleatorios\n",
            "\n",
            "diabetes - random   simul:  28\n",
            "inicializando centroides por el método de random\n",
            "generando centros iniciales aleatorios\n",
            "\n",
            "diabetes - random   simul:  29\n",
            "inicializando centroides por el método de random\n",
            "generando centros iniciales aleatorios\n",
            "\n",
            "diabetes - rahman_mahmud_akhtar   simul:  0\n",
            "inicializando centroides por el método de rahman_mahmud_akhtar\n",
            "\n",
            "calculando mahalanobis para boston (puede tardar unos minutos)\n",
            "boston - sutiraya_amin   simul:  0\n",
            "inicializando centroides por el método de sutiraya_amin\n",
            "calculando matriz de distancias. Este paso puede tardar algunos minutos por ser de orden O(n^2)\n",
            "escogiendo centro número: 0\n",
            "escogiendo centro número: 1\n",
            "escogiendo centro número: 2\n",
            "escogiendo centro número: 3\n",
            "escogiendo centro número: 4\n",
            "\n",
            "boston - random   simul:  0\n",
            "inicializando centroides por el método de random\n",
            "generando centros iniciales aleatorios\n",
            "\n",
            "boston - random   simul:  1\n",
            "inicializando centroides por el método de random\n",
            "generando centros iniciales aleatorios\n",
            "\n",
            "boston - random   simul:  2\n",
            "inicializando centroides por el método de random\n",
            "generando centros iniciales aleatorios\n",
            "\n",
            "boston - random   simul:  3\n",
            "inicializando centroides por el método de random\n",
            "generando centros iniciales aleatorios\n",
            "\n",
            "boston - random   simul:  4\n",
            "inicializando centroides por el método de random\n",
            "generando centros iniciales aleatorios\n",
            "\n",
            "boston - random   simul:  5\n",
            "inicializando centroides por el método de random\n",
            "generando centros iniciales aleatorios\n",
            "\n",
            "boston - random   simul:  6\n",
            "inicializando centroides por el método de random\n",
            "generando centros iniciales aleatorios\n",
            "\n",
            "boston - random   simul:  7\n",
            "inicializando centroides por el método de random\n",
            "generando centros iniciales aleatorios\n",
            "\n",
            "boston - random   simul:  8\n",
            "inicializando centroides por el método de random\n",
            "generando centros iniciales aleatorios\n",
            "\n",
            "boston - random   simul:  9\n",
            "inicializando centroides por el método de random\n",
            "generando centros iniciales aleatorios\n",
            "\n",
            "boston - random   simul:  10\n",
            "inicializando centroides por el método de random\n",
            "generando centros iniciales aleatorios\n",
            "\n",
            "boston - random   simul:  11\n",
            "inicializando centroides por el método de random\n",
            "generando centros iniciales aleatorios\n",
            "\n",
            "boston - random   simul:  12\n",
            "inicializando centroides por el método de random\n",
            "generando centros iniciales aleatorios\n",
            "\n",
            "boston - random   simul:  13\n",
            "inicializando centroides por el método de random\n",
            "generando centros iniciales aleatorios\n",
            "\n",
            "boston - random   simul:  14\n",
            "inicializando centroides por el método de random\n",
            "generando centros iniciales aleatorios\n",
            "\n",
            "boston - random   simul:  15\n",
            "inicializando centroides por el método de random\n",
            "generando centros iniciales aleatorios\n",
            "\n",
            "boston - random   simul:  16\n",
            "inicializando centroides por el método de random\n",
            "generando centros iniciales aleatorios\n",
            "\n",
            "boston - random   simul:  17\n",
            "inicializando centroides por el método de random\n",
            "generando centros iniciales aleatorios\n",
            "\n",
            "boston - random   simul:  18\n",
            "inicializando centroides por el método de random\n",
            "generando centros iniciales aleatorios\n",
            "\n",
            "boston - random   simul:  19\n",
            "inicializando centroides por el método de random\n",
            "generando centros iniciales aleatorios\n",
            "\n",
            "boston - random   simul:  20\n",
            "inicializando centroides por el método de random\n",
            "generando centros iniciales aleatorios\n",
            "\n",
            "boston - random   simul:  21\n",
            "inicializando centroides por el método de random\n",
            "generando centros iniciales aleatorios\n",
            "\n",
            "boston - random   simul:  22\n",
            "inicializando centroides por el método de random\n",
            "generando centros iniciales aleatorios\n",
            "\n",
            "boston - random   simul:  23\n",
            "inicializando centroides por el método de random\n",
            "generando centros iniciales aleatorios\n",
            "\n",
            "boston - random   simul:  24\n",
            "inicializando centroides por el método de random\n",
            "generando centros iniciales aleatorios\n",
            "\n",
            "boston - random   simul:  25\n",
            "inicializando centroides por el método de random\n",
            "generando centros iniciales aleatorios\n",
            "\n",
            "boston - random   simul:  26\n",
            "inicializando centroides por el método de random\n",
            "generando centros iniciales aleatorios\n",
            "\n",
            "boston - random   simul:  27\n",
            "inicializando centroides por el método de random\n",
            "generando centros iniciales aleatorios\n",
            "\n",
            "boston - random   simul:  28\n",
            "inicializando centroides por el método de random\n",
            "generando centros iniciales aleatorios\n",
            "\n",
            "boston - random   simul:  29\n",
            "inicializando centroides por el método de random\n",
            "generando centros iniciales aleatorios\n",
            "\n",
            "boston - rahman_mahmud_akhtar   simul:  0\n",
            "inicializando centroides por el método de rahman_mahmud_akhtar\n",
            "\n",
            "calculando mahalanobis para iris (puede tardar unos minutos)\n",
            "iris - sutiraya_amin   simul:  0\n",
            "inicializando centroides por el método de sutiraya_amin\n",
            "calculando matriz de distancias. Este paso puede tardar algunos minutos por ser de orden O(n^2)\n",
            "escogiendo centro número: 0\n",
            "escogiendo centro número: 1\n",
            "\n",
            "iris - random   simul:  0\n",
            "inicializando centroides por el método de random\n",
            "generando centros iniciales aleatorios\n",
            "\n",
            "iris - random   simul:  1\n",
            "inicializando centroides por el método de random\n",
            "generando centros iniciales aleatorios\n",
            "\n",
            "iris - random   simul:  2\n",
            "inicializando centroides por el método de random\n",
            "generando centros iniciales aleatorios\n",
            "\n",
            "iris - random   simul:  3\n",
            "inicializando centroides por el método de random\n",
            "generando centros iniciales aleatorios\n",
            "\n",
            "iris - random   simul:  4\n",
            "inicializando centroides por el método de random\n",
            "generando centros iniciales aleatorios\n",
            "\n",
            "iris - random   simul:  5\n",
            "inicializando centroides por el método de random\n",
            "generando centros iniciales aleatorios\n",
            "\n",
            "iris - random   simul:  6\n",
            "inicializando centroides por el método de random\n",
            "generando centros iniciales aleatorios\n",
            "\n",
            "iris - random   simul:  7\n",
            "inicializando centroides por el método de random\n",
            "generando centros iniciales aleatorios\n",
            "\n",
            "iris - random   simul:  8\n",
            "inicializando centroides por el método de random\n",
            "generando centros iniciales aleatorios\n",
            "\n",
            "iris - random   simul:  9\n",
            "inicializando centroides por el método de random\n",
            "generando centros iniciales aleatorios\n",
            "\n",
            "iris - random   simul:  10\n",
            "inicializando centroides por el método de random\n",
            "generando centros iniciales aleatorios\n",
            "\n",
            "iris - random   simul:  11\n",
            "inicializando centroides por el método de random\n",
            "generando centros iniciales aleatorios\n",
            "\n",
            "iris - random   simul:  12\n",
            "inicializando centroides por el método de random\n",
            "generando centros iniciales aleatorios\n",
            "\n",
            "iris - random   simul:  13\n",
            "inicializando centroides por el método de random\n",
            "generando centros iniciales aleatorios\n",
            "\n",
            "iris - random   simul:  14\n",
            "inicializando centroides por el método de random\n",
            "generando centros iniciales aleatorios\n",
            "\n",
            "iris - random   simul:  15\n",
            "inicializando centroides por el método de random\n",
            "generando centros iniciales aleatorios\n",
            "\n",
            "iris - random   simul:  16\n",
            "inicializando centroides por el método de random\n",
            "generando centros iniciales aleatorios\n",
            "\n",
            "iris - random   simul:  17\n",
            "inicializando centroides por el método de random\n",
            "generando centros iniciales aleatorios\n",
            "\n",
            "iris - random   simul:  18\n",
            "inicializando centroides por el método de random\n",
            "generando centros iniciales aleatorios\n",
            "\n",
            "iris - random   simul:  19\n",
            "inicializando centroides por el método de random\n",
            "generando centros iniciales aleatorios\n",
            "\n",
            "iris - random   simul:  20\n",
            "inicializando centroides por el método de random\n",
            "generando centros iniciales aleatorios\n",
            "\n",
            "iris - random   simul:  21\n",
            "inicializando centroides por el método de random\n",
            "generando centros iniciales aleatorios\n",
            "\n",
            "iris - random   simul:  22\n",
            "inicializando centroides por el método de random\n",
            "generando centros iniciales aleatorios\n",
            "\n",
            "iris - random   simul:  23\n",
            "inicializando centroides por el método de random\n",
            "generando centros iniciales aleatorios\n",
            "\n",
            "iris - random   simul:  24\n",
            "inicializando centroides por el método de random\n",
            "generando centros iniciales aleatorios\n",
            "\n",
            "iris - random   simul:  25\n",
            "inicializando centroides por el método de random\n",
            "generando centros iniciales aleatorios\n",
            "\n",
            "iris - random   simul:  26\n",
            "inicializando centroides por el método de random\n",
            "generando centros iniciales aleatorios\n",
            "\n",
            "iris - random   simul:  27\n",
            "inicializando centroides por el método de random\n",
            "generando centros iniciales aleatorios\n",
            "\n",
            "iris - random   simul:  28\n",
            "inicializando centroides por el método de random\n",
            "generando centros iniciales aleatorios\n",
            "\n",
            "iris - random   simul:  29\n",
            "inicializando centroides por el método de random\n",
            "generando centros iniciales aleatorios\n",
            "\n",
            "iris - rahman_mahmud_akhtar   simul:  0\n",
            "inicializando centroides por el método de rahman_mahmud_akhtar\n",
            "\n"
          ],
          "name": "stdout"
        }
      ]
    },
    {
      "cell_type": "code",
      "metadata": {
        "colab": {
          "base_uri": "https://localhost:8080/",
          "height": 220
        },
        "id": "2rM-zZ6AXouV",
        "outputId": "45152314-a73f-4b0d-a1a7-05a96fd44c1b"
      },
      "source": [
        "metricas_df.head()"
      ],
      "execution_count": null,
      "outputs": [
        {
          "output_type": "execute_result",
          "data": {
            "text/html": [
              "<div>\n",
              "<style scoped>\n",
              "    .dataframe tbody tr th:only-of-type {\n",
              "        vertical-align: middle;\n",
              "    }\n",
              "\n",
              "    .dataframe tbody tr th {\n",
              "        vertical-align: top;\n",
              "    }\n",
              "\n",
              "    .dataframe thead th {\n",
              "        text-align: right;\n",
              "    }\n",
              "</style>\n",
              "<table border=\"1\" class=\"dataframe\">\n",
              "  <thead>\n",
              "    <tr style=\"text-align: right;\">\n",
              "      <th></th>\n",
              "      <th>dataset_name</th>\n",
              "      <th>model_name</th>\n",
              "      <th>num_iterations</th>\n",
              "      <th>num_grupos</th>\n",
              "      <th>tipo_dataset</th>\n",
              "      <th>error_cometido</th>\n",
              "      <th>pureza_agrupamiento</th>\n",
              "      <th>f1_score</th>\n",
              "      <th>completeness_score</th>\n",
              "      <th>homogeneity</th>\n",
              "      <th>mutual_info</th>\n",
              "      <th>silueta</th>\n",
              "      <th>calinski_harabasz</th>\n",
              "      <th>davies_buildin</th>\n",
              "    </tr>\n",
              "  </thead>\n",
              "  <tbody>\n",
              "    <tr>\n",
              "      <th>0</th>\n",
              "      <td>four_density</td>\n",
              "      <td>sutiraya_amin</td>\n",
              "      <td>13</td>\n",
              "      <td>4</td>\n",
              "      <td>classification</td>\n",
              "      <td>0.00450225</td>\n",
              "      <td>0.995498</td>\n",
              "      <td>0.995465</td>\n",
              "      <td>0.976114</td>\n",
              "      <td>0.966793</td>\n",
              "      <td>0.971355</td>\n",
              "      <td>0.79635</td>\n",
              "      <td>6145.179510</td>\n",
              "      <td>0.522650</td>\n",
              "    </tr>\n",
              "    <tr>\n",
              "      <th>1</th>\n",
              "      <td>four_density</td>\n",
              "      <td>random</td>\n",
              "      <td>7</td>\n",
              "      <td>4</td>\n",
              "      <td>classification</td>\n",
              "      <td>0.0970485</td>\n",
              "      <td>0.950975</td>\n",
              "      <td>0.904893</td>\n",
              "      <td>0.79545</td>\n",
              "      <td>0.805141</td>\n",
              "      <td>0.799747</td>\n",
              "      <td>0.68143</td>\n",
              "      <td>2759.854641</td>\n",
              "      <td>1.557853</td>\n",
              "    </tr>\n",
              "    <tr>\n",
              "      <th>2</th>\n",
              "      <td>four_density</td>\n",
              "      <td>random</td>\n",
              "      <td>13</td>\n",
              "      <td>4</td>\n",
              "      <td>classification</td>\n",
              "      <td>0.00450225</td>\n",
              "      <td>0.995498</td>\n",
              "      <td>0.995465</td>\n",
              "      <td>0.976114</td>\n",
              "      <td>0.966793</td>\n",
              "      <td>0.971355</td>\n",
              "      <td>0.79635</td>\n",
              "      <td>6145.179510</td>\n",
              "      <td>0.522650</td>\n",
              "    </tr>\n",
              "    <tr>\n",
              "      <th>3</th>\n",
              "      <td>four_density</td>\n",
              "      <td>random</td>\n",
              "      <td>13</td>\n",
              "      <td>4</td>\n",
              "      <td>classification</td>\n",
              "      <td>0.00450225</td>\n",
              "      <td>0.995498</td>\n",
              "      <td>0.995465</td>\n",
              "      <td>0.976114</td>\n",
              "      <td>0.966793</td>\n",
              "      <td>0.971355</td>\n",
              "      <td>0.79635</td>\n",
              "      <td>6145.179510</td>\n",
              "      <td>0.522650</td>\n",
              "    </tr>\n",
              "    <tr>\n",
              "      <th>4</th>\n",
              "      <td>four_density</td>\n",
              "      <td>random</td>\n",
              "      <td>14</td>\n",
              "      <td>4</td>\n",
              "      <td>classification</td>\n",
              "      <td>0.00450225</td>\n",
              "      <td>0.995498</td>\n",
              "      <td>0.995465</td>\n",
              "      <td>0.976114</td>\n",
              "      <td>0.966793</td>\n",
              "      <td>0.971355</td>\n",
              "      <td>0.79635</td>\n",
              "      <td>6145.179510</td>\n",
              "      <td>0.522650</td>\n",
              "    </tr>\n",
              "  </tbody>\n",
              "</table>\n",
              "</div>"
            ],
            "text/plain": [
              "   dataset_name     model_name  ... calinski_harabasz davies_buildin\n",
              "0  four_density  sutiraya_amin  ...       6145.179510       0.522650\n",
              "1  four_density         random  ...       2759.854641       1.557853\n",
              "2  four_density         random  ...       6145.179510       0.522650\n",
              "3  four_density         random  ...       6145.179510       0.522650\n",
              "4  four_density         random  ...       6145.179510       0.522650\n",
              "\n",
              "[5 rows x 14 columns]"
            ]
          },
          "metadata": {
            "tags": []
          },
          "execution_count": 51
        }
      ]
    },
    {
      "cell_type": "code",
      "metadata": {
        "id": "cjGWeraPXoyy"
      },
      "source": [
        "# metricas_df.to_csv(\"metricas_df.csv\", index=\"False\")"
      ],
      "execution_count": null,
      "outputs": []
    },
    {
      "cell_type": "code",
      "metadata": {
        "id": "zWy9MC7Ybots"
      },
      "source": [
        ""
      ],
      "execution_count": null,
      "outputs": []
    },
    {
      "cell_type": "markdown",
      "metadata": {
        "id": "prRv1-Nda49Q"
      },
      "source": [
        "## Resultados\n",
        "\n",
        "En esta sección compararemos los resultados de los 3 métodos de inicialización (paper 1, paper 2 y random). \n",
        "\n",
        "Cabe señalar que el método random se ejecuto 30 veces porque no se puede concluir nada de una sola inicialización.  \n",
        "\n",
        "Por lo tanto las comparaciones se harán entre los métodos de los papers 1 y 2, versus la __media__ de los 30 resultados del método random"
      ]
    },
    {
      "cell_type": "markdown",
      "metadata": {
        "id": "5jWWd9h9MhpM"
      },
      "source": [
        "### Número de iteraciones"
      ]
    },
    {
      "cell_type": "code",
      "metadata": {
        "colab": {
          "base_uri": "https://localhost:8080/",
          "height": 515
        },
        "id": "576x0HLUONBe",
        "outputId": "0ce32fe0-86df-4d95-9c83-604e08d577a6"
      },
      "source": [
        "plt.figure(figsize=(10, 8))\n",
        "sns.barplot(y= \"num_iterations\", hue=\"model_name\", x= \"dataset_name\", data= metricas_df)\n",
        "plt.title(\"Comparación del número de iteraciones por método de inicialización\")\n",
        "plt.show()"
      ],
      "execution_count": null,
      "outputs": [
        {
          "output_type": "display_data",
          "data": {
            "image/png": "[encoded data removed]",
            "text/plain": [
              "<Figure size 720x576 with 1 Axes>"
            ]
          },
          "metadata": {
            "tags": [],
            "needs_background": "light"
          }
        }
      ]
    },
    {
      "cell_type": "markdown",
      "metadata": {
        "id": "t-bXdUc8O3S8"
      },
      "source": [
        "Se puede observar cómo el método de mejora 1 tiene menor número de iteraciones para converger que los demás métodos en los datasets:\n",
        "* iris\n",
        "* bostón\n",
        "\n",
        "La segunda inicialización supera la inicialización random en los mismos datasets. \n",
        "\n",
        "Para los datasets de four_density y diabetes, el método de inicialización no pudo ser superado (en media) por las inicializaciones de los dos papers"
      ]
    },
    {
      "cell_type": "code",
      "metadata": {
        "id": "F2bZzTenSYxu"
      },
      "source": [
        ""
      ],
      "execution_count": null,
      "outputs": []
    },
    {
      "cell_type": "markdown",
      "metadata": {
        "id": "IHptmhdoSYOm"
      },
      "source": [
        "### Métricas extrínsecas\n",
        "\n",
        "En esta sección revisaremos las métricas extrínsecas de los 2 datasets que cuentan con categorías reales, pues vienen de problemas de clasificación:\n",
        "* iris\n",
        "* four_density"
      ]
    },
    {
      "cell_type": "code",
      "metadata": {
        "colab": {
          "base_uri": "https://localhost:8080/",
          "height": 220
        },
        "id": "wO3unx_OO2c3",
        "outputId": "471affa3-f974-478c-8130-ec09c61394ea"
      },
      "source": [
        "data_extrinsecas = metricas_df[metricas_df[\"dataset_name\"].isin([\"four_density\", \"iris\"])]\n",
        "data_extrinsecas.head()"
      ],
      "execution_count": null,
      "outputs": [
        {
          "output_type": "execute_result",
          "data": {
            "text/html": [
              "<div>\n",
              "<style scoped>\n",
              "    .dataframe tbody tr th:only-of-type {\n",
              "        vertical-align: middle;\n",
              "    }\n",
              "\n",
              "    .dataframe tbody tr th {\n",
              "        vertical-align: top;\n",
              "    }\n",
              "\n",
              "    .dataframe thead th {\n",
              "        text-align: right;\n",
              "    }\n",
              "</style>\n",
              "<table border=\"1\" class=\"dataframe\">\n",
              "  <thead>\n",
              "    <tr style=\"text-align: right;\">\n",
              "      <th></th>\n",
              "      <th>dataset_name</th>\n",
              "      <th>model_name</th>\n",
              "      <th>num_iterations</th>\n",
              "      <th>num_grupos</th>\n",
              "      <th>tipo_dataset</th>\n",
              "      <th>error_cometido</th>\n",
              "      <th>pureza_agrupamiento</th>\n",
              "      <th>f1_score</th>\n",
              "      <th>completeness_score</th>\n",
              "      <th>homogeneity</th>\n",
              "      <th>mutual_info</th>\n",
              "      <th>silueta</th>\n",
              "      <th>calinski_harabasz</th>\n",
              "      <th>davies_buildin</th>\n",
              "    </tr>\n",
              "  </thead>\n",
              "  <tbody>\n",
              "    <tr>\n",
              "      <th>0</th>\n",
              "      <td>four_density</td>\n",
              "      <td>sutiraya_amin</td>\n",
              "      <td>13</td>\n",
              "      <td>4</td>\n",
              "      <td>classification</td>\n",
              "      <td>0.00450225</td>\n",
              "      <td>0.995498</td>\n",
              "      <td>0.995465</td>\n",
              "      <td>0.976114</td>\n",
              "      <td>0.966793</td>\n",
              "      <td>0.971355</td>\n",
              "      <td>0.79635</td>\n",
              "      <td>6145.179510</td>\n",
              "      <td>0.522650</td>\n",
              "    </tr>\n",
              "    <tr>\n",
              "      <th>1</th>\n",
              "      <td>four_density</td>\n",
              "      <td>random</td>\n",
              "      <td>7</td>\n",
              "      <td>4</td>\n",
              "      <td>classification</td>\n",
              "      <td>0.0970485</td>\n",
              "      <td>0.950975</td>\n",
              "      <td>0.904893</td>\n",
              "      <td>0.79545</td>\n",
              "      <td>0.805141</td>\n",
              "      <td>0.799747</td>\n",
              "      <td>0.68143</td>\n",
              "      <td>2759.854641</td>\n",
              "      <td>1.557853</td>\n",
              "    </tr>\n",
              "    <tr>\n",
              "      <th>2</th>\n",
              "      <td>four_density</td>\n",
              "      <td>random</td>\n",
              "      <td>13</td>\n",
              "      <td>4</td>\n",
              "      <td>classification</td>\n",
              "      <td>0.00450225</td>\n",
              "      <td>0.995498</td>\n",
              "      <td>0.995465</td>\n",
              "      <td>0.976114</td>\n",
              "      <td>0.966793</td>\n",
              "      <td>0.971355</td>\n",
              "      <td>0.79635</td>\n",
              "      <td>6145.179510</td>\n",
              "      <td>0.522650</td>\n",
              "    </tr>\n",
              "    <tr>\n",
              "      <th>3</th>\n",
              "      <td>four_density</td>\n",
              "      <td>random</td>\n",
              "      <td>13</td>\n",
              "      <td>4</td>\n",
              "      <td>classification</td>\n",
              "      <td>0.00450225</td>\n",
              "      <td>0.995498</td>\n",
              "      <td>0.995465</td>\n",
              "      <td>0.976114</td>\n",
              "      <td>0.966793</td>\n",
              "      <td>0.971355</td>\n",
              "      <td>0.79635</td>\n",
              "      <td>6145.179510</td>\n",
              "      <td>0.522650</td>\n",
              "    </tr>\n",
              "    <tr>\n",
              "      <th>4</th>\n",
              "      <td>four_density</td>\n",
              "      <td>random</td>\n",
              "      <td>14</td>\n",
              "      <td>4</td>\n",
              "      <td>classification</td>\n",
              "      <td>0.00450225</td>\n",
              "      <td>0.995498</td>\n",
              "      <td>0.995465</td>\n",
              "      <td>0.976114</td>\n",
              "      <td>0.966793</td>\n",
              "      <td>0.971355</td>\n",
              "      <td>0.79635</td>\n",
              "      <td>6145.179510</td>\n",
              "      <td>0.522650</td>\n",
              "    </tr>\n",
              "  </tbody>\n",
              "</table>\n",
              "</div>"
            ],
            "text/plain": [
              "   dataset_name     model_name  ... calinski_harabasz davies_buildin\n",
              "0  four_density  sutiraya_amin  ...       6145.179510       0.522650\n",
              "1  four_density         random  ...       2759.854641       1.557853\n",
              "2  four_density         random  ...       6145.179510       0.522650\n",
              "3  four_density         random  ...       6145.179510       0.522650\n",
              "4  four_density         random  ...       6145.179510       0.522650\n",
              "\n",
              "[5 rows x 14 columns]"
            ]
          },
          "metadata": {
            "tags": []
          },
          "execution_count": 62
        }
      ]
    },
    {
      "cell_type": "code",
      "metadata": {
        "colab": {
          "base_uri": "https://localhost:8080/",
          "height": 515
        },
        "id": "wxpzHiizOqSt",
        "outputId": "88c13269-357e-4c47-a936-77b79a3ab3e7"
      },
      "source": [
        "variable= \"error_cometido\"\n",
        "plt.figure(figsize=(10, 8))\n",
        "sns.barplot(y= variable, hue=\"model_name\", x= \"dataset_name\", data= data_extrinsecas)\n",
        "plt.title(f\"Comparación de {variable} por método de inicialización\")\n",
        "plt.show()"
      ],
      "execution_count": null,
      "outputs": [
        {
          "output_type": "display_data",
          "data": {
            "image/png": "[encoded data removed]",
            "text/plain": [
              "<Figure size 720x576 with 1 Axes>"
            ]
          },
          "metadata": {
            "tags": [],
            "needs_background": "light"
          }
        }
      ]
    },
    {
      "cell_type": "markdown",
      "metadata": {
        "id": "abK6zjzgTQGW"
      },
      "source": [
        "Se puede observar cómo para el dataset four_density, las dos inicializaciones de los papers convergen a clustering de error menor que la media de los errores cometidos por el método random.\n",
        "\n",
        "\n",
        "Cabe resaltar también cómo para el dataset iris el error cometido por los 3 métodos converge a 0. Indicando que este dataset es bien caracterizable por las formas esféricas de un k-means."
      ]
    },
    {
      "cell_type": "code",
      "metadata": {
        "colab": {
          "base_uri": "https://localhost:8080/",
          "height": 515
        },
        "id": "94wPGqZWMgmR",
        "outputId": "d018ce90-9062-4474-d421-aeb96c167b09"
      },
      "source": [
        "variable= \"pureza_agrupamiento\"\n",
        "plt.figure(figsize=(10, 8))\n",
        "sns.barplot(y= variable, hue=\"model_name\", x= \"dataset_name\", data= data_extrinsecas)\n",
        "plt.title(f\"Comparación de {variable} por método de inicialización\")\n",
        "plt.show()"
      ],
      "execution_count": null,
      "outputs": [
        {
          "output_type": "display_data",
          "data": {
            "image/png": "[encoded data removed]",
            "text/plain": [
              "<Figure size 720x576 with 1 Axes>"
            ]
          },
          "metadata": {
            "tags": [],
            "needs_background": "light"
          }
        }
      ]
    },
    {
      "cell_type": "markdown",
      "metadata": {
        "id": "HE6-KsASUHy_"
      },
      "source": [
        "Se puede observar cómo la medida de pureza del agrupamiento es muy similar independientemente del método de inicialización. \n",
        "\n",
        "Cabe resaltar que para el dataset de four_density se puede alcanzar una pureza más alta que para el dataset iris"
      ]
    },
    {
      "cell_type": "code",
      "metadata": {
        "colab": {
          "base_uri": "https://localhost:8080/",
          "height": 515
        },
        "id": "DFLii20dUG8R",
        "outputId": "5366f2a3-0b5a-449d-8549-cc609e312fc7"
      },
      "source": [
        "variable= \"f1_score\"\n",
        "plt.figure(figsize=(10, 8))\n",
        "sns.barplot(y= variable, hue=\"model_name\", x= \"dataset_name\", data= data_extrinsecas)\n",
        "plt.title(f\"Comparación de {variable} por método de inicialización\")\n",
        "plt.show()"
      ],
      "execution_count": null,
      "outputs": [
        {
          "output_type": "display_data",
          "data": {
            "image/png": "[encoded data removed]",
            "text/plain": [
              "<Figure size 720x576 with 1 Axes>"
            ]
          },
          "metadata": {
            "tags": [],
            "needs_background": "light"
          }
        }
      ]
    },
    {
      "cell_type": "markdown",
      "metadata": {
        "id": "uGm1hqMqUdg4"
      },
      "source": [
        "El F1_score muestra un comportamiento idéntico al de la métrica de pureza (excepto por la escala). \n",
        "\n",
        "Acá tampoco se observa una diferencia clara que se derive del método de inicialización para ningún dataset."
      ]
    },
    {
      "cell_type": "code",
      "metadata": {
        "id": "9dEHg2X2UbCh"
      },
      "source": [
        ""
      ],
      "execution_count": null,
      "outputs": []
    },
    {
      "cell_type": "code",
      "metadata": {
        "colab": {
          "base_uri": "https://localhost:8080/",
          "height": 1000
        },
        "id": "V5myxfeGTyiz",
        "outputId": "8e0a989d-5f30-45d2-c172-96790868cc27"
      },
      "source": [
        "variable= \"completeness_score\"\n",
        "plt.figure(figsize=(8, 5))\n",
        "sns.barplot(y= variable, hue=\"model_name\", x= \"dataset_name\", data= data_extrinsecas)\n",
        "plt.title(f\"Comparación de {variable} por método de inicialización\")\n",
        "plt.show()\n",
        "\n",
        "variable= \"homogeneity\"\n",
        "plt.figure(figsize=(8, 5))\n",
        "sns.barplot(y= variable, hue=\"model_name\", x= \"dataset_name\", data= data_extrinsecas)\n",
        "plt.title(f\"Comparación de {variable} por método de inicialización\")\n",
        "plt.show()\n",
        "\n",
        "variable= \"mutual_info\"\n",
        "plt.figure(figsize=(8, 5))\n",
        "sns.barplot(y= variable, hue=\"model_name\", x= \"dataset_name\", data= data_extrinsecas)\n",
        "plt.title(f\"Comparación de {variable} por método de inicialización\")\n",
        "plt.show()"
      ],
      "execution_count": null,
      "outputs": [
        {
          "output_type": "display_data",
          "data": {
            "image/png": "[encoded data removed]",
            "text/plain": [
              "<Figure size 576x360 with 1 Axes>"
            ]
          },
          "metadata": {
            "tags": [],
            "needs_background": "light"
          }
        },
        {
          "output_type": "display_data",
          "data": {
            "image/png": "[encoded data removed]",
            "text/plain": [
              "<Figure size 576x360 with 1 Axes>"
            ]
          },
          "metadata": {
            "tags": [],
            "needs_background": "light"
          }
        },
        {
          "output_type": "display_data",
          "data": {
            "image/png": "[encoded data removed]",
            "text/plain": [
              "<Figure size 576x360 with 1 Axes>"
            ]
          },
          "metadata": {
            "tags": [],
            "needs_background": "light"
          }
        }
      ]
    },
    {
      "cell_type": "markdown",
      "metadata": {
        "id": "aFuwAPxjWDED"
      },
      "source": [
        "Se puede observar cómo el comportamiento de F1_score y Pureza del agrupamiento, se replica para las métricas de completitud, homogeneidad e información mutua."
      ]
    },
    {
      "cell_type": "code",
      "metadata": {
        "id": "CEYMnsbDVjlN"
      },
      "source": [
        ""
      ],
      "execution_count": null,
      "outputs": []
    },
    {
      "cell_type": "markdown",
      "metadata": {
        "id": "GuPI7fgcWT3J"
      },
      "source": [
        "### Métricas intrínsecas\n",
        "Dado que estas métricas dependen sólo del agrupamiento como tal y no de la existencia de una variable objetivo categórica en el dataset, estas métricas se midieron para todos los conjuntos de datos"
      ]
    },
    {
      "cell_type": "code",
      "metadata": {
        "colab": {
          "base_uri": "https://localhost:8080/",
          "height": 515
        },
        "id": "qJjKa7J2Vjnx",
        "outputId": "0a3a1ec1-3ad6-4648-ceae-2180ebd0e31b"
      },
      "source": [
        "variable= \"silueta\"\n",
        "plt.figure(figsize=(10, 8))\n",
        "sns.barplot(y= variable, hue=\"model_name\", x= \"dataset_name\", data= metricas_df)\n",
        "plt.title(f\"Comparación de {variable} por método de inicialización\")\n",
        "plt.show()"
      ],
      "execution_count": null,
      "outputs": [
        {
          "output_type": "display_data",
          "data": {
            "image/png": "[encoded data removed]",
            "text/plain": [
              "<Figure size 720x576 with 1 Axes>"
            ]
          },
          "metadata": {
            "tags": [],
            "needs_background": "light"
          }
        }
      ]
    },
    {
      "cell_type": "markdown",
      "metadata": {
        "id": "pWdCaxeVXAho"
      },
      "source": [
        "Cabe resaltar cómo el método de inicialización 1, muestra ser igual o superior en \"silueta\" que el método random para todos los datasets. "
      ]
    },
    {
      "cell_type": "code",
      "metadata": {
        "id": "SoO2-RNRW-Jg"
      },
      "source": [
        ""
      ],
      "execution_count": null,
      "outputs": []
    },
    {
      "cell_type": "code",
      "metadata": {
        "colab": {
          "base_uri": "https://localhost:8080/",
          "height": 515
        },
        "id": "grIwuIe2WYDH",
        "outputId": "006ff0aa-124d-4deb-d6e3-91831c391aad"
      },
      "source": [
        "variable= \"calinski_harabasz\"\n",
        "plt.figure(figsize=(10, 8))\n",
        "sns.barplot(y= variable, hue=\"model_name\", x= \"dataset_name\", data= metricas_df)\n",
        "plt.title(f\"Comparación de {variable} por método de inicialización\")\n",
        "plt.show()"
      ],
      "execution_count": null,
      "outputs": [
        {
          "output_type": "display_data",
          "data": {
            "image/png": "[encoded data removed]",
            "text/plain": [
              "<Figure size 720x576 with 1 Axes>"
            ]
          },
          "metadata": {
            "tags": [],
            "needs_background": "light"
          }
        }
      ]
    },
    {
      "cell_type": "markdown",
      "metadata": {
        "id": "GE0ken8kXQhT"
      },
      "source": [
        "A pesar de la escala, la métrica de calinski harabasz muestra dar siempre superior o igual en el método del paper 1 que en el método random. \n",
        "Es un comportamiento idéntico (excepto por escala) del de la métrica de Silueta"
      ]
    },
    {
      "cell_type": "code",
      "metadata": {
        "id": "nGtoEUJXXMY7"
      },
      "source": [
        ""
      ],
      "execution_count": null,
      "outputs": []
    },
    {
      "cell_type": "code",
      "metadata": {
        "colab": {
          "base_uri": "https://localhost:8080/",
          "height": 515
        },
        "id": "vUiowpqNWuHx",
        "outputId": "ddcdd450-1899-4b3d-b63b-4b9227f5de2a"
      },
      "source": [
        "variable= \"davies_buildin\"\n",
        "plt.figure(figsize=(10, 8))\n",
        "sns.barplot(y= variable, hue=\"model_name\", x= \"dataset_name\", data= metricas_df)\n",
        "plt.title(f\"Comparación de {variable} por método de inicialización\")\n",
        "plt.show()"
      ],
      "execution_count": null,
      "outputs": [
        {
          "output_type": "display_data",
          "data": {
            "image/png": "[encoded data removed]",
            "text/plain": [
              "<Figure size 720x576 with 1 Axes>"
            ]
          },
          "metadata": {
            "tags": [],
            "needs_background": "light"
          }
        }
      ]
    },
    {
      "cell_type": "markdown",
      "metadata": {
        "id": "Xf6hZOhFXpxx"
      },
      "source": [
        "El método random siempre está rodeado de los resultados de los otros dos métodos. En este caso la métrica siempre es menor o igual para el método del paper 1 comparado con el resultado del método de inicialización random"
      ]
    },
    {
      "cell_type": "code",
      "metadata": {
        "id": "-gPs-mCVa6q4"
      },
      "source": [
        ""
      ],
      "execution_count": null,
      "outputs": []
    },
    {
      "cell_type": "markdown",
      "metadata": {
        "id": "1k25OVW_a7Qp"
      },
      "source": [
        "## Conclusiones"
      ]
    },
    {
      "cell_type": "markdown",
      "metadata": {
        "id": "XUk65nyfX99q"
      },
      "source": [
        "En este trabajo se compararon 3 distintos métodos de inicialización de los centroides del k-means, aplicados a 4 datasets disintos. \n",
        "\n",
        "Entre las conclusiones más relevantes quiero señalar:\n",
        "\n",
        "* Ningún método dominó completamente a otro en todos los datasets cuando de velocidad de convergencia hablamos. Se refuerza una idea empírica que evidenciamos en clase y es: cuando se trata de aprendizaje no supervisado, nada está escrito. Es cuestión de probar y probar hasta encontrar cuál es el mejor método para el dataset dado.\n",
        "\n",
        "* Las métricas extrínsecas dieron muy similares para todos los métodos, esto debido a que si bien la inicialización de los centros fue distinta, los cluster finales convergian a ser muy parecidos. \n",
        "\n",
        "* Se puede observar cómo en la mayoría de los casos, el método del paper 1 (Anand Sutariya1, Prof. Kiran Amin) resultó en mejores métricas extrínsecas que el método 2 y que la inicialización aleatoria.\n",
        "\n",
        "* Si bien se observó un muy buen desempeño en velocidad de convergencia, métricas extrínsecas y métricas intrínsecas del método de inicialización del paper 1, no creo que sea un método práctico de usar, pues requiere un cálculo de distancias de todos vs todos, lo cual es de orden O(n^2). Esto implica que para datasets grandes, este método sería inviable por la gran cantidad de operaciones que tendrá que hacer. "
      ]
    },
    {
      "cell_type": "code",
      "metadata": {
        "id": "RydHrenHa4JM"
      },
      "source": [
        ""
      ],
      "execution_count": null,
      "outputs": []
    },
    {
      "cell_type": "code",
      "metadata": {
        "id": "ZETRziMla4MF"
      },
      "source": [
        ""
      ],
      "execution_count": null,
      "outputs": []
    },
    {
      "cell_type": "code",
      "metadata": {
        "id": "waXxtRlOMzeu"
      },
      "source": [
        ""
      ],
      "execution_count": null,
      "outputs": []
    }
  ]
}